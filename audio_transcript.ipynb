{
 "cells": [
  {
   "cell_type": "code",
   "execution_count": 66,
   "metadata": {},
   "outputs": [
    {
     "data": {
      "application/javascript": "(function(root) {\n  function now() {\n    return new Date();\n  }\n\n  var force = true;\n  var py_version = '3.3.4'.replace('rc', '-rc.').replace('.dev', '-dev.');\n  var reloading = true;\n  var Bokeh = root.Bokeh;\n\n  if (typeof (root._bokeh_timeout) === \"undefined\" || force) {\n    root._bokeh_timeout = Date.now() + 5000;\n    root._bokeh_failed_load = false;\n  }\n\n  function run_callbacks() {\n    try {\n      root._bokeh_onload_callbacks.forEach(function(callback) {\n        if (callback != null)\n          callback();\n      });\n    } finally {\n      delete root._bokeh_onload_callbacks;\n    }\n    console.debug(\"Bokeh: all callbacks have finished\");\n  }\n\n  function load_libs(css_urls, js_urls, js_modules, js_exports, callback) {\n    if (css_urls == null) css_urls = [];\n    if (js_urls == null) js_urls = [];\n    if (js_modules == null) js_modules = [];\n    if (js_exports == null) js_exports = {};\n\n    root._bokeh_onload_callbacks.push(callback);\n\n    if (root._bokeh_is_loading > 0) {\n      console.debug(\"Bokeh: BokehJS is being loaded, scheduling callback at\", now());\n      return null;\n    }\n    if (js_urls.length === 0 && js_modules.length === 0 && Object.keys(js_exports).length === 0) {\n      run_callbacks();\n      return null;\n    }\n    if (!reloading) {\n      console.debug(\"Bokeh: BokehJS not loaded, scheduling load and callback at\", now());\n    }\n\n    function on_load() {\n      root._bokeh_is_loading--;\n      if (root._bokeh_is_loading === 0) {\n        console.debug(\"Bokeh: all BokehJS libraries/stylesheets loaded\");\n        run_callbacks()\n      }\n    }\n    window._bokeh_on_load = on_load\n\n    function on_error() {\n      console.error(\"failed to load \" + url);\n    }\n\n    var skip = [];\n    if (window.requirejs) {\n      window.requirejs.config({'packages': {}, 'paths': {'plotly': 'https://cdn.plot.ly/plotly-2.25.2.min', 'jspanel': 'https://cdn.jsdelivr.net/npm/jspanel4@4.12.0/dist/jspanel', 'jspanel-modal': 'https://cdn.jsdelivr.net/npm/jspanel4@4.12.0/dist/extensions/modal/jspanel.modal', 'jspanel-tooltip': 'https://cdn.jsdelivr.net/npm/jspanel4@4.12.0/dist/extensions/tooltip/jspanel.tooltip', 'jspanel-hint': 'https://cdn.jsdelivr.net/npm/jspanel4@4.12.0/dist/extensions/hint/jspanel.hint', 'jspanel-layout': 'https://cdn.jsdelivr.net/npm/jspanel4@4.12.0/dist/extensions/layout/jspanel.layout', 'jspanel-contextmenu': 'https://cdn.jsdelivr.net/npm/jspanel4@4.12.0/dist/extensions/contextmenu/jspanel.contextmenu', 'jspanel-dock': 'https://cdn.jsdelivr.net/npm/jspanel4@4.12.0/dist/extensions/dock/jspanel.dock', 'gridstack': 'https://cdn.jsdelivr.net/npm/gridstack@7.2.3/dist/gridstack-all', 'notyf': 'https://cdn.jsdelivr.net/npm/notyf@3/notyf.min'}, 'shim': {'jspanel': {'exports': 'jsPanel'}, 'gridstack': {'exports': 'GridStack'}}});\n      require([\"plotly\"], function(Plotly) {\n\twindow.Plotly = Plotly\n\ton_load()\n      })\n      require([\"jspanel\"], function(jsPanel) {\n\twindow.jsPanel = jsPanel\n\ton_load()\n      })\n      require([\"jspanel-modal\"], function() {\n\ton_load()\n      })\n      require([\"jspanel-tooltip\"], function() {\n\ton_load()\n      })\n      require([\"jspanel-hint\"], function() {\n\ton_load()\n      })\n      require([\"jspanel-layout\"], function() {\n\ton_load()\n      })\n      require([\"jspanel-contextmenu\"], function() {\n\ton_load()\n      })\n      require([\"jspanel-dock\"], function() {\n\ton_load()\n      })\n      require([\"gridstack\"], function(GridStack) {\n\twindow.GridStack = GridStack\n\ton_load()\n      })\n      require([\"notyf\"], function() {\n\ton_load()\n      })\n      root._bokeh_is_loading = css_urls.length + 10;\n    } else {\n      root._bokeh_is_loading = css_urls.length + js_urls.length + js_modules.length + Object.keys(js_exports).length;\n    }\n\n    var existing_stylesheets = []\n    var links = document.getElementsByTagName('link')\n    for (var i = 0; i < links.length; i++) {\n      var link = links[i]\n      if (link.href != null) {\n\texisting_stylesheets.push(link.href)\n      }\n    }\n    for (var i = 0; i < css_urls.length; i++) {\n      var url = css_urls[i];\n      if (existing_stylesheets.indexOf(url) !== -1) {\n\ton_load()\n\tcontinue;\n      }\n      const element = document.createElement(\"link\");\n      element.onload = on_load;\n      element.onerror = on_error;\n      element.rel = \"stylesheet\";\n      element.type = \"text/css\";\n      element.href = url;\n      console.debug(\"Bokeh: injecting link tag for BokehJS stylesheet: \", url);\n      document.body.appendChild(element);\n    }    if (((window['Plotly'] !== undefined) && (!(window['Plotly'] instanceof HTMLElement))) || window.requirejs) {\n      var urls = ['https://cdn.holoviz.org/panel/1.3.8/dist/bundled/plotlyplot/plotly-2.25.2.min.js'];\n      for (var i = 0; i < urls.length; i++) {\n        skip.push(urls[i])\n      }\n    }    if (((window['jsPanel'] !== undefined) && (!(window['jsPanel'] instanceof HTMLElement))) || window.requirejs) {\n      var urls = ['https://cdn.holoviz.org/panel/1.3.8/dist/bundled/floatpanel/jspanel4@4.12.0/dist/jspanel.js', 'https://cdn.holoviz.org/panel/1.3.8/dist/bundled/floatpanel/jspanel4@4.12.0/dist/extensions/modal/jspanel.modal.js', 'https://cdn.holoviz.org/panel/1.3.8/dist/bundled/floatpanel/jspanel4@4.12.0/dist/extensions/tooltip/jspanel.tooltip.js', 'https://cdn.holoviz.org/panel/1.3.8/dist/bundled/floatpanel/jspanel4@4.12.0/dist/extensions/hint/jspanel.hint.js', 'https://cdn.holoviz.org/panel/1.3.8/dist/bundled/floatpanel/jspanel4@4.12.0/dist/extensions/layout/jspanel.layout.js', 'https://cdn.holoviz.org/panel/1.3.8/dist/bundled/floatpanel/jspanel4@4.12.0/dist/extensions/contextmenu/jspanel.contextmenu.js', 'https://cdn.holoviz.org/panel/1.3.8/dist/bundled/floatpanel/jspanel4@4.12.0/dist/extensions/dock/jspanel.dock.js'];\n      for (var i = 0; i < urls.length; i++) {\n        skip.push(urls[i])\n      }\n    }    if (((window['GridStack'] !== undefined) && (!(window['GridStack'] instanceof HTMLElement))) || window.requirejs) {\n      var urls = ['https://cdn.holoviz.org/panel/1.3.8/dist/bundled/gridstack/gridstack@7.2.3/dist/gridstack-all.js'];\n      for (var i = 0; i < urls.length; i++) {\n        skip.push(urls[i])\n      }\n    }    if (((window['Notyf'] !== undefined) && (!(window['Notyf'] instanceof HTMLElement))) || window.requirejs) {\n      var urls = ['https://cdn.holoviz.org/panel/1.3.8/dist/bundled/notificationarea/notyf@3/notyf.min.js'];\n      for (var i = 0; i < urls.length; i++) {\n        skip.push(urls[i])\n      }\n    }    var existing_scripts = []\n    var scripts = document.getElementsByTagName('script')\n    for (var i = 0; i < scripts.length; i++) {\n      var script = scripts[i]\n      if (script.src != null) {\n\texisting_scripts.push(script.src)\n      }\n    }\n    for (var i = 0; i < js_urls.length; i++) {\n      var url = js_urls[i];\n      if (skip.indexOf(url) !== -1 || existing_scripts.indexOf(url) !== -1) {\n\tif (!window.requirejs) {\n\t  on_load();\n\t}\n\tcontinue;\n      }\n      var element = document.createElement('script');\n      element.onload = on_load;\n      element.onerror = on_error;\n      element.async = false;\n      element.src = url;\n      console.debug(\"Bokeh: injecting script tag for BokehJS library: \", url);\n      document.head.appendChild(element);\n    }\n    for (var i = 0; i < js_modules.length; i++) {\n      var url = js_modules[i];\n      if (skip.indexOf(url) !== -1 || existing_scripts.indexOf(url) !== -1) {\n\tif (!window.requirejs) {\n\t  on_load();\n\t}\n\tcontinue;\n      }\n      var element = document.createElement('script');\n      element.onload = on_load;\n      element.onerror = on_error;\n      element.async = false;\n      element.src = url;\n      element.type = \"module\";\n      console.debug(\"Bokeh: injecting script tag for BokehJS library: \", url);\n      document.head.appendChild(element);\n    }\n    for (const name in js_exports) {\n      var url = js_exports[name];\n      if (skip.indexOf(url) >= 0 || root[name] != null) {\n\tif (!window.requirejs) {\n\t  on_load();\n\t}\n\tcontinue;\n      }\n      var element = document.createElement('script');\n      element.onerror = on_error;\n      element.async = false;\n      element.type = \"module\";\n      console.debug(\"Bokeh: injecting script tag for BokehJS library: \", url);\n      element.textContent = `\n      import ${name} from \"${url}\"\n      window.${name} = ${name}\n      window._bokeh_on_load()\n      `\n      document.head.appendChild(element);\n    }\n    if (!js_urls.length && !js_modules.length) {\n      on_load()\n    }\n  };\n\n  function inject_raw_css(css) {\n    const element = document.createElement(\"style\");\n    element.appendChild(document.createTextNode(css));\n    document.body.appendChild(element);\n  }\n\n  var js_urls = [\"https://cdn.holoviz.org/panel/1.3.8/dist/bundled/jquery/jquery.slim.min.js\", \"https://cdn.holoviz.org/panel/1.3.8/dist/bundled/plotlyplot/plotly-2.25.2.min.js\"];\n  var js_modules = [];\n  var js_exports = {};\n  var css_urls = [];\n  var inline_js = [    function(Bokeh) {\n      Bokeh.set_log_level(\"info\");\n    },\nfunction(Bokeh) {} // ensure no trailing comma for IE\n  ];\n\n  function run_inline_js() {\n    if ((root.Bokeh !== undefined) || (force === true)) {\n      for (var i = 0; i < inline_js.length; i++) {\n\ttry {\n          inline_js[i].call(root, root.Bokeh);\n\t} catch(e) {\n\t  if (!reloading) {\n\t    throw e;\n\t  }\n\t}\n      }\n      // Cache old bokeh versions\n      if (Bokeh != undefined && !reloading) {\n\tvar NewBokeh = root.Bokeh;\n\tif (Bokeh.versions === undefined) {\n\t  Bokeh.versions = new Map();\n\t}\n\tif (NewBokeh.version !== Bokeh.version) {\n\t  Bokeh.versions.set(NewBokeh.version, NewBokeh)\n\t}\n\troot.Bokeh = Bokeh;\n      }} else if (Date.now() < root._bokeh_timeout) {\n      setTimeout(run_inline_js, 100);\n    } else if (!root._bokeh_failed_load) {\n      console.log(\"Bokeh: BokehJS failed to load within specified timeout.\");\n      root._bokeh_failed_load = true;\n    }\n    root._bokeh_is_initializing = false\n  }\n\n  function load_or_wait() {\n    // Implement a backoff loop that tries to ensure we do not load multiple\n    // versions of Bokeh and its dependencies at the same time.\n    // In recent versions we use the root._bokeh_is_initializing flag\n    // to determine whether there is an ongoing attempt to initialize\n    // bokeh, however for backward compatibility we also try to ensure\n    // that we do not start loading a newer (Panel>=1.0 and Bokeh>3) version\n    // before older versions are fully initialized.\n    if (root._bokeh_is_initializing && Date.now() > root._bokeh_timeout) {\n      root._bokeh_is_initializing = false;\n      root._bokeh_onload_callbacks = undefined;\n      console.log(\"Bokeh: BokehJS was loaded multiple times but one version failed to initialize.\");\n      load_or_wait();\n    } else if (root._bokeh_is_initializing || (typeof root._bokeh_is_initializing === \"undefined\" && root._bokeh_onload_callbacks !== undefined)) {\n      setTimeout(load_or_wait, 100);\n    } else {\n      root._bokeh_is_initializing = true\n      root._bokeh_onload_callbacks = []\n      var bokeh_loaded = Bokeh != null && (Bokeh.version === py_version || (Bokeh.versions !== undefined && Bokeh.versions.has(py_version)));\n      if (!reloading && !bokeh_loaded) {\n\troot.Bokeh = undefined;\n      }\n      load_libs(css_urls, js_urls, js_modules, js_exports, function() {\n\tconsole.debug(\"Bokeh: BokehJS plotting callback run at\", now());\n\trun_inline_js();\n      });\n    }\n  }\n  // Give older versions of the autoload script a head-start to ensure\n  // they initialize before we start loading newer version.\n  setTimeout(load_or_wait, 100)\n}(window));",
      "application/vnd.holoviews_load.v0+json": ""
     },
     "metadata": {},
     "output_type": "display_data"
    },
    {
     "data": {
      "application/javascript": "\nif ((window.PyViz === undefined) || (window.PyViz instanceof HTMLElement)) {\n  window.PyViz = {comms: {}, comm_status:{}, kernels:{}, receivers: {}, plot_index: []}\n}\n\n\n    function JupyterCommManager() {\n    }\n\n    JupyterCommManager.prototype.register_target = function(plot_id, comm_id, msg_handler) {\n      if (window.comm_manager || ((window.Jupyter !== undefined) && (Jupyter.notebook.kernel != null))) {\n        var comm_manager = window.comm_manager || Jupyter.notebook.kernel.comm_manager;\n        comm_manager.register_target(comm_id, function(comm) {\n          comm.on_msg(msg_handler);\n        });\n      } else if ((plot_id in window.PyViz.kernels) && (window.PyViz.kernels[plot_id])) {\n        window.PyViz.kernels[plot_id].registerCommTarget(comm_id, function(comm) {\n          comm.onMsg = msg_handler;\n        });\n      } else if (typeof google != 'undefined' && google.colab.kernel != null) {\n        google.colab.kernel.comms.registerTarget(comm_id, (comm) => {\n          var messages = comm.messages[Symbol.asyncIterator]();\n          function processIteratorResult(result) {\n            var message = result.value;\n            console.log(message)\n            var content = {data: message.data, comm_id};\n            var buffers = []\n            for (var buffer of message.buffers || []) {\n              buffers.push(new DataView(buffer))\n            }\n            var metadata = message.metadata || {};\n            var msg = {content, buffers, metadata}\n            msg_handler(msg);\n            return messages.next().then(processIteratorResult);\n          }\n          return messages.next().then(processIteratorResult);\n        })\n      }\n    }\n\n    JupyterCommManager.prototype.get_client_comm = function(plot_id, comm_id, msg_handler) {\n      if (comm_id in window.PyViz.comms) {\n        return window.PyViz.comms[comm_id];\n      } else if (window.comm_manager || ((window.Jupyter !== undefined) && (Jupyter.notebook.kernel != null))) {\n        var comm_manager = window.comm_manager || Jupyter.notebook.kernel.comm_manager;\n        var comm = comm_manager.new_comm(comm_id, {}, {}, {}, comm_id);\n        if (msg_handler) {\n          comm.on_msg(msg_handler);\n        }\n      } else if ((plot_id in window.PyViz.kernels) && (window.PyViz.kernels[plot_id])) {\n        var comm = window.PyViz.kernels[plot_id].connectToComm(comm_id);\n        comm.open();\n        if (msg_handler) {\n          comm.onMsg = msg_handler;\n        }\n      } else if (typeof google != 'undefined' && google.colab.kernel != null) {\n        var comm_promise = google.colab.kernel.comms.open(comm_id)\n        comm_promise.then((comm) => {\n          window.PyViz.comms[comm_id] = comm;\n          if (msg_handler) {\n            var messages = comm.messages[Symbol.asyncIterator]();\n            function processIteratorResult(result) {\n              var message = result.value;\n              var content = {data: message.data};\n              var metadata = message.metadata || {comm_id};\n              var msg = {content, metadata}\n              msg_handler(msg);\n              return messages.next().then(processIteratorResult);\n            }\n            return messages.next().then(processIteratorResult);\n          }\n        }) \n        var sendClosure = (data, metadata, buffers, disposeOnDone) => {\n          return comm_promise.then((comm) => {\n            comm.send(data, metadata, buffers, disposeOnDone);\n          });\n        };\n        var comm = {\n          send: sendClosure\n        };\n      }\n      window.PyViz.comms[comm_id] = comm;\n      return comm;\n    }\n    window.PyViz.comm_manager = new JupyterCommManager();\n    \n\n\nvar JS_MIME_TYPE = 'application/javascript';\nvar HTML_MIME_TYPE = 'text/html';\nvar EXEC_MIME_TYPE = 'application/vnd.holoviews_exec.v0+json';\nvar CLASS_NAME = 'output';\n\n/**\n * Render data to the DOM node\n */\nfunction render(props, node) {\n  var div = document.createElement(\"div\");\n  var script = document.createElement(\"script\");\n  node.appendChild(div);\n  node.appendChild(script);\n}\n\n/**\n * Handle when a new output is added\n */\nfunction handle_add_output(event, handle) {\n  var output_area = handle.output_area;\n  var output = handle.output;\n  if ((output.data == undefined) || (!output.data.hasOwnProperty(EXEC_MIME_TYPE))) {\n    return\n  }\n  var id = output.metadata[EXEC_MIME_TYPE][\"id\"];\n  var toinsert = output_area.element.find(\".\" + CLASS_NAME.split(' ')[0]);\n  if (id !== undefined) {\n    var nchildren = toinsert.length;\n    var html_node = toinsert[nchildren-1].children[0];\n    html_node.innerHTML = output.data[HTML_MIME_TYPE];\n    var scripts = [];\n    var nodelist = html_node.querySelectorAll(\"script\");\n    for (var i in nodelist) {\n      if (nodelist.hasOwnProperty(i)) {\n        scripts.push(nodelist[i])\n      }\n    }\n\n    scripts.forEach( function (oldScript) {\n      var newScript = document.createElement(\"script\");\n      var attrs = [];\n      var nodemap = oldScript.attributes;\n      for (var j in nodemap) {\n        if (nodemap.hasOwnProperty(j)) {\n          attrs.push(nodemap[j])\n        }\n      }\n      attrs.forEach(function(attr) { newScript.setAttribute(attr.name, attr.value) });\n      newScript.appendChild(document.createTextNode(oldScript.innerHTML));\n      oldScript.parentNode.replaceChild(newScript, oldScript);\n    });\n    if (JS_MIME_TYPE in output.data) {\n      toinsert[nchildren-1].children[1].textContent = output.data[JS_MIME_TYPE];\n    }\n    output_area._hv_plot_id = id;\n    if ((window.Bokeh !== undefined) && (id in Bokeh.index)) {\n      window.PyViz.plot_index[id] = Bokeh.index[id];\n    } else {\n      window.PyViz.plot_index[id] = null;\n    }\n  } else if (output.metadata[EXEC_MIME_TYPE][\"server_id\"] !== undefined) {\n    var bk_div = document.createElement(\"div\");\n    bk_div.innerHTML = output.data[HTML_MIME_TYPE];\n    var script_attrs = bk_div.children[0].attributes;\n    for (var i = 0; i < script_attrs.length; i++) {\n      toinsert[toinsert.length - 1].childNodes[1].setAttribute(script_attrs[i].name, script_attrs[i].value);\n    }\n    // store reference to server id on output_area\n    output_area._bokeh_server_id = output.metadata[EXEC_MIME_TYPE][\"server_id\"];\n  }\n}\n\n/**\n * Handle when an output is cleared or removed\n */\nfunction handle_clear_output(event, handle) {\n  var id = handle.cell.output_area._hv_plot_id;\n  var server_id = handle.cell.output_area._bokeh_server_id;\n  if (((id === undefined) || !(id in PyViz.plot_index)) && (server_id !== undefined)) { return; }\n  var comm = window.PyViz.comm_manager.get_client_comm(\"hv-extension-comm\", \"hv-extension-comm\", function () {});\n  if (server_id !== null) {\n    comm.send({event_type: 'server_delete', 'id': server_id});\n    return;\n  } else if (comm !== null) {\n    comm.send({event_type: 'delete', 'id': id});\n  }\n  delete PyViz.plot_index[id];\n  if ((window.Bokeh !== undefined) & (id in window.Bokeh.index)) {\n    var doc = window.Bokeh.index[id].model.document\n    doc.clear();\n    const i = window.Bokeh.documents.indexOf(doc);\n    if (i > -1) {\n      window.Bokeh.documents.splice(i, 1);\n    }\n  }\n}\n\n/**\n * Handle kernel restart event\n */\nfunction handle_kernel_cleanup(event, handle) {\n  delete PyViz.comms[\"hv-extension-comm\"];\n  window.PyViz.plot_index = {}\n}\n\n/**\n * Handle update_display_data messages\n */\nfunction handle_update_output(event, handle) {\n  handle_clear_output(event, {cell: {output_area: handle.output_area}})\n  handle_add_output(event, handle)\n}\n\nfunction register_renderer(events, OutputArea) {\n  function append_mime(data, metadata, element) {\n    // create a DOM node to render to\n    var toinsert = this.create_output_subarea(\n    metadata,\n    CLASS_NAME,\n    EXEC_MIME_TYPE\n    );\n    this.keyboard_manager.register_events(toinsert);\n    // Render to node\n    var props = {data: data, metadata: metadata[EXEC_MIME_TYPE]};\n    render(props, toinsert[0]);\n    element.append(toinsert);\n    return toinsert\n  }\n\n  events.on('output_added.OutputArea', handle_add_output);\n  events.on('output_updated.OutputArea', handle_update_output);\n  events.on('clear_output.CodeCell', handle_clear_output);\n  events.on('delete.Cell', handle_clear_output);\n  events.on('kernel_ready.Kernel', handle_kernel_cleanup);\n\n  OutputArea.prototype.register_mime_type(EXEC_MIME_TYPE, append_mime, {\n    safe: true,\n    index: 0\n  });\n}\n\nif (window.Jupyter !== undefined) {\n  try {\n    var events = require('base/js/events');\n    var OutputArea = require('notebook/js/outputarea').OutputArea;\n    if (OutputArea.prototype.mime_types().indexOf(EXEC_MIME_TYPE) == -1) {\n      register_renderer(events, OutputArea);\n    }\n  } catch(err) {\n  }\n}\n",
      "application/vnd.holoviews_load.v0+json": ""
     },
     "metadata": {},
     "output_type": "display_data"
    },
    {
     "data": {
      "text/html": [
       "<style>*[data-root-id],\n",
       "*[data-root-id] > * {\n",
       "  box-sizing: border-box;\n",
       "  font-family: var(--jp-ui-font-family);\n",
       "  font-size: var(--jp-ui-font-size1);\n",
       "  color: var(--vscode-editor-foreground, var(--jp-ui-font-color1));\n",
       "}\n",
       "\n",
       "/* Override VSCode background color */\n",
       ".cell-output-ipywidget-background:has(\n",
       "    > .cell-output-ipywidget-background > .lm-Widget > *[data-root-id]\n",
       "  ),\n",
       ".cell-output-ipywidget-background:has(> .lm-Widget > *[data-root-id]) {\n",
       "  background-color: transparent !important;\n",
       "}\n",
       "</style>"
      ]
     },
     "metadata": {},
     "output_type": "display_data"
    },
    {
     "data": {
      "application/vnd.holoviews_exec.v0+json": "",
      "text/html": [
       "<div id='08be3791-c1ee-4a39-a9f7-c9808b760854'>\n",
       "  <div id=\"c14c72b7-db61-455d-8501-a2193969da7c\" data-root-id=\"08be3791-c1ee-4a39-a9f7-c9808b760854\" style=\"display: contents;\"></div>\n",
       "</div>\n",
       "<script type=\"application/javascript\">(function(root) {\n",
       "  var docs_json = {\"a6308369-d85d-44a3-b64b-5aa6ef909335\":{\"version\":\"3.3.4\",\"title\":\"Bokeh Application\",\"roots\":[{\"type\":\"object\",\"name\":\"panel.models.browser.BrowserInfo\",\"id\":\"08be3791-c1ee-4a39-a9f7-c9808b760854\"},{\"type\":\"object\",\"name\":\"panel.models.comm_manager.CommManager\",\"id\":\"35a68034-d545-483f-9ca3-e71442dd8f69\",\"attributes\":{\"plot_id\":\"08be3791-c1ee-4a39-a9f7-c9808b760854\",\"comm_id\":\"c477ed3f0d164beaaa3c1f1606f2668d\",\"client_comm_id\":\"7e4f4f10e2964a09ad032a0c7a1824f5\"}}],\"defs\":[{\"type\":\"model\",\"name\":\"ReactiveHTML1\"},{\"type\":\"model\",\"name\":\"FlexBox1\",\"properties\":[{\"name\":\"align_content\",\"kind\":\"Any\",\"default\":\"flex-start\"},{\"name\":\"align_items\",\"kind\":\"Any\",\"default\":\"flex-start\"},{\"name\":\"flex_direction\",\"kind\":\"Any\",\"default\":\"row\"},{\"name\":\"flex_wrap\",\"kind\":\"Any\",\"default\":\"wrap\"},{\"name\":\"justify_content\",\"kind\":\"Any\",\"default\":\"flex-start\"}]},{\"type\":\"model\",\"name\":\"FloatPanel1\",\"properties\":[{\"name\":\"config\",\"kind\":\"Any\",\"default\":{\"type\":\"map\"}},{\"name\":\"contained\",\"kind\":\"Any\",\"default\":true},{\"name\":\"position\",\"kind\":\"Any\",\"default\":\"right-top\"},{\"name\":\"offsetx\",\"kind\":\"Any\",\"default\":null},{\"name\":\"offsety\",\"kind\":\"Any\",\"default\":null},{\"name\":\"theme\",\"kind\":\"Any\",\"default\":\"primary\"},{\"name\":\"status\",\"kind\":\"Any\",\"default\":\"normalized\"}]},{\"type\":\"model\",\"name\":\"GridStack1\",\"properties\":[{\"name\":\"mode\",\"kind\":\"Any\",\"default\":\"warn\"},{\"name\":\"ncols\",\"kind\":\"Any\",\"default\":null},{\"name\":\"nrows\",\"kind\":\"Any\",\"default\":null},{\"name\":\"allow_resize\",\"kind\":\"Any\",\"default\":true},{\"name\":\"allow_drag\",\"kind\":\"Any\",\"default\":true},{\"name\":\"state\",\"kind\":\"Any\",\"default\":[]}]},{\"type\":\"model\",\"name\":\"drag1\",\"properties\":[{\"name\":\"slider_width\",\"kind\":\"Any\",\"default\":5},{\"name\":\"slider_color\",\"kind\":\"Any\",\"default\":\"black\"},{\"name\":\"value\",\"kind\":\"Any\",\"default\":50}]},{\"type\":\"model\",\"name\":\"click1\",\"properties\":[{\"name\":\"terminal_output\",\"kind\":\"Any\",\"default\":\"\"},{\"name\":\"debug_name\",\"kind\":\"Any\",\"default\":\"\"},{\"name\":\"clears\",\"kind\":\"Any\",\"default\":0}]},{\"type\":\"model\",\"name\":\"copy_to_clipboard1\",\"properties\":[{\"name\":\"fill\",\"kind\":\"Any\",\"default\":\"none\"},{\"name\":\"value\",\"kind\":\"Any\",\"default\":null}]},{\"type\":\"model\",\"name\":\"FastWrapper1\",\"properties\":[{\"name\":\"object\",\"kind\":\"Any\",\"default\":null},{\"name\":\"style\",\"kind\":\"Any\",\"default\":null}]},{\"type\":\"model\",\"name\":\"NotificationAreaBase1\",\"properties\":[{\"name\":\"js_events\",\"kind\":\"Any\",\"default\":{\"type\":\"map\"}},{\"name\":\"position\",\"kind\":\"Any\",\"default\":\"bottom-right\"},{\"name\":\"_clear\",\"kind\":\"Any\",\"default\":0}]},{\"type\":\"model\",\"name\":\"NotificationArea1\",\"properties\":[{\"name\":\"js_events\",\"kind\":\"Any\",\"default\":{\"type\":\"map\"}},{\"name\":\"notifications\",\"kind\":\"Any\",\"default\":[]},{\"name\":\"position\",\"kind\":\"Any\",\"default\":\"bottom-right\"},{\"name\":\"_clear\",\"kind\":\"Any\",\"default\":0},{\"name\":\"types\",\"kind\":\"Any\",\"default\":[{\"type\":\"map\",\"entries\":[[\"type\",\"warning\"],[\"background\",\"#ffc107\"],[\"icon\",{\"type\":\"map\",\"entries\":[[\"className\",\"fas fa-exclamation-triangle\"],[\"tagName\",\"i\"],[\"color\",\"white\"]]}]]},{\"type\":\"map\",\"entries\":[[\"type\",\"info\"],[\"background\",\"#007bff\"],[\"icon\",{\"type\":\"map\",\"entries\":[[\"className\",\"fas fa-info-circle\"],[\"tagName\",\"i\"],[\"color\",\"white\"]]}]]}]}]},{\"type\":\"model\",\"name\":\"Notification\",\"properties\":[{\"name\":\"background\",\"kind\":\"Any\",\"default\":null},{\"name\":\"duration\",\"kind\":\"Any\",\"default\":3000},{\"name\":\"icon\",\"kind\":\"Any\",\"default\":null},{\"name\":\"message\",\"kind\":\"Any\",\"default\":\"\"},{\"name\":\"notification_type\",\"kind\":\"Any\",\"default\":null},{\"name\":\"_destroyed\",\"kind\":\"Any\",\"default\":false}]},{\"type\":\"model\",\"name\":\"TemplateActions1\",\"properties\":[{\"name\":\"open_modal\",\"kind\":\"Any\",\"default\":0},{\"name\":\"close_modal\",\"kind\":\"Any\",\"default\":0}]},{\"type\":\"model\",\"name\":\"BootstrapTemplateActions1\",\"properties\":[{\"name\":\"open_modal\",\"kind\":\"Any\",\"default\":0},{\"name\":\"close_modal\",\"kind\":\"Any\",\"default\":0}]},{\"type\":\"model\",\"name\":\"MaterialTemplateActions1\",\"properties\":[{\"name\":\"open_modal\",\"kind\":\"Any\",\"default\":0},{\"name\":\"close_modal\",\"kind\":\"Any\",\"default\":0}]}]}};\n",
       "  var render_items = [{\"docid\":\"a6308369-d85d-44a3-b64b-5aa6ef909335\",\"roots\":{\"08be3791-c1ee-4a39-a9f7-c9808b760854\":\"c14c72b7-db61-455d-8501-a2193969da7c\"},\"root_ids\":[\"08be3791-c1ee-4a39-a9f7-c9808b760854\"]}];\n",
       "  var docs = Object.values(docs_json)\n",
       "  if (!docs) {\n",
       "    return\n",
       "  }\n",
       "  const py_version = docs[0].version.replace('rc', '-rc.').replace('.dev', '-dev.')\n",
       "  function embed_document(root) {\n",
       "    var Bokeh = get_bokeh(root)\n",
       "    Bokeh.embed.embed_items_notebook(docs_json, render_items);\n",
       "    for (const render_item of render_items) {\n",
       "      for (const root_id of render_item.root_ids) {\n",
       "\tconst id_el = document.getElementById(root_id)\n",
       "\tif (id_el.children.length && (id_el.children[0].className === 'bk-root')) {\n",
       "\t  const root_el = id_el.children[0]\n",
       "\t  root_el.id = root_el.id + '-rendered'\n",
       "\t}\n",
       "      }\n",
       "    }\n",
       "  }\n",
       "  function get_bokeh(root) {\n",
       "    if (root.Bokeh === undefined) {\n",
       "      return null\n",
       "    } else if (root.Bokeh.version !== py_version) {\n",
       "      if (root.Bokeh.versions === undefined || !root.Bokeh.versions.has(py_version)) {\n",
       "\treturn null\n",
       "      }\n",
       "      return root.Bokeh.versions.get(py_version);\n",
       "    } else if (root.Bokeh.version === py_version) {\n",
       "      return root.Bokeh\n",
       "    }\n",
       "    return null\n",
       "  }\n",
       "  function is_loaded(root) {\n",
       "    var Bokeh = get_bokeh(root)\n",
       "    return (Bokeh != null && Bokeh.Panel !== undefined)\n",
       "  }\n",
       "  if (is_loaded(root)) {\n",
       "    embed_document(root);\n",
       "  } else {\n",
       "    var attempts = 0;\n",
       "    var timer = setInterval(function(root) {\n",
       "      if (is_loaded(root)) {\n",
       "        clearInterval(timer);\n",
       "        embed_document(root);\n",
       "      } else if (document.readyState == \"complete\") {\n",
       "        attempts++;\n",
       "        if (attempts > 200) {\n",
       "          clearInterval(timer);\n",
       "\t  var Bokeh = get_bokeh(root)\n",
       "\t  if (Bokeh == null || Bokeh.Panel == null) {\n",
       "            console.warn(\"Panel: ERROR: Unable to run Panel code because Bokeh or Panel library is missing\");\n",
       "\t  } else {\n",
       "\t    console.warn(\"Panel: WARNING: Attempting to render but not all required libraries could be resolved.\")\n",
       "\t    embed_document(root)\n",
       "\t  }\n",
       "        }\n",
       "      }\n",
       "    }, 25, root)\n",
       "  }\n",
       "})(window);</script>"
      ]
     },
     "metadata": {
      "application/vnd.holoviews_exec.v0+json": {
       "id": "08be3791-c1ee-4a39-a9f7-c9808b760854"
      }
     },
     "output_type": "display_data"
    }
   ],
   "source": [
    "import requests\n",
    "from IPython.display import JSON\n",
    "import pandas as pd\n",
    "import numpy as np \n",
    "import time\n",
    "\n",
    "# Visualization\n",
    "from wordcloud import WordCloud, STOPWORDS\n",
    "import plotly.express as px\n",
    "\n",
    "# Panel/hvplot (holoviz)\n",
    "import panel as pn\n",
    "pn.extension()\n",
    "import param\n",
    "import hvplot.pandas\n",
    "\n",
    "# Others\n",
    "import pickle\n",
    "from io import StringIO"
   ]
  },
  {
   "cell_type": "code",
   "execution_count": 67,
   "metadata": {},
   "outputs": [],
   "source": [
    "# import keys using dotenv\n",
    "import os\n",
    "from dotenv import load_dotenv\n",
    "\n",
    "# ID = os.getenv('API_KEY')\n",
    "\n",
    "# def configure():\n",
    "   # load_dotenv()\n",
    "   \n",
    "API_KEY = os.getenv('API_KEY')"
   ]
  },
  {
   "cell_type": "markdown",
   "metadata": {},
   "source": [
    "### Get audio transcriptrion with AssemlyAI"
   ]
  },
  {
   "cell_type": "code",
   "execution_count": 68,
   "metadata": {},
   "outputs": [
    {
     "name": "stdout",
     "output_type": "stream",
     "text": [
      "{'id': '3280590c-f50b-4b39-88b6-1e28690e10ca', 'language_model': 'assemblyai_default', 'acoustic_model': 'assemblyai_default', 'language_code': 'en_us', 'status': 'queued', 'audio_url': 'https://github.com/thu-vu92/audio_analyzer_assemblyai/blob/main/How_I_Would_Learn_to_Code.mp3?raw=true', 'text': None, 'words': None, 'utterances': None, 'confidence': None, 'audio_duration': None, 'punctuate': True, 'format_text': True, 'dual_channel': None, 'webhook_url': None, 'webhook_status_code': None, 'webhook_auth': False, 'webhook_auth_header_name': None, 'speed_boost': False, 'auto_highlights_result': None, 'auto_highlights': True, 'audio_start_from': None, 'audio_end_at': None, 'word_boost': [], 'boost_param': None, 'filter_profanity': False, 'redact_pii': False, 'redact_pii_audio': False, 'redact_pii_audio_quality': None, 'redact_pii_policies': None, 'redact_pii_sub': None, 'speaker_labels': False, 'content_safety': False, 'iab_categories': True, 'content_safety_labels': {}, 'iab_categories_result': {}, 'language_detection': False, 'custom_spelling': None, 'throttled': None, 'auto_chapters': True, 'summarization': False, 'summary_type': None, 'summary_model': None, 'custom_topics': False, 'topics': [], 'speech_threshold': None, 'speech_model': None, 'chapters': None, 'disfluencies': False, 'entity_detection': False, 'entities': None, 'speakers_expected': None, 'summary': None, 'sentiment_analysis': True, 'sentiment_analysis_results': None}\n"
     ]
    }
   ],
   "source": [
    "# Submitting Files for Transcription\n",
    "import requests\n",
    "endpoint = \"https://api.assemblyai.com/v2/transcript\"\n",
    "json = {\n",
    "    \"audio_url\": \"https://github.com/thu-vu92/audio_analyzer_assemblyai/blob/main/How_I_Would_Learn_to_Code.mp3?raw=true\",\n",
    "    \"auto_highlights\": True,\n",
    "    \"sentiment_analysis\": True,\n",
    "    \"auto_chapters\": True,\n",
    "    \"iab_categories\": True,\n",
    "}\n",
    "headers = {\n",
    "    \"authorization\": API_KEY,\n",
    "    \"content-type\": \"application/json\"\n",
    "}\n",
    "response = requests.post(endpoint, json=json, headers=headers)\n",
    "print(response.json())"
   ]
  },
  {
   "cell_type": "code",
   "execution_count": 76,
   "metadata": {},
   "outputs": [
    {
     "name": "stdout",
     "output_type": "stream",
     "text": [
      "{'id': '3280590c-f50b-4b39-88b6-1e28690e10ca', 'language_model': 'assemblyai_default', 'acoustic_model': 'assemblyai_default', 'language_code': 'en_us', 'status': 'completed', 'audio_url': 'https://github.com/thu-vu92/audio_analyzer_assemblyai/blob/main/How_I_Would_Learn_to_Code.mp3?raw=true', 'text': \"I recently got an amazing opportunity. I've been learning jujitsu and a friend offered to coach me in exchange for teaching him how to code. At this point in my life where I'm trying to improve my jujitsu as quickly as possible, this was an incredible trade for me. In my personal opinion. I was all for it until I had to think about how I'd actually go about teaching someone how to code. Starting from nothing, I quickly realized that this was going to be a lot harder than I thought. After all, it's been almost ten years since I wrote my very first line of code. That's a pretty long time. Now, this video is about the very specific and detailed plan that I wrote for my friend to teach me the basics of coding for data science. Since I did all the work for him, I figured I might as well share the details with you as well here. There have been plenty of other great videos similar to this about how to start coding, and I've linked many of them in the description. Again, those are great, but I think this is a bit different because it's more focused on coding for data and it uses a very specific real world case study. At the end, I also highlight the three most important things a new programmer should know, so you definitely want to stick around for that. Let's start with the language that we should start learning. I know if you're working with data, you generally have two good choices. They would either start with Python or R. Let's quickly compare the two languages. Data science style when looking at the stack overflow developer survey, we find that about 48% of respondents use Python, while only about 5% use r. In industry, Python is a far more common language. Let's now look more specifically at data scientists, not just all stack overflow users who come from a variety of backgrounds on Kaggle, my favorite platform for data science learning and projects, we can see that around 84.2% of respondents use Python, while only 20.5% use r. Since these add up to more than 100%, we can assume that some data scientists are using both languages. Finally, let's look at these two languages over time. We can see here. From 2020 to 2021, Python has gained an adoption, while R usage has seen some attrition. To me, this is a no brainer. I recommended my friend to start learning Python first. That language is more popular and it's continuing to grow. This isn't to say r is bad, it's just to say that I think Python is growing and will be a more valuable skill to have for the job market in general. I also personally find it a bit more intuitive and flexible than R. Now that we've chosen our language as Python, what coding skills should my friend learn first? Should he focus on variables, logic functions, algorithms? Classes? My mind was absolutely spinning when I first addressed this. It took me a second, but I had this weird, chaotic flashback to my first days of learning programming myself. I didn't even know where to start with getting Python on my own computer. I just now got excited about teaching the functional part of programming, and I completely forgot about the basics of setting up your environment for success. The next thing I did was give my friend some of my favorite resources on choosing an environment and getting the right version of Python on his computer. Honestly, I was a bit torn on this too. So, for example, what IDE should he use? Does he even know what IDE stands for? For those who don't know and who are new, IDE stands for integrated development environment. So this is essentially just the text editor you use to write your code. If you were writing an essay, you could choose to use Microsoft Word. You could use Google Docs, you could use notepad, or maybe even just straight up pen and paper, just like there are these different mediums for you to write your last minute paper. Data scientists and software engineers need places to write their code. These places are called ides, and just like Microsoft Word has spell track and formatting to make sure that you don't make grammatical errors, many ides help you to make sure that you have proper syntax in your code. In theory, technically Microsoft Word would be considered an IDE, but I definitely don't recommend using it as such unless you're Juma tech. This is a list of the most commonly used ides in the data domain, and as you can see, common ides for Python are vs. Code, Jupyter, notebook, pycharm, and spider. Before anything else, I wanted to give him a decent understanding about how the development environments work before we picked one. As I mentioned, this is something that I was totally confused about when I started. When I learned to code, I was using Python and I was using an ide called idle. So idle was great for learning, but I've literally never once touched it since, and I don't use it on any data projects in any of my work. I wanted to make sure that my friend was using something that would be representative of what he might see in the real world, what people actually use. For this specific friend, I recommended that he start learning the basics with this video from Freecodecamp. I've linked it and all other resources in the description. So in the video they show you how to set up the Pycharm environment and get comfortable using that. I think Pycharm is solid, and if you get familiar with that, you can easily pick up the s code, Jupyter notebook or Spyder pretty quickly. Truthfully, I don't think that the ide that you start with really matters that much. What's more important is that you're using one that people who actually write Python code into production are using. Okay, now on to the coding basics. Surprisingly, I think this might be one of the simplest parts of this entire process. You see, there's a common misconception that coding is trying to trick you. There's this conspiracy that learning to code is supposed to be really hard and very scary. I would argue that it's almost the opposite. Coding languages, particularly Python, they're designed to be as easy to use as possible while creating good results. So if you change your perspective to look at them as intuitive, coding becomes significantly more fun and stressfree. This isn't to say that you won't get stuck, it's just to say that when you do get stuck, there's almost always a logical reason for it and a logical solution to resolve your problems. Keeping with this theme of simplicity, at the most basic level, beginner coding can be broken down into seven concepts. All of the resources that I've linked in the description cover these topics, but I'm going to give you a very, very high level overview here. The first one we start with is data types. So in Python you can work with numbers, you can work with text, you can work with booleans, you can work with lists or a host of different data structures. It's important to get a good understanding or a fundamental understanding of these first next, I think it makes sense to get familiar with how variables work. This can vary by language, so you need to make sure you know how to assign and change variables. In Python, specifically, after variables, you should look into how logical operators work. These are very handy in your first few projects. If else statements are probably the most important one, but you can definitely find use cases for the others, especially if you're working with data. The fourth thing you need to understand is how loops work. So one thing computers are really, really great at is doing a simple task over and over again. You'd be surprised at how useful these can be for your programming future. After that, you should learn about functions. So this sets the foundation for almost everything you do on your programming journey. Functions allow you to encapsulate code and reuse it. If you really think about it, good coding is about making as many reusable bits as possible, and these functions are where that really begins. At this point, you have a pretty good understanding of the key building blocks of Python. You should now learn a bit more about how some of the basic data structures work. I recommend taking a deeper dive into lists, dictionaries as well as tuples. This will set the foundation for much of your data work later on. Finally, you should start learning to work with libraries. So the most important ones for data are pandas, numpy, Scikitlearn and Matplotlib, and these give you additional tools to analyze, visualize and manipulate data. Pandas and Numpy also introduce some new data structures like arrays, series and data frames. So if you have an understanding of how the more basic data structures work in python, you should be able to pick these up relatively quickly. And that's it. With those seven things, you have the basics of coding that you'll need for starting to work with data. If you're watching this and you're a software engineer, you probably think I left something important out. What I've purposely omitted from this list is an explanation of classes. So classes are the foundation of object oriented programming, and objectoriented programming is a programming model that organizes code around objects rather than functions or logic. Object oriented programming is incredibly powerful, but honestly, it isn't very relevant for the beginner stages of working with data. It is something you should absolutely explore on your own after you've learned these other concepts well in the description, I've linked a few great resources for learning all of the concepts, including the exact one from Freecodecamp that I gave my friend. Most of them are completely free, but I have also included my discount link for the course on 365 data science. So if you're looking for a resource just to take you past the more basic coding and more towards tangible data science skills, I would recommend checking that out. One thing that I love about many of the courses that I've linked is that they have these little mini projects baked into the coursework. I think project based learning is the single most effective way to learn technical concepts. After first getting a basic foundation, I highly encourage you to think about how you can use code to build things that would be useful to you. So for my friend, the first project I'm having him do is create a jujitsu drill randomizer using python. So for training anything, it's important to reinforce your skills, but it can get boring. Working on the same basic drills every day. I'm having him make a program that essentially randomly selects two to three drills that we should work on during our sessions from a larger list. This is a simple project, but it's something that's directly relevant and useful to our work and our jujitsu training. With that in mind, I'd love for you to comment below with a Python project that you'd like to do, and we'll all hold each other accountable. Okay, so now that you've learned the basics of Python, now what? If you're interested in learning more about data, I highly recommend that you do a data related project. The single best place for this is kaggle.com, which I've mentioned before. If that's a bit too intimidating, you can follow along on one of the projects that I've done, or one of the thousands of projects that other people have worked on on the Kaggle platform. Realistically, many people lose steam at this step. They go through and see the great work that other people have done, and they get discouraged again. Honestly, I remember feeling this too. What I recommend doing is going through some of the basic notebooks, like the Titanic data set, and just copying the code, running it on your own computer line by line. Many people think that this is cheating, but it's actually a great way to learn. Even better, when you run it, make some changes to the code and see what happens. Maybe you should try changing like the colors on a graph from blue to red, or try to make a line thicker on one of the graphs. Just simple things like that help you iterate and improve. So remember when we talked about ides earlier and I'd mentioned Jupyter notebook? Kaggle uses something similar to that that lets you work online. This is great and free compute power if you have limited resources at home. So if you want to work with data on your laptop or desktop, I recommend downloading anaconda. Anaconda is a software package that lumps together all of the relevant Python libraries and ides for data science in one go. So you can check out my video for how to install it, which I've linked above and in the description. Finally, I have three tips to send you on your way. These are probably the most important things that a new coder can learn, so the first one is to use Google and stack overflow. If you have a question, it's almost guaranteed that someone has asked it before. On the Internet, getting good at finding answers on your own via search might be the single most important skill of a data scientist or a software engineer that they use every single day. The second is to use errors so your code will not run, it'll break, and you'll be sad. Don't just wallow in yourself pity. Read the error messages. They'll tell you something about what's wrong. Also, Google the errors and this will save you a lot of time and headache. Finally, the third thing is to take it easy on yourself. The only people that can't code are the ones that never try or the ones that quit too early. Thank you all so much for watching, and good luck on your data science and coding journey. You.\", 'words': [{'text': 'I', 'start': 250, 'end': 366, 'confidence': 1.0, 'speaker': None}, {'text': 'recently', 'start': 388, 'end': 666, 'confidence': 0.99509, 'speaker': None}, {'text': 'got', 'start': 698, 'end': 894, 'confidence': 0.99998, 'speaker': None}, {'text': 'an', 'start': 932, 'end': 1086, 'confidence': 1.0, 'speaker': None}, {'text': 'amazing', 'start': 1108, 'end': 1390, 'confidence': 0.99999, 'speaker': None}, {'text': 'opportunity.', 'start': 1460, 'end': 2078, 'confidence': 0.99998, 'speaker': None}, {'text': \"I've\", 'start': 2244, 'end': 2538, 'confidence': 0.98258, 'speaker': None}, {'text': 'been', 'start': 2554, 'end': 2686, 'confidence': 0.99932, 'speaker': None}, {'text': 'learning', 'start': 2708, 'end': 2894, 'confidence': 0.99998, 'speaker': None}, {'text': 'jujitsu', 'start': 2932, 'end': 3514, 'confidence': 0.62102, 'speaker': None}, {'text': 'and', 'start': 3562, 'end': 3774, 'confidence': 1.0, 'speaker': None}, {'text': 'a', 'start': 3812, 'end': 3918, 'confidence': 1.0, 'speaker': None}, {'text': 'friend', 'start': 3924, 'end': 4142, 'confidence': 0.99999, 'speaker': None}, {'text': 'offered', 'start': 4196, 'end': 4458, 'confidence': 0.99714, 'speaker': None}, {'text': 'to', 'start': 4474, 'end': 4606, 'confidence': 0.96, 'speaker': None}, {'text': 'coach', 'start': 4628, 'end': 4826, 'confidence': 0.99997, 'speaker': None}, {'text': 'me', 'start': 4858, 'end': 5102, 'confidence': 0.99453, 'speaker': None}, {'text': 'in', 'start': 5156, 'end': 5374, 'confidence': 0.85388, 'speaker': None}, {'text': 'exchange', 'start': 5412, 'end': 5786, 'confidence': 0.99992, 'speaker': None}, {'text': 'for', 'start': 5818, 'end': 5966, 'confidence': 1.0, 'speaker': None}, {'text': 'teaching', 'start': 5988, 'end': 6266, 'confidence': 0.99996, 'speaker': None}, {'text': 'him', 'start': 6298, 'end': 6446, 'confidence': 0.99993, 'speaker': None}, {'text': 'how', 'start': 6468, 'end': 6606, 'confidence': 0.68595, 'speaker': None}, {'text': 'to', 'start': 6628, 'end': 6766, 'confidence': 0.99, 'speaker': None}, {'text': 'code.', 'start': 6788, 'end': 7262, 'confidence': 0.99998, 'speaker': None}, {'text': 'At', 'start': 7396, 'end': 7646, 'confidence': 0.59, 'speaker': None}, {'text': 'this', 'start': 7668, 'end': 7806, 'confidence': 0.99999, 'speaker': None}, {'text': 'point', 'start': 7828, 'end': 7966, 'confidence': 0.84, 'speaker': None}, {'text': 'in', 'start': 7988, 'end': 8126, 'confidence': 0.99409, 'speaker': None}, {'text': 'my', 'start': 8148, 'end': 8238, 'confidence': 0.99993, 'speaker': None}, {'text': 'life', 'start': 8244, 'end': 8462, 'confidence': 0.99999, 'speaker': None}, {'text': 'where', 'start': 8516, 'end': 8686, 'confidence': 0.99997, 'speaker': None}, {'text': \"I'm\", 'start': 8708, 'end': 8846, 'confidence': 0.99453, 'speaker': None}, {'text': 'trying', 'start': 8868, 'end': 8958, 'confidence': 0.99994, 'speaker': None}, {'text': 'to', 'start': 8964, 'end': 9038, 'confidence': 1.0, 'speaker': None}, {'text': 'improve', 'start': 9044, 'end': 9306, 'confidence': 0.37495, 'speaker': None}, {'text': 'my', 'start': 9338, 'end': 9486, 'confidence': 0.99999, 'speaker': None}, {'text': 'jujitsu', 'start': 9508, 'end': 10074, 'confidence': 0.75666, 'speaker': None}, {'text': 'as', 'start': 10122, 'end': 10286, 'confidence': 1.0, 'speaker': None}, {'text': 'quickly', 'start': 10308, 'end': 10494, 'confidence': 0.99996, 'speaker': None}, {'text': 'as', 'start': 10532, 'end': 10734, 'confidence': 0.94165, 'speaker': None}, {'text': 'possible,', 'start': 10772, 'end': 11262, 'confidence': 0.99999, 'speaker': None}, {'text': 'this', 'start': 11396, 'end': 11694, 'confidence': 0.99999, 'speaker': None}, {'text': 'was', 'start': 11732, 'end': 11934, 'confidence': 0.99999, 'speaker': None}, {'text': 'an', 'start': 11972, 'end': 12174, 'confidence': 1.0, 'speaker': None}, {'text': 'incredible', 'start': 12212, 'end': 12634, 'confidence': 0.99966, 'speaker': None}, {'text': 'trade', 'start': 12682, 'end': 12938, 'confidence': 0.99966, 'speaker': None}, {'text': 'for', 'start': 12954, 'end': 13086, 'confidence': 0.99997, 'speaker': None}, {'text': 'me.', 'start': 13108, 'end': 13294, 'confidence': 0.99999, 'speaker': None}, {'text': 'In', 'start': 13332, 'end': 13486, 'confidence': 1.0, 'speaker': None}, {'text': 'my', 'start': 13508, 'end': 13598, 'confidence': 0.99998, 'speaker': None}, {'text': 'personal', 'start': 13604, 'end': 13822, 'confidence': 0.99997, 'speaker': None}, {'text': 'opinion.', 'start': 13876, 'end': 14282, 'confidence': 0.91491, 'speaker': None}, {'text': 'I', 'start': 14346, 'end': 14478, 'confidence': 1.0, 'speaker': None}, {'text': 'was', 'start': 14484, 'end': 14606, 'confidence': 0.97113, 'speaker': None}, {'text': 'all', 'start': 14628, 'end': 14766, 'confidence': 1.0, 'speaker': None}, {'text': 'for', 'start': 14788, 'end': 14926, 'confidence': 0.99981, 'speaker': None}, {'text': 'it', 'start': 14948, 'end': 15086, 'confidence': 0.99645, 'speaker': None}, {'text': 'until', 'start': 15108, 'end': 15342, 'confidence': 0.99996, 'speaker': None}, {'text': 'I', 'start': 15396, 'end': 15518, 'confidence': 1.0, 'speaker': None}, {'text': 'had', 'start': 15524, 'end': 15646, 'confidence': 0.99994, 'speaker': None}, {'text': 'to', 'start': 15668, 'end': 15758, 'confidence': 1.0, 'speaker': None}, {'text': 'think', 'start': 15764, 'end': 15886, 'confidence': 0.99997, 'speaker': None}, {'text': 'about', 'start': 15908, 'end': 16094, 'confidence': 1.0, 'speaker': None}, {'text': 'how', 'start': 16132, 'end': 16238, 'confidence': 0.99999, 'speaker': None}, {'text': \"I'd\", 'start': 16244, 'end': 16474, 'confidence': 0.50075, 'speaker': None}, {'text': 'actually', 'start': 16522, 'end': 16782, 'confidence': 0.99997, 'speaker': None}, {'text': 'go', 'start': 16836, 'end': 17006, 'confidence': 1.0, 'speaker': None}, {'text': 'about', 'start': 17028, 'end': 17262, 'confidence': 1.0, 'speaker': None}, {'text': 'teaching', 'start': 17316, 'end': 17578, 'confidence': 0.99998, 'speaker': None}, {'text': 'someone', 'start': 17594, 'end': 17822, 'confidence': 0.99999, 'speaker': None}, {'text': 'how', 'start': 17876, 'end': 18046, 'confidence': 0.99994, 'speaker': None}, {'text': 'to', 'start': 18068, 'end': 18158, 'confidence': 1.0, 'speaker': None}, {'text': 'code.', 'start': 18164, 'end': 18478, 'confidence': 0.98826, 'speaker': None}, {'text': 'Starting', 'start': 18564, 'end': 18862, 'confidence': 0.91096, 'speaker': None}, {'text': 'from', 'start': 18916, 'end': 19086, 'confidence': 1.0, 'speaker': None}, {'text': 'nothing,', 'start': 19108, 'end': 19438, 'confidence': 0.95464, 'speaker': None}, {'text': 'I', 'start': 19524, 'end': 19774, 'confidence': 1.0, 'speaker': None}, {'text': 'quickly', 'start': 19812, 'end': 20062, 'confidence': 0.99999, 'speaker': None}, {'text': 'realized', 'start': 20116, 'end': 20474, 'confidence': 0.99988, 'speaker': None}, {'text': 'that', 'start': 20522, 'end': 20686, 'confidence': 0.99997, 'speaker': None}, {'text': 'this', 'start': 20708, 'end': 20846, 'confidence': 0.99999, 'speaker': None}, {'text': 'was', 'start': 20868, 'end': 20958, 'confidence': 0.99995, 'speaker': None}, {'text': 'going', 'start': 20964, 'end': 21038, 'confidence': 0.52568, 'speaker': None}, {'text': 'to', 'start': 21044, 'end': 21118, 'confidence': 0.99, 'speaker': None}, {'text': 'be', 'start': 21124, 'end': 21246, 'confidence': 0.99958, 'speaker': None}, {'text': 'a', 'start': 21268, 'end': 21358, 'confidence': 1.0, 'speaker': None}, {'text': 'lot', 'start': 21364, 'end': 21534, 'confidence': 0.99999, 'speaker': None}, {'text': 'harder', 'start': 21572, 'end': 21866, 'confidence': 0.99997, 'speaker': None}, {'text': 'than', 'start': 21898, 'end': 22046, 'confidence': 0.99998, 'speaker': None}, {'text': 'I', 'start': 22068, 'end': 22206, 'confidence': 1.0, 'speaker': None}, {'text': 'thought.', 'start': 22228, 'end': 22702, 'confidence': 1.0, 'speaker': None}, {'text': 'After', 'start': 22836, 'end': 23134, 'confidence': 0.99998, 'speaker': None}, {'text': 'all,', 'start': 23172, 'end': 23422, 'confidence': 0.74, 'speaker': None}, {'text': \"it's\", 'start': 23476, 'end': 23658, 'confidence': 0.99907, 'speaker': None}, {'text': 'been', 'start': 23674, 'end': 23854, 'confidence': 0.88877, 'speaker': None}, {'text': 'almost', 'start': 23892, 'end': 24094, 'confidence': 0.99997, 'speaker': None}, {'text': 'ten', 'start': 24132, 'end': 24334, 'confidence': 1.0, 'speaker': None}, {'text': 'years', 'start': 24372, 'end': 24622, 'confidence': 0.99999, 'speaker': None}, {'text': 'since', 'start': 24676, 'end': 24798, 'confidence': 0.99998, 'speaker': None}, {'text': 'I', 'start': 24804, 'end': 24950, 'confidence': 0.98, 'speaker': None}, {'text': 'wrote', 'start': 24980, 'end': 25186, 'confidence': 0.65003, 'speaker': None}, {'text': 'my', 'start': 25218, 'end': 25318, 'confidence': 0.9999, 'speaker': None}, {'text': 'very', 'start': 25324, 'end': 25446, 'confidence': 0.99942, 'speaker': None}, {'text': 'first', 'start': 25468, 'end': 25654, 'confidence': 0.91, 'speaker': None}, {'text': 'line', 'start': 25692, 'end': 25894, 'confidence': 0.99, 'speaker': None}, {'text': 'of', 'start': 25932, 'end': 26038, 'confidence': 1.0, 'speaker': None}, {'text': 'code.', 'start': 26044, 'end': 26262, 'confidence': 0.99997, 'speaker': None}, {'text': \"That's\", 'start': 26316, 'end': 26578, 'confidence': 0.86487, 'speaker': None}, {'text': 'a', 'start': 26594, 'end': 26726, 'confidence': 0.99, 'speaker': None}, {'text': 'pretty', 'start': 26748, 'end': 26934, 'confidence': 0.99984, 'speaker': None}, {'text': 'long', 'start': 26972, 'end': 27222, 'confidence': 0.99995, 'speaker': None}, {'text': 'time.', 'start': 27276, 'end': 27542, 'confidence': 0.99998, 'speaker': None}, {'text': 'Now,', 'start': 27596, 'end': 27766, 'confidence': 1.0, 'speaker': None}, {'text': 'this', 'start': 27788, 'end': 27926, 'confidence': 0.99994, 'speaker': None}, {'text': 'video', 'start': 27948, 'end': 28230, 'confidence': 0.99992, 'speaker': None}, {'text': 'is', 'start': 28300, 'end': 28486, 'confidence': 0.99993, 'speaker': None}, {'text': 'about', 'start': 28508, 'end': 28742, 'confidence': 0.55, 'speaker': None}, {'text': 'the', 'start': 28796, 'end': 28966, 'confidence': 1.0, 'speaker': None}, {'text': 'very', 'start': 28988, 'end': 29222, 'confidence': 0.95456, 'speaker': None}, {'text': 'specific', 'start': 29276, 'end': 29638, 'confidence': 0.99985, 'speaker': None}, {'text': 'and', 'start': 29724, 'end': 29926, 'confidence': 1.0, 'speaker': None}, {'text': 'detailed', 'start': 29948, 'end': 30306, 'confidence': 0.92005, 'speaker': None}, {'text': 'plan', 'start': 30338, 'end': 30678, 'confidence': 0.99996, 'speaker': None}, {'text': 'that', 'start': 30764, 'end': 30966, 'confidence': 0.99794, 'speaker': None}, {'text': 'I', 'start': 30988, 'end': 31126, 'confidence': 0.99, 'speaker': None}, {'text': 'wrote', 'start': 31148, 'end': 31298, 'confidence': 0.99976, 'speaker': None}, {'text': 'for', 'start': 31314, 'end': 31446, 'confidence': 0.87211, 'speaker': None}, {'text': 'my', 'start': 31468, 'end': 31606, 'confidence': 0.99992, 'speaker': None}, {'text': 'friend', 'start': 31628, 'end': 31814, 'confidence': 0.99996, 'speaker': None}, {'text': 'to', 'start': 31852, 'end': 31958, 'confidence': 1.0, 'speaker': None}, {'text': 'teach', 'start': 31964, 'end': 32134, 'confidence': 0.99999, 'speaker': None}, {'text': 'me', 'start': 32172, 'end': 32326, 'confidence': 0.99685, 'speaker': None}, {'text': 'the', 'start': 32348, 'end': 32438, 'confidence': 1.0, 'speaker': None}, {'text': 'basics', 'start': 32444, 'end': 32706, 'confidence': 0.99997, 'speaker': None}, {'text': 'of', 'start': 32738, 'end': 32886, 'confidence': 1.0, 'speaker': None}, {'text': 'coding', 'start': 32908, 'end': 33186, 'confidence': 0.99981, 'speaker': None}, {'text': 'for', 'start': 33218, 'end': 33366, 'confidence': 0.99999, 'speaker': None}, {'text': 'data', 'start': 33388, 'end': 33574, 'confidence': 0.99998, 'speaker': None}, {'text': 'science.', 'start': 33612, 'end': 34002, 'confidence': 0.99996, 'speaker': None}, {'text': 'Since', 'start': 34066, 'end': 34246, 'confidence': 0.99997, 'speaker': None}, {'text': 'I', 'start': 34268, 'end': 34358, 'confidence': 1.0, 'speaker': None}, {'text': 'did', 'start': 34364, 'end': 34486, 'confidence': 0.99995, 'speaker': None}, {'text': 'all', 'start': 34508, 'end': 34598, 'confidence': 1.0, 'speaker': None}, {'text': 'the', 'start': 34604, 'end': 34678, 'confidence': 1.0, 'speaker': None}, {'text': 'work', 'start': 34684, 'end': 34806, 'confidence': 1.0, 'speaker': None}, {'text': 'for', 'start': 34828, 'end': 34966, 'confidence': 0.99994, 'speaker': None}, {'text': 'him,', 'start': 34988, 'end': 35222, 'confidence': 0.99998, 'speaker': None}, {'text': 'I', 'start': 35276, 'end': 35446, 'confidence': 1.0, 'speaker': None}, {'text': 'figured', 'start': 35468, 'end': 35746, 'confidence': 0.99995, 'speaker': None}, {'text': 'I', 'start': 35778, 'end': 35926, 'confidence': 1.0, 'speaker': None}, {'text': 'might', 'start': 35948, 'end': 36086, 'confidence': 0.99997, 'speaker': None}, {'text': 'as', 'start': 36108, 'end': 36246, 'confidence': 0.96031, 'speaker': None}, {'text': 'well', 'start': 36268, 'end': 36454, 'confidence': 0.99998, 'speaker': None}, {'text': 'share', 'start': 36492, 'end': 36646, 'confidence': 0.99998, 'speaker': None}, {'text': 'the', 'start': 36668, 'end': 36758, 'confidence': 1.0, 'speaker': None}, {'text': 'details', 'start': 36764, 'end': 37138, 'confidence': 0.59263, 'speaker': None}, {'text': 'with', 'start': 37154, 'end': 37286, 'confidence': 0.99994, 'speaker': None}, {'text': 'you', 'start': 37308, 'end': 37398, 'confidence': 0.99997, 'speaker': None}, {'text': 'as', 'start': 37404, 'end': 37526, 'confidence': 0.99995, 'speaker': None}, {'text': 'well', 'start': 37548, 'end': 37686, 'confidence': 0.99997, 'speaker': None}, {'text': 'here.', 'start': 37708, 'end': 37942, 'confidence': 0.99992, 'speaker': None}, {'text': 'There', 'start': 37996, 'end': 38118, 'confidence': 0.99899, 'speaker': None}, {'text': 'have', 'start': 38124, 'end': 38246, 'confidence': 0.97399, 'speaker': None}, {'text': 'been', 'start': 38268, 'end': 38358, 'confidence': 0.99924, 'speaker': None}, {'text': 'plenty', 'start': 38364, 'end': 38578, 'confidence': 0.99998, 'speaker': None}, {'text': 'of', 'start': 38594, 'end': 38726, 'confidence': 1.0, 'speaker': None}, {'text': 'other', 'start': 38748, 'end': 38934, 'confidence': 0.99993, 'speaker': None}, {'text': 'great', 'start': 38972, 'end': 39174, 'confidence': 0.99961, 'speaker': None}, {'text': 'videos', 'start': 39212, 'end': 39510, 'confidence': 0.99988, 'speaker': None}, {'text': 'similar', 'start': 39580, 'end': 39862, 'confidence': 0.68931, 'speaker': None}, {'text': 'to', 'start': 39916, 'end': 40086, 'confidence': 0.72, 'speaker': None}, {'text': 'this', 'start': 40108, 'end': 40294, 'confidence': 0.99998, 'speaker': None}, {'text': 'about', 'start': 40332, 'end': 40534, 'confidence': 0.7, 'speaker': None}, {'text': 'how', 'start': 40572, 'end': 40726, 'confidence': 0.99995, 'speaker': None}, {'text': 'to', 'start': 40748, 'end': 40886, 'confidence': 1.0, 'speaker': None}, {'text': 'start', 'start': 40908, 'end': 41094, 'confidence': 0.99993, 'speaker': None}, {'text': 'coding,', 'start': 41132, 'end': 41474, 'confidence': 0.9999, 'speaker': None}, {'text': 'and', 'start': 41522, 'end': 41686, 'confidence': 1.0, 'speaker': None}, {'text': \"I've\", 'start': 41708, 'end': 41906, 'confidence': 0.99923, 'speaker': None}, {'text': 'linked', 'start': 41938, 'end': 42146, 'confidence': 0.96149, 'speaker': None}, {'text': 'many', 'start': 42178, 'end': 42374, 'confidence': 0.99997, 'speaker': None}, {'text': 'of', 'start': 42412, 'end': 42518, 'confidence': 1.0, 'speaker': None}, {'text': 'them', 'start': 42524, 'end': 42658, 'confidence': 0.99998, 'speaker': None}, {'text': 'in', 'start': 42684, 'end': 42826, 'confidence': 0.99977, 'speaker': None}, {'text': 'the', 'start': 42848, 'end': 42938, 'confidence': 1.0, 'speaker': None}, {'text': 'description.', 'start': 42944, 'end': 43430, 'confidence': 0.99633, 'speaker': None}, {'text': 'Again,', 'start': 43510, 'end': 43754, 'confidence': 0.9998, 'speaker': None}, {'text': 'those', 'start': 43792, 'end': 43994, 'confidence': 0.99997, 'speaker': None}, {'text': 'are', 'start': 44032, 'end': 44138, 'confidence': 0.99987, 'speaker': None}, {'text': 'great,', 'start': 44144, 'end': 44362, 'confidence': 0.99998, 'speaker': None}, {'text': 'but', 'start': 44416, 'end': 44634, 'confidence': 0.99998, 'speaker': None}, {'text': 'I', 'start': 44672, 'end': 44778, 'confidence': 1.0, 'speaker': None}, {'text': 'think', 'start': 44784, 'end': 44906, 'confidence': 0.99983, 'speaker': None}, {'text': 'this', 'start': 44928, 'end': 45066, 'confidence': 0.99998, 'speaker': None}, {'text': 'is', 'start': 45088, 'end': 45226, 'confidence': 0.991, 'speaker': None}, {'text': 'a', 'start': 45248, 'end': 45338, 'confidence': 1.0, 'speaker': None}, {'text': 'bit', 'start': 45344, 'end': 45514, 'confidence': 0.99998, 'speaker': None}, {'text': 'different', 'start': 45552, 'end': 45802, 'confidence': 0.99999, 'speaker': None}, {'text': 'because', 'start': 45856, 'end': 46074, 'confidence': 0.535, 'speaker': None}, {'text': \"it's\", 'start': 46112, 'end': 46326, 'confidence': 0.99986, 'speaker': None}, {'text': 'more', 'start': 46358, 'end': 46506, 'confidence': 1.0, 'speaker': None}, {'text': 'focused', 'start': 46528, 'end': 46838, 'confidence': 0.99996, 'speaker': None}, {'text': 'on', 'start': 46854, 'end': 46986, 'confidence': 0.99994, 'speaker': None}, {'text': 'coding', 'start': 47008, 'end': 47334, 'confidence': 0.99987, 'speaker': None}, {'text': 'for', 'start': 47382, 'end': 47546, 'confidence': 0.99997, 'speaker': None}, {'text': 'data', 'start': 47568, 'end': 47898, 'confidence': 0.99991, 'speaker': None}, {'text': 'and', 'start': 47984, 'end': 48234, 'confidence': 0.89, 'speaker': None}, {'text': 'it', 'start': 48272, 'end': 48378, 'confidence': 0.99988, 'speaker': None}, {'text': 'uses', 'start': 48384, 'end': 48726, 'confidence': 0.62973, 'speaker': None}, {'text': 'a', 'start': 48758, 'end': 48906, 'confidence': 1.0, 'speaker': None}, {'text': 'very', 'start': 48928, 'end': 49162, 'confidence': 0.99996, 'speaker': None}, {'text': 'specific', 'start': 49216, 'end': 49674, 'confidence': 0.99998, 'speaker': None}, {'text': 'real', 'start': 49792, 'end': 50074, 'confidence': 1.0, 'speaker': None}, {'text': 'world', 'start': 50112, 'end': 50362, 'confidence': 0.99556, 'speaker': None}, {'text': 'case', 'start': 50416, 'end': 50634, 'confidence': 0.99999, 'speaker': None}, {'text': 'study.', 'start': 50672, 'end': 51210, 'confidence': 0.99997, 'speaker': None}, {'text': 'At', 'start': 51360, 'end': 51578, 'confidence': 1.0, 'speaker': None}, {'text': 'the', 'start': 51584, 'end': 51706, 'confidence': 1.0, 'speaker': None}, {'text': 'end,', 'start': 51728, 'end': 51866, 'confidence': 0.99997, 'speaker': None}, {'text': 'I', 'start': 51888, 'end': 52026, 'confidence': 1.0, 'speaker': None}, {'text': 'also', 'start': 52048, 'end': 52234, 'confidence': 0.99997, 'speaker': None}, {'text': 'highlight', 'start': 52272, 'end': 52614, 'confidence': 0.99989, 'speaker': None}, {'text': 'the', 'start': 52662, 'end': 52874, 'confidence': 1.0, 'speaker': None}, {'text': 'three', 'start': 52912, 'end': 53114, 'confidence': 1.0, 'speaker': None}, {'text': 'most', 'start': 53152, 'end': 53354, 'confidence': 0.99999, 'speaker': None}, {'text': 'important', 'start': 53392, 'end': 53690, 'confidence': 1.0, 'speaker': None}, {'text': 'things', 'start': 53760, 'end': 54138, 'confidence': 0.99999, 'speaker': None}, {'text': 'a', 'start': 54224, 'end': 54426, 'confidence': 0.93, 'speaker': None}, {'text': 'new', 'start': 54448, 'end': 54634, 'confidence': 1.0, 'speaker': None}, {'text': 'programmer', 'start': 54672, 'end': 55138, 'confidence': 0.9117, 'speaker': None}, {'text': 'should', 'start': 55174, 'end': 55374, 'confidence': 0.99958, 'speaker': None}, {'text': 'know,', 'start': 55412, 'end': 55710, 'confidence': 0.99996, 'speaker': None}, {'text': 'so', 'start': 55780, 'end': 55966, 'confidence': 1.0, 'speaker': None}, {'text': 'you', 'start': 55988, 'end': 56174, 'confidence': 0.99966, 'speaker': None}, {'text': 'definitely', 'start': 56212, 'end': 56414, 'confidence': 0.99993, 'speaker': None}, {'text': 'want', 'start': 56452, 'end': 56558, 'confidence': 0.9998, 'speaker': None}, {'text': 'to', 'start': 56564, 'end': 56686, 'confidence': 0.99, 'speaker': None}, {'text': 'stick', 'start': 56708, 'end': 56906, 'confidence': 0.99995, 'speaker': None}, {'text': 'around', 'start': 56938, 'end': 57182, 'confidence': 0.99999, 'speaker': None}, {'text': 'for', 'start': 57236, 'end': 57406, 'confidence': 0.99998, 'speaker': None}, {'text': 'that.', 'start': 57428, 'end': 57710, 'confidence': 0.99999, 'speaker': None}, {'text': \"Let's\", 'start': 57780, 'end': 58026, 'confidence': 0.99881, 'speaker': None}, {'text': 'start', 'start': 58058, 'end': 58254, 'confidence': 0.99999, 'speaker': None}, {'text': 'with', 'start': 58292, 'end': 58446, 'confidence': 1.0, 'speaker': None}, {'text': 'the', 'start': 58468, 'end': 58606, 'confidence': 0.98, 'speaker': None}, {'text': 'language', 'start': 58628, 'end': 58986, 'confidence': 0.99999, 'speaker': None}, {'text': 'that', 'start': 59018, 'end': 59214, 'confidence': 0.61144, 'speaker': None}, {'text': 'we', 'start': 59252, 'end': 59406, 'confidence': 0.99994, 'speaker': None}, {'text': 'should', 'start': 59428, 'end': 59566, 'confidence': 0.99999, 'speaker': None}, {'text': 'start', 'start': 59588, 'end': 59774, 'confidence': 1.0, 'speaker': None}, {'text': 'learning.', 'start': 59812, 'end': 60302, 'confidence': 1.0, 'speaker': None}, {'text': 'I', 'start': 60436, 'end': 60686, 'confidence': 1.0, 'speaker': None}, {'text': 'know', 'start': 60708, 'end': 60846, 'confidence': 0.93901, 'speaker': None}, {'text': 'if', 'start': 60868, 'end': 61006, 'confidence': 0.78529, 'speaker': None}, {'text': \"you're\", 'start': 61028, 'end': 61178, 'confidence': 0.99944, 'speaker': None}, {'text': 'working', 'start': 61194, 'end': 61374, 'confidence': 0.99996, 'speaker': None}, {'text': 'with', 'start': 61412, 'end': 61614, 'confidence': 0.99995, 'speaker': None}, {'text': 'data,', 'start': 61652, 'end': 61950, 'confidence': 0.99996, 'speaker': None}, {'text': 'you', 'start': 62020, 'end': 62254, 'confidence': 0.99996, 'speaker': None}, {'text': 'generally', 'start': 62292, 'end': 62634, 'confidence': 0.99894, 'speaker': None}, {'text': 'have', 'start': 62682, 'end': 62894, 'confidence': 0.99997, 'speaker': None}, {'text': 'two', 'start': 62932, 'end': 63134, 'confidence': 1.0, 'speaker': None}, {'text': 'good', 'start': 63172, 'end': 63374, 'confidence': 0.99995, 'speaker': None}, {'text': 'choices.', 'start': 63412, 'end': 63850, 'confidence': 0.80999, 'speaker': None}, {'text': 'They', 'start': 63930, 'end': 64126, 'confidence': 0.40128, 'speaker': None}, {'text': 'would', 'start': 64148, 'end': 64286, 'confidence': 0.98355, 'speaker': None}, {'text': 'either', 'start': 64308, 'end': 64446, 'confidence': 0.99994, 'speaker': None}, {'text': 'start', 'start': 64468, 'end': 64606, 'confidence': 1.0, 'speaker': None}, {'text': 'with', 'start': 64628, 'end': 64766, 'confidence': 1.0, 'speaker': None}, {'text': 'Python', 'start': 64788, 'end': 65238, 'confidence': 0.68929, 'speaker': None}, {'text': 'or', 'start': 65274, 'end': 65474, 'confidence': 0.99999, 'speaker': None}, {'text': 'R.', 'start': 65512, 'end': 65858, 'confidence': 1.0, 'speaker': None}, {'text': \"Let's\", 'start': 65944, 'end': 66206, 'confidence': 0.98885, 'speaker': None}, {'text': 'quickly', 'start': 66238, 'end': 66482, 'confidence': 0.99988, 'speaker': None}, {'text': 'compare', 'start': 66536, 'end': 66926, 'confidence': 0.99999, 'speaker': None}, {'text': 'the', 'start': 66958, 'end': 67106, 'confidence': 1.0, 'speaker': None}, {'text': 'two', 'start': 67128, 'end': 67314, 'confidence': 1.0, 'speaker': None}, {'text': 'languages.', 'start': 67352, 'end': 67838, 'confidence': 0.99957, 'speaker': None}, {'text': 'Data', 'start': 67934, 'end': 68194, 'confidence': 0.99993, 'speaker': None}, {'text': 'science', 'start': 68232, 'end': 68574, 'confidence': 0.9828, 'speaker': None}, {'text': 'style', 'start': 68622, 'end': 69310, 'confidence': 0.9701, 'speaker': None}, {'text': 'when', 'start': 69470, 'end': 69746, 'confidence': 0.99999, 'speaker': None}, {'text': 'looking', 'start': 69768, 'end': 69954, 'confidence': 0.98408, 'speaker': None}, {'text': 'at', 'start': 69992, 'end': 70146, 'confidence': 1.0, 'speaker': None}, {'text': 'the', 'start': 70168, 'end': 70306, 'confidence': 1.0, 'speaker': None}, {'text': 'stack', 'start': 70328, 'end': 70574, 'confidence': 0.9998, 'speaker': None}, {'text': 'overflow', 'start': 70622, 'end': 71086, 'confidence': 0.99857, 'speaker': None}, {'text': 'developer', 'start': 71118, 'end': 71566, 'confidence': 0.9991, 'speaker': None}, {'text': 'survey,', 'start': 71598, 'end': 72062, 'confidence': 0.97383, 'speaker': None}, {'text': 'we', 'start': 72126, 'end': 72306, 'confidence': 0.99999, 'speaker': None}, {'text': 'find', 'start': 72328, 'end': 72514, 'confidence': 0.97439, 'speaker': None}, {'text': 'that', 'start': 72552, 'end': 72706, 'confidence': 0.99999, 'speaker': None}, {'text': 'about', 'start': 72728, 'end': 72914, 'confidence': 1.0, 'speaker': None}, {'text': '48%', 'start': 72952, 'end': 73634, 'confidence': 0.93, 'speaker': None}, {'text': 'of', 'start': 73672, 'end': 73826, 'confidence': 1.0, 'speaker': None}, {'text': 'respondents', 'start': 73848, 'end': 74334, 'confidence': 0.96529, 'speaker': None}, {'text': 'use', 'start': 74382, 'end': 74594, 'confidence': 0.99995, 'speaker': None}, {'text': 'Python,', 'start': 74632, 'end': 75150, 'confidence': 0.99913, 'speaker': None}, {'text': 'while', 'start': 75230, 'end': 75522, 'confidence': 0.98656, 'speaker': None}, {'text': 'only', 'start': 75576, 'end': 75794, 'confidence': 1.0, 'speaker': None}, {'text': 'about', 'start': 75832, 'end': 76082, 'confidence': 1.0, 'speaker': None}, {'text': '5%', 'start': 76136, 'end': 76642, 'confidence': 1.0, 'speaker': None}, {'text': 'use', 'start': 76696, 'end': 76962, 'confidence': 0.99996, 'speaker': None}, {'text': 'r.', 'start': 77016, 'end': 77282, 'confidence': 0.99, 'speaker': None}, {'text': 'In', 'start': 77336, 'end': 77554, 'confidence': 0.99997, 'speaker': None}, {'text': 'industry,', 'start': 77592, 'end': 78122, 'confidence': 0.99999, 'speaker': None}, {'text': 'Python', 'start': 78206, 'end': 78674, 'confidence': 0.99994, 'speaker': None}, {'text': 'is', 'start': 78722, 'end': 78886, 'confidence': 0.99999, 'speaker': None}, {'text': 'a', 'start': 78908, 'end': 78998, 'confidence': 1.0, 'speaker': None}, {'text': 'far', 'start': 79004, 'end': 79174, 'confidence': 0.76916, 'speaker': None}, {'text': 'more', 'start': 79212, 'end': 79414, 'confidence': 0.93, 'speaker': None}, {'text': 'common', 'start': 79452, 'end': 79702, 'confidence': 1.0, 'speaker': None}, {'text': 'language.', 'start': 79756, 'end': 80306, 'confidence': 0.71222, 'speaker': None}, {'text': \"Let's\", 'start': 80418, 'end': 80786, 'confidence': 0.99984, 'speaker': None}, {'text': 'now', 'start': 80818, 'end': 80966, 'confidence': 1.0, 'speaker': None}, {'text': 'look', 'start': 80988, 'end': 81222, 'confidence': 0.99998, 'speaker': None}, {'text': 'more', 'start': 81276, 'end': 81542, 'confidence': 1.0, 'speaker': None}, {'text': 'specifically', 'start': 81596, 'end': 82242, 'confidence': 0.99601, 'speaker': None}, {'text': 'at', 'start': 82306, 'end': 82486, 'confidence': 1.0, 'speaker': None}, {'text': 'data', 'start': 82508, 'end': 82742, 'confidence': 0.99993, 'speaker': None}, {'text': 'scientists,', 'start': 82796, 'end': 83378, 'confidence': 0.87291, 'speaker': None}, {'text': 'not', 'start': 83474, 'end': 83686, 'confidence': 0.99999, 'speaker': None}, {'text': 'just', 'start': 83708, 'end': 83846, 'confidence': 0.99999, 'speaker': None}, {'text': 'all', 'start': 83868, 'end': 84054, 'confidence': 1.0, 'speaker': None}, {'text': 'stack', 'start': 84092, 'end': 84306, 'confidence': 0.99911, 'speaker': None}, {'text': 'overflow', 'start': 84338, 'end': 84738, 'confidence': 0.99131, 'speaker': None}, {'text': 'users', 'start': 84754, 'end': 85106, 'confidence': 0.99775, 'speaker': None}, {'text': 'who', 'start': 85138, 'end': 85286, 'confidence': 0.99999, 'speaker': None}, {'text': 'come', 'start': 85308, 'end': 85446, 'confidence': 1.0, 'speaker': None}, {'text': 'from', 'start': 85468, 'end': 85606, 'confidence': 0.99999, 'speaker': None}, {'text': 'a', 'start': 85628, 'end': 85766, 'confidence': 1.0, 'speaker': None}, {'text': 'variety', 'start': 85788, 'end': 86114, 'confidence': 0.73717, 'speaker': None}, {'text': 'of', 'start': 86162, 'end': 86326, 'confidence': 1.0, 'speaker': None}, {'text': 'backgrounds', 'start': 86348, 'end': 86930, 'confidence': 0.96383, 'speaker': None}, {'text': 'on', 'start': 87010, 'end': 87206, 'confidence': 0.99997, 'speaker': None}, {'text': 'Kaggle,', 'start': 87228, 'end': 87762, 'confidence': 0.48, 'speaker': None}, {'text': 'my', 'start': 87826, 'end': 88006, 'confidence': 0.99999, 'speaker': None}, {'text': 'favorite', 'start': 88028, 'end': 88306, 'confidence': 0.99986, 'speaker': None}, {'text': 'platform', 'start': 88338, 'end': 88630, 'confidence': 1.0, 'speaker': None}, {'text': 'for', 'start': 88700, 'end': 88886, 'confidence': 0.99946, 'speaker': None}, {'text': 'data', 'start': 88908, 'end': 89094, 'confidence': 0.99999, 'speaker': None}, {'text': 'science', 'start': 89132, 'end': 89474, 'confidence': 0.99995, 'speaker': None}, {'text': 'learning', 'start': 89522, 'end': 89782, 'confidence': 1.0, 'speaker': None}, {'text': 'and', 'start': 89836, 'end': 90006, 'confidence': 1.0, 'speaker': None}, {'text': 'projects,', 'start': 90028, 'end': 90562, 'confidence': 0.99994, 'speaker': None}, {'text': 'we', 'start': 90626, 'end': 90806, 'confidence': 0.99999, 'speaker': None}, {'text': 'can', 'start': 90828, 'end': 90966, 'confidence': 1.0, 'speaker': None}, {'text': 'see', 'start': 90988, 'end': 91126, 'confidence': 0.99999, 'speaker': None}, {'text': 'that', 'start': 91148, 'end': 91334, 'confidence': 1.0, 'speaker': None}, {'text': 'around', 'start': 91372, 'end': 91634, 'confidence': 0.99996, 'speaker': None}, {'text': '84.2%', 'start': 91692, 'end': 92874, 'confidence': 0.95, 'speaker': None}, {'text': 'of', 'start': 92912, 'end': 93066, 'confidence': 1.0, 'speaker': None}, {'text': 'respondents', 'start': 93088, 'end': 93590, 'confidence': 0.85948, 'speaker': None}, {'text': 'use', 'start': 93670, 'end': 93914, 'confidence': 0.99998, 'speaker': None}, {'text': 'Python,', 'start': 93952, 'end': 94502, 'confidence': 0.36896, 'speaker': None}, {'text': 'while', 'start': 94566, 'end': 94794, 'confidence': 1.0, 'speaker': None}, {'text': 'only', 'start': 94832, 'end': 95082, 'confidence': 0.99997, 'speaker': None}, {'text': '20.5%', 'start': 95136, 'end': 96202, 'confidence': 1.0, 'speaker': None}, {'text': 'use', 'start': 96256, 'end': 96522, 'confidence': 0.99999, 'speaker': None}, {'text': 'r.', 'start': 96576, 'end': 97034, 'confidence': 1.0, 'speaker': None}, {'text': 'Since', 'start': 97152, 'end': 97434, 'confidence': 0.99997, 'speaker': None}, {'text': 'these', 'start': 97472, 'end': 97626, 'confidence': 0.99999, 'speaker': None}, {'text': 'add', 'start': 97648, 'end': 97834, 'confidence': 0.85964, 'speaker': None}, {'text': 'up', 'start': 97872, 'end': 97978, 'confidence': 1.0, 'speaker': None}, {'text': 'to', 'start': 97984, 'end': 98106, 'confidence': 1.0, 'speaker': None}, {'text': 'more', 'start': 98128, 'end': 98266, 'confidence': 1.0, 'speaker': None}, {'text': 'than', 'start': 98288, 'end': 98426, 'confidence': 1.0, 'speaker': None}, {'text': '100%,', 'start': 98448, 'end': 99146, 'confidence': 0.98, 'speaker': None}, {'text': 'we', 'start': 99248, 'end': 99466, 'confidence': 1.0, 'speaker': None}, {'text': 'can', 'start': 99488, 'end': 99626, 'confidence': 1.0, 'speaker': None}, {'text': 'assume', 'start': 99648, 'end': 99926, 'confidence': 1.0, 'speaker': None}, {'text': 'that', 'start': 99958, 'end': 100154, 'confidence': 1.0, 'speaker': None}, {'text': 'some', 'start': 100192, 'end': 100346, 'confidence': 1.0, 'speaker': None}, {'text': 'data', 'start': 100368, 'end': 100602, 'confidence': 1.0, 'speaker': None}, {'text': 'scientists', 'start': 100656, 'end': 101142, 'confidence': 0.95461, 'speaker': None}, {'text': 'are', 'start': 101206, 'end': 101386, 'confidence': 1.0, 'speaker': None}, {'text': 'using', 'start': 101408, 'end': 101642, 'confidence': 0.99999, 'speaker': None}, {'text': 'both', 'start': 101696, 'end': 101914, 'confidence': 1.0, 'speaker': None}, {'text': 'languages.', 'start': 101952, 'end': 102518, 'confidence': 0.99999, 'speaker': None}, {'text': 'Finally,', 'start': 102614, 'end': 103018, 'confidence': 0.93432, 'speaker': None}, {'text': \"let's\", 'start': 103104, 'end': 103398, 'confidence': 0.99987, 'speaker': None}, {'text': 'look', 'start': 103414, 'end': 103546, 'confidence': 1.0, 'speaker': None}, {'text': 'at', 'start': 103568, 'end': 103658, 'confidence': 1.0, 'speaker': None}, {'text': 'these', 'start': 103664, 'end': 103834, 'confidence': 0.99999, 'speaker': None}, {'text': 'two', 'start': 103872, 'end': 104026, 'confidence': 1.0, 'speaker': None}, {'text': 'languages', 'start': 104048, 'end': 104482, 'confidence': 0.97666, 'speaker': None}, {'text': 'over', 'start': 104566, 'end': 104814, 'confidence': 1.0, 'speaker': None}, {'text': 'time.', 'start': 104852, 'end': 105198, 'confidence': 0.68931, 'speaker': None}, {'text': 'We', 'start': 105284, 'end': 105486, 'confidence': 0.99992, 'speaker': None}, {'text': 'can', 'start': 105508, 'end': 105598, 'confidence': 1.0, 'speaker': None}, {'text': 'see', 'start': 105604, 'end': 105774, 'confidence': 0.89481, 'speaker': None}, {'text': 'here.', 'start': 105812, 'end': 106158, 'confidence': 0.99985, 'speaker': None}, {'text': 'From', 'start': 106244, 'end': 106542, 'confidence': 0.99999, 'speaker': None}, {'text': '2020', 'start': 106596, 'end': 107182, 'confidence': 0.96, 'speaker': None}, {'text': 'to', 'start': 107236, 'end': 107406, 'confidence': 1.0, 'speaker': None}, {'text': '2021,', 'start': 107428, 'end': 108318, 'confidence': 0.99, 'speaker': None}, {'text': 'Python', 'start': 108404, 'end': 108906, 'confidence': 0.65485, 'speaker': None}, {'text': 'has', 'start': 108938, 'end': 109086, 'confidence': 0.99997, 'speaker': None}, {'text': 'gained', 'start': 109108, 'end': 109306, 'confidence': 0.99995, 'speaker': None}, {'text': 'an', 'start': 109338, 'end': 109486, 'confidence': 0.74, 'speaker': None}, {'text': 'adoption,', 'start': 109508, 'end': 109962, 'confidence': 0.9269, 'speaker': None}, {'text': 'while', 'start': 110026, 'end': 110254, 'confidence': 0.92734, 'speaker': None}, {'text': 'R', 'start': 110292, 'end': 110494, 'confidence': 0.78, 'speaker': None}, {'text': 'usage', 'start': 110532, 'end': 110874, 'confidence': 0.98573, 'speaker': None}, {'text': 'has', 'start': 110922, 'end': 111086, 'confidence': 0.99997, 'speaker': None}, {'text': 'seen', 'start': 111108, 'end': 111246, 'confidence': 0.99996, 'speaker': None}, {'text': 'some', 'start': 111268, 'end': 111454, 'confidence': 0.99999, 'speaker': None}, {'text': 'attrition.', 'start': 111492, 'end': 112106, 'confidence': 0.88023, 'speaker': None}, {'text': 'To', 'start': 112218, 'end': 112446, 'confidence': 1.0, 'speaker': None}, {'text': 'me,', 'start': 112468, 'end': 112654, 'confidence': 0.99998, 'speaker': None}, {'text': 'this', 'start': 112692, 'end': 112846, 'confidence': 0.99999, 'speaker': None}, {'text': 'is', 'start': 112868, 'end': 112958, 'confidence': 0.99996, 'speaker': None}, {'text': 'a', 'start': 112964, 'end': 113038, 'confidence': 1.0, 'speaker': None}, {'text': 'no', 'start': 113044, 'end': 113166, 'confidence': 1.0, 'speaker': None}, {'text': 'brainer.', 'start': 113188, 'end': 113594, 'confidence': 0.99425, 'speaker': None}, {'text': 'I', 'start': 113642, 'end': 113854, 'confidence': 1.0, 'speaker': None}, {'text': 'recommended', 'start': 113892, 'end': 114346, 'confidence': 0.99884, 'speaker': None}, {'text': 'my', 'start': 114378, 'end': 114526, 'confidence': 0.99999, 'speaker': None}, {'text': 'friend', 'start': 114548, 'end': 114734, 'confidence': 0.99977, 'speaker': None}, {'text': 'to', 'start': 114772, 'end': 114926, 'confidence': 1.0, 'speaker': None}, {'text': 'start', 'start': 114948, 'end': 115086, 'confidence': 1.0, 'speaker': None}, {'text': 'learning', 'start': 115108, 'end': 115294, 'confidence': 0.99999, 'speaker': None}, {'text': 'Python', 'start': 115332, 'end': 115786, 'confidence': 0.50776, 'speaker': None}, {'text': 'first.', 'start': 115818, 'end': 116254, 'confidence': 0.97, 'speaker': None}, {'text': 'That', 'start': 116372, 'end': 116654, 'confidence': 0.99997, 'speaker': None}, {'text': 'language', 'start': 116692, 'end': 116986, 'confidence': 0.99999, 'speaker': None}, {'text': 'is', 'start': 117018, 'end': 117166, 'confidence': 0.99999, 'speaker': None}, {'text': 'more', 'start': 117188, 'end': 117326, 'confidence': 1.0, 'speaker': None}, {'text': 'popular', 'start': 117348, 'end': 117674, 'confidence': 0.99997, 'speaker': None}, {'text': 'and', 'start': 117722, 'end': 117886, 'confidence': 1.0, 'speaker': None}, {'text': \"it's\", 'start': 117908, 'end': 118106, 'confidence': 0.99893, 'speaker': None}, {'text': 'continuing', 'start': 118138, 'end': 118470, 'confidence': 0.99986, 'speaker': None}, {'text': 'to', 'start': 118490, 'end': 118626, 'confidence': 1.0, 'speaker': None}, {'text': 'grow.', 'start': 118648, 'end': 118930, 'confidence': 0.99987, 'speaker': None}, {'text': 'This', 'start': 119000, 'end': 119138, 'confidence': 0.99939, 'speaker': None}, {'text': \"isn't\", 'start': 119144, 'end': 119358, 'confidence': 0.99963, 'speaker': None}, {'text': 'to', 'start': 119374, 'end': 119458, 'confidence': 1.0, 'speaker': None}, {'text': 'say', 'start': 119464, 'end': 119634, 'confidence': 0.99997, 'speaker': None}, {'text': 'r', 'start': 119672, 'end': 119874, 'confidence': 0.99, 'speaker': None}, {'text': 'is', 'start': 119912, 'end': 120066, 'confidence': 0.99988, 'speaker': None}, {'text': 'bad,', 'start': 120088, 'end': 120370, 'confidence': 0.9996, 'speaker': None}, {'text': \"it's\", 'start': 120440, 'end': 120766, 'confidence': 0.5885, 'speaker': None}, {'text': 'just', 'start': 120798, 'end': 120994, 'confidence': 0.99996, 'speaker': None}, {'text': 'to', 'start': 121032, 'end': 121138, 'confidence': 1.0, 'speaker': None}, {'text': 'say', 'start': 121144, 'end': 121314, 'confidence': 0.99997, 'speaker': None}, {'text': 'that', 'start': 121352, 'end': 121458, 'confidence': 0.99872, 'speaker': None}, {'text': 'I', 'start': 121464, 'end': 121538, 'confidence': 1.0, 'speaker': None}, {'text': 'think', 'start': 121544, 'end': 121666, 'confidence': 0.99998, 'speaker': None}, {'text': 'Python', 'start': 121688, 'end': 122094, 'confidence': 0.46377, 'speaker': None}, {'text': 'is', 'start': 122142, 'end': 122306, 'confidence': 0.99997, 'speaker': None}, {'text': 'growing', 'start': 122328, 'end': 122654, 'confidence': 0.99995, 'speaker': None}, {'text': 'and', 'start': 122702, 'end': 122866, 'confidence': 1.0, 'speaker': None}, {'text': 'will', 'start': 122888, 'end': 123074, 'confidence': 0.62243, 'speaker': None}, {'text': 'be', 'start': 123112, 'end': 123266, 'confidence': 0.99996, 'speaker': None}, {'text': 'a', 'start': 123288, 'end': 123426, 'confidence': 1.0, 'speaker': None}, {'text': 'more', 'start': 123448, 'end': 123586, 'confidence': 1.0, 'speaker': None}, {'text': 'valuable', 'start': 123608, 'end': 123982, 'confidence': 0.5155, 'speaker': None}, {'text': 'skill', 'start': 124046, 'end': 124334, 'confidence': 0.85187, 'speaker': None}, {'text': 'to', 'start': 124382, 'end': 124546, 'confidence': 1.0, 'speaker': None}, {'text': 'have', 'start': 124568, 'end': 124706, 'confidence': 0.99996, 'speaker': None}, {'text': 'for', 'start': 124728, 'end': 124866, 'confidence': 0.99975, 'speaker': None}, {'text': 'the', 'start': 124888, 'end': 124978, 'confidence': 1.0, 'speaker': None}, {'text': 'job', 'start': 124984, 'end': 125154, 'confidence': 0.99999, 'speaker': None}, {'text': 'market', 'start': 125192, 'end': 125442, 'confidence': 0.99999, 'speaker': None}, {'text': 'in', 'start': 125496, 'end': 125666, 'confidence': 0.99994, 'speaker': None}, {'text': 'general.', 'start': 125688, 'end': 125970, 'confidence': 0.99992, 'speaker': None}, {'text': 'I', 'start': 126040, 'end': 126226, 'confidence': 1.0, 'speaker': None}, {'text': 'also', 'start': 126248, 'end': 126434, 'confidence': 0.99998, 'speaker': None}, {'text': 'personally', 'start': 126472, 'end': 126718, 'confidence': 0.99986, 'speaker': None}, {'text': 'find', 'start': 126734, 'end': 126914, 'confidence': 0.99986, 'speaker': None}, {'text': 'it', 'start': 126952, 'end': 127058, 'confidence': 0.99999, 'speaker': None}, {'text': 'a', 'start': 127064, 'end': 127138, 'confidence': 1.0, 'speaker': None}, {'text': 'bit', 'start': 127144, 'end': 127266, 'confidence': 0.99996, 'speaker': None}, {'text': 'more', 'start': 127288, 'end': 127426, 'confidence': 1.0, 'speaker': None}, {'text': 'intuitive', 'start': 127448, 'end': 127854, 'confidence': 0.99992, 'speaker': None}, {'text': 'and', 'start': 127902, 'end': 128078, 'confidence': 1.0, 'speaker': None}, {'text': 'flexible', 'start': 128104, 'end': 128466, 'confidence': 0.99996, 'speaker': None}, {'text': 'than', 'start': 128498, 'end': 128694, 'confidence': 0.9999, 'speaker': None}, {'text': 'R.', 'start': 128732, 'end': 128982, 'confidence': 0.77, 'speaker': None}, {'text': 'Now', 'start': 129036, 'end': 129206, 'confidence': 1.0, 'speaker': None}, {'text': 'that', 'start': 129228, 'end': 129318, 'confidence': 0.99996, 'speaker': None}, {'text': \"we've\", 'start': 129324, 'end': 129506, 'confidence': 0.99987, 'speaker': None}, {'text': 'chosen', 'start': 129538, 'end': 129778, 'confidence': 0.99998, 'speaker': None}, {'text': 'our', 'start': 129794, 'end': 129926, 'confidence': 0.99984, 'speaker': None}, {'text': 'language', 'start': 129948, 'end': 130226, 'confidence': 0.90901, 'speaker': None}, {'text': 'as', 'start': 130258, 'end': 130406, 'confidence': 0.96331, 'speaker': None}, {'text': 'Python,', 'start': 130428, 'end': 130882, 'confidence': 0.78498, 'speaker': None}, {'text': 'what', 'start': 130946, 'end': 131126, 'confidence': 0.99991, 'speaker': None}, {'text': 'coding', 'start': 131148, 'end': 131426, 'confidence': 0.99981, 'speaker': None}, {'text': 'skills', 'start': 131458, 'end': 131746, 'confidence': 0.99738, 'speaker': None}, {'text': 'should', 'start': 131778, 'end': 131878, 'confidence': 0.99999, 'speaker': None}, {'text': 'my', 'start': 131884, 'end': 132006, 'confidence': 0.99988, 'speaker': None}, {'text': 'friend', 'start': 132028, 'end': 132166, 'confidence': 0.99997, 'speaker': None}, {'text': 'learn', 'start': 132188, 'end': 132374, 'confidence': 0.99998, 'speaker': None}, {'text': 'first?', 'start': 132412, 'end': 132854, 'confidence': 1.0, 'speaker': None}, {'text': 'Should', 'start': 132972, 'end': 133206, 'confidence': 0.99955, 'speaker': None}, {'text': 'he', 'start': 133228, 'end': 133414, 'confidence': 0.93672, 'speaker': None}, {'text': 'focus', 'start': 133452, 'end': 133702, 'confidence': 1.0, 'speaker': None}, {'text': 'on', 'start': 133756, 'end': 133974, 'confidence': 0.99998, 'speaker': None}, {'text': 'variables,', 'start': 134012, 'end': 134514, 'confidence': 0.85516, 'speaker': None}, {'text': 'logic', 'start': 134562, 'end': 134962, 'confidence': 0.54661, 'speaker': None}, {'text': 'functions,', 'start': 135026, 'end': 135426, 'confidence': 0.99976, 'speaker': None}, {'text': 'algorithms?', 'start': 135458, 'end': 136050, 'confidence': 0.39163, 'speaker': None}, {'text': 'Classes?', 'start': 136130, 'end': 136834, 'confidence': 0.76047, 'speaker': None}, {'text': 'My', 'start': 136962, 'end': 137254, 'confidence': 0.99985, 'speaker': None}, {'text': 'mind', 'start': 137292, 'end': 137542, 'confidence': 0.99998, 'speaker': None}, {'text': 'was', 'start': 137596, 'end': 137814, 'confidence': 0.99998, 'speaker': None}, {'text': 'absolutely', 'start': 137852, 'end': 138102, 'confidence': 0.99989, 'speaker': None}, {'text': 'spinning', 'start': 138156, 'end': 138498, 'confidence': 0.77981, 'speaker': None}, {'text': 'when', 'start': 138514, 'end': 138598, 'confidence': 1.0, 'speaker': None}, {'text': 'I', 'start': 138604, 'end': 138726, 'confidence': 1.0, 'speaker': None}, {'text': 'first', 'start': 138748, 'end': 138886, 'confidence': 1.0, 'speaker': None}, {'text': 'addressed', 'start': 138908, 'end': 139266, 'confidence': 0.99884, 'speaker': None}, {'text': 'this.', 'start': 139298, 'end': 139590, 'confidence': 0.99998, 'speaker': None}, {'text': 'It', 'start': 139660, 'end': 139846, 'confidence': 0.99994, 'speaker': None}, {'text': 'took', 'start': 139868, 'end': 140006, 'confidence': 1.0, 'speaker': None}, {'text': 'me', 'start': 140028, 'end': 140166, 'confidence': 0.99999, 'speaker': None}, {'text': 'a', 'start': 140188, 'end': 140278, 'confidence': 1.0, 'speaker': None}, {'text': 'second,', 'start': 140284, 'end': 140502, 'confidence': 1.0, 'speaker': None}, {'text': 'but', 'start': 140556, 'end': 140726, 'confidence': 0.99997, 'speaker': None}, {'text': 'I', 'start': 140748, 'end': 140886, 'confidence': 0.91, 'speaker': None}, {'text': 'had', 'start': 140908, 'end': 141046, 'confidence': 0.99969, 'speaker': None}, {'text': 'this', 'start': 141068, 'end': 141350, 'confidence': 0.99997, 'speaker': None}, {'text': 'weird,', 'start': 141420, 'end': 141794, 'confidence': 0.99991, 'speaker': None}, {'text': 'chaotic', 'start': 141842, 'end': 142318, 'confidence': 0.99543, 'speaker': None}, {'text': 'flashback', 'start': 142354, 'end': 142934, 'confidence': 0.9375, 'speaker': None}, {'text': 'to', 'start': 142982, 'end': 143146, 'confidence': 1.0, 'speaker': None}, {'text': 'my', 'start': 143168, 'end': 143306, 'confidence': 0.99983, 'speaker': None}, {'text': 'first', 'start': 143328, 'end': 143466, 'confidence': 1.0, 'speaker': None}, {'text': 'days', 'start': 143488, 'end': 143674, 'confidence': 0.99875, 'speaker': None}, {'text': 'of', 'start': 143712, 'end': 143866, 'confidence': 1.0, 'speaker': None}, {'text': 'learning', 'start': 143888, 'end': 144122, 'confidence': 0.99996, 'speaker': None}, {'text': 'programming', 'start': 144176, 'end': 144566, 'confidence': 0.99997, 'speaker': None}, {'text': 'myself.', 'start': 144598, 'end': 145082, 'confidence': 0.99998, 'speaker': None}, {'text': 'I', 'start': 145216, 'end': 145466, 'confidence': 1.0, 'speaker': None}, {'text': \"didn't\", 'start': 145488, 'end': 145638, 'confidence': 0.99948, 'speaker': None}, {'text': 'even', 'start': 145654, 'end': 145786, 'confidence': 0.82893, 'speaker': None}, {'text': 'know', 'start': 145808, 'end': 145946, 'confidence': 0.99988, 'speaker': None}, {'text': 'where', 'start': 145968, 'end': 146106, 'confidence': 0.99985, 'speaker': None}, {'text': 'to', 'start': 146128, 'end': 146218, 'confidence': 1.0, 'speaker': None}, {'text': 'start', 'start': 146224, 'end': 146394, 'confidence': 0.98504, 'speaker': None}, {'text': 'with', 'start': 146432, 'end': 146682, 'confidence': 0.77994, 'speaker': None}, {'text': 'getting', 'start': 146736, 'end': 146954, 'confidence': 0.99998, 'speaker': None}, {'text': 'Python', 'start': 146992, 'end': 147414, 'confidence': 0.90359, 'speaker': None}, {'text': 'on', 'start': 147462, 'end': 147626, 'confidence': 0.99998, 'speaker': None}, {'text': 'my', 'start': 147648, 'end': 147738, 'confidence': 0.99999, 'speaker': None}, {'text': 'own', 'start': 147744, 'end': 147914, 'confidence': 0.535, 'speaker': None}, {'text': 'computer.', 'start': 147952, 'end': 148298, 'confidence': 0.99998, 'speaker': None}, {'text': 'I', 'start': 148384, 'end': 148586, 'confidence': 1.0, 'speaker': None}, {'text': 'just', 'start': 148608, 'end': 148746, 'confidence': 0.99998, 'speaker': None}, {'text': 'now', 'start': 148768, 'end': 148954, 'confidence': 1.0, 'speaker': None}, {'text': 'got', 'start': 148992, 'end': 149194, 'confidence': 0.99999, 'speaker': None}, {'text': 'excited', 'start': 149232, 'end': 149574, 'confidence': 0.99997, 'speaker': None}, {'text': 'about', 'start': 149622, 'end': 149786, 'confidence': 1.0, 'speaker': None}, {'text': 'teaching', 'start': 149808, 'end': 150086, 'confidence': 0.9999, 'speaker': None}, {'text': 'the', 'start': 150118, 'end': 150218, 'confidence': 1.0, 'speaker': None}, {'text': 'functional', 'start': 150224, 'end': 150566, 'confidence': 0.99978, 'speaker': None}, {'text': 'part', 'start': 150598, 'end': 150746, 'confidence': 0.99999, 'speaker': None}, {'text': 'of', 'start': 150768, 'end': 150906, 'confidence': 1.0, 'speaker': None}, {'text': 'programming,', 'start': 150928, 'end': 151430, 'confidence': 0.69588, 'speaker': None}, {'text': 'and', 'start': 151510, 'end': 151706, 'confidence': 1.0, 'speaker': None}, {'text': 'I', 'start': 151728, 'end': 151914, 'confidence': 1.0, 'speaker': None}, {'text': 'completely', 'start': 151952, 'end': 152250, 'confidence': 0.99999, 'speaker': None}, {'text': 'forgot', 'start': 152320, 'end': 152774, 'confidence': 0.81985, 'speaker': None}, {'text': 'about', 'start': 152822, 'end': 153082, 'confidence': 1.0, 'speaker': None}, {'text': 'the', 'start': 153136, 'end': 153306, 'confidence': 1.0, 'speaker': None}, {'text': 'basics', 'start': 153328, 'end': 153734, 'confidence': 0.99998, 'speaker': None}, {'text': 'of', 'start': 153782, 'end': 153994, 'confidence': 1.0, 'speaker': None}, {'text': 'setting', 'start': 154032, 'end': 154278, 'confidence': 0.99993, 'speaker': None}, {'text': 'up', 'start': 154294, 'end': 154426, 'confidence': 0.99994, 'speaker': None}, {'text': 'your', 'start': 154448, 'end': 154634, 'confidence': 0.91368, 'speaker': None}, {'text': 'environment', 'start': 154672, 'end': 155106, 'confidence': 0.98632, 'speaker': None}, {'text': 'for', 'start': 155158, 'end': 155326, 'confidence': 0.99994, 'speaker': None}, {'text': 'success.', 'start': 155348, 'end': 155774, 'confidence': 0.99998, 'speaker': None}, {'text': 'The', 'start': 155892, 'end': 156078, 'confidence': 1.0, 'speaker': None}, {'text': 'next', 'start': 156084, 'end': 156254, 'confidence': 0.99997, 'speaker': None}, {'text': 'thing', 'start': 156292, 'end': 156446, 'confidence': 0.99997, 'speaker': None}, {'text': 'I', 'start': 156468, 'end': 156558, 'confidence': 1.0, 'speaker': None}, {'text': 'did', 'start': 156564, 'end': 156686, 'confidence': 0.99999, 'speaker': None}, {'text': 'was', 'start': 156708, 'end': 156846, 'confidence': 0.99997, 'speaker': None}, {'text': 'give', 'start': 156868, 'end': 157006, 'confidence': 0.99983, 'speaker': None}, {'text': 'my', 'start': 157028, 'end': 157118, 'confidence': 0.99993, 'speaker': None}, {'text': 'friend', 'start': 157124, 'end': 157294, 'confidence': 0.68244, 'speaker': None}, {'text': 'some', 'start': 157332, 'end': 157486, 'confidence': 0.99264, 'speaker': None}, {'text': 'of', 'start': 157508, 'end': 157598, 'confidence': 1.0, 'speaker': None}, {'text': 'my', 'start': 157604, 'end': 157726, 'confidence': 0.99813, 'speaker': None}, {'text': 'favorite', 'start': 157748, 'end': 158026, 'confidence': 0.99878, 'speaker': None}, {'text': 'resources', 'start': 158058, 'end': 158554, 'confidence': 0.99712, 'speaker': None}, {'text': 'on', 'start': 158602, 'end': 158766, 'confidence': 0.99991, 'speaker': None}, {'text': 'choosing', 'start': 158788, 'end': 159066, 'confidence': 0.4903, 'speaker': None}, {'text': 'an', 'start': 159098, 'end': 159294, 'confidence': 0.64, 'speaker': None}, {'text': 'environment', 'start': 159332, 'end': 159850, 'confidence': 0.99957, 'speaker': None}, {'text': 'and', 'start': 159930, 'end': 160174, 'confidence': 1.0, 'speaker': None}, {'text': 'getting', 'start': 160212, 'end': 160414, 'confidence': 0.9999, 'speaker': None}, {'text': 'the', 'start': 160452, 'end': 160558, 'confidence': 1.0, 'speaker': None}, {'text': 'right', 'start': 160564, 'end': 160734, 'confidence': 0.96932, 'speaker': None}, {'text': 'version', 'start': 160772, 'end': 161018, 'confidence': 0.99997, 'speaker': None}, {'text': 'of', 'start': 161034, 'end': 161166, 'confidence': 1.0, 'speaker': None}, {'text': 'Python', 'start': 161188, 'end': 161626, 'confidence': 0.8476, 'speaker': None}, {'text': 'on', 'start': 161658, 'end': 161806, 'confidence': 0.99999, 'speaker': None}, {'text': 'his', 'start': 161828, 'end': 161966, 'confidence': 0.99998, 'speaker': None}, {'text': 'computer.', 'start': 161988, 'end': 162318, 'confidence': 0.99992, 'speaker': None}, {'text': 'Honestly,', 'start': 162404, 'end': 162746, 'confidence': 0.99407, 'speaker': None}, {'text': 'I', 'start': 162778, 'end': 162878, 'confidence': 1.0, 'speaker': None}, {'text': 'was', 'start': 162884, 'end': 162958, 'confidence': 0.99997, 'speaker': None}, {'text': 'a', 'start': 162964, 'end': 163038, 'confidence': 1.0, 'speaker': None}, {'text': 'bit', 'start': 163044, 'end': 163166, 'confidence': 0.99999, 'speaker': None}, {'text': 'torn', 'start': 163188, 'end': 163338, 'confidence': 0.99973, 'speaker': None}, {'text': 'on', 'start': 163354, 'end': 163486, 'confidence': 0.99989, 'speaker': None}, {'text': 'this', 'start': 163508, 'end': 163646, 'confidence': 0.99996, 'speaker': None}, {'text': 'too.', 'start': 163668, 'end': 163902, 'confidence': 0.99922, 'speaker': None}, {'text': 'So,', 'start': 163956, 'end': 164174, 'confidence': 1.0, 'speaker': None}, {'text': 'for', 'start': 164212, 'end': 164366, 'confidence': 0.99997, 'speaker': None}, {'text': 'example,', 'start': 164388, 'end': 164670, 'confidence': 0.99994, 'speaker': None}, {'text': 'what', 'start': 164740, 'end': 164926, 'confidence': 0.99995, 'speaker': None}, {'text': 'IDE', 'start': 164948, 'end': 165230, 'confidence': 0.99984, 'speaker': None}, {'text': 'should', 'start': 165300, 'end': 165486, 'confidence': 0.99989, 'speaker': None}, {'text': 'he', 'start': 165508, 'end': 165646, 'confidence': 0.99265, 'speaker': None}, {'text': 'use?', 'start': 165668, 'end': 165854, 'confidence': 0.79039, 'speaker': None}, {'text': 'Does', 'start': 165892, 'end': 166046, 'confidence': 0.74878, 'speaker': None}, {'text': 'he', 'start': 166068, 'end': 166158, 'confidence': 0.99555, 'speaker': None}, {'text': 'even', 'start': 166164, 'end': 166286, 'confidence': 0.56205, 'speaker': None}, {'text': 'know', 'start': 166308, 'end': 166458, 'confidence': 0.99996, 'speaker': None}, {'text': 'what', 'start': 166484, 'end': 166626, 'confidence': 0.99995, 'speaker': None}, {'text': 'IDE', 'start': 166648, 'end': 166978, 'confidence': 0.99929, 'speaker': None}, {'text': 'stands', 'start': 167064, 'end': 167326, 'confidence': 0.98245, 'speaker': None}, {'text': 'for?', 'start': 167358, 'end': 167554, 'confidence': 0.99526, 'speaker': None}, {'text': 'For', 'start': 167592, 'end': 167746, 'confidence': 0.99546, 'speaker': None}, {'text': 'those', 'start': 167768, 'end': 167906, 'confidence': 0.9999, 'speaker': None}, {'text': 'who', 'start': 167928, 'end': 168066, 'confidence': 0.99973, 'speaker': None}, {'text': \"don't\", 'start': 168088, 'end': 168286, 'confidence': 0.99989, 'speaker': None}, {'text': 'know', 'start': 168318, 'end': 168514, 'confidence': 0.99993, 'speaker': None}, {'text': 'and', 'start': 168552, 'end': 168706, 'confidence': 1.0, 'speaker': None}, {'text': 'who', 'start': 168728, 'end': 168866, 'confidence': 0.99995, 'speaker': None}, {'text': 'are', 'start': 168888, 'end': 169026, 'confidence': 0.99992, 'speaker': None}, {'text': 'new,', 'start': 169048, 'end': 169330, 'confidence': 1.0, 'speaker': None}, {'text': 'IDE', 'start': 169400, 'end': 169826, 'confidence': 0.82047, 'speaker': None}, {'text': 'stands', 'start': 169928, 'end': 170238, 'confidence': 0.99931, 'speaker': None}, {'text': 'for', 'start': 170254, 'end': 170434, 'confidence': 0.99992, 'speaker': None}, {'text': 'integrated', 'start': 170472, 'end': 171070, 'confidence': 0.99954, 'speaker': None}, {'text': 'development', 'start': 171150, 'end': 171614, 'confidence': 0.99125, 'speaker': None}, {'text': 'environment.', 'start': 171662, 'end': 172366, 'confidence': 0.99975, 'speaker': None}, {'text': 'So', 'start': 172478, 'end': 172754, 'confidence': 0.99, 'speaker': None}, {'text': 'this', 'start': 172792, 'end': 172946, 'confidence': 0.99996, 'speaker': None}, {'text': 'is', 'start': 172968, 'end': 173106, 'confidence': 0.99996, 'speaker': None}, {'text': 'essentially', 'start': 173128, 'end': 173502, 'confidence': 0.99996, 'speaker': None}, {'text': 'just', 'start': 173566, 'end': 173746, 'confidence': 0.99987, 'speaker': None}, {'text': 'the', 'start': 173768, 'end': 173906, 'confidence': 0.81, 'speaker': None}, {'text': 'text', 'start': 173928, 'end': 174114, 'confidence': 0.99862, 'speaker': None}, {'text': 'editor', 'start': 174152, 'end': 174446, 'confidence': 0.99784, 'speaker': None}, {'text': 'you', 'start': 174478, 'end': 174626, 'confidence': 0.99979, 'speaker': None}, {'text': 'use', 'start': 174648, 'end': 174834, 'confidence': 0.9992, 'speaker': None}, {'text': 'to', 'start': 174872, 'end': 175026, 'confidence': 1.0, 'speaker': None}, {'text': 'write', 'start': 175048, 'end': 175186, 'confidence': 0.99987, 'speaker': None}, {'text': 'your', 'start': 175208, 'end': 175394, 'confidence': 0.93901, 'speaker': None}, {'text': 'code.', 'start': 175432, 'end': 175730, 'confidence': 0.99993, 'speaker': None}, {'text': 'If', 'start': 175800, 'end': 175986, 'confidence': 0.99959, 'speaker': None}, {'text': 'you', 'start': 176008, 'end': 176098, 'confidence': 0.99998, 'speaker': None}, {'text': 'were', 'start': 176104, 'end': 176226, 'confidence': 0.60034, 'speaker': None}, {'text': 'writing', 'start': 176248, 'end': 176542, 'confidence': 0.9985, 'speaker': None}, {'text': 'an', 'start': 176606, 'end': 176786, 'confidence': 1.0, 'speaker': None}, {'text': 'essay,', 'start': 176808, 'end': 177230, 'confidence': 0.99985, 'speaker': None}, {'text': 'you', 'start': 177310, 'end': 177458, 'confidence': 0.9992, 'speaker': None}, {'text': 'could', 'start': 177464, 'end': 177634, 'confidence': 0.50381, 'speaker': None}, {'text': 'choose', 'start': 177672, 'end': 177874, 'confidence': 0.99997, 'speaker': None}, {'text': 'to', 'start': 177912, 'end': 178018, 'confidence': 1.0, 'speaker': None}, {'text': 'use', 'start': 178024, 'end': 178194, 'confidence': 0.99982, 'speaker': None}, {'text': 'Microsoft', 'start': 178232, 'end': 178686, 'confidence': 0.93451, 'speaker': None}, {'text': 'Word.', 'start': 178718, 'end': 178914, 'confidence': 0.99987, 'speaker': None}, {'text': 'You', 'start': 178952, 'end': 179106, 'confidence': 0.68846, 'speaker': None}, {'text': 'could', 'start': 179128, 'end': 179218, 'confidence': 0.99157, 'speaker': None}, {'text': 'use', 'start': 179224, 'end': 179394, 'confidence': 0.99986, 'speaker': None}, {'text': 'Google', 'start': 179432, 'end': 179682, 'confidence': 1.0, 'speaker': None}, {'text': 'Docs,', 'start': 179736, 'end': 180222, 'confidence': 0.69846, 'speaker': None}, {'text': 'you', 'start': 180286, 'end': 180466, 'confidence': 0.99595, 'speaker': None}, {'text': 'could', 'start': 180488, 'end': 180590, 'confidence': 0.99657, 'speaker': None}, {'text': 'use', 'start': 180600, 'end': 180774, 'confidence': 0.60387, 'speaker': None}, {'text': 'notepad,', 'start': 180812, 'end': 181314, 'confidence': 0.54625, 'speaker': None}, {'text': 'or', 'start': 181362, 'end': 181526, 'confidence': 0.9998, 'speaker': None}, {'text': 'maybe', 'start': 181548, 'end': 181734, 'confidence': 0.99974, 'speaker': None}, {'text': 'even', 'start': 181772, 'end': 181926, 'confidence': 0.99991, 'speaker': None}, {'text': 'just', 'start': 181948, 'end': 182326, 'confidence': 0.99767, 'speaker': None}, {'text': 'straight', 'start': 182428, 'end': 182706, 'confidence': 0.97617, 'speaker': None}, {'text': 'up', 'start': 182738, 'end': 182886, 'confidence': 0.98851, 'speaker': None}, {'text': 'pen', 'start': 182908, 'end': 183094, 'confidence': 0.99987, 'speaker': None}, {'text': 'and', 'start': 183132, 'end': 183238, 'confidence': 1.0, 'speaker': None}, {'text': 'paper,', 'start': 183244, 'end': 183510, 'confidence': 0.99987, 'speaker': None}, {'text': 'just', 'start': 183580, 'end': 183766, 'confidence': 0.99991, 'speaker': None}, {'text': 'like', 'start': 183788, 'end': 183926, 'confidence': 1.0, 'speaker': None}, {'text': 'there', 'start': 183948, 'end': 184038, 'confidence': 0.99794, 'speaker': None}, {'text': 'are', 'start': 184044, 'end': 184166, 'confidence': 0.90973, 'speaker': None}, {'text': 'these', 'start': 184188, 'end': 184326, 'confidence': 0.99994, 'speaker': None}, {'text': 'different', 'start': 184348, 'end': 184486, 'confidence': 0.99998, 'speaker': None}, {'text': 'mediums', 'start': 184508, 'end': 184898, 'confidence': 0.77601, 'speaker': None}, {'text': 'for', 'start': 184914, 'end': 185046, 'confidence': 0.99948, 'speaker': None}, {'text': 'you', 'start': 185068, 'end': 185158, 'confidence': 0.99979, 'speaker': None}, {'text': 'to', 'start': 185164, 'end': 185238, 'confidence': 1.0, 'speaker': None}, {'text': 'write', 'start': 185244, 'end': 185414, 'confidence': 0.9702, 'speaker': None}, {'text': 'your', 'start': 185452, 'end': 185606, 'confidence': 0.99992, 'speaker': None}, {'text': 'last', 'start': 185628, 'end': 185766, 'confidence': 0.99926, 'speaker': None}, {'text': 'minute', 'start': 185788, 'end': 186066, 'confidence': 0.99, 'speaker': None}, {'text': 'paper.', 'start': 186098, 'end': 186390, 'confidence': 0.99996, 'speaker': None}, {'text': 'Data', 'start': 186460, 'end': 186742, 'confidence': 0.76057, 'speaker': None}, {'text': 'scientists', 'start': 186796, 'end': 187186, 'confidence': 0.99596, 'speaker': None}, {'text': 'and', 'start': 187218, 'end': 187318, 'confidence': 1.0, 'speaker': None}, {'text': 'software', 'start': 187324, 'end': 187586, 'confidence': 0.99999, 'speaker': None}, {'text': 'engineers', 'start': 187618, 'end': 188178, 'confidence': 0.99985, 'speaker': None}, {'text': 'need', 'start': 188274, 'end': 188534, 'confidence': 0.99993, 'speaker': None}, {'text': 'places', 'start': 188572, 'end': 188866, 'confidence': 0.99992, 'speaker': None}, {'text': 'to', 'start': 188898, 'end': 188998, 'confidence': 1.0, 'speaker': None}, {'text': 'write', 'start': 189004, 'end': 189126, 'confidence': 0.99975, 'speaker': None}, {'text': 'their', 'start': 189148, 'end': 189334, 'confidence': 1.0, 'speaker': None}, {'text': 'code.', 'start': 189372, 'end': 189814, 'confidence': 0.99995, 'speaker': None}, {'text': 'These', 'start': 189932, 'end': 190214, 'confidence': 0.99969, 'speaker': None}, {'text': 'places', 'start': 190252, 'end': 190594, 'confidence': 0.99959, 'speaker': None}, {'text': 'are', 'start': 190642, 'end': 190806, 'confidence': 0.9999, 'speaker': None}, {'text': 'called', 'start': 190828, 'end': 191014, 'confidence': 0.99997, 'speaker': None}, {'text': 'ides,', 'start': 191052, 'end': 191682, 'confidence': 0.94975, 'speaker': None}, {'text': 'and', 'start': 191746, 'end': 191926, 'confidence': 0.99, 'speaker': None}, {'text': 'just', 'start': 191948, 'end': 192086, 'confidence': 0.99953, 'speaker': None}, {'text': 'like', 'start': 192108, 'end': 192258, 'confidence': 1.0, 'speaker': None}, {'text': 'Microsoft', 'start': 192284, 'end': 192726, 'confidence': 0.9967, 'speaker': None}, {'text': 'Word', 'start': 192758, 'end': 192954, 'confidence': 0.99993, 'speaker': None}, {'text': 'has', 'start': 192992, 'end': 193146, 'confidence': 0.99912, 'speaker': None}, {'text': 'spell', 'start': 193168, 'end': 193366, 'confidence': 0.92623, 'speaker': None}, {'text': 'track', 'start': 193398, 'end': 193594, 'confidence': 0.82711, 'speaker': None}, {'text': 'and', 'start': 193632, 'end': 193738, 'confidence': 0.99, 'speaker': None}, {'text': 'formatting', 'start': 193744, 'end': 194246, 'confidence': 0.99986, 'speaker': None}, {'text': 'to', 'start': 194278, 'end': 194378, 'confidence': 1.0, 'speaker': None}, {'text': 'make', 'start': 194384, 'end': 194458, 'confidence': 0.99997, 'speaker': None}, {'text': 'sure', 'start': 194464, 'end': 194586, 'confidence': 0.99986, 'speaker': None}, {'text': 'that', 'start': 194608, 'end': 194698, 'confidence': 0.99833, 'speaker': None}, {'text': 'you', 'start': 194704, 'end': 194778, 'confidence': 0.99985, 'speaker': None}, {'text': \"don't\", 'start': 194784, 'end': 194918, 'confidence': 0.99983, 'speaker': None}, {'text': 'make', 'start': 194934, 'end': 195066, 'confidence': 0.99996, 'speaker': None}, {'text': 'grammatical', 'start': 195088, 'end': 195606, 'confidence': 0.82874, 'speaker': None}, {'text': 'errors,', 'start': 195638, 'end': 196198, 'confidence': 0.99961, 'speaker': None}, {'text': 'many', 'start': 196294, 'end': 196602, 'confidence': 0.99994, 'speaker': None}, {'text': 'ides', 'start': 196656, 'end': 197126, 'confidence': 0.99457, 'speaker': None}, {'text': 'help', 'start': 197158, 'end': 197354, 'confidence': 0.99999, 'speaker': None}, {'text': 'you', 'start': 197392, 'end': 197594, 'confidence': 0.99959, 'speaker': None}, {'text': 'to', 'start': 197632, 'end': 197834, 'confidence': 1.0, 'speaker': None}, {'text': 'make', 'start': 197872, 'end': 198026, 'confidence': 0.99991, 'speaker': None}, {'text': 'sure', 'start': 198048, 'end': 198234, 'confidence': 0.99998, 'speaker': None}, {'text': 'that', 'start': 198272, 'end': 198378, 'confidence': 0.9989, 'speaker': None}, {'text': 'you', 'start': 198384, 'end': 198506, 'confidence': 0.99928, 'speaker': None}, {'text': 'have', 'start': 198528, 'end': 198810, 'confidence': 0.99973, 'speaker': None}, {'text': 'proper', 'start': 198880, 'end': 199162, 'confidence': 0.99996, 'speaker': None}, {'text': 'syntax', 'start': 199216, 'end': 199686, 'confidence': 0.99895, 'speaker': None}, {'text': 'in', 'start': 199718, 'end': 199818, 'confidence': 0.99996, 'speaker': None}, {'text': 'your', 'start': 199824, 'end': 199946, 'confidence': 0.9504, 'speaker': None}, {'text': 'code.', 'start': 199968, 'end': 200298, 'confidence': 0.99975, 'speaker': None}, {'text': 'In', 'start': 200384, 'end': 200586, 'confidence': 0.99332, 'speaker': None}, {'text': 'theory,', 'start': 200608, 'end': 201210, 'confidence': 0.98346, 'speaker': None}, {'text': 'technically', 'start': 201550, 'end': 202102, 'confidence': 0.99995, 'speaker': None}, {'text': 'Microsoft', 'start': 202166, 'end': 202726, 'confidence': 0.99715, 'speaker': None}, {'text': 'Word', 'start': 202758, 'end': 203002, 'confidence': 0.99999, 'speaker': None}, {'text': 'would', 'start': 203056, 'end': 203226, 'confidence': 0.99979, 'speaker': None}, {'text': 'be', 'start': 203248, 'end': 203434, 'confidence': 0.99837, 'speaker': None}, {'text': 'considered', 'start': 203472, 'end': 203798, 'confidence': 0.99995, 'speaker': None}, {'text': 'an', 'start': 203814, 'end': 203946, 'confidence': 1.0, 'speaker': None}, {'text': 'IDE,', 'start': 203968, 'end': 204394, 'confidence': 0.99855, 'speaker': None}, {'text': 'but', 'start': 204512, 'end': 204794, 'confidence': 0.99998, 'speaker': None}, {'text': 'I', 'start': 204832, 'end': 204986, 'confidence': 1.0, 'speaker': None}, {'text': 'definitely', 'start': 205008, 'end': 205206, 'confidence': 0.99982, 'speaker': None}, {'text': \"don't\", 'start': 205248, 'end': 205466, 'confidence': 0.98466, 'speaker': None}, {'text': 'recommend', 'start': 205498, 'end': 205838, 'confidence': 0.99994, 'speaker': None}, {'text': 'using', 'start': 205924, 'end': 206174, 'confidence': 0.99991, 'speaker': None}, {'text': 'it', 'start': 206212, 'end': 206318, 'confidence': 0.99995, 'speaker': None}, {'text': 'as', 'start': 206324, 'end': 206446, 'confidence': 0.99965, 'speaker': None}, {'text': 'such', 'start': 206468, 'end': 206750, 'confidence': 0.99985, 'speaker': None}, {'text': 'unless', 'start': 206820, 'end': 207066, 'confidence': 0.9996, 'speaker': None}, {'text': \"you're\", 'start': 207098, 'end': 207258, 'confidence': 0.98995, 'speaker': None}, {'text': 'Juma', 'start': 207274, 'end': 207578, 'confidence': 0.1705, 'speaker': None}, {'text': 'tech.', 'start': 207594, 'end': 207918, 'confidence': 0.99, 'speaker': None}, {'text': 'This', 'start': 208004, 'end': 208158, 'confidence': 0.99997, 'speaker': None}, {'text': 'is', 'start': 208164, 'end': 208286, 'confidence': 0.9999, 'speaker': None}, {'text': 'a', 'start': 208308, 'end': 208446, 'confidence': 0.97, 'speaker': None}, {'text': 'list', 'start': 208468, 'end': 208654, 'confidence': 1.0, 'speaker': None}, {'text': 'of', 'start': 208692, 'end': 208798, 'confidence': 1.0, 'speaker': None}, {'text': 'the', 'start': 208804, 'end': 208926, 'confidence': 1.0, 'speaker': None}, {'text': 'most', 'start': 208948, 'end': 209086, 'confidence': 0.99997, 'speaker': None}, {'text': 'commonly', 'start': 209108, 'end': 209466, 'confidence': 0.94433, 'speaker': None}, {'text': 'used', 'start': 209498, 'end': 209790, 'confidence': 0.98614, 'speaker': None}, {'text': 'ides', 'start': 209860, 'end': 210346, 'confidence': 0.99659, 'speaker': None}, {'text': 'in', 'start': 210378, 'end': 210478, 'confidence': 0.99998, 'speaker': None}, {'text': 'the', 'start': 210484, 'end': 210558, 'confidence': 1.0, 'speaker': None}, {'text': 'data', 'start': 210564, 'end': 210782, 'confidence': 0.99975, 'speaker': None}, {'text': 'domain,', 'start': 210836, 'end': 211418, 'confidence': 0.99959, 'speaker': None}, {'text': 'and', 'start': 211514, 'end': 211726, 'confidence': 0.99, 'speaker': None}, {'text': 'as', 'start': 211748, 'end': 211886, 'confidence': 0.99997, 'speaker': None}, {'text': 'you', 'start': 211908, 'end': 211998, 'confidence': 1.0, 'speaker': None}, {'text': 'can', 'start': 212004, 'end': 212078, 'confidence': 1.0, 'speaker': None}, {'text': 'see,', 'start': 212084, 'end': 212302, 'confidence': 0.99807, 'speaker': None}, {'text': 'common', 'start': 212356, 'end': 212622, 'confidence': 0.99999, 'speaker': None}, {'text': 'ides', 'start': 212676, 'end': 213098, 'confidence': 0.98523, 'speaker': None}, {'text': 'for', 'start': 213114, 'end': 213246, 'confidence': 0.99994, 'speaker': None}, {'text': 'Python', 'start': 213268, 'end': 213674, 'confidence': 0.56197, 'speaker': None}, {'text': 'are', 'start': 213722, 'end': 213886, 'confidence': 0.99835, 'speaker': None}, {'text': 'vs.', 'start': 213908, 'end': 214186, 'confidence': 0.9791, 'speaker': None}, {'text': 'Code,', 'start': 214218, 'end': 214606, 'confidence': 0.62655, 'speaker': None}, {'text': 'Jupyter,', 'start': 214708, 'end': 215158, 'confidence': 0.99508, 'speaker': None}, {'text': 'notebook,', 'start': 215194, 'end': 215662, 'confidence': 0.99939, 'speaker': None}, {'text': 'pycharm,', 'start': 215726, 'end': 216318, 'confidence': 0.92972, 'speaker': None}, {'text': 'and', 'start': 216334, 'end': 216466, 'confidence': 1.0, 'speaker': None}, {'text': 'spider.', 'start': 216488, 'end': 217198, 'confidence': 0.48546, 'speaker': None}, {'text': 'Before', 'start': 217374, 'end': 217810, 'confidence': 0.9999, 'speaker': None}, {'text': 'anything', 'start': 217880, 'end': 218162, 'confidence': 0.99981, 'speaker': None}, {'text': 'else,', 'start': 218216, 'end': 218530, 'confidence': 0.99995, 'speaker': None}, {'text': 'I', 'start': 218600, 'end': 218834, 'confidence': 1.0, 'speaker': None}, {'text': 'wanted', 'start': 218872, 'end': 219026, 'confidence': 0.99994, 'speaker': None}, {'text': 'to', 'start': 219048, 'end': 219186, 'confidence': 1.0, 'speaker': None}, {'text': 'give', 'start': 219208, 'end': 219346, 'confidence': 0.99995, 'speaker': None}, {'text': 'him', 'start': 219368, 'end': 219506, 'confidence': 0.99994, 'speaker': None}, {'text': 'a', 'start': 219528, 'end': 219666, 'confidence': 1.0, 'speaker': None}, {'text': 'decent', 'start': 219688, 'end': 219934, 'confidence': 0.9992, 'speaker': None}, {'text': 'understanding', 'start': 219982, 'end': 220494, 'confidence': 0.99998, 'speaker': None}, {'text': 'about', 'start': 220542, 'end': 220754, 'confidence': 1.0, 'speaker': None}, {'text': 'how', 'start': 220792, 'end': 220946, 'confidence': 0.99998, 'speaker': None}, {'text': 'the', 'start': 220968, 'end': 221106, 'confidence': 1.0, 'speaker': None}, {'text': 'development', 'start': 221128, 'end': 221662, 'confidence': 0.99985, 'speaker': None}, {'text': 'environments', 'start': 221726, 'end': 222222, 'confidence': 0.99926, 'speaker': None}, {'text': 'work', 'start': 222286, 'end': 222610, 'confidence': 0.53, 'speaker': None}, {'text': 'before', 'start': 222680, 'end': 222962, 'confidence': 0.99919, 'speaker': None}, {'text': 'we', 'start': 223016, 'end': 223186, 'confidence': 0.99958, 'speaker': None}, {'text': 'picked', 'start': 223208, 'end': 223406, 'confidence': 0.90688, 'speaker': None}, {'text': 'one.', 'start': 223438, 'end': 223730, 'confidence': 1.0, 'speaker': None}, {'text': 'As', 'start': 223800, 'end': 223986, 'confidence': 0.99982, 'speaker': None}, {'text': 'I', 'start': 224008, 'end': 224146, 'confidence': 1.0, 'speaker': None}, {'text': 'mentioned,', 'start': 224168, 'end': 224546, 'confidence': 0.99998, 'speaker': None}, {'text': 'this', 'start': 224648, 'end': 224866, 'confidence': 0.99999, 'speaker': None}, {'text': 'is', 'start': 224888, 'end': 225026, 'confidence': 0.99965, 'speaker': None}, {'text': 'something', 'start': 225048, 'end': 225282, 'confidence': 0.99996, 'speaker': None}, {'text': 'that', 'start': 225336, 'end': 225506, 'confidence': 0.99982, 'speaker': None}, {'text': 'I', 'start': 225528, 'end': 225666, 'confidence': 1.0, 'speaker': None}, {'text': 'was', 'start': 225688, 'end': 225874, 'confidence': 0.99871, 'speaker': None}, {'text': 'totally', 'start': 225912, 'end': 226254, 'confidence': 0.9984, 'speaker': None}, {'text': 'confused', 'start': 226302, 'end': 226686, 'confidence': 0.99999, 'speaker': None}, {'text': 'about', 'start': 226718, 'end': 226914, 'confidence': 1.0, 'speaker': None}, {'text': 'when', 'start': 226952, 'end': 227106, 'confidence': 0.99992, 'speaker': None}, {'text': 'I', 'start': 227128, 'end': 227266, 'confidence': 1.0, 'speaker': None}, {'text': 'started.', 'start': 227288, 'end': 227714, 'confidence': 1.0, 'speaker': None}, {'text': 'When', 'start': 227832, 'end': 228066, 'confidence': 0.9998, 'speaker': None}, {'text': 'I', 'start': 228088, 'end': 228178, 'confidence': 1.0, 'speaker': None}, {'text': 'learned', 'start': 228184, 'end': 228366, 'confidence': 0.9964, 'speaker': None}, {'text': 'to', 'start': 228398, 'end': 228498, 'confidence': 0.81, 'speaker': None}, {'text': 'code,', 'start': 228504, 'end': 228770, 'confidence': 0.99984, 'speaker': None}, {'text': 'I', 'start': 228840, 'end': 228990, 'confidence': 1.0, 'speaker': None}, {'text': 'was', 'start': 229000, 'end': 229174, 'confidence': 0.99913, 'speaker': None}, {'text': 'using', 'start': 229212, 'end': 229462, 'confidence': 0.99997, 'speaker': None}, {'text': 'Python', 'start': 229516, 'end': 230002, 'confidence': 0.66341, 'speaker': None}, {'text': 'and', 'start': 230066, 'end': 230246, 'confidence': 1.0, 'speaker': None}, {'text': 'I', 'start': 230268, 'end': 230358, 'confidence': 1.0, 'speaker': None}, {'text': 'was', 'start': 230364, 'end': 230486, 'confidence': 0.99997, 'speaker': None}, {'text': 'using', 'start': 230508, 'end': 230646, 'confidence': 0.99979, 'speaker': None}, {'text': 'an', 'start': 230668, 'end': 230806, 'confidence': 1.0, 'speaker': None}, {'text': 'ide', 'start': 230828, 'end': 231158, 'confidence': 0.96731, 'speaker': None}, {'text': 'called', 'start': 231244, 'end': 231494, 'confidence': 0.99994, 'speaker': None}, {'text': 'idle.', 'start': 231532, 'end': 232002, 'confidence': 0.93445, 'speaker': None}, {'text': 'So', 'start': 232066, 'end': 232294, 'confidence': 0.98, 'speaker': None}, {'text': 'idle', 'start': 232332, 'end': 232626, 'confidence': 0.90339, 'speaker': None}, {'text': 'was', 'start': 232658, 'end': 232806, 'confidence': 0.95607, 'speaker': None}, {'text': 'great', 'start': 232828, 'end': 232966, 'confidence': 0.99998, 'speaker': None}, {'text': 'for', 'start': 232988, 'end': 233126, 'confidence': 0.99999, 'speaker': None}, {'text': 'learning,', 'start': 233148, 'end': 233478, 'confidence': 0.99997, 'speaker': None}, {'text': 'but', 'start': 233564, 'end': 233766, 'confidence': 0.99998, 'speaker': None}, {'text': \"I've\", 'start': 233788, 'end': 234066, 'confidence': 0.51163, 'speaker': None}, {'text': 'literally', 'start': 234098, 'end': 234402, 'confidence': 0.66889, 'speaker': None}, {'text': 'never', 'start': 234466, 'end': 234790, 'confidence': 0.99453, 'speaker': None}, {'text': 'once', 'start': 234860, 'end': 235142, 'confidence': 0.99984, 'speaker': None}, {'text': 'touched', 'start': 235196, 'end': 235506, 'confidence': 0.99987, 'speaker': None}, {'text': 'it', 'start': 235538, 'end': 235686, 'confidence': 0.99997, 'speaker': None}, {'text': 'since,', 'start': 235708, 'end': 236134, 'confidence': 0.99911, 'speaker': None}, {'text': 'and', 'start': 236252, 'end': 236630, 'confidence': 0.99, 'speaker': None}, {'text': 'I', 'start': 236700, 'end': 236934, 'confidence': 1.0, 'speaker': None}, {'text': \"don't\", 'start': 236972, 'end': 237138, 'confidence': 0.99994, 'speaker': None}, {'text': 'use', 'start': 237154, 'end': 237286, 'confidence': 0.99999, 'speaker': None}, {'text': 'it', 'start': 237308, 'end': 237398, 'confidence': 0.99999, 'speaker': None}, {'text': 'on', 'start': 237404, 'end': 237526, 'confidence': 0.99997, 'speaker': None}, {'text': 'any', 'start': 237548, 'end': 237686, 'confidence': 0.99998, 'speaker': None}, {'text': 'data', 'start': 237708, 'end': 237942, 'confidence': 0.99997, 'speaker': None}, {'text': 'projects', 'start': 237996, 'end': 238306, 'confidence': 0.66881, 'speaker': None}, {'text': 'in', 'start': 238338, 'end': 238486, 'confidence': 0.94982, 'speaker': None}, {'text': 'any', 'start': 238508, 'end': 238646, 'confidence': 0.99995, 'speaker': None}, {'text': 'of', 'start': 238668, 'end': 238806, 'confidence': 1.0, 'speaker': None}, {'text': 'my', 'start': 238828, 'end': 238966, 'confidence': 0.99997, 'speaker': None}, {'text': 'work.', 'start': 238988, 'end': 239318, 'confidence': 1.0, 'speaker': None}, {'text': 'I', 'start': 239404, 'end': 239606, 'confidence': 1.0, 'speaker': None}, {'text': 'wanted', 'start': 239628, 'end': 239814, 'confidence': 0.99992, 'speaker': None}, {'text': 'to', 'start': 239852, 'end': 239958, 'confidence': 1.0, 'speaker': None}, {'text': 'make', 'start': 239964, 'end': 240134, 'confidence': 0.99983, 'speaker': None}, {'text': 'sure', 'start': 240172, 'end': 240374, 'confidence': 1.0, 'speaker': None}, {'text': 'that', 'start': 240412, 'end': 240710, 'confidence': 0.98983, 'speaker': None}, {'text': 'my', 'start': 240780, 'end': 241014, 'confidence': 0.99987, 'speaker': None}, {'text': 'friend', 'start': 241052, 'end': 241254, 'confidence': 0.99995, 'speaker': None}, {'text': 'was', 'start': 241292, 'end': 241446, 'confidence': 0.99997, 'speaker': None}, {'text': 'using', 'start': 241468, 'end': 241702, 'confidence': 0.99997, 'speaker': None}, {'text': 'something', 'start': 241756, 'end': 242022, 'confidence': 0.99998, 'speaker': None}, {'text': 'that', 'start': 242076, 'end': 242246, 'confidence': 0.99995, 'speaker': None}, {'text': 'would', 'start': 242268, 'end': 242370, 'confidence': 0.99995, 'speaker': None}, {'text': 'be', 'start': 242380, 'end': 242506, 'confidence': 0.99998, 'speaker': None}, {'text': 'representative', 'start': 242528, 'end': 243142, 'confidence': 0.98667, 'speaker': None}, {'text': 'of', 'start': 243206, 'end': 243386, 'confidence': 1.0, 'speaker': None}, {'text': 'what', 'start': 243408, 'end': 243546, 'confidence': 0.99988, 'speaker': None}, {'text': 'he', 'start': 243568, 'end': 243706, 'confidence': 0.9998, 'speaker': None}, {'text': 'might', 'start': 243728, 'end': 243962, 'confidence': 0.99946, 'speaker': None}, {'text': 'see', 'start': 244016, 'end': 244234, 'confidence': 0.99999, 'speaker': None}, {'text': 'in', 'start': 244272, 'end': 244378, 'confidence': 0.99982, 'speaker': None}, {'text': 'the', 'start': 244384, 'end': 244458, 'confidence': 1.0, 'speaker': None}, {'text': 'real', 'start': 244464, 'end': 244634, 'confidence': 1.0, 'speaker': None}, {'text': 'world,', 'start': 244672, 'end': 244970, 'confidence': 0.99967, 'speaker': None}, {'text': 'what', 'start': 245040, 'end': 245226, 'confidence': 0.99964, 'speaker': None}, {'text': 'people', 'start': 245248, 'end': 245482, 'confidence': 0.9999, 'speaker': None}, {'text': 'actually', 'start': 245536, 'end': 245850, 'confidence': 0.99844, 'speaker': None}, {'text': 'use.', 'start': 245920, 'end': 246250, 'confidence': 0.99955, 'speaker': None}, {'text': 'For', 'start': 246320, 'end': 246506, 'confidence': 0.99993, 'speaker': None}, {'text': 'this', 'start': 246528, 'end': 246666, 'confidence': 0.99999, 'speaker': None}, {'text': 'specific', 'start': 246688, 'end': 246970, 'confidence': 0.99991, 'speaker': None}, {'text': 'friend,', 'start': 247040, 'end': 247322, 'confidence': 0.99992, 'speaker': None}, {'text': 'I', 'start': 247376, 'end': 247546, 'confidence': 1.0, 'speaker': None}, {'text': 'recommended', 'start': 247568, 'end': 248006, 'confidence': 0.99306, 'speaker': None}, {'text': 'that', 'start': 248038, 'end': 248138, 'confidence': 0.99928, 'speaker': None}, {'text': 'he', 'start': 248144, 'end': 248266, 'confidence': 0.99842, 'speaker': None}, {'text': 'start', 'start': 248288, 'end': 248426, 'confidence': 0.99997, 'speaker': None}, {'text': 'learning', 'start': 248448, 'end': 248682, 'confidence': 0.99995, 'speaker': None}, {'text': 'the', 'start': 248736, 'end': 248858, 'confidence': 1.0, 'speaker': None}, {'text': 'basics', 'start': 248864, 'end': 249222, 'confidence': 0.562, 'speaker': None}, {'text': 'with', 'start': 249286, 'end': 249466, 'confidence': 0.99966, 'speaker': None}, {'text': 'this', 'start': 249488, 'end': 249674, 'confidence': 0.54422, 'speaker': None}, {'text': 'video', 'start': 249712, 'end': 250010, 'confidence': 0.99991, 'speaker': None}, {'text': 'from', 'start': 250080, 'end': 250314, 'confidence': 0.7718, 'speaker': None}, {'text': 'Freecodecamp.', 'start': 250352, 'end': 251014, 'confidence': 0.71818, 'speaker': None}, {'text': \"I've\", 'start': 251062, 'end': 251238, 'confidence': 0.99958, 'speaker': None}, {'text': 'linked', 'start': 251254, 'end': 251446, 'confidence': 0.99845, 'speaker': None}, {'text': 'it', 'start': 251478, 'end': 251626, 'confidence': 0.99997, 'speaker': None}, {'text': 'and', 'start': 251648, 'end': 251786, 'confidence': 1.0, 'speaker': None}, {'text': 'all', 'start': 251808, 'end': 251946, 'confidence': 1.0, 'speaker': None}, {'text': 'other', 'start': 251968, 'end': 252154, 'confidence': 0.99919, 'speaker': None}, {'text': 'resources', 'start': 252192, 'end': 252566, 'confidence': 0.95883, 'speaker': None}, {'text': 'in', 'start': 252598, 'end': 252746, 'confidence': 0.9998, 'speaker': None}, {'text': 'the', 'start': 252768, 'end': 252906, 'confidence': 1.0, 'speaker': None}, {'text': 'description.', 'start': 252928, 'end': 253446, 'confidence': 0.92848, 'speaker': None}, {'text': 'So', 'start': 253558, 'end': 253786, 'confidence': 0.99, 'speaker': None}, {'text': 'in', 'start': 253808, 'end': 253946, 'confidence': 0.99984, 'speaker': None}, {'text': 'the', 'start': 253968, 'end': 254058, 'confidence': 1.0, 'speaker': None}, {'text': 'video', 'start': 254064, 'end': 254234, 'confidence': 0.99989, 'speaker': None}, {'text': 'they', 'start': 254272, 'end': 254426, 'confidence': 0.99992, 'speaker': None}, {'text': 'show', 'start': 254448, 'end': 254538, 'confidence': 0.99999, 'speaker': None}, {'text': 'you', 'start': 254544, 'end': 254666, 'confidence': 0.99963, 'speaker': None}, {'text': 'how', 'start': 254688, 'end': 254778, 'confidence': 0.99991, 'speaker': None}, {'text': 'to', 'start': 254784, 'end': 254858, 'confidence': 1.0, 'speaker': None}, {'text': 'set', 'start': 254864, 'end': 254938, 'confidence': 0.99999, 'speaker': None}, {'text': 'up', 'start': 254944, 'end': 255066, 'confidence': 0.9993, 'speaker': None}, {'text': 'the', 'start': 255088, 'end': 255190, 'confidence': 1.0, 'speaker': None}, {'text': 'Pycharm', 'start': 255200, 'end': 255626, 'confidence': 0.99026, 'speaker': None}, {'text': 'environment', 'start': 255658, 'end': 256042, 'confidence': 0.90464, 'speaker': None}, {'text': 'and', 'start': 256106, 'end': 256334, 'confidence': 0.99, 'speaker': None}, {'text': 'get', 'start': 256372, 'end': 256526, 'confidence': 0.99994, 'speaker': None}, {'text': 'comfortable', 'start': 256548, 'end': 256874, 'confidence': 0.99906, 'speaker': None}, {'text': 'using', 'start': 256922, 'end': 257134, 'confidence': 0.99993, 'speaker': None}, {'text': 'that.', 'start': 257172, 'end': 257374, 'confidence': 0.99913, 'speaker': None}, {'text': 'I', 'start': 257412, 'end': 257518, 'confidence': 1.0, 'speaker': None}, {'text': 'think', 'start': 257524, 'end': 257598, 'confidence': 0.99999, 'speaker': None}, {'text': 'Pycharm', 'start': 257604, 'end': 258106, 'confidence': 0.71691, 'speaker': None}, {'text': 'is', 'start': 258138, 'end': 258286, 'confidence': 0.99999, 'speaker': None}, {'text': 'solid,', 'start': 258308, 'end': 258634, 'confidence': 0.99992, 'speaker': None}, {'text': 'and', 'start': 258682, 'end': 258846, 'confidence': 1.0, 'speaker': None}, {'text': 'if', 'start': 258868, 'end': 258958, 'confidence': 0.99998, 'speaker': None}, {'text': 'you', 'start': 258964, 'end': 259038, 'confidence': 0.99999, 'speaker': None}, {'text': 'get', 'start': 259044, 'end': 259214, 'confidence': 0.99993, 'speaker': None}, {'text': 'familiar', 'start': 259252, 'end': 259626, 'confidence': 0.94334, 'speaker': None}, {'text': 'with', 'start': 259658, 'end': 259758, 'confidence': 0.99999, 'speaker': None}, {'text': 'that,', 'start': 259764, 'end': 259934, 'confidence': 0.99948, 'speaker': None}, {'text': 'you', 'start': 259972, 'end': 260078, 'confidence': 0.99993, 'speaker': None}, {'text': 'can', 'start': 260084, 'end': 260206, 'confidence': 1.0, 'speaker': None}, {'text': 'easily', 'start': 260228, 'end': 260474, 'confidence': 0.99953, 'speaker': None}, {'text': 'pick', 'start': 260522, 'end': 260686, 'confidence': 0.99994, 'speaker': None}, {'text': 'up', 'start': 260708, 'end': 260846, 'confidence': 0.99948, 'speaker': None}, {'text': 'the', 'start': 260868, 'end': 261006, 'confidence': 0.9, 'speaker': None}, {'text': 's', 'start': 261028, 'end': 261166, 'confidence': 0.76, 'speaker': None}, {'text': 'code,', 'start': 261188, 'end': 261470, 'confidence': 0.96622, 'speaker': None}, {'text': 'Jupyter', 'start': 261540, 'end': 261914, 'confidence': 0.97721, 'speaker': None}, {'text': 'notebook', 'start': 261962, 'end': 262314, 'confidence': 0.99864, 'speaker': None}, {'text': 'or', 'start': 262362, 'end': 262478, 'confidence': 0.99997, 'speaker': None}, {'text': 'Spyder', 'start': 262484, 'end': 262874, 'confidence': 0.42344, 'speaker': None}, {'text': 'pretty', 'start': 262922, 'end': 263086, 'confidence': 0.99997, 'speaker': None}, {'text': 'quickly.', 'start': 263108, 'end': 263438, 'confidence': 0.99927, 'speaker': None}, {'text': 'Truthfully,', 'start': 263524, 'end': 264074, 'confidence': 0.97865, 'speaker': None}, {'text': 'I', 'start': 264122, 'end': 264286, 'confidence': 1.0, 'speaker': None}, {'text': \"don't\", 'start': 264308, 'end': 264398, 'confidence': 0.99766, 'speaker': None}, {'text': 'think', 'start': 264404, 'end': 264526, 'confidence': 0.99994, 'speaker': None}, {'text': 'that', 'start': 264548, 'end': 264686, 'confidence': 0.99965, 'speaker': None}, {'text': 'the', 'start': 264708, 'end': 264798, 'confidence': 1.0, 'speaker': None}, {'text': 'ide', 'start': 264804, 'end': 265070, 'confidence': 0.92366, 'speaker': None}, {'text': 'that', 'start': 265140, 'end': 265278, 'confidence': 0.99974, 'speaker': None}, {'text': 'you', 'start': 265284, 'end': 265406, 'confidence': 0.99938, 'speaker': None}, {'text': 'start', 'start': 265428, 'end': 265566, 'confidence': 0.99999, 'speaker': None}, {'text': 'with', 'start': 265588, 'end': 265774, 'confidence': 0.99999, 'speaker': None}, {'text': 'really', 'start': 265812, 'end': 265978, 'confidence': 0.99999, 'speaker': None}, {'text': 'matters', 'start': 266004, 'end': 266286, 'confidence': 0.99744, 'speaker': None}, {'text': 'that', 'start': 266318, 'end': 266466, 'confidence': 0.99999, 'speaker': None}, {'text': 'much.', 'start': 266488, 'end': 266818, 'confidence': 0.99999, 'speaker': None}, {'text': \"What's\", 'start': 266904, 'end': 267166, 'confidence': 0.90858, 'speaker': None}, {'text': 'more', 'start': 267198, 'end': 267346, 'confidence': 1.0, 'speaker': None}, {'text': 'important', 'start': 267368, 'end': 267698, 'confidence': 0.99989, 'speaker': None}, {'text': 'is', 'start': 267784, 'end': 267986, 'confidence': 0.99997, 'speaker': None}, {'text': 'that', 'start': 268008, 'end': 268098, 'confidence': 0.99981, 'speaker': None}, {'text': \"you're\", 'start': 268104, 'end': 268286, 'confidence': 0.99939, 'speaker': None}, {'text': 'using', 'start': 268318, 'end': 268514, 'confidence': 0.99992, 'speaker': None}, {'text': 'one', 'start': 268552, 'end': 268802, 'confidence': 1.0, 'speaker': None}, {'text': 'that', 'start': 268856, 'end': 269026, 'confidence': 0.99984, 'speaker': None}, {'text': 'people', 'start': 269048, 'end': 269234, 'confidence': 0.99997, 'speaker': None}, {'text': 'who', 'start': 269272, 'end': 269474, 'confidence': 0.99996, 'speaker': None}, {'text': 'actually', 'start': 269512, 'end': 269810, 'confidence': 0.99987, 'speaker': None}, {'text': 'write', 'start': 269880, 'end': 270114, 'confidence': 0.99987, 'speaker': None}, {'text': 'Python', 'start': 270152, 'end': 270574, 'confidence': 0.90085, 'speaker': None}, {'text': 'code', 'start': 270622, 'end': 270882, 'confidence': 0.99997, 'speaker': None}, {'text': 'into', 'start': 270936, 'end': 271154, 'confidence': 0.99985, 'speaker': None}, {'text': 'production', 'start': 271192, 'end': 271694, 'confidence': 1.0, 'speaker': None}, {'text': 'are', 'start': 271742, 'end': 271906, 'confidence': 0.99986, 'speaker': None}, {'text': 'using.', 'start': 271928, 'end': 272402, 'confidence': 0.99944, 'speaker': None}, {'text': 'Okay,', 'start': 272536, 'end': 272930, 'confidence': 0.96154, 'speaker': None}, {'text': 'now', 'start': 273000, 'end': 273234, 'confidence': 1.0, 'speaker': None}, {'text': 'on', 'start': 273272, 'end': 273474, 'confidence': 0.99758, 'speaker': None}, {'text': 'to', 'start': 273512, 'end': 273666, 'confidence': 0.95, 'speaker': None}, {'text': 'the', 'start': 273688, 'end': 273826, 'confidence': 1.0, 'speaker': None}, {'text': 'coding', 'start': 273848, 'end': 274126, 'confidence': 0.99984, 'speaker': None}, {'text': 'basics.', 'start': 274158, 'end': 274782, 'confidence': 0.55062, 'speaker': None}, {'text': 'Surprisingly,', 'start': 274926, 'end': 275566, 'confidence': 0.99961, 'speaker': None}, {'text': 'I', 'start': 275598, 'end': 275746, 'confidence': 0.57, 'speaker': None}, {'text': 'think', 'start': 275768, 'end': 275906, 'confidence': 1.0, 'speaker': None}, {'text': 'this', 'start': 275928, 'end': 276066, 'confidence': 0.99999, 'speaker': None}, {'text': 'might', 'start': 276088, 'end': 276226, 'confidence': 0.99999, 'speaker': None}, {'text': 'be', 'start': 276248, 'end': 276386, 'confidence': 0.99994, 'speaker': None}, {'text': 'one', 'start': 276408, 'end': 276546, 'confidence': 0.58, 'speaker': None}, {'text': 'of', 'start': 276568, 'end': 276706, 'confidence': 1.0, 'speaker': None}, {'text': 'the', 'start': 276728, 'end': 276866, 'confidence': 1.0, 'speaker': None}, {'text': 'simplest', 'start': 276888, 'end': 277294, 'confidence': 0.6989, 'speaker': None}, {'text': 'parts', 'start': 277342, 'end': 277646, 'confidence': 0.99978, 'speaker': None}, {'text': 'of', 'start': 277678, 'end': 277826, 'confidence': 1.0, 'speaker': None}, {'text': 'this', 'start': 277848, 'end': 278046, 'confidence': 0.99999, 'speaker': None}, {'text': 'entire', 'start': 278088, 'end': 278438, 'confidence': 0.99998, 'speaker': None}, {'text': 'process.', 'start': 278524, 'end': 279158, 'confidence': 0.99998, 'speaker': None}, {'text': 'You', 'start': 279324, 'end': 279606, 'confidence': 0.99875, 'speaker': None}, {'text': 'see,', 'start': 279628, 'end': 279814, 'confidence': 0.99996, 'speaker': None}, {'text': \"there's\", 'start': 279852, 'end': 280018, 'confidence': 0.99985, 'speaker': None}, {'text': 'a', 'start': 280034, 'end': 280118, 'confidence': 1.0, 'speaker': None}, {'text': 'common', 'start': 280124, 'end': 280342, 'confidence': 0.99999, 'speaker': None}, {'text': 'misconception', 'start': 280396, 'end': 281346, 'confidence': 0.65255, 'speaker': None}, {'text': 'that', 'start': 281458, 'end': 281830, 'confidence': 0.99979, 'speaker': None}, {'text': 'coding', 'start': 281900, 'end': 282402, 'confidence': 0.71524, 'speaker': None}, {'text': 'is', 'start': 282466, 'end': 282694, 'confidence': 0.99992, 'speaker': None}, {'text': 'trying', 'start': 282732, 'end': 282886, 'confidence': 0.99996, 'speaker': None}, {'text': 'to', 'start': 282908, 'end': 282998, 'confidence': 1.0, 'speaker': None}, {'text': 'trick', 'start': 283004, 'end': 283186, 'confidence': 0.56978, 'speaker': None}, {'text': 'you.', 'start': 283218, 'end': 283414, 'confidence': 0.99953, 'speaker': None}, {'text': \"There's\", 'start': 283452, 'end': 283666, 'confidence': 0.99711, 'speaker': None}, {'text': 'this', 'start': 283698, 'end': 283846, 'confidence': 0.99999, 'speaker': None}, {'text': 'conspiracy', 'start': 283868, 'end': 284386, 'confidence': 0.58052, 'speaker': None}, {'text': 'that', 'start': 284418, 'end': 284566, 'confidence': 0.99998, 'speaker': None}, {'text': 'learning', 'start': 284588, 'end': 284774, 'confidence': 0.99998, 'speaker': None}, {'text': 'to', 'start': 284812, 'end': 285014, 'confidence': 0.98, 'speaker': None}, {'text': 'code', 'start': 285052, 'end': 285398, 'confidence': 0.99946, 'speaker': None}, {'text': 'is', 'start': 285484, 'end': 285686, 'confidence': 0.9997, 'speaker': None}, {'text': 'supposed', 'start': 285708, 'end': 285942, 'confidence': 0.80068, 'speaker': None}, {'text': 'to', 'start': 285996, 'end': 286118, 'confidence': 1.0, 'speaker': None}, {'text': 'be', 'start': 286124, 'end': 286342, 'confidence': 0.99992, 'speaker': None}, {'text': 'really', 'start': 286396, 'end': 286614, 'confidence': 0.99977, 'speaker': None}, {'text': 'hard', 'start': 286652, 'end': 286950, 'confidence': 1.0, 'speaker': None}, {'text': 'and', 'start': 287020, 'end': 287254, 'confidence': 1.0, 'speaker': None}, {'text': 'very', 'start': 287292, 'end': 287542, 'confidence': 0.99998, 'speaker': None}, {'text': 'scary.', 'start': 287596, 'end': 288050, 'confidence': 0.99994, 'speaker': None}, {'text': 'I', 'start': 288130, 'end': 288278, 'confidence': 1.0, 'speaker': None}, {'text': 'would', 'start': 288284, 'end': 288454, 'confidence': 0.99029, 'speaker': None}, {'text': 'argue', 'start': 288492, 'end': 288754, 'confidence': 0.99994, 'speaker': None}, {'text': 'that', 'start': 288802, 'end': 289014, 'confidence': 0.99996, 'speaker': None}, {'text': \"it's\", 'start': 289052, 'end': 289266, 'confidence': 0.99776, 'speaker': None}, {'text': 'almost', 'start': 289298, 'end': 289638, 'confidence': 0.99994, 'speaker': None}, {'text': 'the', 'start': 289724, 'end': 289926, 'confidence': 1.0, 'speaker': None}, {'text': 'opposite.', 'start': 289948, 'end': 290450, 'confidence': 0.99963, 'speaker': None}, {'text': 'Coding', 'start': 290530, 'end': 290866, 'confidence': 0.99951, 'speaker': None}, {'text': 'languages,', 'start': 290898, 'end': 291390, 'confidence': 0.85576, 'speaker': None}, {'text': 'particularly', 'start': 291490, 'end': 291926, 'confidence': 0.99884, 'speaker': None}, {'text': 'Python,', 'start': 291958, 'end': 292502, 'confidence': 0.9994, 'speaker': None}, {'text': \"they're\", 'start': 292566, 'end': 292806, 'confidence': 0.99708, 'speaker': None}, {'text': 'designed', 'start': 292838, 'end': 293126, 'confidence': 0.99965, 'speaker': None}, {'text': 'to', 'start': 293158, 'end': 293258, 'confidence': 1.0, 'speaker': None}, {'text': 'be', 'start': 293264, 'end': 293386, 'confidence': 0.99932, 'speaker': None}, {'text': 'as', 'start': 293408, 'end': 293594, 'confidence': 0.54662, 'speaker': None}, {'text': 'easy', 'start': 293632, 'end': 293882, 'confidence': 0.99997, 'speaker': None}, {'text': 'to', 'start': 293936, 'end': 294106, 'confidence': 1.0, 'speaker': None}, {'text': 'use', 'start': 294128, 'end': 294266, 'confidence': 0.99988, 'speaker': None}, {'text': 'as', 'start': 294288, 'end': 294426, 'confidence': 0.61144, 'speaker': None}, {'text': 'possible', 'start': 294448, 'end': 294778, 'confidence': 0.99994, 'speaker': None}, {'text': 'while', 'start': 294864, 'end': 295114, 'confidence': 0.8872, 'speaker': None}, {'text': 'creating', 'start': 295152, 'end': 295478, 'confidence': 0.99996, 'speaker': None}, {'text': 'good', 'start': 295494, 'end': 295674, 'confidence': 0.99994, 'speaker': None}, {'text': 'results.', 'start': 295712, 'end': 296230, 'confidence': 0.99996, 'speaker': None}, {'text': 'So', 'start': 296310, 'end': 296506, 'confidence': 1.0, 'speaker': None}, {'text': 'if', 'start': 296528, 'end': 296666, 'confidence': 0.99991, 'speaker': None}, {'text': 'you', 'start': 296688, 'end': 296778, 'confidence': 0.99996, 'speaker': None}, {'text': 'change', 'start': 296784, 'end': 296906, 'confidence': 0.99992, 'speaker': None}, {'text': 'your', 'start': 296928, 'end': 297066, 'confidence': 0.50777, 'speaker': None}, {'text': 'perspective', 'start': 297088, 'end': 297526, 'confidence': 0.98634, 'speaker': None}, {'text': 'to', 'start': 297558, 'end': 297706, 'confidence': 0.68, 'speaker': None}, {'text': 'look', 'start': 297728, 'end': 297866, 'confidence': 0.99998, 'speaker': None}, {'text': 'at', 'start': 297888, 'end': 298026, 'confidence': 1.0, 'speaker': None}, {'text': 'them', 'start': 298048, 'end': 298186, 'confidence': 1.0, 'speaker': None}, {'text': 'as', 'start': 298208, 'end': 298442, 'confidence': 0.99999, 'speaker': None}, {'text': 'intuitive,', 'start': 298496, 'end': 299126, 'confidence': 0.99991, 'speaker': None}, {'text': 'coding', 'start': 299238, 'end': 299654, 'confidence': 0.99974, 'speaker': None}, {'text': 'becomes', 'start': 299702, 'end': 300006, 'confidence': 0.99894, 'speaker': None}, {'text': 'significantly', 'start': 300038, 'end': 300566, 'confidence': 0.82465, 'speaker': None}, {'text': 'more', 'start': 300598, 'end': 300794, 'confidence': 1.0, 'speaker': None}, {'text': 'fun', 'start': 300832, 'end': 301034, 'confidence': 0.99996, 'speaker': None}, {'text': 'and', 'start': 301072, 'end': 301274, 'confidence': 1.0, 'speaker': None}, {'text': 'stressfree.', 'start': 301312, 'end': 301862, 'confidence': 0.48627, 'speaker': None}, {'text': 'This', 'start': 301926, 'end': 302154, 'confidence': 0.99918, 'speaker': None}, {'text': \"isn't\", 'start': 302192, 'end': 302358, 'confidence': 0.99992, 'speaker': None}, {'text': 'to', 'start': 302374, 'end': 302506, 'confidence': 1.0, 'speaker': None}, {'text': 'say', 'start': 302528, 'end': 302666, 'confidence': 0.99996, 'speaker': None}, {'text': 'that', 'start': 302688, 'end': 302826, 'confidence': 0.99968, 'speaker': None}, {'text': 'you', 'start': 302848, 'end': 302938, 'confidence': 0.99996, 'speaker': None}, {'text': \"won't\", 'start': 302944, 'end': 303078, 'confidence': 0.99992, 'speaker': None}, {'text': 'get', 'start': 303094, 'end': 303226, 'confidence': 0.99999, 'speaker': None}, {'text': 'stuck,', 'start': 303248, 'end': 303718, 'confidence': 0.99984, 'speaker': None}, {'text': \"it's\", 'start': 303814, 'end': 304166, 'confidence': 0.99961, 'speaker': None}, {'text': 'just', 'start': 304198, 'end': 304346, 'confidence': 0.99998, 'speaker': None}, {'text': 'to', 'start': 304368, 'end': 304506, 'confidence': 0.99, 'speaker': None}, {'text': 'say', 'start': 304528, 'end': 304726, 'confidence': 0.99999, 'speaker': None}, {'text': 'that', 'start': 304768, 'end': 304878, 'confidence': 0.99954, 'speaker': None}, {'text': 'when', 'start': 304884, 'end': 305006, 'confidence': 0.99983, 'speaker': None}, {'text': 'you', 'start': 305028, 'end': 305118, 'confidence': 0.99924, 'speaker': None}, {'text': 'do', 'start': 305124, 'end': 305246, 'confidence': 0.99954, 'speaker': None}, {'text': 'get', 'start': 305268, 'end': 305454, 'confidence': 0.99987, 'speaker': None}, {'text': 'stuck,', 'start': 305492, 'end': 305850, 'confidence': 0.99915, 'speaker': None}, {'text': \"there's\", 'start': 305930, 'end': 306186, 'confidence': 0.95594, 'speaker': None}, {'text': 'almost', 'start': 306218, 'end': 306462, 'confidence': 0.99994, 'speaker': None}, {'text': 'always', 'start': 306516, 'end': 306782, 'confidence': 0.99997, 'speaker': None}, {'text': 'a', 'start': 306836, 'end': 307006, 'confidence': 1.0, 'speaker': None}, {'text': 'logical', 'start': 307028, 'end': 307354, 'confidence': 0.99997, 'speaker': None}, {'text': 'reason', 'start': 307402, 'end': 307662, 'confidence': 1.0, 'speaker': None}, {'text': 'for', 'start': 307716, 'end': 307886, 'confidence': 0.99994, 'speaker': None}, {'text': 'it', 'start': 307908, 'end': 308094, 'confidence': 0.99983, 'speaker': None}, {'text': 'and', 'start': 308132, 'end': 308334, 'confidence': 1.0, 'speaker': None}, {'text': 'a', 'start': 308372, 'end': 308526, 'confidence': 1.0, 'speaker': None}, {'text': 'logical', 'start': 308548, 'end': 308922, 'confidence': 0.99998, 'speaker': None}, {'text': 'solution', 'start': 308986, 'end': 309354, 'confidence': 0.99999, 'speaker': None}, {'text': 'to', 'start': 309402, 'end': 309566, 'confidence': 1.0, 'speaker': None}, {'text': 'resolve', 'start': 309588, 'end': 309898, 'confidence': 0.99806, 'speaker': None}, {'text': 'your', 'start': 309914, 'end': 310046, 'confidence': 0.99988, 'speaker': None}, {'text': 'problems.', 'start': 310068, 'end': 310446, 'confidence': 0.99982, 'speaker': None}, {'text': 'Keeping', 'start': 310548, 'end': 310906, 'confidence': 0.99988, 'speaker': None}, {'text': 'with', 'start': 310938, 'end': 311038, 'confidence': 0.99997, 'speaker': None}, {'text': 'this', 'start': 311044, 'end': 311214, 'confidence': 0.99982, 'speaker': None}, {'text': 'theme', 'start': 311252, 'end': 311418, 'confidence': 0.99979, 'speaker': None}, {'text': 'of', 'start': 311434, 'end': 311566, 'confidence': 0.88, 'speaker': None}, {'text': 'simplicity,', 'start': 311588, 'end': 312074, 'confidence': 0.99967, 'speaker': None}, {'text': 'at', 'start': 312122, 'end': 312286, 'confidence': 1.0, 'speaker': None}, {'text': 'the', 'start': 312308, 'end': 312398, 'confidence': 1.0, 'speaker': None}, {'text': 'most', 'start': 312404, 'end': 312526, 'confidence': 0.99999, 'speaker': None}, {'text': 'basic', 'start': 312548, 'end': 312826, 'confidence': 0.99999, 'speaker': None}, {'text': 'level,', 'start': 312858, 'end': 313150, 'confidence': 1.0, 'speaker': None}, {'text': 'beginner', 'start': 313220, 'end': 313546, 'confidence': 0.99441, 'speaker': None}, {'text': 'coding', 'start': 313578, 'end': 313866, 'confidence': 0.73049, 'speaker': None}, {'text': 'can', 'start': 313898, 'end': 314046, 'confidence': 1.0, 'speaker': None}, {'text': 'be', 'start': 314068, 'end': 314158, 'confidence': 0.99998, 'speaker': None}, {'text': 'broken', 'start': 314164, 'end': 314346, 'confidence': 0.99992, 'speaker': None}, {'text': 'down', 'start': 314378, 'end': 314574, 'confidence': 0.6959, 'speaker': None}, {'text': 'into', 'start': 314612, 'end': 314814, 'confidence': 0.99988, 'speaker': None}, {'text': 'seven', 'start': 314852, 'end': 315102, 'confidence': 1.0, 'speaker': None}, {'text': 'concepts.', 'start': 315156, 'end': 315642, 'confidence': 0.88666, 'speaker': None}, {'text': 'All', 'start': 315706, 'end': 315886, 'confidence': 1.0, 'speaker': None}, {'text': 'of', 'start': 315908, 'end': 315998, 'confidence': 0.75, 'speaker': None}, {'text': 'the', 'start': 316004, 'end': 316078, 'confidence': 1.0, 'speaker': None}, {'text': 'resources', 'start': 316084, 'end': 316586, 'confidence': 0.6926, 'speaker': None}, {'text': 'that', 'start': 316618, 'end': 316718, 'confidence': 0.99873, 'speaker': None}, {'text': \"I've\", 'start': 316724, 'end': 316858, 'confidence': 0.99926, 'speaker': None}, {'text': 'linked', 'start': 316874, 'end': 317146, 'confidence': 0.99993, 'speaker': None}, {'text': 'in', 'start': 317178, 'end': 317278, 'confidence': 0.99986, 'speaker': None}, {'text': 'the', 'start': 317284, 'end': 317406, 'confidence': 1.0, 'speaker': None}, {'text': 'description', 'start': 317428, 'end': 317990, 'confidence': 0.99975, 'speaker': None}, {'text': 'cover', 'start': 318090, 'end': 318402, 'confidence': 0.99993, 'speaker': None}, {'text': 'these', 'start': 318456, 'end': 318626, 'confidence': 0.99984, 'speaker': None}, {'text': 'topics,', 'start': 318648, 'end': 319102, 'confidence': 0.99985, 'speaker': None}, {'text': 'but', 'start': 319166, 'end': 319346, 'confidence': 0.99954, 'speaker': None}, {'text': \"I'm\", 'start': 319368, 'end': 319518, 'confidence': 0.9984, 'speaker': None}, {'text': 'going', 'start': 319534, 'end': 319618, 'confidence': 0.9473, 'speaker': None}, {'text': 'to', 'start': 319624, 'end': 319698, 'confidence': 1.0, 'speaker': None}, {'text': 'give', 'start': 319704, 'end': 319826, 'confidence': 0.99995, 'speaker': None}, {'text': 'you', 'start': 319848, 'end': 320034, 'confidence': 0.99996, 'speaker': None}, {'text': 'a', 'start': 320072, 'end': 320226, 'confidence': 1.0, 'speaker': None}, {'text': 'very,', 'start': 320248, 'end': 320434, 'confidence': 0.99995, 'speaker': None}, {'text': 'very', 'start': 320472, 'end': 320722, 'confidence': 0.98922, 'speaker': None}, {'text': 'high', 'start': 320776, 'end': 320946, 'confidence': 0.99986, 'speaker': None}, {'text': 'level', 'start': 320968, 'end': 321202, 'confidence': 0.9988, 'speaker': None}, {'text': 'overview', 'start': 321256, 'end': 321614, 'confidence': 0.99993, 'speaker': None}, {'text': 'here.', 'start': 321662, 'end': 321922, 'confidence': 0.99979, 'speaker': None}, {'text': 'The', 'start': 321976, 'end': 322146, 'confidence': 1.0, 'speaker': None}, {'text': 'first', 'start': 322168, 'end': 322306, 'confidence': 1.0, 'speaker': None}, {'text': 'one', 'start': 322328, 'end': 322466, 'confidence': 1.0, 'speaker': None}, {'text': 'we', 'start': 322488, 'end': 322626, 'confidence': 0.81052, 'speaker': None}, {'text': 'start', 'start': 322648, 'end': 322834, 'confidence': 0.99997, 'speaker': None}, {'text': 'with', 'start': 322872, 'end': 323026, 'confidence': 0.99999, 'speaker': None}, {'text': 'is', 'start': 323048, 'end': 323234, 'confidence': 0.99991, 'speaker': None}, {'text': 'data', 'start': 323272, 'end': 323474, 'confidence': 0.99986, 'speaker': None}, {'text': 'types.', 'start': 323512, 'end': 323982, 'confidence': 0.99983, 'speaker': None}, {'text': 'So', 'start': 324046, 'end': 324226, 'confidence': 1.0, 'speaker': None}, {'text': 'in', 'start': 324248, 'end': 324386, 'confidence': 0.99981, 'speaker': None}, {'text': 'Python', 'start': 324408, 'end': 324766, 'confidence': 0.99965, 'speaker': None}, {'text': 'you', 'start': 324798, 'end': 324898, 'confidence': 0.99985, 'speaker': None}, {'text': 'can', 'start': 324904, 'end': 325026, 'confidence': 1.0, 'speaker': None}, {'text': 'work', 'start': 325048, 'end': 325138, 'confidence': 1.0, 'speaker': None}, {'text': 'with', 'start': 325144, 'end': 325266, 'confidence': 0.99918, 'speaker': None}, {'text': 'numbers,', 'start': 325288, 'end': 325570, 'confidence': 0.99998, 'speaker': None}, {'text': 'you', 'start': 325640, 'end': 325778, 'confidence': 0.99956, 'speaker': None}, {'text': 'can', 'start': 325784, 'end': 325906, 'confidence': 1.0, 'speaker': None}, {'text': 'work', 'start': 325928, 'end': 326018, 'confidence': 1.0, 'speaker': None}, {'text': 'with', 'start': 326024, 'end': 326146, 'confidence': 0.81727, 'speaker': None}, {'text': 'text,', 'start': 326168, 'end': 326450, 'confidence': 0.99981, 'speaker': None}, {'text': 'you', 'start': 326520, 'end': 326658, 'confidence': 0.99989, 'speaker': None}, {'text': 'can', 'start': 326664, 'end': 326786, 'confidence': 1.0, 'speaker': None}, {'text': 'work', 'start': 326808, 'end': 326946, 'confidence': 1.0, 'speaker': None}, {'text': 'with', 'start': 326968, 'end': 327106, 'confidence': 0.99998, 'speaker': None}, {'text': 'booleans,', 'start': 327128, 'end': 327726, 'confidence': 0.95682, 'speaker': None}, {'text': 'you', 'start': 327758, 'end': 327906, 'confidence': 0.99933, 'speaker': None}, {'text': 'can', 'start': 327928, 'end': 328018, 'confidence': 1.0, 'speaker': None}, {'text': 'work', 'start': 328024, 'end': 328146, 'confidence': 1.0, 'speaker': None}, {'text': 'with', 'start': 328168, 'end': 328306, 'confidence': 0.99995, 'speaker': None}, {'text': 'lists', 'start': 328328, 'end': 328782, 'confidence': 0.63259, 'speaker': None}, {'text': 'or', 'start': 328846, 'end': 329026, 'confidence': 0.99992, 'speaker': None}, {'text': 'a', 'start': 329048, 'end': 329138, 'confidence': 1.0, 'speaker': None}, {'text': 'host', 'start': 329144, 'end': 329358, 'confidence': 0.99981, 'speaker': None}, {'text': 'of', 'start': 329374, 'end': 329470, 'confidence': 1.0, 'speaker': None}, {'text': 'different', 'start': 329480, 'end': 329654, 'confidence': 0.99998, 'speaker': None}, {'text': 'data', 'start': 329692, 'end': 329894, 'confidence': 0.99999, 'speaker': None}, {'text': 'structures.', 'start': 329932, 'end': 330450, 'confidence': 0.99972, 'speaker': None}, {'text': \"It's\", 'start': 330530, 'end': 330818, 'confidence': 0.996, 'speaker': None}, {'text': 'important', 'start': 330834, 'end': 331062, 'confidence': 0.92943, 'speaker': None}, {'text': 'to', 'start': 331116, 'end': 331286, 'confidence': 0.97, 'speaker': None}, {'text': 'get', 'start': 331308, 'end': 331446, 'confidence': 0.99999, 'speaker': None}, {'text': 'a', 'start': 331468, 'end': 331558, 'confidence': 1.0, 'speaker': None}, {'text': 'good', 'start': 331564, 'end': 331734, 'confidence': 0.99996, 'speaker': None}, {'text': 'understanding', 'start': 331772, 'end': 332226, 'confidence': 0.99999, 'speaker': None}, {'text': 'or', 'start': 332258, 'end': 332406, 'confidence': 0.99996, 'speaker': None}, {'text': 'a', 'start': 332428, 'end': 332566, 'confidence': 1.0, 'speaker': None}, {'text': 'fundamental', 'start': 332588, 'end': 333234, 'confidence': 0.9033, 'speaker': None}, {'text': 'understanding', 'start': 333282, 'end': 333746, 'confidence': 0.99991, 'speaker': None}, {'text': 'of', 'start': 333778, 'end': 333926, 'confidence': 1.0, 'speaker': None}, {'text': 'these', 'start': 333948, 'end': 334086, 'confidence': 0.99978, 'speaker': None}, {'text': 'first', 'start': 334108, 'end': 334438, 'confidence': 0.85, 'speaker': None}, {'text': 'next,', 'start': 334524, 'end': 334822, 'confidence': 0.95844, 'speaker': None}, {'text': 'I', 'start': 334876, 'end': 334998, 'confidence': 1.0, 'speaker': None}, {'text': 'think', 'start': 335004, 'end': 335126, 'confidence': 0.99944, 'speaker': None}, {'text': 'it', 'start': 335148, 'end': 335238, 'confidence': 0.99999, 'speaker': None}, {'text': 'makes', 'start': 335244, 'end': 335414, 'confidence': 0.99984, 'speaker': None}, {'text': 'sense', 'start': 335452, 'end': 335606, 'confidence': 0.99993, 'speaker': None}, {'text': 'to', 'start': 335628, 'end': 335766, 'confidence': 0.75, 'speaker': None}, {'text': 'get', 'start': 335788, 'end': 335926, 'confidence': 0.99999, 'speaker': None}, {'text': 'familiar', 'start': 335948, 'end': 336226, 'confidence': 0.85591, 'speaker': None}, {'text': 'with', 'start': 336258, 'end': 336406, 'confidence': 0.99999, 'speaker': None}, {'text': 'how', 'start': 336428, 'end': 336566, 'confidence': 0.99997, 'speaker': None}, {'text': 'variables', 'start': 336588, 'end': 337026, 'confidence': 0.99921, 'speaker': None}, {'text': 'work.', 'start': 337058, 'end': 337446, 'confidence': 1.0, 'speaker': None}, {'text': 'This', 'start': 337548, 'end': 337766, 'confidence': 0.99985, 'speaker': None}, {'text': 'can', 'start': 337788, 'end': 337974, 'confidence': 1.0, 'speaker': None}, {'text': 'vary', 'start': 338012, 'end': 338226, 'confidence': 0.99999, 'speaker': None}, {'text': 'by', 'start': 338258, 'end': 338454, 'confidence': 0.99999, 'speaker': None}, {'text': 'language,', 'start': 338492, 'end': 338882, 'confidence': 1.0, 'speaker': None}, {'text': 'so', 'start': 338946, 'end': 339126, 'confidence': 1.0, 'speaker': None}, {'text': 'you', 'start': 339148, 'end': 339286, 'confidence': 0.57763, 'speaker': None}, {'text': 'need', 'start': 339308, 'end': 339446, 'confidence': 0.99996, 'speaker': None}, {'text': 'to', 'start': 339468, 'end': 339558, 'confidence': 1.0, 'speaker': None}, {'text': 'make', 'start': 339564, 'end': 339686, 'confidence': 0.99999, 'speaker': None}, {'text': 'sure', 'start': 339708, 'end': 339846, 'confidence': 0.99998, 'speaker': None}, {'text': 'you', 'start': 339868, 'end': 339958, 'confidence': 0.99996, 'speaker': None}, {'text': 'know', 'start': 339964, 'end': 340098, 'confidence': 0.99996, 'speaker': None}, {'text': 'how', 'start': 340124, 'end': 340266, 'confidence': 0.99994, 'speaker': None}, {'text': 'to', 'start': 340288, 'end': 340426, 'confidence': 1.0, 'speaker': None}, {'text': 'assign', 'start': 340448, 'end': 340774, 'confidence': 0.99994, 'speaker': None}, {'text': 'and', 'start': 340822, 'end': 340986, 'confidence': 1.0, 'speaker': None}, {'text': 'change', 'start': 341008, 'end': 341242, 'confidence': 0.99216, 'speaker': None}, {'text': 'variables.', 'start': 341296, 'end': 341766, 'confidence': 0.8286, 'speaker': None}, {'text': 'In', 'start': 341798, 'end': 341946, 'confidence': 0.99998, 'speaker': None}, {'text': 'Python,', 'start': 341968, 'end': 342454, 'confidence': 0.9999, 'speaker': None}, {'text': 'specifically,', 'start': 342502, 'end': 343450, 'confidence': 0.99996, 'speaker': None}, {'text': 'after', 'start': 343950, 'end': 344362, 'confidence': 0.9999, 'speaker': None}, {'text': 'variables,', 'start': 344416, 'end': 344982, 'confidence': 0.87408, 'speaker': None}, {'text': 'you', 'start': 345046, 'end': 345226, 'confidence': 0.99996, 'speaker': None}, {'text': 'should', 'start': 345248, 'end': 345386, 'confidence': 0.99999, 'speaker': None}, {'text': 'look', 'start': 345408, 'end': 345594, 'confidence': 1.0, 'speaker': None}, {'text': 'into', 'start': 345632, 'end': 345786, 'confidence': 1.0, 'speaker': None}, {'text': 'how', 'start': 345808, 'end': 345994, 'confidence': 0.99998, 'speaker': None}, {'text': 'logical', 'start': 346032, 'end': 346374, 'confidence': 0.99991, 'speaker': None}, {'text': 'operators', 'start': 346422, 'end': 346966, 'confidence': 0.9999, 'speaker': None}, {'text': 'work.', 'start': 346998, 'end': 347194, 'confidence': 1.0, 'speaker': None}, {'text': 'These', 'start': 347232, 'end': 347386, 'confidence': 0.99995, 'speaker': None}, {'text': 'are', 'start': 347408, 'end': 347498, 'confidence': 0.99996, 'speaker': None}, {'text': 'very', 'start': 347504, 'end': 347674, 'confidence': 0.99998, 'speaker': None}, {'text': 'handy', 'start': 347712, 'end': 348006, 'confidence': 0.99999, 'speaker': None}, {'text': 'in', 'start': 348038, 'end': 348186, 'confidence': 0.99996, 'speaker': None}, {'text': 'your', 'start': 348208, 'end': 348346, 'confidence': 0.99999, 'speaker': None}, {'text': 'first', 'start': 348368, 'end': 348554, 'confidence': 1.0, 'speaker': None}, {'text': 'few', 'start': 348592, 'end': 348794, 'confidence': 0.99985, 'speaker': None}, {'text': 'projects.', 'start': 348832, 'end': 349430, 'confidence': 0.55058, 'speaker': None}, {'text': 'If', 'start': 349510, 'end': 349706, 'confidence': 0.99065, 'speaker': None}, {'text': 'else', 'start': 349728, 'end': 349914, 'confidence': 0.86111, 'speaker': None}, {'text': 'statements', 'start': 349952, 'end': 350374, 'confidence': 0.99857, 'speaker': None}, {'text': 'are', 'start': 350422, 'end': 350634, 'confidence': 0.99993, 'speaker': None}, {'text': 'probably', 'start': 350672, 'end': 350874, 'confidence': 0.99996, 'speaker': None}, {'text': 'the', 'start': 350912, 'end': 351018, 'confidence': 1.0, 'speaker': None}, {'text': 'most', 'start': 351024, 'end': 351194, 'confidence': 0.99999, 'speaker': None}, {'text': 'important', 'start': 351232, 'end': 351482, 'confidence': 1.0, 'speaker': None}, {'text': 'one,', 'start': 351536, 'end': 351850, 'confidence': 1.0, 'speaker': None}, {'text': 'but', 'start': 351920, 'end': 352106, 'confidence': 0.99983, 'speaker': None}, {'text': 'you', 'start': 352128, 'end': 352266, 'confidence': 0.99996, 'speaker': None}, {'text': 'can', 'start': 352288, 'end': 352426, 'confidence': 1.0, 'speaker': None}, {'text': 'definitely', 'start': 352448, 'end': 352682, 'confidence': 0.99997, 'speaker': None}, {'text': 'find', 'start': 352736, 'end': 352954, 'confidence': 0.99999, 'speaker': None}, {'text': 'use', 'start': 352992, 'end': 353194, 'confidence': 0.99939, 'speaker': None}, {'text': 'cases', 'start': 353232, 'end': 353526, 'confidence': 0.99985, 'speaker': None}, {'text': 'for', 'start': 353558, 'end': 353706, 'confidence': 0.99997, 'speaker': None}, {'text': 'the', 'start': 353728, 'end': 353866, 'confidence': 1.0, 'speaker': None}, {'text': 'others,', 'start': 353888, 'end': 354278, 'confidence': 0.99993, 'speaker': None}, {'text': 'especially', 'start': 354384, 'end': 354894, 'confidence': 0.8459, 'speaker': None}, {'text': 'if', 'start': 355012, 'end': 355246, 'confidence': 0.99997, 'speaker': None}, {'text': \"you're\", 'start': 355268, 'end': 355466, 'confidence': 0.99951, 'speaker': None}, {'text': 'working', 'start': 355498, 'end': 355646, 'confidence': 0.99918, 'speaker': None}, {'text': 'with', 'start': 355668, 'end': 355806, 'confidence': 0.99975, 'speaker': None}, {'text': 'data.', 'start': 355828, 'end': 356158, 'confidence': 0.99959, 'speaker': None}, {'text': 'The', 'start': 356244, 'end': 356446, 'confidence': 1.0, 'speaker': None}, {'text': 'fourth', 'start': 356468, 'end': 356618, 'confidence': 1.0, 'speaker': None}, {'text': 'thing', 'start': 356634, 'end': 356766, 'confidence': 0.99979, 'speaker': None}, {'text': 'you', 'start': 356788, 'end': 356926, 'confidence': 0.99997, 'speaker': None}, {'text': 'need', 'start': 356948, 'end': 357038, 'confidence': 0.99999, 'speaker': None}, {'text': 'to', 'start': 357044, 'end': 357166, 'confidence': 1.0, 'speaker': None}, {'text': 'understand', 'start': 357188, 'end': 357614, 'confidence': 1.0, 'speaker': None}, {'text': 'is', 'start': 357732, 'end': 358014, 'confidence': 0.99999, 'speaker': None}, {'text': 'how', 'start': 358052, 'end': 358206, 'confidence': 0.99998, 'speaker': None}, {'text': 'loops', 'start': 358228, 'end': 358666, 'confidence': 0.99975, 'speaker': None}, {'text': 'work.', 'start': 358698, 'end': 358990, 'confidence': 1.0, 'speaker': None}, {'text': 'So', 'start': 359060, 'end': 359294, 'confidence': 1.0, 'speaker': None}, {'text': 'one', 'start': 359332, 'end': 359486, 'confidence': 1.0, 'speaker': None}, {'text': 'thing', 'start': 359508, 'end': 359694, 'confidence': 0.99999, 'speaker': None}, {'text': 'computers', 'start': 359732, 'end': 360314, 'confidence': 0.99879, 'speaker': None}, {'text': 'are', 'start': 360362, 'end': 360574, 'confidence': 0.99998, 'speaker': None}, {'text': 'really,', 'start': 360612, 'end': 360814, 'confidence': 0.99999, 'speaker': None}, {'text': 'really', 'start': 360852, 'end': 361054, 'confidence': 0.99756, 'speaker': None}, {'text': 'great', 'start': 361092, 'end': 361342, 'confidence': 0.99995, 'speaker': None}, {'text': 'at', 'start': 361396, 'end': 361614, 'confidence': 1.0, 'speaker': None}, {'text': 'is', 'start': 361652, 'end': 361854, 'confidence': 0.53893, 'speaker': None}, {'text': 'doing', 'start': 361892, 'end': 362094, 'confidence': 0.99974, 'speaker': None}, {'text': 'a', 'start': 362132, 'end': 362286, 'confidence': 1.0, 'speaker': None}, {'text': 'simple', 'start': 362308, 'end': 362542, 'confidence': 0.99987, 'speaker': None}, {'text': 'task', 'start': 362596, 'end': 362954, 'confidence': 0.64417, 'speaker': None}, {'text': 'over', 'start': 363002, 'end': 363214, 'confidence': 1.0, 'speaker': None}, {'text': 'and', 'start': 363252, 'end': 363406, 'confidence': 1.0, 'speaker': None}, {'text': 'over', 'start': 363428, 'end': 363614, 'confidence': 1.0, 'speaker': None}, {'text': 'again.', 'start': 363652, 'end': 364094, 'confidence': 0.99999, 'speaker': None}, {'text': \"You'd\", 'start': 364212, 'end': 364586, 'confidence': 0.99883, 'speaker': None}, {'text': 'be', 'start': 364618, 'end': 364766, 'confidence': 0.99999, 'speaker': None}, {'text': 'surprised', 'start': 364788, 'end': 365194, 'confidence': 0.97474, 'speaker': None}, {'text': 'at', 'start': 365242, 'end': 365418, 'confidence': 0.6, 'speaker': None}, {'text': 'how', 'start': 365444, 'end': 365634, 'confidence': 0.92632, 'speaker': None}, {'text': 'useful', 'start': 365672, 'end': 366046, 'confidence': 0.99999, 'speaker': None}, {'text': 'these', 'start': 366078, 'end': 366274, 'confidence': 0.99971, 'speaker': None}, {'text': 'can', 'start': 366312, 'end': 366514, 'confidence': 1.0, 'speaker': None}, {'text': 'be', 'start': 366552, 'end': 366850, 'confidence': 0.99998, 'speaker': None}, {'text': 'for', 'start': 366920, 'end': 367154, 'confidence': 0.99989, 'speaker': None}, {'text': 'your', 'start': 367192, 'end': 367346, 'confidence': 0.99998, 'speaker': None}, {'text': 'programming', 'start': 367368, 'end': 367854, 'confidence': 0.99984, 'speaker': None}, {'text': 'future.', 'start': 367902, 'end': 368306, 'confidence': 0.9994, 'speaker': None}, {'text': 'After', 'start': 368408, 'end': 368722, 'confidence': 0.999, 'speaker': None}, {'text': 'that,', 'start': 368776, 'end': 368994, 'confidence': 0.99986, 'speaker': None}, {'text': 'you', 'start': 369032, 'end': 369186, 'confidence': 0.99928, 'speaker': None}, {'text': 'should', 'start': 369208, 'end': 369346, 'confidence': 0.99991, 'speaker': None}, {'text': 'learn', 'start': 369368, 'end': 369554, 'confidence': 0.99997, 'speaker': None}, {'text': 'about', 'start': 369592, 'end': 369794, 'confidence': 1.0, 'speaker': None}, {'text': 'functions.', 'start': 369832, 'end': 370350, 'confidence': 0.87743, 'speaker': None}, {'text': 'So', 'start': 370430, 'end': 370674, 'confidence': 0.64, 'speaker': None}, {'text': 'this', 'start': 370712, 'end': 370914, 'confidence': 0.9999, 'speaker': None}, {'text': 'sets', 'start': 370952, 'end': 371198, 'confidence': 0.99984, 'speaker': None}, {'text': 'the', 'start': 371214, 'end': 371346, 'confidence': 1.0, 'speaker': None}, {'text': 'foundation', 'start': 371368, 'end': 371694, 'confidence': 0.99809, 'speaker': None}, {'text': 'for', 'start': 371742, 'end': 371954, 'confidence': 0.99973, 'speaker': None}, {'text': 'almost', 'start': 371992, 'end': 372434, 'confidence': 0.99967, 'speaker': None}, {'text': 'everything', 'start': 372552, 'end': 372930, 'confidence': 0.99912, 'speaker': None}, {'text': 'you', 'start': 373000, 'end': 373234, 'confidence': 0.99987, 'speaker': None}, {'text': 'do', 'start': 373272, 'end': 373474, 'confidence': 0.99998, 'speaker': None}, {'text': 'on', 'start': 373512, 'end': 373666, 'confidence': 0.99899, 'speaker': None}, {'text': 'your', 'start': 373688, 'end': 373826, 'confidence': 0.99996, 'speaker': None}, {'text': 'programming', 'start': 373848, 'end': 374286, 'confidence': 0.99996, 'speaker': None}, {'text': 'journey.', 'start': 374318, 'end': 374750, 'confidence': 0.51, 'speaker': None}, {'text': 'Functions', 'start': 374830, 'end': 375326, 'confidence': 0.73713, 'speaker': None}, {'text': 'allow', 'start': 375358, 'end': 375506, 'confidence': 1.0, 'speaker': None}, {'text': 'you', 'start': 375528, 'end': 375618, 'confidence': 0.99987, 'speaker': None}, {'text': 'to', 'start': 375624, 'end': 375746, 'confidence': 1.0, 'speaker': None}, {'text': 'encapsulate', 'start': 375768, 'end': 376334, 'confidence': 0.88056, 'speaker': None}, {'text': 'code', 'start': 376382, 'end': 376594, 'confidence': 0.99983, 'speaker': None}, {'text': 'and', 'start': 376632, 'end': 376786, 'confidence': 1.0, 'speaker': None}, {'text': 'reuse', 'start': 376808, 'end': 377166, 'confidence': 0.80045, 'speaker': None}, {'text': 'it.', 'start': 377198, 'end': 377586, 'confidence': 0.99991, 'speaker': None}, {'text': 'If', 'start': 377688, 'end': 377906, 'confidence': 0.99986, 'speaker': None}, {'text': 'you', 'start': 377928, 'end': 378066, 'confidence': 0.98456, 'speaker': None}, {'text': 'really', 'start': 378088, 'end': 378274, 'confidence': 0.99981, 'speaker': None}, {'text': 'think', 'start': 378312, 'end': 378466, 'confidence': 1.0, 'speaker': None}, {'text': 'about', 'start': 378488, 'end': 378626, 'confidence': 1.0, 'speaker': None}, {'text': 'it,', 'start': 378648, 'end': 378834, 'confidence': 0.9998, 'speaker': None}, {'text': 'good', 'start': 378872, 'end': 379074, 'confidence': 0.9999, 'speaker': None}, {'text': 'coding', 'start': 379112, 'end': 379486, 'confidence': 0.99961, 'speaker': None}, {'text': 'is', 'start': 379518, 'end': 379666, 'confidence': 0.99999, 'speaker': None}, {'text': 'about', 'start': 379688, 'end': 379874, 'confidence': 1.0, 'speaker': None}, {'text': 'making', 'start': 379912, 'end': 380222, 'confidence': 0.99994, 'speaker': None}, {'text': 'as', 'start': 380296, 'end': 380486, 'confidence': 0.99982, 'speaker': None}, {'text': 'many', 'start': 380508, 'end': 380742, 'confidence': 0.99994, 'speaker': None}, {'text': 'reusable', 'start': 380796, 'end': 381314, 'confidence': 0.9977, 'speaker': None}, {'text': 'bits', 'start': 381362, 'end': 381618, 'confidence': 0.99978, 'speaker': None}, {'text': 'as', 'start': 381634, 'end': 381766, 'confidence': 0.99997, 'speaker': None}, {'text': 'possible,', 'start': 381788, 'end': 382118, 'confidence': 0.99997, 'speaker': None}, {'text': 'and', 'start': 382204, 'end': 382454, 'confidence': 0.96, 'speaker': None}, {'text': 'these', 'start': 382492, 'end': 382646, 'confidence': 0.99991, 'speaker': None}, {'text': 'functions', 'start': 382668, 'end': 383058, 'confidence': 0.99951, 'speaker': None}, {'text': 'are', 'start': 383074, 'end': 383206, 'confidence': 0.99983, 'speaker': None}, {'text': 'where', 'start': 383228, 'end': 383414, 'confidence': 0.99711, 'speaker': None}, {'text': 'that', 'start': 383452, 'end': 383606, 'confidence': 0.99998, 'speaker': None}, {'text': 'really', 'start': 383628, 'end': 383814, 'confidence': 0.99994, 'speaker': None}, {'text': 'begins.', 'start': 383852, 'end': 384242, 'confidence': 0.99997, 'speaker': None}, {'text': 'At', 'start': 384306, 'end': 384438, 'confidence': 1.0, 'speaker': None}, {'text': 'this', 'start': 384444, 'end': 384566, 'confidence': 0.99999, 'speaker': None}, {'text': 'point,', 'start': 384588, 'end': 384726, 'confidence': 1.0, 'speaker': None}, {'text': 'you', 'start': 384748, 'end': 384886, 'confidence': 0.99955, 'speaker': None}, {'text': 'have', 'start': 384908, 'end': 384998, 'confidence': 0.99993, 'speaker': None}, {'text': 'a', 'start': 385004, 'end': 385126, 'confidence': 1.0, 'speaker': None}, {'text': 'pretty', 'start': 385148, 'end': 385286, 'confidence': 0.99991, 'speaker': None}, {'text': 'good', 'start': 385308, 'end': 385494, 'confidence': 0.99999, 'speaker': None}, {'text': 'understanding', 'start': 385532, 'end': 385906, 'confidence': 0.99974, 'speaker': None}, {'text': 'of', 'start': 385938, 'end': 386086, 'confidence': 1.0, 'speaker': None}, {'text': 'the', 'start': 386108, 'end': 386198, 'confidence': 1.0, 'speaker': None}, {'text': 'key', 'start': 386204, 'end': 386374, 'confidence': 0.99681, 'speaker': None}, {'text': 'building', 'start': 386412, 'end': 386614, 'confidence': 0.98265, 'speaker': None}, {'text': 'blocks', 'start': 386652, 'end': 386978, 'confidence': 0.837, 'speaker': None}, {'text': 'of', 'start': 386994, 'end': 387078, 'confidence': 1.0, 'speaker': None}, {'text': 'Python.', 'start': 387084, 'end': 387698, 'confidence': 0.65835, 'speaker': None}, {'text': 'You', 'start': 387794, 'end': 388006, 'confidence': 0.99981, 'speaker': None}, {'text': 'should', 'start': 388028, 'end': 388166, 'confidence': 0.9999, 'speaker': None}, {'text': 'now', 'start': 388188, 'end': 388374, 'confidence': 1.0, 'speaker': None}, {'text': 'learn', 'start': 388412, 'end': 388614, 'confidence': 0.99999, 'speaker': None}, {'text': 'a', 'start': 388652, 'end': 388758, 'confidence': 1.0, 'speaker': None}, {'text': 'bit', 'start': 388764, 'end': 388934, 'confidence': 0.56978, 'speaker': None}, {'text': 'more', 'start': 388972, 'end': 389222, 'confidence': 1.0, 'speaker': None}, {'text': 'about', 'start': 389276, 'end': 389494, 'confidence': 1.0, 'speaker': None}, {'text': 'how', 'start': 389532, 'end': 389734, 'confidence': 0.99998, 'speaker': None}, {'text': 'some', 'start': 389772, 'end': 389878, 'confidence': 0.99994, 'speaker': None}, {'text': 'of', 'start': 389884, 'end': 390006, 'confidence': 0.99, 'speaker': None}, {'text': 'the', 'start': 390028, 'end': 390118, 'confidence': 1.0, 'speaker': None}, {'text': 'basic', 'start': 390124, 'end': 390434, 'confidence': 0.99968, 'speaker': None}, {'text': 'data', 'start': 390482, 'end': 390742, 'confidence': 0.99994, 'speaker': None}, {'text': 'structures', 'start': 390796, 'end': 391154, 'confidence': 0.91539, 'speaker': None}, {'text': 'work.', 'start': 391202, 'end': 391462, 'confidence': 1.0, 'speaker': None}, {'text': 'I', 'start': 391516, 'end': 391686, 'confidence': 1.0, 'speaker': None}, {'text': 'recommend', 'start': 391708, 'end': 391990, 'confidence': 0.91961, 'speaker': None}, {'text': 'taking', 'start': 392060, 'end': 392294, 'confidence': 0.99997, 'speaker': None}, {'text': 'a', 'start': 392332, 'end': 392438, 'confidence': 1.0, 'speaker': None}, {'text': 'deeper', 'start': 392444, 'end': 392670, 'confidence': 0.99902, 'speaker': None}, {'text': 'dive', 'start': 392690, 'end': 392838, 'confidence': 0.99973, 'speaker': None}, {'text': 'into', 'start': 392854, 'end': 393034, 'confidence': 0.99999, 'speaker': None}, {'text': 'lists,', 'start': 393072, 'end': 393414, 'confidence': 0.99854, 'speaker': None}, {'text': 'dictionaries', 'start': 393462, 'end': 394102, 'confidence': 0.99993, 'speaker': None}, {'text': 'as', 'start': 394166, 'end': 394298, 'confidence': 0.99995, 'speaker': None}, {'text': 'well', 'start': 394304, 'end': 394426, 'confidence': 0.99892, 'speaker': None}, {'text': 'as', 'start': 394448, 'end': 394586, 'confidence': 0.99995, 'speaker': None}, {'text': 'tuples.', 'start': 394608, 'end': 395014, 'confidence': 0.99673, 'speaker': None}, {'text': 'This', 'start': 395062, 'end': 395226, 'confidence': 0.99986, 'speaker': None}, {'text': 'will', 'start': 395248, 'end': 395338, 'confidence': 0.99945, 'speaker': None}, {'text': 'set', 'start': 395344, 'end': 395514, 'confidence': 0.99999, 'speaker': None}, {'text': 'the', 'start': 395552, 'end': 395658, 'confidence': 1.0, 'speaker': None}, {'text': 'foundation', 'start': 395664, 'end': 395974, 'confidence': 0.99988, 'speaker': None}, {'text': 'for', 'start': 396022, 'end': 396138, 'confidence': 0.99999, 'speaker': None}, {'text': 'much', 'start': 396144, 'end': 396266, 'confidence': 0.99968, 'speaker': None}, {'text': 'of', 'start': 396288, 'end': 396426, 'confidence': 1.0, 'speaker': None}, {'text': 'your', 'start': 396448, 'end': 396586, 'confidence': 0.9999, 'speaker': None}, {'text': 'data', 'start': 396608, 'end': 396794, 'confidence': 0.9908, 'speaker': None}, {'text': 'work', 'start': 396832, 'end': 397034, 'confidence': 0.99, 'speaker': None}, {'text': 'later', 'start': 397072, 'end': 397274, 'confidence': 0.99998, 'speaker': None}, {'text': 'on.', 'start': 397312, 'end': 397754, 'confidence': 0.99938, 'speaker': None}, {'text': 'Finally,', 'start': 397872, 'end': 398250, 'confidence': 0.99985, 'speaker': None}, {'text': 'you', 'start': 398320, 'end': 398506, 'confidence': 0.99987, 'speaker': None}, {'text': 'should', 'start': 398528, 'end': 398666, 'confidence': 0.98987, 'speaker': None}, {'text': 'start', 'start': 398688, 'end': 398874, 'confidence': 0.99998, 'speaker': None}, {'text': 'learning', 'start': 398912, 'end': 399162, 'confidence': 0.99999, 'speaker': None}, {'text': 'to', 'start': 399216, 'end': 399386, 'confidence': 0.77, 'speaker': None}, {'text': 'work', 'start': 399408, 'end': 399594, 'confidence': 1.0, 'speaker': None}, {'text': 'with', 'start': 399632, 'end': 399786, 'confidence': 0.99998, 'speaker': None}, {'text': 'libraries.', 'start': 399808, 'end': 400438, 'confidence': 0.91337, 'speaker': None}, {'text': 'So', 'start': 400534, 'end': 400746, 'confidence': 0.99, 'speaker': None}, {'text': 'the', 'start': 400768, 'end': 400858, 'confidence': 1.0, 'speaker': None}, {'text': 'most', 'start': 400864, 'end': 401034, 'confidence': 0.99998, 'speaker': None}, {'text': 'important', 'start': 401072, 'end': 401322, 'confidence': 0.99999, 'speaker': None}, {'text': 'ones', 'start': 401376, 'end': 401594, 'confidence': 1.0, 'speaker': None}, {'text': 'for', 'start': 401632, 'end': 401786, 'confidence': 0.99998, 'speaker': None}, {'text': 'data', 'start': 401808, 'end': 402042, 'confidence': 0.99995, 'speaker': None}, {'text': 'are', 'start': 402096, 'end': 402278, 'confidence': 0.99994, 'speaker': None}, {'text': 'pandas,', 'start': 402304, 'end': 402682, 'confidence': 0.90036, 'speaker': None}, {'text': 'numpy,', 'start': 402746, 'end': 403146, 'confidence': 0.99899, 'speaker': None}, {'text': 'Scikitlearn', 'start': 403178, 'end': 403738, 'confidence': 0.93081, 'speaker': None}, {'text': 'and', 'start': 403754, 'end': 403886, 'confidence': 0.99, 'speaker': None}, {'text': 'Matplotlib,', 'start': 403908, 'end': 404682, 'confidence': 0.70909, 'speaker': None}, {'text': 'and', 'start': 404746, 'end': 404926, 'confidence': 0.99, 'speaker': None}, {'text': 'these', 'start': 404948, 'end': 405182, 'confidence': 0.99987, 'speaker': None}, {'text': 'give', 'start': 405236, 'end': 405406, 'confidence': 0.99949, 'speaker': None}, {'text': 'you', 'start': 405428, 'end': 405614, 'confidence': 0.99998, 'speaker': None}, {'text': 'additional', 'start': 405652, 'end': 405994, 'confidence': 0.99996, 'speaker': None}, {'text': 'tools', 'start': 406042, 'end': 406346, 'confidence': 0.99989, 'speaker': None}, {'text': 'to', 'start': 406378, 'end': 406478, 'confidence': 1.0, 'speaker': None}, {'text': 'analyze,', 'start': 406484, 'end': 407050, 'confidence': 0.87772, 'speaker': None}, {'text': 'visualize', 'start': 407130, 'end': 407674, 'confidence': 0.98439, 'speaker': None}, {'text': 'and', 'start': 407722, 'end': 407886, 'confidence': 1.0, 'speaker': None}, {'text': 'manipulate', 'start': 407908, 'end': 408426, 'confidence': 0.9999, 'speaker': None}, {'text': 'data.', 'start': 408458, 'end': 408750, 'confidence': 0.99954, 'speaker': None}, {'text': 'Pandas', 'start': 408820, 'end': 409226, 'confidence': 0.9955, 'speaker': None}, {'text': 'and', 'start': 409258, 'end': 409358, 'confidence': 1.0, 'speaker': None}, {'text': 'Numpy', 'start': 409364, 'end': 409754, 'confidence': 0.99932, 'speaker': None}, {'text': 'also', 'start': 409802, 'end': 410014, 'confidence': 0.96977, 'speaker': None}, {'text': 'introduce', 'start': 410052, 'end': 410426, 'confidence': 0.63437, 'speaker': None}, {'text': 'some', 'start': 410458, 'end': 410606, 'confidence': 0.99999, 'speaker': None}, {'text': 'new', 'start': 410628, 'end': 410766, 'confidence': 1.0, 'speaker': None}, {'text': 'data', 'start': 410788, 'end': 410974, 'confidence': 0.99997, 'speaker': None}, {'text': 'structures', 'start': 411012, 'end': 411306, 'confidence': 0.99946, 'speaker': None}, {'text': 'like', 'start': 411338, 'end': 411486, 'confidence': 1.0, 'speaker': None}, {'text': 'arrays,', 'start': 411508, 'end': 411914, 'confidence': 0.90439, 'speaker': None}, {'text': 'series', 'start': 411962, 'end': 412266, 'confidence': 0.99793, 'speaker': None}, {'text': 'and', 'start': 412298, 'end': 412398, 'confidence': 1.0, 'speaker': None}, {'text': 'data', 'start': 412404, 'end': 412574, 'confidence': 0.99074, 'speaker': None}, {'text': 'frames.', 'start': 412612, 'end': 412954, 'confidence': 0.92345, 'speaker': None}, {'text': 'So', 'start': 413002, 'end': 413166, 'confidence': 1.0, 'speaker': None}, {'text': 'if', 'start': 413188, 'end': 413278, 'confidence': 0.99995, 'speaker': None}, {'text': 'you', 'start': 413284, 'end': 413358, 'confidence': 0.99997, 'speaker': None}, {'text': 'have', 'start': 413364, 'end': 413486, 'confidence': 0.99937, 'speaker': None}, {'text': 'an', 'start': 413508, 'end': 413646, 'confidence': 1.0, 'speaker': None}, {'text': 'understanding', 'start': 413668, 'end': 414154, 'confidence': 0.99983, 'speaker': None}, {'text': 'of', 'start': 414202, 'end': 414318, 'confidence': 1.0, 'speaker': None}, {'text': 'how', 'start': 414324, 'end': 414446, 'confidence': 0.99983, 'speaker': None}, {'text': 'the', 'start': 414468, 'end': 414558, 'confidence': 1.0, 'speaker': None}, {'text': 'more', 'start': 414564, 'end': 414686, 'confidence': 1.0, 'speaker': None}, {'text': 'basic', 'start': 414708, 'end': 414986, 'confidence': 0.99998, 'speaker': None}, {'text': 'data', 'start': 415018, 'end': 415214, 'confidence': 0.99994, 'speaker': None}, {'text': 'structures', 'start': 415252, 'end': 415594, 'confidence': 0.99935, 'speaker': None}, {'text': 'work', 'start': 415642, 'end': 415806, 'confidence': 1.0, 'speaker': None}, {'text': 'in', 'start': 415828, 'end': 415918, 'confidence': 0.99511, 'speaker': None}, {'text': 'python,', 'start': 415924, 'end': 416410, 'confidence': 0.9999, 'speaker': None}, {'text': 'you', 'start': 416490, 'end': 416686, 'confidence': 0.99981, 'speaker': None}, {'text': 'should', 'start': 416708, 'end': 416846, 'confidence': 0.99999, 'speaker': None}, {'text': 'be', 'start': 416868, 'end': 416958, 'confidence': 0.9999, 'speaker': None}, {'text': 'able', 'start': 416964, 'end': 417086, 'confidence': 0.99996, 'speaker': None}, {'text': 'to', 'start': 417108, 'end': 417198, 'confidence': 1.0, 'speaker': None}, {'text': 'pick', 'start': 417204, 'end': 417338, 'confidence': 0.99998, 'speaker': None}, {'text': 'these', 'start': 417364, 'end': 417554, 'confidence': 0.99993, 'speaker': None}, {'text': 'up', 'start': 417592, 'end': 417794, 'confidence': 1.0, 'speaker': None}, {'text': 'relatively', 'start': 417832, 'end': 418366, 'confidence': 0.58486, 'speaker': None}, {'text': 'quickly.', 'start': 418398, 'end': 418786, 'confidence': 0.58102, 'speaker': None}, {'text': 'And', 'start': 418888, 'end': 419058, 'confidence': 0.99, 'speaker': None}, {'text': \"that's\", 'start': 419064, 'end': 419246, 'confidence': 0.68243, 'speaker': None}, {'text': 'it.', 'start': 419278, 'end': 419522, 'confidence': 0.99937, 'speaker': None}, {'text': 'With', 'start': 419576, 'end': 419794, 'confidence': 0.9999, 'speaker': None}, {'text': 'those', 'start': 419832, 'end': 420034, 'confidence': 0.99999, 'speaker': None}, {'text': 'seven', 'start': 420072, 'end': 420274, 'confidence': 1.0, 'speaker': None}, {'text': 'things,', 'start': 420312, 'end': 420610, 'confidence': 0.99994, 'speaker': None}, {'text': 'you', 'start': 420680, 'end': 420818, 'confidence': 0.99996, 'speaker': None}, {'text': 'have', 'start': 420824, 'end': 420946, 'confidence': 0.99288, 'speaker': None}, {'text': 'the', 'start': 420968, 'end': 421106, 'confidence': 1.0, 'speaker': None}, {'text': 'basics', 'start': 421128, 'end': 421406, 'confidence': 0.99998, 'speaker': None}, {'text': 'of', 'start': 421438, 'end': 421586, 'confidence': 1.0, 'speaker': None}, {'text': 'coding', 'start': 421608, 'end': 422014, 'confidence': 0.99512, 'speaker': None}, {'text': 'that', 'start': 422062, 'end': 422226, 'confidence': 0.99987, 'speaker': None}, {'text': \"you'll\", 'start': 422248, 'end': 422446, 'confidence': 0.97541, 'speaker': None}, {'text': 'need', 'start': 422478, 'end': 422674, 'confidence': 1.0, 'speaker': None}, {'text': 'for', 'start': 422712, 'end': 422962, 'confidence': 0.99993, 'speaker': None}, {'text': 'starting', 'start': 423016, 'end': 423234, 'confidence': 0.99993, 'speaker': None}, {'text': 'to', 'start': 423272, 'end': 423426, 'confidence': 1.0, 'speaker': None}, {'text': 'work', 'start': 423448, 'end': 423634, 'confidence': 1.0, 'speaker': None}, {'text': 'with', 'start': 423672, 'end': 423874, 'confidence': 0.99997, 'speaker': None}, {'text': 'data.', 'start': 423912, 'end': 424210, 'confidence': 0.99963, 'speaker': None}, {'text': 'If', 'start': 424280, 'end': 424418, 'confidence': 0.99968, 'speaker': None}, {'text': \"you're\", 'start': 424424, 'end': 424606, 'confidence': 0.874, 'speaker': None}, {'text': 'watching', 'start': 424638, 'end': 424786, 'confidence': 0.99997, 'speaker': None}, {'text': 'this', 'start': 424808, 'end': 424946, 'confidence': 0.99999, 'speaker': None}, {'text': 'and', 'start': 424968, 'end': 425058, 'confidence': 1.0, 'speaker': None}, {'text': \"you're\", 'start': 425064, 'end': 425138, 'confidence': 0.85508, 'speaker': None}, {'text': 'a', 'start': 425144, 'end': 425218, 'confidence': 1.0, 'speaker': None}, {'text': 'software', 'start': 425224, 'end': 425486, 'confidence': 0.99999, 'speaker': None}, {'text': 'engineer,', 'start': 425518, 'end': 426030, 'confidence': 0.99992, 'speaker': None}, {'text': 'you', 'start': 426110, 'end': 426306, 'confidence': 0.9997, 'speaker': None}, {'text': 'probably', 'start': 426328, 'end': 426514, 'confidence': 0.99995, 'speaker': None}, {'text': 'think', 'start': 426552, 'end': 426706, 'confidence': 0.99996, 'speaker': None}, {'text': 'I', 'start': 426728, 'end': 426866, 'confidence': 1.0, 'speaker': None}, {'text': 'left', 'start': 426888, 'end': 427074, 'confidence': 0.99999, 'speaker': None}, {'text': 'something', 'start': 427112, 'end': 427326, 'confidence': 0.99977, 'speaker': None}, {'text': 'important', 'start': 427368, 'end': 427718, 'confidence': 0.99997, 'speaker': None}, {'text': 'out.', 'start': 427804, 'end': 428102, 'confidence': 1.0, 'speaker': None}, {'text': 'What', 'start': 428156, 'end': 428326, 'confidence': 0.99435, 'speaker': None}, {'text': \"I've\", 'start': 428348, 'end': 428546, 'confidence': 0.99824, 'speaker': None}, {'text': 'purposely', 'start': 428578, 'end': 428898, 'confidence': 0.97163, 'speaker': None}, {'text': 'omitted', 'start': 428914, 'end': 429346, 'confidence': 0.64358, 'speaker': None}, {'text': 'from', 'start': 429378, 'end': 429526, 'confidence': 1.0, 'speaker': None}, {'text': 'this', 'start': 429548, 'end': 429686, 'confidence': 0.99999, 'speaker': None}, {'text': 'list', 'start': 429708, 'end': 429990, 'confidence': 1.0, 'speaker': None}, {'text': 'is', 'start': 430060, 'end': 430294, 'confidence': 0.83543, 'speaker': None}, {'text': 'an', 'start': 430332, 'end': 430486, 'confidence': 1.0, 'speaker': None}, {'text': 'explanation', 'start': 430508, 'end': 430962, 'confidence': 0.83111, 'speaker': None}, {'text': 'of', 'start': 431026, 'end': 431254, 'confidence': 1.0, 'speaker': None}, {'text': 'classes.', 'start': 431292, 'end': 431714, 'confidence': 0.9999, 'speaker': None}, {'text': 'So', 'start': 431762, 'end': 431974, 'confidence': 1.0, 'speaker': None}, {'text': 'classes', 'start': 432012, 'end': 432386, 'confidence': 0.99973, 'speaker': None}, {'text': 'are', 'start': 432418, 'end': 432566, 'confidence': 0.99999, 'speaker': None}, {'text': 'the', 'start': 432588, 'end': 432678, 'confidence': 1.0, 'speaker': None}, {'text': 'foundation', 'start': 432684, 'end': 433074, 'confidence': 0.99965, 'speaker': None}, {'text': 'of', 'start': 433122, 'end': 433286, 'confidence': 1.0, 'speaker': None}, {'text': 'object', 'start': 433308, 'end': 433590, 'confidence': 0.99999, 'speaker': None}, {'text': 'oriented', 'start': 433660, 'end': 434146, 'confidence': 0.61355, 'speaker': None}, {'text': 'programming,', 'start': 434178, 'end': 434770, 'confidence': 0.96882, 'speaker': None}, {'text': 'and', 'start': 434850, 'end': 435094, 'confidence': 0.99, 'speaker': None}, {'text': 'objectoriented', 'start': 435132, 'end': 435906, 'confidence': 0.58315, 'speaker': None}, {'text': 'programming', 'start': 435938, 'end': 436530, 'confidence': 0.61503, 'speaker': None}, {'text': 'is', 'start': 436610, 'end': 436854, 'confidence': 0.99993, 'speaker': None}, {'text': 'a', 'start': 436892, 'end': 436998, 'confidence': 1.0, 'speaker': None}, {'text': 'programming', 'start': 437004, 'end': 437426, 'confidence': 0.99994, 'speaker': None}, {'text': 'model', 'start': 437458, 'end': 437654, 'confidence': 0.99997, 'speaker': None}, {'text': 'that', 'start': 437692, 'end': 437846, 'confidence': 0.99998, 'speaker': None}, {'text': 'organizes', 'start': 437868, 'end': 438386, 'confidence': 0.99949, 'speaker': None}, {'text': 'code', 'start': 438418, 'end': 438614, 'confidence': 0.99998, 'speaker': None}, {'text': 'around', 'start': 438652, 'end': 438902, 'confidence': 0.89481, 'speaker': None}, {'text': 'objects', 'start': 438956, 'end': 439394, 'confidence': 0.99141, 'speaker': None}, {'text': 'rather', 'start': 439442, 'end': 439654, 'confidence': 1.0, 'speaker': None}, {'text': 'than', 'start': 439692, 'end': 439942, 'confidence': 0.99996, 'speaker': None}, {'text': 'functions', 'start': 439996, 'end': 440386, 'confidence': 0.99973, 'speaker': None}, {'text': 'or', 'start': 440418, 'end': 440566, 'confidence': 0.99996, 'speaker': None}, {'text': 'logic.', 'start': 440588, 'end': 441246, 'confidence': 0.99987, 'speaker': None}, {'text': 'Object', 'start': 441378, 'end': 441770, 'confidence': 0.99995, 'speaker': None}, {'text': 'oriented', 'start': 441840, 'end': 442278, 'confidence': 0.59751, 'speaker': None}, {'text': 'programming', 'start': 442294, 'end': 442726, 'confidence': 0.99994, 'speaker': None}, {'text': 'is', 'start': 442758, 'end': 442906, 'confidence': 0.99994, 'speaker': None}, {'text': 'incredibly', 'start': 442928, 'end': 443254, 'confidence': 0.79791, 'speaker': None}, {'text': 'powerful,', 'start': 443302, 'end': 443782, 'confidence': 0.9999, 'speaker': None}, {'text': 'but', 'start': 443846, 'end': 444026, 'confidence': 0.99994, 'speaker': None}, {'text': 'honestly,', 'start': 444048, 'end': 444406, 'confidence': 0.99991, 'speaker': None}, {'text': 'it', 'start': 444438, 'end': 444586, 'confidence': 0.50381, 'speaker': None}, {'text': \"isn't\", 'start': 444608, 'end': 444806, 'confidence': 0.85566, 'speaker': None}, {'text': 'very', 'start': 444838, 'end': 445034, 'confidence': 0.99999, 'speaker': None}, {'text': 'relevant', 'start': 445072, 'end': 445494, 'confidence': 0.6886, 'speaker': None}, {'text': 'for', 'start': 445542, 'end': 445658, 'confidence': 0.99997, 'speaker': None}, {'text': 'the', 'start': 445664, 'end': 445786, 'confidence': 1.0, 'speaker': None}, {'text': 'beginner', 'start': 445808, 'end': 446086, 'confidence': 0.96739, 'speaker': None}, {'text': 'stages', 'start': 446118, 'end': 446502, 'confidence': 0.85463, 'speaker': None}, {'text': 'of', 'start': 446566, 'end': 446746, 'confidence': 1.0, 'speaker': None}, {'text': 'working', 'start': 446768, 'end': 446954, 'confidence': 0.99991, 'speaker': None}, {'text': 'with', 'start': 446992, 'end': 447146, 'confidence': 0.99996, 'speaker': None}, {'text': 'data.', 'start': 447168, 'end': 447498, 'confidence': 0.99985, 'speaker': None}, {'text': 'It', 'start': 447584, 'end': 447786, 'confidence': 0.99996, 'speaker': None}, {'text': 'is', 'start': 447808, 'end': 447946, 'confidence': 0.99995, 'speaker': None}, {'text': 'something', 'start': 447968, 'end': 448202, 'confidence': 0.99999, 'speaker': None}, {'text': 'you', 'start': 448256, 'end': 448426, 'confidence': 0.99996, 'speaker': None}, {'text': 'should', 'start': 448448, 'end': 448634, 'confidence': 0.99996, 'speaker': None}, {'text': 'absolutely', 'start': 448672, 'end': 449018, 'confidence': 0.99982, 'speaker': None}, {'text': 'explore', 'start': 449104, 'end': 449446, 'confidence': 0.99998, 'speaker': None}, {'text': 'on', 'start': 449478, 'end': 449626, 'confidence': 0.99528, 'speaker': None}, {'text': 'your', 'start': 449648, 'end': 449786, 'confidence': 0.99999, 'speaker': None}, {'text': 'own', 'start': 449808, 'end': 450138, 'confidence': 0.99999, 'speaker': None}, {'text': 'after', 'start': 450224, 'end': 450474, 'confidence': 0.99998, 'speaker': None}, {'text': \"you've\", 'start': 450512, 'end': 450774, 'confidence': 0.55819, 'speaker': None}, {'text': 'learned', 'start': 450822, 'end': 451094, 'confidence': 0.89006, 'speaker': None}, {'text': 'these', 'start': 451142, 'end': 451402, 'confidence': 0.99996, 'speaker': None}, {'text': 'other', 'start': 451456, 'end': 451674, 'confidence': 0.99995, 'speaker': None}, {'text': 'concepts', 'start': 451712, 'end': 452134, 'confidence': 0.97492, 'speaker': None}, {'text': 'well', 'start': 452182, 'end': 452490, 'confidence': 0.99973, 'speaker': None}, {'text': 'in', 'start': 452560, 'end': 452698, 'confidence': 0.99997, 'speaker': None}, {'text': 'the', 'start': 452704, 'end': 452826, 'confidence': 1.0, 'speaker': None}, {'text': 'description,', 'start': 452848, 'end': 453254, 'confidence': 0.9998, 'speaker': None}, {'text': \"I've\", 'start': 453302, 'end': 453478, 'confidence': 0.99966, 'speaker': None}, {'text': 'linked', 'start': 453494, 'end': 453766, 'confidence': 0.99998, 'speaker': None}, {'text': 'a', 'start': 453798, 'end': 453898, 'confidence': 1.0, 'speaker': None}, {'text': 'few', 'start': 453904, 'end': 454038, 'confidence': 1.0, 'speaker': None}, {'text': 'great', 'start': 454064, 'end': 454254, 'confidence': 0.99992, 'speaker': None}, {'text': 'resources', 'start': 454292, 'end': 454794, 'confidence': 0.7629, 'speaker': None}, {'text': 'for', 'start': 454842, 'end': 455006, 'confidence': 0.99995, 'speaker': None}, {'text': 'learning', 'start': 455028, 'end': 455262, 'confidence': 0.9999, 'speaker': None}, {'text': 'all', 'start': 455316, 'end': 455486, 'confidence': 1.0, 'speaker': None}, {'text': 'of', 'start': 455508, 'end': 455646, 'confidence': 1.0, 'speaker': None}, {'text': 'the', 'start': 455668, 'end': 455806, 'confidence': 1.0, 'speaker': None}, {'text': 'concepts,', 'start': 455828, 'end': 456378, 'confidence': 0.98974, 'speaker': None}, {'text': 'including', 'start': 456474, 'end': 457034, 'confidence': 0.99998, 'speaker': None}, {'text': 'the', 'start': 457082, 'end': 457246, 'confidence': 1.0, 'speaker': None}, {'text': 'exact', 'start': 457268, 'end': 457550, 'confidence': 0.99999, 'speaker': None}, {'text': 'one', 'start': 457620, 'end': 457806, 'confidence': 1.0, 'speaker': None}, {'text': 'from', 'start': 457828, 'end': 458014, 'confidence': 0.99999, 'speaker': None}, {'text': 'Freecodecamp', 'start': 458052, 'end': 458794, 'confidence': 0.76697, 'speaker': None}, {'text': 'that', 'start': 458842, 'end': 459006, 'confidence': 0.99998, 'speaker': None}, {'text': 'I', 'start': 459028, 'end': 459166, 'confidence': 1.0, 'speaker': None}, {'text': 'gave', 'start': 459188, 'end': 459374, 'confidence': 0.99997, 'speaker': None}, {'text': 'my', 'start': 459412, 'end': 459566, 'confidence': 0.99996, 'speaker': None}, {'text': 'friend.', 'start': 459588, 'end': 459870, 'confidence': 0.99995, 'speaker': None}, {'text': 'Most', 'start': 459940, 'end': 460126, 'confidence': 0.99997, 'speaker': None}, {'text': 'of', 'start': 460148, 'end': 460286, 'confidence': 0.98, 'speaker': None}, {'text': 'them', 'start': 460308, 'end': 460446, 'confidence': 0.99991, 'speaker': None}, {'text': 'are', 'start': 460468, 'end': 460654, 'confidence': 0.94892, 'speaker': None}, {'text': 'completely', 'start': 460692, 'end': 461038, 'confidence': 0.99999, 'speaker': None}, {'text': 'free,', 'start': 461124, 'end': 461470, 'confidence': 1.0, 'speaker': None}, {'text': 'but', 'start': 461540, 'end': 461726, 'confidence': 0.99996, 'speaker': None}, {'text': 'I', 'start': 461748, 'end': 461886, 'confidence': 1.0, 'speaker': None}, {'text': 'have', 'start': 461908, 'end': 462046, 'confidence': 0.99998, 'speaker': None}, {'text': 'also', 'start': 462068, 'end': 462254, 'confidence': 0.99998, 'speaker': None}, {'text': 'included', 'start': 462292, 'end': 462618, 'confidence': 0.99998, 'speaker': None}, {'text': 'my', 'start': 462634, 'end': 462814, 'confidence': 0.98307, 'speaker': None}, {'text': 'discount', 'start': 462852, 'end': 463146, 'confidence': 0.99999, 'speaker': None}, {'text': 'link', 'start': 463178, 'end': 463374, 'confidence': 0.99994, 'speaker': None}, {'text': 'for', 'start': 463412, 'end': 463566, 'confidence': 0.99996, 'speaker': None}, {'text': 'the', 'start': 463588, 'end': 463678, 'confidence': 1.0, 'speaker': None}, {'text': 'course', 'start': 463684, 'end': 463902, 'confidence': 0.81987, 'speaker': None}, {'text': 'on', 'start': 463956, 'end': 464126, 'confidence': 0.99995, 'speaker': None}, {'text': '365', 'start': 464148, 'end': 464686, 'confidence': 1.0, 'speaker': None}, {'text': 'data', 'start': 464708, 'end': 464894, 'confidence': 0.99999, 'speaker': None}, {'text': 'science.', 'start': 464932, 'end': 465450, 'confidence': 0.61142, 'speaker': None}, {'text': 'So', 'start': 465530, 'end': 465774, 'confidence': 1.0, 'speaker': None}, {'text': 'if', 'start': 465812, 'end': 465966, 'confidence': 0.99997, 'speaker': None}, {'text': \"you're\", 'start': 465988, 'end': 466126, 'confidence': 0.79549, 'speaker': None}, {'text': 'looking', 'start': 466148, 'end': 466286, 'confidence': 0.99998, 'speaker': None}, {'text': 'for', 'start': 466308, 'end': 466446, 'confidence': 0.99981, 'speaker': None}, {'text': 'a', 'start': 466468, 'end': 466606, 'confidence': 1.0, 'speaker': None}, {'text': 'resource', 'start': 466628, 'end': 466954, 'confidence': 0.99997, 'speaker': None}, {'text': 'just', 'start': 467002, 'end': 467166, 'confidence': 0.97737, 'speaker': None}, {'text': 'to', 'start': 467188, 'end': 467326, 'confidence': 1.0, 'speaker': None}, {'text': 'take', 'start': 467348, 'end': 467498, 'confidence': 0.99999, 'speaker': None}, {'text': 'you', 'start': 467524, 'end': 467666, 'confidence': 0.99998, 'speaker': None}, {'text': 'past', 'start': 467688, 'end': 468018, 'confidence': 0.85, 'speaker': None}, {'text': 'the', 'start': 468104, 'end': 468402, 'confidence': 0.99, 'speaker': None}, {'text': 'more', 'start': 468456, 'end': 468626, 'confidence': 1.0, 'speaker': None}, {'text': 'basic', 'start': 468648, 'end': 469006, 'confidence': 0.99999, 'speaker': None}, {'text': 'coding', 'start': 469038, 'end': 469374, 'confidence': 0.99995, 'speaker': None}, {'text': 'and', 'start': 469422, 'end': 469634, 'confidence': 1.0, 'speaker': None}, {'text': 'more', 'start': 469672, 'end': 469826, 'confidence': 1.0, 'speaker': None}, {'text': 'towards', 'start': 469848, 'end': 470082, 'confidence': 1.0, 'speaker': None}, {'text': 'tangible', 'start': 470136, 'end': 470526, 'confidence': 0.99995, 'speaker': None}, {'text': 'data', 'start': 470558, 'end': 470754, 'confidence': 0.99999, 'speaker': None}, {'text': 'science', 'start': 470792, 'end': 471038, 'confidence': 0.99858, 'speaker': None}, {'text': 'skills,', 'start': 471054, 'end': 471406, 'confidence': 0.98419, 'speaker': None}, {'text': 'I', 'start': 471438, 'end': 471586, 'confidence': 1.0, 'speaker': None}, {'text': 'would', 'start': 471608, 'end': 471746, 'confidence': 0.99997, 'speaker': None}, {'text': 'recommend', 'start': 471768, 'end': 472050, 'confidence': 1.0, 'speaker': None}, {'text': 'checking', 'start': 472120, 'end': 472366, 'confidence': 0.96151, 'speaker': None}, {'text': 'that', 'start': 472398, 'end': 472546, 'confidence': 0.99997, 'speaker': None}, {'text': 'out.', 'start': 472568, 'end': 472802, 'confidence': 1.0, 'speaker': None}, {'text': 'One', 'start': 472856, 'end': 473026, 'confidence': 1.0, 'speaker': None}, {'text': 'thing', 'start': 473048, 'end': 473186, 'confidence': 0.99994, 'speaker': None}, {'text': 'that', 'start': 473208, 'end': 473346, 'confidence': 0.99997, 'speaker': None}, {'text': 'I', 'start': 473368, 'end': 473506, 'confidence': 1.0, 'speaker': None}, {'text': 'love', 'start': 473528, 'end': 473762, 'confidence': 0.99999, 'speaker': None}, {'text': 'about', 'start': 473816, 'end': 474034, 'confidence': 1.0, 'speaker': None}, {'text': 'many', 'start': 474072, 'end': 474226, 'confidence': 0.99994, 'speaker': None}, {'text': 'of', 'start': 474248, 'end': 474386, 'confidence': 0.75, 'speaker': None}, {'text': 'the', 'start': 474408, 'end': 474498, 'confidence': 1.0, 'speaker': None}, {'text': 'courses', 'start': 474504, 'end': 474846, 'confidence': 0.99979, 'speaker': None}, {'text': 'that', 'start': 474878, 'end': 474978, 'confidence': 0.99988, 'speaker': None}, {'text': \"I've\", 'start': 474984, 'end': 475118, 'confidence': 0.99992, 'speaker': None}, {'text': 'linked', 'start': 475134, 'end': 475630, 'confidence': 0.64421, 'speaker': None}, {'text': 'is', 'start': 475710, 'end': 475954, 'confidence': 0.99999, 'speaker': None}, {'text': 'that', 'start': 475992, 'end': 476146, 'confidence': 0.99998, 'speaker': None}, {'text': 'they', 'start': 476168, 'end': 476306, 'confidence': 0.99996, 'speaker': None}, {'text': 'have', 'start': 476328, 'end': 476466, 'confidence': 0.99961, 'speaker': None}, {'text': 'these', 'start': 476488, 'end': 476626, 'confidence': 0.99999, 'speaker': None}, {'text': 'little', 'start': 476648, 'end': 476834, 'confidence': 0.99998, 'speaker': None}, {'text': 'mini', 'start': 476872, 'end': 477118, 'confidence': 0.9974, 'speaker': None}, {'text': 'projects', 'start': 477134, 'end': 477578, 'confidence': 0.99972, 'speaker': None}, {'text': 'baked', 'start': 477614, 'end': 477858, 'confidence': 0.99972, 'speaker': None}, {'text': 'into', 'start': 477874, 'end': 478054, 'confidence': 0.99995, 'speaker': None}, {'text': 'the', 'start': 478092, 'end': 478198, 'confidence': 1.0, 'speaker': None}, {'text': 'coursework.', 'start': 478204, 'end': 478738, 'confidence': 0.999, 'speaker': None}, {'text': 'I', 'start': 478834, 'end': 479046, 'confidence': 1.0, 'speaker': None}, {'text': 'think', 'start': 479068, 'end': 479254, 'confidence': 1.0, 'speaker': None}, {'text': 'project', 'start': 479292, 'end': 479542, 'confidence': 0.99983, 'speaker': None}, {'text': 'based', 'start': 479596, 'end': 479814, 'confidence': 0.99082, 'speaker': None}, {'text': 'learning', 'start': 479852, 'end': 480102, 'confidence': 0.99999, 'speaker': None}, {'text': 'is', 'start': 480156, 'end': 480326, 'confidence': 0.96978, 'speaker': None}, {'text': 'the', 'start': 480348, 'end': 480534, 'confidence': 0.91, 'speaker': None}, {'text': 'single', 'start': 480572, 'end': 480822, 'confidence': 0.9999, 'speaker': None}, {'text': 'most', 'start': 480876, 'end': 481094, 'confidence': 0.99999, 'speaker': None}, {'text': 'effective', 'start': 481132, 'end': 481554, 'confidence': 0.99996, 'speaker': None}, {'text': 'way', 'start': 481602, 'end': 481862, 'confidence': 1.0, 'speaker': None}, {'text': 'to', 'start': 481916, 'end': 482086, 'confidence': 1.0, 'speaker': None}, {'text': 'learn', 'start': 482108, 'end': 482294, 'confidence': 1.0, 'speaker': None}, {'text': 'technical', 'start': 482332, 'end': 482722, 'confidence': 0.98654, 'speaker': None}, {'text': 'concepts.', 'start': 482786, 'end': 483378, 'confidence': 0.96315, 'speaker': None}, {'text': 'After', 'start': 483474, 'end': 483782, 'confidence': 0.99996, 'speaker': None}, {'text': 'first', 'start': 483836, 'end': 484150, 'confidence': 1.0, 'speaker': None}, {'text': 'getting', 'start': 484220, 'end': 484550, 'confidence': 0.99996, 'speaker': None}, {'text': 'a', 'start': 484620, 'end': 484854, 'confidence': 1.0, 'speaker': None}, {'text': 'basic', 'start': 484892, 'end': 485314, 'confidence': 0.99966, 'speaker': None}, {'text': 'foundation,', 'start': 485362, 'end': 486082, 'confidence': 0.99997, 'speaker': None}, {'text': 'I', 'start': 486226, 'end': 486534, 'confidence': 1.0, 'speaker': None}, {'text': 'highly', 'start': 486572, 'end': 486866, 'confidence': 0.99995, 'speaker': None}, {'text': 'encourage', 'start': 486898, 'end': 487266, 'confidence': 0.99999, 'speaker': None}, {'text': 'you', 'start': 487298, 'end': 487446, 'confidence': 0.99999, 'speaker': None}, {'text': 'to', 'start': 487468, 'end': 487558, 'confidence': 1.0, 'speaker': None}, {'text': 'think', 'start': 487564, 'end': 487734, 'confidence': 0.99995, 'speaker': None}, {'text': 'about', 'start': 487772, 'end': 488166, 'confidence': 1.0, 'speaker': None}, {'text': 'how', 'start': 488268, 'end': 488534, 'confidence': 0.99997, 'speaker': None}, {'text': 'you', 'start': 488572, 'end': 488678, 'confidence': 0.99994, 'speaker': None}, {'text': 'can', 'start': 488684, 'end': 488806, 'confidence': 1.0, 'speaker': None}, {'text': 'use', 'start': 488828, 'end': 489062, 'confidence': 0.99996, 'speaker': None}, {'text': 'code', 'start': 489116, 'end': 489334, 'confidence': 0.99999, 'speaker': None}, {'text': 'to', 'start': 489372, 'end': 489526, 'confidence': 1.0, 'speaker': None}, {'text': 'build', 'start': 489548, 'end': 489734, 'confidence': 0.99999, 'speaker': None}, {'text': 'things', 'start': 489772, 'end': 490118, 'confidence': 1.0, 'speaker': None}, {'text': 'that', 'start': 490204, 'end': 490454, 'confidence': 0.99984, 'speaker': None}, {'text': 'would', 'start': 490492, 'end': 490646, 'confidence': 0.99974, 'speaker': None}, {'text': 'be', 'start': 490668, 'end': 490806, 'confidence': 0.99996, 'speaker': None}, {'text': 'useful', 'start': 490828, 'end': 491198, 'confidence': 0.99999, 'speaker': None}, {'text': 'to', 'start': 491234, 'end': 491434, 'confidence': 0.93, 'speaker': None}, {'text': 'you.', 'start': 491472, 'end': 491770, 'confidence': 0.99944, 'speaker': None}, {'text': 'So', 'start': 491840, 'end': 492026, 'confidence': 1.0, 'speaker': None}, {'text': 'for', 'start': 492048, 'end': 492234, 'confidence': 0.99838, 'speaker': None}, {'text': 'my', 'start': 492272, 'end': 492426, 'confidence': 0.99992, 'speaker': None}, {'text': 'friend,', 'start': 492448, 'end': 492682, 'confidence': 0.99979, 'speaker': None}, {'text': 'the', 'start': 492736, 'end': 492906, 'confidence': 1.0, 'speaker': None}, {'text': 'first', 'start': 492928, 'end': 493066, 'confidence': 1.0, 'speaker': None}, {'text': 'project', 'start': 493088, 'end': 493370, 'confidence': 0.99926, 'speaker': None}, {'text': \"I'm\", 'start': 493440, 'end': 493638, 'confidence': 0.99937, 'speaker': None}, {'text': 'having', 'start': 493654, 'end': 493834, 'confidence': 0.99984, 'speaker': None}, {'text': 'him', 'start': 493872, 'end': 494026, 'confidence': 0.98705, 'speaker': None}, {'text': 'do', 'start': 494048, 'end': 494378, 'confidence': 0.99997, 'speaker': None}, {'text': 'is', 'start': 494464, 'end': 494714, 'confidence': 0.99995, 'speaker': None}, {'text': 'create', 'start': 494752, 'end': 495002, 'confidence': 0.99993, 'speaker': None}, {'text': 'a', 'start': 495056, 'end': 495178, 'confidence': 1.0, 'speaker': None}, {'text': 'jujitsu', 'start': 495184, 'end': 495686, 'confidence': 0.68207, 'speaker': None}, {'text': 'drill', 'start': 495718, 'end': 495974, 'confidence': 0.56204, 'speaker': None}, {'text': 'randomizer', 'start': 496022, 'end': 496646, 'confidence': 0.99965, 'speaker': None}, {'text': 'using', 'start': 496678, 'end': 496874, 'confidence': 1.0, 'speaker': None}, {'text': 'python.', 'start': 496912, 'end': 497558, 'confidence': 0.41009, 'speaker': None}, {'text': 'So', 'start': 497654, 'end': 497866, 'confidence': 1.0, 'speaker': None}, {'text': 'for', 'start': 497888, 'end': 498026, 'confidence': 0.99936, 'speaker': None}, {'text': 'training', 'start': 498048, 'end': 498282, 'confidence': 0.9993, 'speaker': None}, {'text': 'anything,', 'start': 498336, 'end': 498650, 'confidence': 0.99994, 'speaker': None}, {'text': \"it's\", 'start': 498720, 'end': 498966, 'confidence': 0.99954, 'speaker': None}, {'text': 'important', 'start': 498998, 'end': 499194, 'confidence': 0.99998, 'speaker': None}, {'text': 'to', 'start': 499232, 'end': 499338, 'confidence': 1.0, 'speaker': None}, {'text': 'reinforce', 'start': 499344, 'end': 499798, 'confidence': 0.98807, 'speaker': None}, {'text': 'your', 'start': 499814, 'end': 499946, 'confidence': 0.92507, 'speaker': None}, {'text': 'skills,', 'start': 499968, 'end': 500422, 'confidence': 0.99725, 'speaker': None}, {'text': 'but', 'start': 500486, 'end': 500714, 'confidence': 0.99804, 'speaker': None}, {'text': 'it', 'start': 500752, 'end': 500858, 'confidence': 0.99995, 'speaker': None}, {'text': 'can', 'start': 500864, 'end': 500986, 'confidence': 1.0, 'speaker': None}, {'text': 'get', 'start': 501008, 'end': 501146, 'confidence': 0.99999, 'speaker': None}, {'text': 'boring.', 'start': 501168, 'end': 501574, 'confidence': 0.99982, 'speaker': None}, {'text': 'Working', 'start': 501622, 'end': 501834, 'confidence': 0.99994, 'speaker': None}, {'text': 'on', 'start': 501872, 'end': 502074, 'confidence': 0.99993, 'speaker': None}, {'text': 'the', 'start': 502112, 'end': 502266, 'confidence': 1.0, 'speaker': None}, {'text': 'same', 'start': 502288, 'end': 502474, 'confidence': 0.99999, 'speaker': None}, {'text': 'basic', 'start': 502512, 'end': 502806, 'confidence': 0.99999, 'speaker': None}, {'text': 'drills', 'start': 502838, 'end': 503158, 'confidence': 0.92624, 'speaker': None}, {'text': 'every', 'start': 503174, 'end': 503354, 'confidence': 0.8459, 'speaker': None}, {'text': 'day.', 'start': 503392, 'end': 503642, 'confidence': 0.99857, 'speaker': None}, {'text': \"I'm\", 'start': 503696, 'end': 503878, 'confidence': 0.99964, 'speaker': None}, {'text': 'having', 'start': 503894, 'end': 504074, 'confidence': 0.9999, 'speaker': None}, {'text': 'him', 'start': 504112, 'end': 504218, 'confidence': 0.99485, 'speaker': None}, {'text': 'make', 'start': 504224, 'end': 504394, 'confidence': 0.99919, 'speaker': None}, {'text': 'a', 'start': 504432, 'end': 504550, 'confidence': 1.0, 'speaker': None}, {'text': 'program', 'start': 504560, 'end': 504926, 'confidence': 0.99993, 'speaker': None}, {'text': 'that', 'start': 505028, 'end': 505246, 'confidence': 0.99901, 'speaker': None}, {'text': 'essentially', 'start': 505268, 'end': 505690, 'confidence': 0.9867, 'speaker': None}, {'text': 'randomly', 'start': 505770, 'end': 506266, 'confidence': 0.99975, 'speaker': None}, {'text': 'selects', 'start': 506298, 'end': 506666, 'confidence': 0.97733, 'speaker': None}, {'text': 'two', 'start': 506698, 'end': 506846, 'confidence': 1.0, 'speaker': None}, {'text': 'to', 'start': 506868, 'end': 507006, 'confidence': 0.91, 'speaker': None}, {'text': 'three', 'start': 507028, 'end': 507214, 'confidence': 1.0, 'speaker': None}, {'text': 'drills', 'start': 507252, 'end': 507722, 'confidence': 0.97089, 'speaker': None}, {'text': 'that', 'start': 507786, 'end': 507966, 'confidence': 0.99924, 'speaker': None}, {'text': 'we', 'start': 507988, 'end': 508126, 'confidence': 0.99997, 'speaker': None}, {'text': 'should', 'start': 508148, 'end': 508286, 'confidence': 0.99995, 'speaker': None}, {'text': 'work', 'start': 508308, 'end': 508446, 'confidence': 1.0, 'speaker': None}, {'text': 'on', 'start': 508468, 'end': 508606, 'confidence': 0.99997, 'speaker': None}, {'text': 'during', 'start': 508628, 'end': 508814, 'confidence': 0.99999, 'speaker': None}, {'text': 'our', 'start': 508852, 'end': 509006, 'confidence': 0.99997, 'speaker': None}, {'text': 'sessions', 'start': 509028, 'end': 509402, 'confidence': 0.99825, 'speaker': None}, {'text': 'from', 'start': 509466, 'end': 509694, 'confidence': 0.99991, 'speaker': None}, {'text': 'a', 'start': 509732, 'end': 509886, 'confidence': 1.0, 'speaker': None}, {'text': 'larger', 'start': 509908, 'end': 510234, 'confidence': 0.99629, 'speaker': None}, {'text': 'list.', 'start': 510282, 'end': 510638, 'confidence': 0.99997, 'speaker': None}, {'text': 'This', 'start': 510724, 'end': 510926, 'confidence': 0.99983, 'speaker': None}, {'text': 'is', 'start': 510948, 'end': 511038, 'confidence': 0.99993, 'speaker': None}, {'text': 'a', 'start': 511044, 'end': 511166, 'confidence': 0.5, 'speaker': None}, {'text': 'simple', 'start': 511188, 'end': 511422, 'confidence': 0.99989, 'speaker': None}, {'text': 'project,', 'start': 511476, 'end': 511742, 'confidence': 0.99995, 'speaker': None}, {'text': 'but', 'start': 511796, 'end': 511966, 'confidence': 0.99998, 'speaker': None}, {'text': \"it's\", 'start': 511988, 'end': 512138, 'confidence': 0.99888, 'speaker': None}, {'text': 'something', 'start': 512154, 'end': 512334, 'confidence': 0.99997, 'speaker': None}, {'text': \"that's\", 'start': 512372, 'end': 512586, 'confidence': 0.99683, 'speaker': None}, {'text': 'directly', 'start': 512618, 'end': 512986, 'confidence': 0.99978, 'speaker': None}, {'text': 'relevant', 'start': 513018, 'end': 513386, 'confidence': 0.99808, 'speaker': None}, {'text': 'and', 'start': 513418, 'end': 513614, 'confidence': 1.0, 'speaker': None}, {'text': 'useful', 'start': 513652, 'end': 513946, 'confidence': 0.99999, 'speaker': None}, {'text': 'to', 'start': 513978, 'end': 514126, 'confidence': 0.99, 'speaker': None}, {'text': 'our', 'start': 514148, 'end': 514334, 'confidence': 0.99974, 'speaker': None}, {'text': 'work', 'start': 514372, 'end': 514526, 'confidence': 1.0, 'speaker': None}, {'text': 'and', 'start': 514548, 'end': 514686, 'confidence': 1.0, 'speaker': None}, {'text': 'our', 'start': 514708, 'end': 514798, 'confidence': 0.99994, 'speaker': None}, {'text': 'jujitsu', 'start': 514804, 'end': 515338, 'confidence': 0.8321, 'speaker': None}, {'text': 'training.', 'start': 515354, 'end': 515630, 'confidence': 0.99997, 'speaker': None}, {'text': 'With', 'start': 515700, 'end': 515886, 'confidence': 0.99983, 'speaker': None}, {'text': 'that', 'start': 515908, 'end': 516046, 'confidence': 0.99981, 'speaker': None}, {'text': 'in', 'start': 516068, 'end': 516158, 'confidence': 0.99997, 'speaker': None}, {'text': 'mind,', 'start': 516164, 'end': 516382, 'confidence': 0.99981, 'speaker': None}, {'text': \"I'd\", 'start': 516436, 'end': 516666, 'confidence': 0.75095, 'speaker': None}, {'text': 'love', 'start': 516698, 'end': 516846, 'confidence': 0.99995, 'speaker': None}, {'text': 'for', 'start': 516868, 'end': 516958, 'confidence': 0.99995, 'speaker': None}, {'text': 'you', 'start': 516964, 'end': 517086, 'confidence': 0.99977, 'speaker': None}, {'text': 'to', 'start': 517108, 'end': 517210, 'confidence': 1.0, 'speaker': None}, {'text': 'comment', 'start': 517220, 'end': 517486, 'confidence': 0.99991, 'speaker': None}, {'text': 'below', 'start': 517518, 'end': 517714, 'confidence': 0.99993, 'speaker': None}, {'text': 'with', 'start': 517752, 'end': 517906, 'confidence': 0.99992, 'speaker': None}, {'text': 'a', 'start': 517928, 'end': 518018, 'confidence': 1.0, 'speaker': None}, {'text': 'Python', 'start': 518024, 'end': 518414, 'confidence': 0.86633, 'speaker': None}, {'text': 'project', 'start': 518462, 'end': 518818, 'confidence': 0.99995, 'speaker': None}, {'text': 'that', 'start': 518904, 'end': 519106, 'confidence': 0.99812, 'speaker': None}, {'text': \"you'd\", 'start': 519128, 'end': 519374, 'confidence': 0.69177, 'speaker': None}, {'text': 'like', 'start': 519422, 'end': 519586, 'confidence': 1.0, 'speaker': None}, {'text': 'to', 'start': 519608, 'end': 519746, 'confidence': 1.0, 'speaker': None}, {'text': 'do,', 'start': 519768, 'end': 520050, 'confidence': 0.99997, 'speaker': None}, {'text': 'and', 'start': 520120, 'end': 520306, 'confidence': 1.0, 'speaker': None}, {'text': \"we'll\", 'start': 520328, 'end': 520526, 'confidence': 0.4187, 'speaker': None}, {'text': 'all', 'start': 520558, 'end': 520706, 'confidence': 1.0, 'speaker': None}, {'text': 'hold', 'start': 520728, 'end': 520914, 'confidence': 0.99999, 'speaker': None}, {'text': 'each', 'start': 520952, 'end': 521058, 'confidence': 1.0, 'speaker': None}, {'text': 'other', 'start': 521064, 'end': 521234, 'confidence': 0.99987, 'speaker': None}, {'text': 'accountable.', 'start': 521272, 'end': 521886, 'confidence': 0.98201, 'speaker': None}, {'text': 'Okay,', 'start': 521998, 'end': 522370, 'confidence': 0.91793, 'speaker': None}, {'text': 'so', 'start': 522440, 'end': 522674, 'confidence': 0.86, 'speaker': None}, {'text': 'now', 'start': 522712, 'end': 522866, 'confidence': 1.0, 'speaker': None}, {'text': 'that', 'start': 522888, 'end': 523026, 'confidence': 0.99994, 'speaker': None}, {'text': \"you've\", 'start': 523048, 'end': 523198, 'confidence': 0.99985, 'speaker': None}, {'text': 'learned', 'start': 523214, 'end': 523358, 'confidence': 0.99929, 'speaker': None}, {'text': 'the', 'start': 523374, 'end': 523458, 'confidence': 1.0, 'speaker': None}, {'text': 'basics', 'start': 523464, 'end': 523726, 'confidence': 0.99999, 'speaker': None}, {'text': 'of', 'start': 523758, 'end': 523906, 'confidence': 1.0, 'speaker': None}, {'text': 'Python,', 'start': 523928, 'end': 524382, 'confidence': 0.99992, 'speaker': None}, {'text': 'now', 'start': 524446, 'end': 524674, 'confidence': 1.0, 'speaker': None}, {'text': 'what?', 'start': 524712, 'end': 525154, 'confidence': 0.99969, 'speaker': None}, {'text': 'If', 'start': 525272, 'end': 525506, 'confidence': 0.99996, 'speaker': None}, {'text': \"you're\", 'start': 525528, 'end': 525726, 'confidence': 0.99906, 'speaker': None}, {'text': 'interested', 'start': 525758, 'end': 526050, 'confidence': 1.0, 'speaker': None}, {'text': 'in', 'start': 526120, 'end': 526306, 'confidence': 0.99985, 'speaker': None}, {'text': 'learning', 'start': 526328, 'end': 526514, 'confidence': 0.99983, 'speaker': None}, {'text': 'more', 'start': 526552, 'end': 526706, 'confidence': 1.0, 'speaker': None}, {'text': 'about', 'start': 526728, 'end': 526914, 'confidence': 1.0, 'speaker': None}, {'text': 'data,', 'start': 526952, 'end': 527298, 'confidence': 0.99985, 'speaker': None}, {'text': 'I', 'start': 527384, 'end': 527634, 'confidence': 1.0, 'speaker': None}, {'text': 'highly', 'start': 527672, 'end': 528014, 'confidence': 0.99457, 'speaker': None}, {'text': 'recommend', 'start': 528062, 'end': 528418, 'confidence': 1.0, 'speaker': None}, {'text': 'that', 'start': 528504, 'end': 528706, 'confidence': 0.99944, 'speaker': None}, {'text': 'you', 'start': 528728, 'end': 528818, 'confidence': 0.99995, 'speaker': None}, {'text': 'do', 'start': 528824, 'end': 528994, 'confidence': 0.99991, 'speaker': None}, {'text': 'a', 'start': 529032, 'end': 529138, 'confidence': 0.98, 'speaker': None}, {'text': 'data', 'start': 529144, 'end': 529362, 'confidence': 0.99259, 'speaker': None}, {'text': 'related', 'start': 529416, 'end': 529786, 'confidence': 0.97643, 'speaker': None}, {'text': 'project.', 'start': 529838, 'end': 530390, 'confidence': 0.99985, 'speaker': None}, {'text': 'The', 'start': 530540, 'end': 530806, 'confidence': 1.0, 'speaker': None}, {'text': 'single', 'start': 530828, 'end': 531062, 'confidence': 0.99995, 'speaker': None}, {'text': 'best', 'start': 531116, 'end': 531334, 'confidence': 0.99999, 'speaker': None}, {'text': 'place', 'start': 531372, 'end': 531574, 'confidence': 0.99988, 'speaker': None}, {'text': 'for', 'start': 531612, 'end': 531718, 'confidence': 0.99995, 'speaker': None}, {'text': 'this', 'start': 531724, 'end': 531894, 'confidence': 0.99995, 'speaker': None}, {'text': 'is', 'start': 531932, 'end': 532134, 'confidence': 0.99995, 'speaker': None}, {'text': 'kaggle.com,', 'start': 532172, 'end': 532902, 'confidence': 0.99, 'speaker': None}, {'text': 'which', 'start': 532956, 'end': 533126, 'confidence': 0.99913, 'speaker': None}, {'text': \"I've\", 'start': 533148, 'end': 533346, 'confidence': 0.99562, 'speaker': None}, {'text': 'mentioned', 'start': 533378, 'end': 533574, 'confidence': 0.99991, 'speaker': None}, {'text': 'before.', 'start': 533612, 'end': 534198, 'confidence': 0.99973, 'speaker': None}, {'text': 'If', 'start': 534364, 'end': 534646, 'confidence': 0.99977, 'speaker': None}, {'text': \"that's\", 'start': 534668, 'end': 534898, 'confidence': 0.99982, 'speaker': None}, {'text': 'a', 'start': 534914, 'end': 534998, 'confidence': 1.0, 'speaker': None}, {'text': 'bit', 'start': 535004, 'end': 535126, 'confidence': 0.99998, 'speaker': None}, {'text': 'too', 'start': 535148, 'end': 535286, 'confidence': 0.99981, 'speaker': None}, {'text': 'intimidating,', 'start': 535308, 'end': 535842, 'confidence': 0.99174, 'speaker': None}, {'text': 'you', 'start': 535906, 'end': 536086, 'confidence': 0.99979, 'speaker': None}, {'text': 'can', 'start': 536108, 'end': 536246, 'confidence': 1.0, 'speaker': None}, {'text': 'follow', 'start': 536268, 'end': 536502, 'confidence': 0.99998, 'speaker': None}, {'text': 'along', 'start': 536556, 'end': 536774, 'confidence': 0.99996, 'speaker': None}, {'text': 'on', 'start': 536812, 'end': 536966, 'confidence': 0.99494, 'speaker': None}, {'text': 'one', 'start': 536988, 'end': 537078, 'confidence': 1.0, 'speaker': None}, {'text': 'of', 'start': 537084, 'end': 537158, 'confidence': 1.0, 'speaker': None}, {'text': 'the', 'start': 537164, 'end': 537238, 'confidence': 1.0, 'speaker': None}, {'text': 'projects', 'start': 537244, 'end': 537538, 'confidence': 0.9999, 'speaker': None}, {'text': 'that', 'start': 537554, 'end': 537686, 'confidence': 0.99845, 'speaker': None}, {'text': \"I've\", 'start': 537708, 'end': 537986, 'confidence': 0.58569, 'speaker': None}, {'text': 'done,', 'start': 538018, 'end': 538262, 'confidence': 0.99997, 'speaker': None}, {'text': 'or', 'start': 538316, 'end': 538486, 'confidence': 0.99986, 'speaker': None}, {'text': 'one', 'start': 538508, 'end': 538646, 'confidence': 1.0, 'speaker': None}, {'text': 'of', 'start': 538668, 'end': 538758, 'confidence': 1.0, 'speaker': None}, {'text': 'the', 'start': 538764, 'end': 538886, 'confidence': 1.0, 'speaker': None}, {'text': 'thousands', 'start': 538908, 'end': 539266, 'confidence': 0.99352, 'speaker': None}, {'text': 'of', 'start': 539298, 'end': 539446, 'confidence': 1.0, 'speaker': None}, {'text': 'projects', 'start': 539468, 'end': 539778, 'confidence': 0.99995, 'speaker': None}, {'text': 'that', 'start': 539794, 'end': 539974, 'confidence': 0.95914, 'speaker': None}, {'text': 'other', 'start': 540012, 'end': 540214, 'confidence': 0.99994, 'speaker': None}, {'text': 'people', 'start': 540252, 'end': 540454, 'confidence': 0.99998, 'speaker': None}, {'text': 'have', 'start': 540492, 'end': 540646, 'confidence': 0.99993, 'speaker': None}, {'text': 'worked', 'start': 540668, 'end': 540854, 'confidence': 0.99994, 'speaker': None}, {'text': 'on', 'start': 540892, 'end': 541046, 'confidence': 0.99994, 'speaker': None}, {'text': 'on', 'start': 541068, 'end': 541158, 'confidence': 0.99925, 'speaker': None}, {'text': 'the', 'start': 541164, 'end': 541250, 'confidence': 0.66, 'speaker': None}, {'text': 'Kaggle', 'start': 541260, 'end': 541606, 'confidence': 0.95, 'speaker': None}, {'text': 'platform.', 'start': 541638, 'end': 542074, 'confidence': 0.99998, 'speaker': None}, {'text': 'Realistically,', 'start': 542192, 'end': 542998, 'confidence': 0.99987, 'speaker': None}, {'text': 'many', 'start': 543094, 'end': 543402, 'confidence': 0.99999, 'speaker': None}, {'text': 'people', 'start': 543456, 'end': 543674, 'confidence': 0.99996, 'speaker': None}, {'text': 'lose', 'start': 543712, 'end': 543926, 'confidence': 0.99632, 'speaker': None}, {'text': 'steam', 'start': 543958, 'end': 544294, 'confidence': 0.48522, 'speaker': None}, {'text': 'at', 'start': 544342, 'end': 544506, 'confidence': 1.0, 'speaker': None}, {'text': 'this', 'start': 544528, 'end': 544714, 'confidence': 0.99997, 'speaker': None}, {'text': 'step.', 'start': 544752, 'end': 545194, 'confidence': 0.9997, 'speaker': None}, {'text': 'They', 'start': 545312, 'end': 545546, 'confidence': 0.99984, 'speaker': None}, {'text': 'go', 'start': 545568, 'end': 545706, 'confidence': 0.99997, 'speaker': None}, {'text': 'through', 'start': 545728, 'end': 545914, 'confidence': 0.80559, 'speaker': None}, {'text': 'and', 'start': 545952, 'end': 546106, 'confidence': 1.0, 'speaker': None}, {'text': 'see', 'start': 546128, 'end': 546266, 'confidence': 0.99996, 'speaker': None}, {'text': 'the', 'start': 546288, 'end': 546378, 'confidence': 1.0, 'speaker': None}, {'text': 'great', 'start': 546384, 'end': 546554, 'confidence': 0.9998, 'speaker': None}, {'text': 'work', 'start': 546592, 'end': 546794, 'confidence': 1.0, 'speaker': None}, {'text': 'that', 'start': 546832, 'end': 546986, 'confidence': 0.99993, 'speaker': None}, {'text': 'other', 'start': 547008, 'end': 547146, 'confidence': 0.99993, 'speaker': None}, {'text': 'people', 'start': 547168, 'end': 547354, 'confidence': 0.91849, 'speaker': None}, {'text': 'have', 'start': 547392, 'end': 547546, 'confidence': 0.99159, 'speaker': None}, {'text': 'done,', 'start': 547568, 'end': 547802, 'confidence': 0.99991, 'speaker': None}, {'text': 'and', 'start': 547856, 'end': 548026, 'confidence': 1.0, 'speaker': None}, {'text': 'they', 'start': 548048, 'end': 548138, 'confidence': 0.9998, 'speaker': None}, {'text': 'get', 'start': 548144, 'end': 548266, 'confidence': 0.99991, 'speaker': None}, {'text': 'discouraged', 'start': 548288, 'end': 548822, 'confidence': 0.9288, 'speaker': None}, {'text': 'again.', 'start': 548886, 'end': 549162, 'confidence': 0.99901, 'speaker': None}, {'text': 'Honestly,', 'start': 549216, 'end': 549606, 'confidence': 0.99992, 'speaker': None}, {'text': 'I', 'start': 549638, 'end': 549834, 'confidence': 1.0, 'speaker': None}, {'text': 'remember', 'start': 549872, 'end': 550122, 'confidence': 0.99994, 'speaker': None}, {'text': 'feeling', 'start': 550176, 'end': 550438, 'confidence': 0.99994, 'speaker': None}, {'text': 'this', 'start': 550454, 'end': 550634, 'confidence': 0.99995, 'speaker': None}, {'text': 'too.', 'start': 550672, 'end': 550922, 'confidence': 0.99949, 'speaker': None}, {'text': 'What', 'start': 550976, 'end': 551098, 'confidence': 0.99993, 'speaker': None}, {'text': 'I', 'start': 551104, 'end': 551226, 'confidence': 0.64, 'speaker': None}, {'text': 'recommend', 'start': 551248, 'end': 551578, 'confidence': 0.99998, 'speaker': None}, {'text': 'doing', 'start': 551664, 'end': 551962, 'confidence': 0.99989, 'speaker': None}, {'text': 'is', 'start': 552016, 'end': 552234, 'confidence': 0.99995, 'speaker': None}, {'text': 'going', 'start': 552272, 'end': 552426, 'confidence': 0.99997, 'speaker': None}, {'text': 'through', 'start': 552448, 'end': 552634, 'confidence': 0.99998, 'speaker': None}, {'text': 'some', 'start': 552672, 'end': 552778, 'confidence': 0.99983, 'speaker': None}, {'text': 'of', 'start': 552784, 'end': 552858, 'confidence': 0.99, 'speaker': None}, {'text': 'the', 'start': 552864, 'end': 552986, 'confidence': 1.0, 'speaker': None}, {'text': 'basic', 'start': 553008, 'end': 553286, 'confidence': 0.99997, 'speaker': None}, {'text': 'notebooks,', 'start': 553318, 'end': 553778, 'confidence': 0.98899, 'speaker': None}, {'text': 'like', 'start': 553814, 'end': 554014, 'confidence': 1.0, 'speaker': None}, {'text': 'the', 'start': 554052, 'end': 554158, 'confidence': 1.0, 'speaker': None}, {'text': 'Titanic', 'start': 554164, 'end': 554586, 'confidence': 0.99979, 'speaker': None}, {'text': 'data', 'start': 554618, 'end': 554814, 'confidence': 0.99998, 'speaker': None}, {'text': 'set,', 'start': 554852, 'end': 555150, 'confidence': 0.97649, 'speaker': None}, {'text': 'and', 'start': 555220, 'end': 555454, 'confidence': 1.0, 'speaker': None}, {'text': 'just', 'start': 555492, 'end': 555694, 'confidence': 0.99992, 'speaker': None}, {'text': 'copying', 'start': 555732, 'end': 556106, 'confidence': 0.99991, 'speaker': None}, {'text': 'the', 'start': 556138, 'end': 556286, 'confidence': 1.0, 'speaker': None}, {'text': 'code,', 'start': 556308, 'end': 556686, 'confidence': 0.99999, 'speaker': None}, {'text': 'running', 'start': 556788, 'end': 557102, 'confidence': 0.78252, 'speaker': None}, {'text': 'it', 'start': 557156, 'end': 557326, 'confidence': 0.99987, 'speaker': None}, {'text': 'on', 'start': 557348, 'end': 557486, 'confidence': 0.99994, 'speaker': None}, {'text': 'your', 'start': 557508, 'end': 557598, 'confidence': 0.99998, 'speaker': None}, {'text': 'own', 'start': 557604, 'end': 557726, 'confidence': 0.99993, 'speaker': None}, {'text': 'computer', 'start': 557748, 'end': 558174, 'confidence': 1.0, 'speaker': None}, {'text': 'line', 'start': 558292, 'end': 558574, 'confidence': 1.0, 'speaker': None}, {'text': 'by', 'start': 558612, 'end': 558814, 'confidence': 0.87574, 'speaker': None}, {'text': 'line.', 'start': 558852, 'end': 559390, 'confidence': 1.0, 'speaker': None}, {'text': 'Many', 'start': 559540, 'end': 559854, 'confidence': 1.0, 'speaker': None}, {'text': 'people', 'start': 559892, 'end': 560094, 'confidence': 0.99998, 'speaker': None}, {'text': 'think', 'start': 560132, 'end': 560286, 'confidence': 0.99994, 'speaker': None}, {'text': 'that', 'start': 560308, 'end': 560446, 'confidence': 0.97833, 'speaker': None}, {'text': 'this', 'start': 560468, 'end': 560558, 'confidence': 0.99999, 'speaker': None}, {'text': 'is', 'start': 560564, 'end': 560734, 'confidence': 0.64786, 'speaker': None}, {'text': 'cheating,', 'start': 560772, 'end': 561258, 'confidence': 0.99993, 'speaker': None}, {'text': 'but', 'start': 561354, 'end': 561614, 'confidence': 0.99997, 'speaker': None}, {'text': \"it's\", 'start': 561652, 'end': 561866, 'confidence': 0.99971, 'speaker': None}, {'text': 'actually', 'start': 561898, 'end': 562142, 'confidence': 0.99996, 'speaker': None}, {'text': 'a', 'start': 562196, 'end': 562318, 'confidence': 1.0, 'speaker': None}, {'text': 'great', 'start': 562324, 'end': 562542, 'confidence': 0.55441, 'speaker': None}, {'text': 'way', 'start': 562596, 'end': 562766, 'confidence': 0.99999, 'speaker': None}, {'text': 'to', 'start': 562788, 'end': 562878, 'confidence': 1.0, 'speaker': None}, {'text': 'learn.', 'start': 562884, 'end': 563198, 'confidence': 0.99995, 'speaker': None}, {'text': 'Even', 'start': 563284, 'end': 563534, 'confidence': 0.99998, 'speaker': None}, {'text': 'better,', 'start': 563572, 'end': 563822, 'confidence': 0.99998, 'speaker': None}, {'text': 'when', 'start': 563876, 'end': 564046, 'confidence': 0.99999, 'speaker': None}, {'text': 'you', 'start': 564068, 'end': 564206, 'confidence': 0.99997, 'speaker': None}, {'text': 'run', 'start': 564228, 'end': 564366, 'confidence': 0.99998, 'speaker': None}, {'text': 'it,', 'start': 564388, 'end': 564622, 'confidence': 0.99992, 'speaker': None}, {'text': 'make', 'start': 564676, 'end': 564846, 'confidence': 0.99985, 'speaker': None}, {'text': 'some', 'start': 564868, 'end': 565054, 'confidence': 0.99988, 'speaker': None}, {'text': 'changes', 'start': 565092, 'end': 565342, 'confidence': 0.99998, 'speaker': None}, {'text': 'to', 'start': 565396, 'end': 565518, 'confidence': 1.0, 'speaker': None}, {'text': 'the', 'start': 565524, 'end': 565646, 'confidence': 0.76, 'speaker': None}, {'text': 'code', 'start': 565668, 'end': 565902, 'confidence': 1.0, 'speaker': None}, {'text': 'and', 'start': 565956, 'end': 566126, 'confidence': 1.0, 'speaker': None}, {'text': 'see', 'start': 566148, 'end': 566286, 'confidence': 0.99998, 'speaker': None}, {'text': 'what', 'start': 566308, 'end': 566494, 'confidence': 0.99999, 'speaker': None}, {'text': 'happens.', 'start': 566532, 'end': 566974, 'confidence': 0.99993, 'speaker': None}, {'text': 'Maybe', 'start': 567092, 'end': 567422, 'confidence': 0.99999, 'speaker': None}, {'text': 'you', 'start': 567476, 'end': 567598, 'confidence': 0.99999, 'speaker': None}, {'text': 'should', 'start': 567604, 'end': 567738, 'confidence': 0.99977, 'speaker': None}, {'text': 'try', 'start': 567764, 'end': 568002, 'confidence': 1.0, 'speaker': None}, {'text': 'changing', 'start': 568056, 'end': 568510, 'confidence': 0.99895, 'speaker': None}, {'text': 'like', 'start': 568590, 'end': 568834, 'confidence': 0.76, 'speaker': None}, {'text': 'the', 'start': 568872, 'end': 569026, 'confidence': 1.0, 'speaker': None}, {'text': 'colors', 'start': 569048, 'end': 569358, 'confidence': 0.99078, 'speaker': None}, {'text': 'on', 'start': 569374, 'end': 569506, 'confidence': 0.94889, 'speaker': None}, {'text': 'a', 'start': 569528, 'end': 569666, 'confidence': 1.0, 'speaker': None}, {'text': 'graph', 'start': 569688, 'end': 569982, 'confidence': 0.99986, 'speaker': None}, {'text': 'from', 'start': 570046, 'end': 570226, 'confidence': 0.99944, 'speaker': None}, {'text': 'blue', 'start': 570248, 'end': 570446, 'confidence': 0.99339, 'speaker': None}, {'text': 'to', 'start': 570478, 'end': 570626, 'confidence': 1.0, 'speaker': None}, {'text': 'red,', 'start': 570648, 'end': 570930, 'confidence': 0.99961, 'speaker': None}, {'text': 'or', 'start': 571000, 'end': 571378, 'confidence': 0.99965, 'speaker': None}, {'text': 'try', 'start': 571464, 'end': 571666, 'confidence': 1.0, 'speaker': None}, {'text': 'to', 'start': 571688, 'end': 571826, 'confidence': 0.95, 'speaker': None}, {'text': 'make', 'start': 571848, 'end': 571986, 'confidence': 0.99998, 'speaker': None}, {'text': 'a', 'start': 572008, 'end': 572146, 'confidence': 0.58, 'speaker': None}, {'text': 'line', 'start': 572168, 'end': 572354, 'confidence': 1.0, 'speaker': None}, {'text': 'thicker', 'start': 572392, 'end': 572718, 'confidence': 0.99857, 'speaker': None}, {'text': 'on', 'start': 572734, 'end': 572866, 'confidence': 0.99996, 'speaker': None}, {'text': 'one', 'start': 572888, 'end': 572978, 'confidence': 1.0, 'speaker': None}, {'text': 'of', 'start': 572984, 'end': 573058, 'confidence': 1.0, 'speaker': None}, {'text': 'the', 'start': 573064, 'end': 573138, 'confidence': 1.0, 'speaker': None}, {'text': 'graphs.', 'start': 573144, 'end': 573534, 'confidence': 0.99957, 'speaker': None}, {'text': 'Just', 'start': 573582, 'end': 573794, 'confidence': 0.98286, 'speaker': None}, {'text': 'simple', 'start': 573832, 'end': 574082, 'confidence': 0.87906, 'speaker': None}, {'text': 'things', 'start': 574136, 'end': 574306, 'confidence': 0.99998, 'speaker': None}, {'text': 'like', 'start': 574328, 'end': 574466, 'confidence': 1.0, 'speaker': None}, {'text': 'that', 'start': 574488, 'end': 574722, 'confidence': 0.9999, 'speaker': None}, {'text': 'help', 'start': 574776, 'end': 574994, 'confidence': 0.99968, 'speaker': None}, {'text': 'you', 'start': 575032, 'end': 575138, 'confidence': 0.99974, 'speaker': None}, {'text': 'iterate', 'start': 575144, 'end': 575486, 'confidence': 0.9999, 'speaker': None}, {'text': 'and', 'start': 575518, 'end': 575666, 'confidence': 1.0, 'speaker': None}, {'text': 'improve.', 'start': 575688, 'end': 576014, 'confidence': 0.99951, 'speaker': None}, {'text': 'So', 'start': 576062, 'end': 576226, 'confidence': 0.99, 'speaker': None}, {'text': 'remember', 'start': 576248, 'end': 576434, 'confidence': 0.99996, 'speaker': None}, {'text': 'when', 'start': 576472, 'end': 576626, 'confidence': 0.99952, 'speaker': None}, {'text': 'we', 'start': 576648, 'end': 576786, 'confidence': 0.99992, 'speaker': None}, {'text': 'talked', 'start': 576808, 'end': 576898, 'confidence': 0.99989, 'speaker': None}, {'text': 'about', 'start': 576904, 'end': 577074, 'confidence': 0.8, 'speaker': None}, {'text': 'ides', 'start': 577112, 'end': 577614, 'confidence': 0.88104, 'speaker': None}, {'text': 'earlier', 'start': 577662, 'end': 577934, 'confidence': 0.83756, 'speaker': None}, {'text': 'and', 'start': 577982, 'end': 578146, 'confidence': 0.68, 'speaker': None}, {'text': \"I'd\", 'start': 578168, 'end': 578398, 'confidence': 0.94932, 'speaker': None}, {'text': 'mentioned', 'start': 578414, 'end': 578594, 'confidence': 0.9983, 'speaker': None}, {'text': 'Jupyter', 'start': 578632, 'end': 579006, 'confidence': 0.97865, 'speaker': None}, {'text': 'notebook?', 'start': 579038, 'end': 579422, 'confidence': 0.99548, 'speaker': None}, {'text': 'Kaggle', 'start': 579486, 'end': 579886, 'confidence': 0.7, 'speaker': None}, {'text': 'uses', 'start': 579918, 'end': 580206, 'confidence': 0.99945, 'speaker': None}, {'text': 'something', 'start': 580238, 'end': 580434, 'confidence': 0.99998, 'speaker': None}, {'text': 'similar', 'start': 580472, 'end': 580770, 'confidence': 1.0, 'speaker': None}, {'text': 'to', 'start': 580840, 'end': 580990, 'confidence': 1.0, 'speaker': None}, {'text': 'that', 'start': 581000, 'end': 581174, 'confidence': 0.9997, 'speaker': None}, {'text': 'that', 'start': 581212, 'end': 581366, 'confidence': 0.9993, 'speaker': None}, {'text': 'lets', 'start': 581388, 'end': 581538, 'confidence': 0.99748, 'speaker': None}, {'text': 'you', 'start': 581554, 'end': 581734, 'confidence': 0.99579, 'speaker': None}, {'text': 'work', 'start': 581772, 'end': 582022, 'confidence': 1.0, 'speaker': None}, {'text': 'online.', 'start': 582076, 'end': 582486, 'confidence': 1.0, 'speaker': None}, {'text': 'This', 'start': 582588, 'end': 582806, 'confidence': 0.98406, 'speaker': None}, {'text': 'is', 'start': 582828, 'end': 582966, 'confidence': 0.99991, 'speaker': None}, {'text': 'great', 'start': 582988, 'end': 583174, 'confidence': 0.99987, 'speaker': None}, {'text': 'and', 'start': 583212, 'end': 583414, 'confidence': 1.0, 'speaker': None}, {'text': 'free', 'start': 583452, 'end': 583654, 'confidence': 0.99996, 'speaker': None}, {'text': 'compute', 'start': 583692, 'end': 584066, 'confidence': 0.99991, 'speaker': None}, {'text': 'power', 'start': 584098, 'end': 584342, 'confidence': 0.99981, 'speaker': None}, {'text': 'if', 'start': 584396, 'end': 584518, 'confidence': 0.99962, 'speaker': None}, {'text': 'you', 'start': 584524, 'end': 584598, 'confidence': 0.99985, 'speaker': None}, {'text': 'have', 'start': 584604, 'end': 584774, 'confidence': 0.81518, 'speaker': None}, {'text': 'limited', 'start': 584812, 'end': 585074, 'confidence': 0.9998, 'speaker': None}, {'text': 'resources', 'start': 585122, 'end': 585586, 'confidence': 0.98408, 'speaker': None}, {'text': 'at', 'start': 585618, 'end': 585766, 'confidence': 1.0, 'speaker': None}, {'text': 'home.', 'start': 585788, 'end': 585974, 'confidence': 0.99988, 'speaker': None}, {'text': 'So', 'start': 586012, 'end': 586166, 'confidence': 0.99, 'speaker': None}, {'text': 'if', 'start': 586188, 'end': 586278, 'confidence': 0.99981, 'speaker': None}, {'text': 'you', 'start': 586284, 'end': 586406, 'confidence': 0.99989, 'speaker': None}, {'text': 'want', 'start': 586428, 'end': 586518, 'confidence': 0.97147, 'speaker': None}, {'text': 'to', 'start': 586524, 'end': 586598, 'confidence': 1.0, 'speaker': None}, {'text': 'work', 'start': 586604, 'end': 586774, 'confidence': 1.0, 'speaker': None}, {'text': 'with', 'start': 586812, 'end': 586966, 'confidence': 0.99994, 'speaker': None}, {'text': 'data', 'start': 586988, 'end': 587174, 'confidence': 0.99999, 'speaker': None}, {'text': 'on', 'start': 587212, 'end': 587366, 'confidence': 0.535, 'speaker': None}, {'text': 'your', 'start': 587388, 'end': 587622, 'confidence': 0.99646, 'speaker': None}, {'text': 'laptop', 'start': 587676, 'end': 588066, 'confidence': 0.99993, 'speaker': None}, {'text': 'or', 'start': 588098, 'end': 588246, 'confidence': 0.9998, 'speaker': None}, {'text': 'desktop,', 'start': 588268, 'end': 588866, 'confidence': 0.93551, 'speaker': None}, {'text': 'I', 'start': 588978, 'end': 589206, 'confidence': 1.0, 'speaker': None}, {'text': 'recommend', 'start': 589228, 'end': 589510, 'confidence': 0.99998, 'speaker': None}, {'text': 'downloading', 'start': 589580, 'end': 590066, 'confidence': 0.99991, 'speaker': None}, {'text': 'anaconda.', 'start': 590098, 'end': 590674, 'confidence': 0.94102, 'speaker': None}, {'text': 'Anaconda', 'start': 590722, 'end': 591298, 'confidence': 0.99966, 'speaker': None}, {'text': 'is', 'start': 591314, 'end': 591398, 'confidence': 0.99998, 'speaker': None}, {'text': 'a', 'start': 591404, 'end': 591490, 'confidence': 1.0, 'speaker': None}, {'text': 'software', 'start': 591500, 'end': 591814, 'confidence': 0.96881, 'speaker': None}, {'text': 'package', 'start': 591862, 'end': 592214, 'confidence': 0.99995, 'speaker': None}, {'text': 'that', 'start': 592262, 'end': 592426, 'confidence': 0.99998, 'speaker': None}, {'text': 'lumps', 'start': 592448, 'end': 592726, 'confidence': 0.99918, 'speaker': None}, {'text': 'together', 'start': 592758, 'end': 592954, 'confidence': 0.99998, 'speaker': None}, {'text': 'all', 'start': 592992, 'end': 593146, 'confidence': 0.52, 'speaker': None}, {'text': 'of', 'start': 593168, 'end': 593258, 'confidence': 1.0, 'speaker': None}, {'text': 'the', 'start': 593264, 'end': 593386, 'confidence': 0.86, 'speaker': None}, {'text': 'relevant', 'start': 593408, 'end': 593766, 'confidence': 0.99912, 'speaker': None}, {'text': 'Python', 'start': 593798, 'end': 594214, 'confidence': 0.41426, 'speaker': None}, {'text': 'libraries', 'start': 594262, 'end': 594886, 'confidence': 0.51062, 'speaker': None}, {'text': 'and', 'start': 594998, 'end': 595322, 'confidence': 0.98, 'speaker': None}, {'text': 'ides', 'start': 595376, 'end': 596054, 'confidence': 0.8009, 'speaker': None}, {'text': 'for', 'start': 596102, 'end': 596266, 'confidence': 0.99999, 'speaker': None}, {'text': 'data', 'start': 596288, 'end': 596474, 'confidence': 0.99991, 'speaker': None}, {'text': 'science', 'start': 596512, 'end': 596854, 'confidence': 0.61502, 'speaker': None}, {'text': 'in', 'start': 596902, 'end': 597114, 'confidence': 0.9992, 'speaker': None}, {'text': 'one', 'start': 597152, 'end': 597306, 'confidence': 1.0, 'speaker': None}, {'text': 'go.', 'start': 597328, 'end': 597706, 'confidence': 0.75983, 'speaker': None}, {'text': 'So', 'start': 597808, 'end': 598026, 'confidence': 1.0, 'speaker': None}, {'text': 'you', 'start': 598048, 'end': 598138, 'confidence': 0.99994, 'speaker': None}, {'text': 'can', 'start': 598144, 'end': 598266, 'confidence': 1.0, 'speaker': None}, {'text': 'check', 'start': 598288, 'end': 598426, 'confidence': 1.0, 'speaker': None}, {'text': 'out', 'start': 598448, 'end': 598586, 'confidence': 1.0, 'speaker': None}, {'text': 'my', 'start': 598608, 'end': 598746, 'confidence': 0.99999, 'speaker': None}, {'text': 'video', 'start': 598768, 'end': 599002, 'confidence': 0.99999, 'speaker': None}, {'text': 'for', 'start': 599056, 'end': 599274, 'confidence': 0.99993, 'speaker': None}, {'text': 'how', 'start': 599312, 'end': 599466, 'confidence': 0.99995, 'speaker': None}, {'text': 'to', 'start': 599488, 'end': 599626, 'confidence': 1.0, 'speaker': None}, {'text': 'install', 'start': 599648, 'end': 599930, 'confidence': 1.0, 'speaker': None}, {'text': 'it,', 'start': 600000, 'end': 600234, 'confidence': 0.99991, 'speaker': None}, {'text': 'which', 'start': 600272, 'end': 600426, 'confidence': 0.99979, 'speaker': None}, {'text': \"I've\", 'start': 600448, 'end': 600598, 'confidence': 0.99961, 'speaker': None}, {'text': 'linked', 'start': 600614, 'end': 600806, 'confidence': 0.99967, 'speaker': None}, {'text': 'above', 'start': 600838, 'end': 601094, 'confidence': 0.83954, 'speaker': None}, {'text': 'and', 'start': 601142, 'end': 601306, 'confidence': 1.0, 'speaker': None}, {'text': 'in', 'start': 601328, 'end': 601418, 'confidence': 0.99989, 'speaker': None}, {'text': 'the', 'start': 601424, 'end': 601546, 'confidence': 0.93, 'speaker': None}, {'text': 'description.', 'start': 601568, 'end': 602118, 'confidence': 0.9966, 'speaker': None}, {'text': 'Finally,', 'start': 602214, 'end': 602618, 'confidence': 0.92502, 'speaker': None}, {'text': 'I', 'start': 602704, 'end': 602906, 'confidence': 1.0, 'speaker': None}, {'text': 'have', 'start': 602928, 'end': 603114, 'confidence': 0.93045, 'speaker': None}, {'text': 'three', 'start': 603152, 'end': 603354, 'confidence': 1.0, 'speaker': None}, {'text': 'tips', 'start': 603392, 'end': 603734, 'confidence': 0.99993, 'speaker': None}, {'text': 'to', 'start': 603782, 'end': 603898, 'confidence': 1.0, 'speaker': None}, {'text': 'send', 'start': 603904, 'end': 604074, 'confidence': 0.99993, 'speaker': None}, {'text': 'you', 'start': 604112, 'end': 604266, 'confidence': 0.99985, 'speaker': None}, {'text': 'on', 'start': 604288, 'end': 604378, 'confidence': 0.99957, 'speaker': None}, {'text': 'your', 'start': 604384, 'end': 604518, 'confidence': 0.99956, 'speaker': None}, {'text': 'way.', 'start': 604544, 'end': 604830, 'confidence': 0.99984, 'speaker': None}, {'text': 'These', 'start': 604900, 'end': 605086, 'confidence': 0.99836, 'speaker': None}, {'text': 'are', 'start': 605108, 'end': 605294, 'confidence': 0.9999, 'speaker': None}, {'text': 'probably', 'start': 605332, 'end': 605630, 'confidence': 0.99994, 'speaker': None}, {'text': 'the', 'start': 605700, 'end': 606030, 'confidence': 1.0, 'speaker': None}, {'text': 'most', 'start': 606100, 'end': 606382, 'confidence': 0.99994, 'speaker': None}, {'text': 'important', 'start': 606436, 'end': 606750, 'confidence': 0.99997, 'speaker': None}, {'text': 'things', 'start': 606820, 'end': 607198, 'confidence': 0.99994, 'speaker': None}, {'text': 'that', 'start': 607284, 'end': 607486, 'confidence': 0.99934, 'speaker': None}, {'text': 'a', 'start': 607508, 'end': 607646, 'confidence': 1.0, 'speaker': None}, {'text': 'new', 'start': 607668, 'end': 607806, 'confidence': 1.0, 'speaker': None}, {'text': 'coder', 'start': 607828, 'end': 608186, 'confidence': 0.99973, 'speaker': None}, {'text': 'can', 'start': 608218, 'end': 608366, 'confidence': 1.0, 'speaker': None}, {'text': 'learn,', 'start': 608388, 'end': 608622, 'confidence': 0.99995, 'speaker': None}, {'text': 'so', 'start': 608676, 'end': 608846, 'confidence': 0.99, 'speaker': None}, {'text': 'the', 'start': 608868, 'end': 609006, 'confidence': 1.0, 'speaker': None}, {'text': 'first', 'start': 609028, 'end': 609166, 'confidence': 1.0, 'speaker': None}, {'text': 'one', 'start': 609188, 'end': 609374, 'confidence': 1.0, 'speaker': None}, {'text': 'is', 'start': 609412, 'end': 609566, 'confidence': 0.99995, 'speaker': None}, {'text': 'to', 'start': 609588, 'end': 609726, 'confidence': 1.0, 'speaker': None}, {'text': 'use', 'start': 609748, 'end': 609886, 'confidence': 0.99994, 'speaker': None}, {'text': 'Google', 'start': 609908, 'end': 610142, 'confidence': 1.0, 'speaker': None}, {'text': 'and', 'start': 610196, 'end': 610366, 'confidence': 1.0, 'speaker': None}, {'text': 'stack', 'start': 610388, 'end': 610586, 'confidence': 0.99078, 'speaker': None}, {'text': 'overflow.', 'start': 610618, 'end': 611386, 'confidence': 0.9873, 'speaker': None}, {'text': 'If', 'start': 611498, 'end': 611726, 'confidence': 0.99993, 'speaker': None}, {'text': 'you', 'start': 611748, 'end': 611886, 'confidence': 0.99998, 'speaker': None}, {'text': 'have', 'start': 611908, 'end': 612046, 'confidence': 0.99993, 'speaker': None}, {'text': 'a', 'start': 612068, 'end': 612206, 'confidence': 0.58, 'speaker': None}, {'text': 'question,', 'start': 612228, 'end': 612606, 'confidence': 0.99981, 'speaker': None}, {'text': \"it's\", 'start': 612708, 'end': 612986, 'confidence': 0.61856, 'speaker': None}, {'text': 'almost', 'start': 613018, 'end': 613262, 'confidence': 0.99995, 'speaker': None}, {'text': 'guaranteed', 'start': 613316, 'end': 614042, 'confidence': 0.6872, 'speaker': None}, {'text': 'that', 'start': 614106, 'end': 614334, 'confidence': 0.99978, 'speaker': None}, {'text': 'someone', 'start': 614372, 'end': 614574, 'confidence': 0.99997, 'speaker': None}, {'text': 'has', 'start': 614612, 'end': 614814, 'confidence': 0.97993, 'speaker': None}, {'text': 'asked', 'start': 614852, 'end': 615054, 'confidence': 0.99998, 'speaker': None}, {'text': 'it', 'start': 615092, 'end': 615246, 'confidence': 0.99995, 'speaker': None}, {'text': 'before.', 'start': 615268, 'end': 615502, 'confidence': 0.99994, 'speaker': None}, {'text': 'On', 'start': 615556, 'end': 615726, 'confidence': 0.75779, 'speaker': None}, {'text': 'the', 'start': 615748, 'end': 615886, 'confidence': 1.0, 'speaker': None}, {'text': 'Internet,', 'start': 615908, 'end': 616566, 'confidence': 0.99995, 'speaker': None}, {'text': 'getting', 'start': 616698, 'end': 617042, 'confidence': 0.99997, 'speaker': None}, {'text': 'good', 'start': 617096, 'end': 617314, 'confidence': 0.99988, 'speaker': None}, {'text': 'at', 'start': 617352, 'end': 617554, 'confidence': 1.0, 'speaker': None}, {'text': 'finding', 'start': 617592, 'end': 617886, 'confidence': 0.99982, 'speaker': None}, {'text': 'answers', 'start': 617918, 'end': 618334, 'confidence': 0.84259, 'speaker': None}, {'text': 'on', 'start': 618382, 'end': 618498, 'confidence': 0.99991, 'speaker': None}, {'text': 'your', 'start': 618504, 'end': 618626, 'confidence': 0.9939, 'speaker': None}, {'text': 'own', 'start': 618648, 'end': 618930, 'confidence': 0.9999, 'speaker': None}, {'text': 'via', 'start': 619000, 'end': 619294, 'confidence': 0.97059, 'speaker': None}, {'text': 'search', 'start': 619342, 'end': 619794, 'confidence': 0.99999, 'speaker': None}, {'text': 'might', 'start': 619912, 'end': 620146, 'confidence': 0.99999, 'speaker': None}, {'text': 'be', 'start': 620168, 'end': 620306, 'confidence': 0.99998, 'speaker': None}, {'text': 'the', 'start': 620328, 'end': 620466, 'confidence': 1.0, 'speaker': None}, {'text': 'single', 'start': 620488, 'end': 620722, 'confidence': 0.99999, 'speaker': None}, {'text': 'most', 'start': 620776, 'end': 620994, 'confidence': 0.99999, 'speaker': None}, {'text': 'important', 'start': 621032, 'end': 621330, 'confidence': 0.99999, 'speaker': None}, {'text': 'skill', 'start': 621400, 'end': 621726, 'confidence': 0.99997, 'speaker': None}, {'text': 'of', 'start': 621758, 'end': 621906, 'confidence': 1.0, 'speaker': None}, {'text': 'a', 'start': 621928, 'end': 622018, 'confidence': 1.0, 'speaker': None}, {'text': 'data', 'start': 622024, 'end': 622194, 'confidence': 0.99999, 'speaker': None}, {'text': 'scientist', 'start': 622232, 'end': 622606, 'confidence': 0.99982, 'speaker': None}, {'text': 'or', 'start': 622638, 'end': 622738, 'confidence': 0.99997, 'speaker': None}, {'text': 'a', 'start': 622744, 'end': 622818, 'confidence': 0.6, 'speaker': None}, {'text': 'software', 'start': 622824, 'end': 623086, 'confidence': 0.99999, 'speaker': None}, {'text': 'engineer', 'start': 623118, 'end': 623534, 'confidence': 0.75761, 'speaker': None}, {'text': 'that', 'start': 623582, 'end': 623746, 'confidence': 0.99981, 'speaker': None}, {'text': 'they', 'start': 623768, 'end': 623906, 'confidence': 0.99996, 'speaker': None}, {'text': 'use', 'start': 623928, 'end': 624114, 'confidence': 0.99997, 'speaker': None}, {'text': 'every', 'start': 624152, 'end': 624354, 'confidence': 0.99999, 'speaker': None}, {'text': 'single', 'start': 624392, 'end': 624594, 'confidence': 0.99994, 'speaker': None}, {'text': 'day.', 'start': 624632, 'end': 624930, 'confidence': 0.99998, 'speaker': None}, {'text': 'The', 'start': 625000, 'end': 625186, 'confidence': 1.0, 'speaker': None}, {'text': 'second', 'start': 625208, 'end': 625394, 'confidence': 1.0, 'speaker': None}, {'text': 'is', 'start': 625432, 'end': 625586, 'confidence': 0.99999, 'speaker': None}, {'text': 'to', 'start': 625608, 'end': 625698, 'confidence': 1.0, 'speaker': None}, {'text': 'use', 'start': 625704, 'end': 625874, 'confidence': 0.61129, 'speaker': None}, {'text': 'errors', 'start': 625912, 'end': 626334, 'confidence': 0.99851, 'speaker': None}, {'text': 'so', 'start': 626382, 'end': 626546, 'confidence': 1.0, 'speaker': None}, {'text': 'your', 'start': 626568, 'end': 626706, 'confidence': 0.99995, 'speaker': None}, {'text': 'code', 'start': 626728, 'end': 626866, 'confidence': 0.99945, 'speaker': None}, {'text': 'will', 'start': 626888, 'end': 627026, 'confidence': 0.99013, 'speaker': None}, {'text': 'not', 'start': 627048, 'end': 627186, 'confidence': 0.99997, 'speaker': None}, {'text': 'run,', 'start': 627208, 'end': 627442, 'confidence': 0.99956, 'speaker': None}, {'text': \"it'll\", 'start': 627496, 'end': 627774, 'confidence': 0.59166, 'speaker': None}, {'text': 'break,', 'start': 627822, 'end': 628034, 'confidence': 0.99995, 'speaker': None}, {'text': 'and', 'start': 628072, 'end': 628226, 'confidence': 1.0, 'speaker': None}, {'text': \"you'll\", 'start': 628248, 'end': 628398, 'confidence': 0.99989, 'speaker': None}, {'text': 'be', 'start': 628414, 'end': 628546, 'confidence': 0.99999, 'speaker': None}, {'text': 'sad.', 'start': 628568, 'end': 629182, 'confidence': 0.99982, 'speaker': None}, {'text': \"Don't\", 'start': 629326, 'end': 629598, 'confidence': 0.99978, 'speaker': None}, {'text': 'just', 'start': 629614, 'end': 629746, 'confidence': 0.99982, 'speaker': None}, {'text': 'wallow', 'start': 629768, 'end': 630058, 'confidence': 0.95699, 'speaker': None}, {'text': 'in', 'start': 630094, 'end': 630198, 'confidence': 0.99857, 'speaker': None}, {'text': 'yourself', 'start': 630204, 'end': 630374, 'confidence': 0.94295, 'speaker': None}, {'text': 'pity.', 'start': 630412, 'end': 630818, 'confidence': 0.79775, 'speaker': None}, {'text': 'Read', 'start': 630914, 'end': 631126, 'confidence': 0.99988, 'speaker': None}, {'text': 'the', 'start': 631148, 'end': 631286, 'confidence': 1.0, 'speaker': None}, {'text': 'error', 'start': 631308, 'end': 631506, 'confidence': 0.9706, 'speaker': None}, {'text': 'messages.', 'start': 631538, 'end': 632082, 'confidence': 0.99902, 'speaker': None}, {'text': \"They'll\", 'start': 632146, 'end': 632386, 'confidence': 0.98536, 'speaker': None}, {'text': 'tell', 'start': 632418, 'end': 632566, 'confidence': 0.99947, 'speaker': None}, {'text': 'you', 'start': 632588, 'end': 632726, 'confidence': 0.99984, 'speaker': None}, {'text': 'something', 'start': 632748, 'end': 632982, 'confidence': 0.99977, 'speaker': None}, {'text': 'about', 'start': 633036, 'end': 633206, 'confidence': 1.0, 'speaker': None}, {'text': \"what's\", 'start': 633228, 'end': 633458, 'confidence': 0.9997, 'speaker': None}, {'text': 'wrong.', 'start': 633474, 'end': 633798, 'confidence': 0.99996, 'speaker': None}, {'text': 'Also,', 'start': 633884, 'end': 634182, 'confidence': 0.90442, 'speaker': None}, {'text': 'Google', 'start': 634236, 'end': 634454, 'confidence': 1.0, 'speaker': None}, {'text': 'the', 'start': 634492, 'end': 634646, 'confidence': 0.65, 'speaker': None}, {'text': 'errors', 'start': 634668, 'end': 635122, 'confidence': 0.56034, 'speaker': None}, {'text': 'and', 'start': 635186, 'end': 635366, 'confidence': 1.0, 'speaker': None}, {'text': 'this', 'start': 635388, 'end': 635526, 'confidence': 0.99843, 'speaker': None}, {'text': 'will', 'start': 635548, 'end': 635686, 'confidence': 0.99195, 'speaker': None}, {'text': 'save', 'start': 635708, 'end': 635846, 'confidence': 0.99999, 'speaker': None}, {'text': 'you', 'start': 635868, 'end': 635958, 'confidence': 0.99961, 'speaker': None}, {'text': 'a', 'start': 635964, 'end': 636038, 'confidence': 0.95, 'speaker': None}, {'text': 'lot', 'start': 636044, 'end': 636166, 'confidence': 0.97239, 'speaker': None}, {'text': 'of', 'start': 636188, 'end': 636278, 'confidence': 1.0, 'speaker': None}, {'text': 'time', 'start': 636284, 'end': 636406, 'confidence': 0.99994, 'speaker': None}, {'text': 'and', 'start': 636428, 'end': 636566, 'confidence': 0.95, 'speaker': None}, {'text': 'headache.', 'start': 636588, 'end': 637042, 'confidence': 0.56196, 'speaker': None}, {'text': 'Finally,', 'start': 637106, 'end': 637430, 'confidence': 0.99966, 'speaker': None}, {'text': 'the', 'start': 637500, 'end': 637638, 'confidence': 1.0, 'speaker': None}, {'text': 'third', 'start': 637644, 'end': 637814, 'confidence': 1.0, 'speaker': None}, {'text': 'thing', 'start': 637852, 'end': 638006, 'confidence': 0.99989, 'speaker': None}, {'text': 'is', 'start': 638028, 'end': 638166, 'confidence': 0.98715, 'speaker': None}, {'text': 'to', 'start': 638188, 'end': 638278, 'confidence': 1.0, 'speaker': None}, {'text': 'take', 'start': 638284, 'end': 638406, 'confidence': 0.9998, 'speaker': None}, {'text': 'it', 'start': 638428, 'end': 638566, 'confidence': 0.99978, 'speaker': None}, {'text': 'easy', 'start': 638588, 'end': 638774, 'confidence': 0.99994, 'speaker': None}, {'text': 'on', 'start': 638812, 'end': 638966, 'confidence': 0.99992, 'speaker': None}, {'text': 'yourself.', 'start': 638988, 'end': 639414, 'confidence': 0.99975, 'speaker': None}, {'text': 'The', 'start': 639532, 'end': 639766, 'confidence': 1.0, 'speaker': None}, {'text': 'only', 'start': 639788, 'end': 639926, 'confidence': 0.99994, 'speaker': None}, {'text': 'people', 'start': 639948, 'end': 640134, 'confidence': 0.99997, 'speaker': None}, {'text': 'that', 'start': 640172, 'end': 640326, 'confidence': 0.99982, 'speaker': None}, {'text': \"can't\", 'start': 640348, 'end': 640594, 'confidence': 0.9291, 'speaker': None}, {'text': 'code', 'start': 640642, 'end': 640902, 'confidence': 0.99965, 'speaker': None}, {'text': 'are', 'start': 640956, 'end': 641078, 'confidence': 0.99939, 'speaker': None}, {'text': 'the', 'start': 641084, 'end': 641206, 'confidence': 0.9, 'speaker': None}, {'text': 'ones', 'start': 641228, 'end': 641366, 'confidence': 1.0, 'speaker': None}, {'text': 'that', 'start': 641388, 'end': 641574, 'confidence': 0.99625, 'speaker': None}, {'text': 'never', 'start': 641612, 'end': 641814, 'confidence': 0.99954, 'speaker': None}, {'text': 'try', 'start': 641852, 'end': 642102, 'confidence': 1.0, 'speaker': None}, {'text': 'or', 'start': 642156, 'end': 642326, 'confidence': 0.99973, 'speaker': None}, {'text': 'the', 'start': 642348, 'end': 642438, 'confidence': 1.0, 'speaker': None}, {'text': 'ones', 'start': 642444, 'end': 642614, 'confidence': 1.0, 'speaker': None}, {'text': 'that', 'start': 642652, 'end': 642806, 'confidence': 0.99943, 'speaker': None}, {'text': 'quit', 'start': 642828, 'end': 642978, 'confidence': 0.99987, 'speaker': None}, {'text': 'too', 'start': 642994, 'end': 643174, 'confidence': 0.99972, 'speaker': None}, {'text': 'early.', 'start': 643212, 'end': 643750, 'confidence': 0.99961, 'speaker': None}, {'text': 'Thank', 'start': 643900, 'end': 644166, 'confidence': 0.99989, 'speaker': None}, {'text': 'you', 'start': 644188, 'end': 644326, 'confidence': 0.99967, 'speaker': None}, {'text': 'all', 'start': 644348, 'end': 644486, 'confidence': 1.0, 'speaker': None}, {'text': 'so', 'start': 644508, 'end': 644646, 'confidence': 1.0, 'speaker': None}, {'text': 'much', 'start': 644668, 'end': 644806, 'confidence': 0.99992, 'speaker': None}, {'text': 'for', 'start': 644828, 'end': 644966, 'confidence': 0.99985, 'speaker': None}, {'text': 'watching,', 'start': 644988, 'end': 645222, 'confidence': 0.99995, 'speaker': None}, {'text': 'and', 'start': 645276, 'end': 645446, 'confidence': 1.0, 'speaker': None}, {'text': 'good', 'start': 645468, 'end': 645654, 'confidence': 0.99991, 'speaker': None}, {'text': 'luck', 'start': 645692, 'end': 645906, 'confidence': 0.99991, 'speaker': None}, {'text': 'on', 'start': 645938, 'end': 646038, 'confidence': 0.99988, 'speaker': None}, {'text': 'your', 'start': 646044, 'end': 646166, 'confidence': 0.99995, 'speaker': None}, {'text': 'data', 'start': 646188, 'end': 646374, 'confidence': 0.99996, 'speaker': None}, {'text': 'science', 'start': 646412, 'end': 646706, 'confidence': 0.99985, 'speaker': None}, {'text': 'and', 'start': 646738, 'end': 646886, 'confidence': 1.0, 'speaker': None}, {'text': 'coding', 'start': 646908, 'end': 647234, 'confidence': 0.74859, 'speaker': None}, {'text': 'journey.', 'start': 647282, 'end': 647990, 'confidence': 0.99, 'speaker': None}, {'text': 'You.', 'start': 649610, 'end': 650360, 'confidence': 0.57876, 'speaker': None}], 'utterances': None, 'confidence': 0.967167184787104, 'audio_duration': 661, 'punctuate': True, 'format_text': True, 'dual_channel': None, 'webhook_url': None, 'webhook_status_code': None, 'webhook_auth': False, 'webhook_auth_header_name': None, 'speed_boost': False, 'auto_highlights_result': {'status': 'success', 'results': [{'count': 1, 'rank': 0.07, 'text': 'Python code', 'timestamps': [{'start': 270152, 'end': 270882}]}, {'count': 7, 'rank': 0.06, 'text': 'data science', 'timestamps': [{'start': 33388, 'end': 34002}, {'start': 67934, 'end': 68574}, {'start': 88908, 'end': 89474}, {'start': 464708, 'end': 465450}, {'start': 470558, 'end': 471038}, {'start': 596288, 'end': 596854}, {'start': 646188, 'end': 646706}]}, {'count': 1, 'rank': 0.06, 'text': 'data science learning', 'timestamps': [{'start': 88908, 'end': 89782}]}, {'count': 1, 'rank': 0.06, 'text': 'tangible data science skills', 'timestamps': [{'start': 470136, 'end': 471406}]}, {'count': 3, 'rank': 0.06, 'text': 'data scientists', 'timestamps': [{'start': 82508, 'end': 83378}, {'start': 100368, 'end': 101142}, {'start': 186460, 'end': 187186}]}, {'count': 1, 'rank': 0.05, 'text': 'Data science style', 'timestamps': [{'start': 67934, 'end': 69310}]}, {'count': 1, 'rank': 0.05, 'text': 'data frames', 'timestamps': [{'start': 412404, 'end': 412954}]}, {'count': 1, 'rank': 0.05, 'text': 'different data structures', 'timestamps': [{'start': 329480, 'end': 330450}]}, {'count': 1, 'rank': 0.05, 'text': 'data types', 'timestamps': [{'start': 323272, 'end': 323982}]}, {'count': 1, 'rank': 0.05, 'text': 'other great videos', 'timestamps': [{'start': 38748, 'end': 39510}]}, {'count': 1, 'rank': 0.05, 'text': 'many ides', 'timestamps': [{'start': 196294, 'end': 197126}]}, {'count': 2, 'rank': 0.05, 'text': 'other people', 'timestamps': [{'start': 540012, 'end': 540454}, {'start': 547008, 'end': 547354}]}, {'count': 2, 'rank': 0.05, 'text': 'many people', 'timestamps': [{'start': 543094, 'end': 543674}, {'start': 559540, 'end': 560094}]}, {'count': 1, 'rank': 0.05, 'text': 'good coding', 'timestamps': [{'start': 378872, 'end': 379486}]}, {'count': 2, 'rank': 0.04, 'text': 'object oriented programming', 'timestamps': [{'start': 433308, 'end': 434770}, {'start': 441378, 'end': 442726}]}]}, 'auto_highlights': True, 'audio_start_from': None, 'audio_end_at': None, 'word_boost': [], 'boost_param': None, 'filter_profanity': False, 'redact_pii': False, 'redact_pii_audio': False, 'redact_pii_audio_quality': None, 'redact_pii_policies': None, 'redact_pii_sub': None, 'speaker_labels': False, 'content_safety': False, 'iab_categories': True, 'content_safety_labels': {'status': 'unavailable', 'results': [], 'summary': {}}, 'iab_categories_result': {'status': 'success', 'results': [{'text': \"I recently got an amazing opportunity. I've been learning jujitsu and a friend offered to coach me in exchange for teaching him how to code. At this point in my life where I'm trying to improve my jujitsu as quickly as possible, this was an incredible trade for me. In my personal opinion. I was all for it until I had to think about how I'd actually go about teaching someone how to code.\", 'labels': [{'relevance': 0.13722626864910126, 'label': 'Sports>MartialArts'}, {'relevance': 0.08389603346586227, 'label': 'Technology&Computing>Computing>ProgrammingLanguages'}, {'relevance': 0.007149305194616318, 'label': 'Sports>Boxing'}, {'relevance': 0.004430283326655626, 'label': 'Technology&Computing>Computing'}, {'relevance': 0.0019311271607875824, 'label': 'Sports>Bodybuilding'}, {'relevance': 0.0016925666714087129, 'label': 'Technology&Computing>Computing>ComputerSoftwareAndApplications'}, {'relevance': 0.0016120249638333917, 'label': 'Movies>ActionAndAdventureMovies'}, {'relevance': 0.0014443699037656188, 'label': 'Education>OnlineEducation'}, {'relevance': 0.000878223916515708, 'label': 'Technology&Computing>Computing>Internet>WebDevelopment'}, {'relevance': 0.0006411392241716385, 'label': 'Technology&Computing>Computing>ComputerSoftwareAndApplications>OperatingSystems'}], 'timestamp': {'start': 250, 'end': 18478}, 'sentences_idx_start': 0, 'sentences_idx_end': 4}, {'text': \"Starting from nothing, I quickly realized that this was going to be a lot harder than I thought. After all, it's been almost ten years since I wrote my very first line of code. That's a pretty long time. Now, this video is about the very specific and detailed plan that I wrote for my friend to teach me the basics of coding for data science. Since I did all the work for him, I figured I might as well share the details with you as well here.\", 'labels': [{'relevance': 0.4826590120792389, 'label': 'Technology&Computing>Computing>DataStorageAndWarehousing'}, {'relevance': 0.11849714070558548, 'label': 'Technology&Computing>Computing>ComputerSoftwareAndApplications>Databases'}, {'relevance': 0.05227874964475632, 'label': 'Technology&Computing>Computing>ProgrammingLanguages'}, {'relevance': 0.003577309660613537, 'label': 'Technology&Computing>Computing>ComputerSoftwareAndApplications'}, {'relevance': 0.0015803250716999173, 'label': 'Technology&Computing>Computing>Internet>WebDevelopment'}, {'relevance': 0.0008139365236274898, 'label': 'BusinessAndFinance>Business>BusinessI.T.'}, {'relevance': 0.0007024347432889044, 'label': 'Technology&Computing>Computing>Internet>WebDesignAndHTML'}, {'relevance': 0.0006090602255426347, 'label': 'Technology&Computing>Computing>ComputerSoftwareAndApplications>DesktopPublishing'}, {'relevance': 0.0003671605372801423, 'label': 'Technology&Computing>Computing'}, {'relevance': 0.00020766201487276703, 'label': 'BusinessAndFinance>Business>MarketingAndAdvertising'}], 'timestamp': {'start': 18564, 'end': 37942}, 'sentences_idx_start': 5, 'sentences_idx_end': 9}, {'text': \"There have been plenty of other great videos similar to this about how to start coding, and I've linked many of them in the description. Again, those are great, but I think this is a bit different because it's more focused on coding for data and it uses a very specific real world case study. At the end, I also highlight the three most important things a new programmer should know, so you definitely want to stick around for that.\", 'labels': [{'relevance': 0.9650105237960815, 'label': 'Technology&Computing>Computing>ProgrammingLanguages'}, {'relevance': 0.2750667631626129, 'label': 'Technology&Computing>Computing>Internet>WebDevelopment'}, {'relevance': 0.09586074948310852, 'label': 'Technology&Computing>Computing>Internet>WebDesignAndHTML'}, {'relevance': 0.04694860056042671, 'label': 'Technology&Computing>Computing>ComputerSoftwareAndApplications'}, {'relevance': 0.009304526261985302, 'label': 'Technology&Computing>Computing'}, {'relevance': 0.008727594278752804, 'label': 'Technology&Computing>Computing>ComputerSoftwareAndApplications>DesktopPublishing'}, {'relevance': 0.002572737168520689, 'label': 'FineArt>Design'}, {'relevance': 0.001379454624839127, 'label': 'Technology&Computing>Computing>DataStorageAndWarehousing'}, {'relevance': 0.000738082395400852, 'label': 'Technology&Computing>Computing>ComputerSoftwareAndApplications>Databases'}, {'relevance': 0.0006660992512479424, 'label': 'Technology&Computing>Computing>ComputerSoftwareAndApplications>OperatingSystems'}], 'timestamp': {'start': 37996, 'end': 57710}, 'sentences_idx_start': 10, 'sentences_idx_end': 12}, {'text': \"Let's start with the language that we should start learning. I know if you're working with data, you generally have two good choices. They would either start with Python or R. Let's quickly compare the two languages. Data science style when looking at the stack overflow developer survey, we find that about 48% of respondents use Python, while only about 5% use r. In industry, Python is a far more common language.\", 'labels': [{'relevance': 0.9859917759895325, 'label': 'Technology&Computing>Computing>ProgrammingLanguages'}, {'relevance': 0.00972230825573206, 'label': 'Technology&Computing>Computing'}, {'relevance': 0.009711804799735546, 'label': 'Technology&Computing>Computing>ComputerSoftwareAndApplications'}, {'relevance': 0.008387564681470394, 'label': 'Technology&Computing>Computing>ComputerSoftwareAndApplications>Databases'}, {'relevance': 0.0042449054308235645, 'label': 'Technology&Computing>Computing>DataStorageAndWarehousing'}, {'relevance': 0.004164966754615307, 'label': 'Technology&Computing>Computing>Internet>WebDevelopment'}, {'relevance': 0.0013931115390732884, 'label': 'Technology&Computing>Computing>Internet>WebDesignAndHTML'}, {'relevance': 0.0013113992754369974, 'label': 'Technology&Computing>Computing>ComputerSoftwareAndApplications>DesktopPublishing'}, {'relevance': 0.0013000688049942255, 'label': 'Technology&Computing>Computing>ComputerSoftwareAndApplications>OperatingSystems'}, {'relevance': 0.0004019503539893776, 'label': 'Education>LanguageLearning'}], 'timestamp': {'start': 57780, 'end': 80306}, 'sentences_idx_start': 13, 'sentences_idx_end': 16}, {'text': \"Let's now look more specifically at data scientists, not just all stack overflow users who come from a variety of backgrounds on Kaggle, my favorite platform for data science learning and projects, we can see that around 84.2% of respondents use Python, while only 20.5% use r. Since these add up to more than 100%, we can assume that some data scientists are using both languages. Finally, let's look at these two languages over time. We can see here.\", 'labels': [{'relevance': 0.03594128042459488, 'label': 'Technology&Computing>Computing>DataStorageAndWarehousing'}, {'relevance': 0.0316101536154747, 'label': 'Technology&Computing>Computing>ComputerSoftwareAndApplications>Databases'}, {'relevance': 0.02201295644044876, 'label': 'Technology&Computing>Computing>ProgrammingLanguages'}, {'relevance': 0.0004659531114157289, 'label': 'Technology&Computing>Computing>Internet>Search'}, {'relevance': 0.0003698299697134644, 'label': 'Technology&Computing>Computing>Internet>CloudComputing'}, {'relevance': 0.0003630890278145671, 'label': 'Technology&Computing>Computing'}, {'relevance': 0.00030184234492480755, 'label': 'Technology&Computing>Computing>ComputerSoftwareAndApplications'}, {'relevance': 0.00027348141884431243, 'label': 'Technology&Computing>Computing>ComputerSoftwareAndApplications>OperatingSystems'}, {'relevance': 0.0002598326827865094, 'label': 'Technology&Computing>Computing>Internet>WebDevelopment'}, {'relevance': 0.00019914135918952525, 'label': 'Technology&Computing>Computing>ComputerSoftwareAndApplications>DesktopPublishing'}], 'timestamp': {'start': 80418, 'end': 106158}, 'sentences_idx_start': 17, 'sentences_idx_end': 19}, {'text': \"From 2020 to 2021, Python has gained an adoption, while R usage has seen some attrition. To me, this is a no brainer. I recommended my friend to start learning Python first. That language is more popular and it's continuing to grow. This isn't to say r is bad, it's just to say that I think Python is growing and will be a more valuable skill to have for the job market in general.\", 'labels': [{'relevance': 0.4958242177963257, 'label': 'Technology&Computing>Computing>ProgrammingLanguages'}, {'relevance': 0.0063425772823393345, 'label': 'Technology&Computing>Computing>Internet>WebDevelopment'}, {'relevance': 0.0018120877211913466, 'label': 'Technology&Computing>Computing'}, {'relevance': 0.0017480654641985893, 'label': 'Technology&Computing>Computing>ComputerSoftwareAndApplications>OperatingSystems'}, {'relevance': 0.001738185528665781, 'label': 'Technology&Computing>Computing>ComputerSoftwareAndApplications'}, {'relevance': 0.0010007594246417284, 'label': 'Technology&Computing>Computing>Internet>WebDesignAndHTML'}, {'relevance': 0.0009470201912336051, 'label': 'FineArt>Design'}, {'relevance': 0.000723525183275342, 'label': 'Technology&Computing>Computing>ComputerSoftwareAndApplications>DesktopPublishing'}, {'relevance': 0.0004065407265443355, 'label': 'Education>LanguageLearning'}, {'relevance': 0.0003768810420297086, 'label': 'BusinessAndFinance>Business>BusinessBanking&Finance>AngelInvestment'}], 'timestamp': {'start': 106244, 'end': 125970}, 'sentences_idx_start': 20, 'sentences_idx_end': 24}, {'text': \"I also personally find it a bit more intuitive and flexible than R. Now that we've chosen our language as Python, what coding skills should my friend learn first? Should he focus on variables, logic functions, algorithms? Classes? My mind was absolutely spinning when I first addressed this. It took me a second, but I had this weird, chaotic flashback to my first days of learning programming myself. I didn't even know where to start with getting Python on my own computer.\", 'labels': [{'relevance': 0.9963436722755432, 'label': 'Technology&Computing>Computing>ProgrammingLanguages'}, {'relevance': 0.011487836018204689, 'label': 'Technology&Computing>Computing>Internet>WebDevelopment'}, {'relevance': 0.009220816195011139, 'label': 'Technology&Computing>Computing'}, {'relevance': 0.005121874623000622, 'label': 'Technology&Computing>Computing>Internet>WebDesignAndHTML'}, {'relevance': 0.005029318388551474, 'label': 'Technology&Computing>Computing>ComputerSoftwareAndApplications'}, {'relevance': 0.002327732741832733, 'label': 'Technology&Computing>Computing>ComputerSoftwareAndApplications>OperatingSystems'}, {'relevance': 0.0008801892981864512, 'label': 'Technology&Computing>Computing>ComputerSoftwareAndApplications>DesktopPublishing'}, {'relevance': 0.0007294358219951391, 'label': 'Technology&Computing>Computing>ComputerSoftwareAndApplications>Databases'}, {'relevance': 0.0006863630260340869, 'label': 'Education>LanguageLearning'}, {'relevance': 0.0003347489982843399, 'label': 'BusinessAndFinance>Business>BusinessBanking&Finance>AngelInvestment'}], 'timestamp': {'start': 126040, 'end': 148298}, 'sentences_idx_start': 25, 'sentences_idx_end': 30}, {'text': 'I just now got excited about teaching the functional part of programming, and I completely forgot about the basics of setting up your environment for success. The next thing I did was give my friend some of my favorite resources on choosing an environment and getting the right version of Python on his computer. Honestly, I was a bit torn on this too. So, for example, what IDE should he use? Does he even know what IDE stands for?', 'labels': [{'relevance': 0.9827053546905518, 'label': 'Technology&Computing>Computing>ProgrammingLanguages'}, {'relevance': 0.0749104768037796, 'label': 'Technology&Computing>Computing>ComputerSoftwareAndApplications'}, {'relevance': 0.022539956495165825, 'label': 'Technology&Computing>Computing'}, {'relevance': 0.01969153620302677, 'label': 'Technology&Computing>Computing>Internet>WebDevelopment'}, {'relevance': 0.012237763963639736, 'label': 'Technology&Computing>Computing>ComputerSoftwareAndApplications>OperatingSystems'}, {'relevance': 0.0047918204218149185, 'label': 'Technology&Computing>Computing>Internet>WebDesignAndHTML'}, {'relevance': 0.0034628408029675484, 'label': 'Technology&Computing>Computing>ComputerSoftwareAndApplications>DesktopPublishing'}, {'relevance': 0.0009413815569132566, 'label': 'FineArt>Design'}, {'relevance': 0.0006486507481895387, 'label': 'Education>OnlineEducation'}, {'relevance': 0.0003302292025182396, 'label': 'Technology&Computing>Computing>ComputerSoftwareAndApplications>SharewareAndFreeware'}], 'timestamp': {'start': 148384, 'end': 167554}, 'sentences_idx_start': 31, 'sentences_idx_end': 35}, {'text': \"For those who don't know and who are new, IDE stands for integrated development environment. So this is essentially just the text editor you use to write your code. If you were writing an essay, you could choose to use Microsoft Word. You could use Google Docs, you could use notepad, or maybe even just straight up pen and paper, just like there are these different mediums for you to write your last minute paper. Data scientists and software engineers need places to write their code.\", 'labels': [{'relevance': 0.8247228860855103, 'label': 'Technology&Computing>Computing>ComputerSoftwareAndApplications'}, {'relevance': 0.3348064720630646, 'label': 'Technology&Computing>Computing>ProgrammingLanguages'}, {'relevance': 0.2779303789138794, 'label': 'Technology&Computing>Computing>ComputerSoftwareAndApplications>DesktopPublishing'}, {'relevance': 0.10614031553268433, 'label': 'Technology&Computing>Computing>Internet>WebDevelopment'}, {'relevance': 0.030736545100808144, 'label': 'Technology&Computing>Computing>Internet>WebDesignAndHTML'}, {'relevance': 0.01451586652547121, 'label': 'Technology&Computing>Computing'}, {'relevance': 0.007527829147875309, 'label': 'Technology&Computing>Computing>ComputerSoftwareAndApplications>OperatingSystems'}, {'relevance': 0.0046518235467374325, 'label': 'Technology&Computing>Computing>ComputerSoftwareAndApplications>SharewareAndFreeware'}, {'relevance': 0.002335600322112441, 'label': 'FineArt>Design'}, {'relevance': 0.0016331489896401763, 'label': 'Technology&Computing>Computing>ComputerSoftwareAndApplications>GraphicsSoftware'}], 'timestamp': {'start': 167592, 'end': 189814}, 'sentences_idx_start': 36, 'sentences_idx_end': 40}, {'text': \"These places are called ides, and just like Microsoft Word has spell track and formatting to make sure that you don't make grammatical errors, many ides help you to make sure that you have proper syntax in your code. In theory, technically Microsoft Word would be considered an IDE, but I definitely don't recommend using it as such unless you're Juma tech.\", 'labels': [{'relevance': 0.4536287486553192, 'label': 'Technology&Computing>Computing>ProgrammingLanguages'}, {'relevance': 0.10674280673265457, 'label': 'Technology&Computing>Computing>ComputerSoftwareAndApplications>DesktopPublishing'}, {'relevance': 0.026605850085616112, 'label': 'Technology&Computing>Computing>ComputerSoftwareAndApplications'}, {'relevance': 0.010443923063576221, 'label': 'Technology&Computing>Computing>Internet>WebDesignAndHTML'}, {'relevance': 0.006142122205346823, 'label': 'Technology&Computing>Computing>Internet>WebDevelopment'}, {'relevance': 0.0007942030788399279, 'label': 'Technology&Computing>Computing>ComputerSoftwareAndApplications>Databases'}, {'relevance': 0.000733178632799536, 'label': 'Technology&Computing>Computing'}, {'relevance': 0.0005002605612389743, 'label': 'Technology&Computing>Computing>ComputerSoftwareAndApplications>GraphicsSoftware'}, {'relevance': 0.00045430244063027203, 'label': 'FineArt>Design'}, {'relevance': 0.00036965409526601434, 'label': 'Technology&Computing>Computing>ComputerSoftwareAndApplications>SharewareAndFreeware'}], 'timestamp': {'start': 189932, 'end': 207918}, 'sentences_idx_start': 41, 'sentences_idx_end': 42}, {'text': 'This is a list of the most commonly used ides in the data domain, and as you can see, common ides for Python are vs. Code, Jupyter, notebook, pycharm, and spider. Before anything else, I wanted to give him a decent understanding about how the development environments work before we picked one. As I mentioned, this is something that I was totally confused about when I started. When I learned to code, I was using Python and I was using an ide called idle.', 'labels': [{'relevance': 0.3769122362136841, 'label': 'Technology&Computing>Computing>DataStorageAndWarehousing'}, {'relevance': 0.215847909450531, 'label': 'Technology&Computing>Computing>ComputerSoftwareAndApplications>Databases'}, {'relevance': 0.14621572196483612, 'label': 'Technology&Computing>Computing>ProgrammingLanguages'}, {'relevance': 0.10094079375267029, 'label': 'Technology&Computing>Computing>ComputerSoftwareAndApplications'}, {'relevance': 0.008412392809987068, 'label': 'Technology&Computing>Computing>Internet>WebDevelopment'}, {'relevance': 0.004038332495838404, 'label': 'Technology&Computing>Computing>ComputerSoftwareAndApplications>DesktopPublishing'}, {'relevance': 0.0033879103139042854, 'label': 'Technology&Computing>Computing>Internet>WebDesignAndHTML'}, {'relevance': 0.0014807181432843208, 'label': 'Technology&Computing>Computing'}, {'relevance': 0.000970754015725106, 'label': 'Technology&Computing>Computing>ComputerSoftwareAndApplications>OperatingSystems'}, {'relevance': 0.0009670596336945891, 'label': 'BusinessAndFinance>Business>BusinessI.T.'}], 'timestamp': {'start': 208004, 'end': 232002}, 'sentences_idx_start': 43, 'sentences_idx_end': 46}, {'text': \"So idle was great for learning, but I've literally never once touched it since, and I don't use it on any data projects in any of my work. I wanted to make sure that my friend was using something that would be representative of what he might see in the real world, what people actually use. For this specific friend, I recommended that he start learning the basics with this video from Freecodecamp. I've linked it and all other resources in the description.\", 'labels': [{'relevance': 0.00832839123904705, 'label': 'Careers>RemoteWorking'}, {'relevance': 0.002615672303363681, 'label': 'BusinessAndFinance>Business>BusinessI.T.'}, {'relevance': 0.002562117064371705, 'label': 'Education>OnlineEducation'}, {'relevance': 0.0019824488554149866, 'label': 'Hobbies&Interests'}, {'relevance': 0.0018270948203280568, 'label': 'Education>HomeworkAndStudy'}, {'relevance': 0.0017880158266052604, 'label': 'FineArt>Design'}, {'relevance': 0.0017348346300423145, 'label': 'Technology&Computing>Computing>DataStorageAndWarehousing'}, {'relevance': 0.0016830955864861608, 'label': 'Technology&Computing'}, {'relevance': 0.0014116335660219193, 'label': 'Hobbies&Interests>ArtsAndCrafts>Needlework'}, {'relevance': 0.0013737808912992477, 'label': 'Technology&Computing>Computing>Desktops'}], 'timestamp': {'start': 232066, 'end': 253446}, 'sentences_idx_start': 47, 'sentences_idx_end': 50}, {'text': \"So in the video they show you how to set up the Pycharm environment and get comfortable using that. I think Pycharm is solid, and if you get familiar with that, you can easily pick up the s code, Jupyter notebook or Spyder pretty quickly. Truthfully, I don't think that the ide that you start with really matters that much. What's more important is that you're using one that people who actually write Python code into production are using. Okay, now on to the coding basics.\", 'labels': [{'relevance': 0.5614700317382812, 'label': 'Technology&Computing>Computing>ProgrammingLanguages'}, {'relevance': 0.07231449335813522, 'label': 'Technology&Computing>Computing>Internet>WebDevelopment'}, {'relevance': 0.012734722346067429, 'label': 'Technology&Computing>Computing>Internet>WebDesignAndHTML'}, {'relevance': 0.0020986113231629133, 'label': 'Technology&Computing>Computing>ComputerSoftwareAndApplications'}, {'relevance': 0.0018311493331566453, 'label': 'Technology&Computing>Computing>ComputerSoftwareAndApplications>OperatingSystems'}, {'relevance': 0.0007611463079228997, 'label': 'Technology&Computing>Computing>Internet>WebHosting'}, {'relevance': 0.0007081466028466821, 'label': 'Technology&Computing>Computing>ComputerSoftwareAndApplications>DesktopPublishing'}, {'relevance': 0.00044845513184554875, 'label': 'Technology&Computing>Computing'}, {'relevance': 0.0003445891197770834, 'label': 'Technology&Computing>Computing>ComputerSoftwareAndApplications>SharewareAndFreeware'}, {'relevance': 0.00022796634584665298, 'label': 'BusinessAndFinance>Business>BusinessBanking&Finance>AngelInvestment'}], 'timestamp': {'start': 253558, 'end': 274782}, 'sentences_idx_start': 51, 'sentences_idx_end': 55}, {'text': \"Surprisingly, I think this might be one of the simplest parts of this entire process. You see, there's a common misconception that coding is trying to trick you. There's this conspiracy that learning to code is supposed to be really hard and very scary. I would argue that it's almost the opposite. Coding languages, particularly Python, they're designed to be as easy to use as possible while creating good results.\", 'labels': [{'relevance': 0.9962628483772278, 'label': 'Technology&Computing>Computing>ProgrammingLanguages'}, {'relevance': 0.0328386053442955, 'label': 'Technology&Computing>Computing'}, {'relevance': 0.021953579038381577, 'label': 'Technology&Computing>Computing>ComputerSoftwareAndApplications'}, {'relevance': 0.011105725541710854, 'label': 'Technology&Computing>Computing>Internet>WebDevelopment'}, {'relevance': 0.006160937715321779, 'label': 'Technology&Computing>Computing>Internet>WebDesignAndHTML'}, {'relevance': 0.0013299589045345783, 'label': 'FineArt>Design'}, {'relevance': 0.0007997299544513226, 'label': 'Technology&Computing>Computing>ComputerSoftwareAndApplications>OperatingSystems'}, {'relevance': 0.0005563693703152239, 'label': 'Technology&Computing'}, {'relevance': 0.0005396509077399969, 'label': 'Technology&Computing>Computing>ComputerSoftwareAndApplications>DesktopPublishing'}, {'relevance': 0.0005101074348203838, 'label': 'Technology&Computing>ArtificialIntelligence'}], 'timestamp': {'start': 274926, 'end': 296230}, 'sentences_idx_start': 56, 'sentences_idx_end': 60}, {'text': \"So if you change your perspective to look at them as intuitive, coding becomes significantly more fun and stressfree. This isn't to say that you won't get stuck, it's just to say that when you do get stuck, there's almost always a logical reason for it and a logical solution to resolve your problems. Keeping with this theme of simplicity, at the most basic level, beginner coding can be broken down into seven concepts.\", 'labels': [{'relevance': 0.9764599204063416, 'label': 'Technology&Computing>Computing>ProgrammingLanguages'}, {'relevance': 0.014433934353291988, 'label': 'Technology&Computing>Computing>ComputerSoftwareAndApplications'}, {'relevance': 0.012322884052991867, 'label': 'FineArt>Design'}, {'relevance': 0.011113232932984829, 'label': 'Technology&Computing>Computing'}, {'relevance': 0.007942783646285534, 'label': 'Technology&Computing>Computing>Internet>WebDevelopment'}, {'relevance': 0.007271408569067717, 'label': 'Technology&Computing>Computing>Internet>WebDesignAndHTML'}, {'relevance': 0.0016669647302478552, 'label': 'Education>LanguageLearning'}, {'relevance': 0.0015035858377814293, 'label': 'Technology&Computing>Computing>ComputerSoftwareAndApplications>DesktopPublishing'}, {'relevance': 0.0008241141331382096, 'label': 'Technology&Computing'}, {'relevance': 0.0006867694319225848, 'label': 'MusicAndAudio'}], 'timestamp': {'start': 296310, 'end': 315642}, 'sentences_idx_start': 61, 'sentences_idx_end': 63}, {'text': \"All of the resources that I've linked in the description cover these topics, but I'm going to give you a very, very high level overview here. The first one we start with is data types. So in Python you can work with numbers, you can work with text, you can work with booleans, you can work with lists or a host of different data structures.\", 'labels': [{'relevance': 0.9284989237785339, 'label': 'Technology&Computing>Computing>ComputerSoftwareAndApplications>Databases'}, {'relevance': 0.8729547262191772, 'label': 'Technology&Computing>Computing>ProgrammingLanguages'}, {'relevance': 0.4665168821811676, 'label': 'Technology&Computing>Computing>DataStorageAndWarehousing'}, {'relevance': 0.020193638280034065, 'label': 'Technology&Computing>Computing'}, {'relevance': 0.015379320830106735, 'label': 'Technology&Computing>Computing>ComputerSoftwareAndApplications'}, {'relevance': 0.004057173151522875, 'label': 'BusinessAndFinance>Business>BusinessI.T.'}, {'relevance': 0.002356107346713543, 'label': 'Technology&Computing>Computing>ComputerSoftwareAndApplications>OperatingSystems'}, {'relevance': 0.0012698087375611067, 'label': 'Technology&Computing>Computing>Internet>WebDesignAndHTML'}, {'relevance': 0.0010772757232189178, 'label': 'Technology&Computing>Computing>Internet>WebDevelopment'}, {'relevance': 0.000892931129783392, 'label': 'Technology&Computing>Computing>ComputerSoftwareAndApplications>DesktopPublishing'}], 'timestamp': {'start': 315706, 'end': 330450}, 'sentences_idx_start': 64, 'sentences_idx_end': 66}, {'text': \"It's important to get a good understanding or a fundamental understanding of these first next, I think it makes sense to get familiar with how variables work. This can vary by language, so you need to make sure you know how to assign and change variables. In Python, specifically, after variables, you should look into how logical operators work. These are very handy in your first few projects.\", 'labels': [{'relevance': 0.9906319379806519, 'label': 'Technology&Computing>Computing>ProgrammingLanguages'}, {'relevance': 0.007949459366500378, 'label': 'Technology&Computing>Computing'}, {'relevance': 0.005706983618438244, 'label': 'Technology&Computing>Computing>ComputerSoftwareAndApplications>OperatingSystems'}, {'relevance': 0.0016761466395109892, 'label': 'Technology&Computing>Computing>Internet>WebDevelopment'}, {'relevance': 0.0013409785460680723, 'label': 'Technology&Computing>Computing>ComputerSoftwareAndApplications'}, {'relevance': 0.0008520189439877868, 'label': 'Technology&Computing>Computing>Internet>WebDesignAndHTML'}, {'relevance': 0.0008216378628276289, 'label': 'Technology&Computing>Computing>ComputerSoftwareAndApplications>Databases'}, {'relevance': 0.00027748229331336915, 'label': 'Technology&Computing>ArtificialIntelligence'}, {'relevance': 0.0001572124456288293, 'label': 'Technology&Computing>Computing>DataStorageAndWarehousing'}, {'relevance': 0.00014999063569121063, 'label': 'BusinessAndFinance>Business>BusinessBanking&Finance>AngelInvestment'}], 'timestamp': {'start': 330530, 'end': 349430}, 'sentences_idx_start': 67, 'sentences_idx_end': 70}, {'text': \"If else statements are probably the most important one, but you can definitely find use cases for the others, especially if you're working with data. The fourth thing you need to understand is how loops work. So one thing computers are really, really great at is doing a simple task over and over again. You'd be surprised at how useful these can be for your programming future. After that, you should learn about functions. So this sets the foundation for almost everything you do on your programming journey.\", 'labels': [{'relevance': 0.9977200627326965, 'label': 'Technology&Computing>Computing>ProgrammingLanguages'}, {'relevance': 0.7008857131004333, 'label': 'Technology&Computing>Computing'}, {'relevance': 0.058482859283685684, 'label': 'Technology&Computing>Computing>ComputerSoftwareAndApplications'}, {'relevance': 0.013496841304004192, 'label': 'Technology&Computing>Computing>Internet>WebDevelopment'}, {'relevance': 0.005932759493589401, 'label': 'Technology&Computing>Computing>ComputerSoftwareAndApplications>OperatingSystems'}, {'relevance': 0.0045618112199008465, 'label': 'Technology&Computing>Computing>Internet>WebDesignAndHTML'}, {'relevance': 0.0024430998601019382, 'label': 'Technology&Computing>Computing>ComputerSoftwareAndApplications>Databases'}, {'relevance': 0.0023489368613809347, 'label': 'Technology&Computing>ArtificialIntelligence'}, {'relevance': 0.0009569263784214854, 'label': 'BusinessAndFinance>Business>BusinessI.T.'}, {'relevance': 0.00055891607189551, 'label': 'Technology&Computing>Computing>DataStorageAndWarehousing'}], 'timestamp': {'start': 349510, 'end': 374750}, 'sentences_idx_start': 71, 'sentences_idx_end': 76}, {'text': 'Functions allow you to encapsulate code and reuse it. If you really think about it, good coding is about making as many reusable bits as possible, and these functions are where that really begins. At this point, you have a pretty good understanding of the key building blocks of Python. You should now learn a bit more about how some of the basic data structures work. I recommend taking a deeper dive into lists, dictionaries as well as tuples.', 'labels': [{'relevance': 0.9979165196418762, 'label': 'Technology&Computing>Computing>ProgrammingLanguages'}, {'relevance': 0.023792685940861702, 'label': 'Technology&Computing>Computing'}, {'relevance': 0.019423026591539383, 'label': 'Technology&Computing>Computing>ComputerSoftwareAndApplications'}, {'relevance': 0.012367099523544312, 'label': 'Technology&Computing>Computing>Internet>WebDevelopment'}, {'relevance': 0.010526512749493122, 'label': 'Technology&Computing>Computing>ComputerSoftwareAndApplications>Databases'}, {'relevance': 0.00795968621969223, 'label': 'Technology&Computing>Computing>Internet>WebDesignAndHTML'}, {'relevance': 0.0027595912106335163, 'label': 'Technology&Computing>Computing>ComputerSoftwareAndApplications>OperatingSystems'}, {'relevance': 0.0015135997673496604, 'label': 'Technology&Computing>Computing>DataStorageAndWarehousing'}, {'relevance': 0.00034301128471270204, 'label': 'MusicAndAudio>AdultContemporaryMusic>UrbanACMusic'}, {'relevance': 0.00027157735894434154, 'label': 'Technology&Computing>ArtificialIntelligence'}], 'timestamp': {'start': 374830, 'end': 395014}, 'sentences_idx_start': 77, 'sentences_idx_end': 81}, {'text': 'This will set the foundation for much of your data work later on. Finally, you should start learning to work with libraries. So the most important ones for data are pandas, numpy, Scikitlearn and Matplotlib, and these give you additional tools to analyze, visualize and manipulate data. Pandas and Numpy also introduce some new data structures like arrays, series and data frames. So if you have an understanding of how the more basic data structures work in python, you should be able to pick these up relatively quickly.', 'labels': [{'relevance': 0.7909570932388306, 'label': 'Technology&Computing>Computing>ComputerSoftwareAndApplications>Databases'}, {'relevance': 0.6804208755493164, 'label': 'Technology&Computing>Computing>DataStorageAndWarehousing'}, {'relevance': 0.3150685429573059, 'label': 'Technology&Computing>Computing>ProgrammingLanguages'}, {'relevance': 0.01716664247214794, 'label': 'Technology&Computing>Computing>ComputerSoftwareAndApplications'}, {'relevance': 0.005575037561357021, 'label': 'Technology&Computing>Computing'}, {'relevance': 0.0014938653912395239, 'label': 'Technology&Computing>Computing>ComputerSoftwareAndApplications>OperatingSystems'}, {'relevance': 0.0011971901403740048, 'label': 'BusinessAndFinance>Business>BusinessI.T.'}, {'relevance': 0.0011068496387451887, 'label': 'Technology&Computing>Computing>Internet>WebDevelopment'}, {'relevance': 0.000895474455319345, 'label': 'Technology&Computing>Computing>ComputerSoftwareAndApplications>DesktopPublishing'}, {'relevance': 0.0006196213071234524, 'label': 'Technology&Computing>Computing>ComputerSoftwareAndApplications>3-DGraphics'}], 'timestamp': {'start': 395062, 'end': 418786}, 'sentences_idx_start': 82, 'sentences_idx_end': 86}, {'text': \"And that's it. With those seven things, you have the basics of coding that you'll need for starting to work with data. If you're watching this and you're a software engineer, you probably think I left something important out. What I've purposely omitted from this list is an explanation of classes. So classes are the foundation of object oriented programming, and objectoriented programming is a programming model that organizes code around objects rather than functions or logic.\", 'labels': [{'relevance': 0.9663451313972473, 'label': 'Technology&Computing>Computing>ProgrammingLanguages'}, {'relevance': 0.5794442296028137, 'label': 'Technology&Computing>Computing>ComputerSoftwareAndApplications>Databases'}, {'relevance': 0.49008211493492126, 'label': 'Technology&Computing>Computing>ComputerSoftwareAndApplications'}, {'relevance': 0.20018403232097626, 'label': 'Technology&Computing>Computing>DataStorageAndWarehousing'}, {'relevance': 0.07046212255954742, 'label': 'Technology&Computing>Computing'}, {'relevance': 0.010236488655209541, 'label': 'Technology&Computing>Computing>Internet>WebDesignAndHTML'}, {'relevance': 0.008388401940464973, 'label': 'Technology&Computing>Computing>Internet>WebDevelopment'}, {'relevance': 0.007449377328157425, 'label': 'Technology&Computing>Computing>ComputerSoftwareAndApplications>OperatingSystems'}, {'relevance': 0.0044689057394862175, 'label': 'BusinessAndFinance>Business>BusinessI.T.'}, {'relevance': 0.0009104034979827702, 'label': 'Technology&Computing>Computing>ComputerSoftwareAndApplications>DesktopPublishing'}], 'timestamp': {'start': 418888, 'end': 441246}, 'sentences_idx_start': 87, 'sentences_idx_end': 91}, {'text': \"Object oriented programming is incredibly powerful, but honestly, it isn't very relevant for the beginner stages of working with data. It is something you should absolutely explore on your own after you've learned these other concepts well in the description, I've linked a few great resources for learning all of the concepts, including the exact one from Freecodecamp that I gave my friend. Most of them are completely free, but I have also included my discount link for the course on 365 data science.\", 'labels': [{'relevance': 0.5907698273658752, 'label': 'Technology&Computing>Computing>DataStorageAndWarehousing'}, {'relevance': 0.582816481590271, 'label': 'Technology&Computing>Computing>ProgrammingLanguages'}, {'relevance': 0.4904177784919739, 'label': 'Technology&Computing>Computing>ComputerSoftwareAndApplications>Databases'}, {'relevance': 0.01827937550842762, 'label': 'Technology&Computing>Computing>ComputerSoftwareAndApplications'}, {'relevance': 0.004694841336458921, 'label': 'Technology&Computing>Computing'}, {'relevance': 0.0023307243827730417, 'label': 'BusinessAndFinance>Business>BusinessI.T.'}, {'relevance': 0.0011112710926681757, 'label': 'Technology&Computing>Computing>Internet>WebDevelopment'}, {'relevance': 0.0005917574162594974, 'label': 'Technology&Computing>Computing>ComputerSoftwareAndApplications>OperatingSystems'}, {'relevance': 0.000459831120679155, 'label': 'Technology&Computing>Computing>Internet>WebDesignAndHTML'}, {'relevance': 0.00038822300848551095, 'label': 'Technology&Computing>Computing>ComputerSoftwareAndApplications>DesktopPublishing'}], 'timestamp': {'start': 441378, 'end': 465450}, 'sentences_idx_start': 92, 'sentences_idx_end': 94}, {'text': \"So if you're looking for a resource just to take you past the more basic coding and more towards tangible data science skills, I would recommend checking that out. One thing that I love about many of the courses that I've linked is that they have these little mini projects baked into the coursework. I think project based learning is the single most effective way to learn technical concepts.\", 'labels': [{'relevance': 0.23491887748241425, 'label': 'Education>OnlineEducation'}, {'relevance': 0.034693606197834015, 'label': 'Technology&Computing>Computing>DataStorageAndWarehousing'}, {'relevance': 0.01762247644364834, 'label': 'Education>EducationalAssessment'}, {'relevance': 0.011200976558029652, 'label': 'Education>HomeworkAndStudy'}, {'relevance': 0.0032357987947762012, 'label': 'Technology&Computing>Computing>ComputerSoftwareAndApplications'}, {'relevance': 0.0020145338494330645, 'label': 'Hobbies&Interests>ContentProduction'}, {'relevance': 0.001188928261399269, 'label': 'Technology&Computing>Computing>Internet>WebDevelopment'}, {'relevance': 0.0010938893537968397, 'label': 'BusinessAndFinance>Business>BusinessI.T.'}, {'relevance': 0.0010925499955192208, 'label': 'Technology&Computing>Computing>ProgrammingLanguages'}, {'relevance': 0.0010756555711850524, 'label': 'Technology&Computing>Computing>ComputerSoftwareAndApplications>Databases'}], 'timestamp': {'start': 465530, 'end': 483378}, 'sentences_idx_start': 95, 'sentences_idx_end': 97}, {'text': \"After first getting a basic foundation, I highly encourage you to think about how you can use code to build things that would be useful to you. So for my friend, the first project I'm having him do is create a jujitsu drill randomizer using python. So for training anything, it's important to reinforce your skills, but it can get boring. Working on the same basic drills every day.\", 'labels': [{'relevance': 0.147205650806427, 'label': 'Technology&Computing>Computing>ProgrammingLanguages'}, {'relevance': 0.09721678495407104, 'label': 'Sports>MartialArts'}, {'relevance': 0.00850495882332325, 'label': 'Sports>Boxing'}, {'relevance': 0.005727728828787804, 'label': 'Technology&Computing>Computing>ComputerSoftwareAndApplications'}, {'relevance': 0.0049734460189938545, 'label': 'Technology&Computing>Computing'}, {'relevance': 0.0036556634586304426, 'label': 'Technology&Computing>Computing>Internet>WebDevelopment'}, {'relevance': 0.0013736586552113295, 'label': 'Technology&Computing>Computing>Internet>WebDesignAndHTML'}, {'relevance': 0.0010331779485568404, 'label': 'Technology&Computing>Computing>ComputerSoftwareAndApplications>ComputerAnimation'}, {'relevance': 0.0010024160146713257, 'label': 'Technology&Computing>ArtificialIntelligence'}, {'relevance': 0.0009589019464328885, 'label': 'Education>OnlineEducation'}], 'timestamp': {'start': 483474, 'end': 503642}, 'sentences_idx_start': 98, 'sentences_idx_end': 101}, {'text': \"I'm having him make a program that essentially randomly selects two to three drills that we should work on during our sessions from a larger list. This is a simple project, but it's something that's directly relevant and useful to our work and our jujitsu training. With that in mind, I'd love for you to comment below with a Python project that you'd like to do, and we'll all hold each other accountable.\", 'labels': [{'relevance': 0.6498541235923767, 'label': 'Sports>MartialArts'}, {'relevance': 0.020716175436973572, 'label': 'Sports>Boxing'}, {'relevance': 0.0007742712623439729, 'label': 'Education>OnlineEducation'}, {'relevance': 0.0006746866856701672, 'label': 'Sports>Wrestling'}, {'relevance': 0.0006403712905012071, 'label': 'Religion&Spirituality>Buddhism'}, {'relevance': 0.0005492990603670478, 'label': 'Movies>ActionAndAdventureMovies'}, {'relevance': 0.00045087115722708404, 'label': 'Education>EducationalAssessment'}, {'relevance': 0.000404265068937093, 'label': 'Sports>Weightlifting'}, {'relevance': 0.00037826068000867963, 'label': 'Technology&Computing>Computing>ComputerSoftwareAndApplications'}, {'relevance': 0.0003751947660930455, 'label': 'Automotive>AutoType>ConceptCars'}], 'timestamp': {'start': 503696, 'end': 521886}, 'sentences_idx_start': 102, 'sentences_idx_end': 104}, {'text': \"Okay, so now that you've learned the basics of Python, now what? If you're interested in learning more about data, I highly recommend that you do a data related project. The single best place for this is kaggle.com, which I've mentioned before. If that's a bit too intimidating, you can follow along on one of the projects that I've done, or one of the thousands of projects that other people have worked on on the Kaggle platform.\", 'labels': [{'relevance': 0.6545349955558777, 'label': 'Technology&Computing>Computing>DataStorageAndWarehousing'}, {'relevance': 0.20687167346477509, 'label': 'Technology&Computing>Computing>ComputerSoftwareAndApplications>Databases'}, {'relevance': 0.0022918283939361572, 'label': 'Technology&Computing>Computing>ComputerSoftwareAndApplications'}, {'relevance': 0.0010944308014586568, 'label': 'Technology&Computing>Computing>Internet>CloudComputing'}, {'relevance': 0.0009467724594287574, 'label': 'Technology&Computing>Computing>ProgrammingLanguages'}, {'relevance': 0.0001974160404643044, 'label': 'Technology&Computing>Computing>Internet>WebDevelopment'}, {'relevance': 0.0001928860874613747, 'label': 'BusinessAndFinance>Business>Sales'}, {'relevance': 0.00016761469305492938, 'label': 'BusinessAndFinance>Business>Logistics'}, {'relevance': 0.00015592807903885841, 'label': 'BusinessAndFinance>Business>BusinessI.T.'}, {'relevance': 0.0001551021123304963, 'label': 'MedicalHealth>MedicalTests'}], 'timestamp': {'start': 521998, 'end': 542074}, 'sentences_idx_start': 105, 'sentences_idx_end': 108}, {'text': \"Realistically, many people lose steam at this step. They go through and see the great work that other people have done, and they get discouraged again. Honestly, I remember feeling this too. What I recommend doing is going through some of the basic notebooks, like the Titanic data set, and just copying the code, running it on your own computer line by line. Many people think that this is cheating, but it's actually a great way to learn.\", 'labels': [{'relevance': 0.14294351637363434, 'label': 'Technology&Computing>Computing>ComputerSoftwareAndApplications>DesktopPublishing'}, {'relevance': 0.0668281838297844, 'label': 'FineArt>Design'}, {'relevance': 0.014373666606843472, 'label': 'Technology&Computing>Computing>ProgrammingLanguages'}, {'relevance': 0.005827651359140873, 'label': 'Technology&Computing>Computing>Internet>WebDesignAndHTML'}, {'relevance': 0.004941177554428577, 'label': 'Hobbies&Interests>ArtsAndCrafts>DrawingAndSketching'}, {'relevance': 0.0025339890271425247, 'label': 'Hobbies&Interests>ArtsAndCrafts>Scrapbooking'}, {'relevance': 0.0018327744910493493, 'label': 'Technology&Computing>Computing>Internet>WebDevelopment'}, {'relevance': 0.001509757130406797, 'label': 'BusinessAndFinance>Business>BusinessI.T.'}, {'relevance': 0.0012856831308454275, 'label': 'Technology&Computing>Computing>ComputerSoftwareAndApplications'}, {'relevance': 0.0011314458679407835, 'label': 'Technology&Computing>Computing>DataStorageAndWarehousing'}], 'timestamp': {'start': 542192, 'end': 563198}, 'sentences_idx_start': 109, 'sentences_idx_end': 113}, {'text': \"Even better, when you run it, make some changes to the code and see what happens. Maybe you should try changing like the colors on a graph from blue to red, or try to make a line thicker on one of the graphs. Just simple things like that help you iterate and improve. So remember when we talked about ides earlier and I'd mentioned Jupyter notebook? Kaggle uses something similar to that that lets you work online.\", 'labels': [{'relevance': 0.036748725920915604, 'label': 'Technology&Computing>Computing>Internet>WebDevelopment'}, {'relevance': 0.017390912398695946, 'label': 'Technology&Computing>Computing>ComputerSoftwareAndApplications>DesktopPublishing'}, {'relevance': 0.01397531758993864, 'label': 'Technology&Computing>Computing>Internet>WebDesignAndHTML'}, {'relevance': 0.00372919999063015, 'label': 'Technology&Computing>Computing>ComputerSoftwareAndApplications>WebConferencing'}, {'relevance': 0.0019429611274972558, 'label': 'Technology&Computing>Computing>ProgrammingLanguages'}, {'relevance': 0.0014298277674242854, 'label': 'Technology&Computing>Computing>Internet>WebHosting'}, {'relevance': 0.001124251284636557, 'label': 'FineArt>Design'}, {'relevance': 0.0011127876350656152, 'label': 'Technology&Computing>Computing>ComputerSoftwareAndApplications'}, {'relevance': 0.0007978148641996086, 'label': 'Education>OnlineEducation'}, {'relevance': 0.00048690938274376094, 'label': 'Technology&Computing>Computing>DataStorageAndWarehousing'}], 'timestamp': {'start': 563284, 'end': 582486}, 'sentences_idx_start': 114, 'sentences_idx_end': 118}, {'text': \"This is great and free compute power if you have limited resources at home. So if you want to work with data on your laptop or desktop, I recommend downloading anaconda. Anaconda is a software package that lumps together all of the relevant Python libraries and ides for data science in one go. So you can check out my video for how to install it, which I've linked above and in the description. Finally, I have three tips to send you on your way.\", 'labels': [{'relevance': 0.3761436343193054, 'label': 'Technology&Computing>Computing>DataStorageAndWarehousing'}, {'relevance': 0.04173927754163742, 'label': 'Technology&Computing>Computing>ComputerSoftwareAndApplications>Databases'}, {'relevance': 0.009571782313287258, 'label': 'Technology&Computing>Computing>Internet>CloudComputing'}, {'relevance': 0.0011558843543753028, 'label': 'Technology&Computing>Computing>ComputerSoftwareAndApplications'}, {'relevance': 0.00032183455186896026, 'label': 'Technology&Computing>Computing'}, {'relevance': 0.00021337303041946143, 'label': 'Technology&Computing>Robotics'}, {'relevance': 0.00018814603390637785, 'label': 'Technology&Computing>Computing>ComputerSoftwareAndApplications>AntivirusSoftware'}, {'relevance': 0.00016409858653787524, 'label': 'Technology&Computing>Computing>ProgrammingLanguages'}, {'relevance': 0.00015582730702590197, 'label': 'BusinessAndFinance>Business>BusinessI.T.'}, {'relevance': 0.00011949483450734988, 'label': 'BusinessAndFinance>Business>Logistics'}], 'timestamp': {'start': 582588, 'end': 604830}, 'sentences_idx_start': 119, 'sentences_idx_end': 123}, {'text': \"These are probably the most important things that a new coder can learn, so the first one is to use Google and stack overflow. If you have a question, it's almost guaranteed that someone has asked it before. On the Internet, getting good at finding answers on your own via search might be the single most important skill of a data scientist or a software engineer that they use every single day.\", 'labels': [{'relevance': 0.5409876704216003, 'label': 'Technology&Computing>Computing>Internet>Search'}, {'relevance': 0.2106786072254181, 'label': 'Technology&Computing>Computing>Internet>WebDevelopment'}, {'relevance': 0.11149951815605164, 'label': 'Technology&Computing>Computing>ProgrammingLanguages'}, {'relevance': 0.044922035187482834, 'label': 'Technology&Computing>Computing>Internet>WebDesignAndHTML'}, {'relevance': 0.031129905954003334, 'label': 'Technology&Computing>Computing>ComputerSoftwareAndApplications'}, {'relevance': 0.009997544810175896, 'label': 'Technology&Computing>Computing'}, {'relevance': 0.009238173253834248, 'label': 'Technology&Computing>Computing>DataStorageAndWarehousing'}, {'relevance': 0.008964811451733112, 'label': 'Technology&Computing>Computing>Internet>ITAndInternetSupport'}, {'relevance': 0.0052177561447024345, 'label': 'Hobbies&Interests>ContentProduction'}, {'relevance': 0.005125697702169418, 'label': 'Technology&Computing>Computing>ComputerSoftwareAndApplications>Databases'}], 'timestamp': {'start': 604900, 'end': 624930}, 'sentences_idx_start': 124, 'sentences_idx_end': 126}, {'text': \"The second is to use errors so your code will not run, it'll break, and you'll be sad. Don't just wallow in yourself pity. Read the error messages. They'll tell you something about what's wrong. Also, Google the errors and this will save you a lot of time and headache. Finally, the third thing is to take it easy on yourself. The only people that can't code are the ones that never try or the ones that quit too early.\", 'labels': [{'relevance': 0.43111172318458557, 'label': 'Technology&Computing>Computing>ProgrammingLanguages'}, {'relevance': 0.005849916487932205, 'label': 'Technology&Computing>Computing>Internet>WebDevelopment'}, {'relevance': 0.003623036667704582, 'label': 'Technology&Computing>Computing>ComputerSoftwareAndApplications'}, {'relevance': 0.002039309125393629, 'label': 'Technology&Computing>Computing>Internet>WebDesignAndHTML'}, {'relevance': 0.0009498838917352259, 'label': 'Technology&Computing>Computing'}, {'relevance': 0.0003561422636266798, 'label': 'Technology&Computing>Computing>ComputerSoftwareAndApplications>SharewareAndFreeware'}, {'relevance': 0.0003329849860165268, 'label': 'FineArt>Design'}, {'relevance': 0.0002463584823999554, 'label': 'Technology&Computing>ArtificialIntelligence'}, {'relevance': 0.00024013702932279557, 'label': 'Technology&Computing>Computing>ComputerSoftwareAndApplications>OperatingSystems'}, {'relevance': 0.00015998465823940933, 'label': 'Technology&Computing>Computing>ComputerSoftwareAndApplications>DesktopPublishing'}], 'timestamp': {'start': 625000, 'end': 643750}, 'sentences_idx_start': 127, 'sentences_idx_end': 133}, {'text': 'Thank you all so much for watching, and good luck on your data science and coding journey. You.', 'labels': [{'relevance': 0.9213890433311462, 'label': 'Technology&Computing>Computing>DataStorageAndWarehousing'}, {'relevance': 0.2816152572631836, 'label': 'Technology&Computing>Computing>ComputerSoftwareAndApplications>Databases'}, {'relevance': 0.004233852494508028, 'label': 'BusinessAndFinance>Business>BusinessI.T.'}, {'relevance': 0.0012842653086408973, 'label': 'Technology&Computing>Computing>Internet>CloudComputing'}, {'relevance': 0.0011692328844219446, 'label': 'Technology&Computing>Computing>ProgrammingLanguages'}, {'relevance': 0.0007098803762346506, 'label': 'Technology&Computing>Computing>InformationAndNetworkSecurity'}, {'relevance': 0.0004870024567935616, 'label': 'Technology&Computing>Computing>Internet>ITAndInternetSupport'}, {'relevance': 0.00047819261089898646, 'label': 'Hobbies&Interests>ContentProduction'}, {'relevance': 0.0003714571357704699, 'label': 'Technology&Computing>Computing'}, {'relevance': 0.00036234056460671127, 'label': 'Science'}], 'timestamp': {'start': 643900, 'end': 650360}, 'sentences_idx_start': 134, 'sentences_idx_end': 135}], 'summary': {'Technology&Computing>Computing>ProgrammingLanguages': 1.0, 'Technology&Computing>Computing>DataStorageAndWarehousing': 0.33426037430763245, 'Technology&Computing>Computing>ComputerSoftwareAndApplications>Databases': 0.2567160129547119, 'Technology&Computing>Computing>ComputerSoftwareAndApplications': 0.12466546148061752, 'Technology&Computing>Computing': 0.06698773801326752, 'Sports>MartialArts': 0.06107913330197334, 'Technology&Computing>Computing>Internet>WebDevelopment': 0.0574243888258934, 'Technology&Computing>Computing>ComputerSoftwareAndApplications>DesktopPublishing': 0.03974597156047821, 'Technology&Computing>Computing>Internet>Search': 0.03757109493017197, 'Technology&Computing>Computing>Internet>WebDesignAndHTML': 0.01895025558769703, 'Education>OnlineEducation': 0.017056217417120934, 'FineArt>Design': 0.0065994467586278915, 'Technology&Computing>Computing>ComputerSoftwareAndApplications>OperatingSystems': 0.004062023479491472, 'Sports>Boxing': 0.0025336400140076876, 'BusinessAndFinance>Business>BusinessI.T.': 0.002215626882389188, 'Education>EducationalAssessment': 0.0014991421485319734, 'Technology&Computing>Computing>Internet>CloudComputing': 0.0011143984738737345, 'Education>HomeworkAndStudy': 0.0010459170443937182, 'Technology&Computing>Computing>Internet>ITAndInternetSupport': 0.0009374086512252688, 'Technology&Computing>Computing>ComputerSoftwareAndApplications>SharewareAndFreeware': 0.0007402345072478056}}, 'language_detection': False, 'custom_spelling': None, 'throttled': None, 'auto_chapters': True, 'summarization': False, 'summary_type': None, 'summary_model': None, 'custom_topics': False, 'topics': [], 'speech_threshold': None, 'speech_model': None, 'chapters': [{'summary': 'A friend offered to coach me in exchange for teaching him how to code. This video is more focused on coding for data and it uses a very specific real world case study. At the end, I highlight the three most important things a new programmer should know.', 'gist': 'How to Teach a New Coder How to Code', 'headline': 'A friend offered to coach me in exchange for teaching me how to code', 'start': 250, 'end': 57710}, {'summary': 'About 48% of respondents use Python, while only about 5% use r. From 2020 to 2021, Python has gained an adoption, while R usage has seen some attrition. What coding skills should my friend learn first?', 'gist': 'Python vs R: The Language to Start Learning', 'headline': '48% of respondents use Python, while only 5% use r', 'start': 57780, 'end': 272402}, {'summary': \"At the most basic level, beginner coding can be broken down into seven concepts. The first one we start with is data types. After that, learn about functions. Finally, learn to work with libraries. With these seven things, you have the basics of coding that you'll need for working with data.\", 'gist': 'Basic Coding Basics (In 6 Steps!)', 'headline': 'Basic coding can be broken down into seven concepts. The first one we start with is data types', 'start': 272536, 'end': 521886}, {'summary': \"If you're interested in learning more about data, I highly recommend that you do a data related project. The single best place for this is kaggle. com. Finally, I have three tips to send you on your way.\", 'gist': 'Learning Python Basics in 2 Minutes', 'headline': \"Okay, so now that you've learned the basics of Python, now what\", 'start': 521998, 'end': 650360}], 'disfluencies': False, 'entity_detection': False, 'entities': None, 'speakers_expected': None, 'summary': None, 'sentiment_analysis': True, 'sentiment_analysis_results': [{'text': 'I recently got an amazing opportunity.', 'start': 250, 'end': 2078, 'sentiment': 'POSITIVE', 'confidence': 0.9854362607002258, 'speaker': None}, {'text': \"I've been learning jujitsu and a friend offered to coach me in exchange for teaching him how to code.\", 'start': 2244, 'end': 7262, 'sentiment': 'POSITIVE', 'confidence': 0.5523803234100342, 'speaker': None}, {'text': \"At this point in my life where I'm trying to improve my jujitsu as quickly as possible, this was an incredible trade for me.\", 'start': 7396, 'end': 13294, 'sentiment': 'POSITIVE', 'confidence': 0.9554275274276733, 'speaker': None}, {'text': 'In my personal opinion.', 'start': 13332, 'end': 14282, 'sentiment': 'NEUTRAL', 'confidence': 0.8097227811813354, 'speaker': None}, {'text': \"I was all for it until I had to think about how I'd actually go about teaching someone how to code.\", 'start': 14346, 'end': 18478, 'sentiment': 'NEUTRAL', 'confidence': 0.6529790163040161, 'speaker': None}, {'text': 'Starting from nothing, I quickly realized that this was going to be a lot harder than I thought.', 'start': 18564, 'end': 22702, 'sentiment': 'NEGATIVE', 'confidence': 0.8387132883071899, 'speaker': None}, {'text': \"After all, it's been almost ten years since I wrote my very first line of code.\", 'start': 22836, 'end': 26262, 'sentiment': 'NEUTRAL', 'confidence': 0.6135286688804626, 'speaker': None}, {'text': \"That's a pretty long time.\", 'start': 26316, 'end': 27542, 'sentiment': 'NEUTRAL', 'confidence': 0.5590706467628479, 'speaker': None}, {'text': 'Now, this video is about the very specific and detailed plan that I wrote for my friend to teach me the basics of coding for data science.', 'start': 27596, 'end': 34002, 'sentiment': 'NEUTRAL', 'confidence': 0.7175085544586182, 'speaker': None}, {'text': 'Since I did all the work for him, I figured I might as well share the details with you as well here.', 'start': 34066, 'end': 37942, 'sentiment': 'NEUTRAL', 'confidence': 0.8149691820144653, 'speaker': None}, {'text': \"There have been plenty of other great videos similar to this about how to start coding, and I've linked many of them in the description.\", 'start': 37996, 'end': 43430, 'sentiment': 'POSITIVE', 'confidence': 0.9371036291122437, 'speaker': None}, {'text': \"Again, those are great, but I think this is a bit different because it's more focused on coding for data and it uses a very specific real world case study.\", 'start': 43510, 'end': 51210, 'sentiment': 'POSITIVE', 'confidence': 0.6514154076576233, 'speaker': None}, {'text': 'At the end, I also highlight the three most important things a new programmer should know, so you definitely want to stick around for that.', 'start': 51360, 'end': 57710, 'sentiment': 'POSITIVE', 'confidence': 0.8862338066101074, 'speaker': None}, {'text': \"Let's start with the language that we should start learning.\", 'start': 57780, 'end': 60302, 'sentiment': 'NEUTRAL', 'confidence': 0.7321674823760986, 'speaker': None}, {'text': \"I know if you're working with data, you generally have two good choices.\", 'start': 60436, 'end': 63850, 'sentiment': 'POSITIVE', 'confidence': 0.5769912600517273, 'speaker': None}, {'text': \"They would either start with Python or R. Let's quickly compare the two languages.\", 'start': 63930, 'end': 67838, 'sentiment': 'NEUTRAL', 'confidence': 0.7209726572036743, 'speaker': None}, {'text': 'Data science style when looking at the stack overflow developer survey, we find that about 48% of respondents use Python, while only about 5% use r. In industry, Python is a far more common language.', 'start': 67934, 'end': 80306, 'sentiment': 'POSITIVE', 'confidence': 0.5605792999267578, 'speaker': None}, {'text': \"Let's now look more specifically at data scientists, not just all stack overflow users who come from a variety of backgrounds on Kaggle, my favorite platform for data science learning and projects, we can see that around 84.2% of respondents use Python, while only 20.5% use r. Since these add up to more than 100%, we can assume that some data scientists are using both languages.\", 'start': 80418, 'end': 102518, 'sentiment': 'POSITIVE', 'confidence': 0.5291598439216614, 'speaker': None}, {'text': \"Finally, let's look at these two languages over time.\", 'start': 102614, 'end': 105198, 'sentiment': 'NEUTRAL', 'confidence': 0.7736465930938721, 'speaker': None}, {'text': 'We can see here.', 'start': 105284, 'end': 106158, 'sentiment': 'NEUTRAL', 'confidence': 0.7696421146392822, 'speaker': None}, {'text': 'From 2020 to 2021, Python has gained an adoption, while R usage has seen some attrition.', 'start': 106244, 'end': 112106, 'sentiment': 'NEUTRAL', 'confidence': 0.6739528775215149, 'speaker': None}, {'text': 'To me, this is a no brainer.', 'start': 112218, 'end': 113594, 'sentiment': 'POSITIVE', 'confidence': 0.777092456817627, 'speaker': None}, {'text': 'I recommended my friend to start learning Python first.', 'start': 113642, 'end': 116254, 'sentiment': 'POSITIVE', 'confidence': 0.576751172542572, 'speaker': None}, {'text': \"That language is more popular and it's continuing to grow.\", 'start': 116372, 'end': 118930, 'sentiment': 'POSITIVE', 'confidence': 0.8895992636680603, 'speaker': None}, {'text': \"This isn't to say r is bad, it's just to say that I think Python is growing and will be a more valuable skill to have for the job market in general.\", 'start': 119000, 'end': 125970, 'sentiment': 'POSITIVE', 'confidence': 0.9060878157615662, 'speaker': None}, {'text': \"I also personally find it a bit more intuitive and flexible than R. Now that we've chosen our language as Python, what coding skills should my friend learn first?\", 'start': 126040, 'end': 132854, 'sentiment': 'POSITIVE', 'confidence': 0.7256346344947815, 'speaker': None}, {'text': 'Should he focus on variables, logic functions, algorithms?', 'start': 132972, 'end': 136050, 'sentiment': 'NEUTRAL', 'confidence': 0.872519850730896, 'speaker': None}, {'text': 'Classes?', 'start': 136130, 'end': 136834, 'sentiment': 'NEUTRAL', 'confidence': 0.740774393081665, 'speaker': None}, {'text': 'My mind was absolutely spinning when I first addressed this.', 'start': 136962, 'end': 139590, 'sentiment': 'NEUTRAL', 'confidence': 0.5248250961303711, 'speaker': None}, {'text': 'It took me a second, but I had this weird, chaotic flashback to my first days of learning programming myself.', 'start': 139660, 'end': 145082, 'sentiment': 'NEUTRAL', 'confidence': 0.6300905346870422, 'speaker': None}, {'text': \"I didn't even know where to start with getting Python on my own computer.\", 'start': 145216, 'end': 148298, 'sentiment': 'NEGATIVE', 'confidence': 0.5659180879592896, 'speaker': None}, {'text': 'I just now got excited about teaching the functional part of programming, and I completely forgot about the basics of setting up your environment for success.', 'start': 148384, 'end': 155774, 'sentiment': 'POSITIVE', 'confidence': 0.9405953884124756, 'speaker': None}, {'text': 'The next thing I did was give my friend some of my favorite resources on choosing an environment and getting the right version of Python on his computer.', 'start': 155892, 'end': 162318, 'sentiment': 'POSITIVE', 'confidence': 0.9399697780609131, 'speaker': None}, {'text': 'Honestly, I was a bit torn on this too.', 'start': 162404, 'end': 163902, 'sentiment': 'NEUTRAL', 'confidence': 0.6098055243492126, 'speaker': None}, {'text': 'So, for example, what IDE should he use?', 'start': 163956, 'end': 165854, 'sentiment': 'NEUTRAL', 'confidence': 0.8876975774765015, 'speaker': None}, {'text': 'Does he even know what IDE stands for?', 'start': 165892, 'end': 167554, 'sentiment': 'NEGATIVE', 'confidence': 0.5142828822135925, 'speaker': None}, {'text': \"For those who don't know and who are new, IDE stands for integrated development environment.\", 'start': 167592, 'end': 172366, 'sentiment': 'NEUTRAL', 'confidence': 0.6295292377471924, 'speaker': None}, {'text': 'So this is essentially just the text editor you use to write your code.', 'start': 172478, 'end': 175730, 'sentiment': 'NEUTRAL', 'confidence': 0.6926162838935852, 'speaker': None}, {'text': 'If you were writing an essay, you could choose to use Microsoft Word.', 'start': 175800, 'end': 178914, 'sentiment': 'NEUTRAL', 'confidence': 0.6894965767860413, 'speaker': None}, {'text': 'You could use Google Docs, you could use notepad, or maybe even just straight up pen and paper, just like there are these different mediums for you to write your last minute paper.', 'start': 178952, 'end': 186390, 'sentiment': 'NEUTRAL', 'confidence': 0.73231041431427, 'speaker': None}, {'text': 'Data scientists and software engineers need places to write their code.', 'start': 186460, 'end': 189814, 'sentiment': 'NEUTRAL', 'confidence': 0.789734423160553, 'speaker': None}, {'text': \"These places are called ides, and just like Microsoft Word has spell track and formatting to make sure that you don't make grammatical errors, many ides help you to make sure that you have proper syntax in your code.\", 'start': 189932, 'end': 200298, 'sentiment': 'NEUTRAL', 'confidence': 0.6329329013824463, 'speaker': None}, {'text': \"In theory, technically Microsoft Word would be considered an IDE, but I definitely don't recommend using it as such unless you're Juma tech.\", 'start': 200384, 'end': 207918, 'sentiment': 'NEGATIVE', 'confidence': 0.6072836518287659, 'speaker': None}, {'text': 'This is a list of the most commonly used ides in the data domain, and as you can see, common ides for Python are vs. Code, Jupyter, notebook, pycharm, and spider.', 'start': 208004, 'end': 217198, 'sentiment': 'NEUTRAL', 'confidence': 0.7615877985954285, 'speaker': None}, {'text': 'Before anything else, I wanted to give him a decent understanding about how the development environments work before we picked one.', 'start': 217374, 'end': 223730, 'sentiment': 'NEUTRAL', 'confidence': 0.788666307926178, 'speaker': None}, {'text': 'As I mentioned, this is something that I was totally confused about when I started.', 'start': 223800, 'end': 227714, 'sentiment': 'NEGATIVE', 'confidence': 0.799895703792572, 'speaker': None}, {'text': 'When I learned to code, I was using Python and I was using an ide called idle.', 'start': 227832, 'end': 232002, 'sentiment': 'NEUTRAL', 'confidence': 0.809055745601654, 'speaker': None}, {'text': \"So idle was great for learning, but I've literally never once touched it since, and I don't use it on any data projects in any of my work.\", 'start': 232066, 'end': 239318, 'sentiment': 'NEUTRAL', 'confidence': 0.4276900887489319, 'speaker': None}, {'text': 'I wanted to make sure that my friend was using something that would be representative of what he might see in the real world, what people actually use.', 'start': 239404, 'end': 246250, 'sentiment': 'NEUTRAL', 'confidence': 0.8118054866790771, 'speaker': None}, {'text': 'For this specific friend, I recommended that he start learning the basics with this video from Freecodecamp.', 'start': 246320, 'end': 251014, 'sentiment': 'POSITIVE', 'confidence': 0.5088302493095398, 'speaker': None}, {'text': \"I've linked it and all other resources in the description.\", 'start': 251062, 'end': 253446, 'sentiment': 'NEUTRAL', 'confidence': 0.8468848466873169, 'speaker': None}, {'text': 'So in the video they show you how to set up the Pycharm environment and get comfortable using that.', 'start': 253558, 'end': 257374, 'sentiment': 'NEUTRAL', 'confidence': 0.5269003510475159, 'speaker': None}, {'text': 'I think Pycharm is solid, and if you get familiar with that, you can easily pick up the s code, Jupyter notebook or Spyder pretty quickly.', 'start': 257412, 'end': 263438, 'sentiment': 'POSITIVE', 'confidence': 0.9387415647506714, 'speaker': None}, {'text': \"Truthfully, I don't think that the ide that you start with really matters that much.\", 'start': 263524, 'end': 266818, 'sentiment': 'NEGATIVE', 'confidence': 0.5316751003265381, 'speaker': None}, {'text': \"What's more important is that you're using one that people who actually write Python code into production are using.\", 'start': 266904, 'end': 272402, 'sentiment': 'NEUTRAL', 'confidence': 0.5348007082939148, 'speaker': None}, {'text': 'Okay, now on to the coding basics.', 'start': 272536, 'end': 274782, 'sentiment': 'NEUTRAL', 'confidence': 0.7784150242805481, 'speaker': None}, {'text': 'Surprisingly, I think this might be one of the simplest parts of this entire process.', 'start': 274926, 'end': 279158, 'sentiment': 'POSITIVE', 'confidence': 0.9154172539710999, 'speaker': None}, {'text': \"You see, there's a common misconception that coding is trying to trick you.\", 'start': 279324, 'end': 283414, 'sentiment': 'NEGATIVE', 'confidence': 0.6738186478614807, 'speaker': None}, {'text': \"There's this conspiracy that learning to code is supposed to be really hard and very scary.\", 'start': 283452, 'end': 288050, 'sentiment': 'NEGATIVE', 'confidence': 0.7850431799888611, 'speaker': None}, {'text': \"I would argue that it's almost the opposite.\", 'start': 288130, 'end': 290450, 'sentiment': 'NEUTRAL', 'confidence': 0.5571187734603882, 'speaker': None}, {'text': \"Coding languages, particularly Python, they're designed to be as easy to use as possible while creating good results.\", 'start': 290530, 'end': 296230, 'sentiment': 'POSITIVE', 'confidence': 0.9132517576217651, 'speaker': None}, {'text': 'So if you change your perspective to look at them as intuitive, coding becomes significantly more fun and stressfree.', 'start': 296310, 'end': 301862, 'sentiment': 'POSITIVE', 'confidence': 0.9270672798156738, 'speaker': None}, {'text': \"This isn't to say that you won't get stuck, it's just to say that when you do get stuck, there's almost always a logical reason for it and a logical solution to resolve your problems.\", 'start': 301926, 'end': 310446, 'sentiment': 'NEUTRAL', 'confidence': 0.6103911399841309, 'speaker': None}, {'text': 'Keeping with this theme of simplicity, at the most basic level, beginner coding can be broken down into seven concepts.', 'start': 310548, 'end': 315642, 'sentiment': 'NEUTRAL', 'confidence': 0.693821370601654, 'speaker': None}, {'text': \"All of the resources that I've linked in the description cover these topics, but I'm going to give you a very, very high level overview here.\", 'start': 315706, 'end': 321922, 'sentiment': 'POSITIVE', 'confidence': 0.5359083414077759, 'speaker': None}, {'text': 'The first one we start with is data types.', 'start': 321976, 'end': 323982, 'sentiment': 'NEUTRAL', 'confidence': 0.8381716012954712, 'speaker': None}, {'text': 'So in Python you can work with numbers, you can work with text, you can work with booleans, you can work with lists or a host of different data structures.', 'start': 324046, 'end': 330450, 'sentiment': 'NEUTRAL', 'confidence': 0.6195663213729858, 'speaker': None}, {'text': \"It's important to get a good understanding or a fundamental understanding of these first next, I think it makes sense to get familiar with how variables work.\", 'start': 330530, 'end': 337446, 'sentiment': 'NEUTRAL', 'confidence': 0.509441077709198, 'speaker': None}, {'text': 'This can vary by language, so you need to make sure you know how to assign and change variables.', 'start': 337548, 'end': 341766, 'sentiment': 'NEUTRAL', 'confidence': 0.8185991644859314, 'speaker': None}, {'text': 'In Python, specifically, after variables, you should look into how logical operators work.', 'start': 341798, 'end': 347194, 'sentiment': 'NEUTRAL', 'confidence': 0.7756569981575012, 'speaker': None}, {'text': 'These are very handy in your first few projects.', 'start': 347232, 'end': 349430, 'sentiment': 'POSITIVE', 'confidence': 0.9675305485725403, 'speaker': None}, {'text': \"If else statements are probably the most important one, but you can definitely find use cases for the others, especially if you're working with data.\", 'start': 349510, 'end': 356158, 'sentiment': 'POSITIVE', 'confidence': 0.7944656610488892, 'speaker': None}, {'text': 'The fourth thing you need to understand is how loops work.', 'start': 356244, 'end': 358990, 'sentiment': 'NEUTRAL', 'confidence': 0.7248570322990417, 'speaker': None}, {'text': 'So one thing computers are really, really great at is doing a simple task over and over again.', 'start': 359060, 'end': 364094, 'sentiment': 'POSITIVE', 'confidence': 0.8757335543632507, 'speaker': None}, {'text': \"You'd be surprised at how useful these can be for your programming future.\", 'start': 364212, 'end': 368306, 'sentiment': 'POSITIVE', 'confidence': 0.9045030474662781, 'speaker': None}, {'text': 'After that, you should learn about functions.', 'start': 368408, 'end': 370350, 'sentiment': 'NEUTRAL', 'confidence': 0.8589364886283875, 'speaker': None}, {'text': 'So this sets the foundation for almost everything you do on your programming journey.', 'start': 370430, 'end': 374750, 'sentiment': 'NEUTRAL', 'confidence': 0.6612256765365601, 'speaker': None}, {'text': 'Functions allow you to encapsulate code and reuse it.', 'start': 374830, 'end': 377586, 'sentiment': 'POSITIVE', 'confidence': 0.6240290999412537, 'speaker': None}, {'text': 'If you really think about it, good coding is about making as many reusable bits as possible, and these functions are where that really begins.', 'start': 377688, 'end': 384242, 'sentiment': 'POSITIVE', 'confidence': 0.8003348708152771, 'speaker': None}, {'text': 'At this point, you have a pretty good understanding of the key building blocks of Python.', 'start': 384306, 'end': 387698, 'sentiment': 'POSITIVE', 'confidence': 0.8900540471076965, 'speaker': None}, {'text': 'You should now learn a bit more about how some of the basic data structures work.', 'start': 387794, 'end': 391462, 'sentiment': 'NEUTRAL', 'confidence': 0.8500798940658569, 'speaker': None}, {'text': 'I recommend taking a deeper dive into lists, dictionaries as well as tuples.', 'start': 391516, 'end': 395014, 'sentiment': 'POSITIVE', 'confidence': 0.5115349292755127, 'speaker': None}, {'text': 'This will set the foundation for much of your data work later on.', 'start': 395062, 'end': 397754, 'sentiment': 'NEUTRAL', 'confidence': 0.5031412243843079, 'speaker': None}, {'text': 'Finally, you should start learning to work with libraries.', 'start': 397872, 'end': 400438, 'sentiment': 'NEUTRAL', 'confidence': 0.5282405614852905, 'speaker': None}, {'text': 'So the most important ones for data are pandas, numpy, Scikitlearn and Matplotlib, and these give you additional tools to analyze, visualize and manipulate data.', 'start': 400534, 'end': 408750, 'sentiment': 'POSITIVE', 'confidence': 0.8620306253433228, 'speaker': None}, {'text': 'Pandas and Numpy also introduce some new data structures like arrays, series and data frames.', 'start': 408820, 'end': 412954, 'sentiment': 'NEUTRAL', 'confidence': 0.822153627872467, 'speaker': None}, {'text': 'So if you have an understanding of how the more basic data structures work in python, you should be able to pick these up relatively quickly.', 'start': 413002, 'end': 418786, 'sentiment': 'POSITIVE', 'confidence': 0.6096435785293579, 'speaker': None}, {'text': \"And that's it.\", 'start': 418888, 'end': 419522, 'sentiment': 'NEUTRAL', 'confidence': 0.5477844476699829, 'speaker': None}, {'text': \"With those seven things, you have the basics of coding that you'll need for starting to work with data.\", 'start': 419576, 'end': 424210, 'sentiment': 'NEUTRAL', 'confidence': 0.8271486759185791, 'speaker': None}, {'text': \"If you're watching this and you're a software engineer, you probably think I left something important out.\", 'start': 424280, 'end': 428102, 'sentiment': 'NEGATIVE', 'confidence': 0.47931233048439026, 'speaker': None}, {'text': \"What I've purposely omitted from this list is an explanation of classes.\", 'start': 428156, 'end': 431714, 'sentiment': 'NEUTRAL', 'confidence': 0.513831615447998, 'speaker': None}, {'text': 'So classes are the foundation of object oriented programming, and objectoriented programming is a programming model that organizes code around objects rather than functions or logic.', 'start': 431762, 'end': 441246, 'sentiment': 'NEUTRAL', 'confidence': 0.7696730494499207, 'speaker': None}, {'text': \"Object oriented programming is incredibly powerful, but honestly, it isn't very relevant for the beginner stages of working with data.\", 'start': 441378, 'end': 447498, 'sentiment': 'NEUTRAL', 'confidence': 0.4150903820991516, 'speaker': None}, {'text': \"It is something you should absolutely explore on your own after you've learned these other concepts well in the description, I've linked a few great resources for learning all of the concepts, including the exact one from Freecodecamp that I gave my friend.\", 'start': 447584, 'end': 459870, 'sentiment': 'POSITIVE', 'confidence': 0.949941098690033, 'speaker': None}, {'text': 'Most of them are completely free, but I have also included my discount link for the course on 365 data science.', 'start': 459940, 'end': 465450, 'sentiment': 'POSITIVE', 'confidence': 0.7252283692359924, 'speaker': None}, {'text': \"So if you're looking for a resource just to take you past the more basic coding and more towards tangible data science skills, I would recommend checking that out.\", 'start': 465530, 'end': 472802, 'sentiment': 'POSITIVE', 'confidence': 0.7685678601264954, 'speaker': None}, {'text': \"One thing that I love about many of the courses that I've linked is that they have these little mini projects baked into the coursework.\", 'start': 472856, 'end': 478738, 'sentiment': 'POSITIVE', 'confidence': 0.9802240133285522, 'speaker': None}, {'text': 'I think project based learning is the single most effective way to learn technical concepts.', 'start': 478834, 'end': 483378, 'sentiment': 'POSITIVE', 'confidence': 0.9252229332923889, 'speaker': None}, {'text': 'After first getting a basic foundation, I highly encourage you to think about how you can use code to build things that would be useful to you.', 'start': 483474, 'end': 491770, 'sentiment': 'POSITIVE', 'confidence': 0.8167121410369873, 'speaker': None}, {'text': \"So for my friend, the first project I'm having him do is create a jujitsu drill randomizer using python.\", 'start': 491840, 'end': 497558, 'sentiment': 'NEUTRAL', 'confidence': 0.641726553440094, 'speaker': None}, {'text': \"So for training anything, it's important to reinforce your skills, but it can get boring.\", 'start': 497654, 'end': 501574, 'sentiment': 'NEGATIVE', 'confidence': 0.6008589863777161, 'speaker': None}, {'text': 'Working on the same basic drills every day.', 'start': 501622, 'end': 503642, 'sentiment': 'NEUTRAL', 'confidence': 0.7692323327064514, 'speaker': None}, {'text': \"I'm having him make a program that essentially randomly selects two to three drills that we should work on during our sessions from a larger list.\", 'start': 503696, 'end': 510638, 'sentiment': 'NEUTRAL', 'confidence': 0.9102046489715576, 'speaker': None}, {'text': \"This is a simple project, but it's something that's directly relevant and useful to our work and our jujitsu training.\", 'start': 510724, 'end': 515630, 'sentiment': 'POSITIVE', 'confidence': 0.9276151061058044, 'speaker': None}, {'text': \"With that in mind, I'd love for you to comment below with a Python project that you'd like to do, and we'll all hold each other accountable.\", 'start': 515700, 'end': 521886, 'sentiment': 'POSITIVE', 'confidence': 0.8127702474594116, 'speaker': None}, {'text': \"Okay, so now that you've learned the basics of Python, now what?\", 'start': 521998, 'end': 525154, 'sentiment': 'NEUTRAL', 'confidence': 0.7681722044944763, 'speaker': None}, {'text': \"If you're interested in learning more about data, I highly recommend that you do a data related project.\", 'start': 525272, 'end': 530390, 'sentiment': 'POSITIVE', 'confidence': 0.887665331363678, 'speaker': None}, {'text': \"The single best place for this is kaggle.com, which I've mentioned before.\", 'start': 530540, 'end': 534198, 'sentiment': 'POSITIVE', 'confidence': 0.9062290787696838, 'speaker': None}, {'text': \"If that's a bit too intimidating, you can follow along on one of the projects that I've done, or one of the thousands of projects that other people have worked on on the Kaggle platform.\", 'start': 534364, 'end': 542074, 'sentiment': 'NEUTRAL', 'confidence': 0.701015055179596, 'speaker': None}, {'text': 'Realistically, many people lose steam at this step.', 'start': 542192, 'end': 545194, 'sentiment': 'NEGATIVE', 'confidence': 0.6217605471611023, 'speaker': None}, {'text': 'They go through and see the great work that other people have done, and they get discouraged again.', 'start': 545312, 'end': 549162, 'sentiment': 'NEUTRAL', 'confidence': 0.4682561755180359, 'speaker': None}, {'text': 'Honestly, I remember feeling this too.', 'start': 549216, 'end': 550922, 'sentiment': 'NEUTRAL', 'confidence': 0.7410768866539001, 'speaker': None}, {'text': 'What I recommend doing is going through some of the basic notebooks, like the Titanic data set, and just copying the code, running it on your own computer line by line.', 'start': 550976, 'end': 559390, 'sentiment': 'NEUTRAL', 'confidence': 0.6975347995758057, 'speaker': None}, {'text': \"Many people think that this is cheating, but it's actually a great way to learn.\", 'start': 559540, 'end': 563198, 'sentiment': 'POSITIVE', 'confidence': 0.5282831192016602, 'speaker': None}, {'text': 'Even better, when you run it, make some changes to the code and see what happens.', 'start': 563284, 'end': 566974, 'sentiment': 'POSITIVE', 'confidence': 0.7118681073188782, 'speaker': None}, {'text': 'Maybe you should try changing like the colors on a graph from blue to red, or try to make a line thicker on one of the graphs.', 'start': 567092, 'end': 573534, 'sentiment': 'NEUTRAL', 'confidence': 0.8660709261894226, 'speaker': None}, {'text': 'Just simple things like that help you iterate and improve.', 'start': 573582, 'end': 576014, 'sentiment': 'POSITIVE', 'confidence': 0.8813362717628479, 'speaker': None}, {'text': \"So remember when we talked about ides earlier and I'd mentioned Jupyter notebook?\", 'start': 576062, 'end': 579422, 'sentiment': 'NEUTRAL', 'confidence': 0.8662348389625549, 'speaker': None}, {'text': 'Kaggle uses something similar to that that lets you work online.', 'start': 579486, 'end': 582486, 'sentiment': 'NEUTRAL', 'confidence': 0.747973620891571, 'speaker': None}, {'text': 'This is great and free compute power if you have limited resources at home.', 'start': 582588, 'end': 585974, 'sentiment': 'POSITIVE', 'confidence': 0.9385425448417664, 'speaker': None}, {'text': 'So if you want to work with data on your laptop or desktop, I recommend downloading anaconda.', 'start': 586012, 'end': 590674, 'sentiment': 'NEUTRAL', 'confidence': 0.6357753872871399, 'speaker': None}, {'text': 'Anaconda is a software package that lumps together all of the relevant Python libraries and ides for data science in one go.', 'start': 590722, 'end': 597706, 'sentiment': 'NEUTRAL', 'confidence': 0.6042550206184387, 'speaker': None}, {'text': \"So you can check out my video for how to install it, which I've linked above and in the description.\", 'start': 597808, 'end': 602118, 'sentiment': 'NEUTRAL', 'confidence': 0.8528739213943481, 'speaker': None}, {'text': 'Finally, I have three tips to send you on your way.', 'start': 602214, 'end': 604830, 'sentiment': 'NEUTRAL', 'confidence': 0.603242814540863, 'speaker': None}, {'text': 'These are probably the most important things that a new coder can learn, so the first one is to use Google and stack overflow.', 'start': 604900, 'end': 611386, 'sentiment': 'POSITIVE', 'confidence': 0.8766450881958008, 'speaker': None}, {'text': \"If you have a question, it's almost guaranteed that someone has asked it before.\", 'start': 611498, 'end': 615502, 'sentiment': 'NEUTRAL', 'confidence': 0.7775657773017883, 'speaker': None}, {'text': 'On the Internet, getting good at finding answers on your own via search might be the single most important skill of a data scientist or a software engineer that they use every single day.', 'start': 615556, 'end': 624930, 'sentiment': 'POSITIVE', 'confidence': 0.8029618859291077, 'speaker': None}, {'text': \"The second is to use errors so your code will not run, it'll break, and you'll be sad.\", 'start': 625000, 'end': 629182, 'sentiment': 'NEGATIVE', 'confidence': 0.9156535267829895, 'speaker': None}, {'text': \"Don't just wallow in yourself pity.\", 'start': 629326, 'end': 630818, 'sentiment': 'NEGATIVE', 'confidence': 0.6407561302185059, 'speaker': None}, {'text': 'Read the error messages.', 'start': 630914, 'end': 632082, 'sentiment': 'NEGATIVE', 'confidence': 0.4900802671909332, 'speaker': None}, {'text': \"They'll tell you something about what's wrong.\", 'start': 632146, 'end': 633798, 'sentiment': 'NEUTRAL', 'confidence': 0.4985716640949249, 'speaker': None}, {'text': 'Also, Google the errors and this will save you a lot of time and headache.', 'start': 633884, 'end': 637042, 'sentiment': 'POSITIVE', 'confidence': 0.5518122315406799, 'speaker': None}, {'text': 'Finally, the third thing is to take it easy on yourself.', 'start': 637106, 'end': 639414, 'sentiment': 'NEUTRAL', 'confidence': 0.5236702561378479, 'speaker': None}, {'text': \"The only people that can't code are the ones that never try or the ones that quit too early.\", 'start': 639532, 'end': 643750, 'sentiment': 'NEGATIVE', 'confidence': 0.9026545286178589, 'speaker': None}, {'text': 'Thank you all so much for watching, and good luck on your data science and coding journey.', 'start': 643900, 'end': 647990, 'sentiment': 'POSITIVE', 'confidence': 0.9869617223739624, 'speaker': None}, {'text': 'You.', 'start': 649610, 'end': 650360, 'sentiment': 'NEUTRAL', 'confidence': 0.5462568998336792, 'speaker': None}]}\n"
     ]
    }
   ],
   "source": [
    "# Getting the Transcription Result\n",
    "result_endpoint = endpoint + \"/\" + response.json()[\"id\"]\n",
    "headers_auth = {\n",
    "    \"authorization\": API_KEY,\n",
    "}\n",
    "transcript_response = requests.get(result_endpoint, headers=headers_auth)\n",
    "print(transcript_response.json())\n",
    "\n",
    "# While loop for requesting transcription\n",
    "while response.json()['status'] != \"completed\":\n",
    "    response = requests.get(result_endpoint, headers=headers_auth)\n",
    "    time.sleep(5)"
   ]
  },
  {
   "cell_type": "code",
   "execution_count": 77,
   "metadata": {},
   "outputs": [
    {
     "data": {
      "application/json": {
       "acoustic_model": "assemblyai_default",
       "audio_duration": 661,
       "audio_end_at": null,
       "audio_start_from": null,
       "audio_url": "https://github.com/thu-vu92/audio_analyzer_assemblyai/blob/main/How_I_Would_Learn_to_Code.mp3?raw=true",
       "auto_chapters": true,
       "auto_highlights": true,
       "auto_highlights_result": {
        "results": [
         {
          "count": 1,
          "rank": 0.07,
          "text": "Python code",
          "timestamps": [
           {
            "end": 270882,
            "start": 270152
           }
          ]
         },
         {
          "count": 7,
          "rank": 0.06,
          "text": "data science",
          "timestamps": [
           {
            "end": 34002,
            "start": 33388
           },
           {
            "end": 68574,
            "start": 67934
           },
           {
            "end": 89474,
            "start": 88908
           },
           {
            "end": 465450,
            "start": 464708
           },
           {
            "end": 471038,
            "start": 470558
           },
           {
            "end": 596854,
            "start": 596288
           },
           {
            "end": 646706,
            "start": 646188
           }
          ]
         },
         {
          "count": 1,
          "rank": 0.06,
          "text": "data science learning",
          "timestamps": [
           {
            "end": 89782,
            "start": 88908
           }
          ]
         },
         {
          "count": 1,
          "rank": 0.06,
          "text": "tangible data science skills",
          "timestamps": [
           {
            "end": 471406,
            "start": 470136
           }
          ]
         },
         {
          "count": 3,
          "rank": 0.06,
          "text": "data scientists",
          "timestamps": [
           {
            "end": 83378,
            "start": 82508
           },
           {
            "end": 101142,
            "start": 100368
           },
           {
            "end": 187186,
            "start": 186460
           }
          ]
         },
         {
          "count": 1,
          "rank": 0.05,
          "text": "Data science style",
          "timestamps": [
           {
            "end": 69310,
            "start": 67934
           }
          ]
         },
         {
          "count": 1,
          "rank": 0.05,
          "text": "data frames",
          "timestamps": [
           {
            "end": 412954,
            "start": 412404
           }
          ]
         },
         {
          "count": 1,
          "rank": 0.05,
          "text": "different data structures",
          "timestamps": [
           {
            "end": 330450,
            "start": 329480
           }
          ]
         },
         {
          "count": 1,
          "rank": 0.05,
          "text": "data types",
          "timestamps": [
           {
            "end": 323982,
            "start": 323272
           }
          ]
         },
         {
          "count": 1,
          "rank": 0.05,
          "text": "other great videos",
          "timestamps": [
           {
            "end": 39510,
            "start": 38748
           }
          ]
         },
         {
          "count": 1,
          "rank": 0.05,
          "text": "many ides",
          "timestamps": [
           {
            "end": 197126,
            "start": 196294
           }
          ]
         },
         {
          "count": 2,
          "rank": 0.05,
          "text": "other people",
          "timestamps": [
           {
            "end": 540454,
            "start": 540012
           },
           {
            "end": 547354,
            "start": 547008
           }
          ]
         },
         {
          "count": 2,
          "rank": 0.05,
          "text": "many people",
          "timestamps": [
           {
            "end": 543674,
            "start": 543094
           },
           {
            "end": 560094,
            "start": 559540
           }
          ]
         },
         {
          "count": 1,
          "rank": 0.05,
          "text": "good coding",
          "timestamps": [
           {
            "end": 379486,
            "start": 378872
           }
          ]
         },
         {
          "count": 2,
          "rank": 0.04,
          "text": "object oriented programming",
          "timestamps": [
           {
            "end": 434770,
            "start": 433308
           },
           {
            "end": 442726,
            "start": 441378
           }
          ]
         }
        ],
        "status": "success"
       },
       "boost_param": null,
       "chapters": [
        {
         "end": 57710,
         "gist": "How to Teach a New Coder How to Code",
         "headline": "A friend offered to coach me in exchange for teaching me how to code",
         "start": 250,
         "summary": "A friend offered to coach me in exchange for teaching him how to code. This video is more focused on coding for data and it uses a very specific real world case study. At the end, I highlight the three most important things a new programmer should know."
        },
        {
         "end": 272402,
         "gist": "Python vs R: The Language to Start Learning",
         "headline": "48% of respondents use Python, while only 5% use r",
         "start": 57780,
         "summary": "About 48% of respondents use Python, while only about 5% use r. From 2020 to 2021, Python has gained an adoption, while R usage has seen some attrition. What coding skills should my friend learn first?"
        },
        {
         "end": 521886,
         "gist": "Basic Coding Basics (In 6 Steps!)",
         "headline": "Basic coding can be broken down into seven concepts. The first one we start with is data types",
         "start": 272536,
         "summary": "At the most basic level, beginner coding can be broken down into seven concepts. The first one we start with is data types. After that, learn about functions. Finally, learn to work with libraries. With these seven things, you have the basics of coding that you'll need for working with data."
        },
        {
         "end": 650360,
         "gist": "Learning Python Basics in 2 Minutes",
         "headline": "Okay, so now that you've learned the basics of Python, now what",
         "start": 521998,
         "summary": "If you're interested in learning more about data, I highly recommend that you do a data related project. The single best place for this is kaggle. com. Finally, I have three tips to send you on your way."
        }
       ],
       "confidence": 0.967167184787104,
       "content_safety": false,
       "content_safety_labels": {
        "results": [],
        "status": "unavailable",
        "summary": {}
       },
       "custom_spelling": null,
       "custom_topics": false,
       "disfluencies": false,
       "dual_channel": null,
       "entities": null,
       "entity_detection": false,
       "filter_profanity": false,
       "format_text": true,
       "iab_categories": true,
       "iab_categories_result": {
        "results": [
         {
          "labels": [
           {
            "label": "Sports>MartialArts",
            "relevance": 0.13722626864910126
           },
           {
            "label": "Technology&Computing>Computing>ProgrammingLanguages",
            "relevance": 0.08389603346586227
           },
           {
            "label": "Sports>Boxing",
            "relevance": 0.007149305194616318
           },
           {
            "label": "Technology&Computing>Computing",
            "relevance": 0.004430283326655626
           },
           {
            "label": "Sports>Bodybuilding",
            "relevance": 0.0019311271607875824
           },
           {
            "label": "Technology&Computing>Computing>ComputerSoftwareAndApplications",
            "relevance": 0.0016925666714087129
           },
           {
            "label": "Movies>ActionAndAdventureMovies",
            "relevance": 0.0016120249638333917
           },
           {
            "label": "Education>OnlineEducation",
            "relevance": 0.0014443699037656188
           },
           {
            "label": "Technology&Computing>Computing>Internet>WebDevelopment",
            "relevance": 0.000878223916515708
           },
           {
            "label": "Technology&Computing>Computing>ComputerSoftwareAndApplications>OperatingSystems",
            "relevance": 0.0006411392241716385
           }
          ],
          "sentences_idx_end": 4,
          "sentences_idx_start": 0,
          "text": "I recently got an amazing opportunity. I've been learning jujitsu and a friend offered to coach me in exchange for teaching him how to code. At this point in my life where I'm trying to improve my jujitsu as quickly as possible, this was an incredible trade for me. In my personal opinion. I was all for it until I had to think about how I'd actually go about teaching someone how to code.",
          "timestamp": {
           "end": 18478,
           "start": 250
          }
         },
         {
          "labels": [
           {
            "label": "Technology&Computing>Computing>DataStorageAndWarehousing",
            "relevance": 0.4826590120792389
           },
           {
            "label": "Technology&Computing>Computing>ComputerSoftwareAndApplications>Databases",
            "relevance": 0.11849714070558548
           },
           {
            "label": "Technology&Computing>Computing>ProgrammingLanguages",
            "relevance": 0.05227874964475632
           },
           {
            "label": "Technology&Computing>Computing>ComputerSoftwareAndApplications",
            "relevance": 0.003577309660613537
           },
           {
            "label": "Technology&Computing>Computing>Internet>WebDevelopment",
            "relevance": 0.0015803250716999173
           },
           {
            "label": "BusinessAndFinance>Business>BusinessI.T.",
            "relevance": 0.0008139365236274898
           },
           {
            "label": "Technology&Computing>Computing>Internet>WebDesignAndHTML",
            "relevance": 0.0007024347432889044
           },
           {
            "label": "Technology&Computing>Computing>ComputerSoftwareAndApplications>DesktopPublishing",
            "relevance": 0.0006090602255426347
           },
           {
            "label": "Technology&Computing>Computing",
            "relevance": 0.0003671605372801423
           },
           {
            "label": "BusinessAndFinance>Business>MarketingAndAdvertising",
            "relevance": 0.00020766201487276703
           }
          ],
          "sentences_idx_end": 9,
          "sentences_idx_start": 5,
          "text": "Starting from nothing, I quickly realized that this was going to be a lot harder than I thought. After all, it's been almost ten years since I wrote my very first line of code. That's a pretty long time. Now, this video is about the very specific and detailed plan that I wrote for my friend to teach me the basics of coding for data science. Since I did all the work for him, I figured I might as well share the details with you as well here.",
          "timestamp": {
           "end": 37942,
           "start": 18564
          }
         },
         {
          "labels": [
           {
            "label": "Technology&Computing>Computing>ProgrammingLanguages",
            "relevance": 0.9650105237960815
           },
           {
            "label": "Technology&Computing>Computing>Internet>WebDevelopment",
            "relevance": 0.2750667631626129
           },
           {
            "label": "Technology&Computing>Computing>Internet>WebDesignAndHTML",
            "relevance": 0.09586074948310852
           },
           {
            "label": "Technology&Computing>Computing>ComputerSoftwareAndApplications",
            "relevance": 0.04694860056042671
           },
           {
            "label": "Technology&Computing>Computing",
            "relevance": 0.009304526261985302
           },
           {
            "label": "Technology&Computing>Computing>ComputerSoftwareAndApplications>DesktopPublishing",
            "relevance": 0.008727594278752804
           },
           {
            "label": "FineArt>Design",
            "relevance": 0.002572737168520689
           },
           {
            "label": "Technology&Computing>Computing>DataStorageAndWarehousing",
            "relevance": 0.001379454624839127
           },
           {
            "label": "Technology&Computing>Computing>ComputerSoftwareAndApplications>Databases",
            "relevance": 0.000738082395400852
           },
           {
            "label": "Technology&Computing>Computing>ComputerSoftwareAndApplications>OperatingSystems",
            "relevance": 0.0006660992512479424
           }
          ],
          "sentences_idx_end": 12,
          "sentences_idx_start": 10,
          "text": "There have been plenty of other great videos similar to this about how to start coding, and I've linked many of them in the description. Again, those are great, but I think this is a bit different because it's more focused on coding for data and it uses a very specific real world case study. At the end, I also highlight the three most important things a new programmer should know, so you definitely want to stick around for that.",
          "timestamp": {
           "end": 57710,
           "start": 37996
          }
         },
         {
          "labels": [
           {
            "label": "Technology&Computing>Computing>ProgrammingLanguages",
            "relevance": 0.9859917759895325
           },
           {
            "label": "Technology&Computing>Computing",
            "relevance": 0.00972230825573206
           },
           {
            "label": "Technology&Computing>Computing>ComputerSoftwareAndApplications",
            "relevance": 0.009711804799735546
           },
           {
            "label": "Technology&Computing>Computing>ComputerSoftwareAndApplications>Databases",
            "relevance": 0.008387564681470394
           },
           {
            "label": "Technology&Computing>Computing>DataStorageAndWarehousing",
            "relevance": 0.0042449054308235645
           },
           {
            "label": "Technology&Computing>Computing>Internet>WebDevelopment",
            "relevance": 0.004164966754615307
           },
           {
            "label": "Technology&Computing>Computing>Internet>WebDesignAndHTML",
            "relevance": 0.0013931115390732884
           },
           {
            "label": "Technology&Computing>Computing>ComputerSoftwareAndApplications>DesktopPublishing",
            "relevance": 0.0013113992754369974
           },
           {
            "label": "Technology&Computing>Computing>ComputerSoftwareAndApplications>OperatingSystems",
            "relevance": 0.0013000688049942255
           },
           {
            "label": "Education>LanguageLearning",
            "relevance": 0.0004019503539893776
           }
          ],
          "sentences_idx_end": 16,
          "sentences_idx_start": 13,
          "text": "Let's start with the language that we should start learning. I know if you're working with data, you generally have two good choices. They would either start with Python or R. Let's quickly compare the two languages. Data science style when looking at the stack overflow developer survey, we find that about 48% of respondents use Python, while only about 5% use r. In industry, Python is a far more common language.",
          "timestamp": {
           "end": 80306,
           "start": 57780
          }
         },
         {
          "labels": [
           {
            "label": "Technology&Computing>Computing>DataStorageAndWarehousing",
            "relevance": 0.03594128042459488
           },
           {
            "label": "Technology&Computing>Computing>ComputerSoftwareAndApplications>Databases",
            "relevance": 0.0316101536154747
           },
           {
            "label": "Technology&Computing>Computing>ProgrammingLanguages",
            "relevance": 0.02201295644044876
           },
           {
            "label": "Technology&Computing>Computing>Internet>Search",
            "relevance": 0.0004659531114157289
           },
           {
            "label": "Technology&Computing>Computing>Internet>CloudComputing",
            "relevance": 0.0003698299697134644
           },
           {
            "label": "Technology&Computing>Computing",
            "relevance": 0.0003630890278145671
           },
           {
            "label": "Technology&Computing>Computing>ComputerSoftwareAndApplications",
            "relevance": 0.00030184234492480755
           },
           {
            "label": "Technology&Computing>Computing>ComputerSoftwareAndApplications>OperatingSystems",
            "relevance": 0.00027348141884431243
           },
           {
            "label": "Technology&Computing>Computing>Internet>WebDevelopment",
            "relevance": 0.0002598326827865094
           },
           {
            "label": "Technology&Computing>Computing>ComputerSoftwareAndApplications>DesktopPublishing",
            "relevance": 0.00019914135918952525
           }
          ],
          "sentences_idx_end": 19,
          "sentences_idx_start": 17,
          "text": "Let's now look more specifically at data scientists, not just all stack overflow users who come from a variety of backgrounds on Kaggle, my favorite platform for data science learning and projects, we can see that around 84.2% of respondents use Python, while only 20.5% use r. Since these add up to more than 100%, we can assume that some data scientists are using both languages. Finally, let's look at these two languages over time. We can see here.",
          "timestamp": {
           "end": 106158,
           "start": 80418
          }
         },
         {
          "labels": [
           {
            "label": "Technology&Computing>Computing>ProgrammingLanguages",
            "relevance": 0.4958242177963257
           },
           {
            "label": "Technology&Computing>Computing>Internet>WebDevelopment",
            "relevance": 0.0063425772823393345
           },
           {
            "label": "Technology&Computing>Computing",
            "relevance": 0.0018120877211913466
           },
           {
            "label": "Technology&Computing>Computing>ComputerSoftwareAndApplications>OperatingSystems",
            "relevance": 0.0017480654641985893
           },
           {
            "label": "Technology&Computing>Computing>ComputerSoftwareAndApplications",
            "relevance": 0.001738185528665781
           },
           {
            "label": "Technology&Computing>Computing>Internet>WebDesignAndHTML",
            "relevance": 0.0010007594246417284
           },
           {
            "label": "FineArt>Design",
            "relevance": 0.0009470201912336051
           },
           {
            "label": "Technology&Computing>Computing>ComputerSoftwareAndApplications>DesktopPublishing",
            "relevance": 0.000723525183275342
           },
           {
            "label": "Education>LanguageLearning",
            "relevance": 0.0004065407265443355
           },
           {
            "label": "BusinessAndFinance>Business>BusinessBanking&Finance>AngelInvestment",
            "relevance": 0.0003768810420297086
           }
          ],
          "sentences_idx_end": 24,
          "sentences_idx_start": 20,
          "text": "From 2020 to 2021, Python has gained an adoption, while R usage has seen some attrition. To me, this is a no brainer. I recommended my friend to start learning Python first. That language is more popular and it's continuing to grow. This isn't to say r is bad, it's just to say that I think Python is growing and will be a more valuable skill to have for the job market in general.",
          "timestamp": {
           "end": 125970,
           "start": 106244
          }
         },
         {
          "labels": [
           {
            "label": "Technology&Computing>Computing>ProgrammingLanguages",
            "relevance": 0.9963436722755432
           },
           {
            "label": "Technology&Computing>Computing>Internet>WebDevelopment",
            "relevance": 0.011487836018204689
           },
           {
            "label": "Technology&Computing>Computing",
            "relevance": 0.009220816195011139
           },
           {
            "label": "Technology&Computing>Computing>Internet>WebDesignAndHTML",
            "relevance": 0.005121874623000622
           },
           {
            "label": "Technology&Computing>Computing>ComputerSoftwareAndApplications",
            "relevance": 0.005029318388551474
           },
           {
            "label": "Technology&Computing>Computing>ComputerSoftwareAndApplications>OperatingSystems",
            "relevance": 0.002327732741832733
           },
           {
            "label": "Technology&Computing>Computing>ComputerSoftwareAndApplications>DesktopPublishing",
            "relevance": 0.0008801892981864512
           },
           {
            "label": "Technology&Computing>Computing>ComputerSoftwareAndApplications>Databases",
            "relevance": 0.0007294358219951391
           },
           {
            "label": "Education>LanguageLearning",
            "relevance": 0.0006863630260340869
           },
           {
            "label": "BusinessAndFinance>Business>BusinessBanking&Finance>AngelInvestment",
            "relevance": 0.0003347489982843399
           }
          ],
          "sentences_idx_end": 30,
          "sentences_idx_start": 25,
          "text": "I also personally find it a bit more intuitive and flexible than R. Now that we've chosen our language as Python, what coding skills should my friend learn first? Should he focus on variables, logic functions, algorithms? Classes? My mind was absolutely spinning when I first addressed this. It took me a second, but I had this weird, chaotic flashback to my first days of learning programming myself. I didn't even know where to start with getting Python on my own computer.",
          "timestamp": {
           "end": 148298,
           "start": 126040
          }
         },
         {
          "labels": [
           {
            "label": "Technology&Computing>Computing>ProgrammingLanguages",
            "relevance": 0.9827053546905518
           },
           {
            "label": "Technology&Computing>Computing>ComputerSoftwareAndApplications",
            "relevance": 0.0749104768037796
           },
           {
            "label": "Technology&Computing>Computing",
            "relevance": 0.022539956495165825
           },
           {
            "label": "Technology&Computing>Computing>Internet>WebDevelopment",
            "relevance": 0.01969153620302677
           },
           {
            "label": "Technology&Computing>Computing>ComputerSoftwareAndApplications>OperatingSystems",
            "relevance": 0.012237763963639736
           },
           {
            "label": "Technology&Computing>Computing>Internet>WebDesignAndHTML",
            "relevance": 0.0047918204218149185
           },
           {
            "label": "Technology&Computing>Computing>ComputerSoftwareAndApplications>DesktopPublishing",
            "relevance": 0.0034628408029675484
           },
           {
            "label": "FineArt>Design",
            "relevance": 0.0009413815569132566
           },
           {
            "label": "Education>OnlineEducation",
            "relevance": 0.0006486507481895387
           },
           {
            "label": "Technology&Computing>Computing>ComputerSoftwareAndApplications>SharewareAndFreeware",
            "relevance": 0.0003302292025182396
           }
          ],
          "sentences_idx_end": 35,
          "sentences_idx_start": 31,
          "text": "I just now got excited about teaching the functional part of programming, and I completely forgot about the basics of setting up your environment for success. The next thing I did was give my friend some of my favorite resources on choosing an environment and getting the right version of Python on his computer. Honestly, I was a bit torn on this too. So, for example, what IDE should he use? Does he even know what IDE stands for?",
          "timestamp": {
           "end": 167554,
           "start": 148384
          }
         },
         {
          "labels": [
           {
            "label": "Technology&Computing>Computing>ComputerSoftwareAndApplications",
            "relevance": 0.8247228860855103
           },
           {
            "label": "Technology&Computing>Computing>ProgrammingLanguages",
            "relevance": 0.3348064720630646
           },
           {
            "label": "Technology&Computing>Computing>ComputerSoftwareAndApplications>DesktopPublishing",
            "relevance": 0.2779303789138794
           },
           {
            "label": "Technology&Computing>Computing>Internet>WebDevelopment",
            "relevance": 0.10614031553268433
           },
           {
            "label": "Technology&Computing>Computing>Internet>WebDesignAndHTML",
            "relevance": 0.030736545100808144
           },
           {
            "label": "Technology&Computing>Computing",
            "relevance": 0.01451586652547121
           },
           {
            "label": "Technology&Computing>Computing>ComputerSoftwareAndApplications>OperatingSystems",
            "relevance": 0.007527829147875309
           },
           {
            "label": "Technology&Computing>Computing>ComputerSoftwareAndApplications>SharewareAndFreeware",
            "relevance": 0.0046518235467374325
           },
           {
            "label": "FineArt>Design",
            "relevance": 0.002335600322112441
           },
           {
            "label": "Technology&Computing>Computing>ComputerSoftwareAndApplications>GraphicsSoftware",
            "relevance": 0.0016331489896401763
           }
          ],
          "sentences_idx_end": 40,
          "sentences_idx_start": 36,
          "text": "For those who don't know and who are new, IDE stands for integrated development environment. So this is essentially just the text editor you use to write your code. If you were writing an essay, you could choose to use Microsoft Word. You could use Google Docs, you could use notepad, or maybe even just straight up pen and paper, just like there are these different mediums for you to write your last minute paper. Data scientists and software engineers need places to write their code.",
          "timestamp": {
           "end": 189814,
           "start": 167592
          }
         },
         {
          "labels": [
           {
            "label": "Technology&Computing>Computing>ProgrammingLanguages",
            "relevance": 0.4536287486553192
           },
           {
            "label": "Technology&Computing>Computing>ComputerSoftwareAndApplications>DesktopPublishing",
            "relevance": 0.10674280673265457
           },
           {
            "label": "Technology&Computing>Computing>ComputerSoftwareAndApplications",
            "relevance": 0.026605850085616112
           },
           {
            "label": "Technology&Computing>Computing>Internet>WebDesignAndHTML",
            "relevance": 0.010443923063576221
           },
           {
            "label": "Technology&Computing>Computing>Internet>WebDevelopment",
            "relevance": 0.006142122205346823
           },
           {
            "label": "Technology&Computing>Computing>ComputerSoftwareAndApplications>Databases",
            "relevance": 0.0007942030788399279
           },
           {
            "label": "Technology&Computing>Computing",
            "relevance": 0.000733178632799536
           },
           {
            "label": "Technology&Computing>Computing>ComputerSoftwareAndApplications>GraphicsSoftware",
            "relevance": 0.0005002605612389743
           },
           {
            "label": "FineArt>Design",
            "relevance": 0.00045430244063027203
           },
           {
            "label": "Technology&Computing>Computing>ComputerSoftwareAndApplications>SharewareAndFreeware",
            "relevance": 0.00036965409526601434
           }
          ],
          "sentences_idx_end": 42,
          "sentences_idx_start": 41,
          "text": "These places are called ides, and just like Microsoft Word has spell track and formatting to make sure that you don't make grammatical errors, many ides help you to make sure that you have proper syntax in your code. In theory, technically Microsoft Word would be considered an IDE, but I definitely don't recommend using it as such unless you're Juma tech.",
          "timestamp": {
           "end": 207918,
           "start": 189932
          }
         },
         {
          "labels": [
           {
            "label": "Technology&Computing>Computing>DataStorageAndWarehousing",
            "relevance": 0.3769122362136841
           },
           {
            "label": "Technology&Computing>Computing>ComputerSoftwareAndApplications>Databases",
            "relevance": 0.215847909450531
           },
           {
            "label": "Technology&Computing>Computing>ProgrammingLanguages",
            "relevance": 0.14621572196483612
           },
           {
            "label": "Technology&Computing>Computing>ComputerSoftwareAndApplications",
            "relevance": 0.10094079375267029
           },
           {
            "label": "Technology&Computing>Computing>Internet>WebDevelopment",
            "relevance": 0.008412392809987068
           },
           {
            "label": "Technology&Computing>Computing>ComputerSoftwareAndApplications>DesktopPublishing",
            "relevance": 0.004038332495838404
           },
           {
            "label": "Technology&Computing>Computing>Internet>WebDesignAndHTML",
            "relevance": 0.0033879103139042854
           },
           {
            "label": "Technology&Computing>Computing",
            "relevance": 0.0014807181432843208
           },
           {
            "label": "Technology&Computing>Computing>ComputerSoftwareAndApplications>OperatingSystems",
            "relevance": 0.000970754015725106
           },
           {
            "label": "BusinessAndFinance>Business>BusinessI.T.",
            "relevance": 0.0009670596336945891
           }
          ],
          "sentences_idx_end": 46,
          "sentences_idx_start": 43,
          "text": "This is a list of the most commonly used ides in the data domain, and as you can see, common ides for Python are vs. Code, Jupyter, notebook, pycharm, and spider. Before anything else, I wanted to give him a decent understanding about how the development environments work before we picked one. As I mentioned, this is something that I was totally confused about when I started. When I learned to code, I was using Python and I was using an ide called idle.",
          "timestamp": {
           "end": 232002,
           "start": 208004
          }
         },
         {
          "labels": [
           {
            "label": "Careers>RemoteWorking",
            "relevance": 0.00832839123904705
           },
           {
            "label": "BusinessAndFinance>Business>BusinessI.T.",
            "relevance": 0.002615672303363681
           },
           {
            "label": "Education>OnlineEducation",
            "relevance": 0.002562117064371705
           },
           {
            "label": "Hobbies&Interests",
            "relevance": 0.0019824488554149866
           },
           {
            "label": "Education>HomeworkAndStudy",
            "relevance": 0.0018270948203280568
           },
           {
            "label": "FineArt>Design",
            "relevance": 0.0017880158266052604
           },
           {
            "label": "Technology&Computing>Computing>DataStorageAndWarehousing",
            "relevance": 0.0017348346300423145
           },
           {
            "label": "Technology&Computing",
            "relevance": 0.0016830955864861608
           },
           {
            "label": "Hobbies&Interests>ArtsAndCrafts>Needlework",
            "relevance": 0.0014116335660219193
           },
           {
            "label": "Technology&Computing>Computing>Desktops",
            "relevance": 0.0013737808912992477
           }
          ],
          "sentences_idx_end": 50,
          "sentences_idx_start": 47,
          "text": "So idle was great for learning, but I've literally never once touched it since, and I don't use it on any data projects in any of my work. I wanted to make sure that my friend was using something that would be representative of what he might see in the real world, what people actually use. For this specific friend, I recommended that he start learning the basics with this video from Freecodecamp. I've linked it and all other resources in the description.",
          "timestamp": {
           "end": 253446,
           "start": 232066
          }
         },
         {
          "labels": [
           {
            "label": "Technology&Computing>Computing>ProgrammingLanguages",
            "relevance": 0.5614700317382812
           },
           {
            "label": "Technology&Computing>Computing>Internet>WebDevelopment",
            "relevance": 0.07231449335813522
           },
           {
            "label": "Technology&Computing>Computing>Internet>WebDesignAndHTML",
            "relevance": 0.012734722346067429
           },
           {
            "label": "Technology&Computing>Computing>ComputerSoftwareAndApplications",
            "relevance": 0.0020986113231629133
           },
           {
            "label": "Technology&Computing>Computing>ComputerSoftwareAndApplications>OperatingSystems",
            "relevance": 0.0018311493331566453
           },
           {
            "label": "Technology&Computing>Computing>Internet>WebHosting",
            "relevance": 0.0007611463079228997
           },
           {
            "label": "Technology&Computing>Computing>ComputerSoftwareAndApplications>DesktopPublishing",
            "relevance": 0.0007081466028466821
           },
           {
            "label": "Technology&Computing>Computing",
            "relevance": 0.00044845513184554875
           },
           {
            "label": "Technology&Computing>Computing>ComputerSoftwareAndApplications>SharewareAndFreeware",
            "relevance": 0.0003445891197770834
           },
           {
            "label": "BusinessAndFinance>Business>BusinessBanking&Finance>AngelInvestment",
            "relevance": 0.00022796634584665298
           }
          ],
          "sentences_idx_end": 55,
          "sentences_idx_start": 51,
          "text": "So in the video they show you how to set up the Pycharm environment and get comfortable using that. I think Pycharm is solid, and if you get familiar with that, you can easily pick up the s code, Jupyter notebook or Spyder pretty quickly. Truthfully, I don't think that the ide that you start with really matters that much. What's more important is that you're using one that people who actually write Python code into production are using. Okay, now on to the coding basics.",
          "timestamp": {
           "end": 274782,
           "start": 253558
          }
         },
         {
          "labels": [
           {
            "label": "Technology&Computing>Computing>ProgrammingLanguages",
            "relevance": 0.9962628483772278
           },
           {
            "label": "Technology&Computing>Computing",
            "relevance": 0.0328386053442955
           },
           {
            "label": "Technology&Computing>Computing>ComputerSoftwareAndApplications",
            "relevance": 0.021953579038381577
           },
           {
            "label": "Technology&Computing>Computing>Internet>WebDevelopment",
            "relevance": 0.011105725541710854
           },
           {
            "label": "Technology&Computing>Computing>Internet>WebDesignAndHTML",
            "relevance": 0.006160937715321779
           },
           {
            "label": "FineArt>Design",
            "relevance": 0.0013299589045345783
           },
           {
            "label": "Technology&Computing>Computing>ComputerSoftwareAndApplications>OperatingSystems",
            "relevance": 0.0007997299544513226
           },
           {
            "label": "Technology&Computing",
            "relevance": 0.0005563693703152239
           },
           {
            "label": "Technology&Computing>Computing>ComputerSoftwareAndApplications>DesktopPublishing",
            "relevance": 0.0005396509077399969
           },
           {
            "label": "Technology&Computing>ArtificialIntelligence",
            "relevance": 0.0005101074348203838
           }
          ],
          "sentences_idx_end": 60,
          "sentences_idx_start": 56,
          "text": "Surprisingly, I think this might be one of the simplest parts of this entire process. You see, there's a common misconception that coding is trying to trick you. There's this conspiracy that learning to code is supposed to be really hard and very scary. I would argue that it's almost the opposite. Coding languages, particularly Python, they're designed to be as easy to use as possible while creating good results.",
          "timestamp": {
           "end": 296230,
           "start": 274926
          }
         },
         {
          "labels": [
           {
            "label": "Technology&Computing>Computing>ProgrammingLanguages",
            "relevance": 0.9764599204063416
           },
           {
            "label": "Technology&Computing>Computing>ComputerSoftwareAndApplications",
            "relevance": 0.014433934353291988
           },
           {
            "label": "FineArt>Design",
            "relevance": 0.012322884052991867
           },
           {
            "label": "Technology&Computing>Computing",
            "relevance": 0.011113232932984829
           },
           {
            "label": "Technology&Computing>Computing>Internet>WebDevelopment",
            "relevance": 0.007942783646285534
           },
           {
            "label": "Technology&Computing>Computing>Internet>WebDesignAndHTML",
            "relevance": 0.007271408569067717
           },
           {
            "label": "Education>LanguageLearning",
            "relevance": 0.0016669647302478552
           },
           {
            "label": "Technology&Computing>Computing>ComputerSoftwareAndApplications>DesktopPublishing",
            "relevance": 0.0015035858377814293
           },
           {
            "label": "Technology&Computing",
            "relevance": 0.0008241141331382096
           },
           {
            "label": "MusicAndAudio",
            "relevance": 0.0006867694319225848
           }
          ],
          "sentences_idx_end": 63,
          "sentences_idx_start": 61,
          "text": "So if you change your perspective to look at them as intuitive, coding becomes significantly more fun and stressfree. This isn't to say that you won't get stuck, it's just to say that when you do get stuck, there's almost always a logical reason for it and a logical solution to resolve your problems. Keeping with this theme of simplicity, at the most basic level, beginner coding can be broken down into seven concepts.",
          "timestamp": {
           "end": 315642,
           "start": 296310
          }
         },
         {
          "labels": [
           {
            "label": "Technology&Computing>Computing>ComputerSoftwareAndApplications>Databases",
            "relevance": 0.9284989237785339
           },
           {
            "label": "Technology&Computing>Computing>ProgrammingLanguages",
            "relevance": 0.8729547262191772
           },
           {
            "label": "Technology&Computing>Computing>DataStorageAndWarehousing",
            "relevance": 0.4665168821811676
           },
           {
            "label": "Technology&Computing>Computing",
            "relevance": 0.020193638280034065
           },
           {
            "label": "Technology&Computing>Computing>ComputerSoftwareAndApplications",
            "relevance": 0.015379320830106735
           },
           {
            "label": "BusinessAndFinance>Business>BusinessI.T.",
            "relevance": 0.004057173151522875
           },
           {
            "label": "Technology&Computing>Computing>ComputerSoftwareAndApplications>OperatingSystems",
            "relevance": 0.002356107346713543
           },
           {
            "label": "Technology&Computing>Computing>Internet>WebDesignAndHTML",
            "relevance": 0.0012698087375611067
           },
           {
            "label": "Technology&Computing>Computing>Internet>WebDevelopment",
            "relevance": 0.0010772757232189178
           },
           {
            "label": "Technology&Computing>Computing>ComputerSoftwareAndApplications>DesktopPublishing",
            "relevance": 0.000892931129783392
           }
          ],
          "sentences_idx_end": 66,
          "sentences_idx_start": 64,
          "text": "All of the resources that I've linked in the description cover these topics, but I'm going to give you a very, very high level overview here. The first one we start with is data types. So in Python you can work with numbers, you can work with text, you can work with booleans, you can work with lists or a host of different data structures.",
          "timestamp": {
           "end": 330450,
           "start": 315706
          }
         },
         {
          "labels": [
           {
            "label": "Technology&Computing>Computing>ProgrammingLanguages",
            "relevance": 0.9906319379806519
           },
           {
            "label": "Technology&Computing>Computing",
            "relevance": 0.007949459366500378
           },
           {
            "label": "Technology&Computing>Computing>ComputerSoftwareAndApplications>OperatingSystems",
            "relevance": 0.005706983618438244
           },
           {
            "label": "Technology&Computing>Computing>Internet>WebDevelopment",
            "relevance": 0.0016761466395109892
           },
           {
            "label": "Technology&Computing>Computing>ComputerSoftwareAndApplications",
            "relevance": 0.0013409785460680723
           },
           {
            "label": "Technology&Computing>Computing>Internet>WebDesignAndHTML",
            "relevance": 0.0008520189439877868
           },
           {
            "label": "Technology&Computing>Computing>ComputerSoftwareAndApplications>Databases",
            "relevance": 0.0008216378628276289
           },
           {
            "label": "Technology&Computing>ArtificialIntelligence",
            "relevance": 0.00027748229331336915
           },
           {
            "label": "Technology&Computing>Computing>DataStorageAndWarehousing",
            "relevance": 0.0001572124456288293
           },
           {
            "label": "BusinessAndFinance>Business>BusinessBanking&Finance>AngelInvestment",
            "relevance": 0.00014999063569121063
           }
          ],
          "sentences_idx_end": 70,
          "sentences_idx_start": 67,
          "text": "It's important to get a good understanding or a fundamental understanding of these first next, I think it makes sense to get familiar with how variables work. This can vary by language, so you need to make sure you know how to assign and change variables. In Python, specifically, after variables, you should look into how logical operators work. These are very handy in your first few projects.",
          "timestamp": {
           "end": 349430,
           "start": 330530
          }
         },
         {
          "labels": [
           {
            "label": "Technology&Computing>Computing>ProgrammingLanguages",
            "relevance": 0.9977200627326965
           },
           {
            "label": "Technology&Computing>Computing",
            "relevance": 0.7008857131004333
           },
           {
            "label": "Technology&Computing>Computing>ComputerSoftwareAndApplications",
            "relevance": 0.058482859283685684
           },
           {
            "label": "Technology&Computing>Computing>Internet>WebDevelopment",
            "relevance": 0.013496841304004192
           },
           {
            "label": "Technology&Computing>Computing>ComputerSoftwareAndApplications>OperatingSystems",
            "relevance": 0.005932759493589401
           },
           {
            "label": "Technology&Computing>Computing>Internet>WebDesignAndHTML",
            "relevance": 0.0045618112199008465
           },
           {
            "label": "Technology&Computing>Computing>ComputerSoftwareAndApplications>Databases",
            "relevance": 0.0024430998601019382
           },
           {
            "label": "Technology&Computing>ArtificialIntelligence",
            "relevance": 0.0023489368613809347
           },
           {
            "label": "BusinessAndFinance>Business>BusinessI.T.",
            "relevance": 0.0009569263784214854
           },
           {
            "label": "Technology&Computing>Computing>DataStorageAndWarehousing",
            "relevance": 0.00055891607189551
           }
          ],
          "sentences_idx_end": 76,
          "sentences_idx_start": 71,
          "text": "If else statements are probably the most important one, but you can definitely find use cases for the others, especially if you're working with data. The fourth thing you need to understand is how loops work. So one thing computers are really, really great at is doing a simple task over and over again. You'd be surprised at how useful these can be for your programming future. After that, you should learn about functions. So this sets the foundation for almost everything you do on your programming journey.",
          "timestamp": {
           "end": 374750,
           "start": 349510
          }
         },
         {
          "labels": [
           {
            "label": "Technology&Computing>Computing>ProgrammingLanguages",
            "relevance": 0.9979165196418762
           },
           {
            "label": "Technology&Computing>Computing",
            "relevance": 0.023792685940861702
           },
           {
            "label": "Technology&Computing>Computing>ComputerSoftwareAndApplications",
            "relevance": 0.019423026591539383
           },
           {
            "label": "Technology&Computing>Computing>Internet>WebDevelopment",
            "relevance": 0.012367099523544312
           },
           {
            "label": "Technology&Computing>Computing>ComputerSoftwareAndApplications>Databases",
            "relevance": 0.010526512749493122
           },
           {
            "label": "Technology&Computing>Computing>Internet>WebDesignAndHTML",
            "relevance": 0.00795968621969223
           },
           {
            "label": "Technology&Computing>Computing>ComputerSoftwareAndApplications>OperatingSystems",
            "relevance": 0.0027595912106335163
           },
           {
            "label": "Technology&Computing>Computing>DataStorageAndWarehousing",
            "relevance": 0.0015135997673496604
           },
           {
            "label": "MusicAndAudio>AdultContemporaryMusic>UrbanACMusic",
            "relevance": 0.00034301128471270204
           },
           {
            "label": "Technology&Computing>ArtificialIntelligence",
            "relevance": 0.00027157735894434154
           }
          ],
          "sentences_idx_end": 81,
          "sentences_idx_start": 77,
          "text": "Functions allow you to encapsulate code and reuse it. If you really think about it, good coding is about making as many reusable bits as possible, and these functions are where that really begins. At this point, you have a pretty good understanding of the key building blocks of Python. You should now learn a bit more about how some of the basic data structures work. I recommend taking a deeper dive into lists, dictionaries as well as tuples.",
          "timestamp": {
           "end": 395014,
           "start": 374830
          }
         },
         {
          "labels": [
           {
            "label": "Technology&Computing>Computing>ComputerSoftwareAndApplications>Databases",
            "relevance": 0.7909570932388306
           },
           {
            "label": "Technology&Computing>Computing>DataStorageAndWarehousing",
            "relevance": 0.6804208755493164
           },
           {
            "label": "Technology&Computing>Computing>ProgrammingLanguages",
            "relevance": 0.3150685429573059
           },
           {
            "label": "Technology&Computing>Computing>ComputerSoftwareAndApplications",
            "relevance": 0.01716664247214794
           },
           {
            "label": "Technology&Computing>Computing",
            "relevance": 0.005575037561357021
           },
           {
            "label": "Technology&Computing>Computing>ComputerSoftwareAndApplications>OperatingSystems",
            "relevance": 0.0014938653912395239
           },
           {
            "label": "BusinessAndFinance>Business>BusinessI.T.",
            "relevance": 0.0011971901403740048
           },
           {
            "label": "Technology&Computing>Computing>Internet>WebDevelopment",
            "relevance": 0.0011068496387451887
           },
           {
            "label": "Technology&Computing>Computing>ComputerSoftwareAndApplications>DesktopPublishing",
            "relevance": 0.000895474455319345
           },
           {
            "label": "Technology&Computing>Computing>ComputerSoftwareAndApplications>3-DGraphics",
            "relevance": 0.0006196213071234524
           }
          ],
          "sentences_idx_end": 86,
          "sentences_idx_start": 82,
          "text": "This will set the foundation for much of your data work later on. Finally, you should start learning to work with libraries. So the most important ones for data are pandas, numpy, Scikitlearn and Matplotlib, and these give you additional tools to analyze, visualize and manipulate data. Pandas and Numpy also introduce some new data structures like arrays, series and data frames. So if you have an understanding of how the more basic data structures work in python, you should be able to pick these up relatively quickly.",
          "timestamp": {
           "end": 418786,
           "start": 395062
          }
         },
         {
          "labels": [
           {
            "label": "Technology&Computing>Computing>ProgrammingLanguages",
            "relevance": 0.9663451313972473
           },
           {
            "label": "Technology&Computing>Computing>ComputerSoftwareAndApplications>Databases",
            "relevance": 0.5794442296028137
           },
           {
            "label": "Technology&Computing>Computing>ComputerSoftwareAndApplications",
            "relevance": 0.49008211493492126
           },
           {
            "label": "Technology&Computing>Computing>DataStorageAndWarehousing",
            "relevance": 0.20018403232097626
           },
           {
            "label": "Technology&Computing>Computing",
            "relevance": 0.07046212255954742
           },
           {
            "label": "Technology&Computing>Computing>Internet>WebDesignAndHTML",
            "relevance": 0.010236488655209541
           },
           {
            "label": "Technology&Computing>Computing>Internet>WebDevelopment",
            "relevance": 0.008388401940464973
           },
           {
            "label": "Technology&Computing>Computing>ComputerSoftwareAndApplications>OperatingSystems",
            "relevance": 0.007449377328157425
           },
           {
            "label": "BusinessAndFinance>Business>BusinessI.T.",
            "relevance": 0.0044689057394862175
           },
           {
            "label": "Technology&Computing>Computing>ComputerSoftwareAndApplications>DesktopPublishing",
            "relevance": 0.0009104034979827702
           }
          ],
          "sentences_idx_end": 91,
          "sentences_idx_start": 87,
          "text": "And that's it. With those seven things, you have the basics of coding that you'll need for starting to work with data. If you're watching this and you're a software engineer, you probably think I left something important out. What I've purposely omitted from this list is an explanation of classes. So classes are the foundation of object oriented programming, and objectoriented programming is a programming model that organizes code around objects rather than functions or logic.",
          "timestamp": {
           "end": 441246,
           "start": 418888
          }
         },
         {
          "labels": [
           {
            "label": "Technology&Computing>Computing>DataStorageAndWarehousing",
            "relevance": 0.5907698273658752
           },
           {
            "label": "Technology&Computing>Computing>ProgrammingLanguages",
            "relevance": 0.582816481590271
           },
           {
            "label": "Technology&Computing>Computing>ComputerSoftwareAndApplications>Databases",
            "relevance": 0.4904177784919739
           },
           {
            "label": "Technology&Computing>Computing>ComputerSoftwareAndApplications",
            "relevance": 0.01827937550842762
           },
           {
            "label": "Technology&Computing>Computing",
            "relevance": 0.004694841336458921
           },
           {
            "label": "BusinessAndFinance>Business>BusinessI.T.",
            "relevance": 0.0023307243827730417
           },
           {
            "label": "Technology&Computing>Computing>Internet>WebDevelopment",
            "relevance": 0.0011112710926681757
           },
           {
            "label": "Technology&Computing>Computing>ComputerSoftwareAndApplications>OperatingSystems",
            "relevance": 0.0005917574162594974
           },
           {
            "label": "Technology&Computing>Computing>Internet>WebDesignAndHTML",
            "relevance": 0.000459831120679155
           },
           {
            "label": "Technology&Computing>Computing>ComputerSoftwareAndApplications>DesktopPublishing",
            "relevance": 0.00038822300848551095
           }
          ],
          "sentences_idx_end": 94,
          "sentences_idx_start": 92,
          "text": "Object oriented programming is incredibly powerful, but honestly, it isn't very relevant for the beginner stages of working with data. It is something you should absolutely explore on your own after you've learned these other concepts well in the description, I've linked a few great resources for learning all of the concepts, including the exact one from Freecodecamp that I gave my friend. Most of them are completely free, but I have also included my discount link for the course on 365 data science.",
          "timestamp": {
           "end": 465450,
           "start": 441378
          }
         },
         {
          "labels": [
           {
            "label": "Education>OnlineEducation",
            "relevance": 0.23491887748241425
           },
           {
            "label": "Technology&Computing>Computing>DataStorageAndWarehousing",
            "relevance": 0.034693606197834015
           },
           {
            "label": "Education>EducationalAssessment",
            "relevance": 0.01762247644364834
           },
           {
            "label": "Education>HomeworkAndStudy",
            "relevance": 0.011200976558029652
           },
           {
            "label": "Technology&Computing>Computing>ComputerSoftwareAndApplications",
            "relevance": 0.0032357987947762012
           },
           {
            "label": "Hobbies&Interests>ContentProduction",
            "relevance": 0.0020145338494330645
           },
           {
            "label": "Technology&Computing>Computing>Internet>WebDevelopment",
            "relevance": 0.001188928261399269
           },
           {
            "label": "BusinessAndFinance>Business>BusinessI.T.",
            "relevance": 0.0010938893537968397
           },
           {
            "label": "Technology&Computing>Computing>ProgrammingLanguages",
            "relevance": 0.0010925499955192208
           },
           {
            "label": "Technology&Computing>Computing>ComputerSoftwareAndApplications>Databases",
            "relevance": 0.0010756555711850524
           }
          ],
          "sentences_idx_end": 97,
          "sentences_idx_start": 95,
          "text": "So if you're looking for a resource just to take you past the more basic coding and more towards tangible data science skills, I would recommend checking that out. One thing that I love about many of the courses that I've linked is that they have these little mini projects baked into the coursework. I think project based learning is the single most effective way to learn technical concepts.",
          "timestamp": {
           "end": 483378,
           "start": 465530
          }
         },
         {
          "labels": [
           {
            "label": "Technology&Computing>Computing>ProgrammingLanguages",
            "relevance": 0.147205650806427
           },
           {
            "label": "Sports>MartialArts",
            "relevance": 0.09721678495407104
           },
           {
            "label": "Sports>Boxing",
            "relevance": 0.00850495882332325
           },
           {
            "label": "Technology&Computing>Computing>ComputerSoftwareAndApplications",
            "relevance": 0.005727728828787804
           },
           {
            "label": "Technology&Computing>Computing",
            "relevance": 0.0049734460189938545
           },
           {
            "label": "Technology&Computing>Computing>Internet>WebDevelopment",
            "relevance": 0.0036556634586304426
           },
           {
            "label": "Technology&Computing>Computing>Internet>WebDesignAndHTML",
            "relevance": 0.0013736586552113295
           },
           {
            "label": "Technology&Computing>Computing>ComputerSoftwareAndApplications>ComputerAnimation",
            "relevance": 0.0010331779485568404
           },
           {
            "label": "Technology&Computing>ArtificialIntelligence",
            "relevance": 0.0010024160146713257
           },
           {
            "label": "Education>OnlineEducation",
            "relevance": 0.0009589019464328885
           }
          ],
          "sentences_idx_end": 101,
          "sentences_idx_start": 98,
          "text": "After first getting a basic foundation, I highly encourage you to think about how you can use code to build things that would be useful to you. So for my friend, the first project I'm having him do is create a jujitsu drill randomizer using python. So for training anything, it's important to reinforce your skills, but it can get boring. Working on the same basic drills every day.",
          "timestamp": {
           "end": 503642,
           "start": 483474
          }
         },
         {
          "labels": [
           {
            "label": "Sports>MartialArts",
            "relevance": 0.6498541235923767
           },
           {
            "label": "Sports>Boxing",
            "relevance": 0.020716175436973572
           },
           {
            "label": "Education>OnlineEducation",
            "relevance": 0.0007742712623439729
           },
           {
            "label": "Sports>Wrestling",
            "relevance": 0.0006746866856701672
           },
           {
            "label": "Religion&Spirituality>Buddhism",
            "relevance": 0.0006403712905012071
           },
           {
            "label": "Movies>ActionAndAdventureMovies",
            "relevance": 0.0005492990603670478
           },
           {
            "label": "Education>EducationalAssessment",
            "relevance": 0.00045087115722708404
           },
           {
            "label": "Sports>Weightlifting",
            "relevance": 0.000404265068937093
           },
           {
            "label": "Technology&Computing>Computing>ComputerSoftwareAndApplications",
            "relevance": 0.00037826068000867963
           },
           {
            "label": "Automotive>AutoType>ConceptCars",
            "relevance": 0.0003751947660930455
           }
          ],
          "sentences_idx_end": 104,
          "sentences_idx_start": 102,
          "text": "I'm having him make a program that essentially randomly selects two to three drills that we should work on during our sessions from a larger list. This is a simple project, but it's something that's directly relevant and useful to our work and our jujitsu training. With that in mind, I'd love for you to comment below with a Python project that you'd like to do, and we'll all hold each other accountable.",
          "timestamp": {
           "end": 521886,
           "start": 503696
          }
         },
         {
          "labels": [
           {
            "label": "Technology&Computing>Computing>DataStorageAndWarehousing",
            "relevance": 0.6545349955558777
           },
           {
            "label": "Technology&Computing>Computing>ComputerSoftwareAndApplications>Databases",
            "relevance": 0.20687167346477509
           },
           {
            "label": "Technology&Computing>Computing>ComputerSoftwareAndApplications",
            "relevance": 0.0022918283939361572
           },
           {
            "label": "Technology&Computing>Computing>Internet>CloudComputing",
            "relevance": 0.0010944308014586568
           },
           {
            "label": "Technology&Computing>Computing>ProgrammingLanguages",
            "relevance": 0.0009467724594287574
           },
           {
            "label": "Technology&Computing>Computing>Internet>WebDevelopment",
            "relevance": 0.0001974160404643044
           },
           {
            "label": "BusinessAndFinance>Business>Sales",
            "relevance": 0.0001928860874613747
           },
           {
            "label": "BusinessAndFinance>Business>Logistics",
            "relevance": 0.00016761469305492938
           },
           {
            "label": "BusinessAndFinance>Business>BusinessI.T.",
            "relevance": 0.00015592807903885841
           },
           {
            "label": "MedicalHealth>MedicalTests",
            "relevance": 0.0001551021123304963
           }
          ],
          "sentences_idx_end": 108,
          "sentences_idx_start": 105,
          "text": "Okay, so now that you've learned the basics of Python, now what? If you're interested in learning more about data, I highly recommend that you do a data related project. The single best place for this is kaggle.com, which I've mentioned before. If that's a bit too intimidating, you can follow along on one of the projects that I've done, or one of the thousands of projects that other people have worked on on the Kaggle platform.",
          "timestamp": {
           "end": 542074,
           "start": 521998
          }
         },
         {
          "labels": [
           {
            "label": "Technology&Computing>Computing>ComputerSoftwareAndApplications>DesktopPublishing",
            "relevance": 0.14294351637363434
           },
           {
            "label": "FineArt>Design",
            "relevance": 0.0668281838297844
           },
           {
            "label": "Technology&Computing>Computing>ProgrammingLanguages",
            "relevance": 0.014373666606843472
           },
           {
            "label": "Technology&Computing>Computing>Internet>WebDesignAndHTML",
            "relevance": 0.005827651359140873
           },
           {
            "label": "Hobbies&Interests>ArtsAndCrafts>DrawingAndSketching",
            "relevance": 0.004941177554428577
           },
           {
            "label": "Hobbies&Interests>ArtsAndCrafts>Scrapbooking",
            "relevance": 0.0025339890271425247
           },
           {
            "label": "Technology&Computing>Computing>Internet>WebDevelopment",
            "relevance": 0.0018327744910493493
           },
           {
            "label": "BusinessAndFinance>Business>BusinessI.T.",
            "relevance": 0.001509757130406797
           },
           {
            "label": "Technology&Computing>Computing>ComputerSoftwareAndApplications",
            "relevance": 0.0012856831308454275
           },
           {
            "label": "Technology&Computing>Computing>DataStorageAndWarehousing",
            "relevance": 0.0011314458679407835
           }
          ],
          "sentences_idx_end": 113,
          "sentences_idx_start": 109,
          "text": "Realistically, many people lose steam at this step. They go through and see the great work that other people have done, and they get discouraged again. Honestly, I remember feeling this too. What I recommend doing is going through some of the basic notebooks, like the Titanic data set, and just copying the code, running it on your own computer line by line. Many people think that this is cheating, but it's actually a great way to learn.",
          "timestamp": {
           "end": 563198,
           "start": 542192
          }
         },
         {
          "labels": [
           {
            "label": "Technology&Computing>Computing>Internet>WebDevelopment",
            "relevance": 0.036748725920915604
           },
           {
            "label": "Technology&Computing>Computing>ComputerSoftwareAndApplications>DesktopPublishing",
            "relevance": 0.017390912398695946
           },
           {
            "label": "Technology&Computing>Computing>Internet>WebDesignAndHTML",
            "relevance": 0.01397531758993864
           },
           {
            "label": "Technology&Computing>Computing>ComputerSoftwareAndApplications>WebConferencing",
            "relevance": 0.00372919999063015
           },
           {
            "label": "Technology&Computing>Computing>ProgrammingLanguages",
            "relevance": 0.0019429611274972558
           },
           {
            "label": "Technology&Computing>Computing>Internet>WebHosting",
            "relevance": 0.0014298277674242854
           },
           {
            "label": "FineArt>Design",
            "relevance": 0.001124251284636557
           },
           {
            "label": "Technology&Computing>Computing>ComputerSoftwareAndApplications",
            "relevance": 0.0011127876350656152
           },
           {
            "label": "Education>OnlineEducation",
            "relevance": 0.0007978148641996086
           },
           {
            "label": "Technology&Computing>Computing>DataStorageAndWarehousing",
            "relevance": 0.00048690938274376094
           }
          ],
          "sentences_idx_end": 118,
          "sentences_idx_start": 114,
          "text": "Even better, when you run it, make some changes to the code and see what happens. Maybe you should try changing like the colors on a graph from blue to red, or try to make a line thicker on one of the graphs. Just simple things like that help you iterate and improve. So remember when we talked about ides earlier and I'd mentioned Jupyter notebook? Kaggle uses something similar to that that lets you work online.",
          "timestamp": {
           "end": 582486,
           "start": 563284
          }
         },
         {
          "labels": [
           {
            "label": "Technology&Computing>Computing>DataStorageAndWarehousing",
            "relevance": 0.3761436343193054
           },
           {
            "label": "Technology&Computing>Computing>ComputerSoftwareAndApplications>Databases",
            "relevance": 0.04173927754163742
           },
           {
            "label": "Technology&Computing>Computing>Internet>CloudComputing",
            "relevance": 0.009571782313287258
           },
           {
            "label": "Technology&Computing>Computing>ComputerSoftwareAndApplications",
            "relevance": 0.0011558843543753028
           },
           {
            "label": "Technology&Computing>Computing",
            "relevance": 0.00032183455186896026
           },
           {
            "label": "Technology&Computing>Robotics",
            "relevance": 0.00021337303041946143
           },
           {
            "label": "Technology&Computing>Computing>ComputerSoftwareAndApplications>AntivirusSoftware",
            "relevance": 0.00018814603390637785
           },
           {
            "label": "Technology&Computing>Computing>ProgrammingLanguages",
            "relevance": 0.00016409858653787524
           },
           {
            "label": "BusinessAndFinance>Business>BusinessI.T.",
            "relevance": 0.00015582730702590197
           },
           {
            "label": "BusinessAndFinance>Business>Logistics",
            "relevance": 0.00011949483450734988
           }
          ],
          "sentences_idx_end": 123,
          "sentences_idx_start": 119,
          "text": "This is great and free compute power if you have limited resources at home. So if you want to work with data on your laptop or desktop, I recommend downloading anaconda. Anaconda is a software package that lumps together all of the relevant Python libraries and ides for data science in one go. So you can check out my video for how to install it, which I've linked above and in the description. Finally, I have three tips to send you on your way.",
          "timestamp": {
           "end": 604830,
           "start": 582588
          }
         },
         {
          "labels": [
           {
            "label": "Technology&Computing>Computing>Internet>Search",
            "relevance": 0.5409876704216003
           },
           {
            "label": "Technology&Computing>Computing>Internet>WebDevelopment",
            "relevance": 0.2106786072254181
           },
           {
            "label": "Technology&Computing>Computing>ProgrammingLanguages",
            "relevance": 0.11149951815605164
           },
           {
            "label": "Technology&Computing>Computing>Internet>WebDesignAndHTML",
            "relevance": 0.044922035187482834
           },
           {
            "label": "Technology&Computing>Computing>ComputerSoftwareAndApplications",
            "relevance": 0.031129905954003334
           },
           {
            "label": "Technology&Computing>Computing",
            "relevance": 0.009997544810175896
           },
           {
            "label": "Technology&Computing>Computing>DataStorageAndWarehousing",
            "relevance": 0.009238173253834248
           },
           {
            "label": "Technology&Computing>Computing>Internet>ITAndInternetSupport",
            "relevance": 0.008964811451733112
           },
           {
            "label": "Hobbies&Interests>ContentProduction",
            "relevance": 0.0052177561447024345
           },
           {
            "label": "Technology&Computing>Computing>ComputerSoftwareAndApplications>Databases",
            "relevance": 0.005125697702169418
           }
          ],
          "sentences_idx_end": 126,
          "sentences_idx_start": 124,
          "text": "These are probably the most important things that a new coder can learn, so the first one is to use Google and stack overflow. If you have a question, it's almost guaranteed that someone has asked it before. On the Internet, getting good at finding answers on your own via search might be the single most important skill of a data scientist or a software engineer that they use every single day.",
          "timestamp": {
           "end": 624930,
           "start": 604900
          }
         },
         {
          "labels": [
           {
            "label": "Technology&Computing>Computing>ProgrammingLanguages",
            "relevance": 0.43111172318458557
           },
           {
            "label": "Technology&Computing>Computing>Internet>WebDevelopment",
            "relevance": 0.005849916487932205
           },
           {
            "label": "Technology&Computing>Computing>ComputerSoftwareAndApplications",
            "relevance": 0.003623036667704582
           },
           {
            "label": "Technology&Computing>Computing>Internet>WebDesignAndHTML",
            "relevance": 0.002039309125393629
           },
           {
            "label": "Technology&Computing>Computing",
            "relevance": 0.0009498838917352259
           },
           {
            "label": "Technology&Computing>Computing>ComputerSoftwareAndApplications>SharewareAndFreeware",
            "relevance": 0.0003561422636266798
           },
           {
            "label": "FineArt>Design",
            "relevance": 0.0003329849860165268
           },
           {
            "label": "Technology&Computing>ArtificialIntelligence",
            "relevance": 0.0002463584823999554
           },
           {
            "label": "Technology&Computing>Computing>ComputerSoftwareAndApplications>OperatingSystems",
            "relevance": 0.00024013702932279557
           },
           {
            "label": "Technology&Computing>Computing>ComputerSoftwareAndApplications>DesktopPublishing",
            "relevance": 0.00015998465823940933
           }
          ],
          "sentences_idx_end": 133,
          "sentences_idx_start": 127,
          "text": "The second is to use errors so your code will not run, it'll break, and you'll be sad. Don't just wallow in yourself pity. Read the error messages. They'll tell you something about what's wrong. Also, Google the errors and this will save you a lot of time and headache. Finally, the third thing is to take it easy on yourself. The only people that can't code are the ones that never try or the ones that quit too early.",
          "timestamp": {
           "end": 643750,
           "start": 625000
          }
         },
         {
          "labels": [
           {
            "label": "Technology&Computing>Computing>DataStorageAndWarehousing",
            "relevance": 0.9213890433311462
           },
           {
            "label": "Technology&Computing>Computing>ComputerSoftwareAndApplications>Databases",
            "relevance": 0.2816152572631836
           },
           {
            "label": "BusinessAndFinance>Business>BusinessI.T.",
            "relevance": 0.004233852494508028
           },
           {
            "label": "Technology&Computing>Computing>Internet>CloudComputing",
            "relevance": 0.0012842653086408973
           },
           {
            "label": "Technology&Computing>Computing>ProgrammingLanguages",
            "relevance": 0.0011692328844219446
           },
           {
            "label": "Technology&Computing>Computing>InformationAndNetworkSecurity",
            "relevance": 0.0007098803762346506
           },
           {
            "label": "Technology&Computing>Computing>Internet>ITAndInternetSupport",
            "relevance": 0.0004870024567935616
           },
           {
            "label": "Hobbies&Interests>ContentProduction",
            "relevance": 0.00047819261089898646
           },
           {
            "label": "Technology&Computing>Computing",
            "relevance": 0.0003714571357704699
           },
           {
            "label": "Science",
            "relevance": 0.00036234056460671127
           }
          ],
          "sentences_idx_end": 135,
          "sentences_idx_start": 134,
          "text": "Thank you all so much for watching, and good luck on your data science and coding journey. You.",
          "timestamp": {
           "end": 650360,
           "start": 643900
          }
         }
        ],
        "status": "success",
        "summary": {
         "BusinessAndFinance>Business>BusinessI.T.": 0.002215626882389188,
         "Education>EducationalAssessment": 0.0014991421485319734,
         "Education>HomeworkAndStudy": 0.0010459170443937182,
         "Education>OnlineEducation": 0.017056217417120934,
         "FineArt>Design": 0.0065994467586278915,
         "Sports>Boxing": 0.0025336400140076876,
         "Sports>MartialArts": 0.06107913330197334,
         "Technology&Computing>Computing": 0.06698773801326752,
         "Technology&Computing>Computing>ComputerSoftwareAndApplications": 0.12466546148061752,
         "Technology&Computing>Computing>ComputerSoftwareAndApplications>Databases": 0.2567160129547119,
         "Technology&Computing>Computing>ComputerSoftwareAndApplications>DesktopPublishing": 0.03974597156047821,
         "Technology&Computing>Computing>ComputerSoftwareAndApplications>OperatingSystems": 0.004062023479491472,
         "Technology&Computing>Computing>ComputerSoftwareAndApplications>SharewareAndFreeware": 0.0007402345072478056,
         "Technology&Computing>Computing>DataStorageAndWarehousing": 0.33426037430763245,
         "Technology&Computing>Computing>Internet>CloudComputing": 0.0011143984738737345,
         "Technology&Computing>Computing>Internet>ITAndInternetSupport": 0.0009374086512252688,
         "Technology&Computing>Computing>Internet>Search": 0.03757109493017197,
         "Technology&Computing>Computing>Internet>WebDesignAndHTML": 0.01895025558769703,
         "Technology&Computing>Computing>Internet>WebDevelopment": 0.0574243888258934,
         "Technology&Computing>Computing>ProgrammingLanguages": 1
        }
       },
       "id": "3280590c-f50b-4b39-88b6-1e28690e10ca",
       "language_code": "en_us",
       "language_detection": false,
       "language_model": "assemblyai_default",
       "punctuate": true,
       "redact_pii": false,
       "redact_pii_audio": false,
       "redact_pii_audio_quality": null,
       "redact_pii_policies": null,
       "redact_pii_sub": null,
       "sentiment_analysis": true,
       "sentiment_analysis_results": [
        {
         "confidence": 0.9854362607002258,
         "end": 2078,
         "sentiment": "POSITIVE",
         "speaker": null,
         "start": 250,
         "text": "I recently got an amazing opportunity."
        },
        {
         "confidence": 0.5523803234100342,
         "end": 7262,
         "sentiment": "POSITIVE",
         "speaker": null,
         "start": 2244,
         "text": "I've been learning jujitsu and a friend offered to coach me in exchange for teaching him how to code."
        },
        {
         "confidence": 0.9554275274276733,
         "end": 13294,
         "sentiment": "POSITIVE",
         "speaker": null,
         "start": 7396,
         "text": "At this point in my life where I'm trying to improve my jujitsu as quickly as possible, this was an incredible trade for me."
        },
        {
         "confidence": 0.8097227811813354,
         "end": 14282,
         "sentiment": "NEUTRAL",
         "speaker": null,
         "start": 13332,
         "text": "In my personal opinion."
        },
        {
         "confidence": 0.6529790163040161,
         "end": 18478,
         "sentiment": "NEUTRAL",
         "speaker": null,
         "start": 14346,
         "text": "I was all for it until I had to think about how I'd actually go about teaching someone how to code."
        },
        {
         "confidence": 0.8387132883071899,
         "end": 22702,
         "sentiment": "NEGATIVE",
         "speaker": null,
         "start": 18564,
         "text": "Starting from nothing, I quickly realized that this was going to be a lot harder than I thought."
        },
        {
         "confidence": 0.6135286688804626,
         "end": 26262,
         "sentiment": "NEUTRAL",
         "speaker": null,
         "start": 22836,
         "text": "After all, it's been almost ten years since I wrote my very first line of code."
        },
        {
         "confidence": 0.5590706467628479,
         "end": 27542,
         "sentiment": "NEUTRAL",
         "speaker": null,
         "start": 26316,
         "text": "That's a pretty long time."
        },
        {
         "confidence": 0.7175085544586182,
         "end": 34002,
         "sentiment": "NEUTRAL",
         "speaker": null,
         "start": 27596,
         "text": "Now, this video is about the very specific and detailed plan that I wrote for my friend to teach me the basics of coding for data science."
        },
        {
         "confidence": 0.8149691820144653,
         "end": 37942,
         "sentiment": "NEUTRAL",
         "speaker": null,
         "start": 34066,
         "text": "Since I did all the work for him, I figured I might as well share the details with you as well here."
        },
        {
         "confidence": 0.9371036291122437,
         "end": 43430,
         "sentiment": "POSITIVE",
         "speaker": null,
         "start": 37996,
         "text": "There have been plenty of other great videos similar to this about how to start coding, and I've linked many of them in the description."
        },
        {
         "confidence": 0.6514154076576233,
         "end": 51210,
         "sentiment": "POSITIVE",
         "speaker": null,
         "start": 43510,
         "text": "Again, those are great, but I think this is a bit different because it's more focused on coding for data and it uses a very specific real world case study."
        },
        {
         "confidence": 0.8862338066101074,
         "end": 57710,
         "sentiment": "POSITIVE",
         "speaker": null,
         "start": 51360,
         "text": "At the end, I also highlight the three most important things a new programmer should know, so you definitely want to stick around for that."
        },
        {
         "confidence": 0.7321674823760986,
         "end": 60302,
         "sentiment": "NEUTRAL",
         "speaker": null,
         "start": 57780,
         "text": "Let's start with the language that we should start learning."
        },
        {
         "confidence": 0.5769912600517273,
         "end": 63850,
         "sentiment": "POSITIVE",
         "speaker": null,
         "start": 60436,
         "text": "I know if you're working with data, you generally have two good choices."
        },
        {
         "confidence": 0.7209726572036743,
         "end": 67838,
         "sentiment": "NEUTRAL",
         "speaker": null,
         "start": 63930,
         "text": "They would either start with Python or R. Let's quickly compare the two languages."
        },
        {
         "confidence": 0.5605792999267578,
         "end": 80306,
         "sentiment": "POSITIVE",
         "speaker": null,
         "start": 67934,
         "text": "Data science style when looking at the stack overflow developer survey, we find that about 48% of respondents use Python, while only about 5% use r. In industry, Python is a far more common language."
        },
        {
         "confidence": 0.5291598439216614,
         "end": 102518,
         "sentiment": "POSITIVE",
         "speaker": null,
         "start": 80418,
         "text": "Let's now look more specifically at data scientists, not just all stack overflow users who come from a variety of backgrounds on Kaggle, my favorite platform for data science learning and projects, we can see that around 84.2% of respondents use Python, while only 20.5% use r. Since these add up to more than 100%, we can assume that some data scientists are using both languages."
        },
        {
         "confidence": 0.7736465930938721,
         "end": 105198,
         "sentiment": "NEUTRAL",
         "speaker": null,
         "start": 102614,
         "text": "Finally, let's look at these two languages over time."
        },
        {
         "confidence": 0.7696421146392822,
         "end": 106158,
         "sentiment": "NEUTRAL",
         "speaker": null,
         "start": 105284,
         "text": "We can see here."
        },
        {
         "confidence": 0.6739528775215149,
         "end": 112106,
         "sentiment": "NEUTRAL",
         "speaker": null,
         "start": 106244,
         "text": "From 2020 to 2021, Python has gained an adoption, while R usage has seen some attrition."
        },
        {
         "confidence": 0.777092456817627,
         "end": 113594,
         "sentiment": "POSITIVE",
         "speaker": null,
         "start": 112218,
         "text": "To me, this is a no brainer."
        },
        {
         "confidence": 0.576751172542572,
         "end": 116254,
         "sentiment": "POSITIVE",
         "speaker": null,
         "start": 113642,
         "text": "I recommended my friend to start learning Python first."
        },
        {
         "confidence": 0.8895992636680603,
         "end": 118930,
         "sentiment": "POSITIVE",
         "speaker": null,
         "start": 116372,
         "text": "That language is more popular and it's continuing to grow."
        },
        {
         "confidence": 0.9060878157615662,
         "end": 125970,
         "sentiment": "POSITIVE",
         "speaker": null,
         "start": 119000,
         "text": "This isn't to say r is bad, it's just to say that I think Python is growing and will be a more valuable skill to have for the job market in general."
        },
        {
         "confidence": 0.7256346344947815,
         "end": 132854,
         "sentiment": "POSITIVE",
         "speaker": null,
         "start": 126040,
         "text": "I also personally find it a bit more intuitive and flexible than R. Now that we've chosen our language as Python, what coding skills should my friend learn first?"
        },
        {
         "confidence": 0.872519850730896,
         "end": 136050,
         "sentiment": "NEUTRAL",
         "speaker": null,
         "start": 132972,
         "text": "Should he focus on variables, logic functions, algorithms?"
        },
        {
         "confidence": 0.740774393081665,
         "end": 136834,
         "sentiment": "NEUTRAL",
         "speaker": null,
         "start": 136130,
         "text": "Classes?"
        },
        {
         "confidence": 0.5248250961303711,
         "end": 139590,
         "sentiment": "NEUTRAL",
         "speaker": null,
         "start": 136962,
         "text": "My mind was absolutely spinning when I first addressed this."
        },
        {
         "confidence": 0.6300905346870422,
         "end": 145082,
         "sentiment": "NEUTRAL",
         "speaker": null,
         "start": 139660,
         "text": "It took me a second, but I had this weird, chaotic flashback to my first days of learning programming myself."
        },
        {
         "confidence": 0.5659180879592896,
         "end": 148298,
         "sentiment": "NEGATIVE",
         "speaker": null,
         "start": 145216,
         "text": "I didn't even know where to start with getting Python on my own computer."
        },
        {
         "confidence": 0.9405953884124756,
         "end": 155774,
         "sentiment": "POSITIVE",
         "speaker": null,
         "start": 148384,
         "text": "I just now got excited about teaching the functional part of programming, and I completely forgot about the basics of setting up your environment for success."
        },
        {
         "confidence": 0.9399697780609131,
         "end": 162318,
         "sentiment": "POSITIVE",
         "speaker": null,
         "start": 155892,
         "text": "The next thing I did was give my friend some of my favorite resources on choosing an environment and getting the right version of Python on his computer."
        },
        {
         "confidence": 0.6098055243492126,
         "end": 163902,
         "sentiment": "NEUTRAL",
         "speaker": null,
         "start": 162404,
         "text": "Honestly, I was a bit torn on this too."
        },
        {
         "confidence": 0.8876975774765015,
         "end": 165854,
         "sentiment": "NEUTRAL",
         "speaker": null,
         "start": 163956,
         "text": "So, for example, what IDE should he use?"
        },
        {
         "confidence": 0.5142828822135925,
         "end": 167554,
         "sentiment": "NEGATIVE",
         "speaker": null,
         "start": 165892,
         "text": "Does he even know what IDE stands for?"
        },
        {
         "confidence": 0.6295292377471924,
         "end": 172366,
         "sentiment": "NEUTRAL",
         "speaker": null,
         "start": 167592,
         "text": "For those who don't know and who are new, IDE stands for integrated development environment."
        },
        {
         "confidence": 0.6926162838935852,
         "end": 175730,
         "sentiment": "NEUTRAL",
         "speaker": null,
         "start": 172478,
         "text": "So this is essentially just the text editor you use to write your code."
        },
        {
         "confidence": 0.6894965767860413,
         "end": 178914,
         "sentiment": "NEUTRAL",
         "speaker": null,
         "start": 175800,
         "text": "If you were writing an essay, you could choose to use Microsoft Word."
        },
        {
         "confidence": 0.73231041431427,
         "end": 186390,
         "sentiment": "NEUTRAL",
         "speaker": null,
         "start": 178952,
         "text": "You could use Google Docs, you could use notepad, or maybe even just straight up pen and paper, just like there are these different mediums for you to write your last minute paper."
        },
        {
         "confidence": 0.789734423160553,
         "end": 189814,
         "sentiment": "NEUTRAL",
         "speaker": null,
         "start": 186460,
         "text": "Data scientists and software engineers need places to write their code."
        },
        {
         "confidence": 0.6329329013824463,
         "end": 200298,
         "sentiment": "NEUTRAL",
         "speaker": null,
         "start": 189932,
         "text": "These places are called ides, and just like Microsoft Word has spell track and formatting to make sure that you don't make grammatical errors, many ides help you to make sure that you have proper syntax in your code."
        },
        {
         "confidence": 0.6072836518287659,
         "end": 207918,
         "sentiment": "NEGATIVE",
         "speaker": null,
         "start": 200384,
         "text": "In theory, technically Microsoft Word would be considered an IDE, but I definitely don't recommend using it as such unless you're Juma tech."
        },
        {
         "confidence": 0.7615877985954285,
         "end": 217198,
         "sentiment": "NEUTRAL",
         "speaker": null,
         "start": 208004,
         "text": "This is a list of the most commonly used ides in the data domain, and as you can see, common ides for Python are vs. Code, Jupyter, notebook, pycharm, and spider."
        },
        {
         "confidence": 0.788666307926178,
         "end": 223730,
         "sentiment": "NEUTRAL",
         "speaker": null,
         "start": 217374,
         "text": "Before anything else, I wanted to give him a decent understanding about how the development environments work before we picked one."
        },
        {
         "confidence": 0.799895703792572,
         "end": 227714,
         "sentiment": "NEGATIVE",
         "speaker": null,
         "start": 223800,
         "text": "As I mentioned, this is something that I was totally confused about when I started."
        },
        {
         "confidence": 0.809055745601654,
         "end": 232002,
         "sentiment": "NEUTRAL",
         "speaker": null,
         "start": 227832,
         "text": "When I learned to code, I was using Python and I was using an ide called idle."
        },
        {
         "confidence": 0.4276900887489319,
         "end": 239318,
         "sentiment": "NEUTRAL",
         "speaker": null,
         "start": 232066,
         "text": "So idle was great for learning, but I've literally never once touched it since, and I don't use it on any data projects in any of my work."
        },
        {
         "confidence": 0.8118054866790771,
         "end": 246250,
         "sentiment": "NEUTRAL",
         "speaker": null,
         "start": 239404,
         "text": "I wanted to make sure that my friend was using something that would be representative of what he might see in the real world, what people actually use."
        },
        {
         "confidence": 0.5088302493095398,
         "end": 251014,
         "sentiment": "POSITIVE",
         "speaker": null,
         "start": 246320,
         "text": "For this specific friend, I recommended that he start learning the basics with this video from Freecodecamp."
        },
        {
         "confidence": 0.8468848466873169,
         "end": 253446,
         "sentiment": "NEUTRAL",
         "speaker": null,
         "start": 251062,
         "text": "I've linked it and all other resources in the description."
        },
        {
         "confidence": 0.5269003510475159,
         "end": 257374,
         "sentiment": "NEUTRAL",
         "speaker": null,
         "start": 253558,
         "text": "So in the video they show you how to set up the Pycharm environment and get comfortable using that."
        },
        {
         "confidence": 0.9387415647506714,
         "end": 263438,
         "sentiment": "POSITIVE",
         "speaker": null,
         "start": 257412,
         "text": "I think Pycharm is solid, and if you get familiar with that, you can easily pick up the s code, Jupyter notebook or Spyder pretty quickly."
        },
        {
         "confidence": 0.5316751003265381,
         "end": 266818,
         "sentiment": "NEGATIVE",
         "speaker": null,
         "start": 263524,
         "text": "Truthfully, I don't think that the ide that you start with really matters that much."
        },
        {
         "confidence": 0.5348007082939148,
         "end": 272402,
         "sentiment": "NEUTRAL",
         "speaker": null,
         "start": 266904,
         "text": "What's more important is that you're using one that people who actually write Python code into production are using."
        },
        {
         "confidence": 0.7784150242805481,
         "end": 274782,
         "sentiment": "NEUTRAL",
         "speaker": null,
         "start": 272536,
         "text": "Okay, now on to the coding basics."
        },
        {
         "confidence": 0.9154172539710999,
         "end": 279158,
         "sentiment": "POSITIVE",
         "speaker": null,
         "start": 274926,
         "text": "Surprisingly, I think this might be one of the simplest parts of this entire process."
        },
        {
         "confidence": 0.6738186478614807,
         "end": 283414,
         "sentiment": "NEGATIVE",
         "speaker": null,
         "start": 279324,
         "text": "You see, there's a common misconception that coding is trying to trick you."
        },
        {
         "confidence": 0.7850431799888611,
         "end": 288050,
         "sentiment": "NEGATIVE",
         "speaker": null,
         "start": 283452,
         "text": "There's this conspiracy that learning to code is supposed to be really hard and very scary."
        },
        {
         "confidence": 0.5571187734603882,
         "end": 290450,
         "sentiment": "NEUTRAL",
         "speaker": null,
         "start": 288130,
         "text": "I would argue that it's almost the opposite."
        },
        {
         "confidence": 0.9132517576217651,
         "end": 296230,
         "sentiment": "POSITIVE",
         "speaker": null,
         "start": 290530,
         "text": "Coding languages, particularly Python, they're designed to be as easy to use as possible while creating good results."
        },
        {
         "confidence": 0.9270672798156738,
         "end": 301862,
         "sentiment": "POSITIVE",
         "speaker": null,
         "start": 296310,
         "text": "So if you change your perspective to look at them as intuitive, coding becomes significantly more fun and stressfree."
        },
        {
         "confidence": 0.6103911399841309,
         "end": 310446,
         "sentiment": "NEUTRAL",
         "speaker": null,
         "start": 301926,
         "text": "This isn't to say that you won't get stuck, it's just to say that when you do get stuck, there's almost always a logical reason for it and a logical solution to resolve your problems."
        },
        {
         "confidence": 0.693821370601654,
         "end": 315642,
         "sentiment": "NEUTRAL",
         "speaker": null,
         "start": 310548,
         "text": "Keeping with this theme of simplicity, at the most basic level, beginner coding can be broken down into seven concepts."
        },
        {
         "confidence": 0.5359083414077759,
         "end": 321922,
         "sentiment": "POSITIVE",
         "speaker": null,
         "start": 315706,
         "text": "All of the resources that I've linked in the description cover these topics, but I'm going to give you a very, very high level overview here."
        },
        {
         "confidence": 0.8381716012954712,
         "end": 323982,
         "sentiment": "NEUTRAL",
         "speaker": null,
         "start": 321976,
         "text": "The first one we start with is data types."
        },
        {
         "confidence": 0.6195663213729858,
         "end": 330450,
         "sentiment": "NEUTRAL",
         "speaker": null,
         "start": 324046,
         "text": "So in Python you can work with numbers, you can work with text, you can work with booleans, you can work with lists or a host of different data structures."
        },
        {
         "confidence": 0.509441077709198,
         "end": 337446,
         "sentiment": "NEUTRAL",
         "speaker": null,
         "start": 330530,
         "text": "It's important to get a good understanding or a fundamental understanding of these first next, I think it makes sense to get familiar with how variables work."
        },
        {
         "confidence": 0.8185991644859314,
         "end": 341766,
         "sentiment": "NEUTRAL",
         "speaker": null,
         "start": 337548,
         "text": "This can vary by language, so you need to make sure you know how to assign and change variables."
        },
        {
         "confidence": 0.7756569981575012,
         "end": 347194,
         "sentiment": "NEUTRAL",
         "speaker": null,
         "start": 341798,
         "text": "In Python, specifically, after variables, you should look into how logical operators work."
        },
        {
         "confidence": 0.9675305485725403,
         "end": 349430,
         "sentiment": "POSITIVE",
         "speaker": null,
         "start": 347232,
         "text": "These are very handy in your first few projects."
        },
        {
         "confidence": 0.7944656610488892,
         "end": 356158,
         "sentiment": "POSITIVE",
         "speaker": null,
         "start": 349510,
         "text": "If else statements are probably the most important one, but you can definitely find use cases for the others, especially if you're working with data."
        },
        {
         "confidence": 0.7248570322990417,
         "end": 358990,
         "sentiment": "NEUTRAL",
         "speaker": null,
         "start": 356244,
         "text": "The fourth thing you need to understand is how loops work."
        },
        {
         "confidence": 0.8757335543632507,
         "end": 364094,
         "sentiment": "POSITIVE",
         "speaker": null,
         "start": 359060,
         "text": "So one thing computers are really, really great at is doing a simple task over and over again."
        },
        {
         "confidence": 0.9045030474662781,
         "end": 368306,
         "sentiment": "POSITIVE",
         "speaker": null,
         "start": 364212,
         "text": "You'd be surprised at how useful these can be for your programming future."
        },
        {
         "confidence": 0.8589364886283875,
         "end": 370350,
         "sentiment": "NEUTRAL",
         "speaker": null,
         "start": 368408,
         "text": "After that, you should learn about functions."
        },
        {
         "confidence": 0.6612256765365601,
         "end": 374750,
         "sentiment": "NEUTRAL",
         "speaker": null,
         "start": 370430,
         "text": "So this sets the foundation for almost everything you do on your programming journey."
        },
        {
         "confidence": 0.6240290999412537,
         "end": 377586,
         "sentiment": "POSITIVE",
         "speaker": null,
         "start": 374830,
         "text": "Functions allow you to encapsulate code and reuse it."
        },
        {
         "confidence": 0.8003348708152771,
         "end": 384242,
         "sentiment": "POSITIVE",
         "speaker": null,
         "start": 377688,
         "text": "If you really think about it, good coding is about making as many reusable bits as possible, and these functions are where that really begins."
        },
        {
         "confidence": 0.8900540471076965,
         "end": 387698,
         "sentiment": "POSITIVE",
         "speaker": null,
         "start": 384306,
         "text": "At this point, you have a pretty good understanding of the key building blocks of Python."
        },
        {
         "confidence": 0.8500798940658569,
         "end": 391462,
         "sentiment": "NEUTRAL",
         "speaker": null,
         "start": 387794,
         "text": "You should now learn a bit more about how some of the basic data structures work."
        },
        {
         "confidence": 0.5115349292755127,
         "end": 395014,
         "sentiment": "POSITIVE",
         "speaker": null,
         "start": 391516,
         "text": "I recommend taking a deeper dive into lists, dictionaries as well as tuples."
        },
        {
         "confidence": 0.5031412243843079,
         "end": 397754,
         "sentiment": "NEUTRAL",
         "speaker": null,
         "start": 395062,
         "text": "This will set the foundation for much of your data work later on."
        },
        {
         "confidence": 0.5282405614852905,
         "end": 400438,
         "sentiment": "NEUTRAL",
         "speaker": null,
         "start": 397872,
         "text": "Finally, you should start learning to work with libraries."
        },
        {
         "confidence": 0.8620306253433228,
         "end": 408750,
         "sentiment": "POSITIVE",
         "speaker": null,
         "start": 400534,
         "text": "So the most important ones for data are pandas, numpy, Scikitlearn and Matplotlib, and these give you additional tools to analyze, visualize and manipulate data."
        },
        {
         "confidence": 0.822153627872467,
         "end": 412954,
         "sentiment": "NEUTRAL",
         "speaker": null,
         "start": 408820,
         "text": "Pandas and Numpy also introduce some new data structures like arrays, series and data frames."
        },
        {
         "confidence": 0.6096435785293579,
         "end": 418786,
         "sentiment": "POSITIVE",
         "speaker": null,
         "start": 413002,
         "text": "So if you have an understanding of how the more basic data structures work in python, you should be able to pick these up relatively quickly."
        },
        {
         "confidence": 0.5477844476699829,
         "end": 419522,
         "sentiment": "NEUTRAL",
         "speaker": null,
         "start": 418888,
         "text": "And that's it."
        },
        {
         "confidence": 0.8271486759185791,
         "end": 424210,
         "sentiment": "NEUTRAL",
         "speaker": null,
         "start": 419576,
         "text": "With those seven things, you have the basics of coding that you'll need for starting to work with data."
        },
        {
         "confidence": 0.47931233048439026,
         "end": 428102,
         "sentiment": "NEGATIVE",
         "speaker": null,
         "start": 424280,
         "text": "If you're watching this and you're a software engineer, you probably think I left something important out."
        },
        {
         "confidence": 0.513831615447998,
         "end": 431714,
         "sentiment": "NEUTRAL",
         "speaker": null,
         "start": 428156,
         "text": "What I've purposely omitted from this list is an explanation of classes."
        },
        {
         "confidence": 0.7696730494499207,
         "end": 441246,
         "sentiment": "NEUTRAL",
         "speaker": null,
         "start": 431762,
         "text": "So classes are the foundation of object oriented programming, and objectoriented programming is a programming model that organizes code around objects rather than functions or logic."
        },
        {
         "confidence": 0.4150903820991516,
         "end": 447498,
         "sentiment": "NEUTRAL",
         "speaker": null,
         "start": 441378,
         "text": "Object oriented programming is incredibly powerful, but honestly, it isn't very relevant for the beginner stages of working with data."
        },
        {
         "confidence": 0.949941098690033,
         "end": 459870,
         "sentiment": "POSITIVE",
         "speaker": null,
         "start": 447584,
         "text": "It is something you should absolutely explore on your own after you've learned these other concepts well in the description, I've linked a few great resources for learning all of the concepts, including the exact one from Freecodecamp that I gave my friend."
        },
        {
         "confidence": 0.7252283692359924,
         "end": 465450,
         "sentiment": "POSITIVE",
         "speaker": null,
         "start": 459940,
         "text": "Most of them are completely free, but I have also included my discount link for the course on 365 data science."
        },
        {
         "confidence": 0.7685678601264954,
         "end": 472802,
         "sentiment": "POSITIVE",
         "speaker": null,
         "start": 465530,
         "text": "So if you're looking for a resource just to take you past the more basic coding and more towards tangible data science skills, I would recommend checking that out."
        },
        {
         "confidence": 0.9802240133285522,
         "end": 478738,
         "sentiment": "POSITIVE",
         "speaker": null,
         "start": 472856,
         "text": "One thing that I love about many of the courses that I've linked is that they have these little mini projects baked into the coursework."
        },
        {
         "confidence": 0.9252229332923889,
         "end": 483378,
         "sentiment": "POSITIVE",
         "speaker": null,
         "start": 478834,
         "text": "I think project based learning is the single most effective way to learn technical concepts."
        },
        {
         "confidence": 0.8167121410369873,
         "end": 491770,
         "sentiment": "POSITIVE",
         "speaker": null,
         "start": 483474,
         "text": "After first getting a basic foundation, I highly encourage you to think about how you can use code to build things that would be useful to you."
        },
        {
         "confidence": 0.641726553440094,
         "end": 497558,
         "sentiment": "NEUTRAL",
         "speaker": null,
         "start": 491840,
         "text": "So for my friend, the first project I'm having him do is create a jujitsu drill randomizer using python."
        },
        {
         "confidence": 0.6008589863777161,
         "end": 501574,
         "sentiment": "NEGATIVE",
         "speaker": null,
         "start": 497654,
         "text": "So for training anything, it's important to reinforce your skills, but it can get boring."
        },
        {
         "confidence": 0.7692323327064514,
         "end": 503642,
         "sentiment": "NEUTRAL",
         "speaker": null,
         "start": 501622,
         "text": "Working on the same basic drills every day."
        },
        {
         "confidence": 0.9102046489715576,
         "end": 510638,
         "sentiment": "NEUTRAL",
         "speaker": null,
         "start": 503696,
         "text": "I'm having him make a program that essentially randomly selects two to three drills that we should work on during our sessions from a larger list."
        },
        {
         "confidence": 0.9276151061058044,
         "end": 515630,
         "sentiment": "POSITIVE",
         "speaker": null,
         "start": 510724,
         "text": "This is a simple project, but it's something that's directly relevant and useful to our work and our jujitsu training."
        },
        {
         "confidence": 0.8127702474594116,
         "end": 521886,
         "sentiment": "POSITIVE",
         "speaker": null,
         "start": 515700,
         "text": "With that in mind, I'd love for you to comment below with a Python project that you'd like to do, and we'll all hold each other accountable."
        },
        {
         "confidence": 0.7681722044944763,
         "end": 525154,
         "sentiment": "NEUTRAL",
         "speaker": null,
         "start": 521998,
         "text": "Okay, so now that you've learned the basics of Python, now what?"
        },
        {
         "confidence": 0.887665331363678,
         "end": 530390,
         "sentiment": "POSITIVE",
         "speaker": null,
         "start": 525272,
         "text": "If you're interested in learning more about data, I highly recommend that you do a data related project."
        },
        {
         "confidence": 0.9062290787696838,
         "end": 534198,
         "sentiment": "POSITIVE",
         "speaker": null,
         "start": 530540,
         "text": "The single best place for this is kaggle.com, which I've mentioned before."
        },
        {
         "confidence": 0.701015055179596,
         "end": 542074,
         "sentiment": "NEUTRAL",
         "speaker": null,
         "start": 534364,
         "text": "If that's a bit too intimidating, you can follow along on one of the projects that I've done, or one of the thousands of projects that other people have worked on on the Kaggle platform."
        },
        {
         "confidence": 0.6217605471611023,
         "end": 545194,
         "sentiment": "NEGATIVE",
         "speaker": null,
         "start": 542192,
         "text": "Realistically, many people lose steam at this step."
        },
        {
         "confidence": 0.4682561755180359,
         "end": 549162,
         "sentiment": "NEUTRAL",
         "speaker": null,
         "start": 545312,
         "text": "They go through and see the great work that other people have done, and they get discouraged again."
        },
        {
         "confidence": 0.7410768866539001,
         "end": 550922,
         "sentiment": "NEUTRAL",
         "speaker": null,
         "start": 549216,
         "text": "Honestly, I remember feeling this too."
        },
        {
         "confidence": 0.6975347995758057,
         "end": 559390,
         "sentiment": "NEUTRAL",
         "speaker": null,
         "start": 550976,
         "text": "What I recommend doing is going through some of the basic notebooks, like the Titanic data set, and just copying the code, running it on your own computer line by line."
        },
        {
         "confidence": 0.5282831192016602,
         "end": 563198,
         "sentiment": "POSITIVE",
         "speaker": null,
         "start": 559540,
         "text": "Many people think that this is cheating, but it's actually a great way to learn."
        },
        {
         "confidence": 0.7118681073188782,
         "end": 566974,
         "sentiment": "POSITIVE",
         "speaker": null,
         "start": 563284,
         "text": "Even better, when you run it, make some changes to the code and see what happens."
        },
        {
         "confidence": 0.8660709261894226,
         "end": 573534,
         "sentiment": "NEUTRAL",
         "speaker": null,
         "start": 567092,
         "text": "Maybe you should try changing like the colors on a graph from blue to red, or try to make a line thicker on one of the graphs."
        },
        {
         "confidence": 0.8813362717628479,
         "end": 576014,
         "sentiment": "POSITIVE",
         "speaker": null,
         "start": 573582,
         "text": "Just simple things like that help you iterate and improve."
        },
        {
         "confidence": 0.8662348389625549,
         "end": 579422,
         "sentiment": "NEUTRAL",
         "speaker": null,
         "start": 576062,
         "text": "So remember when we talked about ides earlier and I'd mentioned Jupyter notebook?"
        },
        {
         "confidence": 0.747973620891571,
         "end": 582486,
         "sentiment": "NEUTRAL",
         "speaker": null,
         "start": 579486,
         "text": "Kaggle uses something similar to that that lets you work online."
        },
        {
         "confidence": 0.9385425448417664,
         "end": 585974,
         "sentiment": "POSITIVE",
         "speaker": null,
         "start": 582588,
         "text": "This is great and free compute power if you have limited resources at home."
        },
        {
         "confidence": 0.6357753872871399,
         "end": 590674,
         "sentiment": "NEUTRAL",
         "speaker": null,
         "start": 586012,
         "text": "So if you want to work with data on your laptop or desktop, I recommend downloading anaconda."
        },
        {
         "confidence": 0.6042550206184387,
         "end": 597706,
         "sentiment": "NEUTRAL",
         "speaker": null,
         "start": 590722,
         "text": "Anaconda is a software package that lumps together all of the relevant Python libraries and ides for data science in one go."
        },
        {
         "confidence": 0.8528739213943481,
         "end": 602118,
         "sentiment": "NEUTRAL",
         "speaker": null,
         "start": 597808,
         "text": "So you can check out my video for how to install it, which I've linked above and in the description."
        },
        {
         "confidence": 0.603242814540863,
         "end": 604830,
         "sentiment": "NEUTRAL",
         "speaker": null,
         "start": 602214,
         "text": "Finally, I have three tips to send you on your way."
        },
        {
         "confidence": 0.8766450881958008,
         "end": 611386,
         "sentiment": "POSITIVE",
         "speaker": null,
         "start": 604900,
         "text": "These are probably the most important things that a new coder can learn, so the first one is to use Google and stack overflow."
        },
        {
         "confidence": 0.7775657773017883,
         "end": 615502,
         "sentiment": "NEUTRAL",
         "speaker": null,
         "start": 611498,
         "text": "If you have a question, it's almost guaranteed that someone has asked it before."
        },
        {
         "confidence": 0.8029618859291077,
         "end": 624930,
         "sentiment": "POSITIVE",
         "speaker": null,
         "start": 615556,
         "text": "On the Internet, getting good at finding answers on your own via search might be the single most important skill of a data scientist or a software engineer that they use every single day."
        },
        {
         "confidence": 0.9156535267829895,
         "end": 629182,
         "sentiment": "NEGATIVE",
         "speaker": null,
         "start": 625000,
         "text": "The second is to use errors so your code will not run, it'll break, and you'll be sad."
        },
        {
         "confidence": 0.6407561302185059,
         "end": 630818,
         "sentiment": "NEGATIVE",
         "speaker": null,
         "start": 629326,
         "text": "Don't just wallow in yourself pity."
        },
        {
         "confidence": 0.4900802671909332,
         "end": 632082,
         "sentiment": "NEGATIVE",
         "speaker": null,
         "start": 630914,
         "text": "Read the error messages."
        },
        {
         "confidence": 0.4985716640949249,
         "end": 633798,
         "sentiment": "NEUTRAL",
         "speaker": null,
         "start": 632146,
         "text": "They'll tell you something about what's wrong."
        },
        {
         "confidence": 0.5518122315406799,
         "end": 637042,
         "sentiment": "POSITIVE",
         "speaker": null,
         "start": 633884,
         "text": "Also, Google the errors and this will save you a lot of time and headache."
        },
        {
         "confidence": 0.5236702561378479,
         "end": 639414,
         "sentiment": "NEUTRAL",
         "speaker": null,
         "start": 637106,
         "text": "Finally, the third thing is to take it easy on yourself."
        },
        {
         "confidence": 0.9026545286178589,
         "end": 643750,
         "sentiment": "NEGATIVE",
         "speaker": null,
         "start": 639532,
         "text": "The only people that can't code are the ones that never try or the ones that quit too early."
        },
        {
         "confidence": 0.9869617223739624,
         "end": 647990,
         "sentiment": "POSITIVE",
         "speaker": null,
         "start": 643900,
         "text": "Thank you all so much for watching, and good luck on your data science and coding journey."
        },
        {
         "confidence": 0.5462568998336792,
         "end": 650360,
         "sentiment": "NEUTRAL",
         "speaker": null,
         "start": 649610,
         "text": "You."
        }
       ],
       "speaker_labels": false,
       "speakers_expected": null,
       "speech_model": null,
       "speech_threshold": null,
       "speed_boost": false,
       "status": "completed",
       "summarization": false,
       "summary": null,
       "summary_model": null,
       "summary_type": null,
       "text": "I recently got an amazing opportunity. I've been learning jujitsu and a friend offered to coach me in exchange for teaching him how to code. At this point in my life where I'm trying to improve my jujitsu as quickly as possible, this was an incredible trade for me. In my personal opinion. I was all for it until I had to think about how I'd actually go about teaching someone how to code. Starting from nothing, I quickly realized that this was going to be a lot harder than I thought. After all, it's been almost ten years since I wrote my very first line of code. That's a pretty long time. Now, this video is about the very specific and detailed plan that I wrote for my friend to teach me the basics of coding for data science. Since I did all the work for him, I figured I might as well share the details with you as well here. There have been plenty of other great videos similar to this about how to start coding, and I've linked many of them in the description. Again, those are great, but I think this is a bit different because it's more focused on coding for data and it uses a very specific real world case study. At the end, I also highlight the three most important things a new programmer should know, so you definitely want to stick around for that. Let's start with the language that we should start learning. I know if you're working with data, you generally have two good choices. They would either start with Python or R. Let's quickly compare the two languages. Data science style when looking at the stack overflow developer survey, we find that about 48% of respondents use Python, while only about 5% use r. In industry, Python is a far more common language. Let's now look more specifically at data scientists, not just all stack overflow users who come from a variety of backgrounds on Kaggle, my favorite platform for data science learning and projects, we can see that around 84.2% of respondents use Python, while only 20.5% use r. Since these add up to more than 100%, we can assume that some data scientists are using both languages. Finally, let's look at these two languages over time. We can see here. From 2020 to 2021, Python has gained an adoption, while R usage has seen some attrition. To me, this is a no brainer. I recommended my friend to start learning Python first. That language is more popular and it's continuing to grow. This isn't to say r is bad, it's just to say that I think Python is growing and will be a more valuable skill to have for the job market in general. I also personally find it a bit more intuitive and flexible than R. Now that we've chosen our language as Python, what coding skills should my friend learn first? Should he focus on variables, logic functions, algorithms? Classes? My mind was absolutely spinning when I first addressed this. It took me a second, but I had this weird, chaotic flashback to my first days of learning programming myself. I didn't even know where to start with getting Python on my own computer. I just now got excited about teaching the functional part of programming, and I completely forgot about the basics of setting up your environment for success. The next thing I did was give my friend some of my favorite resources on choosing an environment and getting the right version of Python on his computer. Honestly, I was a bit torn on this too. So, for example, what IDE should he use? Does he even know what IDE stands for? For those who don't know and who are new, IDE stands for integrated development environment. So this is essentially just the text editor you use to write your code. If you were writing an essay, you could choose to use Microsoft Word. You could use Google Docs, you could use notepad, or maybe even just straight up pen and paper, just like there are these different mediums for you to write your last minute paper. Data scientists and software engineers need places to write their code. These places are called ides, and just like Microsoft Word has spell track and formatting to make sure that you don't make grammatical errors, many ides help you to make sure that you have proper syntax in your code. In theory, technically Microsoft Word would be considered an IDE, but I definitely don't recommend using it as such unless you're Juma tech. This is a list of the most commonly used ides in the data domain, and as you can see, common ides for Python are vs. Code, Jupyter, notebook, pycharm, and spider. Before anything else, I wanted to give him a decent understanding about how the development environments work before we picked one. As I mentioned, this is something that I was totally confused about when I started. When I learned to code, I was using Python and I was using an ide called idle. So idle was great for learning, but I've literally never once touched it since, and I don't use it on any data projects in any of my work. I wanted to make sure that my friend was using something that would be representative of what he might see in the real world, what people actually use. For this specific friend, I recommended that he start learning the basics with this video from Freecodecamp. I've linked it and all other resources in the description. So in the video they show you how to set up the Pycharm environment and get comfortable using that. I think Pycharm is solid, and if you get familiar with that, you can easily pick up the s code, Jupyter notebook or Spyder pretty quickly. Truthfully, I don't think that the ide that you start with really matters that much. What's more important is that you're using one that people who actually write Python code into production are using. Okay, now on to the coding basics. Surprisingly, I think this might be one of the simplest parts of this entire process. You see, there's a common misconception that coding is trying to trick you. There's this conspiracy that learning to code is supposed to be really hard and very scary. I would argue that it's almost the opposite. Coding languages, particularly Python, they're designed to be as easy to use as possible while creating good results. So if you change your perspective to look at them as intuitive, coding becomes significantly more fun and stressfree. This isn't to say that you won't get stuck, it's just to say that when you do get stuck, there's almost always a logical reason for it and a logical solution to resolve your problems. Keeping with this theme of simplicity, at the most basic level, beginner coding can be broken down into seven concepts. All of the resources that I've linked in the description cover these topics, but I'm going to give you a very, very high level overview here. The first one we start with is data types. So in Python you can work with numbers, you can work with text, you can work with booleans, you can work with lists or a host of different data structures. It's important to get a good understanding or a fundamental understanding of these first next, I think it makes sense to get familiar with how variables work. This can vary by language, so you need to make sure you know how to assign and change variables. In Python, specifically, after variables, you should look into how logical operators work. These are very handy in your first few projects. If else statements are probably the most important one, but you can definitely find use cases for the others, especially if you're working with data. The fourth thing you need to understand is how loops work. So one thing computers are really, really great at is doing a simple task over and over again. You'd be surprised at how useful these can be for your programming future. After that, you should learn about functions. So this sets the foundation for almost everything you do on your programming journey. Functions allow you to encapsulate code and reuse it. If you really think about it, good coding is about making as many reusable bits as possible, and these functions are where that really begins. At this point, you have a pretty good understanding of the key building blocks of Python. You should now learn a bit more about how some of the basic data structures work. I recommend taking a deeper dive into lists, dictionaries as well as tuples. This will set the foundation for much of your data work later on. Finally, you should start learning to work with libraries. So the most important ones for data are pandas, numpy, Scikitlearn and Matplotlib, and these give you additional tools to analyze, visualize and manipulate data. Pandas and Numpy also introduce some new data structures like arrays, series and data frames. So if you have an understanding of how the more basic data structures work in python, you should be able to pick these up relatively quickly. And that's it. With those seven things, you have the basics of coding that you'll need for starting to work with data. If you're watching this and you're a software engineer, you probably think I left something important out. What I've purposely omitted from this list is an explanation of classes. So classes are the foundation of object oriented programming, and objectoriented programming is a programming model that organizes code around objects rather than functions or logic. Object oriented programming is incredibly powerful, but honestly, it isn't very relevant for the beginner stages of working with data. It is something you should absolutely explore on your own after you've learned these other concepts well in the description, I've linked a few great resources for learning all of the concepts, including the exact one from Freecodecamp that I gave my friend. Most of them are completely free, but I have also included my discount link for the course on 365 data science. So if you're looking for a resource just to take you past the more basic coding and more towards tangible data science skills, I would recommend checking that out. One thing that I love about many of the courses that I've linked is that they have these little mini projects baked into the coursework. I think project based learning is the single most effective way to learn technical concepts. After first getting a basic foundation, I highly encourage you to think about how you can use code to build things that would be useful to you. So for my friend, the first project I'm having him do is create a jujitsu drill randomizer using python. So for training anything, it's important to reinforce your skills, but it can get boring. Working on the same basic drills every day. I'm having him make a program that essentially randomly selects two to three drills that we should work on during our sessions from a larger list. This is a simple project, but it's something that's directly relevant and useful to our work and our jujitsu training. With that in mind, I'd love for you to comment below with a Python project that you'd like to do, and we'll all hold each other accountable. Okay, so now that you've learned the basics of Python, now what? If you're interested in learning more about data, I highly recommend that you do a data related project. The single best place for this is kaggle.com, which I've mentioned before. If that's a bit too intimidating, you can follow along on one of the projects that I've done, or one of the thousands of projects that other people have worked on on the Kaggle platform. Realistically, many people lose steam at this step. They go through and see the great work that other people have done, and they get discouraged again. Honestly, I remember feeling this too. What I recommend doing is going through some of the basic notebooks, like the Titanic data set, and just copying the code, running it on your own computer line by line. Many people think that this is cheating, but it's actually a great way to learn. Even better, when you run it, make some changes to the code and see what happens. Maybe you should try changing like the colors on a graph from blue to red, or try to make a line thicker on one of the graphs. Just simple things like that help you iterate and improve. So remember when we talked about ides earlier and I'd mentioned Jupyter notebook? Kaggle uses something similar to that that lets you work online. This is great and free compute power if you have limited resources at home. So if you want to work with data on your laptop or desktop, I recommend downloading anaconda. Anaconda is a software package that lumps together all of the relevant Python libraries and ides for data science in one go. So you can check out my video for how to install it, which I've linked above and in the description. Finally, I have three tips to send you on your way. These are probably the most important things that a new coder can learn, so the first one is to use Google and stack overflow. If you have a question, it's almost guaranteed that someone has asked it before. On the Internet, getting good at finding answers on your own via search might be the single most important skill of a data scientist or a software engineer that they use every single day. The second is to use errors so your code will not run, it'll break, and you'll be sad. Don't just wallow in yourself pity. Read the error messages. They'll tell you something about what's wrong. Also, Google the errors and this will save you a lot of time and headache. Finally, the third thing is to take it easy on yourself. The only people that can't code are the ones that never try or the ones that quit too early. Thank you all so much for watching, and good luck on your data science and coding journey. You.",
       "throttled": null,
       "topics": [],
       "utterances": null,
       "webhook_auth": false,
       "webhook_auth_header_name": null,
       "webhook_status_code": null,
       "webhook_url": null,
       "word_boost": [],
       "words": [
        {
         "confidence": 1,
         "end": 366,
         "speaker": null,
         "start": 250,
         "text": "I"
        },
        {
         "confidence": 0.99509,
         "end": 666,
         "speaker": null,
         "start": 388,
         "text": "recently"
        },
        {
         "confidence": 0.99998,
         "end": 894,
         "speaker": null,
         "start": 698,
         "text": "got"
        },
        {
         "confidence": 1,
         "end": 1086,
         "speaker": null,
         "start": 932,
         "text": "an"
        },
        {
         "confidence": 0.99999,
         "end": 1390,
         "speaker": null,
         "start": 1108,
         "text": "amazing"
        },
        {
         "confidence": 0.99998,
         "end": 2078,
         "speaker": null,
         "start": 1460,
         "text": "opportunity."
        },
        {
         "confidence": 0.98258,
         "end": 2538,
         "speaker": null,
         "start": 2244,
         "text": "I've"
        },
        {
         "confidence": 0.99932,
         "end": 2686,
         "speaker": null,
         "start": 2554,
         "text": "been"
        },
        {
         "confidence": 0.99998,
         "end": 2894,
         "speaker": null,
         "start": 2708,
         "text": "learning"
        },
        {
         "confidence": 0.62102,
         "end": 3514,
         "speaker": null,
         "start": 2932,
         "text": "jujitsu"
        },
        {
         "confidence": 1,
         "end": 3774,
         "speaker": null,
         "start": 3562,
         "text": "and"
        },
        {
         "confidence": 1,
         "end": 3918,
         "speaker": null,
         "start": 3812,
         "text": "a"
        },
        {
         "confidence": 0.99999,
         "end": 4142,
         "speaker": null,
         "start": 3924,
         "text": "friend"
        },
        {
         "confidence": 0.99714,
         "end": 4458,
         "speaker": null,
         "start": 4196,
         "text": "offered"
        },
        {
         "confidence": 0.96,
         "end": 4606,
         "speaker": null,
         "start": 4474,
         "text": "to"
        },
        {
         "confidence": 0.99997,
         "end": 4826,
         "speaker": null,
         "start": 4628,
         "text": "coach"
        },
        {
         "confidence": 0.99453,
         "end": 5102,
         "speaker": null,
         "start": 4858,
         "text": "me"
        },
        {
         "confidence": 0.85388,
         "end": 5374,
         "speaker": null,
         "start": 5156,
         "text": "in"
        },
        {
         "confidence": 0.99992,
         "end": 5786,
         "speaker": null,
         "start": 5412,
         "text": "exchange"
        },
        {
         "confidence": 1,
         "end": 5966,
         "speaker": null,
         "start": 5818,
         "text": "for"
        },
        {
         "confidence": 0.99996,
         "end": 6266,
         "speaker": null,
         "start": 5988,
         "text": "teaching"
        },
        {
         "confidence": 0.99993,
         "end": 6446,
         "speaker": null,
         "start": 6298,
         "text": "him"
        },
        {
         "confidence": 0.68595,
         "end": 6606,
         "speaker": null,
         "start": 6468,
         "text": "how"
        },
        {
         "confidence": 0.99,
         "end": 6766,
         "speaker": null,
         "start": 6628,
         "text": "to"
        },
        {
         "confidence": 0.99998,
         "end": 7262,
         "speaker": null,
         "start": 6788,
         "text": "code."
        },
        {
         "confidence": 0.59,
         "end": 7646,
         "speaker": null,
         "start": 7396,
         "text": "At"
        },
        {
         "confidence": 0.99999,
         "end": 7806,
         "speaker": null,
         "start": 7668,
         "text": "this"
        },
        {
         "confidence": 0.84,
         "end": 7966,
         "speaker": null,
         "start": 7828,
         "text": "point"
        },
        {
         "confidence": 0.99409,
         "end": 8126,
         "speaker": null,
         "start": 7988,
         "text": "in"
        },
        {
         "confidence": 0.99993,
         "end": 8238,
         "speaker": null,
         "start": 8148,
         "text": "my"
        },
        {
         "confidence": 0.99999,
         "end": 8462,
         "speaker": null,
         "start": 8244,
         "text": "life"
        },
        {
         "confidence": 0.99997,
         "end": 8686,
         "speaker": null,
         "start": 8516,
         "text": "where"
        },
        {
         "confidence": 0.99453,
         "end": 8846,
         "speaker": null,
         "start": 8708,
         "text": "I'm"
        },
        {
         "confidence": 0.99994,
         "end": 8958,
         "speaker": null,
         "start": 8868,
         "text": "trying"
        },
        {
         "confidence": 1,
         "end": 9038,
         "speaker": null,
         "start": 8964,
         "text": "to"
        },
        {
         "confidence": 0.37495,
         "end": 9306,
         "speaker": null,
         "start": 9044,
         "text": "improve"
        },
        {
         "confidence": 0.99999,
         "end": 9486,
         "speaker": null,
         "start": 9338,
         "text": "my"
        },
        {
         "confidence": 0.75666,
         "end": 10074,
         "speaker": null,
         "start": 9508,
         "text": "jujitsu"
        },
        {
         "confidence": 1,
         "end": 10286,
         "speaker": null,
         "start": 10122,
         "text": "as"
        },
        {
         "confidence": 0.99996,
         "end": 10494,
         "speaker": null,
         "start": 10308,
         "text": "quickly"
        },
        {
         "confidence": 0.94165,
         "end": 10734,
         "speaker": null,
         "start": 10532,
         "text": "as"
        },
        {
         "confidence": 0.99999,
         "end": 11262,
         "speaker": null,
         "start": 10772,
         "text": "possible,"
        },
        {
         "confidence": 0.99999,
         "end": 11694,
         "speaker": null,
         "start": 11396,
         "text": "this"
        },
        {
         "confidence": 0.99999,
         "end": 11934,
         "speaker": null,
         "start": 11732,
         "text": "was"
        },
        {
         "confidence": 1,
         "end": 12174,
         "speaker": null,
         "start": 11972,
         "text": "an"
        },
        {
         "confidence": 0.99966,
         "end": 12634,
         "speaker": null,
         "start": 12212,
         "text": "incredible"
        },
        {
         "confidence": 0.99966,
         "end": 12938,
         "speaker": null,
         "start": 12682,
         "text": "trade"
        },
        {
         "confidence": 0.99997,
         "end": 13086,
         "speaker": null,
         "start": 12954,
         "text": "for"
        },
        {
         "confidence": 0.99999,
         "end": 13294,
         "speaker": null,
         "start": 13108,
         "text": "me."
        },
        {
         "confidence": 1,
         "end": 13486,
         "speaker": null,
         "start": 13332,
         "text": "In"
        },
        {
         "confidence": 0.99998,
         "end": 13598,
         "speaker": null,
         "start": 13508,
         "text": "my"
        },
        {
         "confidence": 0.99997,
         "end": 13822,
         "speaker": null,
         "start": 13604,
         "text": "personal"
        },
        {
         "confidence": 0.91491,
         "end": 14282,
         "speaker": null,
         "start": 13876,
         "text": "opinion."
        },
        {
         "confidence": 1,
         "end": 14478,
         "speaker": null,
         "start": 14346,
         "text": "I"
        },
        {
         "confidence": 0.97113,
         "end": 14606,
         "speaker": null,
         "start": 14484,
         "text": "was"
        },
        {
         "confidence": 1,
         "end": 14766,
         "speaker": null,
         "start": 14628,
         "text": "all"
        },
        {
         "confidence": 0.99981,
         "end": 14926,
         "speaker": null,
         "start": 14788,
         "text": "for"
        },
        {
         "confidence": 0.99645,
         "end": 15086,
         "speaker": null,
         "start": 14948,
         "text": "it"
        },
        {
         "confidence": 0.99996,
         "end": 15342,
         "speaker": null,
         "start": 15108,
         "text": "until"
        },
        {
         "confidence": 1,
         "end": 15518,
         "speaker": null,
         "start": 15396,
         "text": "I"
        },
        {
         "confidence": 0.99994,
         "end": 15646,
         "speaker": null,
         "start": 15524,
         "text": "had"
        },
        {
         "confidence": 1,
         "end": 15758,
         "speaker": null,
         "start": 15668,
         "text": "to"
        },
        {
         "confidence": 0.99997,
         "end": 15886,
         "speaker": null,
         "start": 15764,
         "text": "think"
        },
        {
         "confidence": 1,
         "end": 16094,
         "speaker": null,
         "start": 15908,
         "text": "about"
        },
        {
         "confidence": 0.99999,
         "end": 16238,
         "speaker": null,
         "start": 16132,
         "text": "how"
        },
        {
         "confidence": 0.50075,
         "end": 16474,
         "speaker": null,
         "start": 16244,
         "text": "I'd"
        },
        {
         "confidence": 0.99997,
         "end": 16782,
         "speaker": null,
         "start": 16522,
         "text": "actually"
        },
        {
         "confidence": 1,
         "end": 17006,
         "speaker": null,
         "start": 16836,
         "text": "go"
        },
        {
         "confidence": 1,
         "end": 17262,
         "speaker": null,
         "start": 17028,
         "text": "about"
        },
        {
         "confidence": 0.99998,
         "end": 17578,
         "speaker": null,
         "start": 17316,
         "text": "teaching"
        },
        {
         "confidence": 0.99999,
         "end": 17822,
         "speaker": null,
         "start": 17594,
         "text": "someone"
        },
        {
         "confidence": 0.99994,
         "end": 18046,
         "speaker": null,
         "start": 17876,
         "text": "how"
        },
        {
         "confidence": 1,
         "end": 18158,
         "speaker": null,
         "start": 18068,
         "text": "to"
        },
        {
         "confidence": 0.98826,
         "end": 18478,
         "speaker": null,
         "start": 18164,
         "text": "code."
        },
        {
         "confidence": 0.91096,
         "end": 18862,
         "speaker": null,
         "start": 18564,
         "text": "Starting"
        },
        {
         "confidence": 1,
         "end": 19086,
         "speaker": null,
         "start": 18916,
         "text": "from"
        },
        {
         "confidence": 0.95464,
         "end": 19438,
         "speaker": null,
         "start": 19108,
         "text": "nothing,"
        },
        {
         "confidence": 1,
         "end": 19774,
         "speaker": null,
         "start": 19524,
         "text": "I"
        },
        {
         "confidence": 0.99999,
         "end": 20062,
         "speaker": null,
         "start": 19812,
         "text": "quickly"
        },
        {
         "confidence": 0.99988,
         "end": 20474,
         "speaker": null,
         "start": 20116,
         "text": "realized"
        },
        {
         "confidence": 0.99997,
         "end": 20686,
         "speaker": null,
         "start": 20522,
         "text": "that"
        },
        {
         "confidence": 0.99999,
         "end": 20846,
         "speaker": null,
         "start": 20708,
         "text": "this"
        },
        {
         "confidence": 0.99995,
         "end": 20958,
         "speaker": null,
         "start": 20868,
         "text": "was"
        },
        {
         "confidence": 0.52568,
         "end": 21038,
         "speaker": null,
         "start": 20964,
         "text": "going"
        },
        {
         "confidence": 0.99,
         "end": 21118,
         "speaker": null,
         "start": 21044,
         "text": "to"
        },
        {
         "confidence": 0.99958,
         "end": 21246,
         "speaker": null,
         "start": 21124,
         "text": "be"
        },
        {
         "confidence": 1,
         "end": 21358,
         "speaker": null,
         "start": 21268,
         "text": "a"
        },
        {
         "confidence": 0.99999,
         "end": 21534,
         "speaker": null,
         "start": 21364,
         "text": "lot"
        },
        {
         "confidence": 0.99997,
         "end": 21866,
         "speaker": null,
         "start": 21572,
         "text": "harder"
        },
        {
         "confidence": 0.99998,
         "end": 22046,
         "speaker": null,
         "start": 21898,
         "text": "than"
        },
        {
         "confidence": 1,
         "end": 22206,
         "speaker": null,
         "start": 22068,
         "text": "I"
        },
        {
         "confidence": 1,
         "end": 22702,
         "speaker": null,
         "start": 22228,
         "text": "thought."
        },
        {
         "confidence": 0.99998,
         "end": 23134,
         "speaker": null,
         "start": 22836,
         "text": "After"
        },
        {
         "confidence": 0.74,
         "end": 23422,
         "speaker": null,
         "start": 23172,
         "text": "all,"
        },
        {
         "confidence": 0.99907,
         "end": 23658,
         "speaker": null,
         "start": 23476,
         "text": "it's"
        },
        {
         "confidence": 0.88877,
         "end": 23854,
         "speaker": null,
         "start": 23674,
         "text": "been"
        },
        {
         "confidence": 0.99997,
         "end": 24094,
         "speaker": null,
         "start": 23892,
         "text": "almost"
        },
        {
         "confidence": 1,
         "end": 24334,
         "speaker": null,
         "start": 24132,
         "text": "ten"
        },
        {
         "confidence": 0.99999,
         "end": 24622,
         "speaker": null,
         "start": 24372,
         "text": "years"
        },
        {
         "confidence": 0.99998,
         "end": 24798,
         "speaker": null,
         "start": 24676,
         "text": "since"
        },
        {
         "confidence": 0.98,
         "end": 24950,
         "speaker": null,
         "start": 24804,
         "text": "I"
        },
        {
         "confidence": 0.65003,
         "end": 25186,
         "speaker": null,
         "start": 24980,
         "text": "wrote"
        },
        {
         "confidence": 0.9999,
         "end": 25318,
         "speaker": null,
         "start": 25218,
         "text": "my"
        },
        {
         "confidence": 0.99942,
         "end": 25446,
         "speaker": null,
         "start": 25324,
         "text": "very"
        },
        {
         "confidence": 0.91,
         "end": 25654,
         "speaker": null,
         "start": 25468,
         "text": "first"
        },
        {
         "confidence": 0.99,
         "end": 25894,
         "speaker": null,
         "start": 25692,
         "text": "line"
        },
        {
         "confidence": 1,
         "end": 26038,
         "speaker": null,
         "start": 25932,
         "text": "of"
        },
        {
         "confidence": 0.99997,
         "end": 26262,
         "speaker": null,
         "start": 26044,
         "text": "code."
        },
        {
         "confidence": 0.86487,
         "end": 26578,
         "speaker": null,
         "start": 26316,
         "text": "That's"
        },
        {
         "confidence": 0.99,
         "end": 26726,
         "speaker": null,
         "start": 26594,
         "text": "a"
        },
        {
         "confidence": 0.99984,
         "end": 26934,
         "speaker": null,
         "start": 26748,
         "text": "pretty"
        },
        {
         "confidence": 0.99995,
         "end": 27222,
         "speaker": null,
         "start": 26972,
         "text": "long"
        },
        {
         "confidence": 0.99998,
         "end": 27542,
         "speaker": null,
         "start": 27276,
         "text": "time."
        },
        {
         "confidence": 1,
         "end": 27766,
         "speaker": null,
         "start": 27596,
         "text": "Now,"
        },
        {
         "confidence": 0.99994,
         "end": 27926,
         "speaker": null,
         "start": 27788,
         "text": "this"
        },
        {
         "confidence": 0.99992,
         "end": 28230,
         "speaker": null,
         "start": 27948,
         "text": "video"
        },
        {
         "confidence": 0.99993,
         "end": 28486,
         "speaker": null,
         "start": 28300,
         "text": "is"
        },
        {
         "confidence": 0.55,
         "end": 28742,
         "speaker": null,
         "start": 28508,
         "text": "about"
        },
        {
         "confidence": 1,
         "end": 28966,
         "speaker": null,
         "start": 28796,
         "text": "the"
        },
        {
         "confidence": 0.95456,
         "end": 29222,
         "speaker": null,
         "start": 28988,
         "text": "very"
        },
        {
         "confidence": 0.99985,
         "end": 29638,
         "speaker": null,
         "start": 29276,
         "text": "specific"
        },
        {
         "confidence": 1,
         "end": 29926,
         "speaker": null,
         "start": 29724,
         "text": "and"
        },
        {
         "confidence": 0.92005,
         "end": 30306,
         "speaker": null,
         "start": 29948,
         "text": "detailed"
        },
        {
         "confidence": 0.99996,
         "end": 30678,
         "speaker": null,
         "start": 30338,
         "text": "plan"
        },
        {
         "confidence": 0.99794,
         "end": 30966,
         "speaker": null,
         "start": 30764,
         "text": "that"
        },
        {
         "confidence": 0.99,
         "end": 31126,
         "speaker": null,
         "start": 30988,
         "text": "I"
        },
        {
         "confidence": 0.99976,
         "end": 31298,
         "speaker": null,
         "start": 31148,
         "text": "wrote"
        },
        {
         "confidence": 0.87211,
         "end": 31446,
         "speaker": null,
         "start": 31314,
         "text": "for"
        },
        {
         "confidence": 0.99992,
         "end": 31606,
         "speaker": null,
         "start": 31468,
         "text": "my"
        },
        {
         "confidence": 0.99996,
         "end": 31814,
         "speaker": null,
         "start": 31628,
         "text": "friend"
        },
        {
         "confidence": 1,
         "end": 31958,
         "speaker": null,
         "start": 31852,
         "text": "to"
        },
        {
         "confidence": 0.99999,
         "end": 32134,
         "speaker": null,
         "start": 31964,
         "text": "teach"
        },
        {
         "confidence": 0.99685,
         "end": 32326,
         "speaker": null,
         "start": 32172,
         "text": "me"
        },
        {
         "confidence": 1,
         "end": 32438,
         "speaker": null,
         "start": 32348,
         "text": "the"
        },
        {
         "confidence": 0.99997,
         "end": 32706,
         "speaker": null,
         "start": 32444,
         "text": "basics"
        },
        {
         "confidence": 1,
         "end": 32886,
         "speaker": null,
         "start": 32738,
         "text": "of"
        },
        {
         "confidence": 0.99981,
         "end": 33186,
         "speaker": null,
         "start": 32908,
         "text": "coding"
        },
        {
         "confidence": 0.99999,
         "end": 33366,
         "speaker": null,
         "start": 33218,
         "text": "for"
        },
        {
         "confidence": 0.99998,
         "end": 33574,
         "speaker": null,
         "start": 33388,
         "text": "data"
        },
        {
         "confidence": 0.99996,
         "end": 34002,
         "speaker": null,
         "start": 33612,
         "text": "science."
        },
        {
         "confidence": 0.99997,
         "end": 34246,
         "speaker": null,
         "start": 34066,
         "text": "Since"
        },
        {
         "confidence": 1,
         "end": 34358,
         "speaker": null,
         "start": 34268,
         "text": "I"
        },
        {
         "confidence": 0.99995,
         "end": 34486,
         "speaker": null,
         "start": 34364,
         "text": "did"
        },
        {
         "confidence": 1,
         "end": 34598,
         "speaker": null,
         "start": 34508,
         "text": "all"
        },
        {
         "confidence": 1,
         "end": 34678,
         "speaker": null,
         "start": 34604,
         "text": "the"
        },
        {
         "confidence": 1,
         "end": 34806,
         "speaker": null,
         "start": 34684,
         "text": "work"
        },
        {
         "confidence": 0.99994,
         "end": 34966,
         "speaker": null,
         "start": 34828,
         "text": "for"
        },
        {
         "confidence": 0.99998,
         "end": 35222,
         "speaker": null,
         "start": 34988,
         "text": "him,"
        },
        {
         "confidence": 1,
         "end": 35446,
         "speaker": null,
         "start": 35276,
         "text": "I"
        },
        {
         "confidence": 0.99995,
         "end": 35746,
         "speaker": null,
         "start": 35468,
         "text": "figured"
        },
        {
         "confidence": 1,
         "end": 35926,
         "speaker": null,
         "start": 35778,
         "text": "I"
        },
        {
         "confidence": 0.99997,
         "end": 36086,
         "speaker": null,
         "start": 35948,
         "text": "might"
        },
        {
         "confidence": 0.96031,
         "end": 36246,
         "speaker": null,
         "start": 36108,
         "text": "as"
        },
        {
         "confidence": 0.99998,
         "end": 36454,
         "speaker": null,
         "start": 36268,
         "text": "well"
        },
        {
         "confidence": 0.99998,
         "end": 36646,
         "speaker": null,
         "start": 36492,
         "text": "share"
        },
        {
         "confidence": 1,
         "end": 36758,
         "speaker": null,
         "start": 36668,
         "text": "the"
        },
        {
         "confidence": 0.59263,
         "end": 37138,
         "speaker": null,
         "start": 36764,
         "text": "details"
        },
        {
         "confidence": 0.99994,
         "end": 37286,
         "speaker": null,
         "start": 37154,
         "text": "with"
        },
        {
         "confidence": 0.99997,
         "end": 37398,
         "speaker": null,
         "start": 37308,
         "text": "you"
        },
        {
         "confidence": 0.99995,
         "end": 37526,
         "speaker": null,
         "start": 37404,
         "text": "as"
        },
        {
         "confidence": 0.99997,
         "end": 37686,
         "speaker": null,
         "start": 37548,
         "text": "well"
        },
        {
         "confidence": 0.99992,
         "end": 37942,
         "speaker": null,
         "start": 37708,
         "text": "here."
        },
        {
         "confidence": 0.99899,
         "end": 38118,
         "speaker": null,
         "start": 37996,
         "text": "There"
        },
        {
         "confidence": 0.97399,
         "end": 38246,
         "speaker": null,
         "start": 38124,
         "text": "have"
        },
        {
         "confidence": 0.99924,
         "end": 38358,
         "speaker": null,
         "start": 38268,
         "text": "been"
        },
        {
         "confidence": 0.99998,
         "end": 38578,
         "speaker": null,
         "start": 38364,
         "text": "plenty"
        },
        {
         "confidence": 1,
         "end": 38726,
         "speaker": null,
         "start": 38594,
         "text": "of"
        },
        {
         "confidence": 0.99993,
         "end": 38934,
         "speaker": null,
         "start": 38748,
         "text": "other"
        },
        {
         "confidence": 0.99961,
         "end": 39174,
         "speaker": null,
         "start": 38972,
         "text": "great"
        },
        {
         "confidence": 0.99988,
         "end": 39510,
         "speaker": null,
         "start": 39212,
         "text": "videos"
        },
        {
         "confidence": 0.68931,
         "end": 39862,
         "speaker": null,
         "start": 39580,
         "text": "similar"
        },
        {
         "confidence": 0.72,
         "end": 40086,
         "speaker": null,
         "start": 39916,
         "text": "to"
        },
        {
         "confidence": 0.99998,
         "end": 40294,
         "speaker": null,
         "start": 40108,
         "text": "this"
        },
        {
         "confidence": 0.7,
         "end": 40534,
         "speaker": null,
         "start": 40332,
         "text": "about"
        },
        {
         "confidence": 0.99995,
         "end": 40726,
         "speaker": null,
         "start": 40572,
         "text": "how"
        },
        {
         "confidence": 1,
         "end": 40886,
         "speaker": null,
         "start": 40748,
         "text": "to"
        },
        {
         "confidence": 0.99993,
         "end": 41094,
         "speaker": null,
         "start": 40908,
         "text": "start"
        },
        {
         "confidence": 0.9999,
         "end": 41474,
         "speaker": null,
         "start": 41132,
         "text": "coding,"
        },
        {
         "confidence": 1,
         "end": 41686,
         "speaker": null,
         "start": 41522,
         "text": "and"
        },
        {
         "confidence": 0.99923,
         "end": 41906,
         "speaker": null,
         "start": 41708,
         "text": "I've"
        },
        {
         "confidence": 0.96149,
         "end": 42146,
         "speaker": null,
         "start": 41938,
         "text": "linked"
        },
        {
         "confidence": 0.99997,
         "end": 42374,
         "speaker": null,
         "start": 42178,
         "text": "many"
        },
        {
         "confidence": 1,
         "end": 42518,
         "speaker": null,
         "start": 42412,
         "text": "of"
        },
        {
         "confidence": 0.99998,
         "end": 42658,
         "speaker": null,
         "start": 42524,
         "text": "them"
        },
        {
         "confidence": 0.99977,
         "end": 42826,
         "speaker": null,
         "start": 42684,
         "text": "in"
        },
        {
         "confidence": 1,
         "end": 42938,
         "speaker": null,
         "start": 42848,
         "text": "the"
        },
        {
         "confidence": 0.99633,
         "end": 43430,
         "speaker": null,
         "start": 42944,
         "text": "description."
        },
        {
         "confidence": 0.9998,
         "end": 43754,
         "speaker": null,
         "start": 43510,
         "text": "Again,"
        },
        {
         "confidence": 0.99997,
         "end": 43994,
         "speaker": null,
         "start": 43792,
         "text": "those"
        },
        {
         "confidence": 0.99987,
         "end": 44138,
         "speaker": null,
         "start": 44032,
         "text": "are"
        },
        {
         "confidence": 0.99998,
         "end": 44362,
         "speaker": null,
         "start": 44144,
         "text": "great,"
        },
        {
         "confidence": 0.99998,
         "end": 44634,
         "speaker": null,
         "start": 44416,
         "text": "but"
        },
        {
         "confidence": 1,
         "end": 44778,
         "speaker": null,
         "start": 44672,
         "text": "I"
        },
        {
         "confidence": 0.99983,
         "end": 44906,
         "speaker": null,
         "start": 44784,
         "text": "think"
        },
        {
         "confidence": 0.99998,
         "end": 45066,
         "speaker": null,
         "start": 44928,
         "text": "this"
        },
        {
         "confidence": 0.991,
         "end": 45226,
         "speaker": null,
         "start": 45088,
         "text": "is"
        },
        {
         "confidence": 1,
         "end": 45338,
         "speaker": null,
         "start": 45248,
         "text": "a"
        },
        {
         "confidence": 0.99998,
         "end": 45514,
         "speaker": null,
         "start": 45344,
         "text": "bit"
        },
        {
         "confidence": 0.99999,
         "end": 45802,
         "speaker": null,
         "start": 45552,
         "text": "different"
        },
        {
         "confidence": 0.535,
         "end": 46074,
         "speaker": null,
         "start": 45856,
         "text": "because"
        },
        {
         "confidence": 0.99986,
         "end": 46326,
         "speaker": null,
         "start": 46112,
         "text": "it's"
        },
        {
         "confidence": 1,
         "end": 46506,
         "speaker": null,
         "start": 46358,
         "text": "more"
        },
        {
         "confidence": 0.99996,
         "end": 46838,
         "speaker": null,
         "start": 46528,
         "text": "focused"
        },
        {
         "confidence": 0.99994,
         "end": 46986,
         "speaker": null,
         "start": 46854,
         "text": "on"
        },
        {
         "confidence": 0.99987,
         "end": 47334,
         "speaker": null,
         "start": 47008,
         "text": "coding"
        },
        {
         "confidence": 0.99997,
         "end": 47546,
         "speaker": null,
         "start": 47382,
         "text": "for"
        },
        {
         "confidence": 0.99991,
         "end": 47898,
         "speaker": null,
         "start": 47568,
         "text": "data"
        },
        {
         "confidence": 0.89,
         "end": 48234,
         "speaker": null,
         "start": 47984,
         "text": "and"
        },
        {
         "confidence": 0.99988,
         "end": 48378,
         "speaker": null,
         "start": 48272,
         "text": "it"
        },
        {
         "confidence": 0.62973,
         "end": 48726,
         "speaker": null,
         "start": 48384,
         "text": "uses"
        },
        {
         "confidence": 1,
         "end": 48906,
         "speaker": null,
         "start": 48758,
         "text": "a"
        },
        {
         "confidence": 0.99996,
         "end": 49162,
         "speaker": null,
         "start": 48928,
         "text": "very"
        },
        {
         "confidence": 0.99998,
         "end": 49674,
         "speaker": null,
         "start": 49216,
         "text": "specific"
        },
        {
         "confidence": 1,
         "end": 50074,
         "speaker": null,
         "start": 49792,
         "text": "real"
        },
        {
         "confidence": 0.99556,
         "end": 50362,
         "speaker": null,
         "start": 50112,
         "text": "world"
        },
        {
         "confidence": 0.99999,
         "end": 50634,
         "speaker": null,
         "start": 50416,
         "text": "case"
        },
        {
         "confidence": 0.99997,
         "end": 51210,
         "speaker": null,
         "start": 50672,
         "text": "study."
        },
        {
         "confidence": 1,
         "end": 51578,
         "speaker": null,
         "start": 51360,
         "text": "At"
        },
        {
         "confidence": 1,
         "end": 51706,
         "speaker": null,
         "start": 51584,
         "text": "the"
        },
        {
         "confidence": 0.99997,
         "end": 51866,
         "speaker": null,
         "start": 51728,
         "text": "end,"
        },
        {
         "confidence": 1,
         "end": 52026,
         "speaker": null,
         "start": 51888,
         "text": "I"
        },
        {
         "confidence": 0.99997,
         "end": 52234,
         "speaker": null,
         "start": 52048,
         "text": "also"
        },
        {
         "confidence": 0.99989,
         "end": 52614,
         "speaker": null,
         "start": 52272,
         "text": "highlight"
        },
        {
         "confidence": 1,
         "end": 52874,
         "speaker": null,
         "start": 52662,
         "text": "the"
        },
        {
         "confidence": 1,
         "end": 53114,
         "speaker": null,
         "start": 52912,
         "text": "three"
        },
        {
         "confidence": 0.99999,
         "end": 53354,
         "speaker": null,
         "start": 53152,
         "text": "most"
        },
        {
         "confidence": 1,
         "end": 53690,
         "speaker": null,
         "start": 53392,
         "text": "important"
        },
        {
         "confidence": 0.99999,
         "end": 54138,
         "speaker": null,
         "start": 53760,
         "text": "things"
        },
        {
         "confidence": 0.93,
         "end": 54426,
         "speaker": null,
         "start": 54224,
         "text": "a"
        },
        {
         "confidence": 1,
         "end": 54634,
         "speaker": null,
         "start": 54448,
         "text": "new"
        },
        {
         "confidence": 0.9117,
         "end": 55138,
         "speaker": null,
         "start": 54672,
         "text": "programmer"
        },
        {
         "confidence": 0.99958,
         "end": 55374,
         "speaker": null,
         "start": 55174,
         "text": "should"
        },
        {
         "confidence": 0.99996,
         "end": 55710,
         "speaker": null,
         "start": 55412,
         "text": "know,"
        },
        {
         "confidence": 1,
         "end": 55966,
         "speaker": null,
         "start": 55780,
         "text": "so"
        },
        {
         "confidence": 0.99966,
         "end": 56174,
         "speaker": null,
         "start": 55988,
         "text": "you"
        },
        {
         "confidence": 0.99993,
         "end": 56414,
         "speaker": null,
         "start": 56212,
         "text": "definitely"
        },
        {
         "confidence": 0.9998,
         "end": 56558,
         "speaker": null,
         "start": 56452,
         "text": "want"
        },
        {
         "confidence": 0.99,
         "end": 56686,
         "speaker": null,
         "start": 56564,
         "text": "to"
        },
        {
         "confidence": 0.99995,
         "end": 56906,
         "speaker": null,
         "start": 56708,
         "text": "stick"
        },
        {
         "confidence": 0.99999,
         "end": 57182,
         "speaker": null,
         "start": 56938,
         "text": "around"
        },
        {
         "confidence": 0.99998,
         "end": 57406,
         "speaker": null,
         "start": 57236,
         "text": "for"
        },
        {
         "confidence": 0.99999,
         "end": 57710,
         "speaker": null,
         "start": 57428,
         "text": "that."
        },
        {
         "confidence": 0.99881,
         "end": 58026,
         "speaker": null,
         "start": 57780,
         "text": "Let's"
        },
        {
         "confidence": 0.99999,
         "end": 58254,
         "speaker": null,
         "start": 58058,
         "text": "start"
        },
        {
         "confidence": 1,
         "end": 58446,
         "speaker": null,
         "start": 58292,
         "text": "with"
        },
        {
         "confidence": 0.98,
         "end": 58606,
         "speaker": null,
         "start": 58468,
         "text": "the"
        },
        {
         "confidence": 0.99999,
         "end": 58986,
         "speaker": null,
         "start": 58628,
         "text": "language"
        },
        {
         "confidence": 0.61144,
         "end": 59214,
         "speaker": null,
         "start": 59018,
         "text": "that"
        },
        {
         "confidence": 0.99994,
         "end": 59406,
         "speaker": null,
         "start": 59252,
         "text": "we"
        },
        {
         "confidence": 0.99999,
         "end": 59566,
         "speaker": null,
         "start": 59428,
         "text": "should"
        },
        {
         "confidence": 1,
         "end": 59774,
         "speaker": null,
         "start": 59588,
         "text": "start"
        },
        {
         "confidence": 1,
         "end": 60302,
         "speaker": null,
         "start": 59812,
         "text": "learning."
        },
        {
         "confidence": 1,
         "end": 60686,
         "speaker": null,
         "start": 60436,
         "text": "I"
        },
        {
         "confidence": 0.93901,
         "end": 60846,
         "speaker": null,
         "start": 60708,
         "text": "know"
        },
        {
         "confidence": 0.78529,
         "end": 61006,
         "speaker": null,
         "start": 60868,
         "text": "if"
        },
        {
         "confidence": 0.99944,
         "end": 61178,
         "speaker": null,
         "start": 61028,
         "text": "you're"
        },
        {
         "confidence": 0.99996,
         "end": 61374,
         "speaker": null,
         "start": 61194,
         "text": "working"
        },
        {
         "confidence": 0.99995,
         "end": 61614,
         "speaker": null,
         "start": 61412,
         "text": "with"
        },
        {
         "confidence": 0.99996,
         "end": 61950,
         "speaker": null,
         "start": 61652,
         "text": "data,"
        },
        {
         "confidence": 0.99996,
         "end": 62254,
         "speaker": null,
         "start": 62020,
         "text": "you"
        },
        {
         "confidence": 0.99894,
         "end": 62634,
         "speaker": null,
         "start": 62292,
         "text": "generally"
        },
        {
         "confidence": 0.99997,
         "end": 62894,
         "speaker": null,
         "start": 62682,
         "text": "have"
        },
        {
         "confidence": 1,
         "end": 63134,
         "speaker": null,
         "start": 62932,
         "text": "two"
        },
        {
         "confidence": 0.99995,
         "end": 63374,
         "speaker": null,
         "start": 63172,
         "text": "good"
        },
        {
         "confidence": 0.80999,
         "end": 63850,
         "speaker": null,
         "start": 63412,
         "text": "choices."
        },
        {
         "confidence": 0.40128,
         "end": 64126,
         "speaker": null,
         "start": 63930,
         "text": "They"
        },
        {
         "confidence": 0.98355,
         "end": 64286,
         "speaker": null,
         "start": 64148,
         "text": "would"
        },
        {
         "confidence": 0.99994,
         "end": 64446,
         "speaker": null,
         "start": 64308,
         "text": "either"
        },
        {
         "confidence": 1,
         "end": 64606,
         "speaker": null,
         "start": 64468,
         "text": "start"
        },
        {
         "confidence": 1,
         "end": 64766,
         "speaker": null,
         "start": 64628,
         "text": "with"
        },
        {
         "confidence": 0.68929,
         "end": 65238,
         "speaker": null,
         "start": 64788,
         "text": "Python"
        },
        {
         "confidence": 0.99999,
         "end": 65474,
         "speaker": null,
         "start": 65274,
         "text": "or"
        },
        {
         "confidence": 1,
         "end": 65858,
         "speaker": null,
         "start": 65512,
         "text": "R."
        },
        {
         "confidence": 0.98885,
         "end": 66206,
         "speaker": null,
         "start": 65944,
         "text": "Let's"
        },
        {
         "confidence": 0.99988,
         "end": 66482,
         "speaker": null,
         "start": 66238,
         "text": "quickly"
        },
        {
         "confidence": 0.99999,
         "end": 66926,
         "speaker": null,
         "start": 66536,
         "text": "compare"
        },
        {
         "confidence": 1,
         "end": 67106,
         "speaker": null,
         "start": 66958,
         "text": "the"
        },
        {
         "confidence": 1,
         "end": 67314,
         "speaker": null,
         "start": 67128,
         "text": "two"
        },
        {
         "confidence": 0.99957,
         "end": 67838,
         "speaker": null,
         "start": 67352,
         "text": "languages."
        },
        {
         "confidence": 0.99993,
         "end": 68194,
         "speaker": null,
         "start": 67934,
         "text": "Data"
        },
        {
         "confidence": 0.9828,
         "end": 68574,
         "speaker": null,
         "start": 68232,
         "text": "science"
        },
        {
         "confidence": 0.9701,
         "end": 69310,
         "speaker": null,
         "start": 68622,
         "text": "style"
        },
        {
         "confidence": 0.99999,
         "end": 69746,
         "speaker": null,
         "start": 69470,
         "text": "when"
        },
        {
         "confidence": 0.98408,
         "end": 69954,
         "speaker": null,
         "start": 69768,
         "text": "looking"
        },
        {
         "confidence": 1,
         "end": 70146,
         "speaker": null,
         "start": 69992,
         "text": "at"
        },
        {
         "confidence": 1,
         "end": 70306,
         "speaker": null,
         "start": 70168,
         "text": "the"
        },
        {
         "confidence": 0.9998,
         "end": 70574,
         "speaker": null,
         "start": 70328,
         "text": "stack"
        },
        {
         "confidence": 0.99857,
         "end": 71086,
         "speaker": null,
         "start": 70622,
         "text": "overflow"
        },
        {
         "confidence": 0.9991,
         "end": 71566,
         "speaker": null,
         "start": 71118,
         "text": "developer"
        },
        {
         "confidence": 0.97383,
         "end": 72062,
         "speaker": null,
         "start": 71598,
         "text": "survey,"
        },
        {
         "confidence": 0.99999,
         "end": 72306,
         "speaker": null,
         "start": 72126,
         "text": "we"
        },
        {
         "confidence": 0.97439,
         "end": 72514,
         "speaker": null,
         "start": 72328,
         "text": "find"
        },
        {
         "confidence": 0.99999,
         "end": 72706,
         "speaker": null,
         "start": 72552,
         "text": "that"
        },
        {
         "confidence": 1,
         "end": 72914,
         "speaker": null,
         "start": 72728,
         "text": "about"
        },
        {
         "confidence": 0.93,
         "end": 73634,
         "speaker": null,
         "start": 72952,
         "text": "48%"
        },
        {
         "confidence": 1,
         "end": 73826,
         "speaker": null,
         "start": 73672,
         "text": "of"
        },
        {
         "confidence": 0.96529,
         "end": 74334,
         "speaker": null,
         "start": 73848,
         "text": "respondents"
        },
        {
         "confidence": 0.99995,
         "end": 74594,
         "speaker": null,
         "start": 74382,
         "text": "use"
        },
        {
         "confidence": 0.99913,
         "end": 75150,
         "speaker": null,
         "start": 74632,
         "text": "Python,"
        },
        {
         "confidence": 0.98656,
         "end": 75522,
         "speaker": null,
         "start": 75230,
         "text": "while"
        },
        {
         "confidence": 1,
         "end": 75794,
         "speaker": null,
         "start": 75576,
         "text": "only"
        },
        {
         "confidence": 1,
         "end": 76082,
         "speaker": null,
         "start": 75832,
         "text": "about"
        },
        {
         "confidence": 1,
         "end": 76642,
         "speaker": null,
         "start": 76136,
         "text": "5%"
        },
        {
         "confidence": 0.99996,
         "end": 76962,
         "speaker": null,
         "start": 76696,
         "text": "use"
        },
        {
         "confidence": 0.99,
         "end": 77282,
         "speaker": null,
         "start": 77016,
         "text": "r."
        },
        {
         "confidence": 0.99997,
         "end": 77554,
         "speaker": null,
         "start": 77336,
         "text": "In"
        },
        {
         "confidence": 0.99999,
         "end": 78122,
         "speaker": null,
         "start": 77592,
         "text": "industry,"
        },
        {
         "confidence": 0.99994,
         "end": 78674,
         "speaker": null,
         "start": 78206,
         "text": "Python"
        },
        {
         "confidence": 0.99999,
         "end": 78886,
         "speaker": null,
         "start": 78722,
         "text": "is"
        },
        {
         "confidence": 1,
         "end": 78998,
         "speaker": null,
         "start": 78908,
         "text": "a"
        },
        {
         "confidence": 0.76916,
         "end": 79174,
         "speaker": null,
         "start": 79004,
         "text": "far"
        },
        {
         "confidence": 0.93,
         "end": 79414,
         "speaker": null,
         "start": 79212,
         "text": "more"
        },
        {
         "confidence": 1,
         "end": 79702,
         "speaker": null,
         "start": 79452,
         "text": "common"
        },
        {
         "confidence": 0.71222,
         "end": 80306,
         "speaker": null,
         "start": 79756,
         "text": "language."
        },
        {
         "confidence": 0.99984,
         "end": 80786,
         "speaker": null,
         "start": 80418,
         "text": "Let's"
        },
        {
         "confidence": 1,
         "end": 80966,
         "speaker": null,
         "start": 80818,
         "text": "now"
        },
        {
         "confidence": 0.99998,
         "end": 81222,
         "speaker": null,
         "start": 80988,
         "text": "look"
        },
        {
         "confidence": 1,
         "end": 81542,
         "speaker": null,
         "start": 81276,
         "text": "more"
        },
        {
         "confidence": 0.99601,
         "end": 82242,
         "speaker": null,
         "start": 81596,
         "text": "specifically"
        },
        {
         "confidence": 1,
         "end": 82486,
         "speaker": null,
         "start": 82306,
         "text": "at"
        },
        {
         "confidence": 0.99993,
         "end": 82742,
         "speaker": null,
         "start": 82508,
         "text": "data"
        },
        {
         "confidence": 0.87291,
         "end": 83378,
         "speaker": null,
         "start": 82796,
         "text": "scientists,"
        },
        {
         "confidence": 0.99999,
         "end": 83686,
         "speaker": null,
         "start": 83474,
         "text": "not"
        },
        {
         "confidence": 0.99999,
         "end": 83846,
         "speaker": null,
         "start": 83708,
         "text": "just"
        },
        {
         "confidence": 1,
         "end": 84054,
         "speaker": null,
         "start": 83868,
         "text": "all"
        },
        {
         "confidence": 0.99911,
         "end": 84306,
         "speaker": null,
         "start": 84092,
         "text": "stack"
        },
        {
         "confidence": 0.99131,
         "end": 84738,
         "speaker": null,
         "start": 84338,
         "text": "overflow"
        },
        {
         "confidence": 0.99775,
         "end": 85106,
         "speaker": null,
         "start": 84754,
         "text": "users"
        },
        {
         "confidence": 0.99999,
         "end": 85286,
         "speaker": null,
         "start": 85138,
         "text": "who"
        },
        {
         "confidence": 1,
         "end": 85446,
         "speaker": null,
         "start": 85308,
         "text": "come"
        },
        {
         "confidence": 0.99999,
         "end": 85606,
         "speaker": null,
         "start": 85468,
         "text": "from"
        },
        {
         "confidence": 1,
         "end": 85766,
         "speaker": null,
         "start": 85628,
         "text": "a"
        },
        {
         "confidence": 0.73717,
         "end": 86114,
         "speaker": null,
         "start": 85788,
         "text": "variety"
        },
        {
         "confidence": 1,
         "end": 86326,
         "speaker": null,
         "start": 86162,
         "text": "of"
        },
        {
         "confidence": 0.96383,
         "end": 86930,
         "speaker": null,
         "start": 86348,
         "text": "backgrounds"
        },
        {
         "confidence": 0.99997,
         "end": 87206,
         "speaker": null,
         "start": 87010,
         "text": "on"
        },
        {
         "confidence": 0.48,
         "end": 87762,
         "speaker": null,
         "start": 87228,
         "text": "Kaggle,"
        },
        {
         "confidence": 0.99999,
         "end": 88006,
         "speaker": null,
         "start": 87826,
         "text": "my"
        },
        {
         "confidence": 0.99986,
         "end": 88306,
         "speaker": null,
         "start": 88028,
         "text": "favorite"
        },
        {
         "confidence": 1,
         "end": 88630,
         "speaker": null,
         "start": 88338,
         "text": "platform"
        },
        {
         "confidence": 0.99946,
         "end": 88886,
         "speaker": null,
         "start": 88700,
         "text": "for"
        },
        {
         "confidence": 0.99999,
         "end": 89094,
         "speaker": null,
         "start": 88908,
         "text": "data"
        },
        {
         "confidence": 0.99995,
         "end": 89474,
         "speaker": null,
         "start": 89132,
         "text": "science"
        },
        {
         "confidence": 1,
         "end": 89782,
         "speaker": null,
         "start": 89522,
         "text": "learning"
        },
        {
         "confidence": 1,
         "end": 90006,
         "speaker": null,
         "start": 89836,
         "text": "and"
        },
        {
         "confidence": 0.99994,
         "end": 90562,
         "speaker": null,
         "start": 90028,
         "text": "projects,"
        },
        {
         "confidence": 0.99999,
         "end": 90806,
         "speaker": null,
         "start": 90626,
         "text": "we"
        },
        {
         "confidence": 1,
         "end": 90966,
         "speaker": null,
         "start": 90828,
         "text": "can"
        },
        {
         "confidence": 0.99999,
         "end": 91126,
         "speaker": null,
         "start": 90988,
         "text": "see"
        },
        {
         "confidence": 1,
         "end": 91334,
         "speaker": null,
         "start": 91148,
         "text": "that"
        },
        {
         "confidence": 0.99996,
         "end": 91634,
         "speaker": null,
         "start": 91372,
         "text": "around"
        },
        {
         "confidence": 0.95,
         "end": 92874,
         "speaker": null,
         "start": 91692,
         "text": "84.2%"
        },
        {
         "confidence": 1,
         "end": 93066,
         "speaker": null,
         "start": 92912,
         "text": "of"
        },
        {
         "confidence": 0.85948,
         "end": 93590,
         "speaker": null,
         "start": 93088,
         "text": "respondents"
        },
        {
         "confidence": 0.99998,
         "end": 93914,
         "speaker": null,
         "start": 93670,
         "text": "use"
        },
        {
         "confidence": 0.36896,
         "end": 94502,
         "speaker": null,
         "start": 93952,
         "text": "Python,"
        },
        {
         "confidence": 1,
         "end": 94794,
         "speaker": null,
         "start": 94566,
         "text": "while"
        },
        {
         "confidence": 0.99997,
         "end": 95082,
         "speaker": null,
         "start": 94832,
         "text": "only"
        },
        {
         "confidence": 1,
         "end": 96202,
         "speaker": null,
         "start": 95136,
         "text": "20.5%"
        },
        {
         "confidence": 0.99999,
         "end": 96522,
         "speaker": null,
         "start": 96256,
         "text": "use"
        },
        {
         "confidence": 1,
         "end": 97034,
         "speaker": null,
         "start": 96576,
         "text": "r."
        },
        {
         "confidence": 0.99997,
         "end": 97434,
         "speaker": null,
         "start": 97152,
         "text": "Since"
        },
        {
         "confidence": 0.99999,
         "end": 97626,
         "speaker": null,
         "start": 97472,
         "text": "these"
        },
        {
         "confidence": 0.85964,
         "end": 97834,
         "speaker": null,
         "start": 97648,
         "text": "add"
        },
        {
         "confidence": 1,
         "end": 97978,
         "speaker": null,
         "start": 97872,
         "text": "up"
        },
        {
         "confidence": 1,
         "end": 98106,
         "speaker": null,
         "start": 97984,
         "text": "to"
        },
        {
         "confidence": 1,
         "end": 98266,
         "speaker": null,
         "start": 98128,
         "text": "more"
        },
        {
         "confidence": 1,
         "end": 98426,
         "speaker": null,
         "start": 98288,
         "text": "than"
        },
        {
         "confidence": 0.98,
         "end": 99146,
         "speaker": null,
         "start": 98448,
         "text": "100%,"
        },
        {
         "confidence": 1,
         "end": 99466,
         "speaker": null,
         "start": 99248,
         "text": "we"
        },
        {
         "confidence": 1,
         "end": 99626,
         "speaker": null,
         "start": 99488,
         "text": "can"
        },
        {
         "confidence": 1,
         "end": 99926,
         "speaker": null,
         "start": 99648,
         "text": "assume"
        },
        {
         "confidence": 1,
         "end": 100154,
         "speaker": null,
         "start": 99958,
         "text": "that"
        },
        {
         "confidence": 1,
         "end": 100346,
         "speaker": null,
         "start": 100192,
         "text": "some"
        },
        {
         "confidence": 1,
         "end": 100602,
         "speaker": null,
         "start": 100368,
         "text": "data"
        },
        {
         "confidence": 0.95461,
         "end": 101142,
         "speaker": null,
         "start": 100656,
         "text": "scientists"
        },
        {
         "confidence": 1,
         "end": 101386,
         "speaker": null,
         "start": 101206,
         "text": "are"
        },
        {
         "confidence": 0.99999,
         "end": 101642,
         "speaker": null,
         "start": 101408,
         "text": "using"
        },
        {
         "confidence": 1,
         "end": 101914,
         "speaker": null,
         "start": 101696,
         "text": "both"
        },
        {
         "confidence": 0.99999,
         "end": 102518,
         "speaker": null,
         "start": 101952,
         "text": "languages."
        },
        {
         "confidence": 0.93432,
         "end": 103018,
         "speaker": null,
         "start": 102614,
         "text": "Finally,"
        },
        {
         "confidence": 0.99987,
         "end": 103398,
         "speaker": null,
         "start": 103104,
         "text": "let's"
        },
        {
         "confidence": 1,
         "end": 103546,
         "speaker": null,
         "start": 103414,
         "text": "look"
        },
        {
         "confidence": 1,
         "end": 103658,
         "speaker": null,
         "start": 103568,
         "text": "at"
        },
        {
         "confidence": 0.99999,
         "end": 103834,
         "speaker": null,
         "start": 103664,
         "text": "these"
        },
        {
         "confidence": 1,
         "end": 104026,
         "speaker": null,
         "start": 103872,
         "text": "two"
        },
        {
         "confidence": 0.97666,
         "end": 104482,
         "speaker": null,
         "start": 104048,
         "text": "languages"
        },
        {
         "confidence": 1,
         "end": 104814,
         "speaker": null,
         "start": 104566,
         "text": "over"
        },
        {
         "confidence": 0.68931,
         "end": 105198,
         "speaker": null,
         "start": 104852,
         "text": "time."
        },
        {
         "confidence": 0.99992,
         "end": 105486,
         "speaker": null,
         "start": 105284,
         "text": "We"
        },
        {
         "confidence": 1,
         "end": 105598,
         "speaker": null,
         "start": 105508,
         "text": "can"
        },
        {
         "confidence": 0.89481,
         "end": 105774,
         "speaker": null,
         "start": 105604,
         "text": "see"
        },
        {
         "confidence": 0.99985,
         "end": 106158,
         "speaker": null,
         "start": 105812,
         "text": "here."
        },
        {
         "confidence": 0.99999,
         "end": 106542,
         "speaker": null,
         "start": 106244,
         "text": "From"
        },
        {
         "confidence": 0.96,
         "end": 107182,
         "speaker": null,
         "start": 106596,
         "text": "2020"
        },
        {
         "confidence": 1,
         "end": 107406,
         "speaker": null,
         "start": 107236,
         "text": "to"
        },
        {
         "confidence": 0.99,
         "end": 108318,
         "speaker": null,
         "start": 107428,
         "text": "2021,"
        },
        {
         "confidence": 0.65485,
         "end": 108906,
         "speaker": null,
         "start": 108404,
         "text": "Python"
        },
        {
         "confidence": 0.99997,
         "end": 109086,
         "speaker": null,
         "start": 108938,
         "text": "has"
        },
        {
         "confidence": 0.99995,
         "end": 109306,
         "speaker": null,
         "start": 109108,
         "text": "gained"
        },
        {
         "confidence": 0.74,
         "end": 109486,
         "speaker": null,
         "start": 109338,
         "text": "an"
        },
        {
         "confidence": 0.9269,
         "end": 109962,
         "speaker": null,
         "start": 109508,
         "text": "adoption,"
        },
        {
         "confidence": 0.92734,
         "end": 110254,
         "speaker": null,
         "start": 110026,
         "text": "while"
        },
        {
         "confidence": 0.78,
         "end": 110494,
         "speaker": null,
         "start": 110292,
         "text": "R"
        },
        {
         "confidence": 0.98573,
         "end": 110874,
         "speaker": null,
         "start": 110532,
         "text": "usage"
        },
        {
         "confidence": 0.99997,
         "end": 111086,
         "speaker": null,
         "start": 110922,
         "text": "has"
        },
        {
         "confidence": 0.99996,
         "end": 111246,
         "speaker": null,
         "start": 111108,
         "text": "seen"
        },
        {
         "confidence": 0.99999,
         "end": 111454,
         "speaker": null,
         "start": 111268,
         "text": "some"
        },
        {
         "confidence": 0.88023,
         "end": 112106,
         "speaker": null,
         "start": 111492,
         "text": "attrition."
        },
        {
         "confidence": 1,
         "end": 112446,
         "speaker": null,
         "start": 112218,
         "text": "To"
        },
        {
         "confidence": 0.99998,
         "end": 112654,
         "speaker": null,
         "start": 112468,
         "text": "me,"
        },
        {
         "confidence": 0.99999,
         "end": 112846,
         "speaker": null,
         "start": 112692,
         "text": "this"
        },
        {
         "confidence": 0.99996,
         "end": 112958,
         "speaker": null,
         "start": 112868,
         "text": "is"
        },
        {
         "confidence": 1,
         "end": 113038,
         "speaker": null,
         "start": 112964,
         "text": "a"
        },
        {
         "confidence": 1,
         "end": 113166,
         "speaker": null,
         "start": 113044,
         "text": "no"
        },
        {
         "confidence": 0.99425,
         "end": 113594,
         "speaker": null,
         "start": 113188,
         "text": "brainer."
        },
        {
         "confidence": 1,
         "end": 113854,
         "speaker": null,
         "start": 113642,
         "text": "I"
        },
        {
         "confidence": 0.99884,
         "end": 114346,
         "speaker": null,
         "start": 113892,
         "text": "recommended"
        },
        {
         "confidence": 0.99999,
         "end": 114526,
         "speaker": null,
         "start": 114378,
         "text": "my"
        },
        {
         "confidence": 0.99977,
         "end": 114734,
         "speaker": null,
         "start": 114548,
         "text": "friend"
        },
        {
         "confidence": 1,
         "end": 114926,
         "speaker": null,
         "start": 114772,
         "text": "to"
        },
        {
         "confidence": 1,
         "end": 115086,
         "speaker": null,
         "start": 114948,
         "text": "start"
        },
        {
         "confidence": 0.99999,
         "end": 115294,
         "speaker": null,
         "start": 115108,
         "text": "learning"
        },
        {
         "confidence": 0.50776,
         "end": 115786,
         "speaker": null,
         "start": 115332,
         "text": "Python"
        },
        {
         "confidence": 0.97,
         "end": 116254,
         "speaker": null,
         "start": 115818,
         "text": "first."
        },
        {
         "confidence": 0.99997,
         "end": 116654,
         "speaker": null,
         "start": 116372,
         "text": "That"
        },
        {
         "confidence": 0.99999,
         "end": 116986,
         "speaker": null,
         "start": 116692,
         "text": "language"
        },
        {
         "confidence": 0.99999,
         "end": 117166,
         "speaker": null,
         "start": 117018,
         "text": "is"
        },
        {
         "confidence": 1,
         "end": 117326,
         "speaker": null,
         "start": 117188,
         "text": "more"
        },
        {
         "confidence": 0.99997,
         "end": 117674,
         "speaker": null,
         "start": 117348,
         "text": "popular"
        },
        {
         "confidence": 1,
         "end": 117886,
         "speaker": null,
         "start": 117722,
         "text": "and"
        },
        {
         "confidence": 0.99893,
         "end": 118106,
         "speaker": null,
         "start": 117908,
         "text": "it's"
        },
        {
         "confidence": 0.99986,
         "end": 118470,
         "speaker": null,
         "start": 118138,
         "text": "continuing"
        },
        {
         "confidence": 1,
         "end": 118626,
         "speaker": null,
         "start": 118490,
         "text": "to"
        },
        {
         "confidence": 0.99987,
         "end": 118930,
         "speaker": null,
         "start": 118648,
         "text": "grow."
        },
        {
         "confidence": 0.99939,
         "end": 119138,
         "speaker": null,
         "start": 119000,
         "text": "This"
        },
        {
         "confidence": 0.99963,
         "end": 119358,
         "speaker": null,
         "start": 119144,
         "text": "isn't"
        },
        {
         "confidence": 1,
         "end": 119458,
         "speaker": null,
         "start": 119374,
         "text": "to"
        },
        {
         "confidence": 0.99997,
         "end": 119634,
         "speaker": null,
         "start": 119464,
         "text": "say"
        },
        {
         "confidence": 0.99,
         "end": 119874,
         "speaker": null,
         "start": 119672,
         "text": "r"
        },
        {
         "confidence": 0.99988,
         "end": 120066,
         "speaker": null,
         "start": 119912,
         "text": "is"
        },
        {
         "confidence": 0.9996,
         "end": 120370,
         "speaker": null,
         "start": 120088,
         "text": "bad,"
        },
        {
         "confidence": 0.5885,
         "end": 120766,
         "speaker": null,
         "start": 120440,
         "text": "it's"
        },
        {
         "confidence": 0.99996,
         "end": 120994,
         "speaker": null,
         "start": 120798,
         "text": "just"
        },
        {
         "confidence": 1,
         "end": 121138,
         "speaker": null,
         "start": 121032,
         "text": "to"
        },
        {
         "confidence": 0.99997,
         "end": 121314,
         "speaker": null,
         "start": 121144,
         "text": "say"
        },
        {
         "confidence": 0.99872,
         "end": 121458,
         "speaker": null,
         "start": 121352,
         "text": "that"
        },
        {
         "confidence": 1,
         "end": 121538,
         "speaker": null,
         "start": 121464,
         "text": "I"
        },
        {
         "confidence": 0.99998,
         "end": 121666,
         "speaker": null,
         "start": 121544,
         "text": "think"
        },
        {
         "confidence": 0.46377,
         "end": 122094,
         "speaker": null,
         "start": 121688,
         "text": "Python"
        },
        {
         "confidence": 0.99997,
         "end": 122306,
         "speaker": null,
         "start": 122142,
         "text": "is"
        },
        {
         "confidence": 0.99995,
         "end": 122654,
         "speaker": null,
         "start": 122328,
         "text": "growing"
        },
        {
         "confidence": 1,
         "end": 122866,
         "speaker": null,
         "start": 122702,
         "text": "and"
        },
        {
         "confidence": 0.62243,
         "end": 123074,
         "speaker": null,
         "start": 122888,
         "text": "will"
        },
        {
         "confidence": 0.99996,
         "end": 123266,
         "speaker": null,
         "start": 123112,
         "text": "be"
        },
        {
         "confidence": 1,
         "end": 123426,
         "speaker": null,
         "start": 123288,
         "text": "a"
        },
        {
         "confidence": 1,
         "end": 123586,
         "speaker": null,
         "start": 123448,
         "text": "more"
        },
        {
         "confidence": 0.5155,
         "end": 123982,
         "speaker": null,
         "start": 123608,
         "text": "valuable"
        },
        {
         "confidence": 0.85187,
         "end": 124334,
         "speaker": null,
         "start": 124046,
         "text": "skill"
        },
        {
         "confidence": 1,
         "end": 124546,
         "speaker": null,
         "start": 124382,
         "text": "to"
        },
        {
         "confidence": 0.99996,
         "end": 124706,
         "speaker": null,
         "start": 124568,
         "text": "have"
        },
        {
         "confidence": 0.99975,
         "end": 124866,
         "speaker": null,
         "start": 124728,
         "text": "for"
        },
        {
         "confidence": 1,
         "end": 124978,
         "speaker": null,
         "start": 124888,
         "text": "the"
        },
        {
         "confidence": 0.99999,
         "end": 125154,
         "speaker": null,
         "start": 124984,
         "text": "job"
        },
        {
         "confidence": 0.99999,
         "end": 125442,
         "speaker": null,
         "start": 125192,
         "text": "market"
        },
        {
         "confidence": 0.99994,
         "end": 125666,
         "speaker": null,
         "start": 125496,
         "text": "in"
        },
        {
         "confidence": 0.99992,
         "end": 125970,
         "speaker": null,
         "start": 125688,
         "text": "general."
        },
        {
         "confidence": 1,
         "end": 126226,
         "speaker": null,
         "start": 126040,
         "text": "I"
        },
        {
         "confidence": 0.99998,
         "end": 126434,
         "speaker": null,
         "start": 126248,
         "text": "also"
        },
        {
         "confidence": 0.99986,
         "end": 126718,
         "speaker": null,
         "start": 126472,
         "text": "personally"
        },
        {
         "confidence": 0.99986,
         "end": 126914,
         "speaker": null,
         "start": 126734,
         "text": "find"
        },
        {
         "confidence": 0.99999,
         "end": 127058,
         "speaker": null,
         "start": 126952,
         "text": "it"
        },
        {
         "confidence": 1,
         "end": 127138,
         "speaker": null,
         "start": 127064,
         "text": "a"
        },
        {
         "confidence": 0.99996,
         "end": 127266,
         "speaker": null,
         "start": 127144,
         "text": "bit"
        },
        {
         "confidence": 1,
         "end": 127426,
         "speaker": null,
         "start": 127288,
         "text": "more"
        },
        {
         "confidence": 0.99992,
         "end": 127854,
         "speaker": null,
         "start": 127448,
         "text": "intuitive"
        },
        {
         "confidence": 1,
         "end": 128078,
         "speaker": null,
         "start": 127902,
         "text": "and"
        },
        {
         "confidence": 0.99996,
         "end": 128466,
         "speaker": null,
         "start": 128104,
         "text": "flexible"
        },
        {
         "confidence": 0.9999,
         "end": 128694,
         "speaker": null,
         "start": 128498,
         "text": "than"
        },
        {
         "confidence": 0.77,
         "end": 128982,
         "speaker": null,
         "start": 128732,
         "text": "R."
        },
        {
         "confidence": 1,
         "end": 129206,
         "speaker": null,
         "start": 129036,
         "text": "Now"
        },
        {
         "confidence": 0.99996,
         "end": 129318,
         "speaker": null,
         "start": 129228,
         "text": "that"
        },
        {
         "confidence": 0.99987,
         "end": 129506,
         "speaker": null,
         "start": 129324,
         "text": "we've"
        },
        {
         "confidence": 0.99998,
         "end": 129778,
         "speaker": null,
         "start": 129538,
         "text": "chosen"
        },
        {
         "confidence": 0.99984,
         "end": 129926,
         "speaker": null,
         "start": 129794,
         "text": "our"
        },
        {
         "confidence": 0.90901,
         "end": 130226,
         "speaker": null,
         "start": 129948,
         "text": "language"
        },
        {
         "confidence": 0.96331,
         "end": 130406,
         "speaker": null,
         "start": 130258,
         "text": "as"
        },
        {
         "confidence": 0.78498,
         "end": 130882,
         "speaker": null,
         "start": 130428,
         "text": "Python,"
        },
        {
         "confidence": 0.99991,
         "end": 131126,
         "speaker": null,
         "start": 130946,
         "text": "what"
        },
        {
         "confidence": 0.99981,
         "end": 131426,
         "speaker": null,
         "start": 131148,
         "text": "coding"
        },
        {
         "confidence": 0.99738,
         "end": 131746,
         "speaker": null,
         "start": 131458,
         "text": "skills"
        },
        {
         "confidence": 0.99999,
         "end": 131878,
         "speaker": null,
         "start": 131778,
         "text": "should"
        },
        {
         "confidence": 0.99988,
         "end": 132006,
         "speaker": null,
         "start": 131884,
         "text": "my"
        },
        {
         "confidence": 0.99997,
         "end": 132166,
         "speaker": null,
         "start": 132028,
         "text": "friend"
        },
        {
         "confidence": 0.99998,
         "end": 132374,
         "speaker": null,
         "start": 132188,
         "text": "learn"
        },
        {
         "confidence": 1,
         "end": 132854,
         "speaker": null,
         "start": 132412,
         "text": "first?"
        },
        {
         "confidence": 0.99955,
         "end": 133206,
         "speaker": null,
         "start": 132972,
         "text": "Should"
        },
        {
         "confidence": 0.93672,
         "end": 133414,
         "speaker": null,
         "start": 133228,
         "text": "he"
        },
        {
         "confidence": 1,
         "end": 133702,
         "speaker": null,
         "start": 133452,
         "text": "focus"
        },
        {
         "confidence": 0.99998,
         "end": 133974,
         "speaker": null,
         "start": 133756,
         "text": "on"
        },
        {
         "confidence": 0.85516,
         "end": 134514,
         "speaker": null,
         "start": 134012,
         "text": "variables,"
        },
        {
         "confidence": 0.54661,
         "end": 134962,
         "speaker": null,
         "start": 134562,
         "text": "logic"
        },
        {
         "confidence": 0.99976,
         "end": 135426,
         "speaker": null,
         "start": 135026,
         "text": "functions,"
        },
        {
         "confidence": 0.39163,
         "end": 136050,
         "speaker": null,
         "start": 135458,
         "text": "algorithms?"
        },
        {
         "confidence": 0.76047,
         "end": 136834,
         "speaker": null,
         "start": 136130,
         "text": "Classes?"
        },
        {
         "confidence": 0.99985,
         "end": 137254,
         "speaker": null,
         "start": 136962,
         "text": "My"
        },
        {
         "confidence": 0.99998,
         "end": 137542,
         "speaker": null,
         "start": 137292,
         "text": "mind"
        },
        {
         "confidence": 0.99998,
         "end": 137814,
         "speaker": null,
         "start": 137596,
         "text": "was"
        },
        {
         "confidence": 0.99989,
         "end": 138102,
         "speaker": null,
         "start": 137852,
         "text": "absolutely"
        },
        {
         "confidence": 0.77981,
         "end": 138498,
         "speaker": null,
         "start": 138156,
         "text": "spinning"
        },
        {
         "confidence": 1,
         "end": 138598,
         "speaker": null,
         "start": 138514,
         "text": "when"
        },
        {
         "confidence": 1,
         "end": 138726,
         "speaker": null,
         "start": 138604,
         "text": "I"
        },
        {
         "confidence": 1,
         "end": 138886,
         "speaker": null,
         "start": 138748,
         "text": "first"
        },
        {
         "confidence": 0.99884,
         "end": 139266,
         "speaker": null,
         "start": 138908,
         "text": "addressed"
        },
        {
         "confidence": 0.99998,
         "end": 139590,
         "speaker": null,
         "start": 139298,
         "text": "this."
        },
        {
         "confidence": 0.99994,
         "end": 139846,
         "speaker": null,
         "start": 139660,
         "text": "It"
        },
        {
         "confidence": 1,
         "end": 140006,
         "speaker": null,
         "start": 139868,
         "text": "took"
        },
        {
         "confidence": 0.99999,
         "end": 140166,
         "speaker": null,
         "start": 140028,
         "text": "me"
        },
        {
         "confidence": 1,
         "end": 140278,
         "speaker": null,
         "start": 140188,
         "text": "a"
        },
        {
         "confidence": 1,
         "end": 140502,
         "speaker": null,
         "start": 140284,
         "text": "second,"
        },
        {
         "confidence": 0.99997,
         "end": 140726,
         "speaker": null,
         "start": 140556,
         "text": "but"
        },
        {
         "confidence": 0.91,
         "end": 140886,
         "speaker": null,
         "start": 140748,
         "text": "I"
        },
        {
         "confidence": 0.99969,
         "end": 141046,
         "speaker": null,
         "start": 140908,
         "text": "had"
        },
        {
         "confidence": 0.99997,
         "end": 141350,
         "speaker": null,
         "start": 141068,
         "text": "this"
        },
        {
         "confidence": 0.99991,
         "end": 141794,
         "speaker": null,
         "start": 141420,
         "text": "weird,"
        },
        {
         "confidence": 0.99543,
         "end": 142318,
         "speaker": null,
         "start": 141842,
         "text": "chaotic"
        },
        {
         "confidence": 0.9375,
         "end": 142934,
         "speaker": null,
         "start": 142354,
         "text": "flashback"
        },
        {
         "confidence": 1,
         "end": 143146,
         "speaker": null,
         "start": 142982,
         "text": "to"
        },
        {
         "confidence": 0.99983,
         "end": 143306,
         "speaker": null,
         "start": 143168,
         "text": "my"
        },
        {
         "confidence": 1,
         "end": 143466,
         "speaker": null,
         "start": 143328,
         "text": "first"
        },
        {
         "confidence": 0.99875,
         "end": 143674,
         "speaker": null,
         "start": 143488,
         "text": "days"
        },
        {
         "confidence": 1,
         "end": 143866,
         "speaker": null,
         "start": 143712,
         "text": "of"
        },
        {
         "confidence": 0.99996,
         "end": 144122,
         "speaker": null,
         "start": 143888,
         "text": "learning"
        },
        {
         "confidence": 0.99997,
         "end": 144566,
         "speaker": null,
         "start": 144176,
         "text": "programming"
        },
        {
         "confidence": 0.99998,
         "end": 145082,
         "speaker": null,
         "start": 144598,
         "text": "myself."
        },
        {
         "confidence": 1,
         "end": 145466,
         "speaker": null,
         "start": 145216,
         "text": "I"
        },
        {
         "confidence": 0.99948,
         "end": 145638,
         "speaker": null,
         "start": 145488,
         "text": "didn't"
        },
        {
         "confidence": 0.82893,
         "end": 145786,
         "speaker": null,
         "start": 145654,
         "text": "even"
        },
        {
         "confidence": 0.99988,
         "end": 145946,
         "speaker": null,
         "start": 145808,
         "text": "know"
        },
        {
         "confidence": 0.99985,
         "end": 146106,
         "speaker": null,
         "start": 145968,
         "text": "where"
        },
        {
         "confidence": 1,
         "end": 146218,
         "speaker": null,
         "start": 146128,
         "text": "to"
        },
        {
         "confidence": 0.98504,
         "end": 146394,
         "speaker": null,
         "start": 146224,
         "text": "start"
        },
        {
         "confidence": 0.77994,
         "end": 146682,
         "speaker": null,
         "start": 146432,
         "text": "with"
        },
        {
         "confidence": 0.99998,
         "end": 146954,
         "speaker": null,
         "start": 146736,
         "text": "getting"
        },
        {
         "confidence": 0.90359,
         "end": 147414,
         "speaker": null,
         "start": 146992,
         "text": "Python"
        },
        {
         "confidence": 0.99998,
         "end": 147626,
         "speaker": null,
         "start": 147462,
         "text": "on"
        },
        {
         "confidence": 0.99999,
         "end": 147738,
         "speaker": null,
         "start": 147648,
         "text": "my"
        },
        {
         "confidence": 0.535,
         "end": 147914,
         "speaker": null,
         "start": 147744,
         "text": "own"
        },
        {
         "confidence": 0.99998,
         "end": 148298,
         "speaker": null,
         "start": 147952,
         "text": "computer."
        },
        {
         "confidence": 1,
         "end": 148586,
         "speaker": null,
         "start": 148384,
         "text": "I"
        },
        {
         "confidence": 0.99998,
         "end": 148746,
         "speaker": null,
         "start": 148608,
         "text": "just"
        },
        {
         "confidence": 1,
         "end": 148954,
         "speaker": null,
         "start": 148768,
         "text": "now"
        },
        {
         "confidence": 0.99999,
         "end": 149194,
         "speaker": null,
         "start": 148992,
         "text": "got"
        },
        {
         "confidence": 0.99997,
         "end": 149574,
         "speaker": null,
         "start": 149232,
         "text": "excited"
        },
        {
         "confidence": 1,
         "end": 149786,
         "speaker": null,
         "start": 149622,
         "text": "about"
        },
        {
         "confidence": 0.9999,
         "end": 150086,
         "speaker": null,
         "start": 149808,
         "text": "teaching"
        },
        {
         "confidence": 1,
         "end": 150218,
         "speaker": null,
         "start": 150118,
         "text": "the"
        },
        {
         "confidence": 0.99978,
         "end": 150566,
         "speaker": null,
         "start": 150224,
         "text": "functional"
        },
        {
         "confidence": 0.99999,
         "end": 150746,
         "speaker": null,
         "start": 150598,
         "text": "part"
        },
        {
         "confidence": 1,
         "end": 150906,
         "speaker": null,
         "start": 150768,
         "text": "of"
        },
        {
         "confidence": 0.69588,
         "end": 151430,
         "speaker": null,
         "start": 150928,
         "text": "programming,"
        },
        {
         "confidence": 1,
         "end": 151706,
         "speaker": null,
         "start": 151510,
         "text": "and"
        },
        {
         "confidence": 1,
         "end": 151914,
         "speaker": null,
         "start": 151728,
         "text": "I"
        },
        {
         "confidence": 0.99999,
         "end": 152250,
         "speaker": null,
         "start": 151952,
         "text": "completely"
        },
        {
         "confidence": 0.81985,
         "end": 152774,
         "speaker": null,
         "start": 152320,
         "text": "forgot"
        },
        {
         "confidence": 1,
         "end": 153082,
         "speaker": null,
         "start": 152822,
         "text": "about"
        },
        {
         "confidence": 1,
         "end": 153306,
         "speaker": null,
         "start": 153136,
         "text": "the"
        },
        {
         "confidence": 0.99998,
         "end": 153734,
         "speaker": null,
         "start": 153328,
         "text": "basics"
        },
        {
         "confidence": 1,
         "end": 153994,
         "speaker": null,
         "start": 153782,
         "text": "of"
        },
        {
         "confidence": 0.99993,
         "end": 154278,
         "speaker": null,
         "start": 154032,
         "text": "setting"
        },
        {
         "confidence": 0.99994,
         "end": 154426,
         "speaker": null,
         "start": 154294,
         "text": "up"
        },
        {
         "confidence": 0.91368,
         "end": 154634,
         "speaker": null,
         "start": 154448,
         "text": "your"
        },
        {
         "confidence": 0.98632,
         "end": 155106,
         "speaker": null,
         "start": 154672,
         "text": "environment"
        },
        {
         "confidence": 0.99994,
         "end": 155326,
         "speaker": null,
         "start": 155158,
         "text": "for"
        },
        {
         "confidence": 0.99998,
         "end": 155774,
         "speaker": null,
         "start": 155348,
         "text": "success."
        },
        {
         "confidence": 1,
         "end": 156078,
         "speaker": null,
         "start": 155892,
         "text": "The"
        },
        {
         "confidence": 0.99997,
         "end": 156254,
         "speaker": null,
         "start": 156084,
         "text": "next"
        },
        {
         "confidence": 0.99997,
         "end": 156446,
         "speaker": null,
         "start": 156292,
         "text": "thing"
        },
        {
         "confidence": 1,
         "end": 156558,
         "speaker": null,
         "start": 156468,
         "text": "I"
        },
        {
         "confidence": 0.99999,
         "end": 156686,
         "speaker": null,
         "start": 156564,
         "text": "did"
        },
        {
         "confidence": 0.99997,
         "end": 156846,
         "speaker": null,
         "start": 156708,
         "text": "was"
        },
        {
         "confidence": 0.99983,
         "end": 157006,
         "speaker": null,
         "start": 156868,
         "text": "give"
        },
        {
         "confidence": 0.99993,
         "end": 157118,
         "speaker": null,
         "start": 157028,
         "text": "my"
        },
        {
         "confidence": 0.68244,
         "end": 157294,
         "speaker": null,
         "start": 157124,
         "text": "friend"
        },
        {
         "confidence": 0.99264,
         "end": 157486,
         "speaker": null,
         "start": 157332,
         "text": "some"
        },
        {
         "confidence": 1,
         "end": 157598,
         "speaker": null,
         "start": 157508,
         "text": "of"
        },
        {
         "confidence": 0.99813,
         "end": 157726,
         "speaker": null,
         "start": 157604,
         "text": "my"
        },
        {
         "confidence": 0.99878,
         "end": 158026,
         "speaker": null,
         "start": 157748,
         "text": "favorite"
        },
        {
         "confidence": 0.99712,
         "end": 158554,
         "speaker": null,
         "start": 158058,
         "text": "resources"
        },
        {
         "confidence": 0.99991,
         "end": 158766,
         "speaker": null,
         "start": 158602,
         "text": "on"
        },
        {
         "confidence": 0.4903,
         "end": 159066,
         "speaker": null,
         "start": 158788,
         "text": "choosing"
        },
        {
         "confidence": 0.64,
         "end": 159294,
         "speaker": null,
         "start": 159098,
         "text": "an"
        },
        {
         "confidence": 0.99957,
         "end": 159850,
         "speaker": null,
         "start": 159332,
         "text": "environment"
        },
        {
         "confidence": 1,
         "end": 160174,
         "speaker": null,
         "start": 159930,
         "text": "and"
        },
        {
         "confidence": 0.9999,
         "end": 160414,
         "speaker": null,
         "start": 160212,
         "text": "getting"
        },
        {
         "confidence": 1,
         "end": 160558,
         "speaker": null,
         "start": 160452,
         "text": "the"
        },
        {
         "confidence": 0.96932,
         "end": 160734,
         "speaker": null,
         "start": 160564,
         "text": "right"
        },
        {
         "confidence": 0.99997,
         "end": 161018,
         "speaker": null,
         "start": 160772,
         "text": "version"
        },
        {
         "confidence": 1,
         "end": 161166,
         "speaker": null,
         "start": 161034,
         "text": "of"
        },
        {
         "confidence": 0.8476,
         "end": 161626,
         "speaker": null,
         "start": 161188,
         "text": "Python"
        },
        {
         "confidence": 0.99999,
         "end": 161806,
         "speaker": null,
         "start": 161658,
         "text": "on"
        },
        {
         "confidence": 0.99998,
         "end": 161966,
         "speaker": null,
         "start": 161828,
         "text": "his"
        },
        {
         "confidence": 0.99992,
         "end": 162318,
         "speaker": null,
         "start": 161988,
         "text": "computer."
        },
        {
         "confidence": 0.99407,
         "end": 162746,
         "speaker": null,
         "start": 162404,
         "text": "Honestly,"
        },
        {
         "confidence": 1,
         "end": 162878,
         "speaker": null,
         "start": 162778,
         "text": "I"
        },
        {
         "confidence": 0.99997,
         "end": 162958,
         "speaker": null,
         "start": 162884,
         "text": "was"
        },
        {
         "confidence": 1,
         "end": 163038,
         "speaker": null,
         "start": 162964,
         "text": "a"
        },
        {
         "confidence": 0.99999,
         "end": 163166,
         "speaker": null,
         "start": 163044,
         "text": "bit"
        },
        {
         "confidence": 0.99973,
         "end": 163338,
         "speaker": null,
         "start": 163188,
         "text": "torn"
        },
        {
         "confidence": 0.99989,
         "end": 163486,
         "speaker": null,
         "start": 163354,
         "text": "on"
        },
        {
         "confidence": 0.99996,
         "end": 163646,
         "speaker": null,
         "start": 163508,
         "text": "this"
        },
        {
         "confidence": 0.99922,
         "end": 163902,
         "speaker": null,
         "start": 163668,
         "text": "too."
        },
        {
         "confidence": 1,
         "end": 164174,
         "speaker": null,
         "start": 163956,
         "text": "So,"
        },
        {
         "confidence": 0.99997,
         "end": 164366,
         "speaker": null,
         "start": 164212,
         "text": "for"
        },
        {
         "confidence": 0.99994,
         "end": 164670,
         "speaker": null,
         "start": 164388,
         "text": "example,"
        },
        {
         "confidence": 0.99995,
         "end": 164926,
         "speaker": null,
         "start": 164740,
         "text": "what"
        },
        {
         "confidence": 0.99984,
         "end": 165230,
         "speaker": null,
         "start": 164948,
         "text": "IDE"
        },
        {
         "confidence": 0.99989,
         "end": 165486,
         "speaker": null,
         "start": 165300,
         "text": "should"
        },
        {
         "confidence": 0.99265,
         "end": 165646,
         "speaker": null,
         "start": 165508,
         "text": "he"
        },
        {
         "confidence": 0.79039,
         "end": 165854,
         "speaker": null,
         "start": 165668,
         "text": "use?"
        },
        {
         "confidence": 0.74878,
         "end": 166046,
         "speaker": null,
         "start": 165892,
         "text": "Does"
        },
        {
         "confidence": 0.99555,
         "end": 166158,
         "speaker": null,
         "start": 166068,
         "text": "he"
        },
        {
         "confidence": 0.56205,
         "end": 166286,
         "speaker": null,
         "start": 166164,
         "text": "even"
        },
        {
         "confidence": 0.99996,
         "end": 166458,
         "speaker": null,
         "start": 166308,
         "text": "know"
        },
        {
         "confidence": 0.99995,
         "end": 166626,
         "speaker": null,
         "start": 166484,
         "text": "what"
        },
        {
         "confidence": 0.99929,
         "end": 166978,
         "speaker": null,
         "start": 166648,
         "text": "IDE"
        },
        {
         "confidence": 0.98245,
         "end": 167326,
         "speaker": null,
         "start": 167064,
         "text": "stands"
        },
        {
         "confidence": 0.99526,
         "end": 167554,
         "speaker": null,
         "start": 167358,
         "text": "for?"
        },
        {
         "confidence": 0.99546,
         "end": 167746,
         "speaker": null,
         "start": 167592,
         "text": "For"
        },
        {
         "confidence": 0.9999,
         "end": 167906,
         "speaker": null,
         "start": 167768,
         "text": "those"
        },
        {
         "confidence": 0.99973,
         "end": 168066,
         "speaker": null,
         "start": 167928,
         "text": "who"
        },
        {
         "confidence": 0.99989,
         "end": 168286,
         "speaker": null,
         "start": 168088,
         "text": "don't"
        },
        {
         "confidence": 0.99993,
         "end": 168514,
         "speaker": null,
         "start": 168318,
         "text": "know"
        },
        {
         "confidence": 1,
         "end": 168706,
         "speaker": null,
         "start": 168552,
         "text": "and"
        },
        {
         "confidence": 0.99995,
         "end": 168866,
         "speaker": null,
         "start": 168728,
         "text": "who"
        },
        {
         "confidence": 0.99992,
         "end": 169026,
         "speaker": null,
         "start": 168888,
         "text": "are"
        },
        {
         "confidence": 1,
         "end": 169330,
         "speaker": null,
         "start": 169048,
         "text": "new,"
        },
        {
         "confidence": 0.82047,
         "end": 169826,
         "speaker": null,
         "start": 169400,
         "text": "IDE"
        },
        {
         "confidence": 0.99931,
         "end": 170238,
         "speaker": null,
         "start": 169928,
         "text": "stands"
        },
        {
         "confidence": 0.99992,
         "end": 170434,
         "speaker": null,
         "start": 170254,
         "text": "for"
        },
        {
         "confidence": 0.99954,
         "end": 171070,
         "speaker": null,
         "start": 170472,
         "text": "integrated"
        },
        {
         "confidence": 0.99125,
         "end": 171614,
         "speaker": null,
         "start": 171150,
         "text": "development"
        },
        {
         "confidence": 0.99975,
         "end": 172366,
         "speaker": null,
         "start": 171662,
         "text": "environment."
        },
        {
         "confidence": 0.99,
         "end": 172754,
         "speaker": null,
         "start": 172478,
         "text": "So"
        },
        {
         "confidence": 0.99996,
         "end": 172946,
         "speaker": null,
         "start": 172792,
         "text": "this"
        },
        {
         "confidence": 0.99996,
         "end": 173106,
         "speaker": null,
         "start": 172968,
         "text": "is"
        },
        {
         "confidence": 0.99996,
         "end": 173502,
         "speaker": null,
         "start": 173128,
         "text": "essentially"
        },
        {
         "confidence": 0.99987,
         "end": 173746,
         "speaker": null,
         "start": 173566,
         "text": "just"
        },
        {
         "confidence": 0.81,
         "end": 173906,
         "speaker": null,
         "start": 173768,
         "text": "the"
        },
        {
         "confidence": 0.99862,
         "end": 174114,
         "speaker": null,
         "start": 173928,
         "text": "text"
        },
        {
         "confidence": 0.99784,
         "end": 174446,
         "speaker": null,
         "start": 174152,
         "text": "editor"
        },
        {
         "confidence": 0.99979,
         "end": 174626,
         "speaker": null,
         "start": 174478,
         "text": "you"
        },
        {
         "confidence": 0.9992,
         "end": 174834,
         "speaker": null,
         "start": 174648,
         "text": "use"
        },
        {
         "confidence": 1,
         "end": 175026,
         "speaker": null,
         "start": 174872,
         "text": "to"
        },
        {
         "confidence": 0.99987,
         "end": 175186,
         "speaker": null,
         "start": 175048,
         "text": "write"
        },
        {
         "confidence": 0.93901,
         "end": 175394,
         "speaker": null,
         "start": 175208,
         "text": "your"
        },
        {
         "confidence": 0.99993,
         "end": 175730,
         "speaker": null,
         "start": 175432,
         "text": "code."
        },
        {
         "confidence": 0.99959,
         "end": 175986,
         "speaker": null,
         "start": 175800,
         "text": "If"
        },
        {
         "confidence": 0.99998,
         "end": 176098,
         "speaker": null,
         "start": 176008,
         "text": "you"
        },
        {
         "confidence": 0.60034,
         "end": 176226,
         "speaker": null,
         "start": 176104,
         "text": "were"
        },
        {
         "confidence": 0.9985,
         "end": 176542,
         "speaker": null,
         "start": 176248,
         "text": "writing"
        },
        {
         "confidence": 1,
         "end": 176786,
         "speaker": null,
         "start": 176606,
         "text": "an"
        },
        {
         "confidence": 0.99985,
         "end": 177230,
         "speaker": null,
         "start": 176808,
         "text": "essay,"
        },
        {
         "confidence": 0.9992,
         "end": 177458,
         "speaker": null,
         "start": 177310,
         "text": "you"
        },
        {
         "confidence": 0.50381,
         "end": 177634,
         "speaker": null,
         "start": 177464,
         "text": "could"
        },
        {
         "confidence": 0.99997,
         "end": 177874,
         "speaker": null,
         "start": 177672,
         "text": "choose"
        },
        {
         "confidence": 1,
         "end": 178018,
         "speaker": null,
         "start": 177912,
         "text": "to"
        },
        {
         "confidence": 0.99982,
         "end": 178194,
         "speaker": null,
         "start": 178024,
         "text": "use"
        },
        {
         "confidence": 0.93451,
         "end": 178686,
         "speaker": null,
         "start": 178232,
         "text": "Microsoft"
        },
        {
         "confidence": 0.99987,
         "end": 178914,
         "speaker": null,
         "start": 178718,
         "text": "Word."
        },
        {
         "confidence": 0.68846,
         "end": 179106,
         "speaker": null,
         "start": 178952,
         "text": "You"
        },
        {
         "confidence": 0.99157,
         "end": 179218,
         "speaker": null,
         "start": 179128,
         "text": "could"
        },
        {
         "confidence": 0.99986,
         "end": 179394,
         "speaker": null,
         "start": 179224,
         "text": "use"
        },
        {
         "confidence": 1,
         "end": 179682,
         "speaker": null,
         "start": 179432,
         "text": "Google"
        },
        {
         "confidence": 0.69846,
         "end": 180222,
         "speaker": null,
         "start": 179736,
         "text": "Docs,"
        },
        {
         "confidence": 0.99595,
         "end": 180466,
         "speaker": null,
         "start": 180286,
         "text": "you"
        },
        {
         "confidence": 0.99657,
         "end": 180590,
         "speaker": null,
         "start": 180488,
         "text": "could"
        },
        {
         "confidence": 0.60387,
         "end": 180774,
         "speaker": null,
         "start": 180600,
         "text": "use"
        },
        {
         "confidence": 0.54625,
         "end": 181314,
         "speaker": null,
         "start": 180812,
         "text": "notepad,"
        },
        {
         "confidence": 0.9998,
         "end": 181526,
         "speaker": null,
         "start": 181362,
         "text": "or"
        },
        {
         "confidence": 0.99974,
         "end": 181734,
         "speaker": null,
         "start": 181548,
         "text": "maybe"
        },
        {
         "confidence": 0.99991,
         "end": 181926,
         "speaker": null,
         "start": 181772,
         "text": "even"
        },
        {
         "confidence": 0.99767,
         "end": 182326,
         "speaker": null,
         "start": 181948,
         "text": "just"
        },
        {
         "confidence": 0.97617,
         "end": 182706,
         "speaker": null,
         "start": 182428,
         "text": "straight"
        },
        {
         "confidence": 0.98851,
         "end": 182886,
         "speaker": null,
         "start": 182738,
         "text": "up"
        },
        {
         "confidence": 0.99987,
         "end": 183094,
         "speaker": null,
         "start": 182908,
         "text": "pen"
        },
        {
         "confidence": 1,
         "end": 183238,
         "speaker": null,
         "start": 183132,
         "text": "and"
        },
        {
         "confidence": 0.99987,
         "end": 183510,
         "speaker": null,
         "start": 183244,
         "text": "paper,"
        },
        {
         "confidence": 0.99991,
         "end": 183766,
         "speaker": null,
         "start": 183580,
         "text": "just"
        },
        {
         "confidence": 1,
         "end": 183926,
         "speaker": null,
         "start": 183788,
         "text": "like"
        },
        {
         "confidence": 0.99794,
         "end": 184038,
         "speaker": null,
         "start": 183948,
         "text": "there"
        },
        {
         "confidence": 0.90973,
         "end": 184166,
         "speaker": null,
         "start": 184044,
         "text": "are"
        },
        {
         "confidence": 0.99994,
         "end": 184326,
         "speaker": null,
         "start": 184188,
         "text": "these"
        },
        {
         "confidence": 0.99998,
         "end": 184486,
         "speaker": null,
         "start": 184348,
         "text": "different"
        },
        {
         "confidence": 0.77601,
         "end": 184898,
         "speaker": null,
         "start": 184508,
         "text": "mediums"
        },
        {
         "confidence": 0.99948,
         "end": 185046,
         "speaker": null,
         "start": 184914,
         "text": "for"
        },
        {
         "confidence": 0.99979,
         "end": 185158,
         "speaker": null,
         "start": 185068,
         "text": "you"
        },
        {
         "confidence": 1,
         "end": 185238,
         "speaker": null,
         "start": 185164,
         "text": "to"
        },
        {
         "confidence": 0.9702,
         "end": 185414,
         "speaker": null,
         "start": 185244,
         "text": "write"
        },
        {
         "confidence": 0.99992,
         "end": 185606,
         "speaker": null,
         "start": 185452,
         "text": "your"
        },
        {
         "confidence": 0.99926,
         "end": 185766,
         "speaker": null,
         "start": 185628,
         "text": "last"
        },
        {
         "confidence": 0.99,
         "end": 186066,
         "speaker": null,
         "start": 185788,
         "text": "minute"
        },
        {
         "confidence": 0.99996,
         "end": 186390,
         "speaker": null,
         "start": 186098,
         "text": "paper."
        },
        {
         "confidence": 0.76057,
         "end": 186742,
         "speaker": null,
         "start": 186460,
         "text": "Data"
        },
        {
         "confidence": 0.99596,
         "end": 187186,
         "speaker": null,
         "start": 186796,
         "text": "scientists"
        },
        {
         "confidence": 1,
         "end": 187318,
         "speaker": null,
         "start": 187218,
         "text": "and"
        },
        {
         "confidence": 0.99999,
         "end": 187586,
         "speaker": null,
         "start": 187324,
         "text": "software"
        },
        {
         "confidence": 0.99985,
         "end": 188178,
         "speaker": null,
         "start": 187618,
         "text": "engineers"
        },
        {
         "confidence": 0.99993,
         "end": 188534,
         "speaker": null,
         "start": 188274,
         "text": "need"
        },
        {
         "confidence": 0.99992,
         "end": 188866,
         "speaker": null,
         "start": 188572,
         "text": "places"
        },
        {
         "confidence": 1,
         "end": 188998,
         "speaker": null,
         "start": 188898,
         "text": "to"
        },
        {
         "confidence": 0.99975,
         "end": 189126,
         "speaker": null,
         "start": 189004,
         "text": "write"
        },
        {
         "confidence": 1,
         "end": 189334,
         "speaker": null,
         "start": 189148,
         "text": "their"
        },
        {
         "confidence": 0.99995,
         "end": 189814,
         "speaker": null,
         "start": 189372,
         "text": "code."
        },
        {
         "confidence": 0.99969,
         "end": 190214,
         "speaker": null,
         "start": 189932,
         "text": "These"
        },
        {
         "confidence": 0.99959,
         "end": 190594,
         "speaker": null,
         "start": 190252,
         "text": "places"
        },
        {
         "confidence": 0.9999,
         "end": 190806,
         "speaker": null,
         "start": 190642,
         "text": "are"
        },
        {
         "confidence": 0.99997,
         "end": 191014,
         "speaker": null,
         "start": 190828,
         "text": "called"
        },
        {
         "confidence": 0.94975,
         "end": 191682,
         "speaker": null,
         "start": 191052,
         "text": "ides,"
        },
        {
         "confidence": 0.99,
         "end": 191926,
         "speaker": null,
         "start": 191746,
         "text": "and"
        },
        {
         "confidence": 0.99953,
         "end": 192086,
         "speaker": null,
         "start": 191948,
         "text": "just"
        },
        {
         "confidence": 1,
         "end": 192258,
         "speaker": null,
         "start": 192108,
         "text": "like"
        },
        {
         "confidence": 0.9967,
         "end": 192726,
         "speaker": null,
         "start": 192284,
         "text": "Microsoft"
        },
        {
         "confidence": 0.99993,
         "end": 192954,
         "speaker": null,
         "start": 192758,
         "text": "Word"
        },
        {
         "confidence": 0.99912,
         "end": 193146,
         "speaker": null,
         "start": 192992,
         "text": "has"
        },
        {
         "confidence": 0.92623,
         "end": 193366,
         "speaker": null,
         "start": 193168,
         "text": "spell"
        },
        {
         "confidence": 0.82711,
         "end": 193594,
         "speaker": null,
         "start": 193398,
         "text": "track"
        },
        {
         "confidence": 0.99,
         "end": 193738,
         "speaker": null,
         "start": 193632,
         "text": "and"
        },
        {
         "confidence": 0.99986,
         "end": 194246,
         "speaker": null,
         "start": 193744,
         "text": "formatting"
        },
        {
         "confidence": 1,
         "end": 194378,
         "speaker": null,
         "start": 194278,
         "text": "to"
        },
        {
         "confidence": 0.99997,
         "end": 194458,
         "speaker": null,
         "start": 194384,
         "text": "make"
        },
        {
         "confidence": 0.99986,
         "end": 194586,
         "speaker": null,
         "start": 194464,
         "text": "sure"
        },
        {
         "confidence": 0.99833,
         "end": 194698,
         "speaker": null,
         "start": 194608,
         "text": "that"
        },
        {
         "confidence": 0.99985,
         "end": 194778,
         "speaker": null,
         "start": 194704,
         "text": "you"
        },
        {
         "confidence": 0.99983,
         "end": 194918,
         "speaker": null,
         "start": 194784,
         "text": "don't"
        },
        {
         "confidence": 0.99996,
         "end": 195066,
         "speaker": null,
         "start": 194934,
         "text": "make"
        },
        {
         "confidence": 0.82874,
         "end": 195606,
         "speaker": null,
         "start": 195088,
         "text": "grammatical"
        },
        {
         "confidence": 0.99961,
         "end": 196198,
         "speaker": null,
         "start": 195638,
         "text": "errors,"
        },
        {
         "confidence": 0.99994,
         "end": 196602,
         "speaker": null,
         "start": 196294,
         "text": "many"
        },
        {
         "confidence": 0.99457,
         "end": 197126,
         "speaker": null,
         "start": 196656,
         "text": "ides"
        },
        {
         "confidence": 0.99999,
         "end": 197354,
         "speaker": null,
         "start": 197158,
         "text": "help"
        },
        {
         "confidence": 0.99959,
         "end": 197594,
         "speaker": null,
         "start": 197392,
         "text": "you"
        },
        {
         "confidence": 1,
         "end": 197834,
         "speaker": null,
         "start": 197632,
         "text": "to"
        },
        {
         "confidence": 0.99991,
         "end": 198026,
         "speaker": null,
         "start": 197872,
         "text": "make"
        },
        {
         "confidence": 0.99998,
         "end": 198234,
         "speaker": null,
         "start": 198048,
         "text": "sure"
        },
        {
         "confidence": 0.9989,
         "end": 198378,
         "speaker": null,
         "start": 198272,
         "text": "that"
        },
        {
         "confidence": 0.99928,
         "end": 198506,
         "speaker": null,
         "start": 198384,
         "text": "you"
        },
        {
         "confidence": 0.99973,
         "end": 198810,
         "speaker": null,
         "start": 198528,
         "text": "have"
        },
        {
         "confidence": 0.99996,
         "end": 199162,
         "speaker": null,
         "start": 198880,
         "text": "proper"
        },
        {
         "confidence": 0.99895,
         "end": 199686,
         "speaker": null,
         "start": 199216,
         "text": "syntax"
        },
        {
         "confidence": 0.99996,
         "end": 199818,
         "speaker": null,
         "start": 199718,
         "text": "in"
        },
        {
         "confidence": 0.9504,
         "end": 199946,
         "speaker": null,
         "start": 199824,
         "text": "your"
        },
        {
         "confidence": 0.99975,
         "end": 200298,
         "speaker": null,
         "start": 199968,
         "text": "code."
        },
        {
         "confidence": 0.99332,
         "end": 200586,
         "speaker": null,
         "start": 200384,
         "text": "In"
        },
        {
         "confidence": 0.98346,
         "end": 201210,
         "speaker": null,
         "start": 200608,
         "text": "theory,"
        },
        {
         "confidence": 0.99995,
         "end": 202102,
         "speaker": null,
         "start": 201550,
         "text": "technically"
        },
        {
         "confidence": 0.99715,
         "end": 202726,
         "speaker": null,
         "start": 202166,
         "text": "Microsoft"
        },
        {
         "confidence": 0.99999,
         "end": 203002,
         "speaker": null,
         "start": 202758,
         "text": "Word"
        },
        {
         "confidence": 0.99979,
         "end": 203226,
         "speaker": null,
         "start": 203056,
         "text": "would"
        },
        {
         "confidence": 0.99837,
         "end": 203434,
         "speaker": null,
         "start": 203248,
         "text": "be"
        },
        {
         "confidence": 0.99995,
         "end": 203798,
         "speaker": null,
         "start": 203472,
         "text": "considered"
        },
        {
         "confidence": 1,
         "end": 203946,
         "speaker": null,
         "start": 203814,
         "text": "an"
        },
        {
         "confidence": 0.99855,
         "end": 204394,
         "speaker": null,
         "start": 203968,
         "text": "IDE,"
        },
        {
         "confidence": 0.99998,
         "end": 204794,
         "speaker": null,
         "start": 204512,
         "text": "but"
        },
        {
         "confidence": 1,
         "end": 204986,
         "speaker": null,
         "start": 204832,
         "text": "I"
        },
        {
         "confidence": 0.99982,
         "end": 205206,
         "speaker": null,
         "start": 205008,
         "text": "definitely"
        },
        {
         "confidence": 0.98466,
         "end": 205466,
         "speaker": null,
         "start": 205248,
         "text": "don't"
        },
        {
         "confidence": 0.99994,
         "end": 205838,
         "speaker": null,
         "start": 205498,
         "text": "recommend"
        },
        {
         "confidence": 0.99991,
         "end": 206174,
         "speaker": null,
         "start": 205924,
         "text": "using"
        },
        {
         "confidence": 0.99995,
         "end": 206318,
         "speaker": null,
         "start": 206212,
         "text": "it"
        },
        {
         "confidence": 0.99965,
         "end": 206446,
         "speaker": null,
         "start": 206324,
         "text": "as"
        },
        {
         "confidence": 0.99985,
         "end": 206750,
         "speaker": null,
         "start": 206468,
         "text": "such"
        },
        {
         "confidence": 0.9996,
         "end": 207066,
         "speaker": null,
         "start": 206820,
         "text": "unless"
        },
        {
         "confidence": 0.98995,
         "end": 207258,
         "speaker": null,
         "start": 207098,
         "text": "you're"
        },
        {
         "confidence": 0.1705,
         "end": 207578,
         "speaker": null,
         "start": 207274,
         "text": "Juma"
        },
        {
         "confidence": 0.99,
         "end": 207918,
         "speaker": null,
         "start": 207594,
         "text": "tech."
        },
        {
         "confidence": 0.99997,
         "end": 208158,
         "speaker": null,
         "start": 208004,
         "text": "This"
        },
        {
         "confidence": 0.9999,
         "end": 208286,
         "speaker": null,
         "start": 208164,
         "text": "is"
        },
        {
         "confidence": 0.97,
         "end": 208446,
         "speaker": null,
         "start": 208308,
         "text": "a"
        },
        {
         "confidence": 1,
         "end": 208654,
         "speaker": null,
         "start": 208468,
         "text": "list"
        },
        {
         "confidence": 1,
         "end": 208798,
         "speaker": null,
         "start": 208692,
         "text": "of"
        },
        {
         "confidence": 1,
         "end": 208926,
         "speaker": null,
         "start": 208804,
         "text": "the"
        },
        {
         "confidence": 0.99997,
         "end": 209086,
         "speaker": null,
         "start": 208948,
         "text": "most"
        },
        {
         "confidence": 0.94433,
         "end": 209466,
         "speaker": null,
         "start": 209108,
         "text": "commonly"
        },
        {
         "confidence": 0.98614,
         "end": 209790,
         "speaker": null,
         "start": 209498,
         "text": "used"
        },
        {
         "confidence": 0.99659,
         "end": 210346,
         "speaker": null,
         "start": 209860,
         "text": "ides"
        },
        {
         "confidence": 0.99998,
         "end": 210478,
         "speaker": null,
         "start": 210378,
         "text": "in"
        },
        {
         "confidence": 1,
         "end": 210558,
         "speaker": null,
         "start": 210484,
         "text": "the"
        },
        {
         "confidence": 0.99975,
         "end": 210782,
         "speaker": null,
         "start": 210564,
         "text": "data"
        },
        {
         "confidence": 0.99959,
         "end": 211418,
         "speaker": null,
         "start": 210836,
         "text": "domain,"
        },
        {
         "confidence": 0.99,
         "end": 211726,
         "speaker": null,
         "start": 211514,
         "text": "and"
        },
        {
         "confidence": 0.99997,
         "end": 211886,
         "speaker": null,
         "start": 211748,
         "text": "as"
        },
        {
         "confidence": 1,
         "end": 211998,
         "speaker": null,
         "start": 211908,
         "text": "you"
        },
        {
         "confidence": 1,
         "end": 212078,
         "speaker": null,
         "start": 212004,
         "text": "can"
        },
        {
         "confidence": 0.99807,
         "end": 212302,
         "speaker": null,
         "start": 212084,
         "text": "see,"
        },
        {
         "confidence": 0.99999,
         "end": 212622,
         "speaker": null,
         "start": 212356,
         "text": "common"
        },
        {
         "confidence": 0.98523,
         "end": 213098,
         "speaker": null,
         "start": 212676,
         "text": "ides"
        },
        {
         "confidence": 0.99994,
         "end": 213246,
         "speaker": null,
         "start": 213114,
         "text": "for"
        },
        {
         "confidence": 0.56197,
         "end": 213674,
         "speaker": null,
         "start": 213268,
         "text": "Python"
        },
        {
         "confidence": 0.99835,
         "end": 213886,
         "speaker": null,
         "start": 213722,
         "text": "are"
        },
        {
         "confidence": 0.9791,
         "end": 214186,
         "speaker": null,
         "start": 213908,
         "text": "vs."
        },
        {
         "confidence": 0.62655,
         "end": 214606,
         "speaker": null,
         "start": 214218,
         "text": "Code,"
        },
        {
         "confidence": 0.99508,
         "end": 215158,
         "speaker": null,
         "start": 214708,
         "text": "Jupyter,"
        },
        {
         "confidence": 0.99939,
         "end": 215662,
         "speaker": null,
         "start": 215194,
         "text": "notebook,"
        },
        {
         "confidence": 0.92972,
         "end": 216318,
         "speaker": null,
         "start": 215726,
         "text": "pycharm,"
        },
        {
         "confidence": 1,
         "end": 216466,
         "speaker": null,
         "start": 216334,
         "text": "and"
        },
        {
         "confidence": 0.48546,
         "end": 217198,
         "speaker": null,
         "start": 216488,
         "text": "spider."
        },
        {
         "confidence": 0.9999,
         "end": 217810,
         "speaker": null,
         "start": 217374,
         "text": "Before"
        },
        {
         "confidence": 0.99981,
         "end": 218162,
         "speaker": null,
         "start": 217880,
         "text": "anything"
        },
        {
         "confidence": 0.99995,
         "end": 218530,
         "speaker": null,
         "start": 218216,
         "text": "else,"
        },
        {
         "confidence": 1,
         "end": 218834,
         "speaker": null,
         "start": 218600,
         "text": "I"
        },
        {
         "confidence": 0.99994,
         "end": 219026,
         "speaker": null,
         "start": 218872,
         "text": "wanted"
        },
        {
         "confidence": 1,
         "end": 219186,
         "speaker": null,
         "start": 219048,
         "text": "to"
        },
        {
         "confidence": 0.99995,
         "end": 219346,
         "speaker": null,
         "start": 219208,
         "text": "give"
        },
        {
         "confidence": 0.99994,
         "end": 219506,
         "speaker": null,
         "start": 219368,
         "text": "him"
        },
        {
         "confidence": 1,
         "end": 219666,
         "speaker": null,
         "start": 219528,
         "text": "a"
        },
        {
         "confidence": 0.9992,
         "end": 219934,
         "speaker": null,
         "start": 219688,
         "text": "decent"
        },
        {
         "confidence": 0.99998,
         "end": 220494,
         "speaker": null,
         "start": 219982,
         "text": "understanding"
        },
        {
         "confidence": 1,
         "end": 220754,
         "speaker": null,
         "start": 220542,
         "text": "about"
        },
        {
         "confidence": 0.99998,
         "end": 220946,
         "speaker": null,
         "start": 220792,
         "text": "how"
        },
        {
         "confidence": 1,
         "end": 221106,
         "speaker": null,
         "start": 220968,
         "text": "the"
        },
        {
         "confidence": 0.99985,
         "end": 221662,
         "speaker": null,
         "start": 221128,
         "text": "development"
        },
        {
         "confidence": 0.99926,
         "end": 222222,
         "speaker": null,
         "start": 221726,
         "text": "environments"
        },
        {
         "confidence": 0.53,
         "end": 222610,
         "speaker": null,
         "start": 222286,
         "text": "work"
        },
        {
         "confidence": 0.99919,
         "end": 222962,
         "speaker": null,
         "start": 222680,
         "text": "before"
        },
        {
         "confidence": 0.99958,
         "end": 223186,
         "speaker": null,
         "start": 223016,
         "text": "we"
        },
        {
         "confidence": 0.90688,
         "end": 223406,
         "speaker": null,
         "start": 223208,
         "text": "picked"
        },
        {
         "confidence": 1,
         "end": 223730,
         "speaker": null,
         "start": 223438,
         "text": "one."
        },
        {
         "confidence": 0.99982,
         "end": 223986,
         "speaker": null,
         "start": 223800,
         "text": "As"
        },
        {
         "confidence": 1,
         "end": 224146,
         "speaker": null,
         "start": 224008,
         "text": "I"
        },
        {
         "confidence": 0.99998,
         "end": 224546,
         "speaker": null,
         "start": 224168,
         "text": "mentioned,"
        },
        {
         "confidence": 0.99999,
         "end": 224866,
         "speaker": null,
         "start": 224648,
         "text": "this"
        },
        {
         "confidence": 0.99965,
         "end": 225026,
         "speaker": null,
         "start": 224888,
         "text": "is"
        },
        {
         "confidence": 0.99996,
         "end": 225282,
         "speaker": null,
         "start": 225048,
         "text": "something"
        },
        {
         "confidence": 0.99982,
         "end": 225506,
         "speaker": null,
         "start": 225336,
         "text": "that"
        },
        {
         "confidence": 1,
         "end": 225666,
         "speaker": null,
         "start": 225528,
         "text": "I"
        },
        {
         "confidence": 0.99871,
         "end": 225874,
         "speaker": null,
         "start": 225688,
         "text": "was"
        },
        {
         "confidence": 0.9984,
         "end": 226254,
         "speaker": null,
         "start": 225912,
         "text": "totally"
        },
        {
         "confidence": 0.99999,
         "end": 226686,
         "speaker": null,
         "start": 226302,
         "text": "confused"
        },
        {
         "confidence": 1,
         "end": 226914,
         "speaker": null,
         "start": 226718,
         "text": "about"
        },
        {
         "confidence": 0.99992,
         "end": 227106,
         "speaker": null,
         "start": 226952,
         "text": "when"
        },
        {
         "confidence": 1,
         "end": 227266,
         "speaker": null,
         "start": 227128,
         "text": "I"
        },
        {
         "confidence": 1,
         "end": 227714,
         "speaker": null,
         "start": 227288,
         "text": "started."
        },
        {
         "confidence": 0.9998,
         "end": 228066,
         "speaker": null,
         "start": 227832,
         "text": "When"
        },
        {
         "confidence": 1,
         "end": 228178,
         "speaker": null,
         "start": 228088,
         "text": "I"
        },
        {
         "confidence": 0.9964,
         "end": 228366,
         "speaker": null,
         "start": 228184,
         "text": "learned"
        },
        {
         "confidence": 0.81,
         "end": 228498,
         "speaker": null,
         "start": 228398,
         "text": "to"
        },
        {
         "confidence": 0.99984,
         "end": 228770,
         "speaker": null,
         "start": 228504,
         "text": "code,"
        },
        {
         "confidence": 1,
         "end": 228990,
         "speaker": null,
         "start": 228840,
         "text": "I"
        },
        {
         "confidence": 0.99913,
         "end": 229174,
         "speaker": null,
         "start": 229000,
         "text": "was"
        },
        {
         "confidence": 0.99997,
         "end": 229462,
         "speaker": null,
         "start": 229212,
         "text": "using"
        },
        {
         "confidence": 0.66341,
         "end": 230002,
         "speaker": null,
         "start": 229516,
         "text": "Python"
        },
        {
         "confidence": 1,
         "end": 230246,
         "speaker": null,
         "start": 230066,
         "text": "and"
        },
        {
         "confidence": 1,
         "end": 230358,
         "speaker": null,
         "start": 230268,
         "text": "I"
        },
        {
         "confidence": 0.99997,
         "end": 230486,
         "speaker": null,
         "start": 230364,
         "text": "was"
        },
        {
         "confidence": 0.99979,
         "end": 230646,
         "speaker": null,
         "start": 230508,
         "text": "using"
        },
        {
         "confidence": 1,
         "end": 230806,
         "speaker": null,
         "start": 230668,
         "text": "an"
        },
        {
         "confidence": 0.96731,
         "end": 231158,
         "speaker": null,
         "start": 230828,
         "text": "ide"
        },
        {
         "confidence": 0.99994,
         "end": 231494,
         "speaker": null,
         "start": 231244,
         "text": "called"
        },
        {
         "confidence": 0.93445,
         "end": 232002,
         "speaker": null,
         "start": 231532,
         "text": "idle."
        },
        {
         "confidence": 0.98,
         "end": 232294,
         "speaker": null,
         "start": 232066,
         "text": "So"
        },
        {
         "confidence": 0.90339,
         "end": 232626,
         "speaker": null,
         "start": 232332,
         "text": "idle"
        },
        {
         "confidence": 0.95607,
         "end": 232806,
         "speaker": null,
         "start": 232658,
         "text": "was"
        },
        {
         "confidence": 0.99998,
         "end": 232966,
         "speaker": null,
         "start": 232828,
         "text": "great"
        },
        {
         "confidence": 0.99999,
         "end": 233126,
         "speaker": null,
         "start": 232988,
         "text": "for"
        },
        {
         "confidence": 0.99997,
         "end": 233478,
         "speaker": null,
         "start": 233148,
         "text": "learning,"
        },
        {
         "confidence": 0.99998,
         "end": 233766,
         "speaker": null,
         "start": 233564,
         "text": "but"
        },
        {
         "confidence": 0.51163,
         "end": 234066,
         "speaker": null,
         "start": 233788,
         "text": "I've"
        },
        {
         "confidence": 0.66889,
         "end": 234402,
         "speaker": null,
         "start": 234098,
         "text": "literally"
        },
        {
         "confidence": 0.99453,
         "end": 234790,
         "speaker": null,
         "start": 234466,
         "text": "never"
        },
        {
         "confidence": 0.99984,
         "end": 235142,
         "speaker": null,
         "start": 234860,
         "text": "once"
        },
        {
         "confidence": 0.99987,
         "end": 235506,
         "speaker": null,
         "start": 235196,
         "text": "touched"
        },
        {
         "confidence": 0.99997,
         "end": 235686,
         "speaker": null,
         "start": 235538,
         "text": "it"
        },
        {
         "confidence": 0.99911,
         "end": 236134,
         "speaker": null,
         "start": 235708,
         "text": "since,"
        },
        {
         "confidence": 0.99,
         "end": 236630,
         "speaker": null,
         "start": 236252,
         "text": "and"
        },
        {
         "confidence": 1,
         "end": 236934,
         "speaker": null,
         "start": 236700,
         "text": "I"
        },
        {
         "confidence": 0.99994,
         "end": 237138,
         "speaker": null,
         "start": 236972,
         "text": "don't"
        },
        {
         "confidence": 0.99999,
         "end": 237286,
         "speaker": null,
         "start": 237154,
         "text": "use"
        },
        {
         "confidence": 0.99999,
         "end": 237398,
         "speaker": null,
         "start": 237308,
         "text": "it"
        },
        {
         "confidence": 0.99997,
         "end": 237526,
         "speaker": null,
         "start": 237404,
         "text": "on"
        },
        {
         "confidence": 0.99998,
         "end": 237686,
         "speaker": null,
         "start": 237548,
         "text": "any"
        },
        {
         "confidence": 0.99997,
         "end": 237942,
         "speaker": null,
         "start": 237708,
         "text": "data"
        },
        {
         "confidence": 0.66881,
         "end": 238306,
         "speaker": null,
         "start": 237996,
         "text": "projects"
        },
        {
         "confidence": 0.94982,
         "end": 238486,
         "speaker": null,
         "start": 238338,
         "text": "in"
        },
        {
         "confidence": 0.99995,
         "end": 238646,
         "speaker": null,
         "start": 238508,
         "text": "any"
        },
        {
         "confidence": 1,
         "end": 238806,
         "speaker": null,
         "start": 238668,
         "text": "of"
        },
        {
         "confidence": 0.99997,
         "end": 238966,
         "speaker": null,
         "start": 238828,
         "text": "my"
        },
        {
         "confidence": 1,
         "end": 239318,
         "speaker": null,
         "start": 238988,
         "text": "work."
        },
        {
         "confidence": 1,
         "end": 239606,
         "speaker": null,
         "start": 239404,
         "text": "I"
        },
        {
         "confidence": 0.99992,
         "end": 239814,
         "speaker": null,
         "start": 239628,
         "text": "wanted"
        },
        {
         "confidence": 1,
         "end": 239958,
         "speaker": null,
         "start": 239852,
         "text": "to"
        },
        {
         "confidence": 0.99983,
         "end": 240134,
         "speaker": null,
         "start": 239964,
         "text": "make"
        },
        {
         "confidence": 1,
         "end": 240374,
         "speaker": null,
         "start": 240172,
         "text": "sure"
        },
        {
         "confidence": 0.98983,
         "end": 240710,
         "speaker": null,
         "start": 240412,
         "text": "that"
        },
        {
         "confidence": 0.99987,
         "end": 241014,
         "speaker": null,
         "start": 240780,
         "text": "my"
        },
        {
         "confidence": 0.99995,
         "end": 241254,
         "speaker": null,
         "start": 241052,
         "text": "friend"
        },
        {
         "confidence": 0.99997,
         "end": 241446,
         "speaker": null,
         "start": 241292,
         "text": "was"
        },
        {
         "confidence": 0.99997,
         "end": 241702,
         "speaker": null,
         "start": 241468,
         "text": "using"
        },
        {
         "confidence": 0.99998,
         "end": 242022,
         "speaker": null,
         "start": 241756,
         "text": "something"
        },
        {
         "confidence": 0.99995,
         "end": 242246,
         "speaker": null,
         "start": 242076,
         "text": "that"
        },
        {
         "confidence": 0.99995,
         "end": 242370,
         "speaker": null,
         "start": 242268,
         "text": "would"
        },
        {
         "confidence": 0.99998,
         "end": 242506,
         "speaker": null,
         "start": 242380,
         "text": "be"
        },
        {
         "confidence": 0.98667,
         "end": 243142,
         "speaker": null,
         "start": 242528,
         "text": "representative"
        },
        {
         "confidence": 1,
         "end": 243386,
         "speaker": null,
         "start": 243206,
         "text": "of"
        },
        {
         "confidence": 0.99988,
         "end": 243546,
         "speaker": null,
         "start": 243408,
         "text": "what"
        },
        {
         "confidence": 0.9998,
         "end": 243706,
         "speaker": null,
         "start": 243568,
         "text": "he"
        },
        {
         "confidence": 0.99946,
         "end": 243962,
         "speaker": null,
         "start": 243728,
         "text": "might"
        },
        {
         "confidence": 0.99999,
         "end": 244234,
         "speaker": null,
         "start": 244016,
         "text": "see"
        },
        {
         "confidence": 0.99982,
         "end": 244378,
         "speaker": null,
         "start": 244272,
         "text": "in"
        },
        {
         "confidence": 1,
         "end": 244458,
         "speaker": null,
         "start": 244384,
         "text": "the"
        },
        {
         "confidence": 1,
         "end": 244634,
         "speaker": null,
         "start": 244464,
         "text": "real"
        },
        {
         "confidence": 0.99967,
         "end": 244970,
         "speaker": null,
         "start": 244672,
         "text": "world,"
        },
        {
         "confidence": 0.99964,
         "end": 245226,
         "speaker": null,
         "start": 245040,
         "text": "what"
        },
        {
         "confidence": 0.9999,
         "end": 245482,
         "speaker": null,
         "start": 245248,
         "text": "people"
        },
        {
         "confidence": 0.99844,
         "end": 245850,
         "speaker": null,
         "start": 245536,
         "text": "actually"
        },
        {
         "confidence": 0.99955,
         "end": 246250,
         "speaker": null,
         "start": 245920,
         "text": "use."
        },
        {
         "confidence": 0.99993,
         "end": 246506,
         "speaker": null,
         "start": 246320,
         "text": "For"
        },
        {
         "confidence": 0.99999,
         "end": 246666,
         "speaker": null,
         "start": 246528,
         "text": "this"
        },
        {
         "confidence": 0.99991,
         "end": 246970,
         "speaker": null,
         "start": 246688,
         "text": "specific"
        },
        {
         "confidence": 0.99992,
         "end": 247322,
         "speaker": null,
         "start": 247040,
         "text": "friend,"
        },
        {
         "confidence": 1,
         "end": 247546,
         "speaker": null,
         "start": 247376,
         "text": "I"
        },
        {
         "confidence": 0.99306,
         "end": 248006,
         "speaker": null,
         "start": 247568,
         "text": "recommended"
        },
        {
         "confidence": 0.99928,
         "end": 248138,
         "speaker": null,
         "start": 248038,
         "text": "that"
        },
        {
         "confidence": 0.99842,
         "end": 248266,
         "speaker": null,
         "start": 248144,
         "text": "he"
        },
        {
         "confidence": 0.99997,
         "end": 248426,
         "speaker": null,
         "start": 248288,
         "text": "start"
        },
        {
         "confidence": 0.99995,
         "end": 248682,
         "speaker": null,
         "start": 248448,
         "text": "learning"
        },
        {
         "confidence": 1,
         "end": 248858,
         "speaker": null,
         "start": 248736,
         "text": "the"
        },
        {
         "confidence": 0.562,
         "end": 249222,
         "speaker": null,
         "start": 248864,
         "text": "basics"
        },
        {
         "confidence": 0.99966,
         "end": 249466,
         "speaker": null,
         "start": 249286,
         "text": "with"
        },
        {
         "confidence": 0.54422,
         "end": 249674,
         "speaker": null,
         "start": 249488,
         "text": "this"
        },
        {
         "confidence": 0.99991,
         "end": 250010,
         "speaker": null,
         "start": 249712,
         "text": "video"
        },
        {
         "confidence": 0.7718,
         "end": 250314,
         "speaker": null,
         "start": 250080,
         "text": "from"
        },
        {
         "confidence": 0.71818,
         "end": 251014,
         "speaker": null,
         "start": 250352,
         "text": "Freecodecamp."
        },
        {
         "confidence": 0.99958,
         "end": 251238,
         "speaker": null,
         "start": 251062,
         "text": "I've"
        },
        {
         "confidence": 0.99845,
         "end": 251446,
         "speaker": null,
         "start": 251254,
         "text": "linked"
        },
        {
         "confidence": 0.99997,
         "end": 251626,
         "speaker": null,
         "start": 251478,
         "text": "it"
        },
        {
         "confidence": 1,
         "end": 251786,
         "speaker": null,
         "start": 251648,
         "text": "and"
        },
        {
         "confidence": 1,
         "end": 251946,
         "speaker": null,
         "start": 251808,
         "text": "all"
        },
        {
         "confidence": 0.99919,
         "end": 252154,
         "speaker": null,
         "start": 251968,
         "text": "other"
        },
        {
         "confidence": 0.95883,
         "end": 252566,
         "speaker": null,
         "start": 252192,
         "text": "resources"
        },
        {
         "confidence": 0.9998,
         "end": 252746,
         "speaker": null,
         "start": 252598,
         "text": "in"
        },
        {
         "confidence": 1,
         "end": 252906,
         "speaker": null,
         "start": 252768,
         "text": "the"
        },
        {
         "confidence": 0.92848,
         "end": 253446,
         "speaker": null,
         "start": 252928,
         "text": "description."
        },
        {
         "confidence": 0.99,
         "end": 253786,
         "speaker": null,
         "start": 253558,
         "text": "So"
        },
        {
         "confidence": 0.99984,
         "end": 253946,
         "speaker": null,
         "start": 253808,
         "text": "in"
        },
        {
         "confidence": 1,
         "end": 254058,
         "speaker": null,
         "start": 253968,
         "text": "the"
        },
        {
         "confidence": 0.99989,
         "end": 254234,
         "speaker": null,
         "start": 254064,
         "text": "video"
        },
        {
         "confidence": 0.99992,
         "end": 254426,
         "speaker": null,
         "start": 254272,
         "text": "they"
        },
        {
         "confidence": 0.99999,
         "end": 254538,
         "speaker": null,
         "start": 254448,
         "text": "show"
        },
        {
         "confidence": 0.99963,
         "end": 254666,
         "speaker": null,
         "start": 254544,
         "text": "you"
        },
        {
         "confidence": 0.99991,
         "end": 254778,
         "speaker": null,
         "start": 254688,
         "text": "how"
        },
        {
         "confidence": 1,
         "end": 254858,
         "speaker": null,
         "start": 254784,
         "text": "to"
        },
        {
         "confidence": 0.99999,
         "end": 254938,
         "speaker": null,
         "start": 254864,
         "text": "set"
        },
        {
         "confidence": 0.9993,
         "end": 255066,
         "speaker": null,
         "start": 254944,
         "text": "up"
        },
        {
         "confidence": 1,
         "end": 255190,
         "speaker": null,
         "start": 255088,
         "text": "the"
        },
        {
         "confidence": 0.99026,
         "end": 255626,
         "speaker": null,
         "start": 255200,
         "text": "Pycharm"
        },
        {
         "confidence": 0.90464,
         "end": 256042,
         "speaker": null,
         "start": 255658,
         "text": "environment"
        },
        {
         "confidence": 0.99,
         "end": 256334,
         "speaker": null,
         "start": 256106,
         "text": "and"
        },
        {
         "confidence": 0.99994,
         "end": 256526,
         "speaker": null,
         "start": 256372,
         "text": "get"
        },
        {
         "confidence": 0.99906,
         "end": 256874,
         "speaker": null,
         "start": 256548,
         "text": "comfortable"
        },
        {
         "confidence": 0.99993,
         "end": 257134,
         "speaker": null,
         "start": 256922,
         "text": "using"
        },
        {
         "confidence": 0.99913,
         "end": 257374,
         "speaker": null,
         "start": 257172,
         "text": "that."
        },
        {
         "confidence": 1,
         "end": 257518,
         "speaker": null,
         "start": 257412,
         "text": "I"
        },
        {
         "confidence": 0.99999,
         "end": 257598,
         "speaker": null,
         "start": 257524,
         "text": "think"
        },
        {
         "confidence": 0.71691,
         "end": 258106,
         "speaker": null,
         "start": 257604,
         "text": "Pycharm"
        },
        {
         "confidence": 0.99999,
         "end": 258286,
         "speaker": null,
         "start": 258138,
         "text": "is"
        },
        {
         "confidence": 0.99992,
         "end": 258634,
         "speaker": null,
         "start": 258308,
         "text": "solid,"
        },
        {
         "confidence": 1,
         "end": 258846,
         "speaker": null,
         "start": 258682,
         "text": "and"
        },
        {
         "confidence": 0.99998,
         "end": 258958,
         "speaker": null,
         "start": 258868,
         "text": "if"
        },
        {
         "confidence": 0.99999,
         "end": 259038,
         "speaker": null,
         "start": 258964,
         "text": "you"
        },
        {
         "confidence": 0.99993,
         "end": 259214,
         "speaker": null,
         "start": 259044,
         "text": "get"
        },
        {
         "confidence": 0.94334,
         "end": 259626,
         "speaker": null,
         "start": 259252,
         "text": "familiar"
        },
        {
         "confidence": 0.99999,
         "end": 259758,
         "speaker": null,
         "start": 259658,
         "text": "with"
        },
        {
         "confidence": 0.99948,
         "end": 259934,
         "speaker": null,
         "start": 259764,
         "text": "that,"
        },
        {
         "confidence": 0.99993,
         "end": 260078,
         "speaker": null,
         "start": 259972,
         "text": "you"
        },
        {
         "confidence": 1,
         "end": 260206,
         "speaker": null,
         "start": 260084,
         "text": "can"
        },
        {
         "confidence": 0.99953,
         "end": 260474,
         "speaker": null,
         "start": 260228,
         "text": "easily"
        },
        {
         "confidence": 0.99994,
         "end": 260686,
         "speaker": null,
         "start": 260522,
         "text": "pick"
        },
        {
         "confidence": 0.99948,
         "end": 260846,
         "speaker": null,
         "start": 260708,
         "text": "up"
        },
        {
         "confidence": 0.9,
         "end": 261006,
         "speaker": null,
         "start": 260868,
         "text": "the"
        },
        {
         "confidence": 0.76,
         "end": 261166,
         "speaker": null,
         "start": 261028,
         "text": "s"
        },
        {
         "confidence": 0.96622,
         "end": 261470,
         "speaker": null,
         "start": 261188,
         "text": "code,"
        },
        {
         "confidence": 0.97721,
         "end": 261914,
         "speaker": null,
         "start": 261540,
         "text": "Jupyter"
        },
        {
         "confidence": 0.99864,
         "end": 262314,
         "speaker": null,
         "start": 261962,
         "text": "notebook"
        },
        {
         "confidence": 0.99997,
         "end": 262478,
         "speaker": null,
         "start": 262362,
         "text": "or"
        },
        {
         "confidence": 0.42344,
         "end": 262874,
         "speaker": null,
         "start": 262484,
         "text": "Spyder"
        },
        {
         "confidence": 0.99997,
         "end": 263086,
         "speaker": null,
         "start": 262922,
         "text": "pretty"
        },
        {
         "confidence": 0.99927,
         "end": 263438,
         "speaker": null,
         "start": 263108,
         "text": "quickly."
        },
        {
         "confidence": 0.97865,
         "end": 264074,
         "speaker": null,
         "start": 263524,
         "text": "Truthfully,"
        },
        {
         "confidence": 1,
         "end": 264286,
         "speaker": null,
         "start": 264122,
         "text": "I"
        },
        {
         "confidence": 0.99766,
         "end": 264398,
         "speaker": null,
         "start": 264308,
         "text": "don't"
        },
        {
         "confidence": 0.99994,
         "end": 264526,
         "speaker": null,
         "start": 264404,
         "text": "think"
        },
        {
         "confidence": 0.99965,
         "end": 264686,
         "speaker": null,
         "start": 264548,
         "text": "that"
        },
        {
         "confidence": 1,
         "end": 264798,
         "speaker": null,
         "start": 264708,
         "text": "the"
        },
        {
         "confidence": 0.92366,
         "end": 265070,
         "speaker": null,
         "start": 264804,
         "text": "ide"
        },
        {
         "confidence": 0.99974,
         "end": 265278,
         "speaker": null,
         "start": 265140,
         "text": "that"
        },
        {
         "confidence": 0.99938,
         "end": 265406,
         "speaker": null,
         "start": 265284,
         "text": "you"
        },
        {
         "confidence": 0.99999,
         "end": 265566,
         "speaker": null,
         "start": 265428,
         "text": "start"
        },
        {
         "confidence": 0.99999,
         "end": 265774,
         "speaker": null,
         "start": 265588,
         "text": "with"
        },
        {
         "confidence": 0.99999,
         "end": 265978,
         "speaker": null,
         "start": 265812,
         "text": "really"
        },
        {
         "confidence": 0.99744,
         "end": 266286,
         "speaker": null,
         "start": 266004,
         "text": "matters"
        },
        {
         "confidence": 0.99999,
         "end": 266466,
         "speaker": null,
         "start": 266318,
         "text": "that"
        },
        {
         "confidence": 0.99999,
         "end": 266818,
         "speaker": null,
         "start": 266488,
         "text": "much."
        },
        {
         "confidence": 0.90858,
         "end": 267166,
         "speaker": null,
         "start": 266904,
         "text": "What's"
        },
        {
         "confidence": 1,
         "end": 267346,
         "speaker": null,
         "start": 267198,
         "text": "more"
        },
        {
         "confidence": 0.99989,
         "end": 267698,
         "speaker": null,
         "start": 267368,
         "text": "important"
        },
        {
         "confidence": 0.99997,
         "end": 267986,
         "speaker": null,
         "start": 267784,
         "text": "is"
        },
        {
         "confidence": 0.99981,
         "end": 268098,
         "speaker": null,
         "start": 268008,
         "text": "that"
        },
        {
         "confidence": 0.99939,
         "end": 268286,
         "speaker": null,
         "start": 268104,
         "text": "you're"
        },
        {
         "confidence": 0.99992,
         "end": 268514,
         "speaker": null,
         "start": 268318,
         "text": "using"
        },
        {
         "confidence": 1,
         "end": 268802,
         "speaker": null,
         "start": 268552,
         "text": "one"
        },
        {
         "confidence": 0.99984,
         "end": 269026,
         "speaker": null,
         "start": 268856,
         "text": "that"
        },
        {
         "confidence": 0.99997,
         "end": 269234,
         "speaker": null,
         "start": 269048,
         "text": "people"
        },
        {
         "confidence": 0.99996,
         "end": 269474,
         "speaker": null,
         "start": 269272,
         "text": "who"
        },
        {
         "confidence": 0.99987,
         "end": 269810,
         "speaker": null,
         "start": 269512,
         "text": "actually"
        },
        {
         "confidence": 0.99987,
         "end": 270114,
         "speaker": null,
         "start": 269880,
         "text": "write"
        },
        {
         "confidence": 0.90085,
         "end": 270574,
         "speaker": null,
         "start": 270152,
         "text": "Python"
        },
        {
         "confidence": 0.99997,
         "end": 270882,
         "speaker": null,
         "start": 270622,
         "text": "code"
        },
        {
         "confidence": 0.99985,
         "end": 271154,
         "speaker": null,
         "start": 270936,
         "text": "into"
        },
        {
         "confidence": 1,
         "end": 271694,
         "speaker": null,
         "start": 271192,
         "text": "production"
        },
        {
         "confidence": 0.99986,
         "end": 271906,
         "speaker": null,
         "start": 271742,
         "text": "are"
        },
        {
         "confidence": 0.99944,
         "end": 272402,
         "speaker": null,
         "start": 271928,
         "text": "using."
        },
        {
         "confidence": 0.96154,
         "end": 272930,
         "speaker": null,
         "start": 272536,
         "text": "Okay,"
        },
        {
         "confidence": 1,
         "end": 273234,
         "speaker": null,
         "start": 273000,
         "text": "now"
        },
        {
         "confidence": 0.99758,
         "end": 273474,
         "speaker": null,
         "start": 273272,
         "text": "on"
        },
        {
         "confidence": 0.95,
         "end": 273666,
         "speaker": null,
         "start": 273512,
         "text": "to"
        },
        {
         "confidence": 1,
         "end": 273826,
         "speaker": null,
         "start": 273688,
         "text": "the"
        },
        {
         "confidence": 0.99984,
         "end": 274126,
         "speaker": null,
         "start": 273848,
         "text": "coding"
        },
        {
         "confidence": 0.55062,
         "end": 274782,
         "speaker": null,
         "start": 274158,
         "text": "basics."
        },
        {
         "confidence": 0.99961,
         "end": 275566,
         "speaker": null,
         "start": 274926,
         "text": "Surprisingly,"
        },
        {
         "confidence": 0.57,
         "end": 275746,
         "speaker": null,
         "start": 275598,
         "text": "I"
        },
        {
         "confidence": 1,
         "end": 275906,
         "speaker": null,
         "start": 275768,
         "text": "think"
        },
        {
         "confidence": 0.99999,
         "end": 276066,
         "speaker": null,
         "start": 275928,
         "text": "this"
        },
        {
         "confidence": 0.99999,
         "end": 276226,
         "speaker": null,
         "start": 276088,
         "text": "might"
        },
        {
         "confidence": 0.99994,
         "end": 276386,
         "speaker": null,
         "start": 276248,
         "text": "be"
        },
        {
         "confidence": 0.58,
         "end": 276546,
         "speaker": null,
         "start": 276408,
         "text": "one"
        },
        {
         "confidence": 1,
         "end": 276706,
         "speaker": null,
         "start": 276568,
         "text": "of"
        },
        {
         "confidence": 1,
         "end": 276866,
         "speaker": null,
         "start": 276728,
         "text": "the"
        },
        {
         "confidence": 0.6989,
         "end": 277294,
         "speaker": null,
         "start": 276888,
         "text": "simplest"
        },
        {
         "confidence": 0.99978,
         "end": 277646,
         "speaker": null,
         "start": 277342,
         "text": "parts"
        },
        {
         "confidence": 1,
         "end": 277826,
         "speaker": null,
         "start": 277678,
         "text": "of"
        },
        {
         "confidence": 0.99999,
         "end": 278046,
         "speaker": null,
         "start": 277848,
         "text": "this"
        },
        {
         "confidence": 0.99998,
         "end": 278438,
         "speaker": null,
         "start": 278088,
         "text": "entire"
        },
        {
         "confidence": 0.99998,
         "end": 279158,
         "speaker": null,
         "start": 278524,
         "text": "process."
        },
        {
         "confidence": 0.99875,
         "end": 279606,
         "speaker": null,
         "start": 279324,
         "text": "You"
        },
        {
         "confidence": 0.99996,
         "end": 279814,
         "speaker": null,
         "start": 279628,
         "text": "see,"
        },
        {
         "confidence": 0.99985,
         "end": 280018,
         "speaker": null,
         "start": 279852,
         "text": "there's"
        },
        {
         "confidence": 1,
         "end": 280118,
         "speaker": null,
         "start": 280034,
         "text": "a"
        },
        {
         "confidence": 0.99999,
         "end": 280342,
         "speaker": null,
         "start": 280124,
         "text": "common"
        },
        {
         "confidence": 0.65255,
         "end": 281346,
         "speaker": null,
         "start": 280396,
         "text": "misconception"
        },
        {
         "confidence": 0.99979,
         "end": 281830,
         "speaker": null,
         "start": 281458,
         "text": "that"
        },
        {
         "confidence": 0.71524,
         "end": 282402,
         "speaker": null,
         "start": 281900,
         "text": "coding"
        },
        {
         "confidence": 0.99992,
         "end": 282694,
         "speaker": null,
         "start": 282466,
         "text": "is"
        },
        {
         "confidence": 0.99996,
         "end": 282886,
         "speaker": null,
         "start": 282732,
         "text": "trying"
        },
        {
         "confidence": 1,
         "end": 282998,
         "speaker": null,
         "start": 282908,
         "text": "to"
        },
        {
         "confidence": 0.56978,
         "end": 283186,
         "speaker": null,
         "start": 283004,
         "text": "trick"
        },
        {
         "confidence": 0.99953,
         "end": 283414,
         "speaker": null,
         "start": 283218,
         "text": "you."
        },
        {
         "confidence": 0.99711,
         "end": 283666,
         "speaker": null,
         "start": 283452,
         "text": "There's"
        },
        {
         "confidence": 0.99999,
         "end": 283846,
         "speaker": null,
         "start": 283698,
         "text": "this"
        },
        {
         "confidence": 0.58052,
         "end": 284386,
         "speaker": null,
         "start": 283868,
         "text": "conspiracy"
        },
        {
         "confidence": 0.99998,
         "end": 284566,
         "speaker": null,
         "start": 284418,
         "text": "that"
        },
        {
         "confidence": 0.99998,
         "end": 284774,
         "speaker": null,
         "start": 284588,
         "text": "learning"
        },
        {
         "confidence": 0.98,
         "end": 285014,
         "speaker": null,
         "start": 284812,
         "text": "to"
        },
        {
         "confidence": 0.99946,
         "end": 285398,
         "speaker": null,
         "start": 285052,
         "text": "code"
        },
        {
         "confidence": 0.9997,
         "end": 285686,
         "speaker": null,
         "start": 285484,
         "text": "is"
        },
        {
         "confidence": 0.80068,
         "end": 285942,
         "speaker": null,
         "start": 285708,
         "text": "supposed"
        },
        {
         "confidence": 1,
         "end": 286118,
         "speaker": null,
         "start": 285996,
         "text": "to"
        },
        {
         "confidence": 0.99992,
         "end": 286342,
         "speaker": null,
         "start": 286124,
         "text": "be"
        },
        {
         "confidence": 0.99977,
         "end": 286614,
         "speaker": null,
         "start": 286396,
         "text": "really"
        },
        {
         "confidence": 1,
         "end": 286950,
         "speaker": null,
         "start": 286652,
         "text": "hard"
        },
        {
         "confidence": 1,
         "end": 287254,
         "speaker": null,
         "start": 287020,
         "text": "and"
        },
        {
         "confidence": 0.99998,
         "end": 287542,
         "speaker": null,
         "start": 287292,
         "text": "very"
        },
        {
         "confidence": 0.99994,
         "end": 288050,
         "speaker": null,
         "start": 287596,
         "text": "scary."
        },
        {
         "confidence": 1,
         "end": 288278,
         "speaker": null,
         "start": 288130,
         "text": "I"
        },
        {
         "confidence": 0.99029,
         "end": 288454,
         "speaker": null,
         "start": 288284,
         "text": "would"
        },
        {
         "confidence": 0.99994,
         "end": 288754,
         "speaker": null,
         "start": 288492,
         "text": "argue"
        },
        {
         "confidence": 0.99996,
         "end": 289014,
         "speaker": null,
         "start": 288802,
         "text": "that"
        },
        {
         "confidence": 0.99776,
         "end": 289266,
         "speaker": null,
         "start": 289052,
         "text": "it's"
        },
        {
         "confidence": 0.99994,
         "end": 289638,
         "speaker": null,
         "start": 289298,
         "text": "almost"
        },
        {
         "confidence": 1,
         "end": 289926,
         "speaker": null,
         "start": 289724,
         "text": "the"
        },
        {
         "confidence": 0.99963,
         "end": 290450,
         "speaker": null,
         "start": 289948,
         "text": "opposite."
        },
        {
         "confidence": 0.99951,
         "end": 290866,
         "speaker": null,
         "start": 290530,
         "text": "Coding"
        },
        {
         "confidence": 0.85576,
         "end": 291390,
         "speaker": null,
         "start": 290898,
         "text": "languages,"
        },
        {
         "confidence": 0.99884,
         "end": 291926,
         "speaker": null,
         "start": 291490,
         "text": "particularly"
        },
        {
         "confidence": 0.9994,
         "end": 292502,
         "speaker": null,
         "start": 291958,
         "text": "Python,"
        },
        {
         "confidence": 0.99708,
         "end": 292806,
         "speaker": null,
         "start": 292566,
         "text": "they're"
        },
        {
         "confidence": 0.99965,
         "end": 293126,
         "speaker": null,
         "start": 292838,
         "text": "designed"
        },
        {
         "confidence": 1,
         "end": 293258,
         "speaker": null,
         "start": 293158,
         "text": "to"
        },
        {
         "confidence": 0.99932,
         "end": 293386,
         "speaker": null,
         "start": 293264,
         "text": "be"
        },
        {
         "confidence": 0.54662,
         "end": 293594,
         "speaker": null,
         "start": 293408,
         "text": "as"
        },
        {
         "confidence": 0.99997,
         "end": 293882,
         "speaker": null,
         "start": 293632,
         "text": "easy"
        },
        {
         "confidence": 1,
         "end": 294106,
         "speaker": null,
         "start": 293936,
         "text": "to"
        },
        {
         "confidence": 0.99988,
         "end": 294266,
         "speaker": null,
         "start": 294128,
         "text": "use"
        },
        {
         "confidence": 0.61144,
         "end": 294426,
         "speaker": null,
         "start": 294288,
         "text": "as"
        },
        {
         "confidence": 0.99994,
         "end": 294778,
         "speaker": null,
         "start": 294448,
         "text": "possible"
        },
        {
         "confidence": 0.8872,
         "end": 295114,
         "speaker": null,
         "start": 294864,
         "text": "while"
        },
        {
         "confidence": 0.99996,
         "end": 295478,
         "speaker": null,
         "start": 295152,
         "text": "creating"
        },
        {
         "confidence": 0.99994,
         "end": 295674,
         "speaker": null,
         "start": 295494,
         "text": "good"
        },
        {
         "confidence": 0.99996,
         "end": 296230,
         "speaker": null,
         "start": 295712,
         "text": "results."
        },
        {
         "confidence": 1,
         "end": 296506,
         "speaker": null,
         "start": 296310,
         "text": "So"
        },
        {
         "confidence": 0.99991,
         "end": 296666,
         "speaker": null,
         "start": 296528,
         "text": "if"
        },
        {
         "confidence": 0.99996,
         "end": 296778,
         "speaker": null,
         "start": 296688,
         "text": "you"
        },
        {
         "confidence": 0.99992,
         "end": 296906,
         "speaker": null,
         "start": 296784,
         "text": "change"
        },
        {
         "confidence": 0.50777,
         "end": 297066,
         "speaker": null,
         "start": 296928,
         "text": "your"
        },
        {
         "confidence": 0.98634,
         "end": 297526,
         "speaker": null,
         "start": 297088,
         "text": "perspective"
        },
        {
         "confidence": 0.68,
         "end": 297706,
         "speaker": null,
         "start": 297558,
         "text": "to"
        },
        {
         "confidence": 0.99998,
         "end": 297866,
         "speaker": null,
         "start": 297728,
         "text": "look"
        },
        {
         "confidence": 1,
         "end": 298026,
         "speaker": null,
         "start": 297888,
         "text": "at"
        },
        {
         "confidence": 1,
         "end": 298186,
         "speaker": null,
         "start": 298048,
         "text": "them"
        },
        {
         "confidence": 0.99999,
         "end": 298442,
         "speaker": null,
         "start": 298208,
         "text": "as"
        },
        {
         "confidence": 0.99991,
         "end": 299126,
         "speaker": null,
         "start": 298496,
         "text": "intuitive,"
        },
        {
         "confidence": 0.99974,
         "end": 299654,
         "speaker": null,
         "start": 299238,
         "text": "coding"
        },
        {
         "confidence": 0.99894,
         "end": 300006,
         "speaker": null,
         "start": 299702,
         "text": "becomes"
        },
        {
         "confidence": 0.82465,
         "end": 300566,
         "speaker": null,
         "start": 300038,
         "text": "significantly"
        },
        {
         "confidence": 1,
         "end": 300794,
         "speaker": null,
         "start": 300598,
         "text": "more"
        },
        {
         "confidence": 0.99996,
         "end": 301034,
         "speaker": null,
         "start": 300832,
         "text": "fun"
        },
        {
         "confidence": 1,
         "end": 301274,
         "speaker": null,
         "start": 301072,
         "text": "and"
        },
        {
         "confidence": 0.48627,
         "end": 301862,
         "speaker": null,
         "start": 301312,
         "text": "stressfree."
        },
        {
         "confidence": 0.99918,
         "end": 302154,
         "speaker": null,
         "start": 301926,
         "text": "This"
        },
        {
         "confidence": 0.99992,
         "end": 302358,
         "speaker": null,
         "start": 302192,
         "text": "isn't"
        },
        {
         "confidence": 1,
         "end": 302506,
         "speaker": null,
         "start": 302374,
         "text": "to"
        },
        {
         "confidence": 0.99996,
         "end": 302666,
         "speaker": null,
         "start": 302528,
         "text": "say"
        },
        {
         "confidence": 0.99968,
         "end": 302826,
         "speaker": null,
         "start": 302688,
         "text": "that"
        },
        {
         "confidence": 0.99996,
         "end": 302938,
         "speaker": null,
         "start": 302848,
         "text": "you"
        },
        {
         "confidence": 0.99992,
         "end": 303078,
         "speaker": null,
         "start": 302944,
         "text": "won't"
        },
        {
         "confidence": 0.99999,
         "end": 303226,
         "speaker": null,
         "start": 303094,
         "text": "get"
        },
        {
         "confidence": 0.99984,
         "end": 303718,
         "speaker": null,
         "start": 303248,
         "text": "stuck,"
        },
        {
         "confidence": 0.99961,
         "end": 304166,
         "speaker": null,
         "start": 303814,
         "text": "it's"
        },
        {
         "confidence": 0.99998,
         "end": 304346,
         "speaker": null,
         "start": 304198,
         "text": "just"
        },
        {
         "confidence": 0.99,
         "end": 304506,
         "speaker": null,
         "start": 304368,
         "text": "to"
        },
        {
         "confidence": 0.99999,
         "end": 304726,
         "speaker": null,
         "start": 304528,
         "text": "say"
        },
        {
         "confidence": 0.99954,
         "end": 304878,
         "speaker": null,
         "start": 304768,
         "text": "that"
        },
        {
         "confidence": 0.99983,
         "end": 305006,
         "speaker": null,
         "start": 304884,
         "text": "when"
        },
        {
         "confidence": 0.99924,
         "end": 305118,
         "speaker": null,
         "start": 305028,
         "text": "you"
        },
        {
         "confidence": 0.99954,
         "end": 305246,
         "speaker": null,
         "start": 305124,
         "text": "do"
        },
        {
         "confidence": 0.99987,
         "end": 305454,
         "speaker": null,
         "start": 305268,
         "text": "get"
        },
        {
         "confidence": 0.99915,
         "end": 305850,
         "speaker": null,
         "start": 305492,
         "text": "stuck,"
        },
        {
         "confidence": 0.95594,
         "end": 306186,
         "speaker": null,
         "start": 305930,
         "text": "there's"
        },
        {
         "confidence": 0.99994,
         "end": 306462,
         "speaker": null,
         "start": 306218,
         "text": "almost"
        },
        {
         "confidence": 0.99997,
         "end": 306782,
         "speaker": null,
         "start": 306516,
         "text": "always"
        },
        {
         "confidence": 1,
         "end": 307006,
         "speaker": null,
         "start": 306836,
         "text": "a"
        },
        {
         "confidence": 0.99997,
         "end": 307354,
         "speaker": null,
         "start": 307028,
         "text": "logical"
        },
        {
         "confidence": 1,
         "end": 307662,
         "speaker": null,
         "start": 307402,
         "text": "reason"
        },
        {
         "confidence": 0.99994,
         "end": 307886,
         "speaker": null,
         "start": 307716,
         "text": "for"
        },
        {
         "confidence": 0.99983,
         "end": 308094,
         "speaker": null,
         "start": 307908,
         "text": "it"
        },
        {
         "confidence": 1,
         "end": 308334,
         "speaker": null,
         "start": 308132,
         "text": "and"
        },
        {
         "confidence": 1,
         "end": 308526,
         "speaker": null,
         "start": 308372,
         "text": "a"
        },
        {
         "confidence": 0.99998,
         "end": 308922,
         "speaker": null,
         "start": 308548,
         "text": "logical"
        },
        {
         "confidence": 0.99999,
         "end": 309354,
         "speaker": null,
         "start": 308986,
         "text": "solution"
        },
        {
         "confidence": 1,
         "end": 309566,
         "speaker": null,
         "start": 309402,
         "text": "to"
        },
        {
         "confidence": 0.99806,
         "end": 309898,
         "speaker": null,
         "start": 309588,
         "text": "resolve"
        },
        {
         "confidence": 0.99988,
         "end": 310046,
         "speaker": null,
         "start": 309914,
         "text": "your"
        },
        {
         "confidence": 0.99982,
         "end": 310446,
         "speaker": null,
         "start": 310068,
         "text": "problems."
        },
        {
         "confidence": 0.99988,
         "end": 310906,
         "speaker": null,
         "start": 310548,
         "text": "Keeping"
        },
        {
         "confidence": 0.99997,
         "end": 311038,
         "speaker": null,
         "start": 310938,
         "text": "with"
        },
        {
         "confidence": 0.99982,
         "end": 311214,
         "speaker": null,
         "start": 311044,
         "text": "this"
        },
        {
         "confidence": 0.99979,
         "end": 311418,
         "speaker": null,
         "start": 311252,
         "text": "theme"
        },
        {
         "confidence": 0.88,
         "end": 311566,
         "speaker": null,
         "start": 311434,
         "text": "of"
        },
        {
         "confidence": 0.99967,
         "end": 312074,
         "speaker": null,
         "start": 311588,
         "text": "simplicity,"
        },
        {
         "confidence": 1,
         "end": 312286,
         "speaker": null,
         "start": 312122,
         "text": "at"
        },
        {
         "confidence": 1,
         "end": 312398,
         "speaker": null,
         "start": 312308,
         "text": "the"
        },
        {
         "confidence": 0.99999,
         "end": 312526,
         "speaker": null,
         "start": 312404,
         "text": "most"
        },
        {
         "confidence": 0.99999,
         "end": 312826,
         "speaker": null,
         "start": 312548,
         "text": "basic"
        },
        {
         "confidence": 1,
         "end": 313150,
         "speaker": null,
         "start": 312858,
         "text": "level,"
        },
        {
         "confidence": 0.99441,
         "end": 313546,
         "speaker": null,
         "start": 313220,
         "text": "beginner"
        },
        {
         "confidence": 0.73049,
         "end": 313866,
         "speaker": null,
         "start": 313578,
         "text": "coding"
        },
        {
         "confidence": 1,
         "end": 314046,
         "speaker": null,
         "start": 313898,
         "text": "can"
        },
        {
         "confidence": 0.99998,
         "end": 314158,
         "speaker": null,
         "start": 314068,
         "text": "be"
        },
        {
         "confidence": 0.99992,
         "end": 314346,
         "speaker": null,
         "start": 314164,
         "text": "broken"
        },
        {
         "confidence": 0.6959,
         "end": 314574,
         "speaker": null,
         "start": 314378,
         "text": "down"
        },
        {
         "confidence": 0.99988,
         "end": 314814,
         "speaker": null,
         "start": 314612,
         "text": "into"
        },
        {
         "confidence": 1,
         "end": 315102,
         "speaker": null,
         "start": 314852,
         "text": "seven"
        },
        {
         "confidence": 0.88666,
         "end": 315642,
         "speaker": null,
         "start": 315156,
         "text": "concepts."
        },
        {
         "confidence": 1,
         "end": 315886,
         "speaker": null,
         "start": 315706,
         "text": "All"
        },
        {
         "confidence": 0.75,
         "end": 315998,
         "speaker": null,
         "start": 315908,
         "text": "of"
        },
        {
         "confidence": 1,
         "end": 316078,
         "speaker": null,
         "start": 316004,
         "text": "the"
        },
        {
         "confidence": 0.6926,
         "end": 316586,
         "speaker": null,
         "start": 316084,
         "text": "resources"
        },
        {
         "confidence": 0.99873,
         "end": 316718,
         "speaker": null,
         "start": 316618,
         "text": "that"
        },
        {
         "confidence": 0.99926,
         "end": 316858,
         "speaker": null,
         "start": 316724,
         "text": "I've"
        },
        {
         "confidence": 0.99993,
         "end": 317146,
         "speaker": null,
         "start": 316874,
         "text": "linked"
        },
        {
         "confidence": 0.99986,
         "end": 317278,
         "speaker": null,
         "start": 317178,
         "text": "in"
        },
        {
         "confidence": 1,
         "end": 317406,
         "speaker": null,
         "start": 317284,
         "text": "the"
        },
        {
         "confidence": 0.99975,
         "end": 317990,
         "speaker": null,
         "start": 317428,
         "text": "description"
        },
        {
         "confidence": 0.99993,
         "end": 318402,
         "speaker": null,
         "start": 318090,
         "text": "cover"
        },
        {
         "confidence": 0.99984,
         "end": 318626,
         "speaker": null,
         "start": 318456,
         "text": "these"
        },
        {
         "confidence": 0.99985,
         "end": 319102,
         "speaker": null,
         "start": 318648,
         "text": "topics,"
        },
        {
         "confidence": 0.99954,
         "end": 319346,
         "speaker": null,
         "start": 319166,
         "text": "but"
        },
        {
         "confidence": 0.9984,
         "end": 319518,
         "speaker": null,
         "start": 319368,
         "text": "I'm"
        },
        {
         "confidence": 0.9473,
         "end": 319618,
         "speaker": null,
         "start": 319534,
         "text": "going"
        },
        {
         "confidence": 1,
         "end": 319698,
         "speaker": null,
         "start": 319624,
         "text": "to"
        },
        {
         "confidence": 0.99995,
         "end": 319826,
         "speaker": null,
         "start": 319704,
         "text": "give"
        },
        {
         "confidence": 0.99996,
         "end": 320034,
         "speaker": null,
         "start": 319848,
         "text": "you"
        },
        {
         "confidence": 1,
         "end": 320226,
         "speaker": null,
         "start": 320072,
         "text": "a"
        },
        {
         "confidence": 0.99995,
         "end": 320434,
         "speaker": null,
         "start": 320248,
         "text": "very,"
        },
        {
         "confidence": 0.98922,
         "end": 320722,
         "speaker": null,
         "start": 320472,
         "text": "very"
        },
        {
         "confidence": 0.99986,
         "end": 320946,
         "speaker": null,
         "start": 320776,
         "text": "high"
        },
        {
         "confidence": 0.9988,
         "end": 321202,
         "speaker": null,
         "start": 320968,
         "text": "level"
        },
        {
         "confidence": 0.99993,
         "end": 321614,
         "speaker": null,
         "start": 321256,
         "text": "overview"
        },
        {
         "confidence": 0.99979,
         "end": 321922,
         "speaker": null,
         "start": 321662,
         "text": "here."
        },
        {
         "confidence": 1,
         "end": 322146,
         "speaker": null,
         "start": 321976,
         "text": "The"
        },
        {
         "confidence": 1,
         "end": 322306,
         "speaker": null,
         "start": 322168,
         "text": "first"
        },
        {
         "confidence": 1,
         "end": 322466,
         "speaker": null,
         "start": 322328,
         "text": "one"
        },
        {
         "confidence": 0.81052,
         "end": 322626,
         "speaker": null,
         "start": 322488,
         "text": "we"
        },
        {
         "confidence": 0.99997,
         "end": 322834,
         "speaker": null,
         "start": 322648,
         "text": "start"
        },
        {
         "confidence": 0.99999,
         "end": 323026,
         "speaker": null,
         "start": 322872,
         "text": "with"
        },
        {
         "confidence": 0.99991,
         "end": 323234,
         "speaker": null,
         "start": 323048,
         "text": "is"
        },
        {
         "confidence": 0.99986,
         "end": 323474,
         "speaker": null,
         "start": 323272,
         "text": "data"
        },
        {
         "confidence": 0.99983,
         "end": 323982,
         "speaker": null,
         "start": 323512,
         "text": "types."
        },
        {
         "confidence": 1,
         "end": 324226,
         "speaker": null,
         "start": 324046,
         "text": "So"
        },
        {
         "confidence": 0.99981,
         "end": 324386,
         "speaker": null,
         "start": 324248,
         "text": "in"
        },
        {
         "confidence": 0.99965,
         "end": 324766,
         "speaker": null,
         "start": 324408,
         "text": "Python"
        },
        {
         "confidence": 0.99985,
         "end": 324898,
         "speaker": null,
         "start": 324798,
         "text": "you"
        },
        {
         "confidence": 1,
         "end": 325026,
         "speaker": null,
         "start": 324904,
         "text": "can"
        },
        {
         "confidence": 1,
         "end": 325138,
         "speaker": null,
         "start": 325048,
         "text": "work"
        },
        {
         "confidence": 0.99918,
         "end": 325266,
         "speaker": null,
         "start": 325144,
         "text": "with"
        },
        {
         "confidence": 0.99998,
         "end": 325570,
         "speaker": null,
         "start": 325288,
         "text": "numbers,"
        },
        {
         "confidence": 0.99956,
         "end": 325778,
         "speaker": null,
         "start": 325640,
         "text": "you"
        },
        {
         "confidence": 1,
         "end": 325906,
         "speaker": null,
         "start": 325784,
         "text": "can"
        },
        {
         "confidence": 1,
         "end": 326018,
         "speaker": null,
         "start": 325928,
         "text": "work"
        },
        {
         "confidence": 0.81727,
         "end": 326146,
         "speaker": null,
         "start": 326024,
         "text": "with"
        },
        {
         "confidence": 0.99981,
         "end": 326450,
         "speaker": null,
         "start": 326168,
         "text": "text,"
        },
        {
         "confidence": 0.99989,
         "end": 326658,
         "speaker": null,
         "start": 326520,
         "text": "you"
        },
        {
         "confidence": 1,
         "end": 326786,
         "speaker": null,
         "start": 326664,
         "text": "can"
        },
        {
         "confidence": 1,
         "end": 326946,
         "speaker": null,
         "start": 326808,
         "text": "work"
        },
        {
         "confidence": 0.99998,
         "end": 327106,
         "speaker": null,
         "start": 326968,
         "text": "with"
        },
        {
         "confidence": 0.95682,
         "end": 327726,
         "speaker": null,
         "start": 327128,
         "text": "booleans,"
        },
        {
         "confidence": 0.99933,
         "end": 327906,
         "speaker": null,
         "start": 327758,
         "text": "you"
        },
        {
         "confidence": 1,
         "end": 328018,
         "speaker": null,
         "start": 327928,
         "text": "can"
        },
        {
         "confidence": 1,
         "end": 328146,
         "speaker": null,
         "start": 328024,
         "text": "work"
        },
        {
         "confidence": 0.99995,
         "end": 328306,
         "speaker": null,
         "start": 328168,
         "text": "with"
        },
        {
         "confidence": 0.63259,
         "end": 328782,
         "speaker": null,
         "start": 328328,
         "text": "lists"
        },
        {
         "confidence": 0.99992,
         "end": 329026,
         "speaker": null,
         "start": 328846,
         "text": "or"
        },
        {
         "confidence": 1,
         "end": 329138,
         "speaker": null,
         "start": 329048,
         "text": "a"
        },
        {
         "confidence": 0.99981,
         "end": 329358,
         "speaker": null,
         "start": 329144,
         "text": "host"
        },
        {
         "confidence": 1,
         "end": 329470,
         "speaker": null,
         "start": 329374,
         "text": "of"
        },
        {
         "confidence": 0.99998,
         "end": 329654,
         "speaker": null,
         "start": 329480,
         "text": "different"
        },
        {
         "confidence": 0.99999,
         "end": 329894,
         "speaker": null,
         "start": 329692,
         "text": "data"
        },
        {
         "confidence": 0.99972,
         "end": 330450,
         "speaker": null,
         "start": 329932,
         "text": "structures."
        },
        {
         "confidence": 0.996,
         "end": 330818,
         "speaker": null,
         "start": 330530,
         "text": "It's"
        },
        {
         "confidence": 0.92943,
         "end": 331062,
         "speaker": null,
         "start": 330834,
         "text": "important"
        },
        {
         "confidence": 0.97,
         "end": 331286,
         "speaker": null,
         "start": 331116,
         "text": "to"
        },
        {
         "confidence": 0.99999,
         "end": 331446,
         "speaker": null,
         "start": 331308,
         "text": "get"
        },
        {
         "confidence": 1,
         "end": 331558,
         "speaker": null,
         "start": 331468,
         "text": "a"
        },
        {
         "confidence": 0.99996,
         "end": 331734,
         "speaker": null,
         "start": 331564,
         "text": "good"
        },
        {
         "confidence": 0.99999,
         "end": 332226,
         "speaker": null,
         "start": 331772,
         "text": "understanding"
        },
        {
         "confidence": 0.99996,
         "end": 332406,
         "speaker": null,
         "start": 332258,
         "text": "or"
        },
        {
         "confidence": 1,
         "end": 332566,
         "speaker": null,
         "start": 332428,
         "text": "a"
        },
        {
         "confidence": 0.9033,
         "end": 333234,
         "speaker": null,
         "start": 332588,
         "text": "fundamental"
        },
        {
         "confidence": 0.99991,
         "end": 333746,
         "speaker": null,
         "start": 333282,
         "text": "understanding"
        },
        {
         "confidence": 1,
         "end": 333926,
         "speaker": null,
         "start": 333778,
         "text": "of"
        },
        {
         "confidence": 0.99978,
         "end": 334086,
         "speaker": null,
         "start": 333948,
         "text": "these"
        },
        {
         "confidence": 0.85,
         "end": 334438,
         "speaker": null,
         "start": 334108,
         "text": "first"
        },
        {
         "confidence": 0.95844,
         "end": 334822,
         "speaker": null,
         "start": 334524,
         "text": "next,"
        },
        {
         "confidence": 1,
         "end": 334998,
         "speaker": null,
         "start": 334876,
         "text": "I"
        },
        {
         "confidence": 0.99944,
         "end": 335126,
         "speaker": null,
         "start": 335004,
         "text": "think"
        },
        {
         "confidence": 0.99999,
         "end": 335238,
         "speaker": null,
         "start": 335148,
         "text": "it"
        },
        {
         "confidence": 0.99984,
         "end": 335414,
         "speaker": null,
         "start": 335244,
         "text": "makes"
        },
        {
         "confidence": 0.99993,
         "end": 335606,
         "speaker": null,
         "start": 335452,
         "text": "sense"
        },
        {
         "confidence": 0.75,
         "end": 335766,
         "speaker": null,
         "start": 335628,
         "text": "to"
        },
        {
         "confidence": 0.99999,
         "end": 335926,
         "speaker": null,
         "start": 335788,
         "text": "get"
        },
        {
         "confidence": 0.85591,
         "end": 336226,
         "speaker": null,
         "start": 335948,
         "text": "familiar"
        },
        {
         "confidence": 0.99999,
         "end": 336406,
         "speaker": null,
         "start": 336258,
         "text": "with"
        },
        {
         "confidence": 0.99997,
         "end": 336566,
         "speaker": null,
         "start": 336428,
         "text": "how"
        },
        {
         "confidence": 0.99921,
         "end": 337026,
         "speaker": null,
         "start": 336588,
         "text": "variables"
        },
        {
         "confidence": 1,
         "end": 337446,
         "speaker": null,
         "start": 337058,
         "text": "work."
        },
        {
         "confidence": 0.99985,
         "end": 337766,
         "speaker": null,
         "start": 337548,
         "text": "This"
        },
        {
         "confidence": 1,
         "end": 337974,
         "speaker": null,
         "start": 337788,
         "text": "can"
        },
        {
         "confidence": 0.99999,
         "end": 338226,
         "speaker": null,
         "start": 338012,
         "text": "vary"
        },
        {
         "confidence": 0.99999,
         "end": 338454,
         "speaker": null,
         "start": 338258,
         "text": "by"
        },
        {
         "confidence": 1,
         "end": 338882,
         "speaker": null,
         "start": 338492,
         "text": "language,"
        },
        {
         "confidence": 1,
         "end": 339126,
         "speaker": null,
         "start": 338946,
         "text": "so"
        },
        {
         "confidence": 0.57763,
         "end": 339286,
         "speaker": null,
         "start": 339148,
         "text": "you"
        },
        {
         "confidence": 0.99996,
         "end": 339446,
         "speaker": null,
         "start": 339308,
         "text": "need"
        },
        {
         "confidence": 1,
         "end": 339558,
         "speaker": null,
         "start": 339468,
         "text": "to"
        },
        {
         "confidence": 0.99999,
         "end": 339686,
         "speaker": null,
         "start": 339564,
         "text": "make"
        },
        {
         "confidence": 0.99998,
         "end": 339846,
         "speaker": null,
         "start": 339708,
         "text": "sure"
        },
        {
         "confidence": 0.99996,
         "end": 339958,
         "speaker": null,
         "start": 339868,
         "text": "you"
        },
        {
         "confidence": 0.99996,
         "end": 340098,
         "speaker": null,
         "start": 339964,
         "text": "know"
        },
        {
         "confidence": 0.99994,
         "end": 340266,
         "speaker": null,
         "start": 340124,
         "text": "how"
        },
        {
         "confidence": 1,
         "end": 340426,
         "speaker": null,
         "start": 340288,
         "text": "to"
        },
        {
         "confidence": 0.99994,
         "end": 340774,
         "speaker": null,
         "start": 340448,
         "text": "assign"
        },
        {
         "confidence": 1,
         "end": 340986,
         "speaker": null,
         "start": 340822,
         "text": "and"
        },
        {
         "confidence": 0.99216,
         "end": 341242,
         "speaker": null,
         "start": 341008,
         "text": "change"
        },
        {
         "confidence": 0.8286,
         "end": 341766,
         "speaker": null,
         "start": 341296,
         "text": "variables."
        },
        {
         "confidence": 0.99998,
         "end": 341946,
         "speaker": null,
         "start": 341798,
         "text": "In"
        },
        {
         "confidence": 0.9999,
         "end": 342454,
         "speaker": null,
         "start": 341968,
         "text": "Python,"
        },
        {
         "confidence": 0.99996,
         "end": 343450,
         "speaker": null,
         "start": 342502,
         "text": "specifically,"
        },
        {
         "confidence": 0.9999,
         "end": 344362,
         "speaker": null,
         "start": 343950,
         "text": "after"
        },
        {
         "confidence": 0.87408,
         "end": 344982,
         "speaker": null,
         "start": 344416,
         "text": "variables,"
        },
        {
         "confidence": 0.99996,
         "end": 345226,
         "speaker": null,
         "start": 345046,
         "text": "you"
        },
        {
         "confidence": 0.99999,
         "end": 345386,
         "speaker": null,
         "start": 345248,
         "text": "should"
        },
        {
         "confidence": 1,
         "end": 345594,
         "speaker": null,
         "start": 345408,
         "text": "look"
        },
        {
         "confidence": 1,
         "end": 345786,
         "speaker": null,
         "start": 345632,
         "text": "into"
        },
        {
         "confidence": 0.99998,
         "end": 345994,
         "speaker": null,
         "start": 345808,
         "text": "how"
        },
        {
         "confidence": 0.99991,
         "end": 346374,
         "speaker": null,
         "start": 346032,
         "text": "logical"
        },
        {
         "confidence": 0.9999,
         "end": 346966,
         "speaker": null,
         "start": 346422,
         "text": "operators"
        },
        {
         "confidence": 1,
         "end": 347194,
         "speaker": null,
         "start": 346998,
         "text": "work."
        },
        {
         "confidence": 0.99995,
         "end": 347386,
         "speaker": null,
         "start": 347232,
         "text": "These"
        },
        {
         "confidence": 0.99996,
         "end": 347498,
         "speaker": null,
         "start": 347408,
         "text": "are"
        },
        {
         "confidence": 0.99998,
         "end": 347674,
         "speaker": null,
         "start": 347504,
         "text": "very"
        },
        {
         "confidence": 0.99999,
         "end": 348006,
         "speaker": null,
         "start": 347712,
         "text": "handy"
        },
        {
         "confidence": 0.99996,
         "end": 348186,
         "speaker": null,
         "start": 348038,
         "text": "in"
        },
        {
         "confidence": 0.99999,
         "end": 348346,
         "speaker": null,
         "start": 348208,
         "text": "your"
        },
        {
         "confidence": 1,
         "end": 348554,
         "speaker": null,
         "start": 348368,
         "text": "first"
        },
        {
         "confidence": 0.99985,
         "end": 348794,
         "speaker": null,
         "start": 348592,
         "text": "few"
        },
        {
         "confidence": 0.55058,
         "end": 349430,
         "speaker": null,
         "start": 348832,
         "text": "projects."
        },
        {
         "confidence": 0.99065,
         "end": 349706,
         "speaker": null,
         "start": 349510,
         "text": "If"
        },
        {
         "confidence": 0.86111,
         "end": 349914,
         "speaker": null,
         "start": 349728,
         "text": "else"
        },
        {
         "confidence": 0.99857,
         "end": 350374,
         "speaker": null,
         "start": 349952,
         "text": "statements"
        },
        {
         "confidence": 0.99993,
         "end": 350634,
         "speaker": null,
         "start": 350422,
         "text": "are"
        },
        {
         "confidence": 0.99996,
         "end": 350874,
         "speaker": null,
         "start": 350672,
         "text": "probably"
        },
        {
         "confidence": 1,
         "end": 351018,
         "speaker": null,
         "start": 350912,
         "text": "the"
        },
        {
         "confidence": 0.99999,
         "end": 351194,
         "speaker": null,
         "start": 351024,
         "text": "most"
        },
        {
         "confidence": 1,
         "end": 351482,
         "speaker": null,
         "start": 351232,
         "text": "important"
        },
        {
         "confidence": 1,
         "end": 351850,
         "speaker": null,
         "start": 351536,
         "text": "one,"
        },
        {
         "confidence": 0.99983,
         "end": 352106,
         "speaker": null,
         "start": 351920,
         "text": "but"
        },
        {
         "confidence": 0.99996,
         "end": 352266,
         "speaker": null,
         "start": 352128,
         "text": "you"
        },
        {
         "confidence": 1,
         "end": 352426,
         "speaker": null,
         "start": 352288,
         "text": "can"
        },
        {
         "confidence": 0.99997,
         "end": 352682,
         "speaker": null,
         "start": 352448,
         "text": "definitely"
        },
        {
         "confidence": 0.99999,
         "end": 352954,
         "speaker": null,
         "start": 352736,
         "text": "find"
        },
        {
         "confidence": 0.99939,
         "end": 353194,
         "speaker": null,
         "start": 352992,
         "text": "use"
        },
        {
         "confidence": 0.99985,
         "end": 353526,
         "speaker": null,
         "start": 353232,
         "text": "cases"
        },
        {
         "confidence": 0.99997,
         "end": 353706,
         "speaker": null,
         "start": 353558,
         "text": "for"
        },
        {
         "confidence": 1,
         "end": 353866,
         "speaker": null,
         "start": 353728,
         "text": "the"
        },
        {
         "confidence": 0.99993,
         "end": 354278,
         "speaker": null,
         "start": 353888,
         "text": "others,"
        },
        {
         "confidence": 0.8459,
         "end": 354894,
         "speaker": null,
         "start": 354384,
         "text": "especially"
        },
        {
         "confidence": 0.99997,
         "end": 355246,
         "speaker": null,
         "start": 355012,
         "text": "if"
        },
        {
         "confidence": 0.99951,
         "end": 355466,
         "speaker": null,
         "start": 355268,
         "text": "you're"
        },
        {
         "confidence": 0.99918,
         "end": 355646,
         "speaker": null,
         "start": 355498,
         "text": "working"
        },
        {
         "confidence": 0.99975,
         "end": 355806,
         "speaker": null,
         "start": 355668,
         "text": "with"
        },
        {
         "confidence": 0.99959,
         "end": 356158,
         "speaker": null,
         "start": 355828,
         "text": "data."
        },
        {
         "confidence": 1,
         "end": 356446,
         "speaker": null,
         "start": 356244,
         "text": "The"
        },
        {
         "confidence": 1,
         "end": 356618,
         "speaker": null,
         "start": 356468,
         "text": "fourth"
        },
        {
         "confidence": 0.99979,
         "end": 356766,
         "speaker": null,
         "start": 356634,
         "text": "thing"
        },
        {
         "confidence": 0.99997,
         "end": 356926,
         "speaker": null,
         "start": 356788,
         "text": "you"
        },
        {
         "confidence": 0.99999,
         "end": 357038,
         "speaker": null,
         "start": 356948,
         "text": "need"
        },
        {
         "confidence": 1,
         "end": 357166,
         "speaker": null,
         "start": 357044,
         "text": "to"
        },
        {
         "confidence": 1,
         "end": 357614,
         "speaker": null,
         "start": 357188,
         "text": "understand"
        },
        {
         "confidence": 0.99999,
         "end": 358014,
         "speaker": null,
         "start": 357732,
         "text": "is"
        },
        {
         "confidence": 0.99998,
         "end": 358206,
         "speaker": null,
         "start": 358052,
         "text": "how"
        },
        {
         "confidence": 0.99975,
         "end": 358666,
         "speaker": null,
         "start": 358228,
         "text": "loops"
        },
        {
         "confidence": 1,
         "end": 358990,
         "speaker": null,
         "start": 358698,
         "text": "work."
        },
        {
         "confidence": 1,
         "end": 359294,
         "speaker": null,
         "start": 359060,
         "text": "So"
        },
        {
         "confidence": 1,
         "end": 359486,
         "speaker": null,
         "start": 359332,
         "text": "one"
        },
        {
         "confidence": 0.99999,
         "end": 359694,
         "speaker": null,
         "start": 359508,
         "text": "thing"
        },
        {
         "confidence": 0.99879,
         "end": 360314,
         "speaker": null,
         "start": 359732,
         "text": "computers"
        },
        {
         "confidence": 0.99998,
         "end": 360574,
         "speaker": null,
         "start": 360362,
         "text": "are"
        },
        {
         "confidence": 0.99999,
         "end": 360814,
         "speaker": null,
         "start": 360612,
         "text": "really,"
        },
        {
         "confidence": 0.99756,
         "end": 361054,
         "speaker": null,
         "start": 360852,
         "text": "really"
        },
        {
         "confidence": 0.99995,
         "end": 361342,
         "speaker": null,
         "start": 361092,
         "text": "great"
        },
        {
         "confidence": 1,
         "end": 361614,
         "speaker": null,
         "start": 361396,
         "text": "at"
        },
        {
         "confidence": 0.53893,
         "end": 361854,
         "speaker": null,
         "start": 361652,
         "text": "is"
        },
        {
         "confidence": 0.99974,
         "end": 362094,
         "speaker": null,
         "start": 361892,
         "text": "doing"
        },
        {
         "confidence": 1,
         "end": 362286,
         "speaker": null,
         "start": 362132,
         "text": "a"
        },
        {
         "confidence": 0.99987,
         "end": 362542,
         "speaker": null,
         "start": 362308,
         "text": "simple"
        },
        {
         "confidence": 0.64417,
         "end": 362954,
         "speaker": null,
         "start": 362596,
         "text": "task"
        },
        {
         "confidence": 1,
         "end": 363214,
         "speaker": null,
         "start": 363002,
         "text": "over"
        },
        {
         "confidence": 1,
         "end": 363406,
         "speaker": null,
         "start": 363252,
         "text": "and"
        },
        {
         "confidence": 1,
         "end": 363614,
         "speaker": null,
         "start": 363428,
         "text": "over"
        },
        {
         "confidence": 0.99999,
         "end": 364094,
         "speaker": null,
         "start": 363652,
         "text": "again."
        },
        {
         "confidence": 0.99883,
         "end": 364586,
         "speaker": null,
         "start": 364212,
         "text": "You'd"
        },
        {
         "confidence": 0.99999,
         "end": 364766,
         "speaker": null,
         "start": 364618,
         "text": "be"
        },
        {
         "confidence": 0.97474,
         "end": 365194,
         "speaker": null,
         "start": 364788,
         "text": "surprised"
        },
        {
         "confidence": 0.6,
         "end": 365418,
         "speaker": null,
         "start": 365242,
         "text": "at"
        },
        {
         "confidence": 0.92632,
         "end": 365634,
         "speaker": null,
         "start": 365444,
         "text": "how"
        },
        {
         "confidence": 0.99999,
         "end": 366046,
         "speaker": null,
         "start": 365672,
         "text": "useful"
        },
        {
         "confidence": 0.99971,
         "end": 366274,
         "speaker": null,
         "start": 366078,
         "text": "these"
        },
        {
         "confidence": 1,
         "end": 366514,
         "speaker": null,
         "start": 366312,
         "text": "can"
        },
        {
         "confidence": 0.99998,
         "end": 366850,
         "speaker": null,
         "start": 366552,
         "text": "be"
        },
        {
         "confidence": 0.99989,
         "end": 367154,
         "speaker": null,
         "start": 366920,
         "text": "for"
        },
        {
         "confidence": 0.99998,
         "end": 367346,
         "speaker": null,
         "start": 367192,
         "text": "your"
        },
        {
         "confidence": 0.99984,
         "end": 367854,
         "speaker": null,
         "start": 367368,
         "text": "programming"
        },
        {
         "confidence": 0.9994,
         "end": 368306,
         "speaker": null,
         "start": 367902,
         "text": "future."
        },
        {
         "confidence": 0.999,
         "end": 368722,
         "speaker": null,
         "start": 368408,
         "text": "After"
        },
        {
         "confidence": 0.99986,
         "end": 368994,
         "speaker": null,
         "start": 368776,
         "text": "that,"
        },
        {
         "confidence": 0.99928,
         "end": 369186,
         "speaker": null,
         "start": 369032,
         "text": "you"
        },
        {
         "confidence": 0.99991,
         "end": 369346,
         "speaker": null,
         "start": 369208,
         "text": "should"
        },
        {
         "confidence": 0.99997,
         "end": 369554,
         "speaker": null,
         "start": 369368,
         "text": "learn"
        },
        {
         "confidence": 1,
         "end": 369794,
         "speaker": null,
         "start": 369592,
         "text": "about"
        },
        {
         "confidence": 0.87743,
         "end": 370350,
         "speaker": null,
         "start": 369832,
         "text": "functions."
        },
        {
         "confidence": 0.64,
         "end": 370674,
         "speaker": null,
         "start": 370430,
         "text": "So"
        },
        {
         "confidence": 0.9999,
         "end": 370914,
         "speaker": null,
         "start": 370712,
         "text": "this"
        },
        {
         "confidence": 0.99984,
         "end": 371198,
         "speaker": null,
         "start": 370952,
         "text": "sets"
        },
        {
         "confidence": 1,
         "end": 371346,
         "speaker": null,
         "start": 371214,
         "text": "the"
        },
        {
         "confidence": 0.99809,
         "end": 371694,
         "speaker": null,
         "start": 371368,
         "text": "foundation"
        },
        {
         "confidence": 0.99973,
         "end": 371954,
         "speaker": null,
         "start": 371742,
         "text": "for"
        },
        {
         "confidence": 0.99967,
         "end": 372434,
         "speaker": null,
         "start": 371992,
         "text": "almost"
        },
        {
         "confidence": 0.99912,
         "end": 372930,
         "speaker": null,
         "start": 372552,
         "text": "everything"
        },
        {
         "confidence": 0.99987,
         "end": 373234,
         "speaker": null,
         "start": 373000,
         "text": "you"
        },
        {
         "confidence": 0.99998,
         "end": 373474,
         "speaker": null,
         "start": 373272,
         "text": "do"
        },
        {
         "confidence": 0.99899,
         "end": 373666,
         "speaker": null,
         "start": 373512,
         "text": "on"
        },
        {
         "confidence": 0.99996,
         "end": 373826,
         "speaker": null,
         "start": 373688,
         "text": "your"
        },
        {
         "confidence": 0.99996,
         "end": 374286,
         "speaker": null,
         "start": 373848,
         "text": "programming"
        },
        {
         "confidence": 0.51,
         "end": 374750,
         "speaker": null,
         "start": 374318,
         "text": "journey."
        },
        {
         "confidence": 0.73713,
         "end": 375326,
         "speaker": null,
         "start": 374830,
         "text": "Functions"
        },
        {
         "confidence": 1,
         "end": 375506,
         "speaker": null,
         "start": 375358,
         "text": "allow"
        },
        {
         "confidence": 0.99987,
         "end": 375618,
         "speaker": null,
         "start": 375528,
         "text": "you"
        },
        {
         "confidence": 1,
         "end": 375746,
         "speaker": null,
         "start": 375624,
         "text": "to"
        },
        {
         "confidence": 0.88056,
         "end": 376334,
         "speaker": null,
         "start": 375768,
         "text": "encapsulate"
        },
        {
         "confidence": 0.99983,
         "end": 376594,
         "speaker": null,
         "start": 376382,
         "text": "code"
        },
        {
         "confidence": 1,
         "end": 376786,
         "speaker": null,
         "start": 376632,
         "text": "and"
        },
        {
         "confidence": 0.80045,
         "end": 377166,
         "speaker": null,
         "start": 376808,
         "text": "reuse"
        },
        {
         "confidence": 0.99991,
         "end": 377586,
         "speaker": null,
         "start": 377198,
         "text": "it."
        },
        {
         "confidence": 0.99986,
         "end": 377906,
         "speaker": null,
         "start": 377688,
         "text": "If"
        },
        {
         "confidence": 0.98456,
         "end": 378066,
         "speaker": null,
         "start": 377928,
         "text": "you"
        },
        {
         "confidence": 0.99981,
         "end": 378274,
         "speaker": null,
         "start": 378088,
         "text": "really"
        },
        {
         "confidence": 1,
         "end": 378466,
         "speaker": null,
         "start": 378312,
         "text": "think"
        },
        {
         "confidence": 1,
         "end": 378626,
         "speaker": null,
         "start": 378488,
         "text": "about"
        },
        {
         "confidence": 0.9998,
         "end": 378834,
         "speaker": null,
         "start": 378648,
         "text": "it,"
        },
        {
         "confidence": 0.9999,
         "end": 379074,
         "speaker": null,
         "start": 378872,
         "text": "good"
        },
        {
         "confidence": 0.99961,
         "end": 379486,
         "speaker": null,
         "start": 379112,
         "text": "coding"
        },
        {
         "confidence": 0.99999,
         "end": 379666,
         "speaker": null,
         "start": 379518,
         "text": "is"
        },
        {
         "confidence": 1,
         "end": 379874,
         "speaker": null,
         "start": 379688,
         "text": "about"
        },
        {
         "confidence": 0.99994,
         "end": 380222,
         "speaker": null,
         "start": 379912,
         "text": "making"
        },
        {
         "confidence": 0.99982,
         "end": 380486,
         "speaker": null,
         "start": 380296,
         "text": "as"
        },
        {
         "confidence": 0.99994,
         "end": 380742,
         "speaker": null,
         "start": 380508,
         "text": "many"
        },
        {
         "confidence": 0.9977,
         "end": 381314,
         "speaker": null,
         "start": 380796,
         "text": "reusable"
        },
        {
         "confidence": 0.99978,
         "end": 381618,
         "speaker": null,
         "start": 381362,
         "text": "bits"
        },
        {
         "confidence": 0.99997,
         "end": 381766,
         "speaker": null,
         "start": 381634,
         "text": "as"
        },
        {
         "confidence": 0.99997,
         "end": 382118,
         "speaker": null,
         "start": 381788,
         "text": "possible,"
        },
        {
         "confidence": 0.96,
         "end": 382454,
         "speaker": null,
         "start": 382204,
         "text": "and"
        },
        {
         "confidence": 0.99991,
         "end": 382646,
         "speaker": null,
         "start": 382492,
         "text": "these"
        },
        {
         "confidence": 0.99951,
         "end": 383058,
         "speaker": null,
         "start": 382668,
         "text": "functions"
        },
        {
         "confidence": 0.99983,
         "end": 383206,
         "speaker": null,
         "start": 383074,
         "text": "are"
        },
        {
         "confidence": 0.99711,
         "end": 383414,
         "speaker": null,
         "start": 383228,
         "text": "where"
        },
        {
         "confidence": 0.99998,
         "end": 383606,
         "speaker": null,
         "start": 383452,
         "text": "that"
        },
        {
         "confidence": 0.99994,
         "end": 383814,
         "speaker": null,
         "start": 383628,
         "text": "really"
        },
        {
         "confidence": 0.99997,
         "end": 384242,
         "speaker": null,
         "start": 383852,
         "text": "begins."
        },
        {
         "confidence": 1,
         "end": 384438,
         "speaker": null,
         "start": 384306,
         "text": "At"
        },
        {
         "confidence": 0.99999,
         "end": 384566,
         "speaker": null,
         "start": 384444,
         "text": "this"
        },
        {
         "confidence": 1,
         "end": 384726,
         "speaker": null,
         "start": 384588,
         "text": "point,"
        },
        {
         "confidence": 0.99955,
         "end": 384886,
         "speaker": null,
         "start": 384748,
         "text": "you"
        },
        {
         "confidence": 0.99993,
         "end": 384998,
         "speaker": null,
         "start": 384908,
         "text": "have"
        },
        {
         "confidence": 1,
         "end": 385126,
         "speaker": null,
         "start": 385004,
         "text": "a"
        },
        {
         "confidence": 0.99991,
         "end": 385286,
         "speaker": null,
         "start": 385148,
         "text": "pretty"
        },
        {
         "confidence": 0.99999,
         "end": 385494,
         "speaker": null,
         "start": 385308,
         "text": "good"
        },
        {
         "confidence": 0.99974,
         "end": 385906,
         "speaker": null,
         "start": 385532,
         "text": "understanding"
        },
        {
         "confidence": 1,
         "end": 386086,
         "speaker": null,
         "start": 385938,
         "text": "of"
        },
        {
         "confidence": 1,
         "end": 386198,
         "speaker": null,
         "start": 386108,
         "text": "the"
        },
        {
         "confidence": 0.99681,
         "end": 386374,
         "speaker": null,
         "start": 386204,
         "text": "key"
        },
        {
         "confidence": 0.98265,
         "end": 386614,
         "speaker": null,
         "start": 386412,
         "text": "building"
        },
        {
         "confidence": 0.837,
         "end": 386978,
         "speaker": null,
         "start": 386652,
         "text": "blocks"
        },
        {
         "confidence": 1,
         "end": 387078,
         "speaker": null,
         "start": 386994,
         "text": "of"
        },
        {
         "confidence": 0.65835,
         "end": 387698,
         "speaker": null,
         "start": 387084,
         "text": "Python."
        },
        {
         "confidence": 0.99981,
         "end": 388006,
         "speaker": null,
         "start": 387794,
         "text": "You"
        },
        {
         "confidence": 0.9999,
         "end": 388166,
         "speaker": null,
         "start": 388028,
         "text": "should"
        },
        {
         "confidence": 1,
         "end": 388374,
         "speaker": null,
         "start": 388188,
         "text": "now"
        },
        {
         "confidence": 0.99999,
         "end": 388614,
         "speaker": null,
         "start": 388412,
         "text": "learn"
        },
        {
         "confidence": 1,
         "end": 388758,
         "speaker": null,
         "start": 388652,
         "text": "a"
        },
        {
         "confidence": 0.56978,
         "end": 388934,
         "speaker": null,
         "start": 388764,
         "text": "bit"
        },
        {
         "confidence": 1,
         "end": 389222,
         "speaker": null,
         "start": 388972,
         "text": "more"
        },
        {
         "confidence": 1,
         "end": 389494,
         "speaker": null,
         "start": 389276,
         "text": "about"
        },
        {
         "confidence": 0.99998,
         "end": 389734,
         "speaker": null,
         "start": 389532,
         "text": "how"
        },
        {
         "confidence": 0.99994,
         "end": 389878,
         "speaker": null,
         "start": 389772,
         "text": "some"
        },
        {
         "confidence": 0.99,
         "end": 390006,
         "speaker": null,
         "start": 389884,
         "text": "of"
        },
        {
         "confidence": 1,
         "end": 390118,
         "speaker": null,
         "start": 390028,
         "text": "the"
        },
        {
         "confidence": 0.99968,
         "end": 390434,
         "speaker": null,
         "start": 390124,
         "text": "basic"
        },
        {
         "confidence": 0.99994,
         "end": 390742,
         "speaker": null,
         "start": 390482,
         "text": "data"
        },
        {
         "confidence": 0.91539,
         "end": 391154,
         "speaker": null,
         "start": 390796,
         "text": "structures"
        },
        {
         "confidence": 1,
         "end": 391462,
         "speaker": null,
         "start": 391202,
         "text": "work."
        },
        {
         "confidence": 1,
         "end": 391686,
         "speaker": null,
         "start": 391516,
         "text": "I"
        },
        {
         "confidence": 0.91961,
         "end": 391990,
         "speaker": null,
         "start": 391708,
         "text": "recommend"
        },
        {
         "confidence": 0.99997,
         "end": 392294,
         "speaker": null,
         "start": 392060,
         "text": "taking"
        },
        {
         "confidence": 1,
         "end": 392438,
         "speaker": null,
         "start": 392332,
         "text": "a"
        },
        {
         "confidence": 0.99902,
         "end": 392670,
         "speaker": null,
         "start": 392444,
         "text": "deeper"
        },
        {
         "confidence": 0.99973,
         "end": 392838,
         "speaker": null,
         "start": 392690,
         "text": "dive"
        },
        {
         "confidence": 0.99999,
         "end": 393034,
         "speaker": null,
         "start": 392854,
         "text": "into"
        },
        {
         "confidence": 0.99854,
         "end": 393414,
         "speaker": null,
         "start": 393072,
         "text": "lists,"
        },
        {
         "confidence": 0.99993,
         "end": 394102,
         "speaker": null,
         "start": 393462,
         "text": "dictionaries"
        },
        {
         "confidence": 0.99995,
         "end": 394298,
         "speaker": null,
         "start": 394166,
         "text": "as"
        },
        {
         "confidence": 0.99892,
         "end": 394426,
         "speaker": null,
         "start": 394304,
         "text": "well"
        },
        {
         "confidence": 0.99995,
         "end": 394586,
         "speaker": null,
         "start": 394448,
         "text": "as"
        },
        {
         "confidence": 0.99673,
         "end": 395014,
         "speaker": null,
         "start": 394608,
         "text": "tuples."
        },
        {
         "confidence": 0.99986,
         "end": 395226,
         "speaker": null,
         "start": 395062,
         "text": "This"
        },
        {
         "confidence": 0.99945,
         "end": 395338,
         "speaker": null,
         "start": 395248,
         "text": "will"
        },
        {
         "confidence": 0.99999,
         "end": 395514,
         "speaker": null,
         "start": 395344,
         "text": "set"
        },
        {
         "confidence": 1,
         "end": 395658,
         "speaker": null,
         "start": 395552,
         "text": "the"
        },
        {
         "confidence": 0.99988,
         "end": 395974,
         "speaker": null,
         "start": 395664,
         "text": "foundation"
        },
        {
         "confidence": 0.99999,
         "end": 396138,
         "speaker": null,
         "start": 396022,
         "text": "for"
        },
        {
         "confidence": 0.99968,
         "end": 396266,
         "speaker": null,
         "start": 396144,
         "text": "much"
        },
        {
         "confidence": 1,
         "end": 396426,
         "speaker": null,
         "start": 396288,
         "text": "of"
        },
        {
         "confidence": 0.9999,
         "end": 396586,
         "speaker": null,
         "start": 396448,
         "text": "your"
        },
        {
         "confidence": 0.9908,
         "end": 396794,
         "speaker": null,
         "start": 396608,
         "text": "data"
        },
        {
         "confidence": 0.99,
         "end": 397034,
         "speaker": null,
         "start": 396832,
         "text": "work"
        },
        {
         "confidence": 0.99998,
         "end": 397274,
         "speaker": null,
         "start": 397072,
         "text": "later"
        },
        {
         "confidence": 0.99938,
         "end": 397754,
         "speaker": null,
         "start": 397312,
         "text": "on."
        },
        {
         "confidence": 0.99985,
         "end": 398250,
         "speaker": null,
         "start": 397872,
         "text": "Finally,"
        },
        {
         "confidence": 0.99987,
         "end": 398506,
         "speaker": null,
         "start": 398320,
         "text": "you"
        },
        {
         "confidence": 0.98987,
         "end": 398666,
         "speaker": null,
         "start": 398528,
         "text": "should"
        },
        {
         "confidence": 0.99998,
         "end": 398874,
         "speaker": null,
         "start": 398688,
         "text": "start"
        },
        {
         "confidence": 0.99999,
         "end": 399162,
         "speaker": null,
         "start": 398912,
         "text": "learning"
        },
        {
         "confidence": 0.77,
         "end": 399386,
         "speaker": null,
         "start": 399216,
         "text": "to"
        },
        {
         "confidence": 1,
         "end": 399594,
         "speaker": null,
         "start": 399408,
         "text": "work"
        },
        {
         "confidence": 0.99998,
         "end": 399786,
         "speaker": null,
         "start": 399632,
         "text": "with"
        },
        {
         "confidence": 0.91337,
         "end": 400438,
         "speaker": null,
         "start": 399808,
         "text": "libraries."
        },
        {
         "confidence": 0.99,
         "end": 400746,
         "speaker": null,
         "start": 400534,
         "text": "So"
        },
        {
         "confidence": 1,
         "end": 400858,
         "speaker": null,
         "start": 400768,
         "text": "the"
        },
        {
         "confidence": 0.99998,
         "end": 401034,
         "speaker": null,
         "start": 400864,
         "text": "most"
        },
        {
         "confidence": 0.99999,
         "end": 401322,
         "speaker": null,
         "start": 401072,
         "text": "important"
        },
        {
         "confidence": 1,
         "end": 401594,
         "speaker": null,
         "start": 401376,
         "text": "ones"
        },
        {
         "confidence": 0.99998,
         "end": 401786,
         "speaker": null,
         "start": 401632,
         "text": "for"
        },
        {
         "confidence": 0.99995,
         "end": 402042,
         "speaker": null,
         "start": 401808,
         "text": "data"
        },
        {
         "confidence": 0.99994,
         "end": 402278,
         "speaker": null,
         "start": 402096,
         "text": "are"
        },
        {
         "confidence": 0.90036,
         "end": 402682,
         "speaker": null,
         "start": 402304,
         "text": "pandas,"
        },
        {
         "confidence": 0.99899,
         "end": 403146,
         "speaker": null,
         "start": 402746,
         "text": "numpy,"
        },
        {
         "confidence": 0.93081,
         "end": 403738,
         "speaker": null,
         "start": 403178,
         "text": "Scikitlearn"
        },
        {
         "confidence": 0.99,
         "end": 403886,
         "speaker": null,
         "start": 403754,
         "text": "and"
        },
        {
         "confidence": 0.70909,
         "end": 404682,
         "speaker": null,
         "start": 403908,
         "text": "Matplotlib,"
        },
        {
         "confidence": 0.99,
         "end": 404926,
         "speaker": null,
         "start": 404746,
         "text": "and"
        },
        {
         "confidence": 0.99987,
         "end": 405182,
         "speaker": null,
         "start": 404948,
         "text": "these"
        },
        {
         "confidence": 0.99949,
         "end": 405406,
         "speaker": null,
         "start": 405236,
         "text": "give"
        },
        {
         "confidence": 0.99998,
         "end": 405614,
         "speaker": null,
         "start": 405428,
         "text": "you"
        },
        {
         "confidence": 0.99996,
         "end": 405994,
         "speaker": null,
         "start": 405652,
         "text": "additional"
        },
        {
         "confidence": 0.99989,
         "end": 406346,
         "speaker": null,
         "start": 406042,
         "text": "tools"
        },
        {
         "confidence": 1,
         "end": 406478,
         "speaker": null,
         "start": 406378,
         "text": "to"
        },
        {
         "confidence": 0.87772,
         "end": 407050,
         "speaker": null,
         "start": 406484,
         "text": "analyze,"
        },
        {
         "confidence": 0.98439,
         "end": 407674,
         "speaker": null,
         "start": 407130,
         "text": "visualize"
        },
        {
         "confidence": 1,
         "end": 407886,
         "speaker": null,
         "start": 407722,
         "text": "and"
        },
        {
         "confidence": 0.9999,
         "end": 408426,
         "speaker": null,
         "start": 407908,
         "text": "manipulate"
        },
        {
         "confidence": 0.99954,
         "end": 408750,
         "speaker": null,
         "start": 408458,
         "text": "data."
        },
        {
         "confidence": 0.9955,
         "end": 409226,
         "speaker": null,
         "start": 408820,
         "text": "Pandas"
        },
        {
         "confidence": 1,
         "end": 409358,
         "speaker": null,
         "start": 409258,
         "text": "and"
        },
        {
         "confidence": 0.99932,
         "end": 409754,
         "speaker": null,
         "start": 409364,
         "text": "Numpy"
        },
        {
         "confidence": 0.96977,
         "end": 410014,
         "speaker": null,
         "start": 409802,
         "text": "also"
        },
        {
         "confidence": 0.63437,
         "end": 410426,
         "speaker": null,
         "start": 410052,
         "text": "introduce"
        },
        {
         "confidence": 0.99999,
         "end": 410606,
         "speaker": null,
         "start": 410458,
         "text": "some"
        },
        {
         "confidence": 1,
         "end": 410766,
         "speaker": null,
         "start": 410628,
         "text": "new"
        },
        {
         "confidence": 0.99997,
         "end": 410974,
         "speaker": null,
         "start": 410788,
         "text": "data"
        },
        {
         "confidence": 0.99946,
         "end": 411306,
         "speaker": null,
         "start": 411012,
         "text": "structures"
        },
        {
         "confidence": 1,
         "end": 411486,
         "speaker": null,
         "start": 411338,
         "text": "like"
        },
        {
         "confidence": 0.90439,
         "end": 411914,
         "speaker": null,
         "start": 411508,
         "text": "arrays,"
        },
        {
         "confidence": 0.99793,
         "end": 412266,
         "speaker": null,
         "start": 411962,
         "text": "series"
        },
        {
         "confidence": 1,
         "end": 412398,
         "speaker": null,
         "start": 412298,
         "text": "and"
        },
        {
         "confidence": 0.99074,
         "end": 412574,
         "speaker": null,
         "start": 412404,
         "text": "data"
        },
        {
         "confidence": 0.92345,
         "end": 412954,
         "speaker": null,
         "start": 412612,
         "text": "frames."
        },
        {
         "confidence": 1,
         "end": 413166,
         "speaker": null,
         "start": 413002,
         "text": "So"
        },
        {
         "confidence": 0.99995,
         "end": 413278,
         "speaker": null,
         "start": 413188,
         "text": "if"
        },
        {
         "confidence": 0.99997,
         "end": 413358,
         "speaker": null,
         "start": 413284,
         "text": "you"
        },
        {
         "confidence": 0.99937,
         "end": 413486,
         "speaker": null,
         "start": 413364,
         "text": "have"
        },
        {
         "confidence": 1,
         "end": 413646,
         "speaker": null,
         "start": 413508,
         "text": "an"
        },
        {
         "confidence": 0.99983,
         "end": 414154,
         "speaker": null,
         "start": 413668,
         "text": "understanding"
        },
        {
         "confidence": 1,
         "end": 414318,
         "speaker": null,
         "start": 414202,
         "text": "of"
        },
        {
         "confidence": 0.99983,
         "end": 414446,
         "speaker": null,
         "start": 414324,
         "text": "how"
        },
        {
         "confidence": 1,
         "end": 414558,
         "speaker": null,
         "start": 414468,
         "text": "the"
        },
        {
         "confidence": 1,
         "end": 414686,
         "speaker": null,
         "start": 414564,
         "text": "more"
        },
        {
         "confidence": 0.99998,
         "end": 414986,
         "speaker": null,
         "start": 414708,
         "text": "basic"
        },
        {
         "confidence": 0.99994,
         "end": 415214,
         "speaker": null,
         "start": 415018,
         "text": "data"
        },
        {
         "confidence": 0.99935,
         "end": 415594,
         "speaker": null,
         "start": 415252,
         "text": "structures"
        },
        {
         "confidence": 1,
         "end": 415806,
         "speaker": null,
         "start": 415642,
         "text": "work"
        },
        {
         "confidence": 0.99511,
         "end": 415918,
         "speaker": null,
         "start": 415828,
         "text": "in"
        },
        {
         "confidence": 0.9999,
         "end": 416410,
         "speaker": null,
         "start": 415924,
         "text": "python,"
        },
        {
         "confidence": 0.99981,
         "end": 416686,
         "speaker": null,
         "start": 416490,
         "text": "you"
        },
        {
         "confidence": 0.99999,
         "end": 416846,
         "speaker": null,
         "start": 416708,
         "text": "should"
        },
        {
         "confidence": 0.9999,
         "end": 416958,
         "speaker": null,
         "start": 416868,
         "text": "be"
        },
        {
         "confidence": 0.99996,
         "end": 417086,
         "speaker": null,
         "start": 416964,
         "text": "able"
        },
        {
         "confidence": 1,
         "end": 417198,
         "speaker": null,
         "start": 417108,
         "text": "to"
        },
        {
         "confidence": 0.99998,
         "end": 417338,
         "speaker": null,
         "start": 417204,
         "text": "pick"
        },
        {
         "confidence": 0.99993,
         "end": 417554,
         "speaker": null,
         "start": 417364,
         "text": "these"
        },
        {
         "confidence": 1,
         "end": 417794,
         "speaker": null,
         "start": 417592,
         "text": "up"
        },
        {
         "confidence": 0.58486,
         "end": 418366,
         "speaker": null,
         "start": 417832,
         "text": "relatively"
        },
        {
         "confidence": 0.58102,
         "end": 418786,
         "speaker": null,
         "start": 418398,
         "text": "quickly."
        },
        {
         "confidence": 0.99,
         "end": 419058,
         "speaker": null,
         "start": 418888,
         "text": "And"
        },
        {
         "confidence": 0.68243,
         "end": 419246,
         "speaker": null,
         "start": 419064,
         "text": "that's"
        },
        {
         "confidence": 0.99937,
         "end": 419522,
         "speaker": null,
         "start": 419278,
         "text": "it."
        },
        {
         "confidence": 0.9999,
         "end": 419794,
         "speaker": null,
         "start": 419576,
         "text": "With"
        },
        {
         "confidence": 0.99999,
         "end": 420034,
         "speaker": null,
         "start": 419832,
         "text": "those"
        },
        {
         "confidence": 1,
         "end": 420274,
         "speaker": null,
         "start": 420072,
         "text": "seven"
        },
        {
         "confidence": 0.99994,
         "end": 420610,
         "speaker": null,
         "start": 420312,
         "text": "things,"
        },
        {
         "confidence": 0.99996,
         "end": 420818,
         "speaker": null,
         "start": 420680,
         "text": "you"
        },
        {
         "confidence": 0.99288,
         "end": 420946,
         "speaker": null,
         "start": 420824,
         "text": "have"
        },
        {
         "confidence": 1,
         "end": 421106,
         "speaker": null,
         "start": 420968,
         "text": "the"
        },
        {
         "confidence": 0.99998,
         "end": 421406,
         "speaker": null,
         "start": 421128,
         "text": "basics"
        },
        {
         "confidence": 1,
         "end": 421586,
         "speaker": null,
         "start": 421438,
         "text": "of"
        },
        {
         "confidence": 0.99512,
         "end": 422014,
         "speaker": null,
         "start": 421608,
         "text": "coding"
        },
        {
         "confidence": 0.99987,
         "end": 422226,
         "speaker": null,
         "start": 422062,
         "text": "that"
        },
        {
         "confidence": 0.97541,
         "end": 422446,
         "speaker": null,
         "start": 422248,
         "text": "you'll"
        },
        {
         "confidence": 1,
         "end": 422674,
         "speaker": null,
         "start": 422478,
         "text": "need"
        },
        {
         "confidence": 0.99993,
         "end": 422962,
         "speaker": null,
         "start": 422712,
         "text": "for"
        },
        {
         "confidence": 0.99993,
         "end": 423234,
         "speaker": null,
         "start": 423016,
         "text": "starting"
        },
        {
         "confidence": 1,
         "end": 423426,
         "speaker": null,
         "start": 423272,
         "text": "to"
        },
        {
         "confidence": 1,
         "end": 423634,
         "speaker": null,
         "start": 423448,
         "text": "work"
        },
        {
         "confidence": 0.99997,
         "end": 423874,
         "speaker": null,
         "start": 423672,
         "text": "with"
        },
        {
         "confidence": 0.99963,
         "end": 424210,
         "speaker": null,
         "start": 423912,
         "text": "data."
        },
        {
         "confidence": 0.99968,
         "end": 424418,
         "speaker": null,
         "start": 424280,
         "text": "If"
        },
        {
         "confidence": 0.874,
         "end": 424606,
         "speaker": null,
         "start": 424424,
         "text": "you're"
        },
        {
         "confidence": 0.99997,
         "end": 424786,
         "speaker": null,
         "start": 424638,
         "text": "watching"
        },
        {
         "confidence": 0.99999,
         "end": 424946,
         "speaker": null,
         "start": 424808,
         "text": "this"
        },
        {
         "confidence": 1,
         "end": 425058,
         "speaker": null,
         "start": 424968,
         "text": "and"
        },
        {
         "confidence": 0.85508,
         "end": 425138,
         "speaker": null,
         "start": 425064,
         "text": "you're"
        },
        {
         "confidence": 1,
         "end": 425218,
         "speaker": null,
         "start": 425144,
         "text": "a"
        },
        {
         "confidence": 0.99999,
         "end": 425486,
         "speaker": null,
         "start": 425224,
         "text": "software"
        },
        {
         "confidence": 0.99992,
         "end": 426030,
         "speaker": null,
         "start": 425518,
         "text": "engineer,"
        },
        {
         "confidence": 0.9997,
         "end": 426306,
         "speaker": null,
         "start": 426110,
         "text": "you"
        },
        {
         "confidence": 0.99995,
         "end": 426514,
         "speaker": null,
         "start": 426328,
         "text": "probably"
        },
        {
         "confidence": 0.99996,
         "end": 426706,
         "speaker": null,
         "start": 426552,
         "text": "think"
        },
        {
         "confidence": 1,
         "end": 426866,
         "speaker": null,
         "start": 426728,
         "text": "I"
        },
        {
         "confidence": 0.99999,
         "end": 427074,
         "speaker": null,
         "start": 426888,
         "text": "left"
        },
        {
         "confidence": 0.99977,
         "end": 427326,
         "speaker": null,
         "start": 427112,
         "text": "something"
        },
        {
         "confidence": 0.99997,
         "end": 427718,
         "speaker": null,
         "start": 427368,
         "text": "important"
        },
        {
         "confidence": 1,
         "end": 428102,
         "speaker": null,
         "start": 427804,
         "text": "out."
        },
        {
         "confidence": 0.99435,
         "end": 428326,
         "speaker": null,
         "start": 428156,
         "text": "What"
        },
        {
         "confidence": 0.99824,
         "end": 428546,
         "speaker": null,
         "start": 428348,
         "text": "I've"
        },
        {
         "confidence": 0.97163,
         "end": 428898,
         "speaker": null,
         "start": 428578,
         "text": "purposely"
        },
        {
         "confidence": 0.64358,
         "end": 429346,
         "speaker": null,
         "start": 428914,
         "text": "omitted"
        },
        {
         "confidence": 1,
         "end": 429526,
         "speaker": null,
         "start": 429378,
         "text": "from"
        },
        {
         "confidence": 0.99999,
         "end": 429686,
         "speaker": null,
         "start": 429548,
         "text": "this"
        },
        {
         "confidence": 1,
         "end": 429990,
         "speaker": null,
         "start": 429708,
         "text": "list"
        },
        {
         "confidence": 0.83543,
         "end": 430294,
         "speaker": null,
         "start": 430060,
         "text": "is"
        },
        {
         "confidence": 1,
         "end": 430486,
         "speaker": null,
         "start": 430332,
         "text": "an"
        },
        {
         "confidence": 0.83111,
         "end": 430962,
         "speaker": null,
         "start": 430508,
         "text": "explanation"
        },
        {
         "confidence": 1,
         "end": 431254,
         "speaker": null,
         "start": 431026,
         "text": "of"
        },
        {
         "confidence": 0.9999,
         "end": 431714,
         "speaker": null,
         "start": 431292,
         "text": "classes."
        },
        {
         "confidence": 1,
         "end": 431974,
         "speaker": null,
         "start": 431762,
         "text": "So"
        },
        {
         "confidence": 0.99973,
         "end": 432386,
         "speaker": null,
         "start": 432012,
         "text": "classes"
        },
        {
         "confidence": 0.99999,
         "end": 432566,
         "speaker": null,
         "start": 432418,
         "text": "are"
        },
        {
         "confidence": 1,
         "end": 432678,
         "speaker": null,
         "start": 432588,
         "text": "the"
        },
        {
         "confidence": 0.99965,
         "end": 433074,
         "speaker": null,
         "start": 432684,
         "text": "foundation"
        },
        {
         "confidence": 1,
         "end": 433286,
         "speaker": null,
         "start": 433122,
         "text": "of"
        },
        {
         "confidence": 0.99999,
         "end": 433590,
         "speaker": null,
         "start": 433308,
         "text": "object"
        },
        {
         "confidence": 0.61355,
         "end": 434146,
         "speaker": null,
         "start": 433660,
         "text": "oriented"
        },
        {
         "confidence": 0.96882,
         "end": 434770,
         "speaker": null,
         "start": 434178,
         "text": "programming,"
        },
        {
         "confidence": 0.99,
         "end": 435094,
         "speaker": null,
         "start": 434850,
         "text": "and"
        },
        {
         "confidence": 0.58315,
         "end": 435906,
         "speaker": null,
         "start": 435132,
         "text": "objectoriented"
        },
        {
         "confidence": 0.61503,
         "end": 436530,
         "speaker": null,
         "start": 435938,
         "text": "programming"
        },
        {
         "confidence": 0.99993,
         "end": 436854,
         "speaker": null,
         "start": 436610,
         "text": "is"
        },
        {
         "confidence": 1,
         "end": 436998,
         "speaker": null,
         "start": 436892,
         "text": "a"
        },
        {
         "confidence": 0.99994,
         "end": 437426,
         "speaker": null,
         "start": 437004,
         "text": "programming"
        },
        {
         "confidence": 0.99997,
         "end": 437654,
         "speaker": null,
         "start": 437458,
         "text": "model"
        },
        {
         "confidence": 0.99998,
         "end": 437846,
         "speaker": null,
         "start": 437692,
         "text": "that"
        },
        {
         "confidence": 0.99949,
         "end": 438386,
         "speaker": null,
         "start": 437868,
         "text": "organizes"
        },
        {
         "confidence": 0.99998,
         "end": 438614,
         "speaker": null,
         "start": 438418,
         "text": "code"
        },
        {
         "confidence": 0.89481,
         "end": 438902,
         "speaker": null,
         "start": 438652,
         "text": "around"
        },
        {
         "confidence": 0.99141,
         "end": 439394,
         "speaker": null,
         "start": 438956,
         "text": "objects"
        },
        {
         "confidence": 1,
         "end": 439654,
         "speaker": null,
         "start": 439442,
         "text": "rather"
        },
        {
         "confidence": 0.99996,
         "end": 439942,
         "speaker": null,
         "start": 439692,
         "text": "than"
        },
        {
         "confidence": 0.99973,
         "end": 440386,
         "speaker": null,
         "start": 439996,
         "text": "functions"
        },
        {
         "confidence": 0.99996,
         "end": 440566,
         "speaker": null,
         "start": 440418,
         "text": "or"
        },
        {
         "confidence": 0.99987,
         "end": 441246,
         "speaker": null,
         "start": 440588,
         "text": "logic."
        },
        {
         "confidence": 0.99995,
         "end": 441770,
         "speaker": null,
         "start": 441378,
         "text": "Object"
        },
        {
         "confidence": 0.59751,
         "end": 442278,
         "speaker": null,
         "start": 441840,
         "text": "oriented"
        },
        {
         "confidence": 0.99994,
         "end": 442726,
         "speaker": null,
         "start": 442294,
         "text": "programming"
        },
        {
         "confidence": 0.99994,
         "end": 442906,
         "speaker": null,
         "start": 442758,
         "text": "is"
        },
        {
         "confidence": 0.79791,
         "end": 443254,
         "speaker": null,
         "start": 442928,
         "text": "incredibly"
        },
        {
         "confidence": 0.9999,
         "end": 443782,
         "speaker": null,
         "start": 443302,
         "text": "powerful,"
        },
        {
         "confidence": 0.99994,
         "end": 444026,
         "speaker": null,
         "start": 443846,
         "text": "but"
        },
        {
         "confidence": 0.99991,
         "end": 444406,
         "speaker": null,
         "start": 444048,
         "text": "honestly,"
        },
        {
         "confidence": 0.50381,
         "end": 444586,
         "speaker": null,
         "start": 444438,
         "text": "it"
        },
        {
         "confidence": 0.85566,
         "end": 444806,
         "speaker": null,
         "start": 444608,
         "text": "isn't"
        },
        {
         "confidence": 0.99999,
         "end": 445034,
         "speaker": null,
         "start": 444838,
         "text": "very"
        },
        {
         "confidence": 0.6886,
         "end": 445494,
         "speaker": null,
         "start": 445072,
         "text": "relevant"
        },
        {
         "confidence": 0.99997,
         "end": 445658,
         "speaker": null,
         "start": 445542,
         "text": "for"
        },
        {
         "confidence": 1,
         "end": 445786,
         "speaker": null,
         "start": 445664,
         "text": "the"
        },
        {
         "confidence": 0.96739,
         "end": 446086,
         "speaker": null,
         "start": 445808,
         "text": "beginner"
        },
        {
         "confidence": 0.85463,
         "end": 446502,
         "speaker": null,
         "start": 446118,
         "text": "stages"
        },
        {
         "confidence": 1,
         "end": 446746,
         "speaker": null,
         "start": 446566,
         "text": "of"
        },
        {
         "confidence": 0.99991,
         "end": 446954,
         "speaker": null,
         "start": 446768,
         "text": "working"
        },
        {
         "confidence": 0.99996,
         "end": 447146,
         "speaker": null,
         "start": 446992,
         "text": "with"
        },
        {
         "confidence": 0.99985,
         "end": 447498,
         "speaker": null,
         "start": 447168,
         "text": "data."
        },
        {
         "confidence": 0.99996,
         "end": 447786,
         "speaker": null,
         "start": 447584,
         "text": "It"
        },
        {
         "confidence": 0.99995,
         "end": 447946,
         "speaker": null,
         "start": 447808,
         "text": "is"
        },
        {
         "confidence": 0.99999,
         "end": 448202,
         "speaker": null,
         "start": 447968,
         "text": "something"
        },
        {
         "confidence": 0.99996,
         "end": 448426,
         "speaker": null,
         "start": 448256,
         "text": "you"
        },
        {
         "confidence": 0.99996,
         "end": 448634,
         "speaker": null,
         "start": 448448,
         "text": "should"
        },
        {
         "confidence": 0.99982,
         "end": 449018,
         "speaker": null,
         "start": 448672,
         "text": "absolutely"
        },
        {
         "confidence": 0.99998,
         "end": 449446,
         "speaker": null,
         "start": 449104,
         "text": "explore"
        },
        {
         "confidence": 0.99528,
         "end": 449626,
         "speaker": null,
         "start": 449478,
         "text": "on"
        },
        {
         "confidence": 0.99999,
         "end": 449786,
         "speaker": null,
         "start": 449648,
         "text": "your"
        },
        {
         "confidence": 0.99999,
         "end": 450138,
         "speaker": null,
         "start": 449808,
         "text": "own"
        },
        {
         "confidence": 0.99998,
         "end": 450474,
         "speaker": null,
         "start": 450224,
         "text": "after"
        },
        {
         "confidence": 0.55819,
         "end": 450774,
         "speaker": null,
         "start": 450512,
         "text": "you've"
        },
        {
         "confidence": 0.89006,
         "end": 451094,
         "speaker": null,
         "start": 450822,
         "text": "learned"
        },
        {
         "confidence": 0.99996,
         "end": 451402,
         "speaker": null,
         "start": 451142,
         "text": "these"
        },
        {
         "confidence": 0.99995,
         "end": 451674,
         "speaker": null,
         "start": 451456,
         "text": "other"
        },
        {
         "confidence": 0.97492,
         "end": 452134,
         "speaker": null,
         "start": 451712,
         "text": "concepts"
        },
        {
         "confidence": 0.99973,
         "end": 452490,
         "speaker": null,
         "start": 452182,
         "text": "well"
        },
        {
         "confidence": 0.99997,
         "end": 452698,
         "speaker": null,
         "start": 452560,
         "text": "in"
        },
        {
         "confidence": 1,
         "end": 452826,
         "speaker": null,
         "start": 452704,
         "text": "the"
        },
        {
         "confidence": 0.9998,
         "end": 453254,
         "speaker": null,
         "start": 452848,
         "text": "description,"
        },
        {
         "confidence": 0.99966,
         "end": 453478,
         "speaker": null,
         "start": 453302,
         "text": "I've"
        },
        {
         "confidence": 0.99998,
         "end": 453766,
         "speaker": null,
         "start": 453494,
         "text": "linked"
        },
        {
         "confidence": 1,
         "end": 453898,
         "speaker": null,
         "start": 453798,
         "text": "a"
        },
        {
         "confidence": 1,
         "end": 454038,
         "speaker": null,
         "start": 453904,
         "text": "few"
        },
        {
         "confidence": 0.99992,
         "end": 454254,
         "speaker": null,
         "start": 454064,
         "text": "great"
        },
        {
         "confidence": 0.7629,
         "end": 454794,
         "speaker": null,
         "start": 454292,
         "text": "resources"
        },
        {
         "confidence": 0.99995,
         "end": 455006,
         "speaker": null,
         "start": 454842,
         "text": "for"
        },
        {
         "confidence": 0.9999,
         "end": 455262,
         "speaker": null,
         "start": 455028,
         "text": "learning"
        },
        {
         "confidence": 1,
         "end": 455486,
         "speaker": null,
         "start": 455316,
         "text": "all"
        },
        {
         "confidence": 1,
         "end": 455646,
         "speaker": null,
         "start": 455508,
         "text": "of"
        },
        {
         "confidence": 1,
         "end": 455806,
         "speaker": null,
         "start": 455668,
         "text": "the"
        },
        {
         "confidence": 0.98974,
         "end": 456378,
         "speaker": null,
         "start": 455828,
         "text": "concepts,"
        },
        {
         "confidence": 0.99998,
         "end": 457034,
         "speaker": null,
         "start": 456474,
         "text": "including"
        },
        {
         "confidence": 1,
         "end": 457246,
         "speaker": null,
         "start": 457082,
         "text": "the"
        },
        {
         "confidence": 0.99999,
         "end": 457550,
         "speaker": null,
         "start": 457268,
         "text": "exact"
        },
        {
         "confidence": 1,
         "end": 457806,
         "speaker": null,
         "start": 457620,
         "text": "one"
        },
        {
         "confidence": 0.99999,
         "end": 458014,
         "speaker": null,
         "start": 457828,
         "text": "from"
        },
        {
         "confidence": 0.76697,
         "end": 458794,
         "speaker": null,
         "start": 458052,
         "text": "Freecodecamp"
        },
        {
         "confidence": 0.99998,
         "end": 459006,
         "speaker": null,
         "start": 458842,
         "text": "that"
        },
        {
         "confidence": 1,
         "end": 459166,
         "speaker": null,
         "start": 459028,
         "text": "I"
        },
        {
         "confidence": 0.99997,
         "end": 459374,
         "speaker": null,
         "start": 459188,
         "text": "gave"
        },
        {
         "confidence": 0.99996,
         "end": 459566,
         "speaker": null,
         "start": 459412,
         "text": "my"
        },
        {
         "confidence": 0.99995,
         "end": 459870,
         "speaker": null,
         "start": 459588,
         "text": "friend."
        },
        {
         "confidence": 0.99997,
         "end": 460126,
         "speaker": null,
         "start": 459940,
         "text": "Most"
        },
        {
         "confidence": 0.98,
         "end": 460286,
         "speaker": null,
         "start": 460148,
         "text": "of"
        },
        {
         "confidence": 0.99991,
         "end": 460446,
         "speaker": null,
         "start": 460308,
         "text": "them"
        },
        {
         "confidence": 0.94892,
         "end": 460654,
         "speaker": null,
         "start": 460468,
         "text": "are"
        },
        {
         "confidence": 0.99999,
         "end": 461038,
         "speaker": null,
         "start": 460692,
         "text": "completely"
        },
        {
         "confidence": 1,
         "end": 461470,
         "speaker": null,
         "start": 461124,
         "text": "free,"
        },
        {
         "confidence": 0.99996,
         "end": 461726,
         "speaker": null,
         "start": 461540,
         "text": "but"
        },
        {
         "confidence": 1,
         "end": 461886,
         "speaker": null,
         "start": 461748,
         "text": "I"
        },
        {
         "confidence": 0.99998,
         "end": 462046,
         "speaker": null,
         "start": 461908,
         "text": "have"
        },
        {
         "confidence": 0.99998,
         "end": 462254,
         "speaker": null,
         "start": 462068,
         "text": "also"
        },
        {
         "confidence": 0.99998,
         "end": 462618,
         "speaker": null,
         "start": 462292,
         "text": "included"
        },
        {
         "confidence": 0.98307,
         "end": 462814,
         "speaker": null,
         "start": 462634,
         "text": "my"
        },
        {
         "confidence": 0.99999,
         "end": 463146,
         "speaker": null,
         "start": 462852,
         "text": "discount"
        },
        {
         "confidence": 0.99994,
         "end": 463374,
         "speaker": null,
         "start": 463178,
         "text": "link"
        },
        {
         "confidence": 0.99996,
         "end": 463566,
         "speaker": null,
         "start": 463412,
         "text": "for"
        },
        {
         "confidence": 1,
         "end": 463678,
         "speaker": null,
         "start": 463588,
         "text": "the"
        },
        {
         "confidence": 0.81987,
         "end": 463902,
         "speaker": null,
         "start": 463684,
         "text": "course"
        },
        {
         "confidence": 0.99995,
         "end": 464126,
         "speaker": null,
         "start": 463956,
         "text": "on"
        },
        {
         "confidence": 1,
         "end": 464686,
         "speaker": null,
         "start": 464148,
         "text": "365"
        },
        {
         "confidence": 0.99999,
         "end": 464894,
         "speaker": null,
         "start": 464708,
         "text": "data"
        },
        {
         "confidence": 0.61142,
         "end": 465450,
         "speaker": null,
         "start": 464932,
         "text": "science."
        },
        {
         "confidence": 1,
         "end": 465774,
         "speaker": null,
         "start": 465530,
         "text": "So"
        },
        {
         "confidence": 0.99997,
         "end": 465966,
         "speaker": null,
         "start": 465812,
         "text": "if"
        },
        {
         "confidence": 0.79549,
         "end": 466126,
         "speaker": null,
         "start": 465988,
         "text": "you're"
        },
        {
         "confidence": 0.99998,
         "end": 466286,
         "speaker": null,
         "start": 466148,
         "text": "looking"
        },
        {
         "confidence": 0.99981,
         "end": 466446,
         "speaker": null,
         "start": 466308,
         "text": "for"
        },
        {
         "confidence": 1,
         "end": 466606,
         "speaker": null,
         "start": 466468,
         "text": "a"
        },
        {
         "confidence": 0.99997,
         "end": 466954,
         "speaker": null,
         "start": 466628,
         "text": "resource"
        },
        {
         "confidence": 0.97737,
         "end": 467166,
         "speaker": null,
         "start": 467002,
         "text": "just"
        },
        {
         "confidence": 1,
         "end": 467326,
         "speaker": null,
         "start": 467188,
         "text": "to"
        },
        {
         "confidence": 0.99999,
         "end": 467498,
         "speaker": null,
         "start": 467348,
         "text": "take"
        },
        {
         "confidence": 0.99998,
         "end": 467666,
         "speaker": null,
         "start": 467524,
         "text": "you"
        },
        {
         "confidence": 0.85,
         "end": 468018,
         "speaker": null,
         "start": 467688,
         "text": "past"
        },
        {
         "confidence": 0.99,
         "end": 468402,
         "speaker": null,
         "start": 468104,
         "text": "the"
        },
        {
         "confidence": 1,
         "end": 468626,
         "speaker": null,
         "start": 468456,
         "text": "more"
        },
        {
         "confidence": 0.99999,
         "end": 469006,
         "speaker": null,
         "start": 468648,
         "text": "basic"
        },
        {
         "confidence": 0.99995,
         "end": 469374,
         "speaker": null,
         "start": 469038,
         "text": "coding"
        },
        {
         "confidence": 1,
         "end": 469634,
         "speaker": null,
         "start": 469422,
         "text": "and"
        },
        {
         "confidence": 1,
         "end": 469826,
         "speaker": null,
         "start": 469672,
         "text": "more"
        },
        {
         "confidence": 1,
         "end": 470082,
         "speaker": null,
         "start": 469848,
         "text": "towards"
        },
        {
         "confidence": 0.99995,
         "end": 470526,
         "speaker": null,
         "start": 470136,
         "text": "tangible"
        },
        {
         "confidence": 0.99999,
         "end": 470754,
         "speaker": null,
         "start": 470558,
         "text": "data"
        },
        {
         "confidence": 0.99858,
         "end": 471038,
         "speaker": null,
         "start": 470792,
         "text": "science"
        },
        {
         "confidence": 0.98419,
         "end": 471406,
         "speaker": null,
         "start": 471054,
         "text": "skills,"
        },
        {
         "confidence": 1,
         "end": 471586,
         "speaker": null,
         "start": 471438,
         "text": "I"
        },
        {
         "confidence": 0.99997,
         "end": 471746,
         "speaker": null,
         "start": 471608,
         "text": "would"
        },
        {
         "confidence": 1,
         "end": 472050,
         "speaker": null,
         "start": 471768,
         "text": "recommend"
        },
        {
         "confidence": 0.96151,
         "end": 472366,
         "speaker": null,
         "start": 472120,
         "text": "checking"
        },
        {
         "confidence": 0.99997,
         "end": 472546,
         "speaker": null,
         "start": 472398,
         "text": "that"
        },
        {
         "confidence": 1,
         "end": 472802,
         "speaker": null,
         "start": 472568,
         "text": "out."
        },
        {
         "confidence": 1,
         "end": 473026,
         "speaker": null,
         "start": 472856,
         "text": "One"
        },
        {
         "confidence": 0.99994,
         "end": 473186,
         "speaker": null,
         "start": 473048,
         "text": "thing"
        },
        {
         "confidence": 0.99997,
         "end": 473346,
         "speaker": null,
         "start": 473208,
         "text": "that"
        },
        {
         "confidence": 1,
         "end": 473506,
         "speaker": null,
         "start": 473368,
         "text": "I"
        },
        {
         "confidence": 0.99999,
         "end": 473762,
         "speaker": null,
         "start": 473528,
         "text": "love"
        },
        {
         "confidence": 1,
         "end": 474034,
         "speaker": null,
         "start": 473816,
         "text": "about"
        },
        {
         "confidence": 0.99994,
         "end": 474226,
         "speaker": null,
         "start": 474072,
         "text": "many"
        },
        {
         "confidence": 0.75,
         "end": 474386,
         "speaker": null,
         "start": 474248,
         "text": "of"
        },
        {
         "confidence": 1,
         "end": 474498,
         "speaker": null,
         "start": 474408,
         "text": "the"
        },
        {
         "confidence": 0.99979,
         "end": 474846,
         "speaker": null,
         "start": 474504,
         "text": "courses"
        },
        {
         "confidence": 0.99988,
         "end": 474978,
         "speaker": null,
         "start": 474878,
         "text": "that"
        },
        {
         "confidence": 0.99992,
         "end": 475118,
         "speaker": null,
         "start": 474984,
         "text": "I've"
        },
        {
         "confidence": 0.64421,
         "end": 475630,
         "speaker": null,
         "start": 475134,
         "text": "linked"
        },
        {
         "confidence": 0.99999,
         "end": 475954,
         "speaker": null,
         "start": 475710,
         "text": "is"
        },
        {
         "confidence": 0.99998,
         "end": 476146,
         "speaker": null,
         "start": 475992,
         "text": "that"
        },
        {
         "confidence": 0.99996,
         "end": 476306,
         "speaker": null,
         "start": 476168,
         "text": "they"
        },
        {
         "confidence": 0.99961,
         "end": 476466,
         "speaker": null,
         "start": 476328,
         "text": "have"
        },
        {
         "confidence": 0.99999,
         "end": 476626,
         "speaker": null,
         "start": 476488,
         "text": "these"
        },
        {
         "confidence": 0.99998,
         "end": 476834,
         "speaker": null,
         "start": 476648,
         "text": "little"
        },
        {
         "confidence": 0.9974,
         "end": 477118,
         "speaker": null,
         "start": 476872,
         "text": "mini"
        },
        {
         "confidence": 0.99972,
         "end": 477578,
         "speaker": null,
         "start": 477134,
         "text": "projects"
        },
        {
         "confidence": 0.99972,
         "end": 477858,
         "speaker": null,
         "start": 477614,
         "text": "baked"
        },
        {
         "confidence": 0.99995,
         "end": 478054,
         "speaker": null,
         "start": 477874,
         "text": "into"
        },
        {
         "confidence": 1,
         "end": 478198,
         "speaker": null,
         "start": 478092,
         "text": "the"
        },
        {
         "confidence": 0.999,
         "end": 478738,
         "speaker": null,
         "start": 478204,
         "text": "coursework."
        },
        {
         "confidence": 1,
         "end": 479046,
         "speaker": null,
         "start": 478834,
         "text": "I"
        },
        {
         "confidence": 1,
         "end": 479254,
         "speaker": null,
         "start": 479068,
         "text": "think"
        },
        {
         "confidence": 0.99983,
         "end": 479542,
         "speaker": null,
         "start": 479292,
         "text": "project"
        },
        {
         "confidence": 0.99082,
         "end": 479814,
         "speaker": null,
         "start": 479596,
         "text": "based"
        },
        {
         "confidence": 0.99999,
         "end": 480102,
         "speaker": null,
         "start": 479852,
         "text": "learning"
        },
        {
         "confidence": 0.96978,
         "end": 480326,
         "speaker": null,
         "start": 480156,
         "text": "is"
        },
        {
         "confidence": 0.91,
         "end": 480534,
         "speaker": null,
         "start": 480348,
         "text": "the"
        },
        {
         "confidence": 0.9999,
         "end": 480822,
         "speaker": null,
         "start": 480572,
         "text": "single"
        },
        {
         "confidence": 0.99999,
         "end": 481094,
         "speaker": null,
         "start": 480876,
         "text": "most"
        },
        {
         "confidence": 0.99996,
         "end": 481554,
         "speaker": null,
         "start": 481132,
         "text": "effective"
        },
        {
         "confidence": 1,
         "end": 481862,
         "speaker": null,
         "start": 481602,
         "text": "way"
        },
        {
         "confidence": 1,
         "end": 482086,
         "speaker": null,
         "start": 481916,
         "text": "to"
        },
        {
         "confidence": 1,
         "end": 482294,
         "speaker": null,
         "start": 482108,
         "text": "learn"
        },
        {
         "confidence": 0.98654,
         "end": 482722,
         "speaker": null,
         "start": 482332,
         "text": "technical"
        },
        {
         "confidence": 0.96315,
         "end": 483378,
         "speaker": null,
         "start": 482786,
         "text": "concepts."
        },
        {
         "confidence": 0.99996,
         "end": 483782,
         "speaker": null,
         "start": 483474,
         "text": "After"
        },
        {
         "confidence": 1,
         "end": 484150,
         "speaker": null,
         "start": 483836,
         "text": "first"
        },
        {
         "confidence": 0.99996,
         "end": 484550,
         "speaker": null,
         "start": 484220,
         "text": "getting"
        },
        {
         "confidence": 1,
         "end": 484854,
         "speaker": null,
         "start": 484620,
         "text": "a"
        },
        {
         "confidence": 0.99966,
         "end": 485314,
         "speaker": null,
         "start": 484892,
         "text": "basic"
        },
        {
         "confidence": 0.99997,
         "end": 486082,
         "speaker": null,
         "start": 485362,
         "text": "foundation,"
        },
        {
         "confidence": 1,
         "end": 486534,
         "speaker": null,
         "start": 486226,
         "text": "I"
        },
        {
         "confidence": 0.99995,
         "end": 486866,
         "speaker": null,
         "start": 486572,
         "text": "highly"
        },
        {
         "confidence": 0.99999,
         "end": 487266,
         "speaker": null,
         "start": 486898,
         "text": "encourage"
        },
        {
         "confidence": 0.99999,
         "end": 487446,
         "speaker": null,
         "start": 487298,
         "text": "you"
        },
        {
         "confidence": 1,
         "end": 487558,
         "speaker": null,
         "start": 487468,
         "text": "to"
        },
        {
         "confidence": 0.99995,
         "end": 487734,
         "speaker": null,
         "start": 487564,
         "text": "think"
        },
        {
         "confidence": 1,
         "end": 488166,
         "speaker": null,
         "start": 487772,
         "text": "about"
        },
        {
         "confidence": 0.99997,
         "end": 488534,
         "speaker": null,
         "start": 488268,
         "text": "how"
        },
        {
         "confidence": 0.99994,
         "end": 488678,
         "speaker": null,
         "start": 488572,
         "text": "you"
        },
        {
         "confidence": 1,
         "end": 488806,
         "speaker": null,
         "start": 488684,
         "text": "can"
        },
        {
         "confidence": 0.99996,
         "end": 489062,
         "speaker": null,
         "start": 488828,
         "text": "use"
        },
        {
         "confidence": 0.99999,
         "end": 489334,
         "speaker": null,
         "start": 489116,
         "text": "code"
        },
        {
         "confidence": 1,
         "end": 489526,
         "speaker": null,
         "start": 489372,
         "text": "to"
        },
        {
         "confidence": 0.99999,
         "end": 489734,
         "speaker": null,
         "start": 489548,
         "text": "build"
        },
        {
         "confidence": 1,
         "end": 490118,
         "speaker": null,
         "start": 489772,
         "text": "things"
        },
        {
         "confidence": 0.99984,
         "end": 490454,
         "speaker": null,
         "start": 490204,
         "text": "that"
        },
        {
         "confidence": 0.99974,
         "end": 490646,
         "speaker": null,
         "start": 490492,
         "text": "would"
        },
        {
         "confidence": 0.99996,
         "end": 490806,
         "speaker": null,
         "start": 490668,
         "text": "be"
        },
        {
         "confidence": 0.99999,
         "end": 491198,
         "speaker": null,
         "start": 490828,
         "text": "useful"
        },
        {
         "confidence": 0.93,
         "end": 491434,
         "speaker": null,
         "start": 491234,
         "text": "to"
        },
        {
         "confidence": 0.99944,
         "end": 491770,
         "speaker": null,
         "start": 491472,
         "text": "you."
        },
        {
         "confidence": 1,
         "end": 492026,
         "speaker": null,
         "start": 491840,
         "text": "So"
        },
        {
         "confidence": 0.99838,
         "end": 492234,
         "speaker": null,
         "start": 492048,
         "text": "for"
        },
        {
         "confidence": 0.99992,
         "end": 492426,
         "speaker": null,
         "start": 492272,
         "text": "my"
        },
        {
         "confidence": 0.99979,
         "end": 492682,
         "speaker": null,
         "start": 492448,
         "text": "friend,"
        },
        {
         "confidence": 1,
         "end": 492906,
         "speaker": null,
         "start": 492736,
         "text": "the"
        },
        {
         "confidence": 1,
         "end": 493066,
         "speaker": null,
         "start": 492928,
         "text": "first"
        },
        {
         "confidence": 0.99926,
         "end": 493370,
         "speaker": null,
         "start": 493088,
         "text": "project"
        },
        {
         "confidence": 0.99937,
         "end": 493638,
         "speaker": null,
         "start": 493440,
         "text": "I'm"
        },
        {
         "confidence": 0.99984,
         "end": 493834,
         "speaker": null,
         "start": 493654,
         "text": "having"
        },
        {
         "confidence": 0.98705,
         "end": 494026,
         "speaker": null,
         "start": 493872,
         "text": "him"
        },
        {
         "confidence": 0.99997,
         "end": 494378,
         "speaker": null,
         "start": 494048,
         "text": "do"
        },
        {
         "confidence": 0.99995,
         "end": 494714,
         "speaker": null,
         "start": 494464,
         "text": "is"
        },
        {
         "confidence": 0.99993,
         "end": 495002,
         "speaker": null,
         "start": 494752,
         "text": "create"
        },
        {
         "confidence": 1,
         "end": 495178,
         "speaker": null,
         "start": 495056,
         "text": "a"
        },
        {
         "confidence": 0.68207,
         "end": 495686,
         "speaker": null,
         "start": 495184,
         "text": "jujitsu"
        },
        {
         "confidence": 0.56204,
         "end": 495974,
         "speaker": null,
         "start": 495718,
         "text": "drill"
        },
        {
         "confidence": 0.99965,
         "end": 496646,
         "speaker": null,
         "start": 496022,
         "text": "randomizer"
        },
        {
         "confidence": 1,
         "end": 496874,
         "speaker": null,
         "start": 496678,
         "text": "using"
        },
        {
         "confidence": 0.41009,
         "end": 497558,
         "speaker": null,
         "start": 496912,
         "text": "python."
        },
        {
         "confidence": 1,
         "end": 497866,
         "speaker": null,
         "start": 497654,
         "text": "So"
        },
        {
         "confidence": 0.99936,
         "end": 498026,
         "speaker": null,
         "start": 497888,
         "text": "for"
        },
        {
         "confidence": 0.9993,
         "end": 498282,
         "speaker": null,
         "start": 498048,
         "text": "training"
        },
        {
         "confidence": 0.99994,
         "end": 498650,
         "speaker": null,
         "start": 498336,
         "text": "anything,"
        },
        {
         "confidence": 0.99954,
         "end": 498966,
         "speaker": null,
         "start": 498720,
         "text": "it's"
        },
        {
         "confidence": 0.99998,
         "end": 499194,
         "speaker": null,
         "start": 498998,
         "text": "important"
        },
        {
         "confidence": 1,
         "end": 499338,
         "speaker": null,
         "start": 499232,
         "text": "to"
        },
        {
         "confidence": 0.98807,
         "end": 499798,
         "speaker": null,
         "start": 499344,
         "text": "reinforce"
        },
        {
         "confidence": 0.92507,
         "end": 499946,
         "speaker": null,
         "start": 499814,
         "text": "your"
        },
        {
         "confidence": 0.99725,
         "end": 500422,
         "speaker": null,
         "start": 499968,
         "text": "skills,"
        },
        {
         "confidence": 0.99804,
         "end": 500714,
         "speaker": null,
         "start": 500486,
         "text": "but"
        },
        {
         "confidence": 0.99995,
         "end": 500858,
         "speaker": null,
         "start": 500752,
         "text": "it"
        },
        {
         "confidence": 1,
         "end": 500986,
         "speaker": null,
         "start": 500864,
         "text": "can"
        },
        {
         "confidence": 0.99999,
         "end": 501146,
         "speaker": null,
         "start": 501008,
         "text": "get"
        },
        {
         "confidence": 0.99982,
         "end": 501574,
         "speaker": null,
         "start": 501168,
         "text": "boring."
        },
        {
         "confidence": 0.99994,
         "end": 501834,
         "speaker": null,
         "start": 501622,
         "text": "Working"
        },
        {
         "confidence": 0.99993,
         "end": 502074,
         "speaker": null,
         "start": 501872,
         "text": "on"
        },
        {
         "confidence": 1,
         "end": 502266,
         "speaker": null,
         "start": 502112,
         "text": "the"
        },
        {
         "confidence": 0.99999,
         "end": 502474,
         "speaker": null,
         "start": 502288,
         "text": "same"
        },
        {
         "confidence": 0.99999,
         "end": 502806,
         "speaker": null,
         "start": 502512,
         "text": "basic"
        },
        {
         "confidence": 0.92624,
         "end": 503158,
         "speaker": null,
         "start": 502838,
         "text": "drills"
        },
        {
         "confidence": 0.8459,
         "end": 503354,
         "speaker": null,
         "start": 503174,
         "text": "every"
        },
        {
         "confidence": 0.99857,
         "end": 503642,
         "speaker": null,
         "start": 503392,
         "text": "day."
        },
        {
         "confidence": 0.99964,
         "end": 503878,
         "speaker": null,
         "start": 503696,
         "text": "I'm"
        },
        {
         "confidence": 0.9999,
         "end": 504074,
         "speaker": null,
         "start": 503894,
         "text": "having"
        },
        {
         "confidence": 0.99485,
         "end": 504218,
         "speaker": null,
         "start": 504112,
         "text": "him"
        },
        {
         "confidence": 0.99919,
         "end": 504394,
         "speaker": null,
         "start": 504224,
         "text": "make"
        },
        {
         "confidence": 1,
         "end": 504550,
         "speaker": null,
         "start": 504432,
         "text": "a"
        },
        {
         "confidence": 0.99993,
         "end": 504926,
         "speaker": null,
         "start": 504560,
         "text": "program"
        },
        {
         "confidence": 0.99901,
         "end": 505246,
         "speaker": null,
         "start": 505028,
         "text": "that"
        },
        {
         "confidence": 0.9867,
         "end": 505690,
         "speaker": null,
         "start": 505268,
         "text": "essentially"
        },
        {
         "confidence": 0.99975,
         "end": 506266,
         "speaker": null,
         "start": 505770,
         "text": "randomly"
        },
        {
         "confidence": 0.97733,
         "end": 506666,
         "speaker": null,
         "start": 506298,
         "text": "selects"
        },
        {
         "confidence": 1,
         "end": 506846,
         "speaker": null,
         "start": 506698,
         "text": "two"
        },
        {
         "confidence": 0.91,
         "end": 507006,
         "speaker": null,
         "start": 506868,
         "text": "to"
        },
        {
         "confidence": 1,
         "end": 507214,
         "speaker": null,
         "start": 507028,
         "text": "three"
        },
        {
         "confidence": 0.97089,
         "end": 507722,
         "speaker": null,
         "start": 507252,
         "text": "drills"
        },
        {
         "confidence": 0.99924,
         "end": 507966,
         "speaker": null,
         "start": 507786,
         "text": "that"
        },
        {
         "confidence": 0.99997,
         "end": 508126,
         "speaker": null,
         "start": 507988,
         "text": "we"
        },
        {
         "confidence": 0.99995,
         "end": 508286,
         "speaker": null,
         "start": 508148,
         "text": "should"
        },
        {
         "confidence": 1,
         "end": 508446,
         "speaker": null,
         "start": 508308,
         "text": "work"
        },
        {
         "confidence": 0.99997,
         "end": 508606,
         "speaker": null,
         "start": 508468,
         "text": "on"
        },
        {
         "confidence": 0.99999,
         "end": 508814,
         "speaker": null,
         "start": 508628,
         "text": "during"
        },
        {
         "confidence": 0.99997,
         "end": 509006,
         "speaker": null,
         "start": 508852,
         "text": "our"
        },
        {
         "confidence": 0.99825,
         "end": 509402,
         "speaker": null,
         "start": 509028,
         "text": "sessions"
        },
        {
         "confidence": 0.99991,
         "end": 509694,
         "speaker": null,
         "start": 509466,
         "text": "from"
        },
        {
         "confidence": 1,
         "end": 509886,
         "speaker": null,
         "start": 509732,
         "text": "a"
        },
        {
         "confidence": 0.99629,
         "end": 510234,
         "speaker": null,
         "start": 509908,
         "text": "larger"
        },
        {
         "confidence": 0.99997,
         "end": 510638,
         "speaker": null,
         "start": 510282,
         "text": "list."
        },
        {
         "confidence": 0.99983,
         "end": 510926,
         "speaker": null,
         "start": 510724,
         "text": "This"
        },
        {
         "confidence": 0.99993,
         "end": 511038,
         "speaker": null,
         "start": 510948,
         "text": "is"
        },
        {
         "confidence": 0.5,
         "end": 511166,
         "speaker": null,
         "start": 511044,
         "text": "a"
        },
        {
         "confidence": 0.99989,
         "end": 511422,
         "speaker": null,
         "start": 511188,
         "text": "simple"
        },
        {
         "confidence": 0.99995,
         "end": 511742,
         "speaker": null,
         "start": 511476,
         "text": "project,"
        },
        {
         "confidence": 0.99998,
         "end": 511966,
         "speaker": null,
         "start": 511796,
         "text": "but"
        },
        {
         "confidence": 0.99888,
         "end": 512138,
         "speaker": null,
         "start": 511988,
         "text": "it's"
        },
        {
         "confidence": 0.99997,
         "end": 512334,
         "speaker": null,
         "start": 512154,
         "text": "something"
        },
        {
         "confidence": 0.99683,
         "end": 512586,
         "speaker": null,
         "start": 512372,
         "text": "that's"
        },
        {
         "confidence": 0.99978,
         "end": 512986,
         "speaker": null,
         "start": 512618,
         "text": "directly"
        },
        {
         "confidence": 0.99808,
         "end": 513386,
         "speaker": null,
         "start": 513018,
         "text": "relevant"
        },
        {
         "confidence": 1,
         "end": 513614,
         "speaker": null,
         "start": 513418,
         "text": "and"
        },
        {
         "confidence": 0.99999,
         "end": 513946,
         "speaker": null,
         "start": 513652,
         "text": "useful"
        },
        {
         "confidence": 0.99,
         "end": 514126,
         "speaker": null,
         "start": 513978,
         "text": "to"
        },
        {
         "confidence": 0.99974,
         "end": 514334,
         "speaker": null,
         "start": 514148,
         "text": "our"
        },
        {
         "confidence": 1,
         "end": 514526,
         "speaker": null,
         "start": 514372,
         "text": "work"
        },
        {
         "confidence": 1,
         "end": 514686,
         "speaker": null,
         "start": 514548,
         "text": "and"
        },
        {
         "confidence": 0.99994,
         "end": 514798,
         "speaker": null,
         "start": 514708,
         "text": "our"
        },
        {
         "confidence": 0.8321,
         "end": 515338,
         "speaker": null,
         "start": 514804,
         "text": "jujitsu"
        },
        {
         "confidence": 0.99997,
         "end": 515630,
         "speaker": null,
         "start": 515354,
         "text": "training."
        },
        {
         "confidence": 0.99983,
         "end": 515886,
         "speaker": null,
         "start": 515700,
         "text": "With"
        },
        {
         "confidence": 0.99981,
         "end": 516046,
         "speaker": null,
         "start": 515908,
         "text": "that"
        },
        {
         "confidence": 0.99997,
         "end": 516158,
         "speaker": null,
         "start": 516068,
         "text": "in"
        },
        {
         "confidence": 0.99981,
         "end": 516382,
         "speaker": null,
         "start": 516164,
         "text": "mind,"
        },
        {
         "confidence": 0.75095,
         "end": 516666,
         "speaker": null,
         "start": 516436,
         "text": "I'd"
        },
        {
         "confidence": 0.99995,
         "end": 516846,
         "speaker": null,
         "start": 516698,
         "text": "love"
        },
        {
         "confidence": 0.99995,
         "end": 516958,
         "speaker": null,
         "start": 516868,
         "text": "for"
        },
        {
         "confidence": 0.99977,
         "end": 517086,
         "speaker": null,
         "start": 516964,
         "text": "you"
        },
        {
         "confidence": 1,
         "end": 517210,
         "speaker": null,
         "start": 517108,
         "text": "to"
        },
        {
         "confidence": 0.99991,
         "end": 517486,
         "speaker": null,
         "start": 517220,
         "text": "comment"
        },
        {
         "confidence": 0.99993,
         "end": 517714,
         "speaker": null,
         "start": 517518,
         "text": "below"
        },
        {
         "confidence": 0.99992,
         "end": 517906,
         "speaker": null,
         "start": 517752,
         "text": "with"
        },
        {
         "confidence": 1,
         "end": 518018,
         "speaker": null,
         "start": 517928,
         "text": "a"
        },
        {
         "confidence": 0.86633,
         "end": 518414,
         "speaker": null,
         "start": 518024,
         "text": "Python"
        },
        {
         "confidence": 0.99995,
         "end": 518818,
         "speaker": null,
         "start": 518462,
         "text": "project"
        },
        {
         "confidence": 0.99812,
         "end": 519106,
         "speaker": null,
         "start": 518904,
         "text": "that"
        },
        {
         "confidence": 0.69177,
         "end": 519374,
         "speaker": null,
         "start": 519128,
         "text": "you'd"
        },
        {
         "confidence": 1,
         "end": 519586,
         "speaker": null,
         "start": 519422,
         "text": "like"
        },
        {
         "confidence": 1,
         "end": 519746,
         "speaker": null,
         "start": 519608,
         "text": "to"
        },
        {
         "confidence": 0.99997,
         "end": 520050,
         "speaker": null,
         "start": 519768,
         "text": "do,"
        },
        {
         "confidence": 1,
         "end": 520306,
         "speaker": null,
         "start": 520120,
         "text": "and"
        },
        {
         "confidence": 0.4187,
         "end": 520526,
         "speaker": null,
         "start": 520328,
         "text": "we'll"
        },
        {
         "confidence": 1,
         "end": 520706,
         "speaker": null,
         "start": 520558,
         "text": "all"
        },
        {
         "confidence": 0.99999,
         "end": 520914,
         "speaker": null,
         "start": 520728,
         "text": "hold"
        },
        {
         "confidence": 1,
         "end": 521058,
         "speaker": null,
         "start": 520952,
         "text": "each"
        },
        {
         "confidence": 0.99987,
         "end": 521234,
         "speaker": null,
         "start": 521064,
         "text": "other"
        },
        {
         "confidence": 0.98201,
         "end": 521886,
         "speaker": null,
         "start": 521272,
         "text": "accountable."
        },
        {
         "confidence": 0.91793,
         "end": 522370,
         "speaker": null,
         "start": 521998,
         "text": "Okay,"
        },
        {
         "confidence": 0.86,
         "end": 522674,
         "speaker": null,
         "start": 522440,
         "text": "so"
        },
        {
         "confidence": 1,
         "end": 522866,
         "speaker": null,
         "start": 522712,
         "text": "now"
        },
        {
         "confidence": 0.99994,
         "end": 523026,
         "speaker": null,
         "start": 522888,
         "text": "that"
        },
        {
         "confidence": 0.99985,
         "end": 523198,
         "speaker": null,
         "start": 523048,
         "text": "you've"
        },
        {
         "confidence": 0.99929,
         "end": 523358,
         "speaker": null,
         "start": 523214,
         "text": "learned"
        },
        {
         "confidence": 1,
         "end": 523458,
         "speaker": null,
         "start": 523374,
         "text": "the"
        },
        {
         "confidence": 0.99999,
         "end": 523726,
         "speaker": null,
         "start": 523464,
         "text": "basics"
        },
        {
         "confidence": 1,
         "end": 523906,
         "speaker": null,
         "start": 523758,
         "text": "of"
        },
        {
         "confidence": 0.99992,
         "end": 524382,
         "speaker": null,
         "start": 523928,
         "text": "Python,"
        },
        {
         "confidence": 1,
         "end": 524674,
         "speaker": null,
         "start": 524446,
         "text": "now"
        },
        {
         "confidence": 0.99969,
         "end": 525154,
         "speaker": null,
         "start": 524712,
         "text": "what?"
        },
        {
         "confidence": 0.99996,
         "end": 525506,
         "speaker": null,
         "start": 525272,
         "text": "If"
        },
        {
         "confidence": 0.99906,
         "end": 525726,
         "speaker": null,
         "start": 525528,
         "text": "you're"
        },
        {
         "confidence": 1,
         "end": 526050,
         "speaker": null,
         "start": 525758,
         "text": "interested"
        },
        {
         "confidence": 0.99985,
         "end": 526306,
         "speaker": null,
         "start": 526120,
         "text": "in"
        },
        {
         "confidence": 0.99983,
         "end": 526514,
         "speaker": null,
         "start": 526328,
         "text": "learning"
        },
        {
         "confidence": 1,
         "end": 526706,
         "speaker": null,
         "start": 526552,
         "text": "more"
        },
        {
         "confidence": 1,
         "end": 526914,
         "speaker": null,
         "start": 526728,
         "text": "about"
        },
        {
         "confidence": 0.99985,
         "end": 527298,
         "speaker": null,
         "start": 526952,
         "text": "data,"
        },
        {
         "confidence": 1,
         "end": 527634,
         "speaker": null,
         "start": 527384,
         "text": "I"
        },
        {
         "confidence": 0.99457,
         "end": 528014,
         "speaker": null,
         "start": 527672,
         "text": "highly"
        },
        {
         "confidence": 1,
         "end": 528418,
         "speaker": null,
         "start": 528062,
         "text": "recommend"
        },
        {
         "confidence": 0.99944,
         "end": 528706,
         "speaker": null,
         "start": 528504,
         "text": "that"
        },
        {
         "confidence": 0.99995,
         "end": 528818,
         "speaker": null,
         "start": 528728,
         "text": "you"
        },
        {
         "confidence": 0.99991,
         "end": 528994,
         "speaker": null,
         "start": 528824,
         "text": "do"
        },
        {
         "confidence": 0.98,
         "end": 529138,
         "speaker": null,
         "start": 529032,
         "text": "a"
        },
        {
         "confidence": 0.99259,
         "end": 529362,
         "speaker": null,
         "start": 529144,
         "text": "data"
        },
        {
         "confidence": 0.97643,
         "end": 529786,
         "speaker": null,
         "start": 529416,
         "text": "related"
        },
        {
         "confidence": 0.99985,
         "end": 530390,
         "speaker": null,
         "start": 529838,
         "text": "project."
        },
        {
         "confidence": 1,
         "end": 530806,
         "speaker": null,
         "start": 530540,
         "text": "The"
        },
        {
         "confidence": 0.99995,
         "end": 531062,
         "speaker": null,
         "start": 530828,
         "text": "single"
        },
        {
         "confidence": 0.99999,
         "end": 531334,
         "speaker": null,
         "start": 531116,
         "text": "best"
        },
        {
         "confidence": 0.99988,
         "end": 531574,
         "speaker": null,
         "start": 531372,
         "text": "place"
        },
        {
         "confidence": 0.99995,
         "end": 531718,
         "speaker": null,
         "start": 531612,
         "text": "for"
        },
        {
         "confidence": 0.99995,
         "end": 531894,
         "speaker": null,
         "start": 531724,
         "text": "this"
        },
        {
         "confidence": 0.99995,
         "end": 532134,
         "speaker": null,
         "start": 531932,
         "text": "is"
        },
        {
         "confidence": 0.99,
         "end": 532902,
         "speaker": null,
         "start": 532172,
         "text": "kaggle.com,"
        },
        {
         "confidence": 0.99913,
         "end": 533126,
         "speaker": null,
         "start": 532956,
         "text": "which"
        },
        {
         "confidence": 0.99562,
         "end": 533346,
         "speaker": null,
         "start": 533148,
         "text": "I've"
        },
        {
         "confidence": 0.99991,
         "end": 533574,
         "speaker": null,
         "start": 533378,
         "text": "mentioned"
        },
        {
         "confidence": 0.99973,
         "end": 534198,
         "speaker": null,
         "start": 533612,
         "text": "before."
        },
        {
         "confidence": 0.99977,
         "end": 534646,
         "speaker": null,
         "start": 534364,
         "text": "If"
        },
        {
         "confidence": 0.99982,
         "end": 534898,
         "speaker": null,
         "start": 534668,
         "text": "that's"
        },
        {
         "confidence": 1,
         "end": 534998,
         "speaker": null,
         "start": 534914,
         "text": "a"
        },
        {
         "confidence": 0.99998,
         "end": 535126,
         "speaker": null,
         "start": 535004,
         "text": "bit"
        },
        {
         "confidence": 0.99981,
         "end": 535286,
         "speaker": null,
         "start": 535148,
         "text": "too"
        },
        {
         "confidence": 0.99174,
         "end": 535842,
         "speaker": null,
         "start": 535308,
         "text": "intimidating,"
        },
        {
         "confidence": 0.99979,
         "end": 536086,
         "speaker": null,
         "start": 535906,
         "text": "you"
        },
        {
         "confidence": 1,
         "end": 536246,
         "speaker": null,
         "start": 536108,
         "text": "can"
        },
        {
         "confidence": 0.99998,
         "end": 536502,
         "speaker": null,
         "start": 536268,
         "text": "follow"
        },
        {
         "confidence": 0.99996,
         "end": 536774,
         "speaker": null,
         "start": 536556,
         "text": "along"
        },
        {
         "confidence": 0.99494,
         "end": 536966,
         "speaker": null,
         "start": 536812,
         "text": "on"
        },
        {
         "confidence": 1,
         "end": 537078,
         "speaker": null,
         "start": 536988,
         "text": "one"
        },
        {
         "confidence": 1,
         "end": 537158,
         "speaker": null,
         "start": 537084,
         "text": "of"
        },
        {
         "confidence": 1,
         "end": 537238,
         "speaker": null,
         "start": 537164,
         "text": "the"
        },
        {
         "confidence": 0.9999,
         "end": 537538,
         "speaker": null,
         "start": 537244,
         "text": "projects"
        },
        {
         "confidence": 0.99845,
         "end": 537686,
         "speaker": null,
         "start": 537554,
         "text": "that"
        },
        {
         "confidence": 0.58569,
         "end": 537986,
         "speaker": null,
         "start": 537708,
         "text": "I've"
        },
        {
         "confidence": 0.99997,
         "end": 538262,
         "speaker": null,
         "start": 538018,
         "text": "done,"
        },
        {
         "confidence": 0.99986,
         "end": 538486,
         "speaker": null,
         "start": 538316,
         "text": "or"
        },
        {
         "confidence": 1,
         "end": 538646,
         "speaker": null,
         "start": 538508,
         "text": "one"
        },
        {
         "confidence": 1,
         "end": 538758,
         "speaker": null,
         "start": 538668,
         "text": "of"
        },
        {
         "confidence": 1,
         "end": 538886,
         "speaker": null,
         "start": 538764,
         "text": "the"
        },
        {
         "confidence": 0.99352,
         "end": 539266,
         "speaker": null,
         "start": 538908,
         "text": "thousands"
        },
        {
         "confidence": 1,
         "end": 539446,
         "speaker": null,
         "start": 539298,
         "text": "of"
        },
        {
         "confidence": 0.99995,
         "end": 539778,
         "speaker": null,
         "start": 539468,
         "text": "projects"
        },
        {
         "confidence": 0.95914,
         "end": 539974,
         "speaker": null,
         "start": 539794,
         "text": "that"
        },
        {
         "confidence": 0.99994,
         "end": 540214,
         "speaker": null,
         "start": 540012,
         "text": "other"
        },
        {
         "confidence": 0.99998,
         "end": 540454,
         "speaker": null,
         "start": 540252,
         "text": "people"
        },
        {
         "confidence": 0.99993,
         "end": 540646,
         "speaker": null,
         "start": 540492,
         "text": "have"
        },
        {
         "confidence": 0.99994,
         "end": 540854,
         "speaker": null,
         "start": 540668,
         "text": "worked"
        },
        {
         "confidence": 0.99994,
         "end": 541046,
         "speaker": null,
         "start": 540892,
         "text": "on"
        },
        {
         "confidence": 0.99925,
         "end": 541158,
         "speaker": null,
         "start": 541068,
         "text": "on"
        },
        {
         "confidence": 0.66,
         "end": 541250,
         "speaker": null,
         "start": 541164,
         "text": "the"
        },
        {
         "confidence": 0.95,
         "end": 541606,
         "speaker": null,
         "start": 541260,
         "text": "Kaggle"
        },
        {
         "confidence": 0.99998,
         "end": 542074,
         "speaker": null,
         "start": 541638,
         "text": "platform."
        },
        {
         "confidence": 0.99987,
         "end": 542998,
         "speaker": null,
         "start": 542192,
         "text": "Realistically,"
        },
        {
         "confidence": 0.99999,
         "end": 543402,
         "speaker": null,
         "start": 543094,
         "text": "many"
        },
        {
         "confidence": 0.99996,
         "end": 543674,
         "speaker": null,
         "start": 543456,
         "text": "people"
        },
        {
         "confidence": 0.99632,
         "end": 543926,
         "speaker": null,
         "start": 543712,
         "text": "lose"
        },
        {
         "confidence": 0.48522,
         "end": 544294,
         "speaker": null,
         "start": 543958,
         "text": "steam"
        },
        {
         "confidence": 1,
         "end": 544506,
         "speaker": null,
         "start": 544342,
         "text": "at"
        },
        {
         "confidence": 0.99997,
         "end": 544714,
         "speaker": null,
         "start": 544528,
         "text": "this"
        },
        {
         "confidence": 0.9997,
         "end": 545194,
         "speaker": null,
         "start": 544752,
         "text": "step."
        },
        {
         "confidence": 0.99984,
         "end": 545546,
         "speaker": null,
         "start": 545312,
         "text": "They"
        },
        {
         "confidence": 0.99997,
         "end": 545706,
         "speaker": null,
         "start": 545568,
         "text": "go"
        },
        {
         "confidence": 0.80559,
         "end": 545914,
         "speaker": null,
         "start": 545728,
         "text": "through"
        },
        {
         "confidence": 1,
         "end": 546106,
         "speaker": null,
         "start": 545952,
         "text": "and"
        },
        {
         "confidence": 0.99996,
         "end": 546266,
         "speaker": null,
         "start": 546128,
         "text": "see"
        },
        {
         "confidence": 1,
         "end": 546378,
         "speaker": null,
         "start": 546288,
         "text": "the"
        },
        {
         "confidence": 0.9998,
         "end": 546554,
         "speaker": null,
         "start": 546384,
         "text": "great"
        },
        {
         "confidence": 1,
         "end": 546794,
         "speaker": null,
         "start": 546592,
         "text": "work"
        },
        {
         "confidence": 0.99993,
         "end": 546986,
         "speaker": null,
         "start": 546832,
         "text": "that"
        },
        {
         "confidence": 0.99993,
         "end": 547146,
         "speaker": null,
         "start": 547008,
         "text": "other"
        },
        {
         "confidence": 0.91849,
         "end": 547354,
         "speaker": null,
         "start": 547168,
         "text": "people"
        },
        {
         "confidence": 0.99159,
         "end": 547546,
         "speaker": null,
         "start": 547392,
         "text": "have"
        },
        {
         "confidence": 0.99991,
         "end": 547802,
         "speaker": null,
         "start": 547568,
         "text": "done,"
        },
        {
         "confidence": 1,
         "end": 548026,
         "speaker": null,
         "start": 547856,
         "text": "and"
        },
        {
         "confidence": 0.9998,
         "end": 548138,
         "speaker": null,
         "start": 548048,
         "text": "they"
        },
        {
         "confidence": 0.99991,
         "end": 548266,
         "speaker": null,
         "start": 548144,
         "text": "get"
        },
        {
         "confidence": 0.9288,
         "end": 548822,
         "speaker": null,
         "start": 548288,
         "text": "discouraged"
        },
        {
         "confidence": 0.99901,
         "end": 549162,
         "speaker": null,
         "start": 548886,
         "text": "again."
        },
        {
         "confidence": 0.99992,
         "end": 549606,
         "speaker": null,
         "start": 549216,
         "text": "Honestly,"
        },
        {
         "confidence": 1,
         "end": 549834,
         "speaker": null,
         "start": 549638,
         "text": "I"
        },
        {
         "confidence": 0.99994,
         "end": 550122,
         "speaker": null,
         "start": 549872,
         "text": "remember"
        },
        {
         "confidence": 0.99994,
         "end": 550438,
         "speaker": null,
         "start": 550176,
         "text": "feeling"
        },
        {
         "confidence": 0.99995,
         "end": 550634,
         "speaker": null,
         "start": 550454,
         "text": "this"
        },
        {
         "confidence": 0.99949,
         "end": 550922,
         "speaker": null,
         "start": 550672,
         "text": "too."
        },
        {
         "confidence": 0.99993,
         "end": 551098,
         "speaker": null,
         "start": 550976,
         "text": "What"
        },
        {
         "confidence": 0.64,
         "end": 551226,
         "speaker": null,
         "start": 551104,
         "text": "I"
        },
        {
         "confidence": 0.99998,
         "end": 551578,
         "speaker": null,
         "start": 551248,
         "text": "recommend"
        },
        {
         "confidence": 0.99989,
         "end": 551962,
         "speaker": null,
         "start": 551664,
         "text": "doing"
        },
        {
         "confidence": 0.99995,
         "end": 552234,
         "speaker": null,
         "start": 552016,
         "text": "is"
        },
        {
         "confidence": 0.99997,
         "end": 552426,
         "speaker": null,
         "start": 552272,
         "text": "going"
        },
        {
         "confidence": 0.99998,
         "end": 552634,
         "speaker": null,
         "start": 552448,
         "text": "through"
        },
        {
         "confidence": 0.99983,
         "end": 552778,
         "speaker": null,
         "start": 552672,
         "text": "some"
        },
        {
         "confidence": 0.99,
         "end": 552858,
         "speaker": null,
         "start": 552784,
         "text": "of"
        },
        {
         "confidence": 1,
         "end": 552986,
         "speaker": null,
         "start": 552864,
         "text": "the"
        },
        {
         "confidence": 0.99997,
         "end": 553286,
         "speaker": null,
         "start": 553008,
         "text": "basic"
        },
        {
         "confidence": 0.98899,
         "end": 553778,
         "speaker": null,
         "start": 553318,
         "text": "notebooks,"
        },
        {
         "confidence": 1,
         "end": 554014,
         "speaker": null,
         "start": 553814,
         "text": "like"
        },
        {
         "confidence": 1,
         "end": 554158,
         "speaker": null,
         "start": 554052,
         "text": "the"
        },
        {
         "confidence": 0.99979,
         "end": 554586,
         "speaker": null,
         "start": 554164,
         "text": "Titanic"
        },
        {
         "confidence": 0.99998,
         "end": 554814,
         "speaker": null,
         "start": 554618,
         "text": "data"
        },
        {
         "confidence": 0.97649,
         "end": 555150,
         "speaker": null,
         "start": 554852,
         "text": "set,"
        },
        {
         "confidence": 1,
         "end": 555454,
         "speaker": null,
         "start": 555220,
         "text": "and"
        },
        {
         "confidence": 0.99992,
         "end": 555694,
         "speaker": null,
         "start": 555492,
         "text": "just"
        },
        {
         "confidence": 0.99991,
         "end": 556106,
         "speaker": null,
         "start": 555732,
         "text": "copying"
        },
        {
         "confidence": 1,
         "end": 556286,
         "speaker": null,
         "start": 556138,
         "text": "the"
        },
        {
         "confidence": 0.99999,
         "end": 556686,
         "speaker": null,
         "start": 556308,
         "text": "code,"
        },
        {
         "confidence": 0.78252,
         "end": 557102,
         "speaker": null,
         "start": 556788,
         "text": "running"
        },
        {
         "confidence": 0.99987,
         "end": 557326,
         "speaker": null,
         "start": 557156,
         "text": "it"
        },
        {
         "confidence": 0.99994,
         "end": 557486,
         "speaker": null,
         "start": 557348,
         "text": "on"
        },
        {
         "confidence": 0.99998,
         "end": 557598,
         "speaker": null,
         "start": 557508,
         "text": "your"
        },
        {
         "confidence": 0.99993,
         "end": 557726,
         "speaker": null,
         "start": 557604,
         "text": "own"
        },
        {
         "confidence": 1,
         "end": 558174,
         "speaker": null,
         "start": 557748,
         "text": "computer"
        },
        {
         "confidence": 1,
         "end": 558574,
         "speaker": null,
         "start": 558292,
         "text": "line"
        },
        {
         "confidence": 0.87574,
         "end": 558814,
         "speaker": null,
         "start": 558612,
         "text": "by"
        },
        {
         "confidence": 1,
         "end": 559390,
         "speaker": null,
         "start": 558852,
         "text": "line."
        },
        {
         "confidence": 1,
         "end": 559854,
         "speaker": null,
         "start": 559540,
         "text": "Many"
        },
        {
         "confidence": 0.99998,
         "end": 560094,
         "speaker": null,
         "start": 559892,
         "text": "people"
        },
        {
         "confidence": 0.99994,
         "end": 560286,
         "speaker": null,
         "start": 560132,
         "text": "think"
        },
        {
         "confidence": 0.97833,
         "end": 560446,
         "speaker": null,
         "start": 560308,
         "text": "that"
        },
        {
         "confidence": 0.99999,
         "end": 560558,
         "speaker": null,
         "start": 560468,
         "text": "this"
        },
        {
         "confidence": 0.64786,
         "end": 560734,
         "speaker": null,
         "start": 560564,
         "text": "is"
        },
        {
         "confidence": 0.99993,
         "end": 561258,
         "speaker": null,
         "start": 560772,
         "text": "cheating,"
        },
        {
         "confidence": 0.99997,
         "end": 561614,
         "speaker": null,
         "start": 561354,
         "text": "but"
        },
        {
         "confidence": 0.99971,
         "end": 561866,
         "speaker": null,
         "start": 561652,
         "text": "it's"
        },
        {
         "confidence": 0.99996,
         "end": 562142,
         "speaker": null,
         "start": 561898,
         "text": "actually"
        },
        {
         "confidence": 1,
         "end": 562318,
         "speaker": null,
         "start": 562196,
         "text": "a"
        },
        {
         "confidence": 0.55441,
         "end": 562542,
         "speaker": null,
         "start": 562324,
         "text": "great"
        },
        {
         "confidence": 0.99999,
         "end": 562766,
         "speaker": null,
         "start": 562596,
         "text": "way"
        },
        {
         "confidence": 1,
         "end": 562878,
         "speaker": null,
         "start": 562788,
         "text": "to"
        },
        {
         "confidence": 0.99995,
         "end": 563198,
         "speaker": null,
         "start": 562884,
         "text": "learn."
        },
        {
         "confidence": 0.99998,
         "end": 563534,
         "speaker": null,
         "start": 563284,
         "text": "Even"
        },
        {
         "confidence": 0.99998,
         "end": 563822,
         "speaker": null,
         "start": 563572,
         "text": "better,"
        },
        {
         "confidence": 0.99999,
         "end": 564046,
         "speaker": null,
         "start": 563876,
         "text": "when"
        },
        {
         "confidence": 0.99997,
         "end": 564206,
         "speaker": null,
         "start": 564068,
         "text": "you"
        },
        {
         "confidence": 0.99998,
         "end": 564366,
         "speaker": null,
         "start": 564228,
         "text": "run"
        },
        {
         "confidence": 0.99992,
         "end": 564622,
         "speaker": null,
         "start": 564388,
         "text": "it,"
        },
        {
         "confidence": 0.99985,
         "end": 564846,
         "speaker": null,
         "start": 564676,
         "text": "make"
        },
        {
         "confidence": 0.99988,
         "end": 565054,
         "speaker": null,
         "start": 564868,
         "text": "some"
        },
        {
         "confidence": 0.99998,
         "end": 565342,
         "speaker": null,
         "start": 565092,
         "text": "changes"
        },
        {
         "confidence": 1,
         "end": 565518,
         "speaker": null,
         "start": 565396,
         "text": "to"
        },
        {
         "confidence": 0.76,
         "end": 565646,
         "speaker": null,
         "start": 565524,
         "text": "the"
        },
        {
         "confidence": 1,
         "end": 565902,
         "speaker": null,
         "start": 565668,
         "text": "code"
        },
        {
         "confidence": 1,
         "end": 566126,
         "speaker": null,
         "start": 565956,
         "text": "and"
        },
        {
         "confidence": 0.99998,
         "end": 566286,
         "speaker": null,
         "start": 566148,
         "text": "see"
        },
        {
         "confidence": 0.99999,
         "end": 566494,
         "speaker": null,
         "start": 566308,
         "text": "what"
        },
        {
         "confidence": 0.99993,
         "end": 566974,
         "speaker": null,
         "start": 566532,
         "text": "happens."
        },
        {
         "confidence": 0.99999,
         "end": 567422,
         "speaker": null,
         "start": 567092,
         "text": "Maybe"
        },
        {
         "confidence": 0.99999,
         "end": 567598,
         "speaker": null,
         "start": 567476,
         "text": "you"
        },
        {
         "confidence": 0.99977,
         "end": 567738,
         "speaker": null,
         "start": 567604,
         "text": "should"
        },
        {
         "confidence": 1,
         "end": 568002,
         "speaker": null,
         "start": 567764,
         "text": "try"
        },
        {
         "confidence": 0.99895,
         "end": 568510,
         "speaker": null,
         "start": 568056,
         "text": "changing"
        },
        {
         "confidence": 0.76,
         "end": 568834,
         "speaker": null,
         "start": 568590,
         "text": "like"
        },
        {
         "confidence": 1,
         "end": 569026,
         "speaker": null,
         "start": 568872,
         "text": "the"
        },
        {
         "confidence": 0.99078,
         "end": 569358,
         "speaker": null,
         "start": 569048,
         "text": "colors"
        },
        {
         "confidence": 0.94889,
         "end": 569506,
         "speaker": null,
         "start": 569374,
         "text": "on"
        },
        {
         "confidence": 1,
         "end": 569666,
         "speaker": null,
         "start": 569528,
         "text": "a"
        },
        {
         "confidence": 0.99986,
         "end": 569982,
         "speaker": null,
         "start": 569688,
         "text": "graph"
        },
        {
         "confidence": 0.99944,
         "end": 570226,
         "speaker": null,
         "start": 570046,
         "text": "from"
        },
        {
         "confidence": 0.99339,
         "end": 570446,
         "speaker": null,
         "start": 570248,
         "text": "blue"
        },
        {
         "confidence": 1,
         "end": 570626,
         "speaker": null,
         "start": 570478,
         "text": "to"
        },
        {
         "confidence": 0.99961,
         "end": 570930,
         "speaker": null,
         "start": 570648,
         "text": "red,"
        },
        {
         "confidence": 0.99965,
         "end": 571378,
         "speaker": null,
         "start": 571000,
         "text": "or"
        },
        {
         "confidence": 1,
         "end": 571666,
         "speaker": null,
         "start": 571464,
         "text": "try"
        },
        {
         "confidence": 0.95,
         "end": 571826,
         "speaker": null,
         "start": 571688,
         "text": "to"
        },
        {
         "confidence": 0.99998,
         "end": 571986,
         "speaker": null,
         "start": 571848,
         "text": "make"
        },
        {
         "confidence": 0.58,
         "end": 572146,
         "speaker": null,
         "start": 572008,
         "text": "a"
        },
        {
         "confidence": 1,
         "end": 572354,
         "speaker": null,
         "start": 572168,
         "text": "line"
        },
        {
         "confidence": 0.99857,
         "end": 572718,
         "speaker": null,
         "start": 572392,
         "text": "thicker"
        },
        {
         "confidence": 0.99996,
         "end": 572866,
         "speaker": null,
         "start": 572734,
         "text": "on"
        },
        {
         "confidence": 1,
         "end": 572978,
         "speaker": null,
         "start": 572888,
         "text": "one"
        },
        {
         "confidence": 1,
         "end": 573058,
         "speaker": null,
         "start": 572984,
         "text": "of"
        },
        {
         "confidence": 1,
         "end": 573138,
         "speaker": null,
         "start": 573064,
         "text": "the"
        },
        {
         "confidence": 0.99957,
         "end": 573534,
         "speaker": null,
         "start": 573144,
         "text": "graphs."
        },
        {
         "confidence": 0.98286,
         "end": 573794,
         "speaker": null,
         "start": 573582,
         "text": "Just"
        },
        {
         "confidence": 0.87906,
         "end": 574082,
         "speaker": null,
         "start": 573832,
         "text": "simple"
        },
        {
         "confidence": 0.99998,
         "end": 574306,
         "speaker": null,
         "start": 574136,
         "text": "things"
        },
        {
         "confidence": 1,
         "end": 574466,
         "speaker": null,
         "start": 574328,
         "text": "like"
        },
        {
         "confidence": 0.9999,
         "end": 574722,
         "speaker": null,
         "start": 574488,
         "text": "that"
        },
        {
         "confidence": 0.99968,
         "end": 574994,
         "speaker": null,
         "start": 574776,
         "text": "help"
        },
        {
         "confidence": 0.99974,
         "end": 575138,
         "speaker": null,
         "start": 575032,
         "text": "you"
        },
        {
         "confidence": 0.9999,
         "end": 575486,
         "speaker": null,
         "start": 575144,
         "text": "iterate"
        },
        {
         "confidence": 1,
         "end": 575666,
         "speaker": null,
         "start": 575518,
         "text": "and"
        },
        {
         "confidence": 0.99951,
         "end": 576014,
         "speaker": null,
         "start": 575688,
         "text": "improve."
        },
        {
         "confidence": 0.99,
         "end": 576226,
         "speaker": null,
         "start": 576062,
         "text": "So"
        },
        {
         "confidence": 0.99996,
         "end": 576434,
         "speaker": null,
         "start": 576248,
         "text": "remember"
        },
        {
         "confidence": 0.99952,
         "end": 576626,
         "speaker": null,
         "start": 576472,
         "text": "when"
        },
        {
         "confidence": 0.99992,
         "end": 576786,
         "speaker": null,
         "start": 576648,
         "text": "we"
        },
        {
         "confidence": 0.99989,
         "end": 576898,
         "speaker": null,
         "start": 576808,
         "text": "talked"
        },
        {
         "confidence": 0.8,
         "end": 577074,
         "speaker": null,
         "start": 576904,
         "text": "about"
        },
        {
         "confidence": 0.88104,
         "end": 577614,
         "speaker": null,
         "start": 577112,
         "text": "ides"
        },
        {
         "confidence": 0.83756,
         "end": 577934,
         "speaker": null,
         "start": 577662,
         "text": "earlier"
        },
        {
         "confidence": 0.68,
         "end": 578146,
         "speaker": null,
         "start": 577982,
         "text": "and"
        },
        {
         "confidence": 0.94932,
         "end": 578398,
         "speaker": null,
         "start": 578168,
         "text": "I'd"
        },
        {
         "confidence": 0.9983,
         "end": 578594,
         "speaker": null,
         "start": 578414,
         "text": "mentioned"
        },
        {
         "confidence": 0.97865,
         "end": 579006,
         "speaker": null,
         "start": 578632,
         "text": "Jupyter"
        },
        {
         "confidence": 0.99548,
         "end": 579422,
         "speaker": null,
         "start": 579038,
         "text": "notebook?"
        },
        {
         "confidence": 0.7,
         "end": 579886,
         "speaker": null,
         "start": 579486,
         "text": "Kaggle"
        },
        {
         "confidence": 0.99945,
         "end": 580206,
         "speaker": null,
         "start": 579918,
         "text": "uses"
        },
        {
         "confidence": 0.99998,
         "end": 580434,
         "speaker": null,
         "start": 580238,
         "text": "something"
        },
        {
         "confidence": 1,
         "end": 580770,
         "speaker": null,
         "start": 580472,
         "text": "similar"
        },
        {
         "confidence": 1,
         "end": 580990,
         "speaker": null,
         "start": 580840,
         "text": "to"
        },
        {
         "confidence": 0.9997,
         "end": 581174,
         "speaker": null,
         "start": 581000,
         "text": "that"
        },
        {
         "confidence": 0.9993,
         "end": 581366,
         "speaker": null,
         "start": 581212,
         "text": "that"
        },
        {
         "confidence": 0.99748,
         "end": 581538,
         "speaker": null,
         "start": 581388,
         "text": "lets"
        },
        {
         "confidence": 0.99579,
         "end": 581734,
         "speaker": null,
         "start": 581554,
         "text": "you"
        },
        {
         "confidence": 1,
         "end": 582022,
         "speaker": null,
         "start": 581772,
         "text": "work"
        },
        {
         "confidence": 1,
         "end": 582486,
         "speaker": null,
         "start": 582076,
         "text": "online."
        },
        {
         "confidence": 0.98406,
         "end": 582806,
         "speaker": null,
         "start": 582588,
         "text": "This"
        },
        {
         "confidence": 0.99991,
         "end": 582966,
         "speaker": null,
         "start": 582828,
         "text": "is"
        },
        {
         "confidence": 0.99987,
         "end": 583174,
         "speaker": null,
         "start": 582988,
         "text": "great"
        },
        {
         "confidence": 1,
         "end": 583414,
         "speaker": null,
         "start": 583212,
         "text": "and"
        },
        {
         "confidence": 0.99996,
         "end": 583654,
         "speaker": null,
         "start": 583452,
         "text": "free"
        },
        {
         "confidence": 0.99991,
         "end": 584066,
         "speaker": null,
         "start": 583692,
         "text": "compute"
        },
        {
         "confidence": 0.99981,
         "end": 584342,
         "speaker": null,
         "start": 584098,
         "text": "power"
        },
        {
         "confidence": 0.99962,
         "end": 584518,
         "speaker": null,
         "start": 584396,
         "text": "if"
        },
        {
         "confidence": 0.99985,
         "end": 584598,
         "speaker": null,
         "start": 584524,
         "text": "you"
        },
        {
         "confidence": 0.81518,
         "end": 584774,
         "speaker": null,
         "start": 584604,
         "text": "have"
        },
        {
         "confidence": 0.9998,
         "end": 585074,
         "speaker": null,
         "start": 584812,
         "text": "limited"
        },
        {
         "confidence": 0.98408,
         "end": 585586,
         "speaker": null,
         "start": 585122,
         "text": "resources"
        },
        {
         "confidence": 1,
         "end": 585766,
         "speaker": null,
         "start": 585618,
         "text": "at"
        },
        {
         "confidence": 0.99988,
         "end": 585974,
         "speaker": null,
         "start": 585788,
         "text": "home."
        },
        {
         "confidence": 0.99,
         "end": 586166,
         "speaker": null,
         "start": 586012,
         "text": "So"
        },
        {
         "confidence": 0.99981,
         "end": 586278,
         "speaker": null,
         "start": 586188,
         "text": "if"
        },
        {
         "confidence": 0.99989,
         "end": 586406,
         "speaker": null,
         "start": 586284,
         "text": "you"
        },
        {
         "confidence": 0.97147,
         "end": 586518,
         "speaker": null,
         "start": 586428,
         "text": "want"
        },
        {
         "confidence": 1,
         "end": 586598,
         "speaker": null,
         "start": 586524,
         "text": "to"
        },
        {
         "confidence": 1,
         "end": 586774,
         "speaker": null,
         "start": 586604,
         "text": "work"
        },
        {
         "confidence": 0.99994,
         "end": 586966,
         "speaker": null,
         "start": 586812,
         "text": "with"
        },
        {
         "confidence": 0.99999,
         "end": 587174,
         "speaker": null,
         "start": 586988,
         "text": "data"
        },
        {
         "confidence": 0.535,
         "end": 587366,
         "speaker": null,
         "start": 587212,
         "text": "on"
        },
        {
         "confidence": 0.99646,
         "end": 587622,
         "speaker": null,
         "start": 587388,
         "text": "your"
        },
        {
         "confidence": 0.99993,
         "end": 588066,
         "speaker": null,
         "start": 587676,
         "text": "laptop"
        },
        {
         "confidence": 0.9998,
         "end": 588246,
         "speaker": null,
         "start": 588098,
         "text": "or"
        },
        {
         "confidence": 0.93551,
         "end": 588866,
         "speaker": null,
         "start": 588268,
         "text": "desktop,"
        },
        {
         "confidence": 1,
         "end": 589206,
         "speaker": null,
         "start": 588978,
         "text": "I"
        },
        {
         "confidence": 0.99998,
         "end": 589510,
         "speaker": null,
         "start": 589228,
         "text": "recommend"
        },
        {
         "confidence": 0.99991,
         "end": 590066,
         "speaker": null,
         "start": 589580,
         "text": "downloading"
        },
        {
         "confidence": 0.94102,
         "end": 590674,
         "speaker": null,
         "start": 590098,
         "text": "anaconda."
        },
        {
         "confidence": 0.99966,
         "end": 591298,
         "speaker": null,
         "start": 590722,
         "text": "Anaconda"
        },
        {
         "confidence": 0.99998,
         "end": 591398,
         "speaker": null,
         "start": 591314,
         "text": "is"
        },
        {
         "confidence": 1,
         "end": 591490,
         "speaker": null,
         "start": 591404,
         "text": "a"
        },
        {
         "confidence": 0.96881,
         "end": 591814,
         "speaker": null,
         "start": 591500,
         "text": "software"
        },
        {
         "confidence": 0.99995,
         "end": 592214,
         "speaker": null,
         "start": 591862,
         "text": "package"
        },
        {
         "confidence": 0.99998,
         "end": 592426,
         "speaker": null,
         "start": 592262,
         "text": "that"
        },
        {
         "confidence": 0.99918,
         "end": 592726,
         "speaker": null,
         "start": 592448,
         "text": "lumps"
        },
        {
         "confidence": 0.99998,
         "end": 592954,
         "speaker": null,
         "start": 592758,
         "text": "together"
        },
        {
         "confidence": 0.52,
         "end": 593146,
         "speaker": null,
         "start": 592992,
         "text": "all"
        },
        {
         "confidence": 1,
         "end": 593258,
         "speaker": null,
         "start": 593168,
         "text": "of"
        },
        {
         "confidence": 0.86,
         "end": 593386,
         "speaker": null,
         "start": 593264,
         "text": "the"
        },
        {
         "confidence": 0.99912,
         "end": 593766,
         "speaker": null,
         "start": 593408,
         "text": "relevant"
        },
        {
         "confidence": 0.41426,
         "end": 594214,
         "speaker": null,
         "start": 593798,
         "text": "Python"
        },
        {
         "confidence": 0.51062,
         "end": 594886,
         "speaker": null,
         "start": 594262,
         "text": "libraries"
        },
        {
         "confidence": 0.98,
         "end": 595322,
         "speaker": null,
         "start": 594998,
         "text": "and"
        },
        {
         "confidence": 0.8009,
         "end": 596054,
         "speaker": null,
         "start": 595376,
         "text": "ides"
        },
        {
         "confidence": 0.99999,
         "end": 596266,
         "speaker": null,
         "start": 596102,
         "text": "for"
        },
        {
         "confidence": 0.99991,
         "end": 596474,
         "speaker": null,
         "start": 596288,
         "text": "data"
        },
        {
         "confidence": 0.61502,
         "end": 596854,
         "speaker": null,
         "start": 596512,
         "text": "science"
        },
        {
         "confidence": 0.9992,
         "end": 597114,
         "speaker": null,
         "start": 596902,
         "text": "in"
        },
        {
         "confidence": 1,
         "end": 597306,
         "speaker": null,
         "start": 597152,
         "text": "one"
        },
        {
         "confidence": 0.75983,
         "end": 597706,
         "speaker": null,
         "start": 597328,
         "text": "go."
        },
        {
         "confidence": 1,
         "end": 598026,
         "speaker": null,
         "start": 597808,
         "text": "So"
        },
        {
         "confidence": 0.99994,
         "end": 598138,
         "speaker": null,
         "start": 598048,
         "text": "you"
        },
        {
         "confidence": 1,
         "end": 598266,
         "speaker": null,
         "start": 598144,
         "text": "can"
        },
        {
         "confidence": 1,
         "end": 598426,
         "speaker": null,
         "start": 598288,
         "text": "check"
        },
        {
         "confidence": 1,
         "end": 598586,
         "speaker": null,
         "start": 598448,
         "text": "out"
        },
        {
         "confidence": 0.99999,
         "end": 598746,
         "speaker": null,
         "start": 598608,
         "text": "my"
        },
        {
         "confidence": 0.99999,
         "end": 599002,
         "speaker": null,
         "start": 598768,
         "text": "video"
        },
        {
         "confidence": 0.99993,
         "end": 599274,
         "speaker": null,
         "start": 599056,
         "text": "for"
        },
        {
         "confidence": 0.99995,
         "end": 599466,
         "speaker": null,
         "start": 599312,
         "text": "how"
        },
        {
         "confidence": 1,
         "end": 599626,
         "speaker": null,
         "start": 599488,
         "text": "to"
        },
        {
         "confidence": 1,
         "end": 599930,
         "speaker": null,
         "start": 599648,
         "text": "install"
        },
        {
         "confidence": 0.99991,
         "end": 600234,
         "speaker": null,
         "start": 600000,
         "text": "it,"
        },
        {
         "confidence": 0.99979,
         "end": 600426,
         "speaker": null,
         "start": 600272,
         "text": "which"
        },
        {
         "confidence": 0.99961,
         "end": 600598,
         "speaker": null,
         "start": 600448,
         "text": "I've"
        },
        {
         "confidence": 0.99967,
         "end": 600806,
         "speaker": null,
         "start": 600614,
         "text": "linked"
        },
        {
         "confidence": 0.83954,
         "end": 601094,
         "speaker": null,
         "start": 600838,
         "text": "above"
        },
        {
         "confidence": 1,
         "end": 601306,
         "speaker": null,
         "start": 601142,
         "text": "and"
        },
        {
         "confidence": 0.99989,
         "end": 601418,
         "speaker": null,
         "start": 601328,
         "text": "in"
        },
        {
         "confidence": 0.93,
         "end": 601546,
         "speaker": null,
         "start": 601424,
         "text": "the"
        },
        {
         "confidence": 0.9966,
         "end": 602118,
         "speaker": null,
         "start": 601568,
         "text": "description."
        },
        {
         "confidence": 0.92502,
         "end": 602618,
         "speaker": null,
         "start": 602214,
         "text": "Finally,"
        },
        {
         "confidence": 1,
         "end": 602906,
         "speaker": null,
         "start": 602704,
         "text": "I"
        },
        {
         "confidence": 0.93045,
         "end": 603114,
         "speaker": null,
         "start": 602928,
         "text": "have"
        },
        {
         "confidence": 1,
         "end": 603354,
         "speaker": null,
         "start": 603152,
         "text": "three"
        },
        {
         "confidence": 0.99993,
         "end": 603734,
         "speaker": null,
         "start": 603392,
         "text": "tips"
        },
        {
         "confidence": 1,
         "end": 603898,
         "speaker": null,
         "start": 603782,
         "text": "to"
        },
        {
         "confidence": 0.99993,
         "end": 604074,
         "speaker": null,
         "start": 603904,
         "text": "send"
        },
        {
         "confidence": 0.99985,
         "end": 604266,
         "speaker": null,
         "start": 604112,
         "text": "you"
        },
        {
         "confidence": 0.99957,
         "end": 604378,
         "speaker": null,
         "start": 604288,
         "text": "on"
        },
        {
         "confidence": 0.99956,
         "end": 604518,
         "speaker": null,
         "start": 604384,
         "text": "your"
        },
        {
         "confidence": 0.99984,
         "end": 604830,
         "speaker": null,
         "start": 604544,
         "text": "way."
        },
        {
         "confidence": 0.99836,
         "end": 605086,
         "speaker": null,
         "start": 604900,
         "text": "These"
        },
        {
         "confidence": 0.9999,
         "end": 605294,
         "speaker": null,
         "start": 605108,
         "text": "are"
        },
        {
         "confidence": 0.99994,
         "end": 605630,
         "speaker": null,
         "start": 605332,
         "text": "probably"
        },
        {
         "confidence": 1,
         "end": 606030,
         "speaker": null,
         "start": 605700,
         "text": "the"
        },
        {
         "confidence": 0.99994,
         "end": 606382,
         "speaker": null,
         "start": 606100,
         "text": "most"
        },
        {
         "confidence": 0.99997,
         "end": 606750,
         "speaker": null,
         "start": 606436,
         "text": "important"
        },
        {
         "confidence": 0.99994,
         "end": 607198,
         "speaker": null,
         "start": 606820,
         "text": "things"
        },
        {
         "confidence": 0.99934,
         "end": 607486,
         "speaker": null,
         "start": 607284,
         "text": "that"
        },
        {
         "confidence": 1,
         "end": 607646,
         "speaker": null,
         "start": 607508,
         "text": "a"
        },
        {
         "confidence": 1,
         "end": 607806,
         "speaker": null,
         "start": 607668,
         "text": "new"
        },
        {
         "confidence": 0.99973,
         "end": 608186,
         "speaker": null,
         "start": 607828,
         "text": "coder"
        },
        {
         "confidence": 1,
         "end": 608366,
         "speaker": null,
         "start": 608218,
         "text": "can"
        },
        {
         "confidence": 0.99995,
         "end": 608622,
         "speaker": null,
         "start": 608388,
         "text": "learn,"
        },
        {
         "confidence": 0.99,
         "end": 608846,
         "speaker": null,
         "start": 608676,
         "text": "so"
        },
        {
         "confidence": 1,
         "end": 609006,
         "speaker": null,
         "start": 608868,
         "text": "the"
        },
        {
         "confidence": 1,
         "end": 609166,
         "speaker": null,
         "start": 609028,
         "text": "first"
        },
        {
         "confidence": 1,
         "end": 609374,
         "speaker": null,
         "start": 609188,
         "text": "one"
        },
        {
         "confidence": 0.99995,
         "end": 609566,
         "speaker": null,
         "start": 609412,
         "text": "is"
        },
        {
         "confidence": 1,
         "end": 609726,
         "speaker": null,
         "start": 609588,
         "text": "to"
        },
        {
         "confidence": 0.99994,
         "end": 609886,
         "speaker": null,
         "start": 609748,
         "text": "use"
        },
        {
         "confidence": 1,
         "end": 610142,
         "speaker": null,
         "start": 609908,
         "text": "Google"
        },
        {
         "confidence": 1,
         "end": 610366,
         "speaker": null,
         "start": 610196,
         "text": "and"
        },
        {
         "confidence": 0.99078,
         "end": 610586,
         "speaker": null,
         "start": 610388,
         "text": "stack"
        },
        {
         "confidence": 0.9873,
         "end": 611386,
         "speaker": null,
         "start": 610618,
         "text": "overflow."
        },
        {
         "confidence": 0.99993,
         "end": 611726,
         "speaker": null,
         "start": 611498,
         "text": "If"
        },
        {
         "confidence": 0.99998,
         "end": 611886,
         "speaker": null,
         "start": 611748,
         "text": "you"
        },
        {
         "confidence": 0.99993,
         "end": 612046,
         "speaker": null,
         "start": 611908,
         "text": "have"
        },
        {
         "confidence": 0.58,
         "end": 612206,
         "speaker": null,
         "start": 612068,
         "text": "a"
        },
        {
         "confidence": 0.99981,
         "end": 612606,
         "speaker": null,
         "start": 612228,
         "text": "question,"
        },
        {
         "confidence": 0.61856,
         "end": 612986,
         "speaker": null,
         "start": 612708,
         "text": "it's"
        },
        {
         "confidence": 0.99995,
         "end": 613262,
         "speaker": null,
         "start": 613018,
         "text": "almost"
        },
        {
         "confidence": 0.6872,
         "end": 614042,
         "speaker": null,
         "start": 613316,
         "text": "guaranteed"
        },
        {
         "confidence": 0.99978,
         "end": 614334,
         "speaker": null,
         "start": 614106,
         "text": "that"
        },
        {
         "confidence": 0.99997,
         "end": 614574,
         "speaker": null,
         "start": 614372,
         "text": "someone"
        },
        {
         "confidence": 0.97993,
         "end": 614814,
         "speaker": null,
         "start": 614612,
         "text": "has"
        },
        {
         "confidence": 0.99998,
         "end": 615054,
         "speaker": null,
         "start": 614852,
         "text": "asked"
        },
        {
         "confidence": 0.99995,
         "end": 615246,
         "speaker": null,
         "start": 615092,
         "text": "it"
        },
        {
         "confidence": 0.99994,
         "end": 615502,
         "speaker": null,
         "start": 615268,
         "text": "before."
        },
        {
         "confidence": 0.75779,
         "end": 615726,
         "speaker": null,
         "start": 615556,
         "text": "On"
        },
        {
         "confidence": 1,
         "end": 615886,
         "speaker": null,
         "start": 615748,
         "text": "the"
        },
        {
         "confidence": 0.99995,
         "end": 616566,
         "speaker": null,
         "start": 615908,
         "text": "Internet,"
        },
        {
         "confidence": 0.99997,
         "end": 617042,
         "speaker": null,
         "start": 616698,
         "text": "getting"
        },
        {
         "confidence": 0.99988,
         "end": 617314,
         "speaker": null,
         "start": 617096,
         "text": "good"
        },
        {
         "confidence": 1,
         "end": 617554,
         "speaker": null,
         "start": 617352,
         "text": "at"
        },
        {
         "confidence": 0.99982,
         "end": 617886,
         "speaker": null,
         "start": 617592,
         "text": "finding"
        },
        {
         "confidence": 0.84259,
         "end": 618334,
         "speaker": null,
         "start": 617918,
         "text": "answers"
        },
        {
         "confidence": 0.99991,
         "end": 618498,
         "speaker": null,
         "start": 618382,
         "text": "on"
        },
        {
         "confidence": 0.9939,
         "end": 618626,
         "speaker": null,
         "start": 618504,
         "text": "your"
        },
        {
         "confidence": 0.9999,
         "end": 618930,
         "speaker": null,
         "start": 618648,
         "text": "own"
        },
        {
         "confidence": 0.97059,
         "end": 619294,
         "speaker": null,
         "start": 619000,
         "text": "via"
        },
        {
         "confidence": 0.99999,
         "end": 619794,
         "speaker": null,
         "start": 619342,
         "text": "search"
        },
        {
         "confidence": 0.99999,
         "end": 620146,
         "speaker": null,
         "start": 619912,
         "text": "might"
        },
        {
         "confidence": 0.99998,
         "end": 620306,
         "speaker": null,
         "start": 620168,
         "text": "be"
        },
        {
         "confidence": 1,
         "end": 620466,
         "speaker": null,
         "start": 620328,
         "text": "the"
        },
        {
         "confidence": 0.99999,
         "end": 620722,
         "speaker": null,
         "start": 620488,
         "text": "single"
        },
        {
         "confidence": 0.99999,
         "end": 620994,
         "speaker": null,
         "start": 620776,
         "text": "most"
        },
        {
         "confidence": 0.99999,
         "end": 621330,
         "speaker": null,
         "start": 621032,
         "text": "important"
        },
        {
         "confidence": 0.99997,
         "end": 621726,
         "speaker": null,
         "start": 621400,
         "text": "skill"
        },
        {
         "confidence": 1,
         "end": 621906,
         "speaker": null,
         "start": 621758,
         "text": "of"
        },
        {
         "confidence": 1,
         "end": 622018,
         "speaker": null,
         "start": 621928,
         "text": "a"
        },
        {
         "confidence": 0.99999,
         "end": 622194,
         "speaker": null,
         "start": 622024,
         "text": "data"
        },
        {
         "confidence": 0.99982,
         "end": 622606,
         "speaker": null,
         "start": 622232,
         "text": "scientist"
        },
        {
         "confidence": 0.99997,
         "end": 622738,
         "speaker": null,
         "start": 622638,
         "text": "or"
        },
        {
         "confidence": 0.6,
         "end": 622818,
         "speaker": null,
         "start": 622744,
         "text": "a"
        },
        {
         "confidence": 0.99999,
         "end": 623086,
         "speaker": null,
         "start": 622824,
         "text": "software"
        },
        {
         "confidence": 0.75761,
         "end": 623534,
         "speaker": null,
         "start": 623118,
         "text": "engineer"
        },
        {
         "confidence": 0.99981,
         "end": 623746,
         "speaker": null,
         "start": 623582,
         "text": "that"
        },
        {
         "confidence": 0.99996,
         "end": 623906,
         "speaker": null,
         "start": 623768,
         "text": "they"
        },
        {
         "confidence": 0.99997,
         "end": 624114,
         "speaker": null,
         "start": 623928,
         "text": "use"
        },
        {
         "confidence": 0.99999,
         "end": 624354,
         "speaker": null,
         "start": 624152,
         "text": "every"
        },
        {
         "confidence": 0.99994,
         "end": 624594,
         "speaker": null,
         "start": 624392,
         "text": "single"
        },
        {
         "confidence": 0.99998,
         "end": 624930,
         "speaker": null,
         "start": 624632,
         "text": "day."
        },
        {
         "confidence": 1,
         "end": 625186,
         "speaker": null,
         "start": 625000,
         "text": "The"
        },
        {
         "confidence": 1,
         "end": 625394,
         "speaker": null,
         "start": 625208,
         "text": "second"
        },
        {
         "confidence": 0.99999,
         "end": 625586,
         "speaker": null,
         "start": 625432,
         "text": "is"
        },
        {
         "confidence": 1,
         "end": 625698,
         "speaker": null,
         "start": 625608,
         "text": "to"
        },
        {
         "confidence": 0.61129,
         "end": 625874,
         "speaker": null,
         "start": 625704,
         "text": "use"
        },
        {
         "confidence": 0.99851,
         "end": 626334,
         "speaker": null,
         "start": 625912,
         "text": "errors"
        },
        {
         "confidence": 1,
         "end": 626546,
         "speaker": null,
         "start": 626382,
         "text": "so"
        },
        {
         "confidence": 0.99995,
         "end": 626706,
         "speaker": null,
         "start": 626568,
         "text": "your"
        },
        {
         "confidence": 0.99945,
         "end": 626866,
         "speaker": null,
         "start": 626728,
         "text": "code"
        },
        {
         "confidence": 0.99013,
         "end": 627026,
         "speaker": null,
         "start": 626888,
         "text": "will"
        },
        {
         "confidence": 0.99997,
         "end": 627186,
         "speaker": null,
         "start": 627048,
         "text": "not"
        },
        {
         "confidence": 0.99956,
         "end": 627442,
         "speaker": null,
         "start": 627208,
         "text": "run,"
        },
        {
         "confidence": 0.59166,
         "end": 627774,
         "speaker": null,
         "start": 627496,
         "text": "it'll"
        },
        {
         "confidence": 0.99995,
         "end": 628034,
         "speaker": null,
         "start": 627822,
         "text": "break,"
        },
        {
         "confidence": 1,
         "end": 628226,
         "speaker": null,
         "start": 628072,
         "text": "and"
        },
        {
         "confidence": 0.99989,
         "end": 628398,
         "speaker": null,
         "start": 628248,
         "text": "you'll"
        },
        {
         "confidence": 0.99999,
         "end": 628546,
         "speaker": null,
         "start": 628414,
         "text": "be"
        },
        {
         "confidence": 0.99982,
         "end": 629182,
         "speaker": null,
         "start": 628568,
         "text": "sad."
        },
        {
         "confidence": 0.99978,
         "end": 629598,
         "speaker": null,
         "start": 629326,
         "text": "Don't"
        },
        {
         "confidence": 0.99982,
         "end": 629746,
         "speaker": null,
         "start": 629614,
         "text": "just"
        },
        {
         "confidence": 0.95699,
         "end": 630058,
         "speaker": null,
         "start": 629768,
         "text": "wallow"
        },
        {
         "confidence": 0.99857,
         "end": 630198,
         "speaker": null,
         "start": 630094,
         "text": "in"
        },
        {
         "confidence": 0.94295,
         "end": 630374,
         "speaker": null,
         "start": 630204,
         "text": "yourself"
        },
        {
         "confidence": 0.79775,
         "end": 630818,
         "speaker": null,
         "start": 630412,
         "text": "pity."
        },
        {
         "confidence": 0.99988,
         "end": 631126,
         "speaker": null,
         "start": 630914,
         "text": "Read"
        },
        {
         "confidence": 1,
         "end": 631286,
         "speaker": null,
         "start": 631148,
         "text": "the"
        },
        {
         "confidence": 0.9706,
         "end": 631506,
         "speaker": null,
         "start": 631308,
         "text": "error"
        },
        {
         "confidence": 0.99902,
         "end": 632082,
         "speaker": null,
         "start": 631538,
         "text": "messages."
        },
        {
         "confidence": 0.98536,
         "end": 632386,
         "speaker": null,
         "start": 632146,
         "text": "They'll"
        },
        {
         "confidence": 0.99947,
         "end": 632566,
         "speaker": null,
         "start": 632418,
         "text": "tell"
        },
        {
         "confidence": 0.99984,
         "end": 632726,
         "speaker": null,
         "start": 632588,
         "text": "you"
        },
        {
         "confidence": 0.99977,
         "end": 632982,
         "speaker": null,
         "start": 632748,
         "text": "something"
        },
        {
         "confidence": 1,
         "end": 633206,
         "speaker": null,
         "start": 633036,
         "text": "about"
        },
        {
         "confidence": 0.9997,
         "end": 633458,
         "speaker": null,
         "start": 633228,
         "text": "what's"
        },
        {
         "confidence": 0.99996,
         "end": 633798,
         "speaker": null,
         "start": 633474,
         "text": "wrong."
        },
        {
         "confidence": 0.90442,
         "end": 634182,
         "speaker": null,
         "start": 633884,
         "text": "Also,"
        },
        {
         "confidence": 1,
         "end": 634454,
         "speaker": null,
         "start": 634236,
         "text": "Google"
        },
        {
         "confidence": 0.65,
         "end": 634646,
         "speaker": null,
         "start": 634492,
         "text": "the"
        },
        {
         "confidence": 0.56034,
         "end": 635122,
         "speaker": null,
         "start": 634668,
         "text": "errors"
        },
        {
         "confidence": 1,
         "end": 635366,
         "speaker": null,
         "start": 635186,
         "text": "and"
        },
        {
         "confidence": 0.99843,
         "end": 635526,
         "speaker": null,
         "start": 635388,
         "text": "this"
        },
        {
         "confidence": 0.99195,
         "end": 635686,
         "speaker": null,
         "start": 635548,
         "text": "will"
        },
        {
         "confidence": 0.99999,
         "end": 635846,
         "speaker": null,
         "start": 635708,
         "text": "save"
        },
        {
         "confidence": 0.99961,
         "end": 635958,
         "speaker": null,
         "start": 635868,
         "text": "you"
        },
        {
         "confidence": 0.95,
         "end": 636038,
         "speaker": null,
         "start": 635964,
         "text": "a"
        },
        {
         "confidence": 0.97239,
         "end": 636166,
         "speaker": null,
         "start": 636044,
         "text": "lot"
        },
        {
         "confidence": 1,
         "end": 636278,
         "speaker": null,
         "start": 636188,
         "text": "of"
        },
        {
         "confidence": 0.99994,
         "end": 636406,
         "speaker": null,
         "start": 636284,
         "text": "time"
        },
        {
         "confidence": 0.95,
         "end": 636566,
         "speaker": null,
         "start": 636428,
         "text": "and"
        },
        {
         "confidence": 0.56196,
         "end": 637042,
         "speaker": null,
         "start": 636588,
         "text": "headache."
        },
        {
         "confidence": 0.99966,
         "end": 637430,
         "speaker": null,
         "start": 637106,
         "text": "Finally,"
        },
        {
         "confidence": 1,
         "end": 637638,
         "speaker": null,
         "start": 637500,
         "text": "the"
        },
        {
         "confidence": 1,
         "end": 637814,
         "speaker": null,
         "start": 637644,
         "text": "third"
        },
        {
         "confidence": 0.99989,
         "end": 638006,
         "speaker": null,
         "start": 637852,
         "text": "thing"
        },
        {
         "confidence": 0.98715,
         "end": 638166,
         "speaker": null,
         "start": 638028,
         "text": "is"
        },
        {
         "confidence": 1,
         "end": 638278,
         "speaker": null,
         "start": 638188,
         "text": "to"
        },
        {
         "confidence": 0.9998,
         "end": 638406,
         "speaker": null,
         "start": 638284,
         "text": "take"
        },
        {
         "confidence": 0.99978,
         "end": 638566,
         "speaker": null,
         "start": 638428,
         "text": "it"
        },
        {
         "confidence": 0.99994,
         "end": 638774,
         "speaker": null,
         "start": 638588,
         "text": "easy"
        },
        {
         "confidence": 0.99992,
         "end": 638966,
         "speaker": null,
         "start": 638812,
         "text": "on"
        },
        {
         "confidence": 0.99975,
         "end": 639414,
         "speaker": null,
         "start": 638988,
         "text": "yourself."
        },
        {
         "confidence": 1,
         "end": 639766,
         "speaker": null,
         "start": 639532,
         "text": "The"
        },
        {
         "confidence": 0.99994,
         "end": 639926,
         "speaker": null,
         "start": 639788,
         "text": "only"
        },
        {
         "confidence": 0.99997,
         "end": 640134,
         "speaker": null,
         "start": 639948,
         "text": "people"
        },
        {
         "confidence": 0.99982,
         "end": 640326,
         "speaker": null,
         "start": 640172,
         "text": "that"
        },
        {
         "confidence": 0.9291,
         "end": 640594,
         "speaker": null,
         "start": 640348,
         "text": "can't"
        },
        {
         "confidence": 0.99965,
         "end": 640902,
         "speaker": null,
         "start": 640642,
         "text": "code"
        },
        {
         "confidence": 0.99939,
         "end": 641078,
         "speaker": null,
         "start": 640956,
         "text": "are"
        },
        {
         "confidence": 0.9,
         "end": 641206,
         "speaker": null,
         "start": 641084,
         "text": "the"
        },
        {
         "confidence": 1,
         "end": 641366,
         "speaker": null,
         "start": 641228,
         "text": "ones"
        },
        {
         "confidence": 0.99625,
         "end": 641574,
         "speaker": null,
         "start": 641388,
         "text": "that"
        },
        {
         "confidence": 0.99954,
         "end": 641814,
         "speaker": null,
         "start": 641612,
         "text": "never"
        },
        {
         "confidence": 1,
         "end": 642102,
         "speaker": null,
         "start": 641852,
         "text": "try"
        },
        {
         "confidence": 0.99973,
         "end": 642326,
         "speaker": null,
         "start": 642156,
         "text": "or"
        },
        {
         "confidence": 1,
         "end": 642438,
         "speaker": null,
         "start": 642348,
         "text": "the"
        },
        {
         "confidence": 1,
         "end": 642614,
         "speaker": null,
         "start": 642444,
         "text": "ones"
        },
        {
         "confidence": 0.99943,
         "end": 642806,
         "speaker": null,
         "start": 642652,
         "text": "that"
        },
        {
         "confidence": 0.99987,
         "end": 642978,
         "speaker": null,
         "start": 642828,
         "text": "quit"
        },
        {
         "confidence": 0.99972,
         "end": 643174,
         "speaker": null,
         "start": 642994,
         "text": "too"
        },
        {
         "confidence": 0.99961,
         "end": 643750,
         "speaker": null,
         "start": 643212,
         "text": "early."
        },
        {
         "confidence": 0.99989,
         "end": 644166,
         "speaker": null,
         "start": 643900,
         "text": "Thank"
        },
        {
         "confidence": 0.99967,
         "end": 644326,
         "speaker": null,
         "start": 644188,
         "text": "you"
        },
        {
         "confidence": 1,
         "end": 644486,
         "speaker": null,
         "start": 644348,
         "text": "all"
        },
        {
         "confidence": 1,
         "end": 644646,
         "speaker": null,
         "start": 644508,
         "text": "so"
        },
        {
         "confidence": 0.99992,
         "end": 644806,
         "speaker": null,
         "start": 644668,
         "text": "much"
        },
        {
         "confidence": 0.99985,
         "end": 644966,
         "speaker": null,
         "start": 644828,
         "text": "for"
        },
        {
         "confidence": 0.99995,
         "end": 645222,
         "speaker": null,
         "start": 644988,
         "text": "watching,"
        },
        {
         "confidence": 1,
         "end": 645446,
         "speaker": null,
         "start": 645276,
         "text": "and"
        },
        {
         "confidence": 0.99991,
         "end": 645654,
         "speaker": null,
         "start": 645468,
         "text": "good"
        },
        {
         "confidence": 0.99991,
         "end": 645906,
         "speaker": null,
         "start": 645692,
         "text": "luck"
        },
        {
         "confidence": 0.99988,
         "end": 646038,
         "speaker": null,
         "start": 645938,
         "text": "on"
        },
        {
         "confidence": 0.99995,
         "end": 646166,
         "speaker": null,
         "start": 646044,
         "text": "your"
        },
        {
         "confidence": 0.99996,
         "end": 646374,
         "speaker": null,
         "start": 646188,
         "text": "data"
        },
        {
         "confidence": 0.99985,
         "end": 646706,
         "speaker": null,
         "start": 646412,
         "text": "science"
        },
        {
         "confidence": 1,
         "end": 646886,
         "speaker": null,
         "start": 646738,
         "text": "and"
        },
        {
         "confidence": 0.74859,
         "end": 647234,
         "speaker": null,
         "start": 646908,
         "text": "coding"
        },
        {
         "confidence": 0.99,
         "end": 647990,
         "speaker": null,
         "start": 647282,
         "text": "journey."
        },
        {
         "confidence": 0.57876,
         "end": 650360,
         "speaker": null,
         "start": 649610,
         "text": "You."
        }
       ]
      },
      "text/plain": [
       "<IPython.core.display.JSON object>"
      ]
     },
     "execution_count": 77,
     "metadata": {
      "application/json": {
       "expanded": false,
       "root": "root"
      }
     },
     "output_type": "execute_result"
    }
   ],
   "source": [
    "JSON(transcript_response.json())"
   ]
  },
  {
   "cell_type": "code",
   "execution_count": 78,
   "metadata": {},
   "outputs": [],
   "source": [
    "# Save pickle\n",
    "with open('speech_data.pkl', 'wb') as f:\n",
    "    pickle.dump(transcript_response.json().copy(), f)"
   ]
  },
  {
   "cell_type": "markdown",
   "metadata": {},
   "source": [
    "### Dashboard"
   ]
  },
  {
   "cell_type": "code",
   "execution_count": 79,
   "metadata": {},
   "outputs": [],
   "source": [
    "# Load data pickle\n",
    "with open('speech_data.pkl', 'rb') as f:\n",
    "    data = pickle.load(f)"
   ]
  },
  {
   "cell_type": "code",
   "execution_count": 80,
   "metadata": {},
   "outputs": [
    {
     "data": {
      "text/plain": [
       "0"
      ]
     },
     "execution_count": 80,
     "metadata": {},
     "output_type": "execute_result"
    }
   ],
   "source": [
    "buffer = StringIO()\n",
    "buffer.write(data[\"text\"])\n",
    "buffer.seek(0)"
   ]
  },
  {
   "cell_type": "markdown",
   "metadata": {},
   "source": [
    "### Download .txt widget"
   ]
  },
  {
   "cell_type": "code",
   "execution_count": 81,
   "metadata": {},
   "outputs": [
    {
     "data": {
      "application/vnd.jupyter.widget-view+json": {
       "model_id": "f58d1c8d5ca34dc386c8b745da2fcd07",
       "version_major": 2,
       "version_minor": 0
      },
      "text/plain": [
       "BokehModel(combine_events=True, render_bundle={'docs_json': {'b39cc522-930c-4461-a8b9-e366b20986da': {'version…"
      ]
     },
     "execution_count": 81,
     "metadata": {},
     "output_type": "execute_result"
    }
   ],
   "source": [
    "transcript_download = pn.widgets.FileDownload(file=buffer, \n",
    "                                              filename=\"transcript.txt\", \n",
    "                                              button_type='success',\n",
    "                                              sizing_mode='stretch_width')\n",
    "transcript_download.width = 300 \n",
    "transcript_download.height = 100\n",
    "\n",
    "transcript_download"
   ]
  },
  {
   "cell_type": "markdown",
   "metadata": {},
   "source": [
    "### Audio Play Widget"
   ]
  },
  {
   "cell_type": "code",
   "execution_count": 82,
   "metadata": {},
   "outputs": [
    {
     "data": {
      "application/vnd.jupyter.widget-view+json": {
       "model_id": "82f1138376514a9380040ab856fddb32",
       "version_major": 2,
       "version_minor": 0
      },
      "text/plain": [
       "BokehModel(combine_events=True, render_bundle={'docs_json': {'00215b2f-6ffc-45ac-8f88-bf3f2c23ce9e': {'version…"
      ]
     },
     "execution_count": 82,
     "metadata": {},
     "output_type": "execute_result"
    }
   ],
   "source": [
    "audio_url = \"https://github.com/thu-vu92/audio_analyzer_assemblyai/blob/main/How_I_Would_Learn_to_Code.mp3?raw=true\"\n",
    "audio_play = pn.pane.Audio(audio_url,\n",
    "                           name='Audio',\n",
    "                           time = 360,\n",
    "                           volume=0.5,\n",
    "                           loop=False,\n",
    "                           autoplay=False)\n",
    "\n",
    "audio_play"
   ]
  },
  {
   "cell_type": "markdown",
   "metadata": {},
   "source": [
    "### Sentiment plot"
   ]
  },
  {
   "cell_type": "code",
   "execution_count": 83,
   "metadata": {},
   "outputs": [],
   "source": [
    "sentiment = data[\"sentiment_analysis_results\"]"
   ]
  },
  {
   "cell_type": "code",
   "execution_count": 84,
   "metadata": {},
   "outputs": [
    {
     "data": {
      "text/html": [
       "<div>\n",
       "<style scoped>\n",
       "    .dataframe tbody tr th:only-of-type {\n",
       "        vertical-align: middle;\n",
       "    }\n",
       "\n",
       "    .dataframe tbody tr th {\n",
       "        vertical-align: top;\n",
       "    }\n",
       "\n",
       "    .dataframe thead th {\n",
       "        text-align: right;\n",
       "    }\n",
       "</style>\n",
       "<table border=\"1\" class=\"dataframe\">\n",
       "  <thead>\n",
       "    <tr style=\"text-align: right;\">\n",
       "      <th></th>\n",
       "      <th>text</th>\n",
       "      <th>start</th>\n",
       "      <th>end</th>\n",
       "      <th>sentiment</th>\n",
       "      <th>confidence</th>\n",
       "      <th>speaker</th>\n",
       "    </tr>\n",
       "  </thead>\n",
       "  <tbody>\n",
       "    <tr>\n",
       "      <th>0</th>\n",
       "      <td>I recently got an amazing opportunity.</td>\n",
       "      <td>250</td>\n",
       "      <td>2078</td>\n",
       "      <td>POSITIVE</td>\n",
       "      <td>0.985436</td>\n",
       "      <td>None</td>\n",
       "    </tr>\n",
       "    <tr>\n",
       "      <th>1</th>\n",
       "      <td>I've been learning jujitsu and a friend offere...</td>\n",
       "      <td>2244</td>\n",
       "      <td>7262</td>\n",
       "      <td>POSITIVE</td>\n",
       "      <td>0.552380</td>\n",
       "      <td>None</td>\n",
       "    </tr>\n",
       "    <tr>\n",
       "      <th>2</th>\n",
       "      <td>At this point in my life where I'm trying to i...</td>\n",
       "      <td>7396</td>\n",
       "      <td>13294</td>\n",
       "      <td>POSITIVE</td>\n",
       "      <td>0.955428</td>\n",
       "      <td>None</td>\n",
       "    </tr>\n",
       "    <tr>\n",
       "      <th>3</th>\n",
       "      <td>In my personal opinion.</td>\n",
       "      <td>13332</td>\n",
       "      <td>14282</td>\n",
       "      <td>NEUTRAL</td>\n",
       "      <td>0.809723</td>\n",
       "      <td>None</td>\n",
       "    </tr>\n",
       "    <tr>\n",
       "      <th>4</th>\n",
       "      <td>I was all for it until I had to think about ho...</td>\n",
       "      <td>14346</td>\n",
       "      <td>18478</td>\n",
       "      <td>NEUTRAL</td>\n",
       "      <td>0.652979</td>\n",
       "      <td>None</td>\n",
       "    </tr>\n",
       "    <tr>\n",
       "      <th>...</th>\n",
       "      <td>...</td>\n",
       "      <td>...</td>\n",
       "      <td>...</td>\n",
       "      <td>...</td>\n",
       "      <td>...</td>\n",
       "      <td>...</td>\n",
       "    </tr>\n",
       "    <tr>\n",
       "      <th>131</th>\n",
       "      <td>Also, Google the errors and this will save you...</td>\n",
       "      <td>633884</td>\n",
       "      <td>637042</td>\n",
       "      <td>POSITIVE</td>\n",
       "      <td>0.551812</td>\n",
       "      <td>None</td>\n",
       "    </tr>\n",
       "    <tr>\n",
       "      <th>132</th>\n",
       "      <td>Finally, the third thing is to take it easy on...</td>\n",
       "      <td>637106</td>\n",
       "      <td>639414</td>\n",
       "      <td>NEUTRAL</td>\n",
       "      <td>0.523670</td>\n",
       "      <td>None</td>\n",
       "    </tr>\n",
       "    <tr>\n",
       "      <th>133</th>\n",
       "      <td>The only people that can't code are the ones t...</td>\n",
       "      <td>639532</td>\n",
       "      <td>643750</td>\n",
       "      <td>NEGATIVE</td>\n",
       "      <td>0.902655</td>\n",
       "      <td>None</td>\n",
       "    </tr>\n",
       "    <tr>\n",
       "      <th>134</th>\n",
       "      <td>Thank you all so much for watching, and good l...</td>\n",
       "      <td>643900</td>\n",
       "      <td>647990</td>\n",
       "      <td>POSITIVE</td>\n",
       "      <td>0.986962</td>\n",
       "      <td>None</td>\n",
       "    </tr>\n",
       "    <tr>\n",
       "      <th>135</th>\n",
       "      <td>You.</td>\n",
       "      <td>649610</td>\n",
       "      <td>650360</td>\n",
       "      <td>NEUTRAL</td>\n",
       "      <td>0.546257</td>\n",
       "      <td>None</td>\n",
       "    </tr>\n",
       "  </tbody>\n",
       "</table>\n",
       "<p>136 rows × 6 columns</p>\n",
       "</div>"
      ],
      "text/plain": [
       "                                                  text   start     end  \\\n",
       "0               I recently got an amazing opportunity.     250    2078   \n",
       "1    I've been learning jujitsu and a friend offere...    2244    7262   \n",
       "2    At this point in my life where I'm trying to i...    7396   13294   \n",
       "3                              In my personal opinion.   13332   14282   \n",
       "4    I was all for it until I had to think about ho...   14346   18478   \n",
       "..                                                 ...     ...     ...   \n",
       "131  Also, Google the errors and this will save you...  633884  637042   \n",
       "132  Finally, the third thing is to take it easy on...  637106  639414   \n",
       "133  The only people that can't code are the ones t...  639532  643750   \n",
       "134  Thank you all so much for watching, and good l...  643900  647990   \n",
       "135                                               You.  649610  650360   \n",
       "\n",
       "    sentiment  confidence speaker  \n",
       "0    POSITIVE    0.985436    None  \n",
       "1    POSITIVE    0.552380    None  \n",
       "2    POSITIVE    0.955428    None  \n",
       "3     NEUTRAL    0.809723    None  \n",
       "4     NEUTRAL    0.652979    None  \n",
       "..        ...         ...     ...  \n",
       "131  POSITIVE    0.551812    None  \n",
       "132   NEUTRAL    0.523670    None  \n",
       "133  NEGATIVE    0.902655    None  \n",
       "134  POSITIVE    0.986962    None  \n",
       "135   NEUTRAL    0.546257    None  \n",
       "\n",
       "[136 rows x 6 columns]"
      ]
     },
     "execution_count": 84,
     "metadata": {},
     "output_type": "execute_result"
    }
   ],
   "source": [
    "sentiment_df = pd.DataFrame(sentiment)\n",
    "sentiment_df"
   ]
  },
  {
   "cell_type": "code",
   "execution_count": 85,
   "metadata": {},
   "outputs": [
    {
     "data": {
      "text/plain": [
       "sentiment\n",
       "NEUTRAL     71\n",
       "POSITIVE    50\n",
       "NEGATIVE    15\n",
       "Name: count, dtype: int64"
      ]
     },
     "execution_count": 85,
     "metadata": {},
     "output_type": "execute_result"
    }
   ],
   "source": [
    "sentiment_df_grouped = sentiment_df['sentiment'].value_counts()\n",
    "sentiment_df_grouped"
   ]
  },
  {
   "cell_type": "code",
   "execution_count": 86,
   "metadata": {},
   "outputs": [
    {
     "data": {
      "application/vnd.jupyter.widget-view+json": {
       "model_id": "cced05d489e3408383892ebb1633fd16",
       "version_major": 2,
       "version_minor": 0
      },
      "text/plain": [
       "BokehModel(combine_events=True, render_bundle={'docs_json': {'79e75e13-c244-4ab2-8fa4-0728ca2c36a0': {'version…"
      ]
     },
     "execution_count": 86,
     "metadata": {},
     "output_type": "execute_result"
    }
   ],
   "source": [
    "# Bar plot using hvplot\n",
    "sentiment_plot = sentiment_df_grouped.hvplot(title = \"Sentences by Sentiment Category\", kind=\"bar\")\n",
    "pn.Row(sentiment_plot)"
   ]
  },
  {
   "cell_type": "code",
   "execution_count": 87,
   "metadata": {},
   "outputs": [
    {
     "data": {
      "application/vnd.jupyter.widget-view+json": {
       "model_id": "9c69bc69c2d446c69d602d5bc655f879",
       "version_major": 2,
       "version_minor": 0
      },
      "text/plain": [
       "BokehModel(combine_events=True, render_bundle={'docs_json': {'b695fc87-5a17-4dff-81a8-483adec708a4': {'version…"
      ]
     },
     "execution_count": 87,
     "metadata": {},
     "output_type": "execute_result"
    }
   ],
   "source": [
    "positive_df = sentiment_df[sentiment_df[\"sentiment\"] == \"POSITIVE\"][[\"text\", \"sentiment\"]]\n",
    "negative_df = sentiment_df[sentiment_df[\"sentiment\"] == \"NEGATIVE\"][[\"text\", \"sentiment\"]]\n",
    "neutral_df = sentiment_df[sentiment_df[\"sentiment\"] == \"NEUTRAL\"][[\"text\", \"sentiment\"]]\n",
    "\n",
    "sentiment_tabs = pn.Tabs(('Sentiment overview', sentiment_plot), \n",
    "                       ('Positive', pn.widgets.DataFrame(positive_df, autosize_mode='fit_columns', width=700, height=300)),\n",
    "                       ('Negative', pn.widgets.DataFrame(negative_df, autosize_mode='fit_columns', width=700, height=300)),\n",
    "                       ('Neutral', pn.widgets.DataFrame(neutral_df, autosize_mode='fit_columns', width=700, height=300))\n",
    "                        )\n",
    "sentiment_tabs"
   ]
  },
  {
   "cell_type": "markdown",
   "metadata": {},
   "source": [
    "### WordCloud"
   ]
  },
  {
   "cell_type": "code",
   "execution_count": 88,
   "metadata": {},
   "outputs": [],
   "source": [
    "stopwords = set(STOPWORDS)\n",
    "transcript = data[\"text\"]\n",
    "transcript_lower = [item.lower() for item in str(transcript).split()]"
   ]
  },
  {
   "cell_type": "code",
   "execution_count": 89,
   "metadata": {},
   "outputs": [
    {
     "data": {
      "text/plain": [
       "\"i recently got an amazing opportunity. i've been learning jujitsu and a friend offered to coach me in exchange for teaching him how to code. at this point in my life where i'm trying to improve my jujitsu as quickly as possible, this was an incredible trade for me. in my personal opinion. i was all for it until i had to think about how i'd actually go about teaching someone how to code. starting from nothing, i quickly realized that this was going to be a lot harder than i thought. after all, it's been almost ten years since i wrote my very first line of code. that's a pretty long time. now, this video is about the very specific and detailed plan that i wrote for my friend to teach me the basics of coding for data science. since i did all the work for him, i figured i might as well share the details with you as well here. there have been plenty of other great videos similar to this about how to start coding, and i've linked many of them in the description. again, those are great, but i think this is a bit different because it's more focused on coding for data and it uses a very specific real world case study. at the end, i also highlight the three most important things a new programmer should know, so you definitely want to stick around for that. let's start with the language that we should start learning. i know if you're working with data, you generally have two good choices. they would either start with python or r. let's quickly compare the two languages. data science style when looking at the stack overflow developer survey, we find that about 48% of respondents use python, while only about 5% use r. in industry, python is a far more common language. let's now look more specifically at data scientists, not just all stack overflow users who come from a variety of backgrounds on kaggle, my favorite platform for data science learning and projects, we can see that around 84.2% of respondents use python, while only 20.5% use r. since these add up to more than 100%, we can assume that some data scientists are using both languages. finally, let's look at these two languages over time. we can see here. from 2020 to 2021, python has gained an adoption, while r usage has seen some attrition. to me, this is a no brainer. i recommended my friend to start learning python first. that language is more popular and it's continuing to grow. this isn't to say r is bad, it's just to say that i think python is growing and will be a more valuable skill to have for the job market in general. i also personally find it a bit more intuitive and flexible than r. now that we've chosen our language as python, what coding skills should my friend learn first? should he focus on variables, logic functions, algorithms? classes? my mind was absolutely spinning when i first addressed this. it took me a second, but i had this weird, chaotic flashback to my first days of learning programming myself. i didn't even know where to start with getting python on my own computer. i just now got excited about teaching the functional part of programming, and i completely forgot about the basics of setting up your environment for success. the next thing i did was give my friend some of my favorite resources on choosing an environment and getting the right version of python on his computer. honestly, i was a bit torn on this too. so, for example, what ide should he use? does he even know what ide stands for? for those who don't know and who are new, ide stands for integrated development environment. so this is essentially just the text editor you use to write your code. if you were writing an essay, you could choose to use microsoft word. you could use google docs, you could use notepad, or maybe even just straight up pen and paper, just like there are these different mediums for you to write your last minute paper. data scientists and software engineers need places to write their code. these places are called ides, and just like microsoft word has spell track and formatting to make sure that you don't make grammatical errors, many ides help you to make sure that you have proper syntax in your code. in theory, technically microsoft word would be considered an ide, but i definitely don't recommend using it as such unless you're juma tech. this is a list of the most commonly used ides in the data domain, and as you can see, common ides for python are vs. code, jupyter, notebook, pycharm, and spider. before anything else, i wanted to give him a decent understanding about how the development environments work before we picked one. as i mentioned, this is something that i was totally confused about when i started. when i learned to code, i was using python and i was using an ide called idle. so idle was great for learning, but i've literally never once touched it since, and i don't use it on any data projects in any of my work. i wanted to make sure that my friend was using something that would be representative of what he might see in the real world, what people actually use. for this specific friend, i recommended that he start learning the basics with this video from freecodecamp. i've linked it and all other resources in the description. so in the video they show you how to set up the pycharm environment and get comfortable using that. i think pycharm is solid, and if you get familiar with that, you can easily pick up the s code, jupyter notebook or spyder pretty quickly. truthfully, i don't think that the ide that you start with really matters that much. what's more important is that you're using one that people who actually write python code into production are using. okay, now on to the coding basics. surprisingly, i think this might be one of the simplest parts of this entire process. you see, there's a common misconception that coding is trying to trick you. there's this conspiracy that learning to code is supposed to be really hard and very scary. i would argue that it's almost the opposite. coding languages, particularly python, they're designed to be as easy to use as possible while creating good results. so if you change your perspective to look at them as intuitive, coding becomes significantly more fun and stressfree. this isn't to say that you won't get stuck, it's just to say that when you do get stuck, there's almost always a logical reason for it and a logical solution to resolve your problems. keeping with this theme of simplicity, at the most basic level, beginner coding can be broken down into seven concepts. all of the resources that i've linked in the description cover these topics, but i'm going to give you a very, very high level overview here. the first one we start with is data types. so in python you can work with numbers, you can work with text, you can work with booleans, you can work with lists or a host of different data structures. it's important to get a good understanding or a fundamental understanding of these first next, i think it makes sense to get familiar with how variables work. this can vary by language, so you need to make sure you know how to assign and change variables. in python, specifically, after variables, you should look into how logical operators work. these are very handy in your first few projects. if else statements are probably the most important one, but you can definitely find use cases for the others, especially if you're working with data. the fourth thing you need to understand is how loops work. so one thing computers are really, really great at is doing a simple task over and over again. you'd be surprised at how useful these can be for your programming future. after that, you should learn about functions. so this sets the foundation for almost everything you do on your programming journey. functions allow you to encapsulate code and reuse it. if you really think about it, good coding is about making as many reusable bits as possible, and these functions are where that really begins. at this point, you have a pretty good understanding of the key building blocks of python. you should now learn a bit more about how some of the basic data structures work. i recommend taking a deeper dive into lists, dictionaries as well as tuples. this will set the foundation for much of your data work later on. finally, you should start learning to work with libraries. so the most important ones for data are pandas, numpy, scikitlearn and matplotlib, and these give you additional tools to analyze, visualize and manipulate data. pandas and numpy also introduce some new data structures like arrays, series and data frames. so if you have an understanding of how the more basic data structures work in python, you should be able to pick these up relatively quickly. and that's it. with those seven things, you have the basics of coding that you'll need for starting to work with data. if you're watching this and you're a software engineer, you probably think i left something important out. what i've purposely omitted from this list is an explanation of classes. so classes are the foundation of object oriented programming, and objectoriented programming is a programming model that organizes code around objects rather than functions or logic. object oriented programming is incredibly powerful, but honestly, it isn't very relevant for the beginner stages of working with data. it is something you should absolutely explore on your own after you've learned these other concepts well in the description, i've linked a few great resources for learning all of the concepts, including the exact one from freecodecamp that i gave my friend. most of them are completely free, but i have also included my discount link for the course on 365 data science. so if you're looking for a resource just to take you past the more basic coding and more towards tangible data science skills, i would recommend checking that out. one thing that i love about many of the courses that i've linked is that they have these little mini projects baked into the coursework. i think project based learning is the single most effective way to learn technical concepts. after first getting a basic foundation, i highly encourage you to think about how you can use code to build things that would be useful to you. so for my friend, the first project i'm having him do is create a jujitsu drill randomizer using python. so for training anything, it's important to reinforce your skills, but it can get boring. working on the same basic drills every day. i'm having him make a program that essentially randomly selects two to three drills that we should work on during our sessions from a larger list. this is a simple project, but it's something that's directly relevant and useful to our work and our jujitsu training. with that in mind, i'd love for you to comment below with a python project that you'd like to do, and we'll all hold each other accountable. okay, so now that you've learned the basics of python, now what? if you're interested in learning more about data, i highly recommend that you do a data related project. the single best place for this is kaggle.com, which i've mentioned before. if that's a bit too intimidating, you can follow along on one of the projects that i've done, or one of the thousands of projects that other people have worked on on the kaggle platform. realistically, many people lose steam at this step. they go through and see the great work that other people have done, and they get discouraged again. honestly, i remember feeling this too. what i recommend doing is going through some of the basic notebooks, like the titanic data set, and just copying the code, running it on your own computer line by line. many people think that this is cheating, but it's actually a great way to learn. even better, when you run it, make some changes to the code and see what happens. maybe you should try changing like the colors on a graph from blue to red, or try to make a line thicker on one of the graphs. just simple things like that help you iterate and improve. so remember when we talked about ides earlier and i'd mentioned jupyter notebook? kaggle uses something similar to that that lets you work online. this is great and free compute power if you have limited resources at home. so if you want to work with data on your laptop or desktop, i recommend downloading anaconda. anaconda is a software package that lumps together all of the relevant python libraries and ides for data science in one go. so you can check out my video for how to install it, which i've linked above and in the description. finally, i have three tips to send you on your way. these are probably the most important things that a new coder can learn, so the first one is to use google and stack overflow. if you have a question, it's almost guaranteed that someone has asked it before. on the internet, getting good at finding answers on your own via search might be the single most important skill of a data scientist or a software engineer that they use every single day. the second is to use errors so your code will not run, it'll break, and you'll be sad. don't just wallow in yourself pity. read the error messages. they'll tell you something about what's wrong. also, google the errors and this will save you a lot of time and headache. finally, the third thing is to take it easy on yourself. the only people that can't code are the ones that never try or the ones that quit too early. thank you all so much for watching, and good luck on your data science and coding journey. you.\""
      ]
     },
     "execution_count": 89,
     "metadata": {},
     "output_type": "execute_result"
    }
   ],
   "source": [
    "all_words = ' '.join(transcript_lower) \n",
    "all_words"
   ]
  },
  {
   "cell_type": "code",
   "execution_count": 90,
   "metadata": {},
   "outputs": [
    {
     "data": {
      "application/vnd.plotly.v1+json": {
       "config": {
        "plotlyServerURL": "https://plot.ly"
       },
       "data": [
        {
         "hovertemplate": "x: %{x}<br>y: %{y}<br>color: [%{z[0]}, %{z[1]}, %{z[2]}]<extra></extra>",
         "name": "0",
         "source": "data:image/png;base64,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",
         "type": "image",
         "xaxis": "x",
         "yaxis": "y"
        }
       ],
       "layout": {
        "margin": {
         "t": 60
        },
        "template": {
         "data": {
          "bar": [
           {
            "error_x": {
             "color": "#2a3f5f"
            },
            "error_y": {
             "color": "#2a3f5f"
            },
            "marker": {
             "line": {
              "color": "#E5ECF6",
              "width": 0.5
             },
             "pattern": {
              "fillmode": "overlay",
              "size": 10,
              "solidity": 0.2
             }
            },
            "type": "bar"
           }
          ],
          "barpolar": [
           {
            "marker": {
             "line": {
              "color": "#E5ECF6",
              "width": 0.5
             },
             "pattern": {
              "fillmode": "overlay",
              "size": 10,
              "solidity": 0.2
             }
            },
            "type": "barpolar"
           }
          ],
          "carpet": [
           {
            "aaxis": {
             "endlinecolor": "#2a3f5f",
             "gridcolor": "white",
             "linecolor": "white",
             "minorgridcolor": "white",
             "startlinecolor": "#2a3f5f"
            },
            "baxis": {
             "endlinecolor": "#2a3f5f",
             "gridcolor": "white",
             "linecolor": "white",
             "minorgridcolor": "white",
             "startlinecolor": "#2a3f5f"
            },
            "type": "carpet"
           }
          ],
          "choropleth": [
           {
            "colorbar": {
             "outlinewidth": 0,
             "ticks": ""
            },
            "type": "choropleth"
           }
          ],
          "contour": [
           {
            "colorbar": {
             "outlinewidth": 0,
             "ticks": ""
            },
            "colorscale": [
             [
              0,
              "#0d0887"
             ],
             [
              0.1111111111111111,
              "#46039f"
             ],
             [
              0.2222222222222222,
              "#7201a8"
             ],
             [
              0.3333333333333333,
              "#9c179e"
             ],
             [
              0.4444444444444444,
              "#bd3786"
             ],
             [
              0.5555555555555556,
              "#d8576b"
             ],
             [
              0.6666666666666666,
              "#ed7953"
             ],
             [
              0.7777777777777778,
              "#fb9f3a"
             ],
             [
              0.8888888888888888,
              "#fdca26"
             ],
             [
              1,
              "#f0f921"
             ]
            ],
            "type": "contour"
           }
          ],
          "contourcarpet": [
           {
            "colorbar": {
             "outlinewidth": 0,
             "ticks": ""
            },
            "type": "contourcarpet"
           }
          ],
          "heatmap": [
           {
            "colorbar": {
             "outlinewidth": 0,
             "ticks": ""
            },
            "colorscale": [
             [
              0,
              "#0d0887"
             ],
             [
              0.1111111111111111,
              "#46039f"
             ],
             [
              0.2222222222222222,
              "#7201a8"
             ],
             [
              0.3333333333333333,
              "#9c179e"
             ],
             [
              0.4444444444444444,
              "#bd3786"
             ],
             [
              0.5555555555555556,
              "#d8576b"
             ],
             [
              0.6666666666666666,
              "#ed7953"
             ],
             [
              0.7777777777777778,
              "#fb9f3a"
             ],
             [
              0.8888888888888888,
              "#fdca26"
             ],
             [
              1,
              "#f0f921"
             ]
            ],
            "type": "heatmap"
           }
          ],
          "heatmapgl": [
           {
            "colorbar": {
             "outlinewidth": 0,
             "ticks": ""
            },
            "colorscale": [
             [
              0,
              "#0d0887"
             ],
             [
              0.1111111111111111,
              "#46039f"
             ],
             [
              0.2222222222222222,
              "#7201a8"
             ],
             [
              0.3333333333333333,
              "#9c179e"
             ],
             [
              0.4444444444444444,
              "#bd3786"
             ],
             [
              0.5555555555555556,
              "#d8576b"
             ],
             [
              0.6666666666666666,
              "#ed7953"
             ],
             [
              0.7777777777777778,
              "#fb9f3a"
             ],
             [
              0.8888888888888888,
              "#fdca26"
             ],
             [
              1,
              "#f0f921"
             ]
            ],
            "type": "heatmapgl"
           }
          ],
          "histogram": [
           {
            "marker": {
             "pattern": {
              "fillmode": "overlay",
              "size": 10,
              "solidity": 0.2
             }
            },
            "type": "histogram"
           }
          ],
          "histogram2d": [
           {
            "colorbar": {
             "outlinewidth": 0,
             "ticks": ""
            },
            "colorscale": [
             [
              0,
              "#0d0887"
             ],
             [
              0.1111111111111111,
              "#46039f"
             ],
             [
              0.2222222222222222,
              "#7201a8"
             ],
             [
              0.3333333333333333,
              "#9c179e"
             ],
             [
              0.4444444444444444,
              "#bd3786"
             ],
             [
              0.5555555555555556,
              "#d8576b"
             ],
             [
              0.6666666666666666,
              "#ed7953"
             ],
             [
              0.7777777777777778,
              "#fb9f3a"
             ],
             [
              0.8888888888888888,
              "#fdca26"
             ],
             [
              1,
              "#f0f921"
             ]
            ],
            "type": "histogram2d"
           }
          ],
          "histogram2dcontour": [
           {
            "colorbar": {
             "outlinewidth": 0,
             "ticks": ""
            },
            "colorscale": [
             [
              0,
              "#0d0887"
             ],
             [
              0.1111111111111111,
              "#46039f"
             ],
             [
              0.2222222222222222,
              "#7201a8"
             ],
             [
              0.3333333333333333,
              "#9c179e"
             ],
             [
              0.4444444444444444,
              "#bd3786"
             ],
             [
              0.5555555555555556,
              "#d8576b"
             ],
             [
              0.6666666666666666,
              "#ed7953"
             ],
             [
              0.7777777777777778,
              "#fb9f3a"
             ],
             [
              0.8888888888888888,
              "#fdca26"
             ],
             [
              1,
              "#f0f921"
             ]
            ],
            "type": "histogram2dcontour"
           }
          ],
          "mesh3d": [
           {
            "colorbar": {
             "outlinewidth": 0,
             "ticks": ""
            },
            "type": "mesh3d"
           }
          ],
          "parcoords": [
           {
            "line": {
             "colorbar": {
              "outlinewidth": 0,
              "ticks": ""
             }
            },
            "type": "parcoords"
           }
          ],
          "pie": [
           {
            "automargin": true,
            "type": "pie"
           }
          ],
          "scatter": [
           {
            "fillpattern": {
             "fillmode": "overlay",
             "size": 10,
             "solidity": 0.2
            },
            "type": "scatter"
           }
          ],
          "scatter3d": [
           {
            "line": {
             "colorbar": {
              "outlinewidth": 0,
              "ticks": ""
             }
            },
            "marker": {
             "colorbar": {
              "outlinewidth": 0,
              "ticks": ""
             }
            },
            "type": "scatter3d"
           }
          ],
          "scattercarpet": [
           {
            "marker": {
             "colorbar": {
              "outlinewidth": 0,
              "ticks": ""
             }
            },
            "type": "scattercarpet"
           }
          ],
          "scattergeo": [
           {
            "marker": {
             "colorbar": {
              "outlinewidth": 0,
              "ticks": ""
             }
            },
            "type": "scattergeo"
           }
          ],
          "scattergl": [
           {
            "marker": {
             "colorbar": {
              "outlinewidth": 0,
              "ticks": ""
             }
            },
            "type": "scattergl"
           }
          ],
          "scattermapbox": [
           {
            "marker": {
             "colorbar": {
              "outlinewidth": 0,
              "ticks": ""
             }
            },
            "type": "scattermapbox"
           }
          ],
          "scatterpolar": [
           {
            "marker": {
             "colorbar": {
              "outlinewidth": 0,
              "ticks": ""
             }
            },
            "type": "scatterpolar"
           }
          ],
          "scatterpolargl": [
           {
            "marker": {
             "colorbar": {
              "outlinewidth": 0,
              "ticks": ""
             }
            },
            "type": "scatterpolargl"
           }
          ],
          "scatterternary": [
           {
            "marker": {
             "colorbar": {
              "outlinewidth": 0,
              "ticks": ""
             }
            },
            "type": "scatterternary"
           }
          ],
          "surface": [
           {
            "colorbar": {
             "outlinewidth": 0,
             "ticks": ""
            },
            "colorscale": [
             [
              0,
              "#0d0887"
             ],
             [
              0.1111111111111111,
              "#46039f"
             ],
             [
              0.2222222222222222,
              "#7201a8"
             ],
             [
              0.3333333333333333,
              "#9c179e"
             ],
             [
              0.4444444444444444,
              "#bd3786"
             ],
             [
              0.5555555555555556,
              "#d8576b"
             ],
             [
              0.6666666666666666,
              "#ed7953"
             ],
             [
              0.7777777777777778,
              "#fb9f3a"
             ],
             [
              0.8888888888888888,
              "#fdca26"
             ],
             [
              1,
              "#f0f921"
             ]
            ],
            "type": "surface"
           }
          ],
          "table": [
           {
            "cells": {
             "fill": {
              "color": "#EBF0F8"
             },
             "line": {
              "color": "white"
             }
            },
            "header": {
             "fill": {
              "color": "#C8D4E3"
             },
             "line": {
              "color": "white"
             }
            },
            "type": "table"
           }
          ]
         },
         "layout": {
          "annotationdefaults": {
           "arrowcolor": "#2a3f5f",
           "arrowhead": 0,
           "arrowwidth": 1
          },
          "autotypenumbers": "strict",
          "coloraxis": {
           "colorbar": {
            "outlinewidth": 0,
            "ticks": ""
           }
          },
          "colorscale": {
           "diverging": [
            [
             0,
             "#8e0152"
            ],
            [
             0.1,
             "#c51b7d"
            ],
            [
             0.2,
             "#de77ae"
            ],
            [
             0.3,
             "#f1b6da"
            ],
            [
             0.4,
             "#fde0ef"
            ],
            [
             0.5,
             "#f7f7f7"
            ],
            [
             0.6,
             "#e6f5d0"
            ],
            [
             0.7,
             "#b8e186"
            ],
            [
             0.8,
             "#7fbc41"
            ],
            [
             0.9,
             "#4d9221"
            ],
            [
             1,
             "#276419"
            ]
           ],
           "sequential": [
            [
             0,
             "#0d0887"
            ],
            [
             0.1111111111111111,
             "#46039f"
            ],
            [
             0.2222222222222222,
             "#7201a8"
            ],
            [
             0.3333333333333333,
             "#9c179e"
            ],
            [
             0.4444444444444444,
             "#bd3786"
            ],
            [
             0.5555555555555556,
             "#d8576b"
            ],
            [
             0.6666666666666666,
             "#ed7953"
            ],
            [
             0.7777777777777778,
             "#fb9f3a"
            ],
            [
             0.8888888888888888,
             "#fdca26"
            ],
            [
             1,
             "#f0f921"
            ]
           ],
           "sequentialminus": [
            [
             0,
             "#0d0887"
            ],
            [
             0.1111111111111111,
             "#46039f"
            ],
            [
             0.2222222222222222,
             "#7201a8"
            ],
            [
             0.3333333333333333,
             "#9c179e"
            ],
            [
             0.4444444444444444,
             "#bd3786"
            ],
            [
             0.5555555555555556,
             "#d8576b"
            ],
            [
             0.6666666666666666,
             "#ed7953"
            ],
            [
             0.7777777777777778,
             "#fb9f3a"
            ],
            [
             0.8888888888888888,
             "#fdca26"
            ],
            [
             1,
             "#f0f921"
            ]
           ]
          },
          "colorway": [
           "#636efa",
           "#EF553B",
           "#00cc96",
           "#ab63fa",
           "#FFA15A",
           "#19d3f3",
           "#FF6692",
           "#B6E880",
           "#FF97FF",
           "#FECB52"
          ],
          "font": {
           "color": "#2a3f5f"
          },
          "geo": {
           "bgcolor": "white",
           "lakecolor": "white",
           "landcolor": "#E5ECF6",
           "showlakes": true,
           "showland": true,
           "subunitcolor": "white"
          },
          "hoverlabel": {
           "align": "left"
          },
          "hovermode": "closest",
          "mapbox": {
           "style": "light"
          },
          "paper_bgcolor": "white",
          "plot_bgcolor": "#E5ECF6",
          "polar": {
           "angularaxis": {
            "gridcolor": "white",
            "linecolor": "white",
            "ticks": ""
           },
           "bgcolor": "#E5ECF6",
           "radialaxis": {
            "gridcolor": "white",
            "linecolor": "white",
            "ticks": ""
           }
          },
          "scene": {
           "xaxis": {
            "backgroundcolor": "#E5ECF6",
            "gridcolor": "white",
            "gridwidth": 2,
            "linecolor": "white",
            "showbackground": true,
            "ticks": "",
            "zerolinecolor": "white"
           },
           "yaxis": {
            "backgroundcolor": "#E5ECF6",
            "gridcolor": "white",
            "gridwidth": 2,
            "linecolor": "white",
            "showbackground": true,
            "ticks": "",
            "zerolinecolor": "white"
           },
           "zaxis": {
            "backgroundcolor": "#E5ECF6",
            "gridcolor": "white",
            "gridwidth": 2,
            "linecolor": "white",
            "showbackground": true,
            "ticks": "",
            "zerolinecolor": "white"
           }
          },
          "shapedefaults": {
           "line": {
            "color": "#2a3f5f"
           }
          },
          "ternary": {
           "aaxis": {
            "gridcolor": "white",
            "linecolor": "white",
            "ticks": ""
           },
           "baxis": {
            "gridcolor": "white",
            "linecolor": "white",
            "ticks": ""
           },
           "bgcolor": "#E5ECF6",
           "caxis": {
            "gridcolor": "white",
            "linecolor": "white",
            "ticks": ""
           }
          },
          "title": {
           "x": 0.05
          },
          "xaxis": {
           "automargin": true,
           "gridcolor": "white",
           "linecolor": "white",
           "ticks": "",
           "title": {
            "standoff": 15
           },
           "zerolinecolor": "white",
           "zerolinewidth": 2
          },
          "yaxis": {
           "automargin": true,
           "gridcolor": "white",
           "linecolor": "white",
           "ticks": "",
           "title": {
            "standoff": 15
           },
           "zerolinecolor": "white",
           "zerolinewidth": 2
          }
         }
        },
        "xaxis": {
         "anchor": "y",
         "domain": [
          0,
          1
         ],
         "showticklabels": false
        },
        "yaxis": {
         "anchor": "x",
         "domain": [
          0,
          1
         ],
         "showticklabels": false
        }
       }
      }
     },
     "metadata": {},
     "output_type": "display_data"
    }
   ],
   "source": [
    "# Word cloud plot\n",
    "wordcloud = WordCloud(background_color='black',\n",
    "                      stopwords = stopwords,\n",
    "                      max_words = 130,\n",
    "                      colormap='cividis',\n",
    "                      collocations=False).generate(all_words)\n",
    "\n",
    "wordcloud_plot = px.imshow(wordcloud)\n",
    "\n",
    "# Remove labels on axes\n",
    "wordcloud_plot.update_xaxes(showticklabels=False)\n",
    "wordcloud_plot.update_yaxes(showticklabels=False)\n",
    "wordcloud_plot"
   ]
  },
  {
   "cell_type": "code",
   "execution_count": 91,
   "metadata": {},
   "outputs": [],
   "source": [
    "# Create interactive slider\n",
    "class Controller(param.Parameterized):\n",
    "    word_slider = param.Integer(30, bounds=(5, 50), step=5)\n",
    "\n",
    "controller = Controller()\n",
    "\n",
    "@pn.depends(controller.param.word_slider, watch=True)\n",
    "def update_wordcloud(num_words):\n",
    "    # Word cloud plot\n",
    "    wordcloud = WordCloud(background_color='black', stopwords = stopwords, max_words = num_words,\n",
    "                          colormap='viridis', collocations=False).generate(all_words)\n",
    "\n",
    "    wordcloud_plot = px.imshow(wordcloud) \n",
    "    # Remove labels on axes\n",
    "    wordcloud_plot.update_xaxes(showticklabels=False)\n",
    "    wordcloud_plot.update_yaxes(showticklabels=False)\n",
    "    return wordcloud_plot"
   ]
  },
  {
   "cell_type": "markdown",
   "metadata": {},
   "source": [
    "### Autochapter Summary"
   ]
  },
  {
   "cell_type": "code",
   "execution_count": 92,
   "metadata": {},
   "outputs": [
    {
     "data": {
      "text/plain": [
       "[{'summary': 'A friend offered to coach me in exchange for teaching him how to code. This video is more focused on coding for data and it uses a very specific real world case study. At the end, I highlight the three most important things a new programmer should know.',\n",
       "  'gist': 'How to Teach a New Coder How to Code',\n",
       "  'headline': 'A friend offered to coach me in exchange for teaching me how to code',\n",
       "  'start': 250,\n",
       "  'end': 57710},\n",
       " {'summary': 'About 48% of respondents use Python, while only about 5% use r. From 2020 to 2021, Python has gained an adoption, while R usage has seen some attrition. What coding skills should my friend learn first?',\n",
       "  'gist': 'Python vs R: The Language to Start Learning',\n",
       "  'headline': '48% of respondents use Python, while only 5% use r',\n",
       "  'start': 57780,\n",
       "  'end': 272402},\n",
       " {'summary': \"At the most basic level, beginner coding can be broken down into seven concepts. The first one we start with is data types. After that, learn about functions. Finally, learn to work with libraries. With these seven things, you have the basics of coding that you'll need for working with data.\",\n",
       "  'gist': 'Basic Coding Basics (In 6 Steps!)',\n",
       "  'headline': 'Basic coding can be broken down into seven concepts. The first one we start with is data types',\n",
       "  'start': 272536,\n",
       "  'end': 521886},\n",
       " {'summary': \"If you're interested in learning more about data, I highly recommend that you do a data related project. The single best place for this is kaggle. com. Finally, I have three tips to send you on your way.\",\n",
       "  'gist': 'Learning Python Basics in 2 Minutes',\n",
       "  'headline': \"Okay, so now that you've learned the basics of Python, now what\",\n",
       "  'start': 521998,\n",
       "  'end': 650360}]"
      ]
     },
     "execution_count": 92,
     "metadata": {},
     "output_type": "execute_result"
    }
   ],
   "source": [
    "chapters = data[\"chapters\"]\n",
    "chapters"
   ]
  },
  {
   "cell_type": "code",
   "execution_count": 93,
   "metadata": {},
   "outputs": [
    {
     "data": {
      "application/vnd.jupyter.widget-view+json": {
       "model_id": "aaa1d454d866418f8a290669105b1ea1",
       "version_major": 2,
       "version_minor": 0
      },
      "text/plain": [
       "BokehModel(combine_events=True, render_bundle={'docs_json': {'a1fe04c5-f370-4f56-83c6-ed5a1dce1fa5': {'version…"
      ]
     },
     "execution_count": 93,
     "metadata": {},
     "output_type": "execute_result"
    }
   ],
   "source": [
    "chapter_summary = pn.widgets.StaticText(value=chapters[0][\"summary\"], \n",
    "                                        width=1000, \n",
    "                                        height_policy = \"fit\")\n",
    "chapter_summary"
   ]
  },
  {
   "cell_type": "code",
   "execution_count": 94,
   "metadata": {},
   "outputs": [
    {
     "data": {
      "application/vnd.jupyter.widget-view+json": {
       "model_id": "567a2a5ba69347d19b07987730910015",
       "version_major": 2,
       "version_minor": 0
      },
      "text/plain": [
       "BokehModel(combine_events=True, render_bundle={'docs_json': {'18c419b8-c98f-4392-afa7-ea9dea2c34a6': {'version…"
      ]
     },
     "execution_count": 94,
     "metadata": {},
     "output_type": "execute_result"
    }
   ],
   "source": [
    "button = pn.widgets.Button(name=str(int(chapters[0][\"start\"]/1000)), button_type='primary')\n",
    "button"
   ]
  },
  {
   "cell_type": "code",
   "execution_count": 95,
   "metadata": {},
   "outputs": [
    {
     "data": {
      "application/vnd.jupyter.widget-view+json": {
       "model_id": "60866f4f112f4c2e901479e175835ddc",
       "version_major": 2,
       "version_minor": 0
      },
      "text/plain": [
       "BokehModel(combine_events=True, render_bundle={'docs_json': {'74b8e0f6-a548-48b7-bb2b-f41a6a4a1456': {'version…"
      ]
     },
     "execution_count": 95,
     "metadata": {},
     "output_type": "execute_result"
    }
   ],
   "source": [
    "chapter_audio = pn.pane.Audio(audio_url, name='Audio', time = round(chapters[0][\"start\"]/1000))\n",
    "chapter_audio"
   ]
  },
  {
   "cell_type": "code",
   "execution_count": 96,
   "metadata": {},
   "outputs": [
    {
     "data": {
      "application/vnd.jupyter.widget-view+json": {
       "model_id": "9a38bd6fa1f84523b68f856582a21a7f",
       "version_major": 2,
       "version_minor": 0
      },
      "text/plain": [
       "BokehModel(combine_events=True, render_bundle={'docs_json': {'0a9c6c46-f1d9-4a1a-8ab8-bf39ace8efd2': {'version…"
      ]
     },
     "execution_count": 96,
     "metadata": {},
     "output_type": "execute_result"
    }
   ],
   "source": [
    "# Create chapter summary layout\n",
    "chapters_layout = pn.Column(pn.pane.Markdown(\"### Auto Chapter Summary\"))\n",
    "\n",
    "class ButtonAudio():\n",
    "    def __init__(self, start_time):\n",
    "        self.start_time = start_time\n",
    "        self.button = pn.widgets.Button(name=str(int(self.start_time/1000)), button_type='primary', width=60)\n",
    "        self.chapter_audio = pn.pane.Audio(audio_url, name='Audio', time = round(self.start_time/1000))\n",
    "        self.button.on_click(self.move_audio_head)\n",
    "\n",
    "    def move_audio_head(self, event):\n",
    "        self.chapter_audio.time = self.start_time/1000\n",
    "        \n",
    "for chapter in chapters:\n",
    "    chapter_summary = pn.widgets.StaticText(value=chapter[\"summary\"], width=1000, height_policy = \"fit\")\n",
    "    button_audio = ButtonAudio(chapter[\"start\"])\n",
    "    button = button_audio.button\n",
    "    chapter_audio = button_audio.chapter_audio\n",
    "    chapters_layout.append(pn.Row(pn.Column(button), pn.Column(chapter_audio), pn.Column(chapter_summary)))\n",
    "    \n",
    "chapters_layout"
   ]
  },
  {
   "cell_type": "markdown",
   "metadata": {},
   "source": [
    "### Auto highlights"
   ]
  },
  {
   "cell_type": "code",
   "execution_count": 97,
   "metadata": {},
   "outputs": [
    {
     "data": {
      "text/html": [
       "<div>\n",
       "<style scoped>\n",
       "    .dataframe tbody tr th:only-of-type {\n",
       "        vertical-align: middle;\n",
       "    }\n",
       "\n",
       "    .dataframe tbody tr th {\n",
       "        vertical-align: top;\n",
       "    }\n",
       "\n",
       "    .dataframe thead th {\n",
       "        text-align: right;\n",
       "    }\n",
       "</style>\n",
       "<table border=\"1\" class=\"dataframe\">\n",
       "  <thead>\n",
       "    <tr style=\"text-align: right;\">\n",
       "      <th></th>\n",
       "      <th>count</th>\n",
       "      <th>rank</th>\n",
       "      <th>text</th>\n",
       "      <th>timestamps</th>\n",
       "    </tr>\n",
       "  </thead>\n",
       "  <tbody>\n",
       "    <tr>\n",
       "      <th>0</th>\n",
       "      <td>1</td>\n",
       "      <td>0.07</td>\n",
       "      <td>Python code</td>\n",
       "      <td>[{'start': 270152, 'end': 270882}]</td>\n",
       "    </tr>\n",
       "    <tr>\n",
       "      <th>1</th>\n",
       "      <td>7</td>\n",
       "      <td>0.06</td>\n",
       "      <td>data science</td>\n",
       "      <td>[{'start': 33388, 'end': 34002}, {'start': 679...</td>\n",
       "    </tr>\n",
       "    <tr>\n",
       "      <th>2</th>\n",
       "      <td>1</td>\n",
       "      <td>0.06</td>\n",
       "      <td>data science learning</td>\n",
       "      <td>[{'start': 88908, 'end': 89782}]</td>\n",
       "    </tr>\n",
       "    <tr>\n",
       "      <th>3</th>\n",
       "      <td>1</td>\n",
       "      <td>0.06</td>\n",
       "      <td>tangible data science skills</td>\n",
       "      <td>[{'start': 470136, 'end': 471406}]</td>\n",
       "    </tr>\n",
       "    <tr>\n",
       "      <th>4</th>\n",
       "      <td>3</td>\n",
       "      <td>0.06</td>\n",
       "      <td>data scientists</td>\n",
       "      <td>[{'start': 82508, 'end': 83378}, {'start': 100...</td>\n",
       "    </tr>\n",
       "    <tr>\n",
       "      <th>5</th>\n",
       "      <td>1</td>\n",
       "      <td>0.05</td>\n",
       "      <td>Data science style</td>\n",
       "      <td>[{'start': 67934, 'end': 69310}]</td>\n",
       "    </tr>\n",
       "    <tr>\n",
       "      <th>6</th>\n",
       "      <td>1</td>\n",
       "      <td>0.05</td>\n",
       "      <td>data frames</td>\n",
       "      <td>[{'start': 412404, 'end': 412954}]</td>\n",
       "    </tr>\n",
       "    <tr>\n",
       "      <th>7</th>\n",
       "      <td>1</td>\n",
       "      <td>0.05</td>\n",
       "      <td>different data structures</td>\n",
       "      <td>[{'start': 329480, 'end': 330450}]</td>\n",
       "    </tr>\n",
       "    <tr>\n",
       "      <th>8</th>\n",
       "      <td>1</td>\n",
       "      <td>0.05</td>\n",
       "      <td>data types</td>\n",
       "      <td>[{'start': 323272, 'end': 323982}]</td>\n",
       "    </tr>\n",
       "    <tr>\n",
       "      <th>9</th>\n",
       "      <td>1</td>\n",
       "      <td>0.05</td>\n",
       "      <td>other great videos</td>\n",
       "      <td>[{'start': 38748, 'end': 39510}]</td>\n",
       "    </tr>\n",
       "    <tr>\n",
       "      <th>10</th>\n",
       "      <td>1</td>\n",
       "      <td>0.05</td>\n",
       "      <td>many ides</td>\n",
       "      <td>[{'start': 196294, 'end': 197126}]</td>\n",
       "    </tr>\n",
       "    <tr>\n",
       "      <th>11</th>\n",
       "      <td>2</td>\n",
       "      <td>0.05</td>\n",
       "      <td>other people</td>\n",
       "      <td>[{'start': 540012, 'end': 540454}, {'start': 5...</td>\n",
       "    </tr>\n",
       "    <tr>\n",
       "      <th>12</th>\n",
       "      <td>2</td>\n",
       "      <td>0.05</td>\n",
       "      <td>many people</td>\n",
       "      <td>[{'start': 543094, 'end': 543674}, {'start': 5...</td>\n",
       "    </tr>\n",
       "    <tr>\n",
       "      <th>13</th>\n",
       "      <td>1</td>\n",
       "      <td>0.05</td>\n",
       "      <td>good coding</td>\n",
       "      <td>[{'start': 378872, 'end': 379486}]</td>\n",
       "    </tr>\n",
       "    <tr>\n",
       "      <th>14</th>\n",
       "      <td>2</td>\n",
       "      <td>0.04</td>\n",
       "      <td>object oriented programming</td>\n",
       "      <td>[{'start': 433308, 'end': 434770}, {'start': 4...</td>\n",
       "    </tr>\n",
       "  </tbody>\n",
       "</table>\n",
       "</div>"
      ],
      "text/plain": [
       "    count  rank                          text  \\\n",
       "0       1  0.07                   Python code   \n",
       "1       7  0.06                  data science   \n",
       "2       1  0.06         data science learning   \n",
       "3       1  0.06  tangible data science skills   \n",
       "4       3  0.06               data scientists   \n",
       "5       1  0.05            Data science style   \n",
       "6       1  0.05                   data frames   \n",
       "7       1  0.05     different data structures   \n",
       "8       1  0.05                    data types   \n",
       "9       1  0.05            other great videos   \n",
       "10      1  0.05                     many ides   \n",
       "11      2  0.05                  other people   \n",
       "12      2  0.05                   many people   \n",
       "13      1  0.05                   good coding   \n",
       "14      2  0.04   object oriented programming   \n",
       "\n",
       "                                           timestamps  \n",
       "0                  [{'start': 270152, 'end': 270882}]  \n",
       "1   [{'start': 33388, 'end': 34002}, {'start': 679...  \n",
       "2                    [{'start': 88908, 'end': 89782}]  \n",
       "3                  [{'start': 470136, 'end': 471406}]  \n",
       "4   [{'start': 82508, 'end': 83378}, {'start': 100...  \n",
       "5                    [{'start': 67934, 'end': 69310}]  \n",
       "6                  [{'start': 412404, 'end': 412954}]  \n",
       "7                  [{'start': 329480, 'end': 330450}]  \n",
       "8                  [{'start': 323272, 'end': 323982}]  \n",
       "9                    [{'start': 38748, 'end': 39510}]  \n",
       "10                 [{'start': 196294, 'end': 197126}]  \n",
       "11  [{'start': 540012, 'end': 540454}, {'start': 5...  \n",
       "12  [{'start': 543094, 'end': 543674}, {'start': 5...  \n",
       "13                 [{'start': 378872, 'end': 379486}]  \n",
       "14  [{'start': 433308, 'end': 434770}, {'start': 4...  "
      ]
     },
     "execution_count": 97,
     "metadata": {},
     "output_type": "execute_result"
    }
   ],
   "source": [
    "highlights = data[\"auto_highlights_result\"][\"results\"]\n",
    "highlights_df = pd.DataFrame(highlights)\n",
    "highlights_df"
   ]
  }
 ],
 "metadata": {
  "kernelspec": {
   "display_name": "Python 3",
   "language": "python",
   "name": "python3"
  },
  "language_info": {
   "codemirror_mode": {
    "name": "ipython",
    "version": 3
   },
   "file_extension": ".py",
   "mimetype": "text/x-python",
   "name": "python",
   "nbconvert_exporter": "python",
   "pygments_lexer": "ipython3",
   "version": "3.11.0"
  }
 },
 "nbformat": 4,
 "nbformat_minor": 2
}
